{
  "cells": [
    {
      "cell_type": "markdown",
      "metadata": {},
      "source": [
        "# Working with Movie Data in DataFrames\n",
        "\n",
        "In this exercise, we will work with a data frame containing information\n",
        "about popular movies. The data frame has the following columns: `title`,\n",
        "`director`, `runtime`, `year`, and `rating`.\n",
        "\n",
        "| title         | director       | runtime | year | rating |\n",
        "|---------------|----------------|---------|------|--------|\n",
        "| The Lion King | Roger Allers   | 88      | 1994 | 8.5    |\n",
        "| Frozen        | Chris Buck     | 102     | 2013 | 7.4    |\n",
        "| Toy Story     | John Lasseter  | 81      | 1995 | 8.3    |\n",
        "| Finding Nemo  | Andrew Stanton | 100     | 2003 | 8.2    |\n",
        "| Shrek         | Andrew Adamson | 90      | 2001 | 7.9    |\n",
        "| Moana         | Ron Clements   | 107     | 2016 | 7.6    |\n",
        "| Coco          | Lee Unkrich    | 105     | 2017 | 8.4    |\n",
        "| Zootopia      | Byron Howard   | 108     | 2016 | 8.0    |\n",
        "\n",
        "Here’s how we create the data frame in Python using the pandas library:"
      ],
      "id": "ffb0c2ed-8c2d-4a94-b87c-9f230b6f8b47"
    },
    {
      "cell_type": "code",
      "execution_count": null,
      "metadata": {},
      "outputs": [],
      "source": [
        "import pandas as pd\n",
        "\n",
        "title = ['The Lion King', 'Frozen', 'Toy Story', 'Finding Nemo', 'Shrek', 'Moana', 'Coco', 'Zootopia']\n",
        "director = ['Roger Allers', 'Chris Buck', 'John Lasseter', 'Andrew Stanton', 'Andrew Adamson', 'Ron Clements', 'Lee Unkrich', 'Byron Howard']\n",
        "runtime = [88, 102, 81, 100, 90, 107, 105, 108]\n",
        "year = [1994, 2013, 1995, 2003, 2001, 2016, 2017, 2016]\n",
        "rating = [8.5, 7.4, 8.3, 8.2, 7.9, 7.6, 8.4, 8.0]\n",
        "\n",
        "movieDict = {\n",
        "    'title': title,\n",
        "    'director': director,\n",
        "    'runtime': runtime,\n",
        "    'year': year,\n",
        "    'rating': rating\n",
        "}\n",
        "\n",
        "movies = pd.DataFrame(movieDict)"
      ],
      "id": "8e925c25"
    },
    {
      "cell_type": "markdown",
      "metadata": {},
      "source": [
        "Let’s explore the data frame:\n",
        "\n",
        "**Problem**: Print the first few rows of the data frame using the `head`\n",
        "method on the `movies` dataframe:"
      ],
      "id": "5dc43cfc-9bc6-4b0e-8cf1-7721bc0ef58c"
    },
    {
      "cell_type": "code",
      "execution_count": null,
      "metadata": {},
      "outputs": [],
      "source": [
        "print(CODE)"
      ],
      "id": "860bacab"
    },
    {
      "cell_type": "markdown",
      "metadata": {},
      "source": [
        "**Problem**: Check the data types of the columns using the `dtypes`\n",
        "attribute of the `movies` dataframe:"
      ],
      "id": "ed943508-c061-4fe9-8929-f7101fc7a1c9"
    },
    {
      "cell_type": "code",
      "execution_count": null,
      "metadata": {},
      "outputs": [],
      "source": [
        "print(CODE)"
      ],
      "id": "950efb0c"
    },
    {
      "cell_type": "markdown",
      "metadata": {},
      "source": [
        "**Problem**: Select the ‘title’ column and print it out:"
      ],
      "id": "16377aaa-4995-4894-a2b6-3099ef1059e4"
    },
    {
      "cell_type": "code",
      "execution_count": null,
      "metadata": {},
      "outputs": [],
      "source": [
        "print(CODE)"
      ],
      "id": "a5d8ee24"
    },
    {
      "cell_type": "markdown",
      "metadata": {},
      "source": [
        "**Problem**: Add a new column ‘animated_studio’ with these values:\n",
        "\\[‘Disney’, ‘Disney’, ‘Pixar’, ‘Pixar’, ‘DreamWorks’, ‘Disney’, ‘Pixar’,\n",
        "‘Disney’\\]:"
      ],
      "id": "1e4e19b0-cf4e-45e0-966d-ed66fab53ca9"
    },
    {
      "cell_type": "code",
      "execution_count": null,
      "metadata": {},
      "outputs": [],
      "source": [
        "CODE\n",
        "print(movies)"
      ],
      "id": "2eaae3ab"
    },
    {
      "cell_type": "markdown",
      "metadata": {},
      "source": [
        "**Problem**: Remove the ‘director’ column:"
      ],
      "id": "53e5a013-c6e6-4758-a903-e5a61b421a40"
    },
    {
      "cell_type": "code",
      "execution_count": null,
      "metadata": {},
      "outputs": [],
      "source": [
        "CODE\n",
        "print(movies)"
      ],
      "id": "324b7f61"
    },
    {
      "cell_type": "markdown",
      "metadata": {},
      "source": [
        "**Problem**: Print out the element in the 4th row and the 2nd column:"
      ],
      "id": "d0904283-beca-494a-aaa1-225d90a92f91"
    },
    {
      "cell_type": "code",
      "execution_count": null,
      "metadata": {},
      "outputs": [],
      "source": [
        "print(CODE)"
      ],
      "id": "8c63eae1"
    },
    {
      "cell_type": "markdown",
      "metadata": {},
      "source": [
        "**Problem**: Print out the element in the 1st row and the 4th column:"
      ],
      "id": "afff159c-363b-4fe5-b918-7c3fc4f3ff59"
    },
    {
      "cell_type": "code",
      "execution_count": null,
      "metadata": {},
      "outputs": [],
      "source": [
        "print(CODE)"
      ],
      "id": "2b96da51"
    }
  ],
  "nbformat": 4,
  "nbformat_minor": 5,
  "metadata": {
    "kernelspec": {
      "name": "python3",
      "display_name": "Python 3 (ipykernel)",
      "language": "python"
    }
  }
}
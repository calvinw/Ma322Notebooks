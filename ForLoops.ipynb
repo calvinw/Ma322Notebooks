{
  "cells": [
    {
      "cell_type": "markdown",
      "metadata": {},
      "source": [
        "# For Loops in Python\n",
        "\n",
        "For loops in Python are used to iterate over a sequence (such as a list,\n",
        "tuple, or string) or other iterable objects.\n",
        "\n",
        "## Iterating over a List"
      ],
      "id": "e75c7634-d6f4-46c8-8483-93950e8c15fd"
    },
    {
      "cell_type": "code",
      "execution_count": null,
      "metadata": {},
      "outputs": [],
      "source": [
        "# List of fruits\n",
        "fruits = ['apple', 'banana', 'cherry', 'orange']\n",
        "\n",
        "# Iterate over the list\n",
        "for fruit in fruits:\n",
        "    print(fruit)"
      ],
      "id": "d988c920"
    },
    {
      "cell_type": "markdown",
      "metadata": {},
      "source": [
        "## Iterating over a Range"
      ],
      "id": "33d91c0e-9ee6-46d5-8a1e-c6c7b7e70b71"
    },
    {
      "cell_type": "code",
      "execution_count": null,
      "metadata": {},
      "outputs": [],
      "source": [
        "# Iterate over a range of numbers\n",
        "for i in range(5):\n",
        "    print(i)"
      ],
      "id": "3e7e8362"
    },
    {
      "cell_type": "markdown",
      "metadata": {},
      "source": [
        "## Iterating over a String"
      ],
      "id": "083d9905-3443-4fa1-a948-a6b70a85a29d"
    },
    {
      "cell_type": "code",
      "execution_count": null,
      "metadata": {},
      "outputs": [],
      "source": [
        "# A string\n",
        "greeting = \"Hello, World!\"\n",
        "\n",
        "# Iterate over the string\n",
        "for char in greeting:\n",
        "    print(char)"
      ],
      "id": "0b9fbb91"
    }
  ],
  "nbformat": 4,
  "nbformat_minor": 5,
  "metadata": {
    "kernelspec": {
      "name": "python3",
      "display_name": "Python 3 (ipykernel)",
      "language": "python"
    }
  }
}
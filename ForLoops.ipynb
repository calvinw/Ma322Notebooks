{
  "cells": [
    {
      "cell_type": "markdown",
      "metadata": {},
      "source": [
        "# For Loops in Python\n",
        "\n",
        "For loops in Python are used to iterate over a sequence (such as a list,\n",
        "tuple, or string) or other iterable objects.\n",
        "\n",
        "## Iterating over a List"
      ],
      "id": "ee3f3c53-632b-450c-95ca-db9807d1c45e"
    },
    {
      "cell_type": "code",
      "execution_count": null,
      "metadata": {},
      "outputs": [],
      "source": [
        "# List of fruits\n",
        "fruits = ['apple', 'banana', 'cherry', 'orange']\n",
        "\n",
        "# Iterate over the list\n",
        "for fruit in fruits:\n",
        "    print(fruit)"
      ],
      "id": "02d48010"
    },
    {
      "cell_type": "markdown",
      "metadata": {},
      "source": [
        "## Iterating over a Range\n",
        "\n",
        "If you use the `range()` function you can loop over the values in a\n",
        "range."
      ],
      "id": "16c61df3-e3fc-4b3c-a56c-b0f149ce64ea"
    },
    {
      "cell_type": "code",
      "execution_count": null,
      "metadata": {},
      "outputs": [],
      "source": [
        "# Iterate over a range of numbers\n",
        "for i in range(5):\n",
        "    print(i)"
      ],
      "id": "fa06643a"
    },
    {
      "cell_type": "code",
      "execution_count": null,
      "metadata": {},
      "outputs": [],
      "source": [
        "# Iterate over a range of numbers\n",
        "for i in range(3,7):\n",
        "    print(i)"
      ],
      "id": "0509cc3d"
    },
    {
      "cell_type": "markdown",
      "metadata": {},
      "source": [
        "## Iterating over a String"
      ],
      "id": "bd0db0d7-a58d-42f4-a979-ffb788418d70"
    },
    {
      "cell_type": "code",
      "execution_count": null,
      "metadata": {},
      "outputs": [],
      "source": [
        "# A string\n",
        "greeting = \"Hello, World!\"\n",
        "\n",
        "# Iterate over the string\n",
        "for char in greeting:\n",
        "    print(char)"
      ],
      "id": "ef23bc7d"
    }
  ],
  "nbformat": 4,
  "nbformat_minor": 5,
  "metadata": {
    "kernelspec": {
      "name": "python3",
      "display_name": "Python 3 (ipykernel)",
      "language": "python"
    }
  }
}
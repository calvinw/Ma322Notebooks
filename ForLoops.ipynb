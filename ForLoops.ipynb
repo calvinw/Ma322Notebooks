{
  "cells": [
    {
      "cell_type": "markdown",
      "metadata": {},
      "source": [
        "# For Loops in Python\n",
        "\n",
        "For loops in Python are used to iterate over a sequence (such as a list,\n",
        "tuple, or string) or other iterable objects.\n",
        "\n",
        "## Iterating over a List"
      ],
      "id": "327e0c5e-0354-487f-a123-5a7b53db3144"
    },
    {
      "cell_type": "code",
      "execution_count": null,
      "metadata": {},
      "outputs": [],
      "source": [
        "# List of fruits\n",
        "fruits = ['apple', 'banana', 'cherry', 'orange']\n",
        "\n",
        "# Iterate over the list\n",
        "for fruit in fruits:\n",
        "    print(fruit)"
      ],
      "id": "34392b75"
    },
    {
      "cell_type": "markdown",
      "metadata": {},
      "source": [
        "## Iterating over a Range\n",
        "\n",
        "If you use the `range()` function you can loop over the values in a\n",
        "range."
      ],
      "id": "4e813949-9928-4242-b3fe-de3ef0101b9b"
    },
    {
      "cell_type": "code",
      "execution_count": null,
      "metadata": {},
      "outputs": [],
      "source": [
        "# Iterate over a range of numbers\n",
        "for i in range(5):\n",
        "    print(i)"
      ],
      "id": "e930dc4b"
    },
    {
      "cell_type": "code",
      "execution_count": null,
      "metadata": {},
      "outputs": [],
      "source": [
        "# Iterate over a range of numbers\n",
        "for i in range(3,7):\n",
        "    print(i)"
      ],
      "id": "99741938"
    },
    {
      "cell_type": "markdown",
      "metadata": {},
      "source": [
        "## Iterating over a String"
      ],
      "id": "96005e30-ce7c-44fa-a271-8e170d16ecb1"
    },
    {
      "cell_type": "code",
      "execution_count": null,
      "metadata": {},
      "outputs": [],
      "source": [
        "# A string\n",
        "greeting = \"Hello, World!\"\n",
        "\n",
        "# Iterate over the string\n",
        "for char in greeting:\n",
        "    print(char)"
      ],
      "id": "dd471a0f"
    }
  ],
  "nbformat": 4,
  "nbformat_minor": 5,
  "metadata": {
    "kernelspec": {
      "name": "python3",
      "display_name": "Python 3 (ipykernel)",
      "language": "python"
    }
  }
}
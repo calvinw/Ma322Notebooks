{
  "cells": [
    {
      "cell_type": "markdown",
      "metadata": {},
      "source": [
        "# For Loops in Python\n",
        "\n",
        "For loops in Python are used to iterate over a sequence (such as a list,\n",
        "tuple, or string) or other iterable objects.\n",
        "\n",
        "## Iterating over a List"
      ],
      "id": "6bffe2fb-438f-4f27-8a89-01bf58aeb982"
    },
    {
      "cell_type": "code",
      "execution_count": null,
      "metadata": {},
      "outputs": [],
      "source": [
        "# List of fruits\n",
        "fruits = ['apple', 'banana', 'cherry', 'orange']\n",
        "\n",
        "# Iterate over the list\n",
        "for fruit in fruits:\n",
        "    print(fruit)"
      ],
      "id": "7eeda570"
    },
    {
      "cell_type": "markdown",
      "metadata": {},
      "source": [
        "## Iterating over a Range\n",
        "\n",
        "If you use the `range()` function you can loop over the values in a\n",
        "range."
      ],
      "id": "48234b42-f04c-45b6-86d2-535c1d713f32"
    },
    {
      "cell_type": "code",
      "execution_count": null,
      "metadata": {},
      "outputs": [],
      "source": [
        "# Iterate over a range of numbers\n",
        "for i in range(5):\n",
        "    print(i)"
      ],
      "id": "12042f10"
    },
    {
      "cell_type": "code",
      "execution_count": null,
      "metadata": {},
      "outputs": [],
      "source": [
        "# Iterate over a range of numbers\n",
        "for i in range(3,7):\n",
        "    print(i)"
      ],
      "id": "49e8c972"
    },
    {
      "cell_type": "markdown",
      "metadata": {},
      "source": [
        "## Iterating over a String"
      ],
      "id": "ce025103-eb00-4f03-a057-96ad1869096e"
    },
    {
      "cell_type": "code",
      "execution_count": null,
      "metadata": {},
      "outputs": [],
      "source": [
        "# A string\n",
        "greeting = \"Hello, World!\"\n",
        "\n",
        "# Iterate over the string\n",
        "for char in greeting:\n",
        "    print(char)"
      ],
      "id": "a4a14150"
    }
  ],
  "nbformat": 4,
  "nbformat_minor": 5,
  "metadata": {
    "kernelspec": {
      "name": "python3",
      "display_name": "Python 3 (ipykernel)",
      "language": "python"
    }
  }
}
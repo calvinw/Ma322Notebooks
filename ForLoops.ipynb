{
  "cells": [
    {
      "cell_type": "markdown",
      "metadata": {},
      "source": [
        "# For Loops in Python\n",
        "\n",
        "For loops in Python are used to iterate over a sequence (such as a list,\n",
        "tuple, or string) or other iterable objects.\n",
        "\n",
        "## Iterating over a List"
      ],
      "id": "f6dcb24e-8cff-48c4-a0a4-35cac44c1578"
    },
    {
      "cell_type": "code",
      "execution_count": null,
      "metadata": {},
      "outputs": [],
      "source": [
        "# List of fruits\n",
        "fruits = ['apple', 'banana', 'cherry', 'orange']\n",
        "\n",
        "# Iterate over the list\n",
        "for fruit in fruits:\n",
        "    print(fruit)"
      ],
      "id": "028a6c44"
    },
    {
      "cell_type": "markdown",
      "metadata": {},
      "source": [
        "## Iterating over a Range\n",
        "\n",
        "If you use the `range()` function you can loop over the values in a\n",
        "range."
      ],
      "id": "a9ac55e5-85b3-4250-b4f2-ffc626f3608b"
    },
    {
      "cell_type": "code",
      "execution_count": null,
      "metadata": {},
      "outputs": [],
      "source": [
        "# Iterate over a range of numbers\n",
        "for i in range(5):\n",
        "    print(i)"
      ],
      "id": "08866b9f"
    },
    {
      "cell_type": "code",
      "execution_count": null,
      "metadata": {},
      "outputs": [],
      "source": [
        "# Iterate over a range of numbers\n",
        "for i in range(3,7):\n",
        "    print(i)"
      ],
      "id": "5564f467"
    },
    {
      "cell_type": "markdown",
      "metadata": {},
      "source": [
        "## Iterating over a String"
      ],
      "id": "dc9ef21d-4af6-402c-b1ac-98859e886609"
    },
    {
      "cell_type": "code",
      "execution_count": null,
      "metadata": {},
      "outputs": [],
      "source": [
        "# A string\n",
        "greeting = \"Hello, World!\"\n",
        "\n",
        "# Iterate over the string\n",
        "for char in greeting:\n",
        "    print(char)"
      ],
      "id": "44aa3202"
    }
  ],
  "nbformat": 4,
  "nbformat_minor": 5,
  "metadata": {
    "kernelspec": {
      "name": "python3",
      "display_name": "Python 3 (ipykernel)",
      "language": "python"
    }
  }
}
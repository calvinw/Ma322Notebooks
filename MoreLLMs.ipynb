{
  "cells": [
    {
      "cell_type": "markdown",
      "metadata": {},
      "source": [
        "# More LLMS\n",
        "\n",
        "## Set up your `OPENAI_API_KEY`"
      ],
      "id": "997ab254-3fc8-4e03-bab9-5ed9894ff0cb"
    },
    {
      "cell_type": "code",
      "execution_count": null,
      "metadata": {},
      "outputs": [],
      "source": [
        "import os\n",
        "\n",
        "if os.environ.get(\"OPENAI_API_KEY\") is None:\n",
        "   os.environ[\"OPENAI_API_KEY\"] = \"sk-...\" #set your api key here."
      ],
      "id": "712d5067"
    },
    {
      "cell_type": "markdown",
      "metadata": {},
      "source": [
        "## Install Packages to Call the LLM\n",
        "\n",
        "For this part we set up the LLM."
      ],
      "id": "ca242b4b-8e49-4c62-82ca-fe8acb40bad0"
    },
    {
      "cell_type": "code",
      "execution_count": null,
      "metadata": {},
      "outputs": [],
      "source": [
        "!pip3 install langchain\n",
        "!pip3 install langchain-openai\n",
        "!pip3 install openai"
      ],
      "id": "0693fd61"
    },
    {
      "cell_type": "code",
      "execution_count": null,
      "metadata": {},
      "outputs": [],
      "source": [
        "from langchain_openai import ChatOpenAI\n",
        "import textwrap\n",
        "\n",
        "def wrap_text(text, max_width=80):\n",
        "    \"\"\"\n",
        "    Wraps the text to the specified max_width, preserving line breaks and formatting.\n",
        "    \"\"\"\n",
        "    lines = text.splitlines()  # Split the text into lines\n",
        "    wrapped_lines = []\n",
        "\n",
        "    for line in lines:\n",
        "        if line.strip():  # Skip empty lines\n",
        "            wrapped_line = textwrap.fill(line, max_width, initial_indent='', subsequent_indent='')\n",
        "            wrapped_lines.extend(wrapped_line.splitlines())  # Preserve line breaks\n",
        "        else:\n",
        "            wrapped_lines.append('')  # Keep empty lines\n",
        "\n",
        "    return '\\n'.join(wrapped_lines)\n",
        "\n",
        "\n",
        "def print_prompt_and_response(prompt, response):\n",
        "    print(\"Prompt: \")\n",
        "    print(prompt)\n",
        "    print(\"\")\n",
        "    print(\"Response: \")\n",
        "    print(response)\n",
        "    print(80*\"=\")\n",
        "\n",
        "def get_completion(prompt, temperature=0.0):\n",
        "    # Create the OpenAI LLM\n",
        "    llm = ChatOpenAI(\n",
        "               model_name =\"gpt-3.5-turbo\",\n",
        "               temperature=temperature\n",
        "             )\n",
        "\n",
        "    # Call the LLM with the prompt\n",
        "    response = llm.invoke(prompt)\n",
        "    wrapped_response = wrap_text(response.content)\n",
        "    return wrapped_response"
      ],
      "id": "11c2a76a"
    },
    {
      "cell_type": "markdown",
      "metadata": {},
      "source": [
        "## Template For Asking For a Capital\n",
        "\n",
        "Create a template string with a template variable `place` for asking the\n",
        "LLM to give you the capital of `place`. Then evaulate the template\n",
        "variable using `\"Texas\"`\n",
        "\n",
        "Finally call the LLM and get the response and print the response.\n",
        "\n",
        "Fill in the appropriate sections of the code below where you see the\n",
        "word CODE."
      ],
      "id": "9ab38703-c457-4de7-bf4f-ff38a8ce042d"
    },
    {
      "cell_type": "code",
      "execution_count": null,
      "metadata": {},
      "outputs": [],
      "source": [
        "# Define template here\n",
        "CODE\n",
        "\n",
        "# Evaluate the template with place=\"Texas\"\n",
        "prompt=template.format(CODE)\n",
        "\n",
        "# Call get_completion and get the response, then print it.\n",
        "CODE"
      ],
      "id": "d9ed5e9e"
    },
    {
      "cell_type": "markdown",
      "metadata": {},
      "source": [
        "## Adding a Variable Called `num`\n",
        "\n",
        "Add another template variable called `num` to the template and ask the\n",
        "LLM to provide you with `num` facts about the capital that you specified\n",
        "with `place`. Print out the response"
      ],
      "id": "82ef1ba3-c6fb-492a-9240-cc293a8df90b"
    },
    {
      "cell_type": "code",
      "execution_count": null,
      "metadata": {},
      "outputs": [],
      "source": [
        "# Define template here\n",
        "CODE\n",
        "\n",
        "# Evaluate the template for \"Texas\" and 3 facts\n",
        "prompt=template.format(CODE)\n",
        "\n",
        "# Call get_completion and get the response, then print it.\n",
        "CODE"
      ],
      "id": "c2e1e1a3"
    },
    {
      "cell_type": "markdown",
      "metadata": {},
      "source": [
        "## Ask To Format the Response\n",
        "\n",
        "Add a template variable called `format` so you can pass in the desired\n",
        "format for the facts that are given."
      ],
      "id": "ad6233e5-49b2-41bf-8947-d7ba4e4d730e"
    },
    {
      "cell_type": "code",
      "execution_count": null,
      "metadata": {},
      "outputs": [],
      "source": [
        "# Define template here\n",
        "CODE\n",
        "\n",
        "# Evaluate the template for \"Texas\" and 3 facts\n",
        "prompt=template.format(CODE)\n",
        "\n",
        "# Call get_completion and get the response, then print it.\n",
        "CODE"
      ],
      "id": "dcbb0400"
    },
    {
      "cell_type": "markdown",
      "metadata": {},
      "source": [
        "## Asking About Several Capitals\n",
        "\n",
        "Let’s see how this looks if we ask for the capital of several places.\n",
        "\n",
        "Replace CODE below to create a template, then create a list called\n",
        "`myPlaces` of places to use. Use California, Missouri, Florida, Germany\n",
        "and use 3 facts about the capitals and use upper case for the format."
      ],
      "id": "95f861bd-f2a0-4c21-bb7d-7a1a7f5091c4"
    },
    {
      "cell_type": "code",
      "execution_count": null,
      "metadata": {},
      "outputs": [],
      "source": [
        "# Define template here\n",
        "CODE\n",
        "\n",
        "# Create the list of places.\n",
        "myPlaces = CODE\n",
        "\n",
        "# Loop through the myPlaces\n",
        "for place in myPlaces:\n",
        "  prompt = template.format(CODE)\n",
        "  # Call get_completion, then print_prompt_and_completion\n",
        "  CODE"
      ],
      "id": "907ac4af"
    }
  ],
  "nbformat": 4,
  "nbformat_minor": 5,
  "metadata": {
    "kernelspec": {
      "name": "python3",
      "display_name": "Python 3 (ipykernel)",
      "language": "python"
    }
  }
}
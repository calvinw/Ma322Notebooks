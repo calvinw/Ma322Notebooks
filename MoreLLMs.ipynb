{
  "cells": [
    {
      "cell_type": "markdown",
      "metadata": {},
      "source": [
        "# More LLMS\n",
        "\n",
        "## Set up your `OPENAI_API_KEY`"
      ],
      "id": "2add6d35-2df3-4f8e-ab98-1c70d26cb68f"
    },
    {
      "cell_type": "code",
      "execution_count": null,
      "metadata": {},
      "outputs": [],
      "source": [
        "import os\n",
        "\n",
        "if os.environ.get(\"OPENAI_API_KEY\") is None:\n",
        "   os.environ[\"OPENAI_API_KEY\"] = \"paste your api key here\""
      ],
      "id": "6cbe4ced"
    },
    {
      "cell_type": "markdown",
      "metadata": {},
      "source": [
        "## Install Packages to Call the LLM\n",
        "\n",
        "For this part we set up the LLM."
      ],
      "id": "1e8cf667-1f92-458e-83eb-fb80b55a3b84"
    },
    {
      "cell_type": "code",
      "execution_count": null,
      "metadata": {},
      "outputs": [],
      "source": [
        "!pip3 install openai"
      ],
      "id": "4a83abeb"
    },
    {
      "cell_type": "code",
      "execution_count": null,
      "metadata": {},
      "outputs": [],
      "source": [
        "import openai\n",
        "import textwrap\n",
        "\n",
        "def wrap_text(text, max_width=80):\n",
        "    \"\"\"\n",
        "    Wraps the text to the specified max_width, preserving line breaks and formatting.\n",
        "    \"\"\"\n",
        "    lines = text.splitlines()  # Split the text into lines\n",
        "    wrapped_lines = []\n",
        "\n",
        "    for line in lines:\n",
        "        if line.strip():  # Skip empty lines\n",
        "            wrapped_line = textwrap.fill(line, max_width, initial_indent='', subsequent_indent='')\n",
        "            wrapped_lines.extend(wrapped_line.splitlines())  # Preserve line breaks\n",
        "        else:\n",
        "            wrapped_lines.append('')  # Keep empty lines\n",
        "\n",
        "    return '\\n'.join(wrapped_lines)\n",
        "\n",
        "\n",
        "def print_prompt_and_response(prompt, response):\n",
        "    print(\"Prompt: \")\n",
        "    print(prompt)\n",
        "    print(\"\")\n",
        "    print(\"Response: \")\n",
        "    print(response)\n",
        "    print(80*\"=\")\n",
        "\n",
        "def get_completion(prompt, temperature=0.0):\n",
        "    # Create the OpenAI LLM\n",
        "    client = openai.OpenAI()\n",
        "    chat_completion = client.chat.completions.create(\n",
        "                           model=\"gpt-3.5-turbo\",\n",
        "                           messages=[{\"role\": \"user\", \"content\": prompt}],\n",
        "                           temperature=temperature,\n",
        "                           max_tokens=1024)\n",
        "\n",
        "    response = chat_completion.choices[0].message.content\n",
        "    wrapped_response = wrap_text(response)\n",
        "    return wrapped_response"
      ],
      "id": "dbe53070"
    },
    {
      "cell_type": "markdown",
      "metadata": {},
      "source": [
        "## Calling an LLM\n",
        "\n",
        "Choose a question and set up the code to send the question to the LLM.\n",
        "Any question you like."
      ],
      "id": "105ec83f-a42a-4aa9-b657-e825529506c5"
    },
    {
      "cell_type": "code",
      "execution_count": null,
      "metadata": {},
      "outputs": [],
      "source": [
        "# Define your prompt here\n",
        "CODE\n",
        "\n",
        "# Call get_completion and get the response, then print it.\n",
        "CODE"
      ],
      "id": "eafe0001"
    },
    {
      "cell_type": "markdown",
      "metadata": {},
      "source": [
        "## Calling an LLM with `temperature=0.0`\n",
        "\n",
        "Call the LLM 3 times with your question above, using temperature 0.0 for\n",
        "these."
      ],
      "id": "27b32a2a-5265-471a-a39c-ed0704f01cb1"
    },
    {
      "cell_type": "code",
      "execution_count": null,
      "metadata": {},
      "outputs": [],
      "source": [
        "#Set up a prompt\n",
        "CODE\n",
        "\n",
        "print(\"Calling the LLM with temperature 0.0\")\n",
        "# Set up a for loop and call your LLM 3 times with temperature 0.0\n",
        "CODE"
      ],
      "id": "b67570c0"
    },
    {
      "cell_type": "markdown",
      "metadata": {},
      "source": [
        "## Calling an LLM with `temperature=0.7`\n",
        "\n",
        "Call the LLM 3 times with your question above, using temperature 0.7 for\n",
        "these."
      ],
      "id": "9d907a93-8902-4255-8745-c4c8c5665471"
    },
    {
      "cell_type": "code",
      "execution_count": null,
      "metadata": {},
      "outputs": [],
      "source": [
        "#Set up a prompt\n",
        "CODE\n",
        "\n",
        "print(\"Calling the LLM with temperature 0.7\")\n",
        "# Set up a for loop and call your LLM 3 times with temperature 0.7\n",
        "CODE"
      ],
      "id": "9db94bc2"
    },
    {
      "cell_type": "markdown",
      "metadata": {},
      "source": [
        "## Template For Asking For a Capital\n",
        "\n",
        "Create a template string with a template variable `place` for asking the\n",
        "LLM to give you the capital of `place`. Then evaulate the template\n",
        "variable using `\"Texas\"`\n",
        "\n",
        "Finally call the LLM and get the response and print the response.\n",
        "\n",
        "Fill in the appropriate sections of the code below where you see the\n",
        "word CODE."
      ],
      "id": "9daa9331-f321-4154-993d-5f5f686ea12b"
    },
    {
      "cell_type": "code",
      "execution_count": null,
      "metadata": {},
      "outputs": [],
      "source": [
        "# Define template here\n",
        "CODE\n",
        "\n",
        "# Evaluate the template with place=\"Texas\"\n",
        "prompt=template.format(CODE)\n",
        "\n",
        "# Call get_completion and get the response, then print it.\n",
        "CODE"
      ],
      "id": "b83fa630"
    },
    {
      "cell_type": "markdown",
      "metadata": {},
      "source": [
        "## Adding a Variable Called `num`\n",
        "\n",
        "Add another template variable called `num` to the template and ask the\n",
        "LLM to provide you with `num` facts about the capital that you specified\n",
        "with `place`. Print out the response"
      ],
      "id": "d5e9be1e-9e56-4338-8b68-a189f38fcd1e"
    },
    {
      "cell_type": "code",
      "execution_count": null,
      "metadata": {},
      "outputs": [],
      "source": [
        "# Define template here\n",
        "CODE\n",
        "\n",
        "# Evaluate the template for \"Texas\" and 3 facts\n",
        "prompt=template.format(CODE)\n",
        "\n",
        "# Call get_completion and get the response, then print it.\n",
        "CODE"
      ],
      "id": "7d58fa37"
    },
    {
      "cell_type": "markdown",
      "metadata": {},
      "source": [
        "## Ask To Format the Response\n",
        "\n",
        "Add a template variable called `format` so you can pass in the desired\n",
        "format for the facts that are given."
      ],
      "id": "c8113312-f725-47ae-9b53-274c4bc8c776"
    },
    {
      "cell_type": "code",
      "execution_count": null,
      "metadata": {},
      "outputs": [],
      "source": [
        "# Define template here\n",
        "CODE\n",
        "\n",
        "# Evaluate the template for \"Texas\" and 3 facts\n",
        "prompt=template.format(CODE)\n",
        "\n",
        "# Call get_completion and get the response, then print it.\n",
        "CODE"
      ],
      "id": "8ffc3208"
    },
    {
      "cell_type": "markdown",
      "metadata": {},
      "source": [
        "## Asking About Several Capitals\n",
        "\n",
        "Let’s see how this looks if we ask for the capital of several places.\n",
        "\n",
        "Replace CODE below to create a template, then create a list called\n",
        "`myPlaces` of places to use. Use California, Missouri, Florida, Germany\n",
        "and use 3 facts about the capitals and use upper case for the format."
      ],
      "id": "62ac9ec0-9672-4f61-aee9-a35d7a6d0277"
    },
    {
      "cell_type": "code",
      "execution_count": null,
      "metadata": {},
      "outputs": [],
      "source": [
        "# Define template here\n",
        "CODE\n",
        "\n",
        "# Create the list of places.\n",
        "myPlaces = CODE\n",
        "\n",
        "# Loop through the myPlaces\n",
        "for place in myPlaces:\n",
        "  prompt = template.format(CODE)\n",
        "  # Call get_completion, then print_prompt_and_completion\n",
        "  CODE"
      ],
      "id": "3a24d5d8"
    }
  ],
  "nbformat": 4,
  "nbformat_minor": 5,
  "metadata": {
    "kernelspec": {
      "name": "python3",
      "display_name": "Python 3 (ipykernel)",
      "language": "python"
    }
  }
}
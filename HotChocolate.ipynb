{
  "cells": [
    {
      "cell_type": "markdown",
      "metadata": {},
      "source": [
        "# Hot Chocolate - Decision Trees\n",
        "\n",
        "## Introduction\n",
        "\n",
        "We’ll explore decision trees using a simple example: predicting whether\n",
        "a person will make a purchase based on weather conditions (humidity and\n",
        "wind). This example will help understand how decision trees work.\n",
        "\n",
        "## Setting Up Our Helper Functions\n",
        "\n",
        "First, we’ll create some helper functions to make our trees easier to\n",
        "read and understand:"
      ],
      "id": "d0841db3-451b-4e0f-aa06-1809070b1cf5"
    },
    {
      "cell_type": "code",
      "execution_count": null,
      "metadata": {},
      "outputs": [],
      "source": [
        "def clean_tree_text(tree_text):\n",
        "    # Dictionary of all replacements\n",
        "    replacements = {\n",
        "        \"humid_high <= 0.50\": \"Normal Humidity?\",\n",
        "        \"humid_high >  0.50\": \"High Humidity?\",\n",
        "        \"humid_normal <= 0.50\": \"High Humidity?\",\n",
        "        \"humid_normal >  0.50\": \"Normal Humidity?\",\n",
        "        \"windy_windy <= 0.50\": \"Calm?\",\n",
        "        \"windy_windy >  0.50\": \"Windy?\",\n",
        "        \"windy_calm <= 0.50\": \"Windy?\",\n",
        "        \"windy_calm >  0.50\": \"Calm?\",\n",
        "        \"class:\": \"\"\n",
        "    }\n",
        "    \n",
        "    # Apply all replacements\n",
        "    clean_text = tree_text\n",
        "    for old, new in replacements.items():\n",
        "        clean_text = clean_text.replace(old, new)\n",
        "    \n",
        "    return clean_text\n",
        "\n",
        "def print_clean_tree(classifier, columns):\n",
        "    tree_text = export_text(classifier, feature_names=list(columns))\n",
        "    print(\"\\nDecision Tree:\")\n",
        "    print(clean_tree_text(tree_text))\n",
        "\n",
        "def print_tree(classifier, columns):\n",
        "    tree_text = export_text(classifier, feature_names=list(columns))\n",
        "    print(\"\\nDecision Tree:\")\n",
        "    print(tree_text)"
      ],
      "id": "0ea30605"
    },
    {
      "cell_type": "markdown",
      "metadata": {},
      "source": [
        "## The Training Data\n",
        "\n",
        "Here’s our training data - this is what we’ll use to teach our decision\n",
        "tree how to make predictions:"
      ],
      "id": "52dc59ed-538c-464f-91e2-acbc6d94b9e4"
    },
    {
      "cell_type": "code",
      "execution_count": null,
      "metadata": {},
      "outputs": [],
      "source": [
        "import pandas as pd\n",
        "from sklearn.tree import DecisionTreeClassifier, export_text\n",
        "from sklearn.metrics import confusion_matrix\n",
        "\n",
        "# Data\n",
        "train = pd.DataFrame({\n",
        "    'humid': ['high', 'high', 'high', 'normal', 'normal', 'normal', 'high', 'high', 'normal', 'normal', 'normal', 'high'],\n",
        "    'windy': ['windy', 'calm', 'calm', 'calm', 'calm', 'calm', 'windy', 'windy', 'windy', 'windy', 'windy', 'calm'],\n",
        "    'buys': ['no', 'no', 'yes', 'yes', 'yes', 'no', 'no', 'no', 'yes', 'yes', 'yes', 'yes']\n",
        "})\n",
        "print(\"Training Data - What we'll use to teach our decision tree:\")\n",
        "print(train)"
      ],
      "id": "2ade2b97"
    },
    {
      "cell_type": "markdown",
      "metadata": {},
      "source": [
        "## The Testing Data\n",
        "\n",
        "This is our testing data - we’ll use this to see how well our tree makes\n",
        "predictions on new data it hasn’t seen before:"
      ],
      "id": "4b01d517-d038-467a-83f2-c2f53ece4d0a"
    },
    {
      "cell_type": "code",
      "execution_count": null,
      "metadata": {},
      "outputs": [],
      "source": [
        "test = pd.DataFrame({\n",
        "    'humid': ['high', 'normal', 'high', 'normal', 'normal', 'normal', 'high', 'normal', 'normal'],\n",
        "    'windy': ['calm', 'calm', 'calm', 'windy', 'windy', 'calm', 'calm', 'calm', 'calm'],\n",
        "    'buys': ['no', 'yes', 'yes', 'yes', 'yes', 'no', 'no', 'yes', 'no']\n",
        "})\n",
        "print(\"Testing Data - We'll use this to test our tree's predictions:\")\n",
        "print(test)"
      ],
      "id": "0fd896c3"
    },
    {
      "cell_type": "markdown",
      "metadata": {},
      "source": [
        "## Model 1: Humidity Only Tree\n",
        "\n",
        "Let’s first try to predict buying behavior using only humidity:\n",
        "\n",
        "First we sort the tree based on humidity:"
      ],
      "id": "20154d6e-391b-4ecb-80af-01598071f578"
    },
    {
      "cell_type": "code",
      "execution_count": null,
      "metadata": {},
      "outputs": [],
      "source": [
        "# Show training data sorted by humid \n",
        "print(\"Training Data Sorted by Humid:\")\n",
        "print(train.sort_values('humid'))"
      ],
      "id": "f1a408d5"
    },
    {
      "cell_type": "markdown",
      "metadata": {},
      "source": [
        "Next we see how the `DecisionTreeClassifier` works:"
      ],
      "id": "b3c34bad-cdf3-4507-89a8-3e05e7ca0ec1"
    },
    {
      "cell_type": "code",
      "execution_count": null,
      "metadata": {},
      "outputs": [],
      "source": [
        "# First we get the training data X-variables (predicters)\n",
        "X_train = pd.get_dummies(train[['humid']])\n",
        "\n",
        "# Next we create a Decision Tree Classifier \n",
        "classifier = DecisionTreeClassifier()\n",
        "\n",
        "# Next we fit the data (create our model) using the actuals \n",
        "classifier.fit(X_train, train['buys'])\n",
        "\n",
        "# This part gets the testing data X-varables \n",
        "X_test = pd.get_dummies(test[['humid']])\n",
        "\n",
        "# Now we use the classifer to predict on the testing data\n",
        "predictions = classifier.predict(X_test)\n",
        "\n",
        "print(\"Here's how our tree makes decisions based only on humidity:\")\n",
        "print_clean_tree(classifier, X_train.columns)\n",
        "\n",
        "#print(\"\\nHere's the same tree in its technical format:\")\n",
        "#print_tree(classifier, X_train.columns)\n",
        "\n",
        "# Print confusion matrix\n",
        "cm = confusion_matrix(test['buys'], predictions)\n",
        "cm_df = pd.DataFrame(\n",
        "    cm,\n",
        "    index=['Actual: no', 'Actual: yes'],\n",
        "    columns=['Predicted: no', 'Predicted: yes']\n",
        ")\n",
        "print(\"\\nConfusion Matrix (Shows how well our predictions matched reality):\")\n",
        "print(cm_df)\n",
        "\n",
        "# Print accuracy\n",
        "correct=cm[0,0]+cm[1,1]\n",
        "total=cm[0,0]+cm[1,1]+cm[1,0]+cm[0,1]\n",
        "accuracy = correct/total\n",
        "print(\"\\nAccuracy: \")\n",
        "print(accuracy)"
      ],
      "id": "ce807ad1"
    },
    {
      "cell_type": "markdown",
      "metadata": {},
      "source": [
        "## Model 2: Wind Only Tree\n",
        "\n",
        "Now let’s try predicting based only on wind conditions:\n",
        "\n",
        "First we sort the tree based on windy:"
      ],
      "id": "547ce338-a5c8-4f45-b29f-a88c60f22d64"
    },
    {
      "cell_type": "code",
      "execution_count": null,
      "metadata": {},
      "outputs": [],
      "source": [
        "# Show training data sorted by windy \n",
        "print(\"Training Data Sorted by Windy:\")\n",
        "print(train.sort_values('windy'))"
      ],
      "id": "a0f84426"
    },
    {
      "cell_type": "markdown",
      "metadata": {},
      "source": [
        "Next we see how the `DecisionTreeClassifier` works:"
      ],
      "id": "d700e43e-8aa1-4d99-9c82-ea41ce764953"
    },
    {
      "cell_type": "code",
      "execution_count": null,
      "metadata": {},
      "outputs": [],
      "source": [
        "# First we get the training data X-variables (predicters)\n",
        "X_train = pd.get_dummies(train[['windy']])\n",
        "\n",
        "# Next we create a Decision Tree Classifier \n",
        "classifier = DecisionTreeClassifier()\n",
        "\n",
        "# Next we fit the data (create our model) using the actuals \n",
        "classifier.fit(X_train, train['buys'])\n",
        "\n",
        "# This part gets the testing data X-varables \n",
        "X_test = pd.get_dummies(test[['windy']])\n",
        "\n",
        "# Now we use the classifer to predict on the testing data\n",
        "predictions = classifier.predict(X_test)\n",
        "\n",
        "print(\"Here's how our tree makes decisions based only on wind:\")\n",
        "print_clean_tree(classifier, X_train.columns)\n",
        "\n",
        "#print(\"\\nHere's the same tree in its technical format:\")\n",
        "#print_tree(classifier, X_train.columns)\n",
        "\n",
        "# Print confusion matrix\n",
        "cm = confusion_matrix(test['buys'], predictions)\n",
        "cm_df = pd.DataFrame(\n",
        "    cm,\n",
        "    index=['Actual: no', 'Actual: yes'],\n",
        "    columns=['Predicted: no', 'Predicted: yes']\n",
        ")\n",
        "print(\"\\nConfusion Matrix (Shows how well our predictions matched reality):\")\n",
        "print(cm_df)\n",
        "\n",
        "# Print accuracy\n",
        "correct=cm[0,0]+cm[1,1]\n",
        "total=cm[0,0]+cm[1,1]+cm[1,0]+cm[0,1]\n",
        "accuracy = correct/total\n",
        "print(\"\\nAccuracy: \")\n",
        "print(accuracy)"
      ],
      "id": "4e8bf3ea"
    },
    {
      "cell_type": "markdown",
      "metadata": {},
      "source": [
        "## Model 3: Full Tree Using Both Humidity and Wind\n",
        "\n",
        "Finally, let’s use both humidity and wind conditions to make our\n",
        "predictions:"
      ],
      "id": "26196ad3-9056-40ed-b988-58a7ebd9031a"
    },
    {
      "cell_type": "code",
      "execution_count": null,
      "metadata": {},
      "outputs": [],
      "source": [
        "# First we get the training data X-variables (predicters)\n",
        "X_train = pd.get_dummies(train[['humid', 'windy']])\n",
        "\n",
        "# Next we create a Decision Tree Classifier \n",
        "classifier = DecisionTreeClassifier()\n",
        "\n",
        "# Next we fit the data (create our model) using the actuals \n",
        "classifier.fit(X_train, train['buys'])\n",
        "\n",
        "# This part gets the testing data X-varables \n",
        "X_test = pd.get_dummies(test[['humid', 'windy']])\n",
        "\n",
        "# Now we use the classifer to predict on the testing data\n",
        "predictions = classifier.predict(X_test)\n",
        "\n",
        "print(\"Here's how our tree makes decisions using both humidity and wind:\")\n",
        "print_clean_tree(classifier, X_train.columns)\n",
        "\n",
        "#print(\"\\nHere's the same tree in its technical format:\")\n",
        "#print_tree(classifier, X_train.columns)\n",
        "\n",
        "# Print confusion matrix\n",
        "cm = confusion_matrix(test['buys'], predictions)\n",
        "cm_df = pd.DataFrame(\n",
        "    cm,\n",
        "    index=['Actual: no', 'Actual: yes'],\n",
        "    columns=['Predicted: no', 'Predicted: yes']\n",
        ")\n",
        "print(\"\\nConfusion Matrix (Shows how well our predictions matched reality):\")\n",
        "print(cm_df)\n",
        "\n",
        "# Print accuracy\n",
        "correct=cm[0,0]+cm[1,1]\n",
        "total=cm[0,0]+cm[1,1]+cm[1,0]+cm[0,1]\n",
        "accuracy = correct/total\n",
        "print(\"\\nAccuracy: \")\n",
        "print(accuracy)"
      ],
      "id": "bf24e7ea"
    },
    {
      "cell_type": "markdown",
      "metadata": {},
      "source": [
        "## Understanding the Results\n",
        "\n",
        "For each model, we show:\n",
        "\n",
        "1.  The decision tree’s rules in plain English\n",
        "2.  The technical version of the tree (for reference)\n",
        "3.  A confusion matrix showing:\n",
        "    -   How many times we correctly predicted “no purchase”\n",
        "    -   How many times we correctly predicted “yes purchase”\n",
        "    -   How many times we made mistakes\n",
        "4.  The accuracy (percentage of correct predictions)\n",
        "\n",
        "The confusion matrix is read like this: - Each row shows what actually\n",
        "happened - Each column shows what we predicted - The numbers show how\n",
        "many times each combination occurred\n",
        "\n",
        "By comparing the three models, we can see: 1. How well humidity alone\n",
        "predicts buying behavior 2. How well wind conditions alone predict\n",
        "buying behavior 3. Whether using both weather features together improves\n",
        "our predictions"
      ],
      "id": "d7e25f3a-63db-4bcb-8172-15dc2423f936"
    }
  ],
  "nbformat": 4,
  "nbformat_minor": 5,
  "metadata": {
    "kernelspec": {
      "name": "python3",
      "display_name": "Python 3 (ipykernel)",
      "language": "python"
    }
  }
}
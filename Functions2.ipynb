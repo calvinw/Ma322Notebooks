{
  "cells": [
    {
      "cell_type": "raw",
      "metadata": {},
      "source": [
        "---\n",
        "title: \"More Functions\"\n",
        "---"
      ],
      "id": "178844d0"
    },
    {
      "cell_type": "markdown",
      "metadata": {},
      "source": [
        "## Defining and Calling Functions\n",
        "\n",
        "- Define a function called `say_hi` that prints \"Hi there!\" when called.\n"
      ],
      "id": "b62129d6"
    },
    {
      "cell_type": "code",
      "metadata": {},
      "source": [
        "#| eval: false\n",
        "CODE"
      ],
      "id": "98a9910b",
      "execution_count": null,
      "outputs": []
    },
    {
      "cell_type": "code",
      "metadata": {},
      "source": [
        "# Solution:\n",
        "def say_hi():\n",
        "    print(\"Hi there!\")"
      ],
      "id": "a4115fa9",
      "execution_count": null,
      "outputs": []
    },
    {
      "cell_type": "markdown",
      "metadata": {},
      "source": [
        "- Call the `say_hi` function you defined above.\n"
      ],
      "id": "d1861259"
    },
    {
      "cell_type": "code",
      "metadata": {},
      "source": [
        "#| eval: false\n",
        "CODE"
      ],
      "id": "9a41c066",
      "execution_count": null,
      "outputs": []
    },
    {
      "cell_type": "code",
      "metadata": {},
      "source": [
        "# Solution:\n",
        "say_hi()"
      ],
      "id": "ccf233b9",
      "execution_count": null,
      "outputs": []
    },
    {
      "cell_type": "markdown",
      "metadata": {},
      "source": [
        "- Define a function called `greet_with_name_and_time` that takes a `name` argument and prints \"Good morning, [name]!\".\n"
      ],
      "id": "29950a26"
    },
    {
      "cell_type": "code",
      "metadata": {},
      "source": [
        "#| eval: false\n",
        "CODE"
      ],
      "id": "27ce0764",
      "execution_count": null,
      "outputs": []
    },
    {
      "cell_type": "code",
      "metadata": {},
      "source": [
        "# Solution:\n",
        "def greet_with_name_and_time(name):\n",
        "    print(\"Good morning, \" + name + \"!\")"
      ],
      "id": "a387d43c",
      "execution_count": null,
      "outputs": []
    },
    {
      "cell_type": "markdown",
      "metadata": {},
      "source": [
        "- Call the `greet_with_name_and_time` function with the argument \"Sarah\".\n"
      ],
      "id": "6662eff2"
    },
    {
      "cell_type": "code",
      "metadata": {},
      "source": [
        "#| eval: false\n",
        "CODE"
      ],
      "id": "78181100",
      "execution_count": null,
      "outputs": []
    },
    {
      "cell_type": "code",
      "metadata": {},
      "source": [
        "# Solution:\n",
        "greet_with_name_and_time(\"Sarah\")"
      ],
      "id": "927dba19",
      "execution_count": null,
      "outputs": []
    },
    {
      "cell_type": "markdown",
      "metadata": {},
      "source": [
        "## Function Arguments\n",
        "\n",
        "- Define a function called `greet_by_name` that takes a `name` argument and prints \"Welcome, [name]!\" when called.\n"
      ],
      "id": "f07ce5e3"
    },
    {
      "cell_type": "code",
      "metadata": {},
      "source": [
        "#| eval: false\n",
        "CODE"
      ],
      "id": "158e1473",
      "execution_count": null,
      "outputs": []
    },
    {
      "cell_type": "code",
      "metadata": {},
      "source": [
        "# Solution:\n",
        "def greet_by_name(name):\n",
        "    print(\"Welcome, \" + name + \"!\")"
      ],
      "id": "860e4c78",
      "execution_count": null,
      "outputs": []
    },
    {
      "cell_type": "markdown",
      "metadata": {},
      "source": [
        "- Call the `greet_by_name` function with the argument \"John\".\n"
      ],
      "id": "ae40ad77"
    },
    {
      "cell_type": "code",
      "metadata": {},
      "source": [
        "#| eval: false\n",
        "CODE"
      ],
      "id": "809c1c8d",
      "execution_count": null,
      "outputs": []
    },
    {
      "cell_type": "code",
      "metadata": {},
      "source": [
        "# Solution:\n",
        "greet_by_name(\"John\")"
      ],
      "id": "4b2c01c9",
      "execution_count": null,
      "outputs": []
    },
    {
      "cell_type": "markdown",
      "metadata": {},
      "source": [
        "- Define a function called `greet_with_name_and_age` that takes two arguments, `name` and `age`, and prints \"[name] is [age] years old.\" when called.\n"
      ],
      "id": "1293f123"
    },
    {
      "cell_type": "code",
      "metadata": {},
      "source": [
        "#| eval: false\n",
        "CODE"
      ],
      "id": "8344f3f9",
      "execution_count": null,
      "outputs": []
    },
    {
      "cell_type": "code",
      "metadata": {},
      "source": [
        "# Solution:\n",
        "def greet_with_name_and_age(name, age):\n",
        "    print(name + \" is \" + str(age) + \" years old.\")"
      ],
      "id": "f4a500f7",
      "execution_count": null,
      "outputs": []
    },
    {
      "cell_type": "markdown",
      "metadata": {},
      "source": [
        "- Call the `greet_with_name_and_age` function with the arguments \"Emma\" and 28.\n"
      ],
      "id": "1e575977"
    },
    {
      "cell_type": "code",
      "metadata": {},
      "source": [
        "#| eval: false\n",
        "CODE"
      ],
      "id": "b6796804",
      "execution_count": null,
      "outputs": []
    },
    {
      "cell_type": "code",
      "metadata": {},
      "source": [
        "# Solution:\n",
        "greet_with_name_and_age(\"Emma\", 28)"
      ],
      "id": "8a2b8b58",
      "execution_count": null,
      "outputs": []
    },
    {
      "cell_type": "markdown",
      "metadata": {},
      "source": [
        "## Default Arguments\n",
        "\n",
        "- Define a function called `greet_with_default_name` that takes a `name` argument with a default value of \"Guest\" and prints \"Hello, [name]! Nice to meet you.\" when called.\n"
      ],
      "id": "6f520e48"
    },
    {
      "cell_type": "code",
      "metadata": {},
      "source": [
        "#| eval: false\n",
        "CODE"
      ],
      "id": "93912949",
      "execution_count": null,
      "outputs": []
    },
    {
      "cell_type": "code",
      "metadata": {},
      "source": [
        "# Solution:\n",
        "def greet_with_default_name(name=\"Guest\"):\n",
        "    print(\"Hello, \" + name + \"! Nice to meet you.\")"
      ],
      "id": "7ada6284",
      "execution_count": null,
      "outputs": []
    },
    {
      "cell_type": "markdown",
      "metadata": {},
      "source": [
        "- Call the `greet_with_default_name` function without providing an argument.\n"
      ],
      "id": "4f46d37f"
    },
    {
      "cell_type": "code",
      "metadata": {},
      "source": [
        "#| eval: false\n",
        "CODE"
      ],
      "id": "d59a0f93",
      "execution_count": null,
      "outputs": []
    },
    {
      "cell_type": "code",
      "metadata": {},
      "source": [
        "# Solution:\n",
        "greet_with_default_name()"
      ],
      "id": "b93c96d9",
      "execution_count": null,
      "outputs": []
    },
    {
      "cell_type": "markdown",
      "metadata": {},
      "source": [
        "- Define a function called `greet_with_default_feeling_and_name` that takes a `feeling` argument with a default value of \"Hello\" and a `name` argument, and prints \"[feeling], [name]!\" when called.\n"
      ],
      "id": "6a058dfb"
    },
    {
      "cell_type": "code",
      "metadata": {},
      "source": [
        "#| eval: false\n",
        "CODE"
      ],
      "id": "512031b2",
      "execution_count": null,
      "outputs": []
    },
    {
      "cell_type": "code",
      "metadata": {},
      "source": [
        "# Solution:\n",
        "def greet_with_default_feeling_and_name(feeling=\"Hello\", name):\n",
        "    print(feeling + \", \" + name + \"!\")"
      ],
      "id": "f707c7a0",
      "execution_count": null,
      "outputs": []
    },
    {
      "cell_type": "markdown",
      "metadata": {},
      "source": [
        "- Call the `greet_with_default_feeling_and_name` function with the argument \"Alice\" and omit the `feeling` argument.\n"
      ],
      "id": "14da11e4"
    },
    {
      "cell_type": "code",
      "metadata": {},
      "source": [
        "#| eval: false\n",
        "CODE"
      ],
      "id": "5d50420a",
      "execution_count": null,
      "outputs": []
    },
    {
      "cell_type": "code",
      "metadata": {},
      "source": [
        "# Solution:\n",
        "greet_with_default_feeling_and_name(\"Alice\")"
      ],
      "id": "f6aa4f2d",
      "execution_count": null,
      "outputs": []
    },
    {
      "cell_type": "markdown",
      "metadata": {},
      "source": [
        "## Return Values\n",
        "\n",
        "- Define a function called `add_numbers` that takes two arguments `num1` and `num2`, adds them, and returns the result.\n"
      ],
      "id": "bf9e985e"
    },
    {
      "cell_type": "code",
      "metadata": {},
      "source": [
        "#| eval: false\n",
        "CODE"
      ],
      "id": "90dbc675",
      "execution_count": null,
      "outputs": []
    },
    {
      "cell_type": "code",
      "metadata": {},
      "source": [
        "# Solution:\n",
        "def add_numbers(num1, num2):\n",
        "    result = num1 + num2\n",
        "    return result"
      ],
      "id": "b2cf4475",
      "execution_count": null,
      "outputs": []
    },
    {
      "cell_type": "markdown",
      "metadata": {},
      "source": [
        "- Call the `add_numbers` function with arguments 5 and 7, and store the result in a variable called `sum_result`.\n",
        "- Print out `sum_result`\n"
      ],
      "id": "1cae03bb"
    },
    {
      "cell_type": "code",
      "metadata": {},
      "source": [
        "#| eval: false\n",
        "CODE"
      ],
      "id": "4ff9e484",
      "execution_count": null,
      "outputs": []
    },
    {
      "cell_type": "code",
      "metadata": {},
      "source": [
        "# Solution:\n",
        "sum_result = add_numbers(5, 7)\n",
        "print(sum_result)"
      ],
      "id": "62b796ef",
      "execution_count": null,
      "outputs": []
    },
    {
      "cell_type": "markdown",
      "metadata": {},
      "source": [
        "- Define a function called `calculate_area` that takes two arguments `length` and `width`, calculates the area of a rectangle (length * width), and returns the result.\n"
      ],
      "id": "d7ee818a"
    },
    {
      "cell_type": "code",
      "metadata": {},
      "source": [
        "#| eval: false\n",
        "CODE"
      ],
      "id": "1419bcdc",
      "execution_count": null,
      "outputs": []
    },
    {
      "cell_type": "code",
      "metadata": {},
      "source": [
        "# Solution:\n",
        "def calculate_area(length, width):\n",
        "    area = length * width\n",
        "    return area"
      ],
      "id": "0d25562e",
      "execution_count": null,
      "outputs": []
    },
    {
      "cell_type": "markdown",
      "metadata": {},
      "source": [
        "- Call the `calculate_area` function with arguments 3 and 5, and store the result in a variable called `rectangle_area`.\n",
        "- Print out `rectangle_area`.\n"
      ],
      "id": "aa2c5558"
    },
    {
      "cell_type": "code",
      "metadata": {},
      "source": [
        "#| eval: false\n",
        "CODE"
      ],
      "id": "3d3d098a",
      "execution_count": null,
      "outputs": []
    },
    {
      "cell_type": "code",
      "metadata": {},
      "source": [
        "# Solution:\n",
        "rectangle_area = calculate_area(3, 5)\n",
        "print(rectangle_area)"
      ],
      "id": "9dd0e786",
      "execution_count": null,
      "outputs": []
    },
    {
      "cell_type": "markdown",
      "metadata": {},
      "source": [
        "## Keyword Arguments\n",
        "\n",
        "- Define a function called `introduce_person` that takes two arguments `name` and `age`, and prints \"This is [name], they are [age] years old.\" when called.\n"
      ],
      "id": "51ffbc48"
    },
    {
      "cell_type": "code",
      "metadata": {},
      "source": [
        "#| eval: false\n",
        "CODE"
      ],
      "id": "ad274151",
      "execution_count": null,
      "outputs": []
    },
    {
      "cell_type": "code",
      "metadata": {},
      "source": [
        "# Solution:\n",
        "def introduce_person(name, age):\n",
        "    print(\"This is \" + name + \", they are \" + str(age) + \" years old.\")"
      ],
      "id": "ffd982f5",
      "execution_count": null,
      "outputs": []
    },
    {
      "cell_type": "markdown",
      "metadata": {},
      "source": [
        "- Call the `introduce_person` function using keyword arguments with `name=\"Alice\"` and `age=25`.\n"
      ],
      "id": "3b592941"
    },
    {
      "cell_type": "code",
      "metadata": {},
      "source": [
        "#| eval: false\n",
        "CODE"
      ],
      "id": "b1adc362",
      "execution_count": null,
      "outputs": []
    },
    {
      "cell_type": "code",
      "metadata": {},
      "source": [
        "# Solution:\n",
        "introduce_person(name=\"Alice\", age=25)"
      ],
      "id": "0fa9fd40",
      "execution_count": null,
      "outputs": []
    },
    {
      "cell_type": "markdown",
      "metadata": {},
      "source": [
        "- Define a function called `describe_student` that takes three arguments `name`, `age`, and `grade`, and prints \"[name] is [age] years old and is in grade [grade].\" when called.\n"
      ],
      "id": "521c9234"
    },
    {
      "cell_type": "code",
      "metadata": {},
      "source": [
        "#| eval: false\n",
        "CODE"
      ],
      "id": "55940d6b",
      "execution_count": null,
      "outputs": []
    },
    {
      "cell_type": "code",
      "metadata": {},
      "source": [
        "# Solution:\n",
        "def describe_student(name, age, grade):\n",
        "    print(name + \" is \" + str(age) + \" years old and is in grade \" + str(grade) + \".\")"
      ],
      "id": "326e8de2",
      "execution_count": null,
      "outputs": []
    },
    {
      "cell_type": "markdown",
      "metadata": {},
      "source": [
        "- Call the `describe_student` function using keyword arguments with `name=\"Bob\"`, `age=12`, and `grade=6`.\n"
      ],
      "id": "19c55d68"
    },
    {
      "cell_type": "code",
      "metadata": {},
      "source": [
        "#| eval: false\n",
        "CODE"
      ],
      "id": "19167663",
      "execution_count": null,
      "outputs": []
    },
    {
      "cell_type": "code",
      "metadata": {},
      "source": [
        "# Solution:\n",
        "describe_student(name=\"Bob\", age=12, grade=6)"
      ],
      "id": "080989c7",
      "execution_count": null,
      "outputs": []
    }
  ],
  "metadata": {
    "kernelspec": {
      "name": "python3",
      "language": "python",
      "display_name": "Python 3 (ipykernel)"
    }
  },
  "nbformat": 4,
  "nbformat_minor": 5
}
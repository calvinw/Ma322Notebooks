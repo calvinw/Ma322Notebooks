{
  "cells": [
    {
      "cell_type": "markdown",
      "metadata": {},
      "source": [
        "# More LLM Chain"
      ],
      "id": "4b11726a-07b2-4dbd-81d7-98a19d523b76"
    },
    {
      "cell_type": "code",
      "execution_count": null,
      "metadata": {},
      "outputs": [],
      "source": [
        "import os\n",
        "\n",
        "if os.environ.get(\"TOGETHER_API_KEY\") is None:\n",
        "   os.environ[\"TOGETHER_API_KEY\"] = \"paste_your_api_key_here\""
      ],
      "id": "b6978694"
    },
    {
      "cell_type": "markdown",
      "metadata": {},
      "source": [
        "## Setup the LLM"
      ],
      "id": "b181261c-ead2-4ece-a058-76f098aa971a"
    },
    {
      "cell_type": "code",
      "execution_count": null,
      "metadata": {},
      "outputs": [],
      "source": [
        "!pip3 install langchain langchain_openai"
      ],
      "id": "0fe08d43"
    },
    {
      "cell_type": "code",
      "execution_count": null,
      "metadata": {},
      "outputs": [],
      "source": [
        "import os\n",
        "from langchain_openai import ChatOpenAI\n",
        "\n",
        "#model_name = \"NousResearch/Nous-Hermes-2-Mixtral-8x7B-SFT\"\n",
        "#model_name = \"NousResearch/Nous-Hermes-2-Mixtral-8x7B-DPO\"\n",
        "#model_name=\"mistralai/Mixtral-8x7B-Instruct-v0.1\"\n",
        "#model_name=\"mistralai/Mistral-7B-Instruct-v0.1\"\n",
        "#model_name=\"mistralai/Mistral-7B-Instruct-v0.2\"\n",
        "#model_name = \"openchat/openchat-3.5-1210\"\n",
        "#model_name = \"Qwen/Qwen1.5-72B-Chat\"\n",
        "model_name = \"cognitivecomputations/dolphin-2.5-mixtral-8x7b\"\n",
        "\n",
        "print(\"Provider: TogetherAI\")\n",
        "print(\"Model: \" + model_name)\n",
        "\n",
        "llm=ChatOpenAI(model_name=model_name,\n",
        "               openai_api_key=os.environ.get(\"TOGETHER_API_KEY\"),\n",
        "               openai_api_base=\"https://api.together.xyz/v1/\")"
      ],
      "id": "26bc1960"
    },
    {
      "cell_type": "code",
      "execution_count": null,
      "metadata": {},
      "outputs": [],
      "source": [
        "import textwrap\n",
        "from langchain_core.prompts import ChatPromptTemplate\n",
        "\n",
        "def wrap_text(text, max_width=80):\n",
        "    \"\"\"\n",
        "    Wraps the text to the specified max_width, preserving line breaks and formatting.\n",
        "    \"\"\"\n",
        "    text = text.lstrip()\n",
        "    lines = text.splitlines()  # Split the text into lines\n",
        "    wrapped_lines = []\n",
        "    for line in lines:\n",
        "        if line.strip():  # Skip empty lines\n",
        "            wrapped_line = textwrap.fill(line, max_width, initial_indent='', subsequent_indent='')\n",
        "            wrapped_lines.extend(wrapped_line.splitlines())  # Preserve line breaks\n",
        "        else:\n",
        "            wrapped_lines.append('')  # Keep empty lines\n",
        "    return '\\n'.join(wrapped_lines)\n",
        "\n",
        "def print_prompt_and_response(prompt, response):\n",
        "    print(\"Prompt: \")\n",
        "    print(wrap_text(prompt))\n",
        "    print(\"\")\n",
        "    print(\"Response: \")\n",
        "    print(response)\n",
        "\n",
        "def print_messages_and_response(messages, response):\n",
        "    prompt = ChatPromptTemplate(messages=messages)\n",
        "    print_prompt_and_response(prompt.format(), response)\n",
        "\n",
        "def get_completion(prompt, temperature=0.0):\n",
        "    response = llm.invoke(prompt, temperature=temperature)\n",
        "    wrapped_response = wrap_text(response.content)\n",
        "    return wrapped_response\n",
        "\n",
        "def get_completion_messages(messages, temperature=0.0):\n",
        "    response=llm.invoke(messages, temperature=temperature)\n",
        "    wrapped_response = wrap_text(response.content)\n",
        "    return wrapped_response"
      ],
      "id": "54a8f175"
    },
    {
      "cell_type": "markdown",
      "metadata": {},
      "source": [
        "## Suggest a Company Name and Upper It\n",
        "\n",
        "### Step 1: Suggest a Funny Company Name\n",
        "\n",
        "Lets start by creating a variable for our product request."
      ],
      "id": "14cbac0a-a8f7-41e0-9baa-6f77253e27e4"
    },
    {
      "cell_type": "code",
      "execution_count": null,
      "metadata": {},
      "outputs": [],
      "source": [
        "car = \"sports cars\""
      ],
      "id": "576647ed"
    },
    {
      "cell_type": "markdown",
      "metadata": {},
      "source": [
        "-   Write a prompt template that has the LLM suggest one funny name for\n",
        "    a company that makes a certain product.\n",
        "-   Make `product` a template variable and use `{product}` in your\n",
        "    template"
      ],
      "id": "334e8d57-38d7-4297-af8e-d2c9926a8dba"
    },
    {
      "cell_type": "code",
      "execution_count": null,
      "metadata": {},
      "outputs": [],
      "source": [
        "company_template =\"\"\"\n",
        "\n",
        "CODE\n",
        "\n",
        "\"\"\""
      ],
      "id": "be218b88"
    },
    {
      "cell_type": "markdown",
      "metadata": {},
      "source": [
        "-   Pass `car` to the format function as the template variable\n",
        "    `{product}`\n",
        "-   Pass the `company_prompt` to `get_completion` to get the LLM’s\n",
        "    response\n",
        "-   Print the `company_response`"
      ],
      "id": "134516c8-9663-414b-9869-ffdb2f221656"
    },
    {
      "cell_type": "code",
      "execution_count": null,
      "metadata": {},
      "outputs": [],
      "source": [
        "company_prompt = company_template.format(product=CODE)\n",
        "company_response = get_completion(CODE)\n",
        "print(CODE)"
      ],
      "id": "ffd66f39"
    },
    {
      "cell_type": "markdown",
      "metadata": {},
      "source": [
        "### Step 2: Upper Case the Name and Product\n",
        "\n",
        "Upper case the company\n",
        "\n",
        "-   Write a prompt template using both `{product}` and `{company}` as\n",
        "    template variables, asking the LLM to upper case the company name\n",
        "    and the product"
      ],
      "id": "722f9485-21b6-4b0d-b5a5-e37352c9e85b"
    },
    {
      "cell_type": "code",
      "execution_count": null,
      "metadata": {},
      "outputs": [],
      "source": [
        "uppercase_template =\"\"\"\n",
        "\n",
        "CODE\n",
        "\n",
        "\"\"\""
      ],
      "id": "005b6dc5"
    },
    {
      "cell_type": "markdown",
      "metadata": {},
      "source": [
        "-   Pass the `company_response` as the `company` variable and `car` as\n",
        "    the `product` variable\n",
        "-   Pass the `uppercase_prompt` to `get_completion` to get the LLM’s\n",
        "    response Print the `uppercase_response`"
      ],
      "id": "49274525-35bc-4178-9c2e-1751c3b6364c"
    },
    {
      "cell_type": "code",
      "execution_count": null,
      "metadata": {},
      "outputs": [],
      "source": [
        "uppercase_prompt = uppercase_template.format(company=CODE,\n",
        "                                             product=CODE)\n",
        "uppercase_response = get_completion(CODE)\n",
        "print(CODE)"
      ],
      "id": "d0780422"
    },
    {
      "cell_type": "markdown",
      "metadata": {},
      "source": [
        "### Final Report"
      ],
      "id": "7658ece5-e754-423b-ac07-78aa44e90f33"
    },
    {
      "cell_type": "code",
      "execution_count": null,
      "metadata": {},
      "outputs": [],
      "source": [
        "report_template = \"\"\"\n",
        "## Final Report\n",
        "\n",
        "### Product\n",
        "{product}\n",
        "\n",
        "### Company Name\n",
        "{company}\n",
        "\n",
        "### Upper Cased Company and Product\n",
        "{uppercase}\n",
        "\"\"\"\n",
        "\n",
        "report = report_template.format(product = car,\n",
        "                         company = company_response,\n",
        "                         uppercase = uppercase_response)\n",
        "print(report)"
      ],
      "id": "9fabcf48"
    }
  ],
  "nbformat": 4,
  "nbformat_minor": 5,
  "metadata": {
    "kernelspec": {
      "name": "python3",
      "display_name": "Python 3 (ipykernel)",
      "language": "python"
    }
  }
}
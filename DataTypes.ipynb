{
  "cells": [
    {
      "cell_type": "markdown",
      "metadata": {},
      "source": [
        "# Data Types In Python\n",
        "\n",
        "In Python, variables and expressions have data types. The following\n",
        "table shows the main data types:\n",
        "\n",
        "| Data Type            | Python version | Examples     |\n",
        "|----------------------|----------------|--------------|\n",
        "| Float (Decimal)      | float          | 2.32, -0.45  |\n",
        "| String (Text)        | str            | “hello”, “k” |\n",
        "| Integer              | int            | 12           |\n",
        "| Boolean (True/False) | bool           | True, False  |\n",
        "\n",
        "You can find out the data type of a variable by using the `type()`\n",
        "function.\n",
        "\n",
        "## Float (Decimal)\n",
        "\n",
        "The data type for decimal numbers like 3.2, -2.34, 0.0 is `float`.\n",
        "\n",
        "The following variable has a data type of float:"
      ],
      "id": "a1c8c211-85b5-435f-bea4-c7a39d42e9f0"
    },
    {
      "cell_type": "code",
      "execution_count": null,
      "metadata": {},
      "outputs": [],
      "source": [
        "x = 2.3 \n",
        "print(type(x))"
      ],
      "id": "b4aedc1c"
    },
    {
      "cell_type": "markdown",
      "metadata": {},
      "source": [
        "## String\n",
        "\n",
        "The data type for text or strings is `str`.\n",
        "\n",
        "Examples are “Bob”, “We are the champions”, “Fee Fi Fo”."
      ],
      "id": "f68dda73-15c9-4161-aba3-c3bc0f22d0fa"
    },
    {
      "cell_type": "code",
      "execution_count": null,
      "metadata": {},
      "outputs": [],
      "source": [
        "y = \"hi there\"\n",
        "print(type(y))\n",
        "\n",
        "z = \"XXXYYYZZZ\"\n",
        "print(type(z))"
      ],
      "id": "2e2b294b"
    },
    {
      "cell_type": "markdown",
      "metadata": {},
      "source": [
        "## Integer\n",
        "\n",
        "There is a separate data type for integers (…, -3, -2, -1, 0, 1, 2, 3,\n",
        "…). Its called `int`."
      ],
      "id": "481b9b2d-2473-4788-8c2c-10cd13281dee"
    },
    {
      "cell_type": "code",
      "execution_count": null,
      "metadata": {},
      "outputs": [],
      "source": [
        "a = 3\n",
        "print(type(a))"
      ],
      "id": "c605808c"
    },
    {
      "cell_type": "markdown",
      "metadata": {},
      "source": [
        "## Boolean\n",
        "\n",
        "The data type for something that holds `True` or `False` is `bool`. This\n",
        "is Python’s name for booleans, things that can only be `True` or\n",
        "`False`."
      ],
      "id": "0b689799-566b-4732-8fd1-5c490349636d"
    },
    {
      "cell_type": "code",
      "execution_count": null,
      "metadata": {},
      "outputs": [],
      "source": [
        "u = True\n",
        "print(type(u))\n",
        "\n",
        "v = False\n",
        "print(type(v))"
      ],
      "id": "04332b3e"
    },
    {
      "cell_type": "markdown",
      "metadata": {},
      "source": [
        "You can also just find the type of an expression without having to make\n",
        "it a variable. Here are all the examples from our table above."
      ],
      "id": "7f7a5d7a-45c6-4ac4-ae1f-d1cae8cbbe5f"
    },
    {
      "cell_type": "code",
      "execution_count": null,
      "metadata": {},
      "outputs": [],
      "source": [
        "print(type(2.32))\n",
        "print(type(-0.45))\n",
        "print(type(\"hello\"))\n",
        "print(type(\"k\"))\n",
        "print(type(12))\n",
        "print(type(True))\n",
        "print(type(False))"
      ],
      "id": "105ad9a1"
    },
    {
      "cell_type": "markdown",
      "metadata": {},
      "source": [
        "## Converting Types\n",
        "\n",
        "You can change a variable’s type if you need. This is called\n",
        "*converting* the data from one type to another.\n",
        "\n",
        "| Changing types | Function   | Example    |\n",
        "|----------------|------------|------------|\n",
        "| Float          | `float(x)` | `float(2)` |\n",
        "| String         | `str(x)`   | `str(123)` |\n",
        "| Integer        | `int(x)`   | `int(2.0)` |\n",
        "| Boolean        | `bool(x)`  | `bool(1)`  |\n",
        "\n",
        "The first example converts `2` from `int` to a `float`  \n",
        "The second example converts `123` from `int` to a `str`  \n",
        "The third example converts `2.0` from `float` to a `int`  \n",
        "The fourth example converts `1` from `int` to a `bool`\n",
        "\n",
        "### Convert String to Float\n",
        "\n",
        "One use for this is to convert a string like “1.23” to a number 1.23.\n",
        "This happens frequently when reading data from files, as numbers are\n",
        "often stored as strings initially.\n",
        "\n",
        "With quotes around it, a number will be seen as a string. Here is an\n",
        "example:"
      ],
      "id": "8e8ce9aa-3348-45f3-a046-c9fd49de352b"
    },
    {
      "cell_type": "code",
      "execution_count": null,
      "metadata": {},
      "outputs": [],
      "source": [
        "myData = \"1.23\"\n",
        "print(type(myData))"
      ],
      "id": "aa0b0e57"
    },
    {
      "cell_type": "markdown",
      "metadata": {},
      "source": [
        "To change the string “1.23” to a number, we must use `float()` to\n",
        "convert the string to a float:"
      ],
      "id": "f2a54ada-28a9-414e-81f7-0fd09132a8b3"
    },
    {
      "cell_type": "code",
      "execution_count": null,
      "metadata": {},
      "outputs": [],
      "source": [
        "myOtherData = float(myData)\n",
        "print(type(myOtherData))"
      ],
      "id": "cd14bdd1"
    },
    {
      "cell_type": "markdown",
      "metadata": {},
      "source": [
        "What happened above was that `myData` was a string data type, but\n",
        "`myOtherData` was a float data type. We call this a *conversion* when we\n",
        "change the data from one data type to another\n",
        "\n",
        "### Convert Float to String\n",
        "\n",
        "We can also convert a number to a string. This sometimes happens when\n",
        "data is stored to a file.\n",
        "\n",
        "Below, we create a number, then convert it to a string."
      ],
      "id": "6924ff3c-acb9-4462-bb00-244cb51d625d"
    },
    {
      "cell_type": "code",
      "execution_count": null,
      "metadata": {},
      "outputs": [],
      "source": [
        "aNumber = 4.56\n",
        "print(type(aNumber))\n",
        "\n",
        "aString = str(aNumber)\n",
        "print(type(aString))"
      ],
      "id": "6be42977"
    }
  ],
  "nbformat": 4,
  "nbformat_minor": 5,
  "metadata": {
    "kernelspec": {
      "name": "python3",
      "display_name": "Python 3 (ipykernel)",
      "language": "python"
    }
  }
}
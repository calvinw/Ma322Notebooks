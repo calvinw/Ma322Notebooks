{
  "cells": [
    {
      "cell_type": "markdown",
      "metadata": {},
      "source": [
        "# Data Types In Python\n",
        "\n",
        "In Python, variables and expressions have data types. The following\n",
        "table shows the main data types:\n",
        "\n",
        "| Data Type            | Python version | Examples     |\n",
        "|----------------------|----------------|--------------|\n",
        "| Float (Decimal)      | float          | 2.32, -0.45  |\n",
        "| String (Text)        | str            | “hello”, “k” |\n",
        "| Integer              | int            | 12           |\n",
        "| Boolean (True/False) | bool           | True, False  |\n",
        "\n",
        "You can find out the data type of a variable by using the `type()`\n",
        "function.\n",
        "\n",
        "## Float (Decimal)\n",
        "\n",
        "The data type for decimal numbers like 3.2, -2.34, 0.0 is float.\n",
        "\n",
        "The following variable has a data type of float:"
      ],
      "id": "0f396e4c-964b-4598-a8b4-e3eb196a7dff"
    },
    {
      "cell_type": "code",
      "execution_count": null,
      "metadata": {},
      "outputs": [],
      "source": [
        "x = 3.2\n",
        "print(type(x))"
      ],
      "id": "5afd7ec4"
    },
    {
      "cell_type": "markdown",
      "metadata": {},
      "source": [
        "## String\n",
        "\n",
        "The data type for text or strings is `str`.\n",
        "\n",
        "Examples are “Bob”, “We are the champions”, “Fee Fi Fo”."
      ],
      "id": "19539cc8-57ae-43aa-ba39-0790545e6c55"
    },
    {
      "cell_type": "code",
      "execution_count": null,
      "metadata": {},
      "outputs": [],
      "source": [
        "y = \"hi there\"\n",
        "print(type(y))\n",
        "z = \"XXXYYYZZZ\"\n",
        "print(type(z))"
      ],
      "id": "575e9a96"
    },
    {
      "cell_type": "markdown",
      "metadata": {},
      "source": [
        "## Integer\n",
        "\n",
        "There is a separate data type for integers (…, -3, -2, -1, 0, 1, 2, 3,\n",
        "…)."
      ],
      "id": "cf1902b9-a04e-4238-9db8-39a7769336f0"
    },
    {
      "cell_type": "code",
      "execution_count": null,
      "metadata": {},
      "outputs": [],
      "source": [
        "a = 3\n",
        "print(type(a))"
      ],
      "id": "62acce91"
    },
    {
      "cell_type": "markdown",
      "metadata": {},
      "source": [
        "## Boolean\n",
        "\n",
        "The data type for something that holds `True` or `False` is `bool`. This\n",
        "is Python’s name for booleans, things that can only be `True` or\n",
        "`False`."
      ],
      "id": "b68a7a24-31e3-4262-bf58-7b62d4815f12"
    },
    {
      "cell_type": "code",
      "execution_count": null,
      "metadata": {},
      "outputs": [],
      "source": [
        "u = True\n",
        "print(type(u))\n",
        "v = False\n",
        "print(type(v))"
      ],
      "id": "4845ea39"
    },
    {
      "cell_type": "markdown",
      "metadata": {},
      "source": [
        "## Checking Types\n",
        "\n",
        "There are functions for checking the type of a variable or expression,\n",
        "which can be more convenient than using the `type()` function. Each of\n",
        "these returns `True` or `False` depending on whether the value is that\n",
        "type or not:\n",
        "\n",
        "| Checking types | Function               | Example                    |\n",
        "|----------------|------------------------|----------------------------|\n",
        "| Float          | `isinstance(x, float)` | `isinstance(2.32, float)`  |\n",
        "| String         | `isinstance(x, str)`   | `isinstance(\"hello\", str)` |\n",
        "| Integer        | `isinstance(x, int)`   | `isinstance(2, int)`       |\n",
        "| Boolean        | `isinstance(x, bool)`  | `isinstance(True, bool)`   |\n",
        "\n",
        "## Converting Types\n",
        "\n",
        "You can change a variable’s type if you need to using these functions:\n",
        "\n",
        "| Changing types | Function   | Example    |\n",
        "|----------------|------------|------------|\n",
        "| Float          | `float(x)` | `float(2)` |\n",
        "| String         | `str(x)`   | `str(123)` |\n",
        "| Integer        | `int(x)`   | `int(2.0)` |\n",
        "| Boolean        | `bool(x)`  | `bool(1)`  |\n",
        "\n",
        "### String to Float\n",
        "\n",
        "One use for this is to convert a string like “1.23” to a number 1.23.\n",
        "This happens frequently when reading data from files, as numbers are\n",
        "often stored as strings initially.\n",
        "\n",
        "With quotes around it, a number will be seen as a string. Here is an\n",
        "example:"
      ],
      "id": "c1e18c53-9754-47a2-b92d-9a2c6cd4a834"
    },
    {
      "cell_type": "code",
      "execution_count": null,
      "metadata": {},
      "outputs": [],
      "source": [
        "myData = \"1.23\"\n",
        "print(isinstance(myData, str))\n",
        "print(isinstance(myData, float))"
      ],
      "id": "d2827127"
    },
    {
      "cell_type": "markdown",
      "metadata": {},
      "source": [
        "To change the string “1.23” to a number, we must use `float()` to\n",
        "convert the string to a float:"
      ],
      "id": "505d0c86-cbb8-4254-9e5d-50f34b462426"
    },
    {
      "cell_type": "code",
      "execution_count": null,
      "metadata": {},
      "outputs": [],
      "source": [
        "myOtherData = float(myData)\n",
        "print(isinstance(myOtherData, float))\n",
        "print(myOtherData)"
      ],
      "id": "98f1964c"
    },
    {
      "cell_type": "markdown",
      "metadata": {},
      "source": [
        "### Float to String\n",
        "\n",
        "We can also convert a number to a string.\n",
        "\n",
        "Below, we create a number, then convert it to a string."
      ],
      "id": "217aff92-1976-4af6-8c8a-cf1498a32370"
    },
    {
      "cell_type": "code",
      "execution_count": null,
      "metadata": {},
      "outputs": [],
      "source": [
        "aNumber = 4.56\n",
        "print(aNumber)\n",
        "print(isinstance(aNumber, float))\n",
        "\n",
        "aString = str(aNumber)\n",
        "print(aString)\n",
        "print(isinstance(aString, str))"
      ],
      "id": "bd433db5"
    }
  ],
  "nbformat": 4,
  "nbformat_minor": 5,
  "metadata": {
    "kernelspec": {
      "name": "python3",
      "display_name": "Python 3 (ipykernel)",
      "language": "python"
    }
  }
}
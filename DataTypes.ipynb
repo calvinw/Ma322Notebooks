{
  "cells": [
    {
      "cell_type": "markdown",
      "metadata": {},
      "source": [
        "# Data Types In Python\n",
        "\n",
        "In Python, variables and expressions have data types. The following\n",
        "table shows the main data types:\n",
        "\n",
        "| Data Type            | Python version | Examples     |\n",
        "|----------------------|----------------|--------------|\n",
        "| Float (Decimal)      | float          | 2.32, -0.45  |\n",
        "| String (Text)        | str            | “hello”, “k” |\n",
        "| Integer              | int            | 12           |\n",
        "| Boolean (True/False) | bool           | True, False  |\n",
        "\n",
        "You can find out the data type of a variable by using the `type()`\n",
        "function.\n",
        "\n",
        "## Float (Decimal)\n",
        "\n",
        "The data type for decimal numbers like 3.2, -2.34, 0.0 is float.\n",
        "\n",
        "The following variable has a data type of float:"
      ],
      "id": "20f08653-0cea-4a74-a1c0-e34a546e8531"
    },
    {
      "cell_type": "code",
      "execution_count": null,
      "metadata": {},
      "outputs": [],
      "source": [
        "x = 3.2\n",
        "print(type(x))"
      ],
      "id": "b5253221"
    },
    {
      "cell_type": "markdown",
      "metadata": {},
      "source": [
        "## String\n",
        "\n",
        "The data type for text or strings is `str`.\n",
        "\n",
        "Examples are “Bob”, “We are the champions”, “Fee Fi Fo”."
      ],
      "id": "0bafb560-d86a-4ce3-ad52-faef6303514d"
    },
    {
      "cell_type": "code",
      "execution_count": null,
      "metadata": {},
      "outputs": [],
      "source": [
        "y = \"hi there\"\n",
        "print(type(y))\n",
        "z = \"XXXYYYZZZ\"\n",
        "print(type(z))"
      ],
      "id": "3ce14a54"
    },
    {
      "cell_type": "markdown",
      "metadata": {},
      "source": [
        "## Integer\n",
        "\n",
        "There is a separate data type for integers (…, -3, -2, -1, 0, 1, 2, 3,\n",
        "…)."
      ],
      "id": "b5d3fa92-9581-485c-a2c7-22c754040a47"
    },
    {
      "cell_type": "code",
      "execution_count": null,
      "metadata": {},
      "outputs": [],
      "source": [
        "a = 3\n",
        "print(type(a))"
      ],
      "id": "c77d8244"
    },
    {
      "cell_type": "markdown",
      "metadata": {},
      "source": [
        "## Boolean\n",
        "\n",
        "The data type for something that holds `True` or `False` is `bool`. This\n",
        "is Python’s name for booleans, things that can only be `True` or\n",
        "`False`."
      ],
      "id": "ca939f8f-13a6-44f5-a6b2-8da80668bfb9"
    },
    {
      "cell_type": "code",
      "execution_count": null,
      "metadata": {},
      "outputs": [],
      "source": [
        "u = True\n",
        "print(type(u))\n",
        "v = False\n",
        "print(type(v))"
      ],
      "id": "c131aebd"
    },
    {
      "cell_type": "markdown",
      "metadata": {},
      "source": [
        "## Checking Types\n",
        "\n",
        "There are functions for checking the type of a variable or expression,\n",
        "which can be more convenient than using the `type()` function. Each of\n",
        "these returns `True` or `False` depending on whether the value is that\n",
        "type or not:\n",
        "\n",
        "| Checking types | Function               | Example                    |\n",
        "|----------------|------------------------|----------------------------|\n",
        "| Float          | `isinstance(x, float)` | `isinstance(2.32, float)`  |\n",
        "| String         | `isinstance(x, str)`   | `isinstance(\"hello\", str)` |\n",
        "| Integer        | `isinstance(x, int)`   | `isinstance(2, int)`       |\n",
        "| Boolean        | `isinstance(x, bool)`  | `isinstance(True, bool)`   |\n",
        "\n",
        "## Converting Types\n",
        "\n",
        "You can change a variable’s type if you need to using these functions:\n",
        "\n",
        "| Changing types | Function   | Example    |\n",
        "|----------------|------------|------------|\n",
        "| Float          | `float(x)` | `float(2)` |\n",
        "| String         | `str(x)`   | `str(123)` |\n",
        "| Integer        | `int(x)`   | `int(2.0)` |\n",
        "| Boolean        | `bool(x)`  | `bool(1)`  |\n",
        "\n",
        "### String to Float\n",
        "\n",
        "One use for this is to convert a string like “1.23” to a number 1.23.\n",
        "This happens frequently when reading data from files, as numbers are\n",
        "often stored as strings initially.\n",
        "\n",
        "With quotes around it, a number will be seen as a string. Here is an\n",
        "example:"
      ],
      "id": "ff201c7f-5c6d-4259-876d-c0a6ca424123"
    },
    {
      "cell_type": "code",
      "execution_count": null,
      "metadata": {},
      "outputs": [],
      "source": [
        "myData = \"1.23\"\n",
        "print(isinstance(myData, str))\n",
        "print(isinstance(myData, float))"
      ],
      "id": "d338d88a"
    },
    {
      "cell_type": "markdown",
      "metadata": {},
      "source": [
        "To change the string “1.23” to a number, we must use `float()` to\n",
        "convert the string to a float:"
      ],
      "id": "392aadc3-ef35-4ef7-aaa7-b383c613f5b1"
    },
    {
      "cell_type": "code",
      "execution_count": null,
      "metadata": {},
      "outputs": [],
      "source": [
        "myOtherData = float(myData)\n",
        "print(isinstance(myOtherData, float))\n",
        "print(myOtherData)"
      ],
      "id": "ec7c2e07"
    },
    {
      "cell_type": "markdown",
      "metadata": {},
      "source": [
        "### Float to String\n",
        "\n",
        "We can also convert a number to a string.\n",
        "\n",
        "Below, we create a number, then convert it to a string."
      ],
      "id": "a621471d-719e-47fa-ab7c-8866008a58c0"
    },
    {
      "cell_type": "code",
      "execution_count": null,
      "metadata": {},
      "outputs": [],
      "source": [
        "aNumber = 4.56\n",
        "print(aNumber)\n",
        "print(isinstance(aNumber, float))\n",
        "\n",
        "aString = str(aNumber)\n",
        "print(aString)\n",
        "print(isinstance(aString, str))"
      ],
      "id": "ae4b10f0"
    }
  ],
  "nbformat": 4,
  "nbformat_minor": 5,
  "metadata": {
    "kernelspec": {
      "name": "python3",
      "display_name": "Python 3 (ipykernel)",
      "language": "python"
    }
  }
}
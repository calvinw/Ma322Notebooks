{
  "cells": [
    {
      "cell_type": "markdown",
      "metadata": {},
      "source": [
        "# Variables HW\n",
        "\n",
        "**Problem**: - Store the number 8 in a variable called `x` - Print out\n",
        "`x` - Execute the code block"
      ],
      "id": "f12c0e7d-1fb7-4467-a8c0-ab9ea8b43fc7"
    },
    {
      "cell_type": "code",
      "execution_count": null,
      "metadata": {},
      "outputs": [],
      "source": [
        "CODE"
      ],
      "id": "b082e689"
    },
    {
      "cell_type": "markdown",
      "metadata": {},
      "source": [
        "The output of the above should be `8`\n",
        "\n",
        "**Problem**: - Now assign `y` to be `5*x+3` - Print out `y` - Execute\n",
        "the code block"
      ],
      "id": "68786801-bac5-4c57-8057-758c84f4a463"
    },
    {
      "cell_type": "code",
      "execution_count": null,
      "metadata": {},
      "outputs": [],
      "source": [
        "CODE"
      ],
      "id": "a37f9be9"
    },
    {
      "cell_type": "markdown",
      "metadata": {},
      "source": [
        "The output of the above should be `43`\n",
        "\n",
        "**Problem**: - Find the square root of 119025 using the function\n",
        "`sqrt` - Execute the code block"
      ],
      "id": "0c0e3d83-5791-409d-8f4b-abd0ee58bb91"
    },
    {
      "cell_type": "code",
      "execution_count": null,
      "metadata": {},
      "outputs": [],
      "source": [
        "CODE"
      ],
      "id": "5492040d"
    },
    {
      "cell_type": "markdown",
      "metadata": {},
      "source": [
        "The output of the above should be `345`\n",
        "\n",
        "**Problem**: - Use the function `ceiling` to round up the value `1.3` -\n",
        "Execute the code block"
      ],
      "id": "3add3099-6e95-434a-bd22-9ecbb7b2636c"
    },
    {
      "cell_type": "code",
      "execution_count": null,
      "metadata": {},
      "outputs": [],
      "source": [
        "CODE"
      ],
      "id": "b88547f0"
    },
    {
      "cell_type": "markdown",
      "metadata": {},
      "source": [
        "The output of the above should be `2`\n",
        "\n",
        "**Problem**: - Use the function `floor` to round down the value `3.8` -\n",
        "Execute the code block"
      ],
      "id": "d6a304be-7d32-44bc-b2bd-92961c578f13"
    },
    {
      "cell_type": "code",
      "execution_count": null,
      "metadata": {},
      "outputs": [],
      "source": [
        "CODE"
      ],
      "id": "9c6826b7"
    },
    {
      "cell_type": "markdown",
      "metadata": {},
      "source": [
        "The output of the above should be `3`\n",
        "\n",
        "**Problem**: - Store a new number 10 in the variable called `x`. - Print\n",
        "out `x` - Execute the code block"
      ],
      "id": "ae6008b1-4d86-40cd-a5d7-19a57153e05e"
    },
    {
      "cell_type": "code",
      "execution_count": null,
      "metadata": {},
      "outputs": [],
      "source": [
        "CODE"
      ],
      "id": "9ee436e8"
    },
    {
      "cell_type": "markdown",
      "metadata": {},
      "source": [
        "The output of the above should be `10`\n",
        "\n",
        "**Problem**: - Assign the variable `myVal` to be `x+y` - Print out\n",
        "`myVal` - Execute the code block"
      ],
      "id": "84990500-601d-443d-a7f6-191581b13267"
    },
    {
      "cell_type": "code",
      "execution_count": null,
      "metadata": {},
      "outputs": [],
      "source": [
        "CODE"
      ],
      "id": "043b532e"
    },
    {
      "cell_type": "markdown",
      "metadata": {},
      "source": [
        "The output of the above should be `53`\n",
        "\n",
        "**Problem**: - Enter and the expression `14/2-1+3` - Execute the code\n",
        "block, it outputs `9` - Put in parentheses so that it outputs `17`\n",
        "instead"
      ],
      "id": "0b694db4-a777-461c-89e0-c3a0c177fae0"
    },
    {
      "cell_type": "code",
      "execution_count": null,
      "metadata": {},
      "outputs": [],
      "source": [
        "14/2-1+3"
      ],
      "id": "cefc0b62"
    },
    {
      "cell_type": "markdown",
      "metadata": {},
      "source": [
        "**Problem**: - Enter and the expression `8*3+9-9` - Execute the code\n",
        "block, it outputs `24` - Put in parentheses so that it outputs `87`\n",
        "instead"
      ],
      "id": "d753dc93-f392-4815-8aba-8c15403c6fb9"
    },
    {
      "cell_type": "code",
      "execution_count": null,
      "metadata": {},
      "outputs": [],
      "source": [
        "8*3+9-9"
      ],
      "id": "ece93fc0"
    },
    {
      "cell_type": "markdown",
      "metadata": {},
      "source": [
        "**Problem**: - Enter and the expression `10-9*24/8*6` - Execute the code\n",
        "block, it outputs `-152` - Put in parentheses so that it outputs `18`\n",
        "instead"
      ],
      "id": "ec171fe9-b4da-4655-8fb1-8f4a5a6abca2"
    },
    {
      "cell_type": "code",
      "execution_count": null,
      "metadata": {},
      "outputs": [],
      "source": [
        "10-9*24/8*6"
      ],
      "id": "366ea47d"
    },
    {
      "cell_type": "markdown",
      "metadata": {},
      "source": [
        "**Problem**: - Assume you have this code `5(3)` - Execute the code\n",
        "block, it outputs an error - Fix the code so that it outputs 15"
      ],
      "id": "b07b51be-8b2e-413c-a834-3e29ccf99730"
    },
    {
      "cell_type": "code",
      "execution_count": null,
      "metadata": {},
      "outputs": [],
      "source": [
        "5(3)"
      ],
      "id": "721587e5"
    },
    {
      "cell_type": "markdown",
      "metadata": {},
      "source": [
        "**Problem**: - Assign a variable `z=7` - Try to print out this\n",
        "expression: `2z` - Execute the code, it outputs an error - Fix the code\n",
        "so that it outputs `14`"
      ],
      "id": "4ce62394-1542-482d-ae3c-f3e9e9d5d1a5"
    },
    {
      "cell_type": "code",
      "execution_count": null,
      "metadata": {},
      "outputs": [],
      "source": [
        "z=7\n",
        "2z"
      ],
      "id": "81c40855"
    }
  ],
  "nbformat": 4,
  "nbformat_minor": 5,
  "metadata": {
    "kernelspec": {
      "name": "python3",
      "display_name": "Python 3 (ipykernel)",
      "language": "python",
      "path": "/usr/local/share/jupyter/kernels/python3"
    }
  }
}
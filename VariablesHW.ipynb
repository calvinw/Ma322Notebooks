{
  "cells": [
    {
      "cell_type": "markdown",
      "metadata": {},
      "source": [
        "# Variables HW\n",
        "\n",
        "In the code block below (replace the word `CODE`):\n",
        "\n",
        "-   Store the number 8 in a variable called `x`\n",
        "-   Print out `x`\n",
        "-   Execute the code block"
      ],
      "id": "af212f3b-7f5f-4dfc-a1ef-e39a917bd5fd"
    },
    {
      "cell_type": "code",
      "execution_count": null,
      "metadata": {},
      "outputs": [],
      "source": [
        "CODE"
      ],
      "id": "02c3024a"
    },
    {
      "cell_type": "markdown",
      "metadata": {},
      "source": [
        "The output of the above should be `8`\n",
        "\n",
        "In the code block below:\n",
        "\n",
        "-   Now assign `y` to be `5*x+3`\n",
        "-   Print out `y`\n",
        "-   Execute the code block"
      ],
      "id": "38f756e1-8f4b-4f52-abb0-69d50e966462"
    },
    {
      "cell_type": "code",
      "execution_count": null,
      "metadata": {},
      "outputs": [],
      "source": [
        "CODE"
      ],
      "id": "2055b038"
    },
    {
      "cell_type": "markdown",
      "metadata": {},
      "source": [
        "The output of the above should be `43`\n",
        "\n",
        "In the code block below:\n",
        "\n",
        "-   Find the square root of 119025 using the function `sqrt`\n",
        "-   Execute the code block"
      ],
      "id": "cfd22f49-3934-41bc-ac72-2150e8b5c9b5"
    },
    {
      "cell_type": "code",
      "execution_count": null,
      "metadata": {},
      "outputs": [],
      "source": [
        "CODE"
      ],
      "id": "8d10f6b9"
    },
    {
      "cell_type": "markdown",
      "metadata": {},
      "source": [
        "The output of the above should be `345`\n",
        "\n",
        "In the code block below:\n",
        "\n",
        "-   Use the function `ceiling` to round up the value `1.3`\n",
        "-   Execute the code block"
      ],
      "id": "d6cbffd9-8068-4dff-96b6-5ccf0c45951d"
    },
    {
      "cell_type": "code",
      "execution_count": null,
      "metadata": {},
      "outputs": [],
      "source": [
        "CODE"
      ],
      "id": "e37c55ac"
    },
    {
      "cell_type": "markdown",
      "metadata": {},
      "source": [
        "The output of the above should be `2`\n",
        "\n",
        "In the code block below:\n",
        "\n",
        "-   Use the function `floor` to round down the value `3.8`\n",
        "-   Execute the code block"
      ],
      "id": "d25aaaf6-7a8e-4d6c-8e5d-c58d83098a12"
    },
    {
      "cell_type": "code",
      "execution_count": null,
      "metadata": {},
      "outputs": [],
      "source": [
        "CODE"
      ],
      "id": "6323754e"
    },
    {
      "cell_type": "markdown",
      "metadata": {},
      "source": [
        "The output of the above should be `3`\n",
        "\n",
        "In the code block below:\n",
        "\n",
        "-   Store a new number 10 in the variable called `x`.\n",
        "-   Print out `x`\n",
        "-   Execute the code block"
      ],
      "id": "ff358aa5-a455-41b2-8379-60c81ccbd01f"
    },
    {
      "cell_type": "code",
      "execution_count": null,
      "metadata": {},
      "outputs": [],
      "source": [
        "CODE"
      ],
      "id": "bd5e0c6d"
    },
    {
      "cell_type": "markdown",
      "metadata": {},
      "source": [
        "The output of the above should be `10`\n",
        "\n",
        "In the code block below:\n",
        "\n",
        "-   Assign the variable `myVal` to be `x+y`\n",
        "-   Print out `myVal`\n",
        "-   Execute the code block"
      ],
      "id": "47a68068-d039-4535-8d5f-5bd9bcf133c6"
    },
    {
      "cell_type": "code",
      "execution_count": null,
      "metadata": {},
      "outputs": [],
      "source": [
        "CODE"
      ],
      "id": "b2746c29"
    },
    {
      "cell_type": "markdown",
      "metadata": {},
      "source": [
        "The output of the above should be `53`\n",
        "\n",
        "In the code block below:\n",
        "\n",
        "-   Enter and the expression `14/2-1+3`\n",
        "-   Execute the code block, it outputs `9`\n",
        "-   Put in parentheses so that it outputs `17` instead"
      ],
      "id": "99c7e4ea-2b81-4258-b740-6ddfde9d853e"
    },
    {
      "cell_type": "code",
      "execution_count": null,
      "metadata": {},
      "outputs": [],
      "source": [
        "14/2-1+3"
      ],
      "id": "ffe5f7e2"
    },
    {
      "cell_type": "markdown",
      "metadata": {},
      "source": [
        "In the code block below:\n",
        "\n",
        "-   Enter and the expression `8*3+9-9`\n",
        "-   Execute the code block, it outputs `24`\n",
        "-   Put in parentheses so that it outputs `87` instead"
      ],
      "id": "ee51d439-6205-4790-95d3-4223147071e6"
    },
    {
      "cell_type": "code",
      "execution_count": null,
      "metadata": {},
      "outputs": [],
      "source": [
        "8*3+9-9"
      ],
      "id": "ab8e8d22"
    },
    {
      "cell_type": "markdown",
      "metadata": {},
      "source": [
        "In the code block below:\n",
        "\n",
        "-   Enter and the expression `10-9*24/8*6`\n",
        "-   Execute the code block, it outputs `-152`\n",
        "-   Put in parentheses so that it outputs `18` instead"
      ],
      "id": "755edd02-82b4-457c-bd50-40c37b334398"
    },
    {
      "cell_type": "code",
      "execution_count": null,
      "metadata": {},
      "outputs": [],
      "source": [
        "10-9*24/8*6"
      ],
      "id": "2d17b4fc"
    },
    {
      "cell_type": "markdown",
      "metadata": {},
      "source": [
        "In the code block below:\n",
        "\n",
        "-   Assume you have this code `5(3)`\n",
        "-   Execute the code block, it outputs an error\n",
        "-   Fix the code so that it outputs 15"
      ],
      "id": "db94b58a-534f-4cfa-b240-5781d8edfb9b"
    },
    {
      "cell_type": "code",
      "execution_count": null,
      "metadata": {},
      "outputs": [],
      "source": [
        "5(3)"
      ],
      "id": "82915f0a"
    },
    {
      "cell_type": "markdown",
      "metadata": {},
      "source": [
        "-   Assign a variable `z=7`\n",
        "-   Try to print out this expression: `2z`\n",
        "-   Execute the code, it outputs an error\n",
        "-   Fix the code so that it outputs `14`"
      ],
      "id": "853ea8c0-b438-492e-9664-5a1440aeeda9"
    },
    {
      "cell_type": "code",
      "execution_count": null,
      "metadata": {},
      "outputs": [],
      "source": [
        "z=7\n",
        "2z"
      ],
      "id": "ac1ca9fe"
    }
  ],
  "nbformat": 4,
  "nbformat_minor": 5,
  "metadata": {
    "kernelspec": {
      "name": "python3",
      "display_name": "Python 3 (ipykernel)",
      "language": "python"
    }
  }
}
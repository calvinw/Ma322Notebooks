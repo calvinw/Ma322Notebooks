{
  "cells": [
    {
      "cell_type": "markdown",
      "metadata": {},
      "source": [
        "# Variables HW\n",
        "\n",
        "In the code block below (replace the word `CODE`):\n",
        "\n",
        "-   Store the number 8 in a variable called `x`\n",
        "-   Print out `x`\n",
        "-   Execute the code block"
      ],
      "id": "f710ab0c-0272-4d6d-addd-5c1b67e171f4"
    },
    {
      "cell_type": "code",
      "execution_count": null,
      "metadata": {},
      "outputs": [],
      "source": [
        "CODE"
      ],
      "id": "e8267182"
    },
    {
      "cell_type": "markdown",
      "metadata": {},
      "source": [
        "The output of the above should be `8`\n",
        "\n",
        "In the code block below:\n",
        "\n",
        "-   Now assign `y` to be `5*x+3`\n",
        "-   Print out `y`\n",
        "-   Execute the code block"
      ],
      "id": "f8b31d29-e711-4ad4-bb2e-1dbf6196d1d1"
    },
    {
      "cell_type": "code",
      "execution_count": null,
      "metadata": {},
      "outputs": [],
      "source": [
        "CODE"
      ],
      "id": "2e0cf10f"
    },
    {
      "cell_type": "markdown",
      "metadata": {},
      "source": [
        "The output of the above should be `43`\n",
        "\n",
        "In the code block below:\n",
        "\n",
        "-   Find the square root of 119025 using the function `sqrt`\n",
        "-   Execute the code block"
      ],
      "id": "4d30305a-f19a-4d4b-9090-70e1f2477e89"
    },
    {
      "cell_type": "code",
      "execution_count": null,
      "metadata": {},
      "outputs": [],
      "source": [
        "CODE"
      ],
      "id": "20f9f4ef"
    },
    {
      "cell_type": "markdown",
      "metadata": {},
      "source": [
        "The output of the above should be `345`\n",
        "\n",
        "In the code block below:\n",
        "\n",
        "-   Use the function `ceiling` to round up the value `1.3`\n",
        "-   Execute the code block"
      ],
      "id": "45621c65-6bc3-4188-93cb-0eaefb543c6a"
    },
    {
      "cell_type": "code",
      "execution_count": null,
      "metadata": {},
      "outputs": [],
      "source": [
        "CODE"
      ],
      "id": "54b4652f"
    },
    {
      "cell_type": "markdown",
      "metadata": {},
      "source": [
        "The output of the above should be `2`\n",
        "\n",
        "In the code block below:\n",
        "\n",
        "-   Use the function `floor` to round down the value `3.8`\n",
        "-   Execute the code block"
      ],
      "id": "d7b88dae-c3d7-46b5-988f-e51376095461"
    },
    {
      "cell_type": "code",
      "execution_count": null,
      "metadata": {},
      "outputs": [],
      "source": [
        "CODE"
      ],
      "id": "6825c99c"
    },
    {
      "cell_type": "markdown",
      "metadata": {},
      "source": [
        "The output of the above should be `3`\n",
        "\n",
        "In the code block below:\n",
        "\n",
        "-   Store a new number 10 in the variable called `x`.\n",
        "-   Print out `x`\n",
        "-   Execute the code block"
      ],
      "id": "777fbcd4-0179-4bcc-b8bf-e9e36f7c9f22"
    },
    {
      "cell_type": "code",
      "execution_count": null,
      "metadata": {},
      "outputs": [],
      "source": [
        "CODE"
      ],
      "id": "0d1634ca"
    },
    {
      "cell_type": "markdown",
      "metadata": {},
      "source": [
        "The output of the above should be `10`\n",
        "\n",
        "In the code block below:\n",
        "\n",
        "-   Assign the variable `myVal` to be `x+y`\n",
        "-   Print out `myVal`\n",
        "-   Execute the code block"
      ],
      "id": "0fdbe763-7ffb-458a-9c97-2017f5583a9c"
    },
    {
      "cell_type": "code",
      "execution_count": null,
      "metadata": {},
      "outputs": [],
      "source": [
        "CODE"
      ],
      "id": "2a5c2f01"
    },
    {
      "cell_type": "markdown",
      "metadata": {},
      "source": [
        "The output of the above should be `53`\n",
        "\n",
        "In the code block below:\n",
        "\n",
        "-   Enter and the expression `14/2-1+3`\n",
        "-   Execute the code block, it outputs `9`\n",
        "-   Put in parentheses so that it outputs `17` instead"
      ],
      "id": "c2df72eb-8b2b-452c-9fee-f7b30427f88b"
    },
    {
      "cell_type": "code",
      "execution_count": null,
      "metadata": {},
      "outputs": [],
      "source": [
        "14/2-1+3"
      ],
      "id": "0731f2d8"
    },
    {
      "cell_type": "markdown",
      "metadata": {},
      "source": [
        "In the code block below:\n",
        "\n",
        "-   Enter and the expression `8*3+9-9`\n",
        "-   Execute the code block, it outputs `24`\n",
        "-   Put in parentheses so that it outputs `87` instead"
      ],
      "id": "1749b76b-be02-4841-8714-d6dfde0ea200"
    },
    {
      "cell_type": "code",
      "execution_count": null,
      "metadata": {},
      "outputs": [],
      "source": [
        "8*3+9-9"
      ],
      "id": "27075600"
    },
    {
      "cell_type": "markdown",
      "metadata": {},
      "source": [
        "In the code block below:\n",
        "\n",
        "-   Enter and the expression `10-9*24/8*6`\n",
        "-   Execute the code block, it outputs `-152`\n",
        "-   Put in parentheses so that it outputs `18` instead"
      ],
      "id": "86c9ee6a-464b-48ed-803b-d7933e7cc882"
    },
    {
      "cell_type": "code",
      "execution_count": null,
      "metadata": {},
      "outputs": [],
      "source": [
        "10-9*24/8*6"
      ],
      "id": "b0081e46"
    },
    {
      "cell_type": "markdown",
      "metadata": {},
      "source": [
        "In the code block below:\n",
        "\n",
        "-   Assume you have this code `5(3)`\n",
        "-   Execute the code block, it outputs an error\n",
        "-   Fix the code so that it outputs 15"
      ],
      "id": "5f984ce5-dca5-46a8-b259-7a1e614c8ed0"
    },
    {
      "cell_type": "code",
      "execution_count": null,
      "metadata": {},
      "outputs": [],
      "source": [
        "5(3)"
      ],
      "id": "58e711a6"
    },
    {
      "cell_type": "markdown",
      "metadata": {},
      "source": [
        "-   Assign a variable `z=7`\n",
        "-   Try to print out this expression: `2z`\n",
        "-   Execute the code, it outputs an error\n",
        "-   Fix the code so that it outputs `14`"
      ],
      "id": "c327620c-51bf-4abf-b87d-c96ae9ee6c90"
    },
    {
      "cell_type": "code",
      "execution_count": null,
      "metadata": {},
      "outputs": [],
      "source": [
        "z=7\n",
        "2z"
      ],
      "id": "e83bbc98"
    }
  ],
  "nbformat": 4,
  "nbformat_minor": 5,
  "metadata": {
    "kernelspec": {
      "name": "python3",
      "display_name": "Python 3 (ipykernel)",
      "language": "python"
    }
  }
}
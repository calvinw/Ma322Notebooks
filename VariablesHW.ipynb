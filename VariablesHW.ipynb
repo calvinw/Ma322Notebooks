{
  "cells": [
    {
      "cell_type": "markdown",
      "metadata": {},
      "source": [
        "# Variables HW\n",
        "\n",
        "In the code block below (replace the word `CODE`):\n",
        "\n",
        "-   Store the number 8 in a variable called `x`\n",
        "-   Print out `x`\n",
        "-   Execute the code block"
      ],
      "id": "41c0b312-3a79-4003-ba25-25b86aa64980"
    },
    {
      "cell_type": "code",
      "execution_count": null,
      "metadata": {},
      "outputs": [],
      "source": [
        "CODE"
      ],
      "id": "a083aa40"
    },
    {
      "cell_type": "markdown",
      "metadata": {},
      "source": [
        "The output of the above should be `8`\n",
        "\n",
        "In the code block below:\n",
        "\n",
        "-   Now assign `y` to be `5*x+3`\n",
        "-   Print out `y`\n",
        "-   Execute the code block"
      ],
      "id": "eb5ed2c5-66f6-4672-8f22-88290b6e08fb"
    },
    {
      "cell_type": "code",
      "execution_count": null,
      "metadata": {},
      "outputs": [],
      "source": [
        "CODE"
      ],
      "id": "41228d26"
    },
    {
      "cell_type": "markdown",
      "metadata": {},
      "source": [
        "The output of the above should be `43`\n",
        "\n",
        "In the code block below:\n",
        "\n",
        "-   Find the square root of 119025 using the function `sqrt`\n",
        "-   Execute the code block"
      ],
      "id": "ba38374b-d18c-4af2-822f-2ce1bb421f1b"
    },
    {
      "cell_type": "code",
      "execution_count": null,
      "metadata": {},
      "outputs": [],
      "source": [
        "CODE"
      ],
      "id": "9d06f25c"
    },
    {
      "cell_type": "markdown",
      "metadata": {},
      "source": [
        "The output of the above should be `345`\n",
        "\n",
        "In the code block below:\n",
        "\n",
        "-   Use the function `ceiling` to round up the value `1.3`\n",
        "-   Execute the code block"
      ],
      "id": "e12b4a6a-1aaa-4068-9a45-6ba40736033d"
    },
    {
      "cell_type": "code",
      "execution_count": null,
      "metadata": {},
      "outputs": [],
      "source": [
        "CODE"
      ],
      "id": "e07c5b50"
    },
    {
      "cell_type": "markdown",
      "metadata": {},
      "source": [
        "The output of the above should be `2`\n",
        "\n",
        "In the code block below:\n",
        "\n",
        "-   Use the function `floor` to round down the value `3.8`\n",
        "-   Execute the code block"
      ],
      "id": "bf917e37-3688-4956-a9e7-b1ec2069cdda"
    },
    {
      "cell_type": "code",
      "execution_count": null,
      "metadata": {},
      "outputs": [],
      "source": [
        "CODE"
      ],
      "id": "8cee791f"
    },
    {
      "cell_type": "markdown",
      "metadata": {},
      "source": [
        "The output of the above should be `3`\n",
        "\n",
        "In the code block below:\n",
        "\n",
        "-   Store a new number 10 in the variable called `x`.\n",
        "-   Print out `x`\n",
        "-   Execute the code block"
      ],
      "id": "11bea431-aa64-4899-98e5-9300c63e5161"
    },
    {
      "cell_type": "code",
      "execution_count": null,
      "metadata": {},
      "outputs": [],
      "source": [
        "CODE"
      ],
      "id": "eb403000"
    },
    {
      "cell_type": "markdown",
      "metadata": {},
      "source": [
        "The output of the above should be `10`\n",
        "\n",
        "In the code block below:\n",
        "\n",
        "-   Assign the variable `myVal` to be `x+y`\n",
        "-   Print out `myVal`\n",
        "-   Execute the code block"
      ],
      "id": "bf3e525e-a88c-421c-8337-534761a9320d"
    },
    {
      "cell_type": "code",
      "execution_count": null,
      "metadata": {},
      "outputs": [],
      "source": [
        "CODE"
      ],
      "id": "3c01eabc"
    },
    {
      "cell_type": "markdown",
      "metadata": {},
      "source": [
        "The output of the above should be `53`\n",
        "\n",
        "In the code block below:\n",
        "\n",
        "-   Enter and the expression `14/2-1+3`\n",
        "-   Execute the code block, it outputs `9`\n",
        "-   Put in parentheses so that it outputs `17` instead"
      ],
      "id": "09ef3f05-2ce5-4e66-a1ad-fe85b2118a34"
    },
    {
      "cell_type": "code",
      "execution_count": null,
      "metadata": {},
      "outputs": [],
      "source": [
        "14/2-1+3"
      ],
      "id": "2edc1c03"
    },
    {
      "cell_type": "markdown",
      "metadata": {},
      "source": [
        "In the code block below:\n",
        "\n",
        "-   Enter and the expression `8*3+9-9`\n",
        "-   Execute the code block, it outputs `24`\n",
        "-   Put in parentheses so that it outputs `87` instead"
      ],
      "id": "3b577f73-3ef7-4807-9937-3ae3cdd960bc"
    },
    {
      "cell_type": "code",
      "execution_count": null,
      "metadata": {},
      "outputs": [],
      "source": [
        "8*3+9-9"
      ],
      "id": "e0a1a5bc"
    },
    {
      "cell_type": "markdown",
      "metadata": {},
      "source": [
        "In the code block below:\n",
        "\n",
        "-   Enter and the expression `10-9*24/8*6`\n",
        "-   Execute the code block, it outputs `-152`\n",
        "-   Put in parentheses so that it outputs `18` instead"
      ],
      "id": "688c83a9-4830-436c-8507-874e4067710d"
    },
    {
      "cell_type": "code",
      "execution_count": null,
      "metadata": {},
      "outputs": [],
      "source": [
        "10-9*24/8*6"
      ],
      "id": "42fa4d41"
    },
    {
      "cell_type": "markdown",
      "metadata": {},
      "source": [
        "In the code block below:\n",
        "\n",
        "-   Assume you have this code `5(3)`\n",
        "-   Execute the code block, it outputs an error\n",
        "-   Fix the code so that it outputs 15"
      ],
      "id": "2824bc5f-7be5-4562-b2a7-ff7dc9ff20e9"
    },
    {
      "cell_type": "code",
      "execution_count": null,
      "metadata": {},
      "outputs": [],
      "source": [
        "5(3)"
      ],
      "id": "a8cc9236"
    },
    {
      "cell_type": "markdown",
      "metadata": {},
      "source": [
        "-   Assign a variable `z=7`\n",
        "-   Try to print out this expression: `2z`\n",
        "-   Execute the code, it outputs an error\n",
        "-   Fix the code so that it outputs `14`"
      ],
      "id": "fe6344cd-9d2a-47df-a3d3-9be077be436f"
    },
    {
      "cell_type": "code",
      "execution_count": null,
      "metadata": {},
      "outputs": [],
      "source": [
        "z=7\n",
        "2z"
      ],
      "id": "41ff2a19"
    }
  ],
  "nbformat": 4,
  "nbformat_minor": 5,
  "metadata": {
    "kernelspec": {
      "name": "python3",
      "display_name": "Python 3 (ipykernel)",
      "language": "python"
    }
  }
}
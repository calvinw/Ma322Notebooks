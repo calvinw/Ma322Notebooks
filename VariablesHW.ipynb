{
  "cells": [
    {
      "cell_type": "markdown",
      "metadata": {},
      "source": [
        "# Variables HW\n",
        "\n",
        "**Problem**: - Store the number 8 in a variable called `x` - Print out\n",
        "`x` - Execute the code block"
      ],
      "id": "7c59b836-ac7e-4914-bbb0-8e846792bff7"
    },
    {
      "cell_type": "code",
      "execution_count": null,
      "metadata": {},
      "outputs": [],
      "source": [
        "CODE"
      ],
      "id": "4d8af83a"
    },
    {
      "cell_type": "code",
      "execution_count": null,
      "metadata": {},
      "outputs": [],
      "source": [
        "__SOLUTION__\n",
        "x=8\n",
        "x"
      ],
      "id": "cb12b64c"
    },
    {
      "cell_type": "markdown",
      "metadata": {},
      "source": [
        "The output of the above should be `8`\n",
        "\n",
        "**Problem**: - Now assign `y` to be `5*x+3` - Print out `y` - Execute\n",
        "the code block"
      ],
      "id": "5b53a7ba-39c4-474d-9891-01ad10bac799"
    },
    {
      "cell_type": "code",
      "execution_count": null,
      "metadata": {},
      "outputs": [],
      "source": [
        "CODE"
      ],
      "id": "574e0a6e"
    },
    {
      "cell_type": "code",
      "execution_count": null,
      "metadata": {},
      "outputs": [],
      "source": [
        "__SOLUTION__\n",
        "y=5*x+3\n",
        "y"
      ],
      "id": "e5ec0d15"
    },
    {
      "cell_type": "markdown",
      "metadata": {},
      "source": [
        "The output of the above should be `43`\n",
        "\n",
        "**Problem**: - Find the square root of 119025 using the function\n",
        "`sqrt` - Execute the code block"
      ],
      "id": "b51f5526-20b1-4f7c-b825-372938a9e451"
    },
    {
      "cell_type": "code",
      "execution_count": null,
      "metadata": {},
      "outputs": [],
      "source": [
        "CODE"
      ],
      "id": "97993054"
    },
    {
      "cell_type": "code",
      "execution_count": null,
      "metadata": {},
      "outputs": [],
      "source": [
        "__SOLUTION__\n",
        "import math\n",
        "math.sqrt(119025)"
      ],
      "id": "52850c93"
    },
    {
      "cell_type": "markdown",
      "metadata": {},
      "source": [
        "The output of the above should be `345`\n",
        "\n",
        "**Problem**: - Use the function `ceiling` to round up the value `1.3` -\n",
        "Execute the code block"
      ],
      "id": "62a917e5-3576-43c4-8727-7509c4a38620"
    },
    {
      "cell_type": "code",
      "execution_count": null,
      "metadata": {},
      "outputs": [],
      "source": [
        "CODE"
      ],
      "id": "415d1b18"
    },
    {
      "cell_type": "code",
      "execution_count": null,
      "metadata": {},
      "outputs": [],
      "source": [
        "__SOLUTION__\n",
        "math.ceil(1.3)"
      ],
      "id": "7b72dccf"
    },
    {
      "cell_type": "markdown",
      "metadata": {},
      "source": [
        "The output of the above should be `2`\n",
        "\n",
        "**Problem**: - Use the function `floor` to round down the value `3.8` -\n",
        "Execute the code block"
      ],
      "id": "06433550-3d88-4439-8c70-1e432dbeab1e"
    },
    {
      "cell_type": "code",
      "execution_count": null,
      "metadata": {},
      "outputs": [],
      "source": [
        "CODE"
      ],
      "id": "0379f150"
    },
    {
      "cell_type": "code",
      "execution_count": null,
      "metadata": {},
      "outputs": [],
      "source": [
        "__SOLUTION__\n",
        "math.floor(3.8)"
      ],
      "id": "2c503781"
    },
    {
      "cell_type": "markdown",
      "metadata": {},
      "source": [
        "The output of the above should be `3`\n",
        "\n",
        "**Problem**: - Store a new number 10 in the variable called `x`. - Print\n",
        "out `x` - Execute the code block"
      ],
      "id": "ccda0c28-faf1-4d89-9781-3c8be8bd8a75"
    },
    {
      "cell_type": "code",
      "execution_count": null,
      "metadata": {},
      "outputs": [],
      "source": [
        "CODE"
      ],
      "id": "c14bd65e"
    },
    {
      "cell_type": "code",
      "execution_count": null,
      "metadata": {},
      "outputs": [],
      "source": [
        "__SOLUTION__\n",
        "x=10\n",
        "x"
      ],
      "id": "2eb5d38b"
    },
    {
      "cell_type": "markdown",
      "metadata": {},
      "source": [
        "The output of the above should be `10`\n",
        "\n",
        "**Problem**: - Assign the variable `myVal` to be `x+y` - Print out\n",
        "`myVal` - Execute the code block"
      ],
      "id": "bcb46196-1353-4bba-8116-531ff8658927"
    },
    {
      "cell_type": "code",
      "execution_count": null,
      "metadata": {},
      "outputs": [],
      "source": [
        "CODE"
      ],
      "id": "fa8e3e1e"
    },
    {
      "cell_type": "code",
      "execution_count": null,
      "metadata": {},
      "outputs": [],
      "source": [
        "__SOLUTION__\n",
        "myVal=x+y\n",
        "myVal"
      ],
      "id": "dceef2f0"
    },
    {
      "cell_type": "markdown",
      "metadata": {},
      "source": [
        "The output of the above should be `53`\n",
        "\n",
        "**Problem**: - Enter and the expression `14/2-1+3` - Execute the code\n",
        "block, it outputs `9` - Put in parentheses so that it outputs `17`\n",
        "instead"
      ],
      "id": "e46503ff-7b6c-4065-988e-cf9cb087e3bb"
    },
    {
      "cell_type": "code",
      "execution_count": null,
      "metadata": {},
      "outputs": [],
      "source": [
        "14/2-1+3"
      ],
      "id": "6ca8d496"
    },
    {
      "cell_type": "code",
      "execution_count": null,
      "metadata": {},
      "outputs": [],
      "source": [
        "__SOLUTION__\n",
        "14/(2-1)+3"
      ],
      "id": "8ab0bfd8"
    },
    {
      "cell_type": "markdown",
      "metadata": {},
      "source": [
        "**Problem**: - Enter and the expression `8*3+9-9` - Execute the code\n",
        "block, it outputs `24` - Put in parentheses so that it outputs `87`\n",
        "instead"
      ],
      "id": "ecc81380-d59f-4809-abe5-859d3cfb0289"
    },
    {
      "cell_type": "code",
      "execution_count": null,
      "metadata": {},
      "outputs": [],
      "source": [
        "8*3+9-9"
      ],
      "id": "d63678bb"
    },
    {
      "cell_type": "code",
      "execution_count": null,
      "metadata": {},
      "outputs": [],
      "source": [
        "__SOLUTION__\n",
        "8*(3+9)-9"
      ],
      "id": "18804b98"
    },
    {
      "cell_type": "markdown",
      "metadata": {},
      "source": [
        "**Problem**: - Enter and the expression `10-9*24/8*6` - Execute the code\n",
        "block, it outputs `-152` - Put in parentheses so that it outputs `18`\n",
        "instead"
      ],
      "id": "0461f53a-86fb-4c76-be4c-19cb81dd5d2c"
    },
    {
      "cell_type": "code",
      "execution_count": null,
      "metadata": {},
      "outputs": [],
      "source": [
        "10-9*24/8*6"
      ],
      "id": "bc3abf23"
    },
    {
      "cell_type": "code",
      "execution_count": null,
      "metadata": {},
      "outputs": [],
      "source": [
        "__SOLUTION__\n",
        "(10-9)*24/8*6"
      ],
      "id": "a6e70604"
    },
    {
      "cell_type": "markdown",
      "metadata": {},
      "source": [
        "**Problem**: - Assume you have this code `5(3)` - Execute the code\n",
        "block, it outputs an error - Fix the code so that it outputs 15"
      ],
      "id": "a4fdcb26-17ab-4366-b204-8aaa52cbdf6e"
    },
    {
      "cell_type": "code",
      "execution_count": null,
      "metadata": {},
      "outputs": [],
      "source": [
        "5(3)"
      ],
      "id": "479da05b"
    },
    {
      "cell_type": "code",
      "execution_count": null,
      "metadata": {},
      "outputs": [],
      "source": [
        "__SOLUTION__\n",
        "5*3"
      ],
      "id": "21a276f9"
    },
    {
      "cell_type": "markdown",
      "metadata": {},
      "source": [
        "**Problem**: - Assign a variable `z=7` - Try to print out this\n",
        "expression: `2z` - Execute the code, it outputs an error - Fix the code\n",
        "so that it outputs `14`"
      ],
      "id": "9c90773a-ca32-4bd7-bc51-29a74e4e122b"
    },
    {
      "cell_type": "code",
      "execution_count": null,
      "metadata": {},
      "outputs": [],
      "source": [
        "z=7\n",
        "2z"
      ],
      "id": "3cfa633c"
    },
    {
      "cell_type": "code",
      "execution_count": null,
      "metadata": {},
      "outputs": [],
      "source": [
        "__SOLUTION__\n",
        "z=7\n",
        "2*z"
      ],
      "id": "e0229f87"
    }
  ],
  "nbformat": 4,
  "nbformat_minor": 5,
  "metadata": {
    "kernelspec": {
      "name": "python3",
      "display_name": "Python 3 (ipykernel)",
      "language": "python"
    }
  }
}
{
  "cells": [
    {
      "cell_type": "markdown",
      "metadata": {},
      "source": [
        "# Variables HW\n",
        "\n",
        "**Problem**: - Store the number 8 in a variable called `x` - Print out\n",
        "`x` - Execute the code block"
      ],
      "id": "8123f266-6047-49b1-bf2e-581576f1bfd5"
    },
    {
      "cell_type": "code",
      "execution_count": null,
      "metadata": {},
      "outputs": [],
      "source": [
        "CODE"
      ],
      "id": "b1372b5d"
    },
    {
      "cell_type": "code",
      "execution_count": null,
      "metadata": {},
      "outputs": [],
      "source": [
        "__SOLUTION__\n",
        "x=8\n",
        "x"
      ],
      "id": "2a60af5d"
    },
    {
      "cell_type": "markdown",
      "metadata": {},
      "source": [
        "The output of the above should be `8`\n",
        "\n",
        "**Problem**: - Now assign `y` to be `5*x+3` - Print out `y` - Execute\n",
        "the code block"
      ],
      "id": "364ca951-6609-4473-a5be-3d9f8a81d9ab"
    },
    {
      "cell_type": "code",
      "execution_count": null,
      "metadata": {},
      "outputs": [],
      "source": [
        "CODE"
      ],
      "id": "8d7c34a5"
    },
    {
      "cell_type": "code",
      "execution_count": null,
      "metadata": {},
      "outputs": [],
      "source": [
        "__SOLUTION__\n",
        "y=5*x+3\n",
        "y"
      ],
      "id": "cf0d8b7c"
    },
    {
      "cell_type": "markdown",
      "metadata": {},
      "source": [
        "The output of the above should be `43`\n",
        "\n",
        "**Problem**: - Find the square root of 119025 using the function\n",
        "`sqrt` - Execute the code block"
      ],
      "id": "9ff7afed-e29b-408d-ab29-4574f6263002"
    },
    {
      "cell_type": "code",
      "execution_count": null,
      "metadata": {},
      "outputs": [],
      "source": [
        "CODE"
      ],
      "id": "696036a2"
    },
    {
      "cell_type": "code",
      "execution_count": null,
      "metadata": {},
      "outputs": [],
      "source": [
        "__SOLUTION__\n",
        "import math\n",
        "math.sqrt(119025)"
      ],
      "id": "05d81110"
    },
    {
      "cell_type": "markdown",
      "metadata": {},
      "source": [
        "The output of the above should be `345`\n",
        "\n",
        "**Problem**: - Use the function `ceiling` to round up the value `1.3` -\n",
        "Execute the code block"
      ],
      "id": "00ddcd94-f0cd-4ec2-99b5-744332ef88c2"
    },
    {
      "cell_type": "code",
      "execution_count": null,
      "metadata": {},
      "outputs": [],
      "source": [
        "CODE"
      ],
      "id": "d100fefe"
    },
    {
      "cell_type": "code",
      "execution_count": null,
      "metadata": {},
      "outputs": [],
      "source": [
        "__SOLUTION__\n",
        "math.ceil(1.3)"
      ],
      "id": "39f12114"
    },
    {
      "cell_type": "markdown",
      "metadata": {},
      "source": [
        "The output of the above should be `2`\n",
        "\n",
        "**Problem**: - Use the function `floor` to round down the value `3.8` -\n",
        "Execute the code block"
      ],
      "id": "beb1c2c4-dc8b-43d0-bb56-10353ee4c528"
    },
    {
      "cell_type": "code",
      "execution_count": null,
      "metadata": {},
      "outputs": [],
      "source": [
        "CODE"
      ],
      "id": "a685b55f"
    },
    {
      "cell_type": "code",
      "execution_count": null,
      "metadata": {},
      "outputs": [],
      "source": [
        "__SOLUTION__\n",
        "math.floor(3.8)"
      ],
      "id": "67ac8908"
    },
    {
      "cell_type": "markdown",
      "metadata": {},
      "source": [
        "The output of the above should be `3`\n",
        "\n",
        "**Problem**: - Store a new number 10 in the variable called `x`. - Print\n",
        "out `x` - Execute the code block"
      ],
      "id": "ee7def13-eb4c-49f0-bdda-4f835542158d"
    },
    {
      "cell_type": "code",
      "execution_count": null,
      "metadata": {},
      "outputs": [],
      "source": [
        "CODE"
      ],
      "id": "b065d416"
    },
    {
      "cell_type": "code",
      "execution_count": null,
      "metadata": {},
      "outputs": [],
      "source": [
        "__SOLUTION__\n",
        "x=10\n",
        "x"
      ],
      "id": "0bb5dca5"
    },
    {
      "cell_type": "markdown",
      "metadata": {},
      "source": [
        "The output of the above should be `10`\n",
        "\n",
        "**Problem**: - Assign the variable `myVal` to be `x+y` - Print out\n",
        "`myVal` - Execute the code block"
      ],
      "id": "cb625f2e-1c8e-424c-aebb-7fa19b2aec47"
    },
    {
      "cell_type": "code",
      "execution_count": null,
      "metadata": {},
      "outputs": [],
      "source": [
        "CODE"
      ],
      "id": "55006977"
    },
    {
      "cell_type": "code",
      "execution_count": null,
      "metadata": {},
      "outputs": [],
      "source": [
        "__SOLUTION__\n",
        "myVal=x+y\n",
        "myVal"
      ],
      "id": "d128ed0b"
    },
    {
      "cell_type": "markdown",
      "metadata": {},
      "source": [
        "The output of the above should be `53`\n",
        "\n",
        "**Problem**: - Enter and the expression `14/2-1+3` - Execute the code\n",
        "block, it outputs `9` - Put in parentheses so that it outputs `17`\n",
        "instead"
      ],
      "id": "a376b82c-f390-4b8c-b2cd-36a0f11f0bad"
    },
    {
      "cell_type": "code",
      "execution_count": null,
      "metadata": {},
      "outputs": [],
      "source": [
        "14/2-1+3"
      ],
      "id": "98333aef"
    },
    {
      "cell_type": "code",
      "execution_count": null,
      "metadata": {},
      "outputs": [],
      "source": [
        "__SOLUTION__\n",
        "14/(2-1)+3"
      ],
      "id": "3c5a56dd"
    },
    {
      "cell_type": "markdown",
      "metadata": {},
      "source": [
        "**Problem**: - Enter and the expression `8*3+9-9` - Execute the code\n",
        "block, it outputs `24` - Put in parentheses so that it outputs `87`\n",
        "instead"
      ],
      "id": "cb5f9982-cddf-4357-9b50-3e90dca57417"
    },
    {
      "cell_type": "code",
      "execution_count": null,
      "metadata": {},
      "outputs": [],
      "source": [
        "8*3+9-9"
      ],
      "id": "8f66215a"
    },
    {
      "cell_type": "code",
      "execution_count": null,
      "metadata": {},
      "outputs": [],
      "source": [
        "__SOLUTION__\n",
        "8*(3+9)-9"
      ],
      "id": "bdf910db"
    },
    {
      "cell_type": "markdown",
      "metadata": {},
      "source": [
        "**Problem**: - Enter and the expression `10-9*24/8*6` - Execute the code\n",
        "block, it outputs `-152` - Put in parentheses so that it outputs `18`\n",
        "instead"
      ],
      "id": "06008546-b4c0-46b6-aa6a-c49d46c3a739"
    },
    {
      "cell_type": "code",
      "execution_count": null,
      "metadata": {},
      "outputs": [],
      "source": [
        "10-9*24/8*6"
      ],
      "id": "9e95ea45"
    },
    {
      "cell_type": "code",
      "execution_count": null,
      "metadata": {},
      "outputs": [],
      "source": [
        "__SOLUTION__\n",
        "(10-9)*24/8*6"
      ],
      "id": "9a7e612a"
    },
    {
      "cell_type": "markdown",
      "metadata": {},
      "source": [
        "**Problem**: - Assume you have this code `5(3)` - Execute the code\n",
        "block, it outputs an error - Fix the code so that it outputs 15"
      ],
      "id": "4dcb3820-302f-4e20-ac9e-9d5bd568b97f"
    },
    {
      "cell_type": "code",
      "execution_count": null,
      "metadata": {},
      "outputs": [],
      "source": [
        "5(3)"
      ],
      "id": "680f6cf5"
    },
    {
      "cell_type": "code",
      "execution_count": null,
      "metadata": {},
      "outputs": [],
      "source": [
        "__SOLUTION__\n",
        "5*3"
      ],
      "id": "6fea9903"
    },
    {
      "cell_type": "markdown",
      "metadata": {},
      "source": [
        "**Problem**: - Assign a variable `z=7` - Try to print out this\n",
        "expression: `2z` - Execute the code, it outputs an error - Fix the code\n",
        "so that it outputs `14`"
      ],
      "id": "29848452-8263-47e1-a44b-a5358168331a"
    },
    {
      "cell_type": "code",
      "execution_count": null,
      "metadata": {},
      "outputs": [],
      "source": [
        "z=7\n",
        "2z"
      ],
      "id": "543c1ca6"
    },
    {
      "cell_type": "code",
      "execution_count": null,
      "metadata": {},
      "outputs": [],
      "source": [
        "__SOLUTION__\n",
        "z=7\n",
        "2*z"
      ],
      "id": "9d08fa88"
    }
  ],
  "nbformat": 4,
  "nbformat_minor": 5,
  "metadata": {
    "kernelspec": {
      "name": "python3",
      "display_name": "Python 3 (ipykernel)",
      "language": "python"
    }
  }
}
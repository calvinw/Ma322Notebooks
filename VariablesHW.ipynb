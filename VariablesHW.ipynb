{
  "cells": [
    {
      "cell_type": "markdown",
      "metadata": {},
      "source": [
        "# Variables HW\n",
        "\n",
        "In the code block below (replace the word `CODE`):\n",
        "\n",
        "-   Store the number 8 in a variable called `x`\n",
        "-   Print out `x`\n",
        "-   Execute the code block"
      ],
      "id": "40425521-4dfb-4ff8-87d7-38cd45d7e940"
    },
    {
      "cell_type": "code",
      "execution_count": null,
      "metadata": {},
      "outputs": [],
      "source": [
        "CODE"
      ],
      "id": "3c3f4d98"
    },
    {
      "cell_type": "markdown",
      "metadata": {},
      "source": [
        "The output of the above should be `8`\n",
        "\n",
        "In the code block below:\n",
        "\n",
        "-   Now assign `y` to be `5*x+3`\n",
        "-   Print out `y`\n",
        "-   Execute the code block"
      ],
      "id": "deb89b8a-feb1-4e92-89f2-c8867c9abcde"
    },
    {
      "cell_type": "code",
      "execution_count": null,
      "metadata": {},
      "outputs": [],
      "source": [
        "CODE"
      ],
      "id": "cf8723d6"
    },
    {
      "cell_type": "markdown",
      "metadata": {},
      "source": [
        "The output of the above should be `43`\n",
        "\n",
        "In the code block below:\n",
        "\n",
        "-   Find the square root of 119025 using the function `sqrt`\n",
        "-   Execute the code block"
      ],
      "id": "e3bc3b84-1a57-4b99-8c35-b4b650f91694"
    },
    {
      "cell_type": "code",
      "execution_count": null,
      "metadata": {},
      "outputs": [],
      "source": [
        "CODE"
      ],
      "id": "0c06fd12"
    },
    {
      "cell_type": "markdown",
      "metadata": {},
      "source": [
        "The output of the above should be `345`\n",
        "\n",
        "In the code block below:\n",
        "\n",
        "-   Use the function `ceiling` to round up the value `1.3`\n",
        "-   Execute the code block"
      ],
      "id": "f04d941e-8849-4f1d-a0ce-ae70d9a11905"
    },
    {
      "cell_type": "code",
      "execution_count": null,
      "metadata": {},
      "outputs": [],
      "source": [
        "CODE"
      ],
      "id": "73a4cc68"
    },
    {
      "cell_type": "markdown",
      "metadata": {},
      "source": [
        "The output of the above should be `2`\n",
        "\n",
        "In the code block below:\n",
        "\n",
        "-   Use the function `floor` to round down the value `3.8`\n",
        "-   Execute the code block"
      ],
      "id": "1f42860a-6343-40db-b5d1-7b70216039d9"
    },
    {
      "cell_type": "code",
      "execution_count": null,
      "metadata": {},
      "outputs": [],
      "source": [
        "CODE"
      ],
      "id": "b038acb7"
    },
    {
      "cell_type": "markdown",
      "metadata": {},
      "source": [
        "The output of the above should be `3`\n",
        "\n",
        "In the code block below:\n",
        "\n",
        "-   Store a new number 10 in the variable called `x`.\n",
        "-   Print out `x`\n",
        "-   Execute the code block"
      ],
      "id": "28903de0-e809-4b86-9a91-17eeff1d5e88"
    },
    {
      "cell_type": "code",
      "execution_count": null,
      "metadata": {},
      "outputs": [],
      "source": [
        "CODE"
      ],
      "id": "06ed9d45"
    },
    {
      "cell_type": "markdown",
      "metadata": {},
      "source": [
        "The output of the above should be `10`\n",
        "\n",
        "In the code block below:\n",
        "\n",
        "-   Assign the variable `myVal` to be `x+y`\n",
        "-   Print out `myVal`\n",
        "-   Execute the code block"
      ],
      "id": "901af3cd-a4af-479f-b40c-f74438107ecf"
    },
    {
      "cell_type": "code",
      "execution_count": null,
      "metadata": {},
      "outputs": [],
      "source": [
        "CODE"
      ],
      "id": "37119829"
    },
    {
      "cell_type": "markdown",
      "metadata": {},
      "source": [
        "The output of the above should be `53`\n",
        "\n",
        "In the code block below:\n",
        "\n",
        "-   Enter and the expression `14/2-1+3`\n",
        "-   Execute the code block, it outputs `9`\n",
        "-   Put in parentheses so that it outputs `17` instead"
      ],
      "id": "e91190f0-e620-4b5a-a651-2bb394b7dbbc"
    },
    {
      "cell_type": "code",
      "execution_count": null,
      "metadata": {},
      "outputs": [],
      "source": [
        "14/2-1+3"
      ],
      "id": "058c4939"
    },
    {
      "cell_type": "markdown",
      "metadata": {},
      "source": [
        "In the code block below:\n",
        "\n",
        "-   Enter and the expression `8*3+9-9`\n",
        "-   Execute the code block, it outputs `24`\n",
        "-   Put in parentheses so that it outputs `87` instead"
      ],
      "id": "8184e6f4-e7e3-4cdb-82bd-46c634637cba"
    },
    {
      "cell_type": "code",
      "execution_count": null,
      "metadata": {},
      "outputs": [],
      "source": [
        "8*3+9-9"
      ],
      "id": "0928d96d"
    },
    {
      "cell_type": "markdown",
      "metadata": {},
      "source": [
        "In the code block below:\n",
        "\n",
        "-   Enter and the expression `10-9*24/8*6`\n",
        "-   Execute the code block, it outputs `-152`\n",
        "-   Put in parentheses so that it outputs `18` instead"
      ],
      "id": "1d275ea6-ab7a-4eaa-8548-6803c6ccaf7e"
    },
    {
      "cell_type": "code",
      "execution_count": null,
      "metadata": {},
      "outputs": [],
      "source": [
        "10-9*24/8*6"
      ],
      "id": "46d1caed"
    },
    {
      "cell_type": "markdown",
      "metadata": {},
      "source": [
        "In the code block below:\n",
        "\n",
        "-   Assume you have this code `5(3)`\n",
        "-   Execute the code block, it outputs an error\n",
        "-   Fix the code so that it outputs 15"
      ],
      "id": "45e39421-446d-452c-9c95-a0ab4f847fe9"
    },
    {
      "cell_type": "code",
      "execution_count": null,
      "metadata": {},
      "outputs": [],
      "source": [
        "5(3)"
      ],
      "id": "9271006e"
    },
    {
      "cell_type": "markdown",
      "metadata": {},
      "source": [
        "-   Assign a variable `z=7`\n",
        "-   Try to print out this expression: `2z`\n",
        "-   Execute the code, it outputs an error\n",
        "-   Fix the code so that it outputs `14`"
      ],
      "id": "191578ba-7649-418e-976e-87f5b94ff856"
    },
    {
      "cell_type": "code",
      "execution_count": null,
      "metadata": {},
      "outputs": [],
      "source": [
        "z=7\n",
        "2z"
      ],
      "id": "53987de0"
    }
  ],
  "nbformat": 4,
  "nbformat_minor": 5,
  "metadata": {
    "kernelspec": {
      "name": "python3",
      "display_name": "Python 3 (ipykernel)",
      "language": "python"
    }
  }
}
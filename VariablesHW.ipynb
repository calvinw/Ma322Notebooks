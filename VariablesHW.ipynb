{
  "cells": [
    {
      "cell_type": "markdown",
      "metadata": {},
      "source": [
        "# Variables HW\n",
        "\n",
        "**Problem**: - Store the number 8 in a variable called `x` - Print out\n",
        "`x` - Execute the code block"
      ],
      "id": "6ce56663-af35-4c87-8c1d-81bbafd97c76"
    },
    {
      "cell_type": "code",
      "execution_count": null,
      "metadata": {},
      "outputs": [],
      "source": [
        "CODE"
      ],
      "id": "4eb403d6"
    },
    {
      "cell_type": "code",
      "execution_count": null,
      "metadata": {},
      "outputs": [],
      "source": [
        "__SOLUTION__\n",
        "x=8\n",
        "x"
      ],
      "id": "5d086bf4"
    },
    {
      "cell_type": "markdown",
      "metadata": {},
      "source": [
        "The output of the above should be `8`\n",
        "\n",
        "**Problem**: - Now assign `y` to be `5*x+3` - Print out `y` - Execute\n",
        "the code block"
      ],
      "id": "a9ec7643-f593-4772-b262-ff254c8bbaf6"
    },
    {
      "cell_type": "code",
      "execution_count": null,
      "metadata": {},
      "outputs": [],
      "source": [
        "CODE"
      ],
      "id": "c1cb7ac7"
    },
    {
      "cell_type": "code",
      "execution_count": null,
      "metadata": {},
      "outputs": [],
      "source": [
        "__SOLUTION__\n",
        "y=5*x+3\n",
        "y"
      ],
      "id": "25ab339e"
    },
    {
      "cell_type": "markdown",
      "metadata": {},
      "source": [
        "The output of the above should be `43`\n",
        "\n",
        "**Problem**: - Find the square root of 119025 using the function\n",
        "`sqrt` - Execute the code block"
      ],
      "id": "888e5d19-4d2b-405b-8ed6-9eef968b7d2d"
    },
    {
      "cell_type": "code",
      "execution_count": null,
      "metadata": {},
      "outputs": [],
      "source": [
        "CODE"
      ],
      "id": "319f1e73"
    },
    {
      "cell_type": "code",
      "execution_count": null,
      "metadata": {},
      "outputs": [],
      "source": [
        "__SOLUTION__\n",
        "import math\n",
        "math.sqrt(119025)"
      ],
      "id": "c75f658d"
    },
    {
      "cell_type": "markdown",
      "metadata": {},
      "source": [
        "The output of the above should be `345`\n",
        "\n",
        "**Problem**: - Use the function `ceiling` to round up the value `1.3` -\n",
        "Execute the code block"
      ],
      "id": "33290b57-128c-485e-a1c2-a267e6cd5cc0"
    },
    {
      "cell_type": "code",
      "execution_count": null,
      "metadata": {},
      "outputs": [],
      "source": [
        "CODE"
      ],
      "id": "6b5bc61f"
    },
    {
      "cell_type": "code",
      "execution_count": null,
      "metadata": {},
      "outputs": [],
      "source": [
        "__SOLUTION__\n",
        "math.ceil(1.3)"
      ],
      "id": "7130986a"
    },
    {
      "cell_type": "markdown",
      "metadata": {},
      "source": [
        "The output of the above should be `2`\n",
        "\n",
        "**Problem**: - Use the function `floor` to round down the value `3.8` -\n",
        "Execute the code block"
      ],
      "id": "3654c3cf-f7c7-4a83-9e8a-1def7e8c2ff9"
    },
    {
      "cell_type": "code",
      "execution_count": null,
      "metadata": {},
      "outputs": [],
      "source": [
        "CODE"
      ],
      "id": "1768733f"
    },
    {
      "cell_type": "code",
      "execution_count": null,
      "metadata": {},
      "outputs": [],
      "source": [
        "__SOLUTION__\n",
        "math.floor(3.8)"
      ],
      "id": "2fe16231"
    },
    {
      "cell_type": "markdown",
      "metadata": {},
      "source": [
        "The output of the above should be `3`\n",
        "\n",
        "**Problem**: - Store a new number 10 in the variable called `x`. - Print\n",
        "out `x` - Execute the code block"
      ],
      "id": "17c0aca4-e323-4f52-9d96-ea2794034377"
    },
    {
      "cell_type": "code",
      "execution_count": null,
      "metadata": {},
      "outputs": [],
      "source": [
        "CODE"
      ],
      "id": "fbb8ff11"
    },
    {
      "cell_type": "code",
      "execution_count": null,
      "metadata": {},
      "outputs": [],
      "source": [
        "__SOLUTION__\n",
        "x=10\n",
        "x"
      ],
      "id": "782f0262"
    },
    {
      "cell_type": "markdown",
      "metadata": {},
      "source": [
        "The output of the above should be `10`\n",
        "\n",
        "**Problem**: - Assign the variable `myVal` to be `x+y` - Print out\n",
        "`myVal` - Execute the code block"
      ],
      "id": "13543cca-3839-4868-b2a7-11ca0c1f3e66"
    },
    {
      "cell_type": "code",
      "execution_count": null,
      "metadata": {},
      "outputs": [],
      "source": [
        "CODE"
      ],
      "id": "84ecc9b2"
    },
    {
      "cell_type": "code",
      "execution_count": null,
      "metadata": {},
      "outputs": [],
      "source": [
        "__SOLUTION__\n",
        "myVal=x+y\n",
        "myVal"
      ],
      "id": "998105e0"
    },
    {
      "cell_type": "markdown",
      "metadata": {},
      "source": [
        "The output of the above should be `53`\n",
        "\n",
        "**Problem**: - Enter and the expression `14/2-1+3` - Execute the code\n",
        "block, it outputs `9` - Put in parentheses so that it outputs `17`\n",
        "instead"
      ],
      "id": "27987214-0954-4373-a0bf-34e2bbffa43e"
    },
    {
      "cell_type": "code",
      "execution_count": null,
      "metadata": {},
      "outputs": [],
      "source": [
        "14/2-1+3"
      ],
      "id": "8c7c6983"
    },
    {
      "cell_type": "code",
      "execution_count": null,
      "metadata": {},
      "outputs": [],
      "source": [
        "__SOLUTION__\n",
        "14/(2-1)+3"
      ],
      "id": "c917bacd"
    },
    {
      "cell_type": "markdown",
      "metadata": {},
      "source": [
        "**Problem**: - Enter and the expression `8*3+9-9` - Execute the code\n",
        "block, it outputs `24` - Put in parentheses so that it outputs `87`\n",
        "instead"
      ],
      "id": "0049fca2-e49a-45eb-bdad-911532eb5fdf"
    },
    {
      "cell_type": "code",
      "execution_count": null,
      "metadata": {},
      "outputs": [],
      "source": [
        "8*3+9-9"
      ],
      "id": "e60ebc1c"
    },
    {
      "cell_type": "code",
      "execution_count": null,
      "metadata": {},
      "outputs": [],
      "source": [
        "__SOLUTION__\n",
        "8*(3+9)-9"
      ],
      "id": "f29ecbb5"
    },
    {
      "cell_type": "markdown",
      "metadata": {},
      "source": [
        "**Problem**: - Enter and the expression `10-9*24/8*6` - Execute the code\n",
        "block, it outputs `-152` - Put in parentheses so that it outputs `18`\n",
        "instead"
      ],
      "id": "e77d2171-b2ba-45d2-bfd2-c470f6d9fe09"
    },
    {
      "cell_type": "code",
      "execution_count": null,
      "metadata": {},
      "outputs": [],
      "source": [
        "10-9*24/8*6"
      ],
      "id": "09c8c10a"
    },
    {
      "cell_type": "code",
      "execution_count": null,
      "metadata": {},
      "outputs": [],
      "source": [
        "__SOLUTION__\n",
        "(10-9)*24/8*6"
      ],
      "id": "8f06219f"
    },
    {
      "cell_type": "markdown",
      "metadata": {},
      "source": [
        "**Problem**: - Assume you have this code `5(3)` - Execute the code\n",
        "block, it outputs an error - Fix the code so that it outputs 15"
      ],
      "id": "63779b65-3252-4786-aa10-91705c0ed010"
    },
    {
      "cell_type": "code",
      "execution_count": null,
      "metadata": {},
      "outputs": [],
      "source": [
        "5(3)"
      ],
      "id": "604bf7ac"
    },
    {
      "cell_type": "code",
      "execution_count": null,
      "metadata": {},
      "outputs": [],
      "source": [
        "__SOLUTION__\n",
        "5*3"
      ],
      "id": "a5d8ac36"
    },
    {
      "cell_type": "markdown",
      "metadata": {},
      "source": [
        "**Problem**: - Assign a variable `z=7` - Try to print out this\n",
        "expression: `2z` - Execute the code, it outputs an error - Fix the code\n",
        "so that it outputs `14`"
      ],
      "id": "54f12319-af27-48b5-bbff-e5d565af85f7"
    },
    {
      "cell_type": "code",
      "execution_count": null,
      "metadata": {},
      "outputs": [],
      "source": [
        "z=7\n",
        "2z"
      ],
      "id": "237c2a4b"
    },
    {
      "cell_type": "code",
      "execution_count": null,
      "metadata": {},
      "outputs": [],
      "source": [
        "__SOLUTION__\n",
        "z=7\n",
        "2*z"
      ],
      "id": "05ec6afe"
    }
  ],
  "nbformat": 4,
  "nbformat_minor": 5,
  "metadata": {
    "kernelspec": {
      "name": "python3",
      "display_name": "Python 3 (ipykernel)",
      "language": "python"
    }
  }
}
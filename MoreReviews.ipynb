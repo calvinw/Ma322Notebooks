{
  "cells": [
    {
      "cell_type": "markdown",
      "metadata": {},
      "source": [
        "# More Analyzing Reviews with LLMs\n",
        "\n",
        "## Put Your OPENROUTER_API_KEY here"
      ],
      "id": "ba98b4fe-2d8e-4dea-9a4c-fcee392eed70"
    },
    {
      "cell_type": "code",
      "execution_count": null,
      "metadata": {},
      "outputs": [],
      "source": [
        "import os\n",
        "os.environ[\"OPENROUTER_API_KEY\"] = \"paste_your_api_key_here\""
      ],
      "id": "506c5435"
    },
    {
      "cell_type": "code",
      "execution_count": null,
      "metadata": {},
      "outputs": [],
      "source": [
        "!pip3 install langchain langchain_openai"
      ],
      "id": "d7a0b40f"
    },
    {
      "cell_type": "code",
      "execution_count": null,
      "metadata": {},
      "outputs": [],
      "source": [
        "import os\n",
        "from langchain_openai import ChatOpenAI\n",
        "\n",
        "#model_name=\"openai/gpt-4o\"\n",
        "model_name=\"openai/gpt-4o-mini\"\n",
        "\n",
        "print(\"Provider: Open Router\")\n",
        "print(\"Model: \", model_name)\n",
        "\n",
        "llm=ChatOpenAI(model_name=model_name,\n",
        "               openai_api_key=os.environ.get(\"OPENROUTER_API_KEY\"),\n",
        "               openai_api_base=\"https://openrouter.ai/api/v1\")"
      ],
      "id": "81fcf26d"
    },
    {
      "cell_type": "code",
      "execution_count": null,
      "metadata": {},
      "outputs": [],
      "source": [
        "import textwrap\n",
        "from langchain_core.prompts import ChatPromptTemplate\n",
        "\n",
        "def wrap_text(text, max_width=80):\n",
        "    \"\"\"\n",
        "    Wraps the text to the specified max_width, preserving line breaks and formatting.\n",
        "    \"\"\"\n",
        "    text = text.lstrip()\n",
        "    lines = text.splitlines()  # Split the text into lines\n",
        "    wrapped_lines = []\n",
        "    for line in lines:\n",
        "        if line.strip():  # Skip empty lines\n",
        "            wrapped_line = textwrap.fill(line, max_width, initial_indent='', subsequent_indent='')\n",
        "            wrapped_lines.extend(wrapped_line.splitlines())  # Preserve line breaks\n",
        "        else:\n",
        "            wrapped_lines.append('')  # Keep empty lines\n",
        "    return '\\n'.join(wrapped_lines)\n",
        "\n",
        "def print_prompt_and_response(prompt, response):\n",
        "    print(\"Prompt: \")\n",
        "    print(wrap_text(prompt))\n",
        "    print(\"\")\n",
        "    print(\"Response: \")\n",
        "    print(response)\n",
        "\n",
        "def print_messages_and_response(messages, response):\n",
        "    prompt = ChatPromptTemplate(messages=messages)\n",
        "    print_prompt_and_response(prompt.format(), response)\n",
        "\n",
        "def get_completion(prompt, temperature=0.0):\n",
        "    response = llm.invoke(prompt, temperature=temperature)\n",
        "    wrapped_response = wrap_text(response.content)\n",
        "    return wrapped_response\n",
        "\n",
        "def get_completion_messages(messages, temperature=0.0):\n",
        "    response=llm.invoke(messages, temperature=temperature)\n",
        "    wrapped_response = wrap_text(response.content)\n",
        "    return wrapped_response"
      ],
      "id": "adb60c71"
    },
    {
      "cell_type": "markdown",
      "metadata": {},
      "source": [
        "## Analyzing Amazon Reviews\n",
        "\n",
        "Lets summarize a few reviews from this product:\n",
        "\n",
        "[Hanes Women’s Slub Knit Full-Zip Hoodie, Textured Cotton Zip-Up T-Shirt\n",
        "Hoodie for\n",
        "Women](https://www.amazon.com/product-reviews/B016YKIF60/ref=cm_cr_arp_d_viewopt_srt?ie=UTF8&filterByStar=all_stars&reviewerType=avp_only_reviews&pageNumber=1&sortBy=helpful#reviews-filter-bar)\n",
        "\n",
        "Go to the page above and find some reviews to analyze.\n",
        "\n",
        "### Review Template\n",
        "\n",
        "Here’s our template:"
      ],
      "id": "e4e0c16c-fee2-44b7-b453-b11b132ea078"
    },
    {
      "cell_type": "code",
      "execution_count": null,
      "metadata": {},
      "outputs": [],
      "source": [
        "template =\"\"\"Give a short summary of the following review. The review is placed\n",
        "in the <text> tags. Use no more than 30 words.\n",
        "<text>\n",
        "{review}\n",
        "</text>\"\"\""
      ],
      "id": "f8c9043b"
    },
    {
      "cell_type": "markdown",
      "metadata": {},
      "source": [
        "### First Review\n",
        "\n",
        "**Problem**:\n",
        "\n",
        "-   Paste your first review where it says CODE below"
      ],
      "id": "25333f1e-5803-4c7c-ae44-b9b584c1484f"
    },
    {
      "cell_type": "code",
      "execution_count": null,
      "metadata": {},
      "outputs": [],
      "source": [
        "first_review = \"\"\"\n",
        "CODE\n",
        "\"\"\""
      ],
      "id": "686c9b4f"
    },
    {
      "cell_type": "markdown",
      "metadata": {},
      "source": [
        "-   Run the below and get summary of the `first_review`"
      ],
      "id": "d43bbae0-c5f8-4415-a3f4-32b7e55c8f82"
    },
    {
      "cell_type": "code",
      "execution_count": null,
      "metadata": {},
      "outputs": [],
      "source": [
        "prompt=template.format(review=first_review)\n",
        "response = get_completion(prompt)\n",
        "print_prompt_and_response(prompt, response)"
      ],
      "id": "7433536e"
    },
    {
      "cell_type": "markdown",
      "metadata": {},
      "source": [
        "### Second Review\n",
        "\n",
        "**Problem**:\n",
        "\n",
        "Lets do the `second_review`"
      ],
      "id": "3f19bd62-b73a-4f9d-97b6-8b5d482ed3b1"
    },
    {
      "cell_type": "code",
      "execution_count": null,
      "metadata": {},
      "outputs": [],
      "source": [
        "second_review = \"\"\"\n",
        "CODE\n",
        "\"\"\""
      ],
      "id": "ac762a08"
    },
    {
      "cell_type": "markdown",
      "metadata": {},
      "source": [
        "-   Run the below and get summary of the `second_review`"
      ],
      "id": "f317053e-cd5d-42db-8adf-a52581bbaa64"
    },
    {
      "cell_type": "code",
      "execution_count": null,
      "metadata": {},
      "outputs": [],
      "source": [
        "prompt=template.format(review=second_review)\n",
        "response = get_completion(prompt)\n",
        "print_prompt_and_response(prompt, response)"
      ],
      "id": "cc46938e"
    },
    {
      "cell_type": "markdown",
      "metadata": {},
      "source": [
        "### Third Review\n",
        "\n",
        "**Problem**:\n",
        "\n",
        "Lets do the `third_review`"
      ],
      "id": "f6e7341e-3b63-4835-aa90-a3ec5ba2b8b9"
    },
    {
      "cell_type": "code",
      "execution_count": null,
      "metadata": {},
      "outputs": [],
      "source": [
        "third_review = \"\"\"\n",
        "CODE\n",
        "\"\"\""
      ],
      "id": "675f6265"
    },
    {
      "cell_type": "markdown",
      "metadata": {},
      "source": [
        "-   Run the below and get summary of the `third_review`"
      ],
      "id": "d1c8102a-b7d3-4dc7-a251-ee0d72581fe5"
    },
    {
      "cell_type": "code",
      "execution_count": null,
      "metadata": {},
      "outputs": [],
      "source": [
        "prompt=template.format(review=third_review)\n",
        "response = get_completion(prompt)\n",
        "print_prompt_and_response(prompt, response)"
      ],
      "id": "555d02cc"
    },
    {
      "cell_type": "markdown",
      "metadata": {},
      "source": [
        "### Summarize all Reviews"
      ],
      "id": "1d93b8f9-10b5-4b93-9b02-48fffef11bf3"
    },
    {
      "cell_type": "code",
      "execution_count": null,
      "metadata": {},
      "outputs": [],
      "source": [
        "template =\"\"\"Summarize all of the following reviews, enclosed in <review> tags.\n",
        "List commonalities between the reviews and differences. If there are issues\n",
        "that multiple customers mention, please list those. If there are things that\n",
        "all customers like, list those. The goal is to summarize the collective\n",
        "viewpoint of the reviews.\n",
        "\n",
        "<review>\n",
        "{first_review}\n",
        "</review>\n",
        "\n",
        "<review>\n",
        "{third_review}\n",
        "</review>\n",
        "\n",
        "<review>\n",
        "{third_review}\n",
        "</review>\n",
        "\"\"\""
      ],
      "id": "47f81a05"
    },
    {
      "cell_type": "code",
      "execution_count": null,
      "metadata": {},
      "outputs": [],
      "source": [
        "prompt=template.format(first_review=first_review,\n",
        "                       second_review=second_review,\n",
        "                       third_review=third_review)\n",
        "\n",
        "response = get_completion(prompt)\n",
        "print_prompt_and_response(prompt, response)"
      ],
      "id": "68763950"
    }
  ],
  "nbformat": 4,
  "nbformat_minor": 5,
  "metadata": {
    "kernelspec": {
      "name": "python3",
      "display_name": "Python 3 (ipykernel)",
      "language": "python"
    }
  }
}
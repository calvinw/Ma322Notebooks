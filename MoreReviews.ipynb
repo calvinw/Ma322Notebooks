{
  "cells": [
    {
      "cell_type": "markdown",
      "metadata": {},
      "source": [
        "# More Analyzing Reviews with LLMs\n",
        "\n",
        "### Put Your OPENROUTER_API_KEY here"
      ],
      "id": "5785e7ab-5ec1-460c-963e-c2340128338e"
    },
    {
      "cell_type": "code",
      "execution_count": null,
      "metadata": {},
      "outputs": [],
      "source": [
        "import os\n",
        "os.environ[\"OPENROUTER_API_KEY\"] = \"paste_your_api_key_here\""
      ],
      "id": "e835033a"
    },
    {
      "cell_type": "code",
      "execution_count": null,
      "metadata": {},
      "outputs": [],
      "source": [
        "!pip3 install langchain langchain_openai"
      ],
      "id": "1738d30d"
    },
    {
      "cell_type": "code",
      "execution_count": null,
      "metadata": {},
      "outputs": [],
      "source": [
        "import os\n",
        "from langchain_openai import ChatOpenAI\n",
        "\n",
        "try:\n",
        "    model_name\n",
        "except NameError:\n",
        "    model_name=\"openai/gpt-4o-mini\"\n",
        "\n",
        "print(\"Model Name:\", model_name)\n",
        "print(\"Provider:\", \"OpenRouter AI\")\n",
        "\n",
        "llm=ChatOpenAI(model_name=model_name,\n",
        "               openai_api_key=os.environ.get(\"OPENROUTER_API_KEY\"),\n",
        "               openai_api_base=\"https://openrouter.ai/api/v1\")"
      ],
      "id": "42fa6048"
    },
    {
      "cell_type": "code",
      "execution_count": null,
      "metadata": {},
      "outputs": [],
      "source": [
        "import textwrap\n",
        "from langchain_core.prompts import ChatPromptTemplate\n",
        "\n",
        "def wrap_text(text, max_width=80):\n",
        "    \"\"\"\n",
        "    Wraps the text to the specified max_width, preserving line breaks and formatting.\n",
        "    \"\"\"\n",
        "    text = text.lstrip()\n",
        "    lines = text.splitlines()  # Split the text into lines\n",
        "    wrapped_lines = []\n",
        "    for line in lines:\n",
        "        if line.strip():  # Skip empty lines\n",
        "            wrapped_line = textwrap.fill(line, max_width, initial_indent='', subsequent_indent='')\n",
        "            wrapped_lines.extend(wrapped_line.splitlines())  # Preserve line breaks\n",
        "        else:\n",
        "            wrapped_lines.append('')  # Keep empty lines\n",
        "    return '\\n'.join(wrapped_lines)\n",
        "\n",
        "def print_prompt_and_response(prompt, response):\n",
        "    print(\"Prompt: \")\n",
        "    print(wrap_text(prompt))\n",
        "    print(\"\")\n",
        "    print(\"Response: \")\n",
        "    print(response)\n",
        "\n",
        "def print_messages_and_response(messages, response):\n",
        "    prompt = ChatPromptTemplate(messages=messages)\n",
        "    print_prompt_and_response(prompt.format(), response)\n",
        "\n",
        "def get_completion(prompt, temperature=0.0):\n",
        "    response = llm.invoke(prompt, temperature=temperature)\n",
        "    wrapped_response = wrap_text(response.content)\n",
        "    return wrapped_response\n",
        "\n",
        "def get_completion_messages(messages, temperature=0.0):\n",
        "    response=llm.invoke(messages, temperature=temperature)\n",
        "    wrapped_response = wrap_text(response.content)\n",
        "    return wrapped_response"
      ],
      "id": "4a132da6"
    },
    {
      "cell_type": "markdown",
      "metadata": {},
      "source": [
        "## Analyzing Amazon Reviews\n",
        "\n",
        "Lets summarize a few reviews from this product:\n",
        "\n",
        "[Hanes Women’s Slub Knit Full-Zip Hoodie, Textured Cotton Zip-Up T-Shirt\n",
        "Hoodie for\n",
        "Women](https://www.amazon.com/product-reviews/B016YKIF60/ref=cm_cr_arp_d_viewopt_srt?ie=UTF8&filterByStar=all_stars&reviewerType=avp_only_reviews&pageNumber=1&sortBy=helpful#reviews-filter-bar)\n",
        "\n",
        "Go to the page above and find some reviews to analyze.\n",
        "\n",
        "### Review Template\n",
        "\n",
        "Here’s our template:"
      ],
      "id": "815147f4-6017-4575-abcb-801140675641"
    },
    {
      "cell_type": "code",
      "execution_count": null,
      "metadata": {},
      "outputs": [],
      "source": [
        "template =\"\"\"Give a short summary of the following review. The review is placed\n",
        "in the <text> tags. Use no more than 30 words.\n",
        "<text>\n",
        "{review}\n",
        "</text>\"\"\""
      ],
      "id": "492fa4e9"
    },
    {
      "cell_type": "markdown",
      "metadata": {},
      "source": [
        "### First Review\n",
        "\n",
        "**Problem**:\n",
        "\n",
        "-   Paste your first review where it says CODE below"
      ],
      "id": "cff468c5-5991-41a3-adc6-ef9b6eeaeda5"
    },
    {
      "cell_type": "code",
      "execution_count": null,
      "metadata": {},
      "outputs": [],
      "source": [
        "first_review = \"\"\"\n",
        "CODE\n",
        "\"\"\""
      ],
      "id": "2bc0f10d"
    },
    {
      "cell_type": "markdown",
      "metadata": {},
      "source": [
        "-   Run the below and get summary of the `first_review`"
      ],
      "id": "7e3407f2-930f-4c9e-8405-ae047e232425"
    },
    {
      "cell_type": "code",
      "execution_count": null,
      "metadata": {},
      "outputs": [],
      "source": [
        "prompt=template.format(review=first_review)\n",
        "response = get_completion(prompt)\n",
        "print_prompt_and_response(prompt, response)"
      ],
      "id": "53224483"
    },
    {
      "cell_type": "markdown",
      "metadata": {},
      "source": [
        "### Second Review\n",
        "\n",
        "**Problem**:\n",
        "\n",
        "Lets do the `second_review`"
      ],
      "id": "093e02d2-b1e2-45c5-a516-0e6e0d9e4b22"
    },
    {
      "cell_type": "code",
      "execution_count": null,
      "metadata": {},
      "outputs": [],
      "source": [
        "second_review = \"\"\"\n",
        "CODE\n",
        "\"\"\""
      ],
      "id": "46e5dd94"
    },
    {
      "cell_type": "markdown",
      "metadata": {},
      "source": [
        "-   Run the below and get summary of the `second_review`"
      ],
      "id": "5db6cdbb-f0aa-45af-9dc2-383aff74d74e"
    },
    {
      "cell_type": "code",
      "execution_count": null,
      "metadata": {},
      "outputs": [],
      "source": [
        "prompt=template.format(review=second_review)\n",
        "response = get_completion(prompt)\n",
        "print_prompt_and_response(prompt, response)"
      ],
      "id": "30b8e2c7"
    },
    {
      "cell_type": "markdown",
      "metadata": {},
      "source": [
        "### Third Review\n",
        "\n",
        "**Problem**:\n",
        "\n",
        "Lets do the `third_review`"
      ],
      "id": "c3580c46-911b-4b62-8db9-ca43123def13"
    },
    {
      "cell_type": "code",
      "execution_count": null,
      "metadata": {},
      "outputs": [],
      "source": [
        "third_review = \"\"\"\n",
        "CODE\n",
        "\"\"\""
      ],
      "id": "17fe3b1e"
    },
    {
      "cell_type": "markdown",
      "metadata": {},
      "source": [
        "-   Run the below and get summary of the `third_review`"
      ],
      "id": "cacb5887-6dbf-4226-925b-8dcd293f2d6f"
    },
    {
      "cell_type": "code",
      "execution_count": null,
      "metadata": {},
      "outputs": [],
      "source": [
        "prompt=template.format(review=third_review)\n",
        "response = get_completion(prompt)\n",
        "print_prompt_and_response(prompt, response)"
      ],
      "id": "ae39be0e"
    },
    {
      "cell_type": "markdown",
      "metadata": {},
      "source": [
        "### Summarize all Reviews"
      ],
      "id": "80fcc4e6-db31-4f4c-abb0-95991ee7582d"
    },
    {
      "cell_type": "code",
      "execution_count": null,
      "metadata": {},
      "outputs": [],
      "source": [
        "template =\"\"\"Summarize all of the following reviews, enclosed in <review> tags.\n",
        "List commonalities between the reviews and differences. If there are issues\n",
        "that multiple customers mention, please list those. If there are things that\n",
        "all customers like, list those. The goal is to summarize the collective\n",
        "viewpoint of the reviews.\n",
        "\n",
        "<review>\n",
        "{first_review}\n",
        "</review>\n",
        "\n",
        "<review>\n",
        "{third_review}\n",
        "</review>\n",
        "\n",
        "<review>\n",
        "{third_review}\n",
        "</review>\n",
        "\"\"\""
      ],
      "id": "34ee706f"
    },
    {
      "cell_type": "code",
      "execution_count": null,
      "metadata": {},
      "outputs": [],
      "source": [
        "prompt=template.format(first_review=first_review,\n",
        "                       second_review=second_review,\n",
        "                       third_review=third_review)\n",
        "\n",
        "response = get_completion(prompt)\n",
        "print_prompt_and_response(prompt, response)"
      ],
      "id": "4aec9541"
    }
  ],
  "nbformat": 4,
  "nbformat_minor": 5,
  "metadata": {
    "kernelspec": {
      "name": "python3",
      "display_name": "Python 3 (ipykernel)",
      "language": "python"
    }
  }
}
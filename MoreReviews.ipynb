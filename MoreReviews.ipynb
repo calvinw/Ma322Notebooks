{
  "cells": [
    {
      "cell_type": "markdown",
      "metadata": {},
      "source": [
        "# More Analyzing Reviews with LLMs"
      ],
      "id": "cf9268a9-a21b-484b-a46a-7ad82e7be94e"
    },
    {
      "cell_type": "code",
      "execution_count": null,
      "metadata": {},
      "outputs": [],
      "source": [
        "import os\n",
        "\n",
        "if os.environ.get(\"TOGETHER_API_KEY\") is None:\n",
        "   os.environ[\"TOGETHER_API_KEY\"] = \"paste_your_api_key_here\""
      ],
      "id": "48192178"
    },
    {
      "cell_type": "code",
      "execution_count": null,
      "metadata": {},
      "outputs": [],
      "source": [
        "!pip3 install langchain langchain_openai"
      ],
      "id": "a0d2e36c"
    },
    {
      "cell_type": "code",
      "execution_count": null,
      "metadata": {},
      "outputs": [],
      "source": [
        "import os\n",
        "from langchain_openai import ChatOpenAI\n",
        "\n",
        "model_name = \"NousResearch/Nous-Hermes-2-Mixtral-8x7B-SFT\"\n",
        "#model_name = \"NousResearch/Nous-Hermes-2-Mixtral-8x7B-DPO\"\n",
        "#model_name=\"mistralai/Mixtral-8x7B-Instruct-v0.1\"\n",
        "#model_name=\"mistralai/Mistral-7B-Instruct-v0.1\"\n",
        "#model_name=\"mistralai/Mistral-7B-Instruct-v0.2\"\n",
        "#model_name = \"openchat/openchat-3.5-1210\"\n",
        "#model_name = \"Qwen/Qwen1.5-72B-Chat\"\n",
        "\n",
        "print(\"Provider: TogetherAI\")\n",
        "print(\"Model: \" + model_name)\n",
        "\n",
        "llm=ChatOpenAI(model_name=model_name,\n",
        "               openai_api_key=os.environ.get(\"TOGETHER_API_KEY\"),\n",
        "               openai_api_base=\"https://api.together.xyz/v1/\")"
      ],
      "id": "abf49301"
    },
    {
      "cell_type": "code",
      "execution_count": null,
      "metadata": {},
      "outputs": [],
      "source": [
        "import textwrap\n",
        "from langchain_core.prompts import ChatPromptTemplate\n",
        "\n",
        "def wrap_text(text, max_width=80):\n",
        "    \"\"\"\n",
        "    Wraps the text to the specified max_width, preserving line breaks and formatting.\n",
        "    \"\"\"\n",
        "    text = text.lstrip()\n",
        "    lines = text.splitlines()  # Split the text into lines\n",
        "    wrapped_lines = []\n",
        "    for line in lines:\n",
        "        if line.strip():  # Skip empty lines\n",
        "            wrapped_line = textwrap.fill(line, max_width, initial_indent='', subsequent_indent='')\n",
        "            wrapped_lines.extend(wrapped_line.splitlines())  # Preserve line breaks\n",
        "        else:\n",
        "            wrapped_lines.append('')  # Keep empty lines\n",
        "    return '\\n'.join(wrapped_lines)\n",
        "\n",
        "def print_prompt_and_response(prompt, response):\n",
        "    print(\"Prompt: \")\n",
        "    print(wrap_text(prompt))\n",
        "    print(\"\")\n",
        "    print(\"Response: \")\n",
        "    print(response)\n",
        "\n",
        "def print_messages_and_response(messages, response):\n",
        "    prompt = ChatPromptTemplate(messages=messages)\n",
        "    print_prompt_and_response(prompt.format(), response)\n",
        "\n",
        "def get_completion(prompt, temperature=0.0):\n",
        "    response = llm.invoke(prompt, temperature=temperature)\n",
        "    wrapped_response = wrap_text(response.content)\n",
        "    return wrapped_response\n",
        "\n",
        "def get_completion_messages(messages, temperature=0.0):\n",
        "    response=llm.invoke(messages, temperature=temperature)\n",
        "    wrapped_response = wrap_text(response.content)\n",
        "    return wrapped_response"
      ],
      "id": "56475db3"
    },
    {
      "cell_type": "markdown",
      "metadata": {},
      "source": [
        "## Analyzing Amazon Reviews\n",
        "\n",
        "Lets summarize a few reviews from this product:\n",
        "\n",
        "[Hanes Women’s Slub Knit Full-Zip Hoodie, Textured Cotton Zip-Up T-Shirt\n",
        "Hoodie for\n",
        "Women](https://www.amazon.com/product-reviews/B016YKIF60/ref=cm_cr_arp_d_viewopt_srt?ie=UTF8&filterByStar=all_stars&reviewerType=avp_only_reviews&pageNumber=1&sortBy=helpful#reviews-filter-bar)\n",
        "\n",
        "Go to the page above and find some reviews to analyze.\n",
        "\n",
        "### Review Template\n",
        "\n",
        "Here’s our template:"
      ],
      "id": "cae4897a-b9fb-4a0b-ba66-cc7ef1e803bc"
    },
    {
      "cell_type": "code",
      "execution_count": null,
      "metadata": {},
      "outputs": [],
      "source": [
        "template =\"\"\"Give a short summary of the following review. The review is placed\n",
        "in the <text> tags. Use no more than 30 words.\n",
        "<text>\n",
        "{review}\n",
        "</text>\"\"\""
      ],
      "id": "b5a1c6ca"
    },
    {
      "cell_type": "markdown",
      "metadata": {},
      "source": [
        "### First Review\n",
        "\n",
        "-   Paste your first review where it says CODE below"
      ],
      "id": "b6707f35-c403-4fc2-8194-7cd9a9357e33"
    },
    {
      "cell_type": "code",
      "execution_count": null,
      "metadata": {},
      "outputs": [],
      "source": [
        "first_review = \"\"\"\n",
        "CODE\n",
        "\"\"\""
      ],
      "id": "910dd300"
    },
    {
      "cell_type": "markdown",
      "metadata": {},
      "source": [
        "-   Run the below and get summary of the `first_review`"
      ],
      "id": "c9d07d49-0093-4ff0-8e5e-e23059d1e817"
    },
    {
      "cell_type": "code",
      "execution_count": null,
      "metadata": {},
      "outputs": [],
      "source": [
        "prompt=template.format(review=first_review)\n",
        "response = get_completion(prompt)\n",
        "print_prompt_and_response(prompt, response)"
      ],
      "id": "a90e4828"
    },
    {
      "cell_type": "markdown",
      "metadata": {},
      "source": [
        "### Second Review\n",
        "\n",
        "Lets do the `second_review`"
      ],
      "id": "af3a8ffd-5aae-478d-a179-257083b50367"
    },
    {
      "cell_type": "code",
      "execution_count": null,
      "metadata": {},
      "outputs": [],
      "source": [
        "second_review = \"\"\"\n",
        "CODE\n",
        "\"\"\""
      ],
      "id": "fbb2b3c5"
    },
    {
      "cell_type": "markdown",
      "metadata": {},
      "source": [
        "-   Run the below and get summary of the `second_review`"
      ],
      "id": "46908f98-dae3-44b8-890c-d2841d2f95ce"
    },
    {
      "cell_type": "code",
      "execution_count": null,
      "metadata": {},
      "outputs": [],
      "source": [
        "prompt=template.format(review=second_review)\n",
        "response = get_completion(prompt)\n",
        "print_prompt_and_response(prompt, response)"
      ],
      "id": "ec422fcd"
    },
    {
      "cell_type": "markdown",
      "metadata": {},
      "source": [
        "### Third Review\n",
        "\n",
        "Lets do the `third_review`"
      ],
      "id": "833880f9-b3c8-46dc-9de5-e7f7aefd5c97"
    },
    {
      "cell_type": "code",
      "execution_count": null,
      "metadata": {},
      "outputs": [],
      "source": [
        "third_review = \"\"\"\n",
        "CODE\n",
        "\"\"\""
      ],
      "id": "a89ee19e"
    },
    {
      "cell_type": "markdown",
      "metadata": {},
      "source": [
        "-   Run the below and get summary of the `third_review`"
      ],
      "id": "4147ab45-c1bf-473a-8d92-df52a2a319fa"
    },
    {
      "cell_type": "code",
      "execution_count": null,
      "metadata": {},
      "outputs": [],
      "source": [
        "prompt=template.format(review=third_review)\n",
        "response = get_completion(prompt)\n",
        "print_prompt_and_response(prompt, response)"
      ],
      "id": "336d0c3a"
    },
    {
      "cell_type": "markdown",
      "metadata": {},
      "source": [
        "-   Lets do the `third_review`"
      ],
      "id": "e02f1074-7648-4cfb-b0b7-2466429bf9c9"
    },
    {
      "cell_type": "code",
      "execution_count": null,
      "metadata": {},
      "outputs": [],
      "source": [
        "prompt=template.format(review=third_review)\n",
        "response = get_completion(prompt)\n",
        "print_prompt_and_response(prompt, response)"
      ],
      "id": "d835b62b"
    },
    {
      "cell_type": "markdown",
      "metadata": {},
      "source": [
        "### Summarize all Reviews"
      ],
      "id": "832ddd85-6e6c-4e69-afc0-810b1ddbdef5"
    },
    {
      "cell_type": "code",
      "execution_count": null,
      "metadata": {},
      "outputs": [],
      "source": [
        "template =\"\"\"Summarize all of the following reviews, enclosed in <review> tags.\n",
        "List commonalities between the reviews and differences. If there are issues\n",
        "that multiple customers mention, please list those. If there are things that\n",
        "all customers like, list those. The goal is to summarize the collective\n",
        "viewpoint of the reviews.\n",
        "\n",
        "<review>\n",
        "{first_review}\n",
        "</review>\n",
        "\n",
        "<review>\n",
        "{third_review}\n",
        "</review>\n",
        "\n",
        "<review>\n",
        "{third_review}\n",
        "</review>\n",
        "\"\"\""
      ],
      "id": "da1daece"
    },
    {
      "cell_type": "code",
      "execution_count": null,
      "metadata": {},
      "outputs": [],
      "source": [
        "prompt=template.format(first_review=first_review,\n",
        "                       second_review=second_review,\n",
        "                       third_review=third_review)\n",
        "\n",
        "response = get_completion(prompt)\n",
        "print_prompt_and_response(prompt, response)"
      ],
      "id": "ff69bfc0"
    }
  ],
  "nbformat": 4,
  "nbformat_minor": 5,
  "metadata": {
    "kernelspec": {
      "name": "python3",
      "display_name": "Python 3 (ipykernel)",
      "language": "python"
    }
  }
}
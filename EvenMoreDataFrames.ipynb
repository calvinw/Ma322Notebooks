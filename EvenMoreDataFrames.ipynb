{
  "cells": [
    {
      "cell_type": "markdown",
      "metadata": {},
      "source": [
        "# Exploring Library Books with DataFrames\n",
        "\n",
        "In this exercise, we will work with a data frame representing books in a\n",
        "library. The data frame has the following columns: `title`, `author`,\n",
        "`year`, `pages`, and `genre`.\n",
        "\n",
        "| title                  | author              | year | pages | genre           |\n",
        "|------------------------|---------------------|------|-------|-----------------|\n",
        "| To Kill a Mockingbird  | Harper Lee          | 1960 | 281   | Fiction         |\n",
        "| 1984                   | George Orwell       | 1949 | 328   | Science Fiction |\n",
        "| Pride and Prejudice    | Jane Austen         | 1813 | 432   | Romance         |\n",
        "| The Great Gatsby       | F. Scott Fitzgerald | 1925 | 180   | Fiction         |\n",
        "| The Hobbit             | J.R.R. Tolkien      | 1937 | 310   | Fantasy         |\n",
        "| Brave New World        | Aldous Huxley       | 1932 | 311   | Science Fiction |\n",
        "| Jane Eyre              | Charlotte Bronte    | 1847 | 507   | Gothic Fiction  |\n",
        "| The Catcher in the Rye | J.D. Salinger       | 1951 | 234   | Fiction         |\n",
        "\n",
        "Here’s how we create the data frame in Python using the pandas library:"
      ],
      "id": "c1d011c0-347d-430f-94cb-f064cc2439c8"
    },
    {
      "cell_type": "code",
      "execution_count": null,
      "metadata": {},
      "outputs": [],
      "source": [
        "import pandas as pd\n",
        "\n",
        "title = ['To Kill a Mockingbird', '1984', 'Pride and Prejudice', 'The Great Gatsby', 'The Hobbit', 'Brave New World', 'Jane Eyre', 'The Catcher in the Rye']\n",
        "author = ['Harper Lee', 'George Orwell', 'Jane Austen', 'F. Scott Fitzgerald', 'J.R.R. Tolkien', 'Aldous Huxley', 'Charlotte Bronte', 'J.D. Salinger']\n",
        "year = [1960, 1949, 1813, 1925, 1937, 1932, 1847, 1951]\n",
        "pages = [281, 328, 432, 180, 310, 311, 507, 234]\n",
        "genre = ['Fiction', 'Science Fiction', 'Romance', 'Fiction', 'Fantasy', 'Science Fiction', 'Gothic Fiction', 'Fiction']\n",
        "\n",
        "bookDict = {\n",
        "  'title': title,\n",
        "  'author': author,\n",
        "  'year': year,\n",
        "  'pages': pages,\n",
        "  'genre': genre\n",
        "}\n",
        "\n",
        "books = pd.DataFrame(bookDict)"
      ],
      "id": "07c234a8"
    },
    {
      "cell_type": "markdown",
      "metadata": {},
      "source": [
        "Let’s explore the data frame:\n",
        "\n",
        "**Problem**: Print the first few rows of the data frame using the `head`\n",
        "method on the `books` dataframe:"
      ],
      "id": "3a2844be-6cf1-4b5d-ac5e-3935d1fc3d79"
    },
    {
      "cell_type": "code",
      "execution_count": null,
      "metadata": {},
      "outputs": [],
      "source": [
        "print(CODE)"
      ],
      "id": "c0ab911c"
    },
    {
      "cell_type": "markdown",
      "metadata": {},
      "source": [
        "**Problem**: Check the data types of the columns using the `dtypes`\n",
        "attribute of the `books` dataframe"
      ],
      "id": "d9a2457a-0858-4743-baa4-f153d529337c"
    },
    {
      "cell_type": "code",
      "execution_count": null,
      "metadata": {},
      "outputs": [],
      "source": [
        "print(CODE)"
      ],
      "id": "25274c46"
    },
    {
      "cell_type": "markdown",
      "metadata": {},
      "source": [
        "**Problem**: Select the ‘author’ column and print it out"
      ],
      "id": "b6f83998-2a50-48b9-bb99-f33223ee137d"
    },
    {
      "cell_type": "code",
      "execution_count": null,
      "metadata": {},
      "outputs": [],
      "source": [
        "print(CODE)"
      ],
      "id": "e92c670a"
    },
    {
      "cell_type": "markdown",
      "metadata": {},
      "source": [
        "**Problem**: Add a new column ‘is_long’ with True/False values based on\n",
        "whether the book has more than 300 pages:"
      ],
      "id": "be4bd1cc-c965-46af-a8fb-95068794a807"
    },
    {
      "cell_type": "code",
      "execution_count": null,
      "metadata": {},
      "outputs": [],
      "source": [
        "CODE\n",
        "print(books)"
      ],
      "id": "2843c56c"
    },
    {
      "cell_type": "markdown",
      "metadata": {},
      "source": [
        "**Problem**: Remove the ‘genre’ column:"
      ],
      "id": "f0897ff2-709c-4754-8d33-e67661104b05"
    },
    {
      "cell_type": "code",
      "execution_count": null,
      "metadata": {},
      "outputs": [],
      "source": [
        "CODE\n",
        "print(books)"
      ],
      "id": "9f34dc8b"
    },
    {
      "cell_type": "markdown",
      "metadata": {},
      "source": [
        "**Problem**: Print out the element in the 3rd row and the 2nd column"
      ],
      "id": "5879fddf-a40c-4aac-be43-17fc15dfdf32"
    },
    {
      "cell_type": "code",
      "execution_count": null,
      "metadata": {},
      "outputs": [],
      "source": [
        "print(CODE)"
      ],
      "id": "eb69cdf7"
    },
    {
      "cell_type": "markdown",
      "metadata": {},
      "source": [
        "**Problem**: Print out the element in the 1st row and the 3nd column"
      ],
      "id": "cd62d337-a6f7-4240-b46e-ddb6138149f7"
    },
    {
      "cell_type": "code",
      "execution_count": null,
      "metadata": {},
      "outputs": [],
      "source": [
        "print(CODE)"
      ],
      "id": "2f51b640"
    }
  ],
  "nbformat": 4,
  "nbformat_minor": 5,
  "metadata": {
    "kernelspec": {
      "name": "python3",
      "display_name": "Python 3 (ipykernel)",
      "language": "python"
    }
  }
}
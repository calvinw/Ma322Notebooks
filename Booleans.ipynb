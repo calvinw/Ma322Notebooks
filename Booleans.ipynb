{
  "cells": [
    {
      "cell_type": "markdown",
      "metadata": {},
      "source": [
        "# Introduction to Booleans in Python\n",
        "\n",
        "In Python, a boolean is a logical data type that can have one of two\n",
        "values: `True` or `False`. Booleans are used to represent truth values\n",
        "and are often used in conditional statements and logical operations.\n",
        "\n",
        "## Boolean Values\n",
        "\n",
        "To define a boolean value, you can simply use the keywords `True` or\n",
        "`False` (with the first letter capitalized)."
      ],
      "id": "a5aa3110-f5c7-4a9b-8ced-53945e548495"
    },
    {
      "cell_type": "code",
      "execution_count": null,
      "metadata": {},
      "outputs": [],
      "source": [
        "is_sunny = True\n",
        "is_raining = False\n",
        "\n",
        "print(is_sunny)   # Output: True\n",
        "print(is_raining) # Output: False"
      ],
      "id": "5a92083f"
    },
    {
      "cell_type": "markdown",
      "metadata": {},
      "source": [
        "## Comparing Values\n",
        "\n",
        "Booleans are often created by comparing values using relational\n",
        "operators like `==` (equal to), `!=` (not equal to), `>` (greater than),\n",
        "`<` (less than), `>=` (greater than or equal to), and `<=` (less than or\n",
        "equal to)."
      ],
      "id": "99aa4d52-1177-4966-9b3f-547eaa89d4a1"
    },
    {
      "cell_type": "code",
      "execution_count": null,
      "metadata": {},
      "outputs": [],
      "source": [
        "x = 5\n",
        "y = 10\n",
        "\n",
        "print(x == y)     # Output: False\n",
        "print(x != y)     # Output: True\n",
        "print(x > y)      # Output: False\n",
        "print(x < y)      # Output: True\n",
        "print(x >= y)     # Output: False\n",
        "print(x <= y)     # Output: True"
      ],
      "id": "0c8555c7"
    },
    {
      "cell_type": "markdown",
      "metadata": {},
      "source": [
        "## Boolean Operations\n",
        "\n",
        "Python provides logical operators that can be used to combine or negate\n",
        "boolean values:\n",
        "\n",
        "-   `and`: Returns `True` if both operands are `True`, otherwise\n",
        "    `False`.\n",
        "-   `or`: Returns `True` if at least one operand is `True`, otherwise\n",
        "    `False`.\n",
        "-   `not`: Returns the opposite boolean value (negates the operand)."
      ],
      "id": "467244da-5939-4533-9a4d-e3855fb637b7"
    },
    {
      "cell_type": "code",
      "execution_count": null,
      "metadata": {},
      "outputs": [],
      "source": [
        "x = True\n",
        "y = False\n",
        "\n",
        "print(x and y)    # Output: False\n",
        "print(x or y)     # Output: True\n",
        "print(not x)      # Output: False"
      ],
      "id": "edcabecf"
    },
    {
      "cell_type": "markdown",
      "metadata": {},
      "source": [
        "Booleans are fundamental in programming, as they are used to control the\n",
        "flow of execution in conditional statements and loops. They are also\n",
        "used in various algorithms and data structures."
      ],
      "id": "8c37d705-3aab-4a45-8460-eb3edd9efd84"
    }
  ],
  "nbformat": 4,
  "nbformat_minor": 5,
  "metadata": {
    "kernelspec": {
      "name": "python3",
      "display_name": "Python 3 (ipykernel)",
      "language": "python"
    }
  }
}
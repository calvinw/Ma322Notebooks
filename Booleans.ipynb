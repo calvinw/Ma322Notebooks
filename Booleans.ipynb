{
  "cells": [
    {
      "cell_type": "markdown",
      "metadata": {},
      "source": [
        "# Introduction to Booleans in Python\n",
        "\n",
        "In Python, a boolean is a logical data type that can have one of two\n",
        "values: `True` or `False`. Booleans are used to represent truth values\n",
        "and are often used in conditional statements and logical operations.\n",
        "\n",
        "## Boolean Values\n",
        "\n",
        "To define a boolean value, you can simply use the keywords `True` or\n",
        "`False` (with the first letter capitalized)."
      ],
      "id": "36bf9a0a-d4aa-40ed-897f-cc28e8645940"
    },
    {
      "cell_type": "code",
      "execution_count": null,
      "metadata": {},
      "outputs": [],
      "source": [
        "is_sunny = True\n",
        "is_raining = False\n",
        "\n",
        "print(is_sunny)   # Output: True\n",
        "print(is_raining) # Output: False"
      ],
      "id": "d561ebd7"
    },
    {
      "cell_type": "markdown",
      "metadata": {},
      "source": [
        "## Comparing Values\n",
        "\n",
        "Booleans are often created by comparing values using relational\n",
        "operators like `==` (equal to), `!=` (not equal to), `>` (greater than),\n",
        "`<` (less than), `>=` (greater than or equal to), and `<=` (less than or\n",
        "equal to)."
      ],
      "id": "96f33fec-1897-4fb2-b97c-dce8bb35ff11"
    },
    {
      "cell_type": "code",
      "execution_count": null,
      "metadata": {},
      "outputs": [],
      "source": [
        "x = 5\n",
        "y = 10\n",
        "\n",
        "print(x == y)     # Output: False\n",
        "print(x != y)     # Output: True\n",
        "print(x > y)      # Output: False\n",
        "print(x < y)      # Output: True\n",
        "print(x >= y)     # Output: False\n",
        "print(x <= y)     # Output: True"
      ],
      "id": "5c193703"
    },
    {
      "cell_type": "markdown",
      "metadata": {},
      "source": [
        "## Boolean Operations\n",
        "\n",
        "Python provides logical operators that can be used to combine or negate\n",
        "boolean values:\n",
        "\n",
        "-   `and`: Returns `True` if both operands are `True`, otherwise\n",
        "    `False`.\n",
        "-   `or`: Returns `True` if at least one operand is `True`, otherwise\n",
        "    `False`.\n",
        "-   `not`: Returns the opposite boolean value (negates the operand)."
      ],
      "id": "36fae3eb-cafe-469d-b9ef-c698da3de53a"
    },
    {
      "cell_type": "code",
      "execution_count": null,
      "metadata": {},
      "outputs": [],
      "source": [
        "x = True\n",
        "y = False\n",
        "\n",
        "print(x and y)    # Output: False\n",
        "print(x or y)     # Output: True\n",
        "print(not x)      # Output: False"
      ],
      "id": "77eba428"
    },
    {
      "cell_type": "markdown",
      "metadata": {},
      "source": [
        "Booleans are fundamental in programming, as they are used to control the\n",
        "flow of execution in conditional statements and loops. They are also\n",
        "used in various algorithms and data structures."
      ],
      "id": "3e5bb084-dcab-4309-9047-79c14d72e9f8"
    }
  ],
  "nbformat": 4,
  "nbformat_minor": 5,
  "metadata": {
    "kernelspec": {
      "name": "python3",
      "display_name": "Python 3 (ipykernel)",
      "language": "python"
    }
  }
}
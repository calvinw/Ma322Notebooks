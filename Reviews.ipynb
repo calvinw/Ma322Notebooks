{
  "cells": [
    {
      "cell_type": "markdown",
      "metadata": {},
      "source": [
        "# Analyzing Reviews with LLMs\n",
        "\n",
        "## Set up your `TOGETHER_API_KEY`"
      ],
      "id": "4d257329-f957-455b-b565-2e9dced89d80"
    },
    {
      "cell_type": "code",
      "execution_count": null,
      "metadata": {},
      "outputs": [],
      "source": [
        "import os\n",
        "\n",
        "if os.environ.get(\"TOGETHER_API_KEY\") is None:\n",
        "   os.environ[\"TOGETHER_API_KEY\"] = \"paste_your_api_key_here\""
      ],
      "id": "c9b2bff7"
    },
    {
      "cell_type": "markdown",
      "metadata": {},
      "source": [
        "## Setup to Call the LLM\n",
        "\n",
        "For this part, we install the required package to interact with a\n",
        "TogetherAI language model."
      ],
      "id": "010ca4b9-40ce-4c85-8367-d4f3d6baa004"
    },
    {
      "cell_type": "code",
      "execution_count": null,
      "metadata": {},
      "outputs": [],
      "source": [
        "!pip3 install langchain langchain_openai"
      ],
      "id": "4ae6069f"
    },
    {
      "cell_type": "code",
      "execution_count": null,
      "metadata": {},
      "outputs": [],
      "source": [
        "import os\n",
        "from langchain_openai import ChatOpenAI\n",
        "from IPython.display import Markdown\n",
        "\n",
        "model_name = \"NousResearch/Nous-Hermes-2-Mixtral-8x7B-SFT\"\n",
        "#model_name = \"NousResearch/Nous-Hermes-2-Mixtral-8x7B-DPO\"\n",
        "#model_name=\"mistralai/Mixtral-8x7B-Instruct-v0.1\"\n",
        "#model_name=\"mistralai/Mistral-7B-Instruct-v0.1\"\n",
        "#model_name=\"mistralai/Mistral-7B-Instruct-v0.2\"\n",
        "#model_name = \"openchat/openchat-3.5-1210\"\n",
        "#model_name = \"Qwen/Qwen1.5-72B-Chat\"\n",
        "\n",
        "display(Markdown(\"### Model:  \\n#### \" + model_name))\n",
        "\n",
        "llm=ChatOpenAI(model_name=model_name,\n",
        "               openai_api_key=os.environ.get(\"TOGETHER_API_KEY\"),\n",
        "               openai_api_base=\"https://api.together.xyz/v1/\")"
      ],
      "id": "3c6ae1c7"
    },
    {
      "cell_type": "code",
      "execution_count": null,
      "metadata": {},
      "outputs": [],
      "source": [
        "import textwrap\n",
        "from langchain_core.prompts import ChatPromptTemplate\n",
        "\n",
        "def wrap_text(text, max_width=80):\n",
        "    \"\"\"\n",
        "    Wraps the text to the specified max_width, preserving line breaks and formatting.\n",
        "    \"\"\"\n",
        "    lines = text.splitlines()  # Split the text into lines\n",
        "    wrapped_lines = []\n",
        "    for line in lines:\n",
        "        if line.strip():  # Skip empty lines\n",
        "            wrapped_line = textwrap.fill(line, max_width, initial_indent='', subsequent_indent='')\n",
        "            wrapped_lines.extend(wrapped_line.splitlines())  # Preserve line breaks\n",
        "        else:\n",
        "            wrapped_lines.append('')  # Keep empty lines\n",
        "    return '\\n'.join(wrapped_lines)\n",
        "\n",
        "def print_prompt_and_response(prompt, response):\n",
        "    print(\"Prompt: \")\n",
        "    print(wrap_text(prompt))\n",
        "    print(\"\")\n",
        "    print(\"Response: \")\n",
        "    print(response)\n",
        "\n",
        "def print_messages_and_response(messages, response):\n",
        "    prompt = ChatPromptTemplate(messages=messages)\n",
        "    print_prompt_and_response(prompt.format(), response)\n",
        "\n",
        "def get_completion(prompt, temperature=0.0):\n",
        "    response = llm.invoke(prompt, temperature=temperature)\n",
        "    wrapped_response = wrap_text(response.content)\n",
        "    return wrapped_response\n",
        "\n",
        "def get_completion_messages(messages, temperature=0.0):\n",
        "    response=llm.invoke(messages, temperature=temperature)\n",
        "    wrapped_response = wrap_text(response.content)\n",
        "    return wrapped_response"
      ],
      "id": "5546ed8d"
    },
    {
      "cell_type": "markdown",
      "metadata": {},
      "source": [
        "## Analyzing Amazon Reviews\n",
        "\n",
        "The following sets up some templates to analyze reviews of this product:\n",
        "[Big Dart\n",
        "Blouses](https://www.amazon.com/Womens-Blouses-Sleeve-Button-Fashion/dp/B08NYQN9ZY/ref=cm_cr_arp_d_bdcrb_top?ie=UTF8&th=1)\n",
        "\n",
        "Here’s our template:"
      ],
      "id": "9b7a6ca3-dd42-4cec-bcef-1c5519cb1c34"
    },
    {
      "cell_type": "code",
      "execution_count": null,
      "metadata": {},
      "outputs": [],
      "source": [
        "template =\"\"\"Give a short summary of the following review. The review is placed\n",
        "in the <text> tags. Use no more than 30 words.\n",
        "<text>\n",
        "{review}\n",
        "</text>\"\"\""
      ],
      "id": "94623dcd"
    },
    {
      "cell_type": "markdown",
      "metadata": {},
      "source": [
        "Here’s our first review:"
      ],
      "id": "741e4def-cfc3-49b9-b4a3-6590ca206784"
    },
    {
      "cell_type": "code",
      "execution_count": null,
      "metadata": {},
      "outputs": [],
      "source": [
        "first_review = \"\"\"So close! Aside from the technical issues — I ordered a small\n",
        "of the less busy face pattern, and received a medium in the more busy face\n",
        "pattern option instead. I’m 5’6” 135-140lbs. The sizes were European. This\n",
        "medium was a little big but still would have felt cute, if not for the collar\n",
        "and neckline. The collar has a high backing that doesn’t allow it to fall too\n",
        "well around your neck, and since the fabric is very thin and one-sided, you can\n",
        "see the back of the pattern when the collar is open (see photos). While okay for\n",
        "casual wear, and has a great boxy cut, the exposed back of fabric feels a bit\n",
        "cheap. Shirt is a good length for tucking in and a bit long otherwise.\"\"\""
      ],
      "id": "c4c36ea7"
    },
    {
      "cell_type": "markdown",
      "metadata": {},
      "source": [
        "Lets pass in `first_review` as the `review` we want to use in the\n",
        "template:"
      ],
      "id": "ce5ef593-db6a-4ab6-b783-371ab0367454"
    },
    {
      "cell_type": "code",
      "execution_count": null,
      "metadata": {},
      "outputs": [],
      "source": [
        "prompt=template.format(review=first_review)\n",
        "response = get_completion(prompt)\n",
        "print_prompt_and_response(prompt, response)"
      ],
      "id": "5d315a61"
    },
    {
      "cell_type": "markdown",
      "metadata": {},
      "source": [
        "Let’s take a look at a few more reviews."
      ],
      "id": "d907086f-9e72-46bb-98b5-564821e635bb"
    },
    {
      "cell_type": "code",
      "execution_count": null,
      "metadata": {},
      "outputs": [],
      "source": [
        "second_review = \"\"\"I love the pattern on this shirt, and I wanted to keep it so\n",
        "badly!! A few issues, though, made me send it back. 1 - The shirt looks much\n",
        "shinier/glossier on the models, and it's not. It's not shiny at all. It's a\n",
        "very nice fabric that is lightweight, but it hangs a lot differently that what\n",
        "was shown. 2 - The front is very short. The back hangs down nicely, but if you\n",
        "want to hide any tummy issues, this shirt won't do it for you. I also felt like\n",
        "my arms couldn't come up any or the shirt would be too high. I do a lot of\n",
        "presenting so this was a no go for me. 3 - The stitching on the front pulls\n",
        "oddly, so although it was big enough to button across the chest area, the\n",
        "stitching made it seem as though it was pulling even when it wasn't. Could just\n",
        "be my experience, but I don't like looking like the shirt is barely holding on,\n",
        "ha. I am 5'4 with a more muscular build (wide shoulders too) so that might be\n",
        "part of it. I love this shirt and wish it would work for me, but the shortness\n",
        "of it and the way it pulls made it a no-go.\"\"\"\n",
        "\n",
        "third_review=\"\"\"I read the reviews and sized up. You prop could do your normal\n",
        "size depending on body shape. I like the shirt, so fun for work. Only thing I\n",
        "wish the inside of the shirt was a black color so when I roll the sleeves up\n",
        "it's not a white color. Not a deal breaker. It's a long shirt that covered my\n",
        "bum if you wanted to wear over leggings\"\"\"\n",
        "\n",
        "fourth_review=\"\"\"I love these shirts. Patterns, fabric, and construction are\n",
        "wonderful. My usual extra-large size fit me perfectly - until I washed them in\n",
        "warm water and dried them on low-medium setting (what was I thinking). They\n",
        "shrunk a full size all around. Because I like these shirts so much I am\n",
        "reordering my original and adding a couple more colors, BUT this time I will\n",
        "wash COLD, Gentle cycle, and Hang dry!\"\"\""
      ],
      "id": "c8067747"
    },
    {
      "cell_type": "markdown",
      "metadata": {},
      "source": [
        "Lets do the `second_review`"
      ],
      "id": "4346c676-0dc3-47e5-9345-c8fd70e72e06"
    },
    {
      "cell_type": "code",
      "execution_count": null,
      "metadata": {},
      "outputs": [],
      "source": [
        "prompt=template.format(review=second_review)\n",
        "response = get_completion(prompt)\n",
        "print_prompt_and_response(prompt, response)"
      ],
      "id": "c17bc977"
    },
    {
      "cell_type": "markdown",
      "metadata": {},
      "source": [
        "Lets do the `third_review`"
      ],
      "id": "3f8e46e3-2a7a-4ec5-8c51-22b3983f51a6"
    },
    {
      "cell_type": "code",
      "execution_count": null,
      "metadata": {},
      "outputs": [],
      "source": [
        "prompt=template.format(review=third_review)\n",
        "response = get_completion(prompt)\n",
        "print_prompt_and_response(prompt, response)"
      ],
      "id": "ab79902a"
    },
    {
      "cell_type": "markdown",
      "metadata": {},
      "source": [
        "And the `fourth_review`"
      ],
      "id": "c1984498-770c-4ab4-ba5e-d9cf8cda2ca2"
    },
    {
      "cell_type": "code",
      "execution_count": null,
      "metadata": {},
      "outputs": [],
      "source": [
        "prompt=template.format(review=fourth_review)\n",
        "response = get_completion(prompt)\n",
        "print_prompt_and_response(prompt, response)"
      ],
      "id": "aede2fa0"
    }
  ],
  "nbformat": 4,
  "nbformat_minor": 5,
  "metadata": {
    "kernelspec": {
      "name": "python3",
      "display_name": "Python 3 (ipykernel)",
      "language": "python"
    }
  }
}
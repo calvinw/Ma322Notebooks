{
  "cells": [
    {
      "cell_type": "markdown",
      "metadata": {},
      "source": [
        "# Analyzing Reviews with LLMs\n",
        "\n",
        "## Set up your `OPENAI_API_KEY`"
      ],
      "id": "9a64d9ef-6858-46c0-8eef-54a6630728f1"
    },
    {
      "cell_type": "code",
      "execution_count": null,
      "metadata": {},
      "outputs": [],
      "source": [
        "import os\n",
        "\n",
        "if os.environ.get(\"OPENAI_API_KEY\") is None:\n",
        "   os.environ[\"OPENAI_API_KEY\"] = \"sk-...\" #set your api key here."
      ],
      "id": "be604080"
    },
    {
      "cell_type": "markdown",
      "metadata": {},
      "source": [
        "## Install Packages to Call the LLM\n",
        "\n",
        "For this part we set up the LLM."
      ],
      "id": "cefce5df-9078-455f-8451-c6f836e23c1f"
    },
    {
      "cell_type": "code",
      "execution_count": null,
      "metadata": {},
      "outputs": [],
      "source": [
        "!pip3 install langchain\n",
        "!pip3 install langchain-openai\n",
        "!pip3 install openai"
      ],
      "id": "2f6815c2"
    },
    {
      "cell_type": "code",
      "execution_count": null,
      "metadata": {},
      "outputs": [],
      "source": [
        "from langchain_openai import ChatOpenAI\n",
        "import textwrap\n",
        "\n",
        "def wrap_text(text, max_width=80):\n",
        "    \"\"\"\n",
        "    Wraps the text to the specified max_width, preserving line breaks and formatting.\n",
        "    \"\"\"\n",
        "    lines = text.splitlines()  # Split the text into lines\n",
        "    wrapped_lines = []\n",
        "\n",
        "    for line in lines:\n",
        "        if line.strip():  # Skip empty lines\n",
        "            wrapped_line = textwrap.fill(line, max_width, initial_indent='', subsequent_indent='')\n",
        "            wrapped_lines.extend(wrapped_line.splitlines())  # Preserve line breaks\n",
        "        else:\n",
        "            wrapped_lines.append('')  # Keep empty lines\n",
        "\n",
        "    return '\\n'.join(wrapped_lines)\n",
        "\n",
        "\n",
        "def print_prompt_and_response(prompt, response):\n",
        "    print(\"Prompt: \")\n",
        "    print(prompt)\n",
        "    print(\"\")\n",
        "    print(\"Response: \")\n",
        "    print(response)\n",
        "    print(80*\"=\")\n",
        "\n",
        "def get_completion(prompt, temperature=0.0):\n",
        "    # Create the OpenAI LLM\n",
        "    llm = ChatOpenAI(\n",
        "               model_name =\"gpt-3.5-turbo\",\n",
        "               temperature=temperature\n",
        "             )\n",
        "\n",
        "    # Call the LLM with the prompt\n",
        "    response = llm.invoke(prompt)\n",
        "    wrapped_response = wrap_text(response.content)\n",
        "    return wrapped_response"
      ],
      "id": "73fc3d8d"
    },
    {
      "cell_type": "markdown",
      "metadata": {},
      "source": [
        "## Analyzing Amazon Reviews\n",
        "\n",
        "The following sets up some templates to analyze reviews of this product:\n",
        "[Big Dart\n",
        "Blouses](https://www.amazon.com/Womens-Blouses-Sleeve-Button-Fashion/dp/B08NYQN9ZY/ref=cm_cr_arp_d_bdcrb_top?ie=UTF8&th=1)"
      ],
      "id": "0af88fff-1120-492c-a328-7da080219777"
    },
    {
      "cell_type": "code",
      "execution_count": null,
      "metadata": {},
      "outputs": [],
      "source": [
        "template =\"\"\"Give a short summary of the following review. The review is placed\n",
        "in the <text> tags. Use no more than 30 words.\n",
        "<text>\n",
        "{review}\n",
        "</text>\"\"\"\n",
        "\n",
        "first_review = \"\"\"So close! Aside from the technical issues — I ordered a small\n",
        "of the less busy face pattern, and received a medium in the more busy face\n",
        "pattern option instead. I’m 5’6” 135-140lbs. The sizes were European. This\n",
        "medium was a little big but still would have felt cute, if not for the collar\n",
        "and neckline. The collar has a high backing that doesn’t allow it to fall too\n",
        "well around your neck, and since the fabric is very thin and one-sided, you can\n",
        "see the back of the pattern when the collar is open (see photos). While okay for\n",
        "casual wear, and has a great boxy cut, the exposed back of fabric feels a bit\n",
        "cheap. Shirt is a good length for tucking in and a bit long otherwise.\"\"\"\n",
        "\n",
        "prompt=template.format(review=first_review)\n",
        "response = get_completion(prompt)\n",
        "print_prompt_and_response(prompt, response)"
      ],
      "id": "2bf83ed4"
    },
    {
      "cell_type": "markdown",
      "metadata": {},
      "source": [
        "Let’s take a look at a few more reviews."
      ],
      "id": "93ac5f44-e95a-4cc5-ab4d-651753daff62"
    },
    {
      "cell_type": "code",
      "execution_count": null,
      "metadata": {},
      "outputs": [],
      "source": [
        "second_review = \"\"\"I love the pattern on this shirt, and I wanted to keep it so\n",
        "badly!! A few issues, though, made me send it back. 1 - The shirt looks much\n",
        "shinier/glossier on the models, and it's not. It's not shiny at all. It's a\n",
        "very nice fabric that is lightweight, but it hangs a lot differently that what\n",
        "was shown. 2 - The front is very short. The back hangs down nicely, but if you\n",
        "want to hide any tummy issues, this shirt won't do it for you. I also felt like\n",
        "my arms couldn't come up any or the shirt would be too high. I do a lot of\n",
        "presenting so this was a no go for me. 3 - The stitching on the front pulls\n",
        "oddly, so although it was big enough to button across the chest area, the\n",
        "stitching made it seem as though it was pulling even when it wasn't. Could just\n",
        "be my experience, but I don't like looking like the shirt is barely holding on,\n",
        "ha. I am 5'4 with a more muscular build (wide shoulders too) so that might be\n",
        "part of it. I love this shirt and wish it would work for me, but the shortness\n",
        "of it and the way it pulls made it a no-go.\"\"\"\n",
        "\n",
        "third_review=\"\"\"I read the reviews and sized up. You prop could do your normal\n",
        "size depending on body shape. I like the shirt, so fun for work. Only thing I\n",
        "wish the inside of the shirt was a black color so when I roll the sleeves up\n",
        "it's not a white color. Not a deal breaker. It's a long shirt that covered my\n",
        "bum if you wanted to wear over leggings\"\"\"\n",
        "\n",
        "fourth_review=\"\"\"I love these shirts. Patterns, fabric, and construction are\n",
        "wonderful. My usual extra-large size fit me perfectly - until I washed them in\n",
        "warm water and dried them on low-medium setting (what was I thinking). They\n",
        "shrunk a full size all around. Because I like these shirts so much I am\n",
        "reordering my original and adding a couple more colors, BUT this time I will\n",
        "wash COLD, Gentle cycle, and Hang dry!\"\"\""
      ],
      "id": "cf9ad295"
    },
    {
      "cell_type": "code",
      "execution_count": null,
      "metadata": {},
      "outputs": [],
      "source": [
        "template =\"\"\"Give a short summary of the following review. The review is placed\n",
        "in the <text> tags. Use no more than 30 words.\n",
        "\n",
        "<text>\n",
        "{review}\n",
        "</text>\"\"\"\n",
        "\n",
        "reviews = [second_review, third_review, fourth_review]\n",
        "\n",
        "for review in reviews:\n",
        "  prompt = template.format(review=review)\n",
        "  response = get_completion(prompt)\n",
        "  print_prompt_and_response(prompt, response)"
      ],
      "id": "4160ac8d"
    }
  ],
  "nbformat": 4,
  "nbformat_minor": 5,
  "metadata": {
    "kernelspec": {
      "name": "python3",
      "display_name": "Python 3 (ipykernel)",
      "language": "python"
    }
  }
}
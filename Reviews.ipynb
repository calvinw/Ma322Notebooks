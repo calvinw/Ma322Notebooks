{
  "cells": [
    {
      "cell_type": "markdown",
      "metadata": {},
      "source": [
        "# Interacting with Anthropic’s Language Model\n",
        "\n",
        "## Set up your `ANTHROPIC_API_KEY`"
      ],
      "id": "4c4bbbd2-54c4-4c67-a4cb-2954b72c3bac"
    },
    {
      "cell_type": "code",
      "execution_count": null,
      "metadata": {},
      "outputs": [],
      "source": [
        "import os\n",
        "\n",
        "if os.environ.get(\"ANTHROPIC_API_KEY\") is None:\n",
        "   os.environ[\"ANTHROPIC_API_KEY\"] = \"paste_your_api_key_here\""
      ],
      "id": "7484880f"
    },
    {
      "cell_type": "markdown",
      "metadata": {},
      "source": [
        "## Install Package to Call the LLM\n",
        "\n",
        "For this part, we install the required package to interact with\n",
        "Anthropic’s language model."
      ],
      "id": "7e9d19dd-e549-4c06-8b21-dcc613bf6995"
    },
    {
      "cell_type": "code",
      "execution_count": null,
      "metadata": {},
      "outputs": [],
      "source": [
        "!pip3 install anthropic"
      ],
      "id": "1f104cbd"
    },
    {
      "cell_type": "code",
      "execution_count": null,
      "metadata": {},
      "outputs": [],
      "source": [
        "import time\n",
        "import anthropic\n",
        "import textwrap\n",
        "\n",
        "def wrap_text(text, max_width=80):\n",
        "    \"\"\"\n",
        "    Wraps the text to the specified max_width, preserving line breaks and formatting.\n",
        "    \"\"\"\n",
        "    lines = text.splitlines()  # Split the text into lines\n",
        "    wrapped_lines = []\n",
        "\n",
        "    for line in lines:\n",
        "        if line.strip():  # Skip empty lines\n",
        "            wrapped_line = textwrap.fill(line, max_width, initial_indent='', subsequent_indent='')\n",
        "            wrapped_lines.extend(wrapped_line.splitlines())  # Preserve line breaks\n",
        "        else:\n",
        "            wrapped_lines.append('')  # Keep empty lines\n",
        "\n",
        "    return '\\n'.join(wrapped_lines)\n",
        "\n",
        "\n",
        "def print_prompt_and_response(prompt, response):\n",
        "    print(\"Prompt: \")\n",
        "    print(prompt)\n",
        "    print(\"\")\n",
        "    print(\"Response: \")\n",
        "    print(response)\n",
        "    print(80*\"=\")\n",
        "\n",
        "def get_completion(prompt, temperature=0.0):\n",
        "\n",
        "    # Create the Anthropic LLM\n",
        "    client = anthropic.Anthropic()\n",
        "\n",
        "    # Call it\n",
        "    response = client.messages.create(\n",
        "        model=\"claude-3-haiku-20240307\",\n",
        "        max_tokens=1000,\n",
        "        temperature=temperature,\n",
        "        messages=[{\"role\": \"user\", \"content\": prompt}]\n",
        "    )\n",
        "    wrapped_response = wrap_text(response.content[0].text)\n",
        "    return wrapped_response"
      ],
      "id": "49ad9dd7"
    },
    {
      "cell_type": "markdown",
      "metadata": {},
      "source": [
        "## Analyzing Amazon Reviews\n",
        "\n",
        "The following sets up some templates to analyze reviews of this product:\n",
        "[Big Dart\n",
        "Blouses](https://www.amazon.com/Womens-Blouses-Sleeve-Button-Fashion/dp/B08NYQN9ZY/ref=cm_cr_arp_d_bdcrb_top?ie=UTF8&th=1)"
      ],
      "id": "7f74002c-d6a8-48c7-b90e-9dd6d29c4983"
    },
    {
      "cell_type": "code",
      "execution_count": null,
      "metadata": {},
      "outputs": [],
      "source": [
        "template =\"\"\"Give a short summary of the following review. The review is placed\n",
        "in the <text> tags. Use no more than 30 words.\n",
        "<text>\n",
        "{review}\n",
        "</text>\"\"\"\n",
        "\n",
        "first_review = \"\"\"So close! Aside from the technical issues — I ordered a small\n",
        "of the less busy face pattern, and received a medium in the more busy face\n",
        "pattern option instead. I’m 5’6” 135-140lbs. The sizes were European. This\n",
        "medium was a little big but still would have felt cute, if not for the collar\n",
        "and neckline. The collar has a high backing that doesn’t allow it to fall too\n",
        "well around your neck, and since the fabric is very thin and one-sided, you can\n",
        "see the back of the pattern when the collar is open (see photos). While okay for\n",
        "casual wear, and has a great boxy cut, the exposed back of fabric feels a bit\n",
        "cheap. Shirt is a good length for tucking in and a bit long otherwise.\"\"\"\n",
        "\n",
        "prompt=template.format(review=first_review)\n",
        "response = get_completion(prompt)\n",
        "print_prompt_and_response(prompt, response)"
      ],
      "id": "36cb0da8"
    },
    {
      "cell_type": "markdown",
      "metadata": {},
      "source": [
        "Let’s take a look at a few more reviews."
      ],
      "id": "fa729450-f264-4dbe-b7ae-7e9d11282e5c"
    },
    {
      "cell_type": "code",
      "execution_count": null,
      "metadata": {},
      "outputs": [],
      "source": [
        "second_review = \"\"\"I love the pattern on this shirt, and I wanted to keep it so\n",
        "badly!! A few issues, though, made me send it back. 1 - The shirt looks much\n",
        "shinier/glossier on the models, and it's not. It's not shiny at all. It's a\n",
        "very nice fabric that is lightweight, but it hangs a lot differently that what\n",
        "was shown. 2 - The front is very short. The back hangs down nicely, but if you\n",
        "want to hide any tummy issues, this shirt won't do it for you. I also felt like\n",
        "my arms couldn't come up any or the shirt would be too high. I do a lot of\n",
        "presenting so this was a no go for me. 3 - The stitching on the front pulls\n",
        "oddly, so although it was big enough to button across the chest area, the\n",
        "stitching made it seem as though it was pulling even when it wasn't. Could just\n",
        "be my experience, but I don't like looking like the shirt is barely holding on,\n",
        "ha. I am 5'4 with a more muscular build (wide shoulders too) so that might be\n",
        "part of it. I love this shirt and wish it would work for me, but the shortness\n",
        "of it and the way it pulls made it a no-go.\"\"\"\n",
        "\n",
        "third_review=\"\"\"I read the reviews and sized up. You prop could do your normal\n",
        "size depending on body shape. I like the shirt, so fun for work. Only thing I\n",
        "wish the inside of the shirt was a black color so when I roll the sleeves up\n",
        "it's not a white color. Not a deal breaker. It's a long shirt that covered my\n",
        "bum if you wanted to wear over leggings\"\"\"\n",
        "\n",
        "fourth_review=\"\"\"I love these shirts. Patterns, fabric, and construction are\n",
        "wonderful. My usual extra-large size fit me perfectly - until I washed them in\n",
        "warm water and dried them on low-medium setting (what was I thinking). They\n",
        "shrunk a full size all around. Because I like these shirts so much I am\n",
        "reordering my original and adding a couple more colors, BUT this time I will\n",
        "wash COLD, Gentle cycle, and Hang dry!\"\"\""
      ],
      "id": "6ac07f52"
    },
    {
      "cell_type": "code",
      "execution_count": null,
      "metadata": {},
      "outputs": [],
      "source": [
        "template =\"\"\"Give a short summary of the following review. The review is placed\n",
        "in the <text> tags. Use no more than 30 words.\n",
        "\n",
        "<text>\n",
        "{review}\n",
        "</text>\"\"\"\n",
        "\n",
        "reviews = [second_review, third_review, fourth_review]\n",
        "\n",
        "for review in reviews:\n",
        "  prompt = template.format(review=review)\n",
        "  response = get_completion(prompt)\n",
        "  print_prompt_and_response(prompt, response)"
      ],
      "id": "a5f6b7ec"
    }
  ],
  "nbformat": 4,
  "nbformat_minor": 5,
  "metadata": {
    "kernelspec": {
      "name": "python3",
      "display_name": "Python 3 (ipykernel)",
      "language": "python"
    }
  }
}
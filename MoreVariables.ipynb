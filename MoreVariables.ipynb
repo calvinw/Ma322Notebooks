{
  "cells": [
    {
      "cell_type": "markdown",
      "metadata": {},
      "source": [
        "# More Variables In Python\n",
        "\n",
        "Lets start by storing a number in a variable. Store 4 in the variable\n",
        "`x`"
      ],
      "id": "63133846-41e3-4c27-8366-771b10205e3f"
    },
    {
      "cell_type": "code",
      "execution_count": null,
      "metadata": {},
      "outputs": [],
      "source": [
        "CODE"
      ],
      "id": "ef4aac85"
    },
    {
      "cell_type": "markdown",
      "metadata": {},
      "source": [
        "Print out the variable `x`:"
      ],
      "id": "752a0c18-3e27-4c35-a8fa-e1dcd5b2c265"
    },
    {
      "cell_type": "code",
      "execution_count": null,
      "metadata": {},
      "outputs": [],
      "source": [
        "CODE"
      ],
      "id": "78a6395b"
    },
    {
      "cell_type": "markdown",
      "metadata": {},
      "source": [
        "Set `y` equal to `5*x`"
      ],
      "id": "380e25d7-3575-46c9-85e6-fc64eaaba136"
    },
    {
      "cell_type": "code",
      "execution_count": null,
      "metadata": {},
      "outputs": [],
      "source": [
        "CODE"
      ],
      "id": "d5c7f47f"
    },
    {
      "cell_type": "markdown",
      "metadata": {},
      "source": [
        "Now y will have a value after we do this. What is the current value of\n",
        "y? Since the current value of `x` is 4, the value of y should be\n",
        "$5(4)=20$.\n",
        "\n",
        "Now print out the value of `y`"
      ],
      "id": "88203172-ef28-432c-9d76-637974c2f7de"
    },
    {
      "cell_type": "code",
      "execution_count": null,
      "metadata": {},
      "outputs": [],
      "source": [
        "CODE"
      ],
      "id": "491457f0"
    },
    {
      "cell_type": "markdown",
      "metadata": {},
      "source": [
        "Variables can be changed as a program proceeds.\n",
        "\n",
        "Change the value of x to be 7:"
      ],
      "id": "4e1304b2-6c0e-4bdf-bf8d-d68ed8401d15"
    },
    {
      "cell_type": "code",
      "execution_count": null,
      "metadata": {},
      "outputs": [],
      "source": [
        "CODE"
      ],
      "id": "cbdf5bfa"
    },
    {
      "cell_type": "markdown",
      "metadata": {},
      "source": [
        "One thing you might wonder is that if you change the value of x at some\n",
        "point, does that affect the value of y we defined earlier using x? Let’s\n",
        "check:"
      ],
      "id": "9b1f703d-fde8-46dd-8756-851558446939"
    },
    {
      "cell_type": "code",
      "execution_count": null,
      "metadata": {},
      "outputs": [],
      "source": [
        "CODE"
      ],
      "id": "2b5b0157"
    },
    {
      "cell_type": "markdown",
      "metadata": {},
      "source": [
        "No. It doesn’t. This y still has the same value it had before which is\n",
        "$5(4) = 20$ since at the time we assigned y the x was equal to 4. If we\n",
        "want y to update, we would have to assign it again to give it a new\n",
        "value. Go ahead and do that."
      ],
      "id": "ad2a7f8e-b7a3-4931-a07e-aa81e009c14d"
    },
    {
      "cell_type": "code",
      "execution_count": null,
      "metadata": {},
      "outputs": [],
      "source": [
        "CODE"
      ],
      "id": "7533e09e"
    },
    {
      "cell_type": "markdown",
      "metadata": {},
      "source": [
        "Now print out the new version of y:"
      ],
      "id": "a4fd49ee-21cc-4078-b139-8dfa98b652a2"
    },
    {
      "cell_type": "code",
      "execution_count": null,
      "metadata": {},
      "outputs": [],
      "source": [
        "CODE"
      ],
      "id": "8b16fc7d"
    },
    {
      "cell_type": "markdown",
      "metadata": {},
      "source": [
        "It has the value $5(7) = 35$ now since currently the x is assigned to be\n",
        "7.\n",
        "\n",
        "Next go ahead and set a variable `z` equal to 1.2 and `w` equal to 7 and\n",
        "then print them both out in this block of code"
      ],
      "id": "7bf5320d-2ba6-4503-b517-990f585547f1"
    },
    {
      "cell_type": "code",
      "execution_count": null,
      "metadata": {},
      "outputs": [],
      "source": [
        "CODE"
      ],
      "id": "950db1da"
    },
    {
      "cell_type": "markdown",
      "metadata": {},
      "source": [
        "Now we change (assign) `z` to be `3*w-5` and print out the new `z`"
      ],
      "id": "f558e444-b87b-4ddb-ada4-66cdae556fe4"
    },
    {
      "cell_type": "code",
      "execution_count": null,
      "metadata": {},
      "outputs": [],
      "source": [
        "CODE"
      ],
      "id": "bf7b61ec"
    },
    {
      "cell_type": "markdown",
      "metadata": {},
      "source": [
        "Since `w` was 7 above, the new value of `z` is $3(7)-5 = 16$"
      ],
      "id": "6711d16f-fa86-4b3c-9c43-6066148f6af4"
    }
  ],
  "nbformat": 4,
  "nbformat_minor": 5,
  "metadata": {
    "kernelspec": {
      "name": "python3",
      "display_name": "Python 3 (ipykernel)",
      "language": "python"
    }
  }
}
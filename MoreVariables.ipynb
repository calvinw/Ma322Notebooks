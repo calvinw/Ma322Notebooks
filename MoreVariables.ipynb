{
  "cells": [
    {
      "cell_type": "markdown",
      "metadata": {},
      "source": [
        "# More Variables\n",
        "\n",
        "Lets start by storing a number in a variable. Store 4 in the variable\n",
        "`x`"
      ],
      "id": "8af93fdc-65bf-4276-bd6a-1b83f0408374"
    },
    {
      "cell_type": "code",
      "execution_count": null,
      "metadata": {},
      "outputs": [],
      "source": [
        "CODE"
      ],
      "id": "fec2fb60"
    },
    {
      "cell_type": "markdown",
      "metadata": {},
      "source": [
        "Print out the variable `x`:"
      ],
      "id": "bdf7f768-de29-4102-9887-19aee36a26aa"
    },
    {
      "cell_type": "code",
      "execution_count": null,
      "metadata": {},
      "outputs": [],
      "source": [
        "CODE"
      ],
      "id": "992de639"
    },
    {
      "cell_type": "markdown",
      "metadata": {},
      "source": [
        "Set `y` equal to `5*x`"
      ],
      "id": "8bb35296-8729-4251-ab66-13ba7d84574b"
    },
    {
      "cell_type": "code",
      "execution_count": null,
      "metadata": {},
      "outputs": [],
      "source": [
        "CODE"
      ],
      "id": "663b3254"
    },
    {
      "cell_type": "markdown",
      "metadata": {},
      "source": [
        "Now y will have a value after we do this. What is the current value of\n",
        "y? Since the current value of `x` is 4, the value of y should be\n",
        "$5(4)=20$.\n",
        "\n",
        "Now print out the value of `y`"
      ],
      "id": "399f6e7b-e3c4-4c4e-866b-c3fc7f47e507"
    },
    {
      "cell_type": "code",
      "execution_count": null,
      "metadata": {},
      "outputs": [],
      "source": [
        "CODE"
      ],
      "id": "e3dd917a"
    },
    {
      "cell_type": "markdown",
      "metadata": {},
      "source": [
        "Variables can be changed as a program proceeds.\n",
        "\n",
        "Change the value of x to be 7:"
      ],
      "id": "9167abf2-49e1-43e3-8e08-85b7607176a6"
    },
    {
      "cell_type": "code",
      "execution_count": null,
      "metadata": {},
      "outputs": [],
      "source": [
        "CODE"
      ],
      "id": "51e605e2"
    },
    {
      "cell_type": "markdown",
      "metadata": {},
      "source": [
        "One thing you might wonder is that if you change the value of x at some\n",
        "point, does that affect the value of y we defined earlier using x? Let’s\n",
        "check:"
      ],
      "id": "c720ab7d-f77b-4fca-91a3-bcb4b507dbbf"
    },
    {
      "cell_type": "code",
      "execution_count": null,
      "metadata": {},
      "outputs": [],
      "source": [
        "CODE"
      ],
      "id": "793f2243"
    },
    {
      "cell_type": "markdown",
      "metadata": {},
      "source": [
        "No. It doesn’t. This y still has the same value it had before which is\n",
        "$5(4) = 20$ since at the time we assigned y the x was equal to 4. If we\n",
        "want y to update, we would have to assign it again to give it a new\n",
        "value. Go ahead and do that."
      ],
      "id": "4a7a6fb9-7bf9-41ba-ae9e-7640eca8a623"
    },
    {
      "cell_type": "code",
      "execution_count": null,
      "metadata": {},
      "outputs": [],
      "source": [
        "CODE"
      ],
      "id": "d3abb8aa"
    },
    {
      "cell_type": "markdown",
      "metadata": {},
      "source": [
        "Now print out the new version of y:"
      ],
      "id": "0cc1ffed-1519-409f-8c44-9808097267dc"
    },
    {
      "cell_type": "code",
      "execution_count": null,
      "metadata": {},
      "outputs": [],
      "source": [
        "CODE"
      ],
      "id": "9735e182"
    },
    {
      "cell_type": "markdown",
      "metadata": {},
      "source": [
        "It has the value $5(7) = 35$ now since currently the x is assigned to be\n",
        "7.\n",
        "\n",
        "Next go ahead and set a variable `z` equal to 1.2 and `w` equal to 7 and\n",
        "then print them both out in this block of code"
      ],
      "id": "b8f761e5-84b0-4efc-99a1-9251b10ec610"
    },
    {
      "cell_type": "code",
      "execution_count": null,
      "metadata": {},
      "outputs": [],
      "source": [
        "CODE"
      ],
      "id": "010e1eb2"
    },
    {
      "cell_type": "markdown",
      "metadata": {},
      "source": [
        "Now we change (assign) `z` to be `3*w-5` and print out the new `z`"
      ],
      "id": "23b9481c-0e84-4d6f-84b0-c09d59f04d17"
    },
    {
      "cell_type": "code",
      "execution_count": null,
      "metadata": {},
      "outputs": [],
      "source": [
        "CODE"
      ],
      "id": "a78f8e39"
    },
    {
      "cell_type": "markdown",
      "metadata": {},
      "source": [
        "Since `w` was 7 above, the new value of `z` is $3(7)-5 = 16$"
      ],
      "id": "ac77152d-2290-4ae0-bca8-a77ee880e37a"
    }
  ],
  "nbformat": 4,
  "nbformat_minor": 5,
  "metadata": {
    "kernelspec": {
      "name": "python3",
      "display_name": "Python 3 (ipykernel)",
      "language": "python"
    }
  }
}
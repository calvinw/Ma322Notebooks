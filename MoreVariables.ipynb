{
  "cells": [
    {
      "cell_type": "markdown",
      "metadata": {},
      "source": [
        "# More Variables in Python\n",
        "\n",
        "**Problem**: Lets start by storing a number in a variable. Store 4 in\n",
        "the variable `x`"
      ],
      "id": "e9821e71-7125-4fa5-989c-53e8577336bd"
    },
    {
      "cell_type": "code",
      "execution_count": null,
      "metadata": {},
      "outputs": [],
      "source": [
        "CODE"
      ],
      "id": "ab17cc77"
    },
    {
      "cell_type": "markdown",
      "metadata": {},
      "source": [
        "**Problem**: Print out the variable `x`:"
      ],
      "id": "4afc0f86-15d0-4f52-89f3-3f46f5098c89"
    },
    {
      "cell_type": "code",
      "execution_count": null,
      "metadata": {},
      "outputs": [],
      "source": [
        "CODE"
      ],
      "id": "c331ca77"
    },
    {
      "cell_type": "markdown",
      "metadata": {},
      "source": [
        "**Problem**: Set `y` equal to `5*x`"
      ],
      "id": "3e7186c7-d861-4fcd-82d0-f73581a412c5"
    },
    {
      "cell_type": "code",
      "execution_count": null,
      "metadata": {},
      "outputs": [],
      "source": [
        "CODE"
      ],
      "id": "58c1176c"
    },
    {
      "cell_type": "markdown",
      "metadata": {},
      "source": [
        "Now y will have a value after we do this. What is the current value of\n",
        "y? Since the current value of `x` is 4, the value of y should be\n",
        "$5(4)=20$.\n",
        "\n",
        "**Problem**: Now print out the value of `y`"
      ],
      "id": "ff8d6805-d4c2-4b2c-9fd6-f089936e87f3"
    },
    {
      "cell_type": "code",
      "execution_count": null,
      "metadata": {},
      "outputs": [],
      "source": [
        "CODE"
      ],
      "id": "50a3f5a1"
    },
    {
      "cell_type": "markdown",
      "metadata": {},
      "source": [
        "Variables can be changed as a program proceeds.\n",
        "\n",
        "**Problem**: Change the value of x to be 7:"
      ],
      "id": "c991f7ef-2375-455b-8361-717114bdd105"
    },
    {
      "cell_type": "code",
      "execution_count": null,
      "metadata": {},
      "outputs": [],
      "source": [
        "CODE"
      ],
      "id": "2806e77f"
    },
    {
      "cell_type": "markdown",
      "metadata": {},
      "source": [
        "**Problem**: One thing you might wonder is that if you change the value\n",
        "of x at some point, does that affect the value of y we defined earlier\n",
        "using x? Let’s check:"
      ],
      "id": "9db5731b-97fc-47be-a679-d1a415675a49"
    },
    {
      "cell_type": "code",
      "execution_count": null,
      "metadata": {},
      "outputs": [],
      "source": [
        "CODE"
      ],
      "id": "49c62bc4"
    },
    {
      "cell_type": "markdown",
      "metadata": {},
      "source": [
        "No. It doesn’t. This y still has the same value it had before which is\n",
        "$5(4) = 20$ since at the time we assigned y the x was equal to 4. If we\n",
        "want y to update, we would have to assign it again to give it a new\n",
        "value. Go ahead and do that.\n",
        "\n",
        "**Problem**: Define `y` to be `5*x`"
      ],
      "id": "8b5b8144-a72d-4e28-9248-e1a0383c692f"
    },
    {
      "cell_type": "code",
      "execution_count": null,
      "metadata": {},
      "outputs": [],
      "source": [
        "CODE"
      ],
      "id": "7ca9a90d"
    },
    {
      "cell_type": "markdown",
      "metadata": {},
      "source": [
        "**Problem**: Now print out the new version of y using `print`:"
      ],
      "id": "40db62e9-9e48-4102-ad2a-446a5738ec0f"
    },
    {
      "cell_type": "code",
      "execution_count": null,
      "metadata": {},
      "outputs": [],
      "source": [
        "CODE"
      ],
      "id": "e8bb613e"
    },
    {
      "cell_type": "markdown",
      "metadata": {},
      "source": [
        "It has the value $5(7) = 35$ now since currently the x is assigned to be\n",
        "7.\n",
        "\n",
        "**Problem**: Next go ahead and set a variable `z` equal to 1.2 and `w`\n",
        "equal to 7 and then print them both out in this block of code"
      ],
      "id": "e3b6d047-0c36-43b5-9729-4612049d5a47"
    },
    {
      "cell_type": "code",
      "execution_count": null,
      "metadata": {},
      "outputs": [],
      "source": [
        "CODE"
      ],
      "id": "4e8b2254"
    },
    {
      "cell_type": "markdown",
      "metadata": {},
      "source": [
        "**Problem**: Now we change (assign) `z` to be `3*w-5` and print out the\n",
        "new `z`"
      ],
      "id": "36a16118-6012-48e1-9969-239b31175e38"
    },
    {
      "cell_type": "code",
      "execution_count": null,
      "metadata": {},
      "outputs": [],
      "source": [
        "CODE"
      ],
      "id": "6716906d"
    },
    {
      "cell_type": "markdown",
      "metadata": {},
      "source": [
        "Since `w` was 7 above, the new value of `z` is $3(7)-5 = 16$"
      ],
      "id": "707e8db2-008c-4f91-b657-61cf556b03ea"
    }
  ],
  "nbformat": 4,
  "nbformat_minor": 5,
  "metadata": {
    "kernelspec": {
      "name": "python3",
      "display_name": "Python 3 (ipykernel)",
      "language": "python"
    }
  }
}
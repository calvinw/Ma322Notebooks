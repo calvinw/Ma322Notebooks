{
  "cells": [
    {
      "cell_type": "markdown",
      "metadata": {},
      "source": [
        "# More Variables In Python\n",
        "\n",
        "Lets start by storing a number in a variable. Store 4 in the variable\n",
        "`x`"
      ],
      "id": "c012c7c2-714e-470f-b3a5-c623861c80ed"
    },
    {
      "cell_type": "code",
      "execution_count": null,
      "metadata": {},
      "outputs": [],
      "source": [
        "CODE"
      ],
      "id": "9ca6c16f"
    },
    {
      "cell_type": "markdown",
      "metadata": {},
      "source": [
        "Print out the variable `x`:"
      ],
      "id": "effe2382-2332-47ea-a95d-4d54677c366c"
    },
    {
      "cell_type": "code",
      "execution_count": null,
      "metadata": {},
      "outputs": [],
      "source": [
        "CODE"
      ],
      "id": "465a65e8"
    },
    {
      "cell_type": "markdown",
      "metadata": {},
      "source": [
        "Set `y` equal to `5*x`"
      ],
      "id": "2bc3e16c-00ab-4d3e-95db-ec2aee981ae8"
    },
    {
      "cell_type": "code",
      "execution_count": null,
      "metadata": {},
      "outputs": [],
      "source": [
        "CODE"
      ],
      "id": "428bd682"
    },
    {
      "cell_type": "markdown",
      "metadata": {},
      "source": [
        "Now y will have a value after we do this. What is the current value of\n",
        "y? Since the current value of `x` is 4, the value of y should be\n",
        "$5(4)=20$.\n",
        "\n",
        "Now print out the value of `y`"
      ],
      "id": "38c8e017-347e-48a0-8040-d89f00cdf471"
    },
    {
      "cell_type": "code",
      "execution_count": null,
      "metadata": {},
      "outputs": [],
      "source": [
        "CODE"
      ],
      "id": "0809b8fd"
    },
    {
      "cell_type": "markdown",
      "metadata": {},
      "source": [
        "Variables can be changed as a program proceeds.\n",
        "\n",
        "Change the value of x to be 7:"
      ],
      "id": "56bdbc3c-882d-46aa-8270-b23fc33611c6"
    },
    {
      "cell_type": "code",
      "execution_count": null,
      "metadata": {},
      "outputs": [],
      "source": [
        "CODE"
      ],
      "id": "c24fa35a"
    },
    {
      "cell_type": "markdown",
      "metadata": {},
      "source": [
        "One thing you might wonder is that if you change the value of x at some\n",
        "point, does that affect the value of y we defined earlier using x? Let’s\n",
        "check:"
      ],
      "id": "0fddffb2-3e91-45af-8d00-c5d665f52bac"
    },
    {
      "cell_type": "code",
      "execution_count": null,
      "metadata": {},
      "outputs": [],
      "source": [
        "CODE"
      ],
      "id": "492f5d83"
    },
    {
      "cell_type": "markdown",
      "metadata": {},
      "source": [
        "No. It doesn’t. This y still has the same value it had before which is\n",
        "$5(4) = 20$ since at the time we assigned y the x was equal to 4. If we\n",
        "want y to update, we would have to assign it again to give it a new\n",
        "value. Go ahead and do that."
      ],
      "id": "9de92c6c-ed20-435e-b053-98f993eb38ad"
    },
    {
      "cell_type": "code",
      "execution_count": null,
      "metadata": {},
      "outputs": [],
      "source": [
        "CODE"
      ],
      "id": "e07769ee"
    },
    {
      "cell_type": "markdown",
      "metadata": {},
      "source": [
        "Now print out the new version of y:"
      ],
      "id": "fa466571-79ef-47f0-9fec-8166fae8d1b0"
    },
    {
      "cell_type": "code",
      "execution_count": null,
      "metadata": {},
      "outputs": [],
      "source": [
        "CODE"
      ],
      "id": "a51c3e99"
    },
    {
      "cell_type": "markdown",
      "metadata": {},
      "source": [
        "It has the value $5(7) = 35$ now since currently the x is assigned to be\n",
        "7.\n",
        "\n",
        "Next go ahead and set a variable `z` equal to 1.2 and `w` equal to 7 and\n",
        "then print them both out in this block of code"
      ],
      "id": "103b28c5-4a97-4394-996d-08c4a584bd12"
    },
    {
      "cell_type": "code",
      "execution_count": null,
      "metadata": {},
      "outputs": [],
      "source": [
        "CODE"
      ],
      "id": "56ec4b42"
    },
    {
      "cell_type": "markdown",
      "metadata": {},
      "source": [
        "Now we change (assign) `z` to be `3*w-5` and print out the new `z`"
      ],
      "id": "7ebb9657-938f-43cb-b1c1-0dcab2065553"
    },
    {
      "cell_type": "code",
      "execution_count": null,
      "metadata": {},
      "outputs": [],
      "source": [
        "CODE"
      ],
      "id": "a89d1798"
    },
    {
      "cell_type": "markdown",
      "metadata": {},
      "source": [
        "Since `w` was 7 above, the new value of `z` is $3(7)-5 = 16$"
      ],
      "id": "2e4b66de-d9c7-4231-8e19-8a9494c665c0"
    }
  ],
  "nbformat": 4,
  "nbformat_minor": 5,
  "metadata": {
    "kernelspec": {
      "name": "python3",
      "display_name": "Python 3 (ipykernel)",
      "language": "python"
    }
  }
}
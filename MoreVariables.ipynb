{
  "cells": [
    {
      "cell_type": "markdown",
      "metadata": {},
      "source": [
        "# More Variables in Python\n",
        "\n",
        "**Problem**: Lets start by storing a number in a variable. Store 4 in\n",
        "the variable `x`"
      ],
      "id": "38f271fa-106c-4326-a940-138f166f86b9"
    },
    {
      "cell_type": "code",
      "execution_count": null,
      "metadata": {},
      "outputs": [],
      "source": [
        "CODE"
      ],
      "id": "985211d1"
    },
    {
      "cell_type": "markdown",
      "metadata": {},
      "source": [
        "**Problem**: Print out the variable `x`:"
      ],
      "id": "a2033d57-6d9f-4547-8a11-b428e6fb4022"
    },
    {
      "cell_type": "code",
      "execution_count": null,
      "metadata": {},
      "outputs": [],
      "source": [
        "CODE"
      ],
      "id": "66d96f59"
    },
    {
      "cell_type": "markdown",
      "metadata": {},
      "source": [
        "**Problem**: Set `y` equal to `5*x`"
      ],
      "id": "563b3659-03ac-4b57-ab2c-f78b68c9180a"
    },
    {
      "cell_type": "code",
      "execution_count": null,
      "metadata": {},
      "outputs": [],
      "source": [
        "CODE"
      ],
      "id": "d57eb20f"
    },
    {
      "cell_type": "markdown",
      "metadata": {},
      "source": [
        "Now y will have a value after we do this. What is the current value of\n",
        "y? Since the current value of `x` is 4, the value of y should be\n",
        "$5(4)=20$.\n",
        "\n",
        "**Problem**: Now print out the value of `y`"
      ],
      "id": "555d03a6-15cb-4f2a-aa5a-9f1d93570e6b"
    },
    {
      "cell_type": "code",
      "execution_count": null,
      "metadata": {},
      "outputs": [],
      "source": [
        "CODE"
      ],
      "id": "e78102a2"
    },
    {
      "cell_type": "markdown",
      "metadata": {},
      "source": [
        "Variables can be changed as a program proceeds.\n",
        "\n",
        "**Problem**: Change the value of x to be 7:"
      ],
      "id": "0b2e5f9d-8563-469a-bb5e-55979649f46d"
    },
    {
      "cell_type": "code",
      "execution_count": null,
      "metadata": {},
      "outputs": [],
      "source": [
        "CODE"
      ],
      "id": "8ebaf0ba"
    },
    {
      "cell_type": "markdown",
      "metadata": {},
      "source": [
        "**Problem**: One thing you might wonder is that if you change the value\n",
        "of x at some point, does that affect the value of y we defined earlier\n",
        "using x? Let’s check:"
      ],
      "id": "16776b02-066d-406f-bf2a-c97d68a6e950"
    },
    {
      "cell_type": "code",
      "execution_count": null,
      "metadata": {},
      "outputs": [],
      "source": [
        "CODE"
      ],
      "id": "3402c026"
    },
    {
      "cell_type": "markdown",
      "metadata": {},
      "source": [
        "No. It doesn’t. This y still has the same value it had before which is\n",
        "$5(4) = 20$ since at the time we assigned y the x was equal to 4. If we\n",
        "want y to update, we would have to assign it again to give it a new\n",
        "value. Go ahead and do that.\n",
        "\n",
        "**Problem**: Define `y` to be `5*x`"
      ],
      "id": "14082e28-2b39-4348-8a44-0e353d1f9a3e"
    },
    {
      "cell_type": "code",
      "execution_count": null,
      "metadata": {},
      "outputs": [],
      "source": [
        "CODE"
      ],
      "id": "83a03bf4"
    },
    {
      "cell_type": "markdown",
      "metadata": {},
      "source": [
        "**Problem**: Now print out the new version of y using `print`:"
      ],
      "id": "a4f11f85-7fb0-44ce-a78b-d2156b91a278"
    },
    {
      "cell_type": "code",
      "execution_count": null,
      "metadata": {},
      "outputs": [],
      "source": [
        "CODE"
      ],
      "id": "65e0c61c"
    },
    {
      "cell_type": "markdown",
      "metadata": {},
      "source": [
        "It has the value $5(7) = 35$ now since currently the x is assigned to be\n",
        "7.\n",
        "\n",
        "**Problem**: Next go ahead and set a variable `z` equal to 1.2 and `w`\n",
        "equal to 7 and then print them both out in this block of code"
      ],
      "id": "4b6673aa-df7b-4059-be5e-058aaa36a56a"
    },
    {
      "cell_type": "code",
      "execution_count": null,
      "metadata": {},
      "outputs": [],
      "source": [
        "CODE"
      ],
      "id": "26f491e3"
    },
    {
      "cell_type": "markdown",
      "metadata": {},
      "source": [
        "**Problem**: Now we change (assign) `z` to be `3*w-5` and print out the\n",
        "new `z`"
      ],
      "id": "1b03ccaa-ccdb-4b00-88c3-f4b32aefa584"
    },
    {
      "cell_type": "code",
      "execution_count": null,
      "metadata": {},
      "outputs": [],
      "source": [
        "CODE"
      ],
      "id": "2377e75a"
    },
    {
      "cell_type": "markdown",
      "metadata": {},
      "source": [
        "Since `w` was 7 above, the new value of `z` is $3(7)-5 = 16$"
      ],
      "id": "48a29a0b-fe24-42af-a4ec-d4c48603ac33"
    }
  ],
  "nbformat": 4,
  "nbformat_minor": 5,
  "metadata": {
    "kernelspec": {
      "name": "python3",
      "display_name": "Python 3 (ipykernel)",
      "language": "python"
    }
  }
}
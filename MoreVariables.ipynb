{
  "cells": [
    {
      "cell_type": "markdown",
      "metadata": {},
      "source": [
        "# More Variables In Python\n",
        "\n",
        "Lets start by storing a number in a variable. Store 4 in the variable\n",
        "`x`"
      ],
      "id": "1a06fae0-9b46-418e-ae23-817b5807d360"
    },
    {
      "cell_type": "code",
      "execution_count": null,
      "metadata": {},
      "outputs": [],
      "source": [
        "CODE"
      ],
      "id": "3c0a2303"
    },
    {
      "cell_type": "markdown",
      "metadata": {},
      "source": [
        "Print out the variable `x`:"
      ],
      "id": "d80eb7ab-bcf6-47d1-8ae8-3d6166bcfcfa"
    },
    {
      "cell_type": "code",
      "execution_count": null,
      "metadata": {},
      "outputs": [],
      "source": [
        "CODE"
      ],
      "id": "57af2e1d"
    },
    {
      "cell_type": "markdown",
      "metadata": {},
      "source": [
        "Set `y` equal to `5*x`"
      ],
      "id": "76af2d5e-d534-4f58-99e6-fb0f0fc5a8c0"
    },
    {
      "cell_type": "code",
      "execution_count": null,
      "metadata": {},
      "outputs": [],
      "source": [
        "CODE"
      ],
      "id": "8b0293e2"
    },
    {
      "cell_type": "markdown",
      "metadata": {},
      "source": [
        "Now y will have a value after we do this. What is the current value of\n",
        "y? Since the current value of `x` is 4, the value of y should be\n",
        "$5(4)=20$.\n",
        "\n",
        "Now print out the value of `y`"
      ],
      "id": "e5a0f410-4815-4728-8736-560615eeb9cf"
    },
    {
      "cell_type": "code",
      "execution_count": null,
      "metadata": {},
      "outputs": [],
      "source": [
        "CODE"
      ],
      "id": "f613a3d3"
    },
    {
      "cell_type": "markdown",
      "metadata": {},
      "source": [
        "Variables can be changed as a program proceeds.\n",
        "\n",
        "Change the value of x to be 7:"
      ],
      "id": "624d61db-14ff-4dc8-b00e-bc405c1fedc1"
    },
    {
      "cell_type": "code",
      "execution_count": null,
      "metadata": {},
      "outputs": [],
      "source": [
        "CODE"
      ],
      "id": "1727b8ee"
    },
    {
      "cell_type": "markdown",
      "metadata": {},
      "source": [
        "One thing you might wonder is that if you change the value of x at some\n",
        "point, does that affect the value of y we defined earlier using x? Let’s\n",
        "check:"
      ],
      "id": "c020278a-ef4c-4e90-9b8d-c9c68c991943"
    },
    {
      "cell_type": "code",
      "execution_count": null,
      "metadata": {},
      "outputs": [],
      "source": [
        "CODE"
      ],
      "id": "6b66bb45"
    },
    {
      "cell_type": "markdown",
      "metadata": {},
      "source": [
        "No. It doesn’t. This y still has the same value it had before which is\n",
        "$5(4) = 20$ since at the time we assigned y the x was equal to 4. If we\n",
        "want y to update, we would have to assign it again to give it a new\n",
        "value. Go ahead and do that."
      ],
      "id": "8b9077b3-387d-48df-9bfb-b33abc888090"
    },
    {
      "cell_type": "code",
      "execution_count": null,
      "metadata": {},
      "outputs": [],
      "source": [
        "CODE"
      ],
      "id": "fc4ee088"
    },
    {
      "cell_type": "markdown",
      "metadata": {},
      "source": [
        "Now print out the new version of y:"
      ],
      "id": "44e2ad97-da06-464f-8c6c-b31eb3989536"
    },
    {
      "cell_type": "code",
      "execution_count": null,
      "metadata": {},
      "outputs": [],
      "source": [
        "CODE"
      ],
      "id": "d35f89a7"
    },
    {
      "cell_type": "markdown",
      "metadata": {},
      "source": [
        "It has the value $5(7) = 35$ now since currently the x is assigned to be\n",
        "7.\n",
        "\n",
        "Next go ahead and set a variable `z` equal to 1.2 and `w` equal to 7 and\n",
        "then print them both out in this block of code"
      ],
      "id": "f3742cfa-716a-4533-b9d5-e832cbb2c2cf"
    },
    {
      "cell_type": "code",
      "execution_count": null,
      "metadata": {},
      "outputs": [],
      "source": [
        "CODE"
      ],
      "id": "bbca5773"
    },
    {
      "cell_type": "markdown",
      "metadata": {},
      "source": [
        "Now we change (assign) `z` to be `3*w-5` and print out the new `z`"
      ],
      "id": "2a35a7db-2e05-4218-af27-0dac4ad8f47c"
    },
    {
      "cell_type": "code",
      "execution_count": null,
      "metadata": {},
      "outputs": [],
      "source": [
        "CODE"
      ],
      "id": "48ebd257"
    },
    {
      "cell_type": "markdown",
      "metadata": {},
      "source": [
        "Since `w` was 7 above, the new value of `z` is $3(7)-5 = 16$"
      ],
      "id": "7f401701-d4f7-408a-8f43-00c0956d81bb"
    }
  ],
  "nbformat": 4,
  "nbformat_minor": 5,
  "metadata": {
    "kernelspec": {
      "name": "python3",
      "display_name": "Python 3 (ipykernel)",
      "language": "python"
    }
  }
}
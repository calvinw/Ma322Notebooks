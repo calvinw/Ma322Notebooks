{
  "cells": [
    {
      "cell_type": "markdown",
      "metadata": {},
      "source": [
        "# More Variables in Python\n",
        "\n",
        "**Problem**: Lets start by storing a number in a variable. Store 4 in\n",
        "the variable `x`"
      ],
      "id": "bdba54a5-ef20-4be2-bc77-975ad99f879a"
    },
    {
      "cell_type": "code",
      "execution_count": null,
      "metadata": {},
      "outputs": [],
      "source": [
        "CODE"
      ],
      "id": "2912bb39"
    },
    {
      "cell_type": "markdown",
      "metadata": {},
      "source": [
        "**Problem**: Print out the variable `x`:"
      ],
      "id": "46abbbc3-0cee-4666-91b8-e21f1b214358"
    },
    {
      "cell_type": "code",
      "execution_count": null,
      "metadata": {},
      "outputs": [],
      "source": [
        "CODE"
      ],
      "id": "0bed047b"
    },
    {
      "cell_type": "markdown",
      "metadata": {},
      "source": [
        "**Problem**: Set `y` equal to `5*x`"
      ],
      "id": "efde3de9-4caf-4191-ba3c-fda18c95d830"
    },
    {
      "cell_type": "code",
      "execution_count": null,
      "metadata": {},
      "outputs": [],
      "source": [
        "CODE"
      ],
      "id": "f5657b97"
    },
    {
      "cell_type": "markdown",
      "metadata": {},
      "source": [
        "Now y will have a value after we do this. What is the current value of\n",
        "y? Since the current value of `x` is 4, the value of y should be\n",
        "$5(4)=20$.\n",
        "\n",
        "**Problem**: Now print out the value of `y`"
      ],
      "id": "4cc6da35-034b-485a-954b-6740eff8db43"
    },
    {
      "cell_type": "code",
      "execution_count": null,
      "metadata": {},
      "outputs": [],
      "source": [
        "CODE"
      ],
      "id": "624a975e"
    },
    {
      "cell_type": "markdown",
      "metadata": {},
      "source": [
        "Variables can be changed as a program proceeds.\n",
        "\n",
        "**Problem**: Change the value of x to be 7:"
      ],
      "id": "4b589b86-24d7-4d3c-af04-7ec4c5913b99"
    },
    {
      "cell_type": "code",
      "execution_count": null,
      "metadata": {},
      "outputs": [],
      "source": [
        "CODE"
      ],
      "id": "096b157c"
    },
    {
      "cell_type": "markdown",
      "metadata": {},
      "source": [
        "**Problem**: One thing you might wonder is that if you change the value\n",
        "of x at some point, does that affect the value of y we defined earlier\n",
        "using x? Let’s check:"
      ],
      "id": "6827e124-95ea-4f2f-b90a-a67f3f8b9c4d"
    },
    {
      "cell_type": "code",
      "execution_count": null,
      "metadata": {},
      "outputs": [],
      "source": [
        "CODE"
      ],
      "id": "fbbba7a3"
    },
    {
      "cell_type": "markdown",
      "metadata": {},
      "source": [
        "No. It doesn’t. This y still has the same value it had before which is\n",
        "$5(4) = 20$ since at the time we assigned y the x was equal to 4. If we\n",
        "want y to update, we would have to assign it again to give it a new\n",
        "value. Go ahead and do that.\n",
        "\n",
        "**Problem**: Define `y` to be `5*x`"
      ],
      "id": "5eb35b9f-81f8-481d-afb4-db47e21681db"
    },
    {
      "cell_type": "code",
      "execution_count": null,
      "metadata": {},
      "outputs": [],
      "source": [
        "CODE"
      ],
      "id": "bc735fbe"
    },
    {
      "cell_type": "markdown",
      "metadata": {},
      "source": [
        "**Problem**: Now print out the new version of y using `print`:"
      ],
      "id": "0eeed83d-2e15-4edd-b490-b12a14c01cf0"
    },
    {
      "cell_type": "code",
      "execution_count": null,
      "metadata": {},
      "outputs": [],
      "source": [
        "CODE"
      ],
      "id": "c9550bed"
    },
    {
      "cell_type": "markdown",
      "metadata": {},
      "source": [
        "It has the value $5(7) = 35$ now since currently the x is assigned to be\n",
        "7.\n",
        "\n",
        "**Problem**: Next go ahead and set a variable `z` equal to 1.2 and `w`\n",
        "equal to 7 and then print them both out in this block of code"
      ],
      "id": "03a36371-9b9f-4da0-bf28-700ce1f765b9"
    },
    {
      "cell_type": "code",
      "execution_count": null,
      "metadata": {},
      "outputs": [],
      "source": [
        "CODE"
      ],
      "id": "9acc8947"
    },
    {
      "cell_type": "markdown",
      "metadata": {},
      "source": [
        "**Problem**: Now we change (assign) `z` to be `3*w-5` and print out the\n",
        "new `z`"
      ],
      "id": "09a907cc-0fbd-40d1-8da0-55a477af2e90"
    },
    {
      "cell_type": "code",
      "execution_count": null,
      "metadata": {},
      "outputs": [],
      "source": [
        "CODE"
      ],
      "id": "777d4980"
    },
    {
      "cell_type": "markdown",
      "metadata": {},
      "source": [
        "Since `w` was 7 above, the new value of `z` is $3(7)-5 = 16$"
      ],
      "id": "e48b3f06-7975-4e78-8ac1-74545b422f66"
    }
  ],
  "nbformat": 4,
  "nbformat_minor": 5,
  "metadata": {
    "kernelspec": {
      "name": "python3",
      "display_name": "Python 3 (ipykernel)",
      "language": "python"
    }
  }
}
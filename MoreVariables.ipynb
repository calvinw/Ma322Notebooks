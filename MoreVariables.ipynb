{
  "cells": [
    {
      "cell_type": "markdown",
      "metadata": {},
      "source": [
        "# More Variables In Python\n",
        "\n",
        "Lets start by storing a number in a variable. Store 4 in the variable\n",
        "`x`"
      ],
      "id": "56ab4f67-0122-4194-9073-e46952a026b1"
    },
    {
      "cell_type": "code",
      "execution_count": null,
      "metadata": {},
      "outputs": [],
      "source": [
        "CODE"
      ],
      "id": "413a6cdb"
    },
    {
      "cell_type": "markdown",
      "metadata": {},
      "source": [
        "Print out the variable `x`:"
      ],
      "id": "c48683e9-3b43-4833-93ad-ac9971b7b88c"
    },
    {
      "cell_type": "code",
      "execution_count": null,
      "metadata": {},
      "outputs": [],
      "source": [
        "CODE"
      ],
      "id": "c153f972"
    },
    {
      "cell_type": "markdown",
      "metadata": {},
      "source": [
        "Set `y` equal to `5*x`"
      ],
      "id": "2d893786-22b9-4adc-8d22-ff7b8e30f71b"
    },
    {
      "cell_type": "code",
      "execution_count": null,
      "metadata": {},
      "outputs": [],
      "source": [
        "CODE"
      ],
      "id": "7a84d0b0"
    },
    {
      "cell_type": "markdown",
      "metadata": {},
      "source": [
        "Now y will have a value after we do this. What is the current value of\n",
        "y? Since the current value of `x` is 4, the value of y should be\n",
        "$5(4)=20$.\n",
        "\n",
        "Now print out the value of `y`"
      ],
      "id": "01ef7ed4-34cb-4ec8-8b10-60eaa19803fb"
    },
    {
      "cell_type": "code",
      "execution_count": null,
      "metadata": {},
      "outputs": [],
      "source": [
        "CODE"
      ],
      "id": "85be1918"
    },
    {
      "cell_type": "markdown",
      "metadata": {},
      "source": [
        "Variables can be changed as a program proceeds.\n",
        "\n",
        "Change the value of x to be 7:"
      ],
      "id": "b600c932-923e-438e-bdd1-eb88574a3abe"
    },
    {
      "cell_type": "code",
      "execution_count": null,
      "metadata": {},
      "outputs": [],
      "source": [
        "CODE"
      ],
      "id": "65b5b9ab"
    },
    {
      "cell_type": "markdown",
      "metadata": {},
      "source": [
        "One thing you might wonder is that if you change the value of x at some\n",
        "point, does that affect the value of y we defined earlier using x? Let’s\n",
        "check:"
      ],
      "id": "44d5350f-a453-4e66-b37d-754c9623d309"
    },
    {
      "cell_type": "code",
      "execution_count": null,
      "metadata": {},
      "outputs": [],
      "source": [
        "CODE"
      ],
      "id": "e0bf400f"
    },
    {
      "cell_type": "markdown",
      "metadata": {},
      "source": [
        "No. It doesn’t. This y still has the same value it had before which is\n",
        "$5(4) = 20$ since at the time we assigned y the x was equal to 4. If we\n",
        "want y to update, we would have to assign it again to give it a new\n",
        "value. Go ahead and do that."
      ],
      "id": "f6ba9ad5-8581-4c16-bce0-28c109fdeccf"
    },
    {
      "cell_type": "code",
      "execution_count": null,
      "metadata": {},
      "outputs": [],
      "source": [
        "CODE"
      ],
      "id": "7f0d92e6"
    },
    {
      "cell_type": "markdown",
      "metadata": {},
      "source": [
        "Now print out the new version of y:"
      ],
      "id": "91a7ee89-2020-4a97-8a00-48ca5971f0a1"
    },
    {
      "cell_type": "code",
      "execution_count": null,
      "metadata": {},
      "outputs": [],
      "source": [
        "CODE"
      ],
      "id": "2a1880f6"
    },
    {
      "cell_type": "markdown",
      "metadata": {},
      "source": [
        "It has the value $5(7) = 35$ now since currently the x is assigned to be\n",
        "7.\n",
        "\n",
        "Next go ahead and set a variable `z` equal to 1.2 and `w` equal to 7 and\n",
        "then print them both out in this block of code"
      ],
      "id": "c8b8e141-4329-439a-ac3c-dc7a0c9f07b7"
    },
    {
      "cell_type": "code",
      "execution_count": null,
      "metadata": {},
      "outputs": [],
      "source": [
        "CODE"
      ],
      "id": "584241ed"
    },
    {
      "cell_type": "markdown",
      "metadata": {},
      "source": [
        "Now we change (assign) `z` to be `3*w-5` and print out the new `z`"
      ],
      "id": "4b996131-47dd-4a1c-9c04-f8016ed1dcaa"
    },
    {
      "cell_type": "code",
      "execution_count": null,
      "metadata": {},
      "outputs": [],
      "source": [
        "CODE"
      ],
      "id": "65ff7b40"
    },
    {
      "cell_type": "markdown",
      "metadata": {},
      "source": [
        "Since `w` was 7 above, the new value of `z` is $3(7)-5 = 16$"
      ],
      "id": "bd46c027-f3e7-4035-8528-d9c5739426ad"
    }
  ],
  "nbformat": 4,
  "nbformat_minor": 5,
  "metadata": {
    "kernelspec": {
      "name": "python3",
      "display_name": "Python 3 (ipykernel)",
      "language": "python"
    }
  }
}
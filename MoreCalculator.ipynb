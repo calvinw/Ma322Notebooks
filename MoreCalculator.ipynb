{
  "cells": [
    {
      "cell_type": "markdown",
      "metadata": {},
      "source": [
        "# More Calculator\n",
        "\n",
        "**Problem**:\n",
        "\n",
        "Calculate `4+5`"
      ],
      "id": "e69781bf-1376-4b31-b376-8803c238f293"
    },
    {
      "cell_type": "code",
      "execution_count": null,
      "metadata": {},
      "outputs": [],
      "source": [
        "CODE"
      ],
      "id": "5ade93a1"
    },
    {
      "cell_type": "markdown",
      "metadata": {},
      "source": [
        "**Problem**:\n",
        "\n",
        "Calculate `4*5`"
      ],
      "id": "36b7c1e9-8563-4cd4-8b4c-8bdb56b7bfd3"
    },
    {
      "cell_type": "code",
      "execution_count": null,
      "metadata": {},
      "outputs": [],
      "source": [
        "CODE"
      ],
      "id": "2e8b16f1"
    },
    {
      "cell_type": "markdown",
      "metadata": {},
      "source": [
        "**Problem**:\n",
        "\n",
        "Calculate `4-5`"
      ],
      "id": "40e42ea3-f05b-47bd-939b-b7272bded505"
    },
    {
      "cell_type": "code",
      "execution_count": null,
      "metadata": {},
      "outputs": [],
      "source": [
        "CODE"
      ],
      "id": "51b0298d"
    },
    {
      "cell_type": "markdown",
      "metadata": {},
      "source": [
        "**Problem**:\n",
        "\n",
        "Calculate `4/5`"
      ],
      "id": "c6f18361-a670-4ebb-86db-ece9ac8201ad"
    },
    {
      "cell_type": "code",
      "execution_count": null,
      "metadata": {},
      "outputs": [],
      "source": [
        "CODE"
      ],
      "id": "09d0558a"
    },
    {
      "cell_type": "markdown",
      "metadata": {},
      "source": [
        "**Problem**:\n",
        "\n",
        "Calculate `4**2`"
      ],
      "id": "8b4ccbaf-5c3d-4617-863a-b71389ef0b01"
    },
    {
      "cell_type": "code",
      "execution_count": null,
      "metadata": {},
      "outputs": [],
      "source": [
        "CODE"
      ],
      "id": "b0b8437c"
    },
    {
      "cell_type": "markdown",
      "metadata": {},
      "source": [
        "Check: $4^2=4(4)=16$\n",
        "\n",
        "**Problem**: Calculate `5**6`"
      ],
      "id": "4783944e-2927-435f-a668-4f630463a322"
    },
    {
      "cell_type": "code",
      "execution_count": null,
      "metadata": {},
      "outputs": [],
      "source": [
        "CODE"
      ],
      "id": "6df94279"
    },
    {
      "cell_type": "markdown",
      "metadata": {},
      "source": [
        "Check: $5^6=(5)(5)(5)(5)(5)(5)=15625$\n",
        "\n",
        "**Problem**: Calculate `sqrt(36)`"
      ],
      "id": "adb2d434-378c-42e6-a512-cdf4f5463f12"
    },
    {
      "cell_type": "code",
      "execution_count": null,
      "metadata": {},
      "outputs": [],
      "source": [
        "CODE"
      ],
      "id": "5849e6f4"
    },
    {
      "cell_type": "markdown",
      "metadata": {},
      "source": [
        "Check: $\\sqrt{36} = 6$\n",
        "\n",
        "**Problem**: Calculate `round(2.45)`"
      ],
      "id": "a6420141-8b1f-4196-9a5c-017c2611ea8b"
    },
    {
      "cell_type": "code",
      "execution_count": null,
      "metadata": {},
      "outputs": [],
      "source": [
        "CODE"
      ],
      "id": "957ff06c"
    },
    {
      "cell_type": "markdown",
      "metadata": {},
      "source": [
        "Check: The answer should be 2\n",
        "\n",
        "**Problem**: Calculate`math.ceil(2.45)`"
      ],
      "id": "b03df44f-8601-4b9b-9019-c389b513c9d7"
    },
    {
      "cell_type": "code",
      "execution_count": null,
      "metadata": {},
      "outputs": [],
      "source": [
        "CODE"
      ],
      "id": "ae174c06"
    },
    {
      "cell_type": "markdown",
      "metadata": {},
      "source": [
        "Check: The answer should be 3\n",
        "\n",
        "**Problem**: Calculate `24%10`, which is the remainder of $24/10$"
      ],
      "id": "18320073-e81d-4fb1-a572-b11913e387d7"
    },
    {
      "cell_type": "code",
      "execution_count": null,
      "metadata": {},
      "outputs": [],
      "source": [
        "CODE"
      ],
      "id": "3d8cfda6"
    },
    {
      "cell_type": "markdown",
      "metadata": {},
      "source": [
        "**Problem**: Put parentheses in the expression `4+2*3` so it gives 18.\n",
        "As is, it is 10"
      ],
      "id": "dc664ced-f158-4d2c-a910-baaae1a343e3"
    },
    {
      "cell_type": "code",
      "execution_count": null,
      "metadata": {},
      "outputs": [],
      "source": [
        "4+2*3"
      ],
      "id": "ce9860bb"
    },
    {
      "cell_type": "markdown",
      "metadata": {},
      "source": [
        "**Problem**: Put parentheses in the expression `4*5+3` so it gives 32.\n",
        "As is, it is 23"
      ],
      "id": "461e6ee8-6d1c-493c-8a2a-c74b9da7d236"
    },
    {
      "cell_type": "code",
      "execution_count": null,
      "metadata": {},
      "outputs": [],
      "source": [
        "4*5+3"
      ],
      "id": "f97c8eaf"
    },
    {
      "cell_type": "markdown",
      "metadata": {},
      "source": [
        "**Problem**: Put parentheses in the expression `20/4*5` so it gives 1.\n",
        "As is, it is 25"
      ],
      "id": "0b8fd135-3155-417b-a9bc-61cdf71eed37"
    },
    {
      "cell_type": "code",
      "execution_count": null,
      "metadata": {},
      "outputs": [],
      "source": [
        "20/4*5"
      ],
      "id": "e990e3d0"
    },
    {
      "cell_type": "markdown",
      "metadata": {},
      "source": [
        "**Problem**: Write code that puts in parentheses for `2*9/3*2-1` so it\n",
        "gives 2. As is, it is 11"
      ],
      "id": "1371511a-ce6d-4f3b-9e4e-d94e8844f0e5"
    },
    {
      "cell_type": "code",
      "execution_count": null,
      "metadata": {},
      "outputs": [],
      "source": [
        "2*9/3*2-1"
      ],
      "id": "fb410847"
    },
    {
      "cell_type": "markdown",
      "metadata": {},
      "source": [
        "**Problem**: The code below generates an error. Run it to see this.\n",
        "Produce a correct version that computes the square root of 49, which is\n",
        "7"
      ],
      "id": "d19f21e9-4c4e-49cc-90da-97c35cb16b09"
    },
    {
      "cell_type": "code",
      "execution_count": null,
      "metadata": {},
      "outputs": [],
      "source": [
        "sqrt(49)"
      ],
      "id": "42f15d34"
    },
    {
      "cell_type": "markdown",
      "metadata": {},
      "source": [
        "**Problem**: The code below generates an error. Run it to see this.\n",
        "Produce a correct version with no errors and that gives 10"
      ],
      "id": "2f99951e-a9fa-4445-97b9-a0d9b9dd6490"
    },
    {
      "cell_type": "code",
      "execution_count": null,
      "metadata": {},
      "outputs": [],
      "source": [
        "ceil(9.45)"
      ],
      "id": "82ee2ccb"
    },
    {
      "cell_type": "markdown",
      "metadata": {},
      "source": [
        "**Problem**: The code below generates an error. Run it to see this.\n",
        "Produce a correct version with no errors and that gives 9"
      ],
      "id": "7f0129a5-574a-4572-b5e8-f609621eb6d4"
    },
    {
      "cell_type": "code",
      "execution_count": null,
      "metadata": {},
      "outputs": [],
      "source": [
        "floor(9.45)"
      ],
      "id": "46ce150a"
    },
    {
      "cell_type": "markdown",
      "metadata": {},
      "source": [
        "**Problem**: Below we are trying to print out the two expressions: `3-4`\n",
        "and `5+8`. But it only prints out the second one. Produce a correct\n",
        "version by using the `print` function:"
      ],
      "id": "265b43b4-9baf-41b8-8c92-82c54115a762"
    },
    {
      "cell_type": "code",
      "execution_count": null,
      "metadata": {},
      "outputs": [],
      "source": [
        "3-4\n",
        "5+8"
      ],
      "id": "15da96f5"
    }
  ],
  "nbformat": 4,
  "nbformat_minor": 5,
  "metadata": {
    "kernelspec": {
      "name": "python3",
      "display_name": "Python 3 (ipykernel)",
      "language": "python"
    }
  }
}
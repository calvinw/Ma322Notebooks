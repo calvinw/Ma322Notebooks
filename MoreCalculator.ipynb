{
  "cells": [
    {
      "cell_type": "markdown",
      "metadata": {},
      "source": [
        "# More Calculator\n",
        "\n",
        "**Problem**:\n",
        "\n",
        "Calculate `4+5`"
      ],
      "id": "4e3c0545-777d-48ed-b314-2e9c51ee9a47"
    },
    {
      "cell_type": "code",
      "execution_count": null,
      "metadata": {},
      "outputs": [],
      "source": [
        "CODE"
      ],
      "id": "36d59aef"
    },
    {
      "cell_type": "markdown",
      "metadata": {},
      "source": [
        "**Problem**:\n",
        "\n",
        "Calculate `4*5`"
      ],
      "id": "5e3fd38e-03c5-4217-b831-81c251839174"
    },
    {
      "cell_type": "code",
      "execution_count": null,
      "metadata": {},
      "outputs": [],
      "source": [
        "CODE"
      ],
      "id": "5d33ab28"
    },
    {
      "cell_type": "markdown",
      "metadata": {},
      "source": [
        "**Problem**:\n",
        "\n",
        "Calculate `4-5`"
      ],
      "id": "6f64251a-0aa2-4ebc-840e-4ba1cb1926a3"
    },
    {
      "cell_type": "code",
      "execution_count": null,
      "metadata": {},
      "outputs": [],
      "source": [
        "CODE"
      ],
      "id": "a20ce185"
    },
    {
      "cell_type": "markdown",
      "metadata": {},
      "source": [
        "**Problem**:\n",
        "\n",
        "Calculate `4/5`"
      ],
      "id": "37d7571b-ddac-4923-8264-e1bfcc1f5853"
    },
    {
      "cell_type": "code",
      "execution_count": null,
      "metadata": {},
      "outputs": [],
      "source": [
        "CODE"
      ],
      "id": "df8a2cd0"
    },
    {
      "cell_type": "markdown",
      "metadata": {},
      "source": [
        "**Problem**:\n",
        "\n",
        "Calculate `4**2`"
      ],
      "id": "56487b1a-1a30-4d41-a2f7-42cd323f2866"
    },
    {
      "cell_type": "code",
      "execution_count": null,
      "metadata": {},
      "outputs": [],
      "source": [
        "CODE"
      ],
      "id": "5df899ef"
    },
    {
      "cell_type": "markdown",
      "metadata": {},
      "source": [
        "Check: $4^2=4(4)=16$\n",
        "\n",
        "**Problem**: Calculate `5**6`"
      ],
      "id": "4bb79b57-74a5-4330-91dc-1e04bc918295"
    },
    {
      "cell_type": "code",
      "execution_count": null,
      "metadata": {},
      "outputs": [],
      "source": [
        "CODE"
      ],
      "id": "608267f6"
    },
    {
      "cell_type": "markdown",
      "metadata": {},
      "source": [
        "Check: $5^6=(5)(5)(5)(5)(5)(5)=15625$\n",
        "\n",
        "**Problem**: Calculate `sqrt(36)`"
      ],
      "id": "c81b885f-441a-41ba-a46a-4396146329af"
    },
    {
      "cell_type": "code",
      "execution_count": null,
      "metadata": {},
      "outputs": [],
      "source": [
        "CODE"
      ],
      "id": "48ad796a"
    },
    {
      "cell_type": "markdown",
      "metadata": {},
      "source": [
        "Check: $\\sqrt{36} = 6$\n",
        "\n",
        "**Problem**: Calculate `round(2.45)`"
      ],
      "id": "9c69c8ff-a9ed-4664-8faa-1221fb102e4c"
    },
    {
      "cell_type": "code",
      "execution_count": null,
      "metadata": {},
      "outputs": [],
      "source": [
        "CODE"
      ],
      "id": "b8e82672"
    },
    {
      "cell_type": "markdown",
      "metadata": {},
      "source": [
        "Check: The answer should be 2\n",
        "\n",
        "**Problem**: Calculate`math.ceil(2.45)`"
      ],
      "id": "91c42819-1504-4b57-b0f9-5d828b80e442"
    },
    {
      "cell_type": "code",
      "execution_count": null,
      "metadata": {},
      "outputs": [],
      "source": [
        "CODE"
      ],
      "id": "e692f6e3"
    },
    {
      "cell_type": "markdown",
      "metadata": {},
      "source": [
        "Check: The answer should be 3\n",
        "\n",
        "**Problem**: Calculate `24%10`, which is the remainder of $24/10$"
      ],
      "id": "bf10ea63-f162-4970-adc0-1f40ba6ab1b9"
    },
    {
      "cell_type": "code",
      "execution_count": null,
      "metadata": {},
      "outputs": [],
      "source": [
        "CODE"
      ],
      "id": "e7e812fc"
    },
    {
      "cell_type": "markdown",
      "metadata": {},
      "source": [
        "**Problem**: Put parentheses in the expression `4+2*3` so it gives 18.\n",
        "As is, it is 10"
      ],
      "id": "f6be02e4-ab6e-482c-85e0-1607815f9a9f"
    },
    {
      "cell_type": "code",
      "execution_count": null,
      "metadata": {},
      "outputs": [],
      "source": [
        "4+2*3"
      ],
      "id": "f45ae01e"
    },
    {
      "cell_type": "markdown",
      "metadata": {},
      "source": [
        "**Problem**: Put parentheses in the expression `4*5+3` so it gives 32.\n",
        "As is, it is 23"
      ],
      "id": "2e61bc01-663a-407e-80c7-e966ed753296"
    },
    {
      "cell_type": "code",
      "execution_count": null,
      "metadata": {},
      "outputs": [],
      "source": [
        "4*5+3"
      ],
      "id": "ea480ad2"
    },
    {
      "cell_type": "markdown",
      "metadata": {},
      "source": [
        "**Problem**: Put parentheses in the expression `20/4*5` so it gives 1.\n",
        "As is, it is 25"
      ],
      "id": "d6abd24c-83ee-46e4-b8a0-bc72e81fb5d9"
    },
    {
      "cell_type": "code",
      "execution_count": null,
      "metadata": {},
      "outputs": [],
      "source": [
        "20/4*5"
      ],
      "id": "693474bc"
    },
    {
      "cell_type": "markdown",
      "metadata": {},
      "source": [
        "**Problem**: Write code that puts in parentheses for `2*9/3*2-1` so it\n",
        "gives 2. As is, it is 11"
      ],
      "id": "ffca1e3f-8362-4db7-bb2e-3c911c36a54e"
    },
    {
      "cell_type": "code",
      "execution_count": null,
      "metadata": {},
      "outputs": [],
      "source": [
        "2*9/3*2-1"
      ],
      "id": "4208ea8b"
    },
    {
      "cell_type": "markdown",
      "metadata": {},
      "source": [
        "**Problem**: The code below generates an error. Run it to see this.\n",
        "Produce a correct version that computes the square root of 49, which is\n",
        "7"
      ],
      "id": "fb5db4e5-7ba2-4e3b-b327-27783c167640"
    },
    {
      "cell_type": "code",
      "execution_count": null,
      "metadata": {},
      "outputs": [],
      "source": [
        "sqrt(49)"
      ],
      "id": "f17f7041"
    },
    {
      "cell_type": "markdown",
      "metadata": {},
      "source": [
        "**Problem**: The code below generates an error. Run it to see this.\n",
        "Produce a correct version with no errors and that gives 10"
      ],
      "id": "285ec6ec-348e-4f8e-a4ba-233abc9ed1ef"
    },
    {
      "cell_type": "code",
      "execution_count": null,
      "metadata": {},
      "outputs": [],
      "source": [
        "ceil(9.45)"
      ],
      "id": "1a2b39f6"
    },
    {
      "cell_type": "markdown",
      "metadata": {},
      "source": [
        "**Problem**: The code below generates an error. Run it to see this.\n",
        "Produce a correct version with no errors and that gives 9"
      ],
      "id": "f0a4b4c6-9ca7-45d1-a019-5ac77f7ccf81"
    },
    {
      "cell_type": "code",
      "execution_count": null,
      "metadata": {},
      "outputs": [],
      "source": [
        "floor(9.45)"
      ],
      "id": "b6152ba1"
    },
    {
      "cell_type": "markdown",
      "metadata": {},
      "source": [
        "**Problem**: Below we are trying to print out the two expressions: `3-4`\n",
        "and `5+8`. But it only prints out the second one. Produce a correct\n",
        "version by using the `print` function:"
      ],
      "id": "5c51a140-8bbe-4503-9b88-c347ac1d2ba6"
    },
    {
      "cell_type": "code",
      "execution_count": null,
      "metadata": {},
      "outputs": [],
      "source": [
        "3-4\n",
        "5+8"
      ],
      "id": "f9dabb1a"
    }
  ],
  "nbformat": 4,
  "nbformat_minor": 5,
  "metadata": {
    "kernelspec": {
      "name": "python3",
      "display_name": "Python 3 (ipykernel)",
      "language": "python"
    }
  }
}
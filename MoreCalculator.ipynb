{
  "cells": [
    {
      "cell_type": "markdown",
      "metadata": {},
      "source": [
        "# More Calculator\n",
        "\n",
        "Calculate `4+5` by replacing the line `CODE` with `4+5` and then execute\n",
        "it by hitting the *Run Cell* button"
      ],
      "id": "b8eba8cf-70ef-4581-92b1-0985544db96d"
    },
    {
      "cell_type": "code",
      "execution_count": null,
      "metadata": {},
      "outputs": [],
      "source": [
        "CODE"
      ],
      "id": "ba9f5519"
    },
    {
      "cell_type": "markdown",
      "metadata": {},
      "source": [
        "Calculate `4*5`"
      ],
      "id": "86bfd3af-e21b-4a73-a6f5-813802ade54e"
    },
    {
      "cell_type": "code",
      "execution_count": null,
      "metadata": {},
      "outputs": [],
      "source": [
        "CODE"
      ],
      "id": "43e42b52"
    },
    {
      "cell_type": "markdown",
      "metadata": {},
      "source": [
        "Calculate `4-5`"
      ],
      "id": "94c614e5-95b1-4f1e-a73c-3aeb06802bc9"
    },
    {
      "cell_type": "code",
      "execution_count": null,
      "metadata": {},
      "outputs": [],
      "source": [
        "CODE"
      ],
      "id": "19945406"
    },
    {
      "cell_type": "markdown",
      "metadata": {},
      "source": [
        "Calculate `4/5`"
      ],
      "id": "fcecb1ef-5339-4e16-90b6-6c5bb3feb92a"
    },
    {
      "cell_type": "code",
      "execution_count": null,
      "metadata": {
        "question": true
      },
      "outputs": [],
      "source": [
        "CODE"
      ],
      "id": "f4cae460"
    },
    {
      "cell_type": "markdown",
      "metadata": {},
      "source": [
        "Calculate `4**2`"
      ],
      "id": "3f0f8f8b-45e3-4368-91e1-5964fd364548"
    },
    {
      "cell_type": "code",
      "execution_count": null,
      "metadata": {},
      "outputs": [],
      "source": [
        "CODE"
      ],
      "id": "3384b402"
    },
    {
      "cell_type": "markdown",
      "metadata": {},
      "source": [
        "Check $4^2=4(4)=16$\n",
        "\n",
        "Calculate `5**6`"
      ],
      "id": "ff8f6050-748d-4567-9cd4-65481dd260cc"
    },
    {
      "cell_type": "code",
      "execution_count": null,
      "metadata": {},
      "outputs": [],
      "source": [
        "CODE"
      ],
      "id": "b23d89af"
    },
    {
      "cell_type": "markdown",
      "metadata": {},
      "source": [
        "Check $5^6=(5)(5)(5)(5)(5)(5)=15625$\n",
        "\n",
        "Calculate `sqrt(36)`"
      ],
      "id": "2b1a98fe-b0ac-47b9-9613-5c2b1e7440e8"
    },
    {
      "cell_type": "code",
      "execution_count": null,
      "metadata": {},
      "outputs": [],
      "source": [
        "CODE"
      ],
      "id": "2ecf3e9a"
    },
    {
      "cell_type": "markdown",
      "metadata": {},
      "source": [
        "Check: $$ \\sqrt{ 36 } = 6 $$\n",
        "\n",
        "Find `round(2.45)`"
      ],
      "id": "130d4c65-fde2-40ec-8132-f175f6f23bb7"
    },
    {
      "cell_type": "code",
      "execution_count": null,
      "metadata": {},
      "outputs": [],
      "source": [
        "CODE"
      ],
      "id": "9ce50a91"
    },
    {
      "cell_type": "markdown",
      "metadata": {},
      "source": [
        "The answer should be 2\n",
        "\n",
        "Find `math.ceil(2.45)`"
      ],
      "id": "f568f7c2-18ca-4443-a206-1d3f5559ab47"
    },
    {
      "cell_type": "code",
      "execution_count": null,
      "metadata": {},
      "outputs": [],
      "source": [
        "CODE"
      ],
      "id": "38add4d1"
    },
    {
      "cell_type": "markdown",
      "metadata": {},
      "source": [
        "The answer should be 3\n",
        "\n",
        "Find `24%10`, which is the remainder of $24/10$"
      ],
      "id": "8fd0c334-79d0-4df9-a8af-2c5623ee39c1"
    },
    {
      "cell_type": "code",
      "execution_count": null,
      "metadata": {
        "question": true
      },
      "outputs": [],
      "source": [
        "CODE"
      ],
      "id": "f875db84"
    },
    {
      "cell_type": "markdown",
      "metadata": {},
      "source": [
        "Put parentheses in the expression `4+2*3` so it gives 18.\n",
        "\n",
        "As is, it is 10"
      ],
      "id": "3b3c67be-f30b-4339-b55e-ff6ba7666bfb"
    },
    {
      "cell_type": "code",
      "execution_count": null,
      "metadata": {},
      "outputs": [],
      "source": [
        "4+2*3"
      ],
      "id": "687efaf6"
    },
    {
      "cell_type": "markdown",
      "metadata": {},
      "source": [
        "Put parentheses in the expression `4*5+3` so it gives 32.\n",
        "\n",
        "As is, it is 23"
      ],
      "id": "2455ac67-3d50-4fa4-a700-99eb40716f2a"
    },
    {
      "cell_type": "code",
      "execution_count": null,
      "metadata": {},
      "outputs": [],
      "source": [
        "4*5+3"
      ],
      "id": "50b9688b"
    },
    {
      "cell_type": "markdown",
      "metadata": {},
      "source": [
        "Put parentheses in the expression `20/4*5` so it gives 1.\n",
        "\n",
        "As is, it is 25"
      ],
      "id": "c0f6b5ca-9f36-4deb-b920-271aad72db22"
    },
    {
      "cell_type": "code",
      "execution_count": null,
      "metadata": {},
      "outputs": [],
      "source": [
        "20/4*5"
      ],
      "id": "39b36089"
    },
    {
      "cell_type": "markdown",
      "metadata": {},
      "source": [
        "Put parentheses in the expression `2*9/3*2-1` so it gives 2.\n",
        "\n",
        "As is, it is 11"
      ],
      "id": "e81639f5-691b-49d6-9a3c-412af19285ab"
    },
    {
      "cell_type": "code",
      "execution_count": null,
      "metadata": {},
      "outputs": [],
      "source": [
        "2*9/3*2-1"
      ],
      "id": "0c808503"
    },
    {
      "cell_type": "markdown",
      "metadata": {},
      "source": [
        "The code below generates an error."
      ],
      "id": "fd618832-ba20-4f18-8c0f-3938caa8c1c0"
    },
    {
      "cell_type": "code",
      "execution_count": null,
      "metadata": {},
      "outputs": [],
      "source": [
        "sqrt(49)"
      ],
      "id": "13ae7515"
    },
    {
      "cell_type": "markdown",
      "metadata": {},
      "source": [
        "Produce a correct version that computes the square root of 49, which is\n",
        "7\n",
        "\n",
        "The code below generates an error."
      ],
      "id": "488a0904-2d80-412f-8582-45800c2686fd"
    },
    {
      "cell_type": "code",
      "execution_count": null,
      "metadata": {},
      "outputs": [],
      "source": [
        "ceil(9.45)"
      ],
      "id": "86d24d1c"
    },
    {
      "cell_type": "markdown",
      "metadata": {},
      "source": [
        "Produce a correct version below with no errors and that gives 10\n",
        "\n",
        "The code below generates an error."
      ],
      "id": "115ab72d-3362-4e78-9bd0-97ac446c66a5"
    },
    {
      "cell_type": "code",
      "execution_count": null,
      "metadata": {},
      "outputs": [],
      "source": [
        "floor(9.45)"
      ],
      "id": "bb29b139"
    },
    {
      "cell_type": "markdown",
      "metadata": {},
      "source": [
        "Produce a correct version below with no errors and that gives 9\n",
        "\n",
        "Below we are trying to print out the two expressions: `3-4` and `5+8`."
      ],
      "id": "9c8623a0-ee5d-4a4d-bf9c-0a3172b3dd52"
    },
    {
      "cell_type": "code",
      "execution_count": null,
      "metadata": {},
      "outputs": [],
      "source": [
        "3-4\n",
        "5+8"
      ],
      "id": "0372832e"
    },
    {
      "cell_type": "markdown",
      "metadata": {},
      "source": [
        "But it only prints out the second one.\n",
        "\n",
        "Produce a correct version by using the `print` function:"
      ],
      "id": "1959e920-942a-4184-9def-830dd6b1f2e2"
    }
  ],
  "nbformat": 4,
  "nbformat_minor": 5,
  "metadata": {
    "kernelspec": {
      "name": "python3",
      "display_name": "Python 3 (ipykernel)",
      "language": "python"
    }
  }
}
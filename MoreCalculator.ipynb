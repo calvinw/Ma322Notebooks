{
  "cells": [
    {
      "cell_type": "raw",
      "metadata": {},
      "source": [
        "---\n",
        "title: More Calculator\n",
        "---"
      ],
      "id": "dc71e167"
    },
    {
      "cell_type": "code",
      "metadata": {},
      "source": [
        "ex<-T"
      ],
      "id": "14e086cc",
      "execution_count": null,
      "outputs": []
    },
    {
      "cell_type": "markdown",
      "metadata": {},
      "source": [
        "Calculate `4+5` by replacing the line `CODE` with `4+5` and then execute it by hitting the _Run Cell_ button \n"
      ],
      "id": "4efe9c3d"
    },
    {
      "cell_type": "code",
      "metadata": {},
      "source": [
        "CODE"
      ],
      "id": "d1f61661",
      "execution_count": null,
      "outputs": []
    },
    {
      "cell_type": "code",
      "metadata": {},
      "source": [
        "4+5"
      ],
      "id": "09bce4cf",
      "execution_count": null,
      "outputs": []
    },
    {
      "cell_type": "markdown",
      "metadata": {},
      "source": [
        "Calculate `4*5`\n"
      ],
      "id": "42d0d68b"
    },
    {
      "cell_type": "code",
      "metadata": {},
      "source": [
        "CODE"
      ],
      "id": "1756784a",
      "execution_count": null,
      "outputs": []
    },
    {
      "cell_type": "code",
      "metadata": {},
      "source": [
        "4*5"
      ],
      "id": "733f3ed0",
      "execution_count": null,
      "outputs": []
    },
    {
      "cell_type": "markdown",
      "metadata": {},
      "source": [
        "Calculate `4-5`\n"
      ],
      "id": "cc68a777"
    },
    {
      "cell_type": "code",
      "metadata": {},
      "source": [
        "CODE"
      ],
      "id": "62fb3667",
      "execution_count": null,
      "outputs": []
    },
    {
      "cell_type": "code",
      "metadata": {},
      "source": [
        "4-5"
      ],
      "id": "b83cefd3",
      "execution_count": null,
      "outputs": []
    },
    {
      "cell_type": "markdown",
      "metadata": {},
      "source": [
        "Calculate `4/5`\n"
      ],
      "id": "1c2edbcf"
    },
    {
      "cell_type": "code",
      "metadata": {},
      "source": [
        "CODE"
      ],
      "id": "2a15bb18",
      "execution_count": null,
      "outputs": []
    },
    {
      "cell_type": "code",
      "metadata": {},
      "source": [
        "4/5"
      ],
      "id": "4ba473f9",
      "execution_count": null,
      "outputs": []
    },
    {
      "cell_type": "markdown",
      "metadata": {},
      "source": [
        "Calculate `4^2`\n"
      ],
      "id": "1a64365c"
    },
    {
      "cell_type": "code",
      "metadata": {},
      "source": [
        "CODE"
      ],
      "id": "0f4f9f5d",
      "execution_count": null,
      "outputs": []
    },
    {
      "cell_type": "code",
      "metadata": {},
      "source": [
        "4^2"
      ],
      "id": "ce6d468b",
      "execution_count": null,
      "outputs": []
    },
    {
      "cell_type": "markdown",
      "metadata": {},
      "source": [
        "Check  $4^2=4(4)=16$\n",
        "\n",
        "Calculate `5^6`\n"
      ],
      "id": "9aba8632"
    },
    {
      "cell_type": "code",
      "metadata": {},
      "source": [
        "CODE"
      ],
      "id": "ca093585",
      "execution_count": null,
      "outputs": []
    },
    {
      "cell_type": "code",
      "metadata": {},
      "source": [
        "5^6"
      ],
      "id": "d8ab3b72",
      "execution_count": null,
      "outputs": []
    },
    {
      "cell_type": "markdown",
      "metadata": {},
      "source": [
        "Check  $5^6=(5)(5)(5)(5)(5)(5)=15625$\n",
        "\n",
        "\n",
        "Calculate `sqrt(36)`\n"
      ],
      "id": "ec8d5bc8"
    },
    {
      "cell_type": "code",
      "metadata": {},
      "source": [
        "CODE"
      ],
      "id": "9f03da43",
      "execution_count": null,
      "outputs": []
    },
    {
      "cell_type": "code",
      "metadata": {},
      "source": [
        "sqrt(36)"
      ],
      "id": "0908ed5b",
      "execution_count": null,
      "outputs": []
    },
    {
      "cell_type": "markdown",
      "metadata": {},
      "source": [
        "Check: \n",
        "$$ \\sqrt{ 36 } = 6 $$\n",
        "\n",
        "Find `round(2.45)`\n"
      ],
      "id": "00715962"
    },
    {
      "cell_type": "code",
      "metadata": {},
      "source": [
        "CODE"
      ],
      "id": "6771ec9f",
      "execution_count": null,
      "outputs": []
    },
    {
      "cell_type": "code",
      "metadata": {},
      "source": [
        "round(2.45)"
      ],
      "id": "ff1fa996",
      "execution_count": null,
      "outputs": []
    },
    {
      "cell_type": "markdown",
      "metadata": {},
      "source": [
        "The answer should be 2\n",
        "\n",
        "Find `ceiling(2.45)`\n"
      ],
      "id": "6c688a1d"
    },
    {
      "cell_type": "code",
      "metadata": {},
      "source": [
        "CODE"
      ],
      "id": "a06b5e2f",
      "execution_count": null,
      "outputs": []
    },
    {
      "cell_type": "code",
      "metadata": {},
      "source": [
        "ceiling(2.45)"
      ],
      "id": "fe506f86",
      "execution_count": null,
      "outputs": []
    },
    {
      "cell_type": "markdown",
      "metadata": {},
      "source": [
        "The answer should be 3 \n",
        "\n",
        "Find `24%%10`, which is the remainder of $24/10$\n"
      ],
      "id": "e1db7dd2"
    },
    {
      "cell_type": "code",
      "metadata": {},
      "source": [
        "CODE"
      ],
      "id": "7550ff59",
      "execution_count": null,
      "outputs": []
    },
    {
      "cell_type": "code",
      "metadata": {},
      "source": [
        "24%%10"
      ],
      "id": "37b6c336",
      "execution_count": null,
      "outputs": []
    },
    {
      "cell_type": "markdown",
      "metadata": {},
      "source": [
        "Put parentheses in the expression `4+2*3` so it gives 18. \n",
        "\n",
        "As is, it is 10\n"
      ],
      "id": "566c064a"
    },
    {
      "cell_type": "code",
      "metadata": {},
      "source": [
        "4+2*3"
      ],
      "id": "9ce0f9f0",
      "execution_count": null,
      "outputs": []
    },
    {
      "cell_type": "code",
      "metadata": {},
      "source": [
        "(4+2)*3"
      ],
      "id": "317afa54",
      "execution_count": null,
      "outputs": []
    },
    {
      "cell_type": "markdown",
      "metadata": {},
      "source": [
        "Put parentheses in the expression `4*5+3` so it gives 32. \n",
        "\n",
        "As is, it is 23\n"
      ],
      "id": "aacbcf34"
    },
    {
      "cell_type": "code",
      "metadata": {},
      "source": [
        "4*5+3"
      ],
      "id": "c0a6c693",
      "execution_count": null,
      "outputs": []
    },
    {
      "cell_type": "code",
      "metadata": {},
      "source": [
        "4*(5+3)"
      ],
      "id": "a7039ebe",
      "execution_count": null,
      "outputs": []
    },
    {
      "cell_type": "markdown",
      "metadata": {},
      "source": [
        "Put parentheses in the expression `20/4*5` so it gives 1. \n",
        "\n",
        "As is, it is 25\n"
      ],
      "id": "90588237"
    },
    {
      "cell_type": "code",
      "metadata": {},
      "source": [
        "20/4*5"
      ],
      "id": "0d4259c5",
      "execution_count": null,
      "outputs": []
    },
    {
      "cell_type": "code",
      "metadata": {},
      "source": [
        "20/(4*5)"
      ],
      "id": "d3f12de6",
      "execution_count": null,
      "outputs": []
    },
    {
      "cell_type": "markdown",
      "metadata": {},
      "source": [
        "Put parentheses in the expression `2*9/3*2-1` so it gives 2. \n",
        "\n",
        "As is, it is 11 \n"
      ],
      "id": "7d65808e"
    },
    {
      "cell_type": "code",
      "metadata": {},
      "source": [
        "2*9/3*2-1"
      ],
      "id": "33768f87",
      "execution_count": null,
      "outputs": []
    },
    {
      "cell_type": "code",
      "metadata": {},
      "source": [
        "2*9/(3*2)-1"
      ],
      "id": "6add67c7",
      "execution_count": null,
      "outputs": []
    },
    {
      "cell_type": "markdown",
      "metadata": {},
      "source": [
        "The code below generates an error.\n"
      ],
      "id": "0e74ada3"
    },
    {
      "cell_type": "code",
      "metadata": {},
      "source": [
        "sqrt 49"
      ],
      "id": "63de6595",
      "execution_count": null,
      "outputs": []
    },
    {
      "cell_type": "markdown",
      "metadata": {},
      "source": [
        "Produce a correct version that computes the square root of 49, which is 7 \n"
      ],
      "id": "df1525e1"
    },
    {
      "cell_type": "code",
      "metadata": {},
      "source": [
        "sqrt 49"
      ],
      "id": "d60a68c7",
      "execution_count": null,
      "outputs": []
    },
    {
      "cell_type": "code",
      "metadata": {},
      "source": [
        "sqrt(49)"
      ],
      "id": "5b548781",
      "execution_count": null,
      "outputs": []
    },
    {
      "cell_type": "markdown",
      "metadata": {},
      "source": [
        "The code below generates an error.\n"
      ],
      "id": "04b1c818"
    },
    {
      "cell_type": "code",
      "metadata": {},
      "source": [
        "ceil(9.45)"
      ],
      "id": "2e88562d",
      "execution_count": null,
      "outputs": []
    },
    {
      "cell_type": "markdown",
      "metadata": {},
      "source": [
        "Produce a correct version below with no errors and that gives 10 \n"
      ],
      "id": "79340368"
    },
    {
      "cell_type": "code",
      "metadata": {},
      "source": [
        "ceil(9.45)"
      ],
      "id": "f668d402",
      "execution_count": null,
      "outputs": []
    },
    {
      "cell_type": "code",
      "metadata": {},
      "source": [
        "ceiling(9.45) "
      ],
      "id": "2210644b",
      "execution_count": null,
      "outputs": []
    },
    {
      "cell_type": "markdown",
      "metadata": {},
      "source": [
        "The code below generates an error.\n"
      ],
      "id": "691de47c"
    },
    {
      "cell_type": "code",
      "metadata": {},
      "source": [
        "flooring(9.45)"
      ],
      "id": "4e41a20b",
      "execution_count": null,
      "outputs": []
    },
    {
      "cell_type": "markdown",
      "metadata": {},
      "source": [
        "Produce a correct version below with no errors and that gives 9 \n"
      ],
      "id": "6a15123c"
    },
    {
      "cell_type": "code",
      "metadata": {},
      "source": [
        "flooring(9.45)"
      ],
      "id": "02947119",
      "execution_count": null,
      "outputs": []
    },
    {
      "cell_type": "code",
      "metadata": {},
      "source": [
        "floor(9.45) "
      ],
      "id": "d75581f3",
      "execution_count": null,
      "outputs": []
    },
    {
      "cell_type": "markdown",
      "metadata": {},
      "source": [
        "The code below generates an error.\n"
      ],
      "id": "3121d092"
    },
    {
      "cell_type": "code",
      "metadata": {},
      "source": [
        "squarert(25)"
      ],
      "id": "ef1041eb",
      "execution_count": null,
      "outputs": []
    },
    {
      "cell_type": "markdown",
      "metadata": {},
      "source": [
        "Produce a correct version below with no errors and that gives 5 \n"
      ],
      "id": "9d34c6cf"
    },
    {
      "cell_type": "code",
      "metadata": {},
      "source": [
        "squarert(25)"
      ],
      "id": "317716f8",
      "execution_count": null,
      "outputs": []
    },
    {
      "cell_type": "code",
      "metadata": {},
      "source": [
        "sqrt(25) "
      ],
      "id": "34c5b788",
      "execution_count": null,
      "outputs": []
    }
  ],
  "metadata": {
    "kernelspec": {
      "display_name": "R",
      "language": "R",
      "name": "ir"
    }
  },
  "nbformat": 4,
  "nbformat_minor": 5
}
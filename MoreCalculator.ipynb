{
  "cells": [
    {
      "cell_type": "markdown",
      "metadata": {},
      "source": [
        "# More Calculator\n",
        "\n",
        "Calculate `4+5` by replacing the line `CODE` with `4+5` and then execute\n",
        "it by hitting the *Run Cell* button"
      ],
      "id": "fb529f58-198d-431b-b55e-e78c3c355662"
    },
    {
      "cell_type": "code",
      "execution_count": null,
      "metadata": {},
      "outputs": [],
      "source": [
        "CODE"
      ],
      "id": "ec318b2e"
    },
    {
      "cell_type": "markdown",
      "metadata": {},
      "source": [
        "Calculate `4*5`"
      ],
      "id": "7230f15b-c540-49f3-a7b0-fb02499078bb"
    },
    {
      "cell_type": "code",
      "execution_count": null,
      "metadata": {},
      "outputs": [],
      "source": [
        "CODE"
      ],
      "id": "0d62f542"
    },
    {
      "cell_type": "markdown",
      "metadata": {},
      "source": [
        "Calculate `4-5`"
      ],
      "id": "1cfd8b0a-b044-459f-a669-2c117efcfe45"
    },
    {
      "cell_type": "code",
      "execution_count": null,
      "metadata": {},
      "outputs": [],
      "source": [
        "CODE"
      ],
      "id": "0a8e70b6"
    },
    {
      "cell_type": "markdown",
      "metadata": {},
      "source": [
        "Calculate `4/5`"
      ],
      "id": "efd798cc-1530-4648-b3b4-5b69e2fea309"
    },
    {
      "cell_type": "code",
      "execution_count": null,
      "metadata": {
        "question": true
      },
      "outputs": [],
      "source": [
        "CODE"
      ],
      "id": "f35dc146"
    },
    {
      "cell_type": "markdown",
      "metadata": {},
      "source": [
        "Calculate `4**2`"
      ],
      "id": "6e5f387f-b225-4be4-b583-034d28452877"
    },
    {
      "cell_type": "code",
      "execution_count": null,
      "metadata": {},
      "outputs": [],
      "source": [
        "CODE"
      ],
      "id": "30c333d1"
    },
    {
      "cell_type": "markdown",
      "metadata": {},
      "source": [
        "Check $4^2=4(4)=16$\n",
        "\n",
        "Calculate `5**6`"
      ],
      "id": "ab34aa60-5f7a-42e1-89c1-06cbb3b99594"
    },
    {
      "cell_type": "code",
      "execution_count": null,
      "metadata": {},
      "outputs": [],
      "source": [
        "CODE"
      ],
      "id": "a915e53b"
    },
    {
      "cell_type": "markdown",
      "metadata": {},
      "source": [
        "Check $5^6=(5)(5)(5)(5)(5)(5)=15625$\n",
        "\n",
        "Calculate `sqrt(36)`"
      ],
      "id": "ce5d42b1-2317-474a-bce0-16db7a2a9c58"
    },
    {
      "cell_type": "code",
      "execution_count": null,
      "metadata": {},
      "outputs": [],
      "source": [
        "CODE"
      ],
      "id": "77368e6c"
    },
    {
      "cell_type": "markdown",
      "metadata": {},
      "source": [
        "Check: $$ \\sqrt{ 36 } = 6 $$\n",
        "\n",
        "Find `round(2.45)`"
      ],
      "id": "9a23d707-563f-4db1-903a-5aee234d65d9"
    },
    {
      "cell_type": "code",
      "execution_count": null,
      "metadata": {},
      "outputs": [],
      "source": [
        "CODE"
      ],
      "id": "d30fd096"
    },
    {
      "cell_type": "markdown",
      "metadata": {},
      "source": [
        "The answer should be 2\n",
        "\n",
        "Find `math.ceil(2.45)`"
      ],
      "id": "b2172c68-9fdb-4774-b281-e73e09d24358"
    },
    {
      "cell_type": "code",
      "execution_count": null,
      "metadata": {},
      "outputs": [],
      "source": [
        "CODE"
      ],
      "id": "b9821583"
    },
    {
      "cell_type": "markdown",
      "metadata": {},
      "source": [
        "The answer should be 3\n",
        "\n",
        "Find `24%10`, which is the remainder of $24/10$"
      ],
      "id": "3703e2b9-70f8-4eaa-97ba-da411e23b09c"
    },
    {
      "cell_type": "code",
      "execution_count": null,
      "metadata": {
        "question": true
      },
      "outputs": [],
      "source": [
        "CODE"
      ],
      "id": "6611f348"
    },
    {
      "cell_type": "markdown",
      "metadata": {},
      "source": [
        "Put parentheses in the expression `4+2*3` so it gives 18.\n",
        "\n",
        "As is, it is 10"
      ],
      "id": "245fa9a5-41a1-4def-ad62-c85ec5767459"
    },
    {
      "cell_type": "code",
      "execution_count": null,
      "metadata": {},
      "outputs": [],
      "source": [
        "4+2*3"
      ],
      "id": "ea0c8361"
    },
    {
      "cell_type": "markdown",
      "metadata": {},
      "source": [
        "Put parentheses in the expression `4*5+3` so it gives 32.\n",
        "\n",
        "As is, it is 23"
      ],
      "id": "36597838-3ac8-4ad1-a598-a03d3495ea8f"
    },
    {
      "cell_type": "code",
      "execution_count": null,
      "metadata": {},
      "outputs": [],
      "source": [
        "4*5+3"
      ],
      "id": "6a209a11"
    },
    {
      "cell_type": "markdown",
      "metadata": {},
      "source": [
        "Put parentheses in the expression `20/4*5` so it gives 1.\n",
        "\n",
        "As is, it is 25"
      ],
      "id": "8ef42d6e-a040-4b62-9605-500f784d9a0b"
    },
    {
      "cell_type": "code",
      "execution_count": null,
      "metadata": {},
      "outputs": [],
      "source": [
        "20/4*5"
      ],
      "id": "0e84da41"
    },
    {
      "cell_type": "markdown",
      "metadata": {},
      "source": [
        "Put parentheses in the expression `2*9/3*2-1` so it gives 2.\n",
        "\n",
        "As is, it is 11"
      ],
      "id": "3b97c069-9300-4646-a2c2-4afa3aab8647"
    },
    {
      "cell_type": "code",
      "execution_count": null,
      "metadata": {},
      "outputs": [],
      "source": [
        "2*9/3*2-1"
      ],
      "id": "a6f97a0c"
    },
    {
      "cell_type": "markdown",
      "metadata": {},
      "source": [
        "The code below generates an error."
      ],
      "id": "ba81a642-cb82-4cc3-8bdc-7f32962dd9d2"
    },
    {
      "cell_type": "code",
      "execution_count": null,
      "metadata": {},
      "outputs": [],
      "source": [
        "sqrt(49)"
      ],
      "id": "f44df87d"
    },
    {
      "cell_type": "markdown",
      "metadata": {},
      "source": [
        "Produce a correct version that computes the square root of 49, which is\n",
        "7\n",
        "\n",
        "The code below generates an error."
      ],
      "id": "c9418c85-38f6-4ffd-b292-23ac284084c2"
    },
    {
      "cell_type": "code",
      "execution_count": null,
      "metadata": {},
      "outputs": [],
      "source": [
        "ceil(9.45)"
      ],
      "id": "5febe0b8"
    },
    {
      "cell_type": "markdown",
      "metadata": {},
      "source": [
        "Produce a correct version below with no errors and that gives 10\n",
        "\n",
        "The code below generates an error."
      ],
      "id": "67cca011-901d-4cee-a208-1db0516683d8"
    },
    {
      "cell_type": "code",
      "execution_count": null,
      "metadata": {},
      "outputs": [],
      "source": [
        "floor(9.45)"
      ],
      "id": "c60e1168"
    },
    {
      "cell_type": "markdown",
      "metadata": {},
      "source": [
        "Produce a correct version below with no errors and that gives 9\n",
        "\n",
        "Below we are trying to print out the two expressions: `3-4` and `5+8`."
      ],
      "id": "84dcdd68-a9be-49ac-81f8-94dc5220c7a6"
    },
    {
      "cell_type": "code",
      "execution_count": null,
      "metadata": {},
      "outputs": [],
      "source": [
        "3-4\n",
        "5+8"
      ],
      "id": "e49213b0"
    },
    {
      "cell_type": "markdown",
      "metadata": {},
      "source": [
        "But it only prints out the second one.\n",
        "\n",
        "Produce a correct version by using the `print` function:"
      ],
      "id": "c7ceddda-674e-4d90-bd3f-fce28b69985b"
    }
  ],
  "nbformat": 4,
  "nbformat_minor": 5,
  "metadata": {
    "kernelspec": {
      "name": "python3",
      "display_name": "Python 3 (ipykernel)",
      "language": "python"
    }
  }
}
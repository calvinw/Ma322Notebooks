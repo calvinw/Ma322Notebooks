{
  "cells": [
    {
      "cell_type": "markdown",
      "metadata": {},
      "source": [
        "# More Calculator\n",
        "\n",
        "**Problem**:\n",
        "\n",
        "Calculate `4+5`"
      ],
      "id": "e018ede8-29a6-49f8-aed1-f30d41948e97"
    },
    {
      "cell_type": "code",
      "execution_count": null,
      "metadata": {},
      "outputs": [],
      "source": [
        "CODE"
      ],
      "id": "83938026"
    },
    {
      "cell_type": "markdown",
      "metadata": {},
      "source": [
        "**Problem**:\n",
        "\n",
        "Calculate `4*5`"
      ],
      "id": "ae60aea4-8a9a-4f01-b5be-7ee45de92196"
    },
    {
      "cell_type": "code",
      "execution_count": null,
      "metadata": {},
      "outputs": [],
      "source": [
        "CODE"
      ],
      "id": "4d6cbd0a"
    },
    {
      "cell_type": "markdown",
      "metadata": {},
      "source": [
        "**Problem**:\n",
        "\n",
        "Calculate `4-5`"
      ],
      "id": "1bfba5a2-81b2-4225-ac38-c12e0d79ab21"
    },
    {
      "cell_type": "code",
      "execution_count": null,
      "metadata": {},
      "outputs": [],
      "source": [
        "CODE"
      ],
      "id": "26de5a2d"
    },
    {
      "cell_type": "markdown",
      "metadata": {},
      "source": [
        "**Problem**:\n",
        "\n",
        "Calculate `4/5`"
      ],
      "id": "52097bce-1eff-4623-ba49-9f8117143ace"
    },
    {
      "cell_type": "code",
      "execution_count": null,
      "metadata": {},
      "outputs": [],
      "source": [
        "CODE"
      ],
      "id": "5897c66a"
    },
    {
      "cell_type": "markdown",
      "metadata": {},
      "source": [
        "**Problem**:\n",
        "\n",
        "Calculate `4**2`"
      ],
      "id": "7c113364-978c-4054-b9a1-673e955a9be3"
    },
    {
      "cell_type": "code",
      "execution_count": null,
      "metadata": {},
      "outputs": [],
      "source": [
        "CODE"
      ],
      "id": "6613a277"
    },
    {
      "cell_type": "markdown",
      "metadata": {},
      "source": [
        "Check: $4^2=4(4)=16$\n",
        "\n",
        "**Problem**: Calculate `5**6`"
      ],
      "id": "a1a16106-6a86-447b-8b62-c41549969ded"
    },
    {
      "cell_type": "code",
      "execution_count": null,
      "metadata": {},
      "outputs": [],
      "source": [
        "CODE"
      ],
      "id": "2c13fe78"
    },
    {
      "cell_type": "markdown",
      "metadata": {},
      "source": [
        "Check: $5^6=(5)(5)(5)(5)(5)(5)=15625$\n",
        "\n",
        "**Problem**: Calculate `sqrt(36)`"
      ],
      "id": "8076d128-65e1-4985-bd00-e08cc78ae1e9"
    },
    {
      "cell_type": "code",
      "execution_count": null,
      "metadata": {},
      "outputs": [],
      "source": [
        "CODE"
      ],
      "id": "0d84a52e"
    },
    {
      "cell_type": "markdown",
      "metadata": {},
      "source": [
        "Check: $\\sqrt{36} = 6$\n",
        "\n",
        "**Problem**: Calculate `round(2.45)`"
      ],
      "id": "db9615a6-cee5-43f3-b29e-f03fa44ca6a5"
    },
    {
      "cell_type": "code",
      "execution_count": null,
      "metadata": {},
      "outputs": [],
      "source": [
        "CODE"
      ],
      "id": "de680446"
    },
    {
      "cell_type": "markdown",
      "metadata": {},
      "source": [
        "Check: The answer should be 2\n",
        "\n",
        "**Problem**: Calculate`math.ceil(2.45)`"
      ],
      "id": "a447482a-6a01-487b-ad8e-df905bb83e49"
    },
    {
      "cell_type": "code",
      "execution_count": null,
      "metadata": {},
      "outputs": [],
      "source": [
        "CODE"
      ],
      "id": "21d071f6"
    },
    {
      "cell_type": "markdown",
      "metadata": {},
      "source": [
        "Check: The answer should be 3\n",
        "\n",
        "**Problem**: Calculate `24%10`, which is the remainder of $24/10$"
      ],
      "id": "2328ec23-18b2-4508-8291-045a9371ecc2"
    },
    {
      "cell_type": "code",
      "execution_count": null,
      "metadata": {},
      "outputs": [],
      "source": [
        "CODE"
      ],
      "id": "1ed34dd9"
    },
    {
      "cell_type": "markdown",
      "metadata": {},
      "source": [
        "**Problem**: Put parentheses in the expression `4+2*3` so it gives 18.\n",
        "As is, it is 10"
      ],
      "id": "993cd45e-bf84-48b8-ba3e-cbc962cb3e53"
    },
    {
      "cell_type": "code",
      "execution_count": null,
      "metadata": {},
      "outputs": [],
      "source": [
        "4+2*3"
      ],
      "id": "043d3dc9"
    },
    {
      "cell_type": "markdown",
      "metadata": {},
      "source": [
        "**Problem**: Put parentheses in the expression `4*5+3` so it gives 32.\n",
        "As is, it is 23"
      ],
      "id": "b515b416-1802-466a-84d5-0adec858bbb5"
    },
    {
      "cell_type": "code",
      "execution_count": null,
      "metadata": {},
      "outputs": [],
      "source": [
        "4*5+3"
      ],
      "id": "292af6a3"
    },
    {
      "cell_type": "markdown",
      "metadata": {},
      "source": [
        "**Problem**: Put parentheses in the expression `20/4*5` so it gives 1.\n",
        "As is, it is 25"
      ],
      "id": "ad114ac3-9076-4588-ae24-324e9bd81eb7"
    },
    {
      "cell_type": "code",
      "execution_count": null,
      "metadata": {},
      "outputs": [],
      "source": [
        "20/4*5"
      ],
      "id": "2c9d2a69"
    },
    {
      "cell_type": "markdown",
      "metadata": {},
      "source": [
        "**Problem**: Write code that puts in parentheses for `2*9/3*2-1` so it\n",
        "gives 2. As is, it is 11"
      ],
      "id": "3d88b1a1-51da-408d-8d2d-4759eb6ca883"
    },
    {
      "cell_type": "code",
      "execution_count": null,
      "metadata": {},
      "outputs": [],
      "source": [
        "2*9/3*2-1"
      ],
      "id": "d1253c80"
    },
    {
      "cell_type": "markdown",
      "metadata": {},
      "source": [
        "**Problem**: The code below generates an error. Run it to see this.\n",
        "Produce a correct version that computes the square root of 49, which is\n",
        "7"
      ],
      "id": "54d14e27-76c8-4830-9c04-b83f8ba9f61f"
    },
    {
      "cell_type": "code",
      "execution_count": null,
      "metadata": {},
      "outputs": [],
      "source": [
        "sqrt(49)"
      ],
      "id": "92afa551"
    },
    {
      "cell_type": "markdown",
      "metadata": {},
      "source": [
        "**Problem**: The code below generates an error. Run it to see this.\n",
        "Produce a correct version with no errors and that gives 10"
      ],
      "id": "18fcbaa9-4062-43b7-b741-0ea1bdb011e6"
    },
    {
      "cell_type": "code",
      "execution_count": null,
      "metadata": {},
      "outputs": [],
      "source": [
        "ceil(9.45)"
      ],
      "id": "032e6e1f"
    },
    {
      "cell_type": "markdown",
      "metadata": {},
      "source": [
        "**Problem**: The code below generates an error. Run it to see this.\n",
        "Produce a correct version with no errors and that gives 9"
      ],
      "id": "01603990-6bf3-422e-9ebc-78fcee26e6ff"
    },
    {
      "cell_type": "code",
      "execution_count": null,
      "metadata": {},
      "outputs": [],
      "source": [
        "floor(9.45)"
      ],
      "id": "d46888f5"
    },
    {
      "cell_type": "markdown",
      "metadata": {},
      "source": [
        "**Problem**: Below we are trying to print out the two expressions: `3-4`\n",
        "and `5+8`. But it only prints out the second one. Produce a correct\n",
        "version by using the `print` function:"
      ],
      "id": "635275eb-1917-407b-bb5c-d7d62c3b6f15"
    },
    {
      "cell_type": "code",
      "execution_count": null,
      "metadata": {},
      "outputs": [],
      "source": [
        "3-4\n",
        "5+8"
      ],
      "id": "dbb912db"
    }
  ],
  "nbformat": 4,
  "nbformat_minor": 5,
  "metadata": {
    "kernelspec": {
      "name": "python3",
      "display_name": "Python 3 (ipykernel)",
      "language": "python"
    }
  }
}
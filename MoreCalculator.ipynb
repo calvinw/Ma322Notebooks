{
  "cells": [
    {
      "cell_type": "markdown",
      "metadata": {},
      "source": [
        "# More Calculator\n",
        "\n",
        "Calculate `4+5` by replacing the line `CODE` with `4+5` and then execute\n",
        "it by hitting the *Run Cell* button"
      ],
      "id": "ae66f4f6-43f3-46a8-ad2e-75c6274d31b5"
    },
    {
      "cell_type": "code",
      "execution_count": null,
      "metadata": {},
      "outputs": [],
      "source": [
        "CODE"
      ],
      "id": "56bfdf48"
    },
    {
      "cell_type": "markdown",
      "metadata": {},
      "source": [
        "Calculate `4*5`"
      ],
      "id": "415f5c37-3ef6-485c-9ba6-6b8c16866776"
    },
    {
      "cell_type": "code",
      "execution_count": null,
      "metadata": {},
      "outputs": [],
      "source": [
        "CODE"
      ],
      "id": "3d0bbd93"
    },
    {
      "cell_type": "markdown",
      "metadata": {},
      "source": [
        "Calculate `4-5`"
      ],
      "id": "a41fab6e-3275-44b7-b18d-824c2c04f3aa"
    },
    {
      "cell_type": "code",
      "execution_count": null,
      "metadata": {},
      "outputs": [],
      "source": [
        "CODE"
      ],
      "id": "3f9195d5"
    },
    {
      "cell_type": "markdown",
      "metadata": {},
      "source": [
        "Calculate `4/5`"
      ],
      "id": "c3856943-5c24-466c-8079-aea5d1fd84fc"
    },
    {
      "cell_type": "code",
      "execution_count": null,
      "metadata": {
        "question": true
      },
      "outputs": [],
      "source": [
        "CODE"
      ],
      "id": "b906cee6"
    },
    {
      "cell_type": "markdown",
      "metadata": {},
      "source": [
        "Calculate `4**2`"
      ],
      "id": "94ddbd9f-b58c-4092-83c2-84cce7feda5a"
    },
    {
      "cell_type": "code",
      "execution_count": null,
      "metadata": {},
      "outputs": [],
      "source": [
        "CODE"
      ],
      "id": "c34a52b3"
    },
    {
      "cell_type": "markdown",
      "metadata": {},
      "source": [
        "Check $4^2=4(4)=16$\n",
        "\n",
        "Calculate `5**6`"
      ],
      "id": "911e7114-f22c-453a-bf7f-5842b37ed4f0"
    },
    {
      "cell_type": "code",
      "execution_count": null,
      "metadata": {},
      "outputs": [],
      "source": [
        "CODE"
      ],
      "id": "a3d1d514"
    },
    {
      "cell_type": "markdown",
      "metadata": {},
      "source": [
        "Check $5^6=(5)(5)(5)(5)(5)(5)=15625$\n",
        "\n",
        "Calculate `sqrt(36)`"
      ],
      "id": "7384bcc0-29bc-477f-9d2a-6e3bb59dce89"
    },
    {
      "cell_type": "code",
      "execution_count": null,
      "metadata": {},
      "outputs": [],
      "source": [
        "CODE"
      ],
      "id": "e784ff2b"
    },
    {
      "cell_type": "markdown",
      "metadata": {},
      "source": [
        "Check: $$ \\sqrt{ 36 } = 6 $$\n",
        "\n",
        "Find `round(2.45)`"
      ],
      "id": "046a3ff0-6c94-4c14-ae94-1dbd4f1226cd"
    },
    {
      "cell_type": "code",
      "execution_count": null,
      "metadata": {},
      "outputs": [],
      "source": [
        "CODE"
      ],
      "id": "ad79ede3"
    },
    {
      "cell_type": "markdown",
      "metadata": {},
      "source": [
        "The answer should be 2\n",
        "\n",
        "Find `math.ceil(2.45)`"
      ],
      "id": "d3f212aa-a358-41cd-b5cf-1f0229d45e1a"
    },
    {
      "cell_type": "code",
      "execution_count": null,
      "metadata": {},
      "outputs": [],
      "source": [
        "CODE"
      ],
      "id": "b027230c"
    },
    {
      "cell_type": "markdown",
      "metadata": {},
      "source": [
        "The answer should be 3\n",
        "\n",
        "Find `24%10`, which is the remainder of $24/10$"
      ],
      "id": "e44c731a-2bbb-42e6-9317-cdbf3e55f09e"
    },
    {
      "cell_type": "code",
      "execution_count": null,
      "metadata": {
        "question": true
      },
      "outputs": [],
      "source": [
        "CODE"
      ],
      "id": "dbbf3680"
    },
    {
      "cell_type": "markdown",
      "metadata": {},
      "source": [
        "Put parentheses in the expression `4+2*3` so it gives 18.\n",
        "\n",
        "As is, it is 10"
      ],
      "id": "f158d89c-4f70-435c-8472-a4aecfdd8562"
    },
    {
      "cell_type": "code",
      "execution_count": null,
      "metadata": {},
      "outputs": [],
      "source": [
        "4+2*3"
      ],
      "id": "9fabe52c"
    },
    {
      "cell_type": "markdown",
      "metadata": {},
      "source": [
        "Put parentheses in the expression `4*5+3` so it gives 32.\n",
        "\n",
        "As is, it is 23"
      ],
      "id": "6aea6793-1362-4a5d-b077-9db9d4158ad7"
    },
    {
      "cell_type": "code",
      "execution_count": null,
      "metadata": {},
      "outputs": [],
      "source": [
        "4*5+3"
      ],
      "id": "b68bbee3"
    },
    {
      "cell_type": "markdown",
      "metadata": {},
      "source": [
        "Put parentheses in the expression `20/4*5` so it gives 1.\n",
        "\n",
        "As is, it is 25"
      ],
      "id": "a9db68ca-fff1-4b4d-8ee1-21f692e51bd5"
    },
    {
      "cell_type": "code",
      "execution_count": null,
      "metadata": {},
      "outputs": [],
      "source": [
        "20/4*5"
      ],
      "id": "967a2499"
    },
    {
      "cell_type": "markdown",
      "metadata": {},
      "source": [
        "Put parentheses in the expression `2*9/3*2-1` so it gives 2.\n",
        "\n",
        "As is, it is 11"
      ],
      "id": "bf1a2790-13f5-4cb7-837a-b15e844f6cdc"
    },
    {
      "cell_type": "code",
      "execution_count": null,
      "metadata": {},
      "outputs": [],
      "source": [
        "2*9/3*2-1"
      ],
      "id": "f084aceb"
    },
    {
      "cell_type": "markdown",
      "metadata": {},
      "source": [
        "The code below generates an error."
      ],
      "id": "16543634-6081-455d-910d-5bca90e46ecc"
    },
    {
      "cell_type": "code",
      "execution_count": null,
      "metadata": {},
      "outputs": [],
      "source": [
        "sqrt(49)"
      ],
      "id": "af372706"
    },
    {
      "cell_type": "markdown",
      "metadata": {},
      "source": [
        "Produce a correct version that computes the square root of 49, which is\n",
        "7\n",
        "\n",
        "The code below generates an error."
      ],
      "id": "1ee67121-21c6-490e-8ca0-d8c4b7bab646"
    },
    {
      "cell_type": "code",
      "execution_count": null,
      "metadata": {},
      "outputs": [],
      "source": [
        "ceil(9.45)"
      ],
      "id": "a7e7d98d"
    },
    {
      "cell_type": "markdown",
      "metadata": {},
      "source": [
        "Produce a correct version below with no errors and that gives 10\n",
        "\n",
        "The code below generates an error."
      ],
      "id": "e9e76f92-7423-4a81-8b26-e0ee73689340"
    },
    {
      "cell_type": "code",
      "execution_count": null,
      "metadata": {},
      "outputs": [],
      "source": [
        "floor(9.45)"
      ],
      "id": "4e3aabed"
    },
    {
      "cell_type": "markdown",
      "metadata": {},
      "source": [
        "Produce a correct version below with no errors and that gives 9\n",
        "\n",
        "Below we are trying to print out the two expressions: `3-4` and `5+8`."
      ],
      "id": "1eeb6fec-0d4d-4b20-a441-5333a78e55bb"
    },
    {
      "cell_type": "code",
      "execution_count": null,
      "metadata": {},
      "outputs": [],
      "source": [
        "3-4\n",
        "5+8"
      ],
      "id": "4c9c7c81"
    },
    {
      "cell_type": "markdown",
      "metadata": {},
      "source": [
        "But it only prints out the second one.\n",
        "\n",
        "Produce a correct version by using the `print` function:"
      ],
      "id": "ff01bb1c-d6a8-4d40-a656-3d41292ecd57"
    }
  ],
  "nbformat": 4,
  "nbformat_minor": 5,
  "metadata": {
    "kernelspec": {
      "name": "python3",
      "display_name": "Python 3 (ipykernel)",
      "language": "python"
    }
  }
}
{
  "cells": [
    {
      "cell_type": "markdown",
      "metadata": {},
      "source": [
        "# More Calculator\n",
        "\n",
        "Calculate `4+5` by replacing the line `CODE` with `4+5` and then execute\n",
        "it by hitting the *Run Cell* button"
      ],
      "id": "9df6bee2-4567-450d-8cf7-7a413723c1df"
    },
    {
      "cell_type": "code",
      "execution_count": null,
      "metadata": {},
      "outputs": [],
      "source": [
        "CODE"
      ],
      "id": "418d0c61"
    },
    {
      "cell_type": "markdown",
      "metadata": {},
      "source": [
        "Calculate `4*5`"
      ],
      "id": "352ceaa6-7f97-4fc7-8de1-23526f283032"
    },
    {
      "cell_type": "code",
      "execution_count": null,
      "metadata": {},
      "outputs": [],
      "source": [
        "CODE"
      ],
      "id": "8f2aeafd"
    },
    {
      "cell_type": "markdown",
      "metadata": {},
      "source": [
        "Calculate `4-5`"
      ],
      "id": "6812746a-8e40-432f-89df-20a4281a578e"
    },
    {
      "cell_type": "code",
      "execution_count": null,
      "metadata": {},
      "outputs": [],
      "source": [
        "CODE"
      ],
      "id": "a5421f6b"
    },
    {
      "cell_type": "markdown",
      "metadata": {},
      "source": [
        "Calculate `4/5`"
      ],
      "id": "08685562-9c98-4945-a021-87e849095f56"
    },
    {
      "cell_type": "code",
      "execution_count": null,
      "metadata": {
        "question": true
      },
      "outputs": [],
      "source": [
        "CODE"
      ],
      "id": "3bb0ed80"
    },
    {
      "cell_type": "markdown",
      "metadata": {},
      "source": [
        "Calculate `4**2`"
      ],
      "id": "05a056e8-5ff0-4c9a-99cf-4fc9c90dd030"
    },
    {
      "cell_type": "code",
      "execution_count": null,
      "metadata": {},
      "outputs": [],
      "source": [
        "CODE"
      ],
      "id": "2ddc757a"
    },
    {
      "cell_type": "markdown",
      "metadata": {},
      "source": [
        "Check $4^2=4(4)=16$\n",
        "\n",
        "Calculate `5**6`"
      ],
      "id": "bb10c547-8346-480a-8d7c-71f07d72dfa4"
    },
    {
      "cell_type": "code",
      "execution_count": null,
      "metadata": {},
      "outputs": [],
      "source": [
        "CODE"
      ],
      "id": "6ab1f6ca"
    },
    {
      "cell_type": "markdown",
      "metadata": {},
      "source": [
        "Check $5^6=(5)(5)(5)(5)(5)(5)=15625$\n",
        "\n",
        "Calculate `sqrt(36)`"
      ],
      "id": "df57d56b-5620-420a-ab26-be8b5a65e1f5"
    },
    {
      "cell_type": "code",
      "execution_count": null,
      "metadata": {},
      "outputs": [],
      "source": [
        "CODE"
      ],
      "id": "466a9191"
    },
    {
      "cell_type": "markdown",
      "metadata": {},
      "source": [
        "Check: $$ \\sqrt{ 36 } = 6 $$\n",
        "\n",
        "Find `round(2.45)`"
      ],
      "id": "9d687d3f-02c3-4362-9613-cb7f0771ce50"
    },
    {
      "cell_type": "code",
      "execution_count": null,
      "metadata": {},
      "outputs": [],
      "source": [
        "CODE"
      ],
      "id": "e181f1c5"
    },
    {
      "cell_type": "markdown",
      "metadata": {},
      "source": [
        "The answer should be 2\n",
        "\n",
        "Find `math.ceil(2.45)`"
      ],
      "id": "0a37eb4a-9523-40b9-9f18-42d643434a89"
    },
    {
      "cell_type": "code",
      "execution_count": null,
      "metadata": {},
      "outputs": [],
      "source": [
        "CODE"
      ],
      "id": "f30fa068"
    },
    {
      "cell_type": "markdown",
      "metadata": {},
      "source": [
        "The answer should be 3\n",
        "\n",
        "Find `24%10`, which is the remainder of $24/10$"
      ],
      "id": "ae1dc6ad-bffd-4268-b408-6a10750f3ee6"
    },
    {
      "cell_type": "code",
      "execution_count": null,
      "metadata": {
        "question": true
      },
      "outputs": [],
      "source": [
        "CODE"
      ],
      "id": "9140943d"
    },
    {
      "cell_type": "markdown",
      "metadata": {},
      "source": [
        "Put parentheses in the expression `4+2*3` so it gives 18.\n",
        "\n",
        "As is, it is 10"
      ],
      "id": "3ad6ecb8-f230-43bd-a763-d09d58ff5a90"
    },
    {
      "cell_type": "code",
      "execution_count": null,
      "metadata": {},
      "outputs": [],
      "source": [
        "4+2*3"
      ],
      "id": "24a8f5ca"
    },
    {
      "cell_type": "markdown",
      "metadata": {},
      "source": [
        "Put parentheses in the expression `4*5+3` so it gives 32.\n",
        "\n",
        "As is, it is 23"
      ],
      "id": "b3c7ae8f-8f08-4db3-937e-34e11d286609"
    },
    {
      "cell_type": "code",
      "execution_count": null,
      "metadata": {},
      "outputs": [],
      "source": [
        "4*5+3"
      ],
      "id": "da811fc3"
    },
    {
      "cell_type": "markdown",
      "metadata": {},
      "source": [
        "Put parentheses in the expression `20/4*5` so it gives 1.\n",
        "\n",
        "As is, it is 25"
      ],
      "id": "3cf8b858-2d68-4f71-a6a4-686f6a33f15e"
    },
    {
      "cell_type": "code",
      "execution_count": null,
      "metadata": {},
      "outputs": [],
      "source": [
        "20/4*5"
      ],
      "id": "18e91aa4"
    },
    {
      "cell_type": "markdown",
      "metadata": {},
      "source": [
        "Put parentheses in the expression `2*9/3*2-1` so it gives 2.\n",
        "\n",
        "As is, it is 11"
      ],
      "id": "dff90f01-07ce-428e-9fab-2bb51374d641"
    },
    {
      "cell_type": "code",
      "execution_count": null,
      "metadata": {},
      "outputs": [],
      "source": [
        "2*9/3*2-1"
      ],
      "id": "af952398"
    },
    {
      "cell_type": "markdown",
      "metadata": {},
      "source": [
        "The code below generates an error."
      ],
      "id": "015d4155-6596-4181-b7e0-e9b6fdfb867a"
    },
    {
      "cell_type": "code",
      "execution_count": null,
      "metadata": {},
      "outputs": [],
      "source": [
        "sqrt(49)"
      ],
      "id": "a9aeac00"
    },
    {
      "cell_type": "markdown",
      "metadata": {},
      "source": [
        "Produce a correct version that computes the square root of 49, which is\n",
        "7\n",
        "\n",
        "The code below generates an error."
      ],
      "id": "da0b3263-9440-428a-bb4a-1635335b6be5"
    },
    {
      "cell_type": "code",
      "execution_count": null,
      "metadata": {},
      "outputs": [],
      "source": [
        "ceil(9.45)"
      ],
      "id": "a1231eef"
    },
    {
      "cell_type": "markdown",
      "metadata": {},
      "source": [
        "Produce a correct version below with no errors and that gives 10\n",
        "\n",
        "The code below generates an error."
      ],
      "id": "12819a8f-4802-4a2c-9b54-1f58609d9c6d"
    },
    {
      "cell_type": "code",
      "execution_count": null,
      "metadata": {},
      "outputs": [],
      "source": [
        "floor(9.45)"
      ],
      "id": "2057ce9b"
    },
    {
      "cell_type": "markdown",
      "metadata": {},
      "source": [
        "Produce a correct version below with no errors and that gives 9"
      ],
      "id": "430ab65e-c6d9-4b34-adb2-e22b54b17be9"
    }
  ],
  "nbformat": 4,
  "nbformat_minor": 5,
  "metadata": {
    "kernelspec": {
      "name": "python3",
      "display_name": "Python 3 (ipykernel)",
      "language": "python"
    }
  }
}
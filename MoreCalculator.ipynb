{
  "cells": [
    {
      "cell_type": "markdown",
      "metadata": {},
      "source": [
        "# More Calculator\n",
        "\n",
        "Calculate `4+5` by replacing the line `CODE` with `4+5` and then execute\n",
        "it by hitting the *Run Cell* button"
      ],
      "id": "533774b5-de72-4e7f-9156-79ac10785883"
    },
    {
      "cell_type": "code",
      "execution_count": null,
      "metadata": {},
      "outputs": [],
      "source": [
        "CODE"
      ],
      "id": "40bc478b"
    },
    {
      "cell_type": "markdown",
      "metadata": {},
      "source": [
        "Calculate `4*5`"
      ],
      "id": "9c6a6a95-5057-4b7c-90c9-0b9c729f28da"
    },
    {
      "cell_type": "code",
      "execution_count": null,
      "metadata": {},
      "outputs": [],
      "source": [
        "CODE"
      ],
      "id": "f310defa"
    },
    {
      "cell_type": "markdown",
      "metadata": {},
      "source": [
        "Calculate `4-5`"
      ],
      "id": "e32390f4-05ac-4726-9b45-588854140157"
    },
    {
      "cell_type": "code",
      "execution_count": null,
      "metadata": {},
      "outputs": [],
      "source": [
        "CODE"
      ],
      "id": "faa81e41"
    },
    {
      "cell_type": "markdown",
      "metadata": {},
      "source": [
        "Calculate `4/5`"
      ],
      "id": "54e74e08-820b-4911-a1cc-023232805400"
    },
    {
      "cell_type": "code",
      "execution_count": null,
      "metadata": {
        "question": true
      },
      "outputs": [],
      "source": [
        "CODE"
      ],
      "id": "18b7e242"
    },
    {
      "cell_type": "markdown",
      "metadata": {},
      "source": [
        "Calculate `4**2`"
      ],
      "id": "051b8135-2f13-480f-bf95-fee33db70d88"
    },
    {
      "cell_type": "code",
      "execution_count": null,
      "metadata": {},
      "outputs": [],
      "source": [
        "CODE"
      ],
      "id": "17bb3bae"
    },
    {
      "cell_type": "markdown",
      "metadata": {},
      "source": [
        "Check $4^2=4(4)=16$\n",
        "\n",
        "Calculate `5**6`"
      ],
      "id": "36643511-ff15-4f97-bd6e-9867c898de8f"
    },
    {
      "cell_type": "code",
      "execution_count": null,
      "metadata": {},
      "outputs": [],
      "source": [
        "CODE"
      ],
      "id": "4aaf7926"
    },
    {
      "cell_type": "markdown",
      "metadata": {},
      "source": [
        "Check $5^6=(5)(5)(5)(5)(5)(5)=15625$\n",
        "\n",
        "Calculate `sqrt(36)`"
      ],
      "id": "8e49fc85-8255-4368-8e7b-e199b0eb7b60"
    },
    {
      "cell_type": "code",
      "execution_count": null,
      "metadata": {},
      "outputs": [],
      "source": [
        "CODE"
      ],
      "id": "2bdc75df"
    },
    {
      "cell_type": "markdown",
      "metadata": {},
      "source": [
        "Check: $$ \\sqrt{ 36 } = 6 $$\n",
        "\n",
        "Find `round(2.45)`"
      ],
      "id": "1b44ab27-c859-47c2-a9aa-606280f62735"
    },
    {
      "cell_type": "code",
      "execution_count": null,
      "metadata": {},
      "outputs": [],
      "source": [
        "CODE"
      ],
      "id": "0c141efc"
    },
    {
      "cell_type": "markdown",
      "metadata": {},
      "source": [
        "The answer should be 2\n",
        "\n",
        "Find `math.ceil(2.45)`"
      ],
      "id": "cf2eea9b-84af-4fe6-a007-b9114ff3f2e5"
    },
    {
      "cell_type": "code",
      "execution_count": null,
      "metadata": {},
      "outputs": [],
      "source": [
        "CODE"
      ],
      "id": "f781d5bb"
    },
    {
      "cell_type": "markdown",
      "metadata": {},
      "source": [
        "The answer should be 3\n",
        "\n",
        "Find `24%10`, which is the remainder of $24/10$"
      ],
      "id": "7e6eacec-703b-4f5e-bfba-cabe3f4ee928"
    },
    {
      "cell_type": "code",
      "execution_count": null,
      "metadata": {
        "question": true
      },
      "outputs": [],
      "source": [
        "CODE"
      ],
      "id": "db7ae420"
    },
    {
      "cell_type": "markdown",
      "metadata": {},
      "source": [
        "Put parentheses in the expression `4+2*3` so it gives 18.\n",
        "\n",
        "As is, it is 10"
      ],
      "id": "cf5c2cfd-6da5-40c2-afff-549678599903"
    },
    {
      "cell_type": "code",
      "execution_count": null,
      "metadata": {},
      "outputs": [],
      "source": [
        "4+2*3"
      ],
      "id": "74f64429"
    },
    {
      "cell_type": "markdown",
      "metadata": {},
      "source": [
        "Put parentheses in the expression `4*5+3` so it gives 32.\n",
        "\n",
        "As is, it is 23"
      ],
      "id": "fd28633f-4a44-4163-8cca-947e7790a5b9"
    },
    {
      "cell_type": "code",
      "execution_count": null,
      "metadata": {},
      "outputs": [],
      "source": [
        "4*5+3"
      ],
      "id": "6f4f5d66"
    },
    {
      "cell_type": "markdown",
      "metadata": {},
      "source": [
        "Put parentheses in the expression `20/4*5` so it gives 1.\n",
        "\n",
        "As is, it is 25"
      ],
      "id": "cad16a38-c07d-421c-ac50-b0078f9f768c"
    },
    {
      "cell_type": "code",
      "execution_count": null,
      "metadata": {},
      "outputs": [],
      "source": [
        "20/4*5"
      ],
      "id": "8f925791"
    },
    {
      "cell_type": "markdown",
      "metadata": {},
      "source": [
        "Put parentheses in the expression `2*9/3*2-1` so it gives 2.\n",
        "\n",
        "As is, it is 11"
      ],
      "id": "3468c786-1a91-4f97-9863-853847949506"
    },
    {
      "cell_type": "code",
      "execution_count": null,
      "metadata": {},
      "outputs": [],
      "source": [
        "2*9/3*2-1"
      ],
      "id": "a3093716"
    },
    {
      "cell_type": "markdown",
      "metadata": {},
      "source": [
        "The code below generates an error."
      ],
      "id": "bf15f0b1-12b8-4775-aa57-aaaa24504f86"
    },
    {
      "cell_type": "code",
      "execution_count": null,
      "metadata": {},
      "outputs": [],
      "source": [
        "sqrt(49)"
      ],
      "id": "f57693bb"
    },
    {
      "cell_type": "markdown",
      "metadata": {},
      "source": [
        "Produce a correct version that computes the square root of 49, which is\n",
        "7\n",
        "\n",
        "The code below generates an error."
      ],
      "id": "7991a97a-3ef7-40c7-84fd-e30e2bb1c7e1"
    },
    {
      "cell_type": "code",
      "execution_count": null,
      "metadata": {},
      "outputs": [],
      "source": [
        "ceil(9.45)"
      ],
      "id": "f39097f7"
    },
    {
      "cell_type": "markdown",
      "metadata": {},
      "source": [
        "Produce a correct version below with no errors and that gives 10\n",
        "\n",
        "The code below generates an error."
      ],
      "id": "8c15abed-1d33-4778-a7cf-7aba6cfb56ec"
    },
    {
      "cell_type": "code",
      "execution_count": null,
      "metadata": {},
      "outputs": [],
      "source": [
        "floor(9.45)"
      ],
      "id": "062d7432"
    },
    {
      "cell_type": "markdown",
      "metadata": {},
      "source": [
        "Produce a correct version below with no errors and that gives 9\n",
        "\n",
        "Below we are trying to print out the two expressions: `3-4` and `5+8`."
      ],
      "id": "68210333-d71c-4098-b240-0621095882df"
    },
    {
      "cell_type": "code",
      "execution_count": null,
      "metadata": {},
      "outputs": [],
      "source": [
        "3-4\n",
        "5+8"
      ],
      "id": "b4fc0b21"
    },
    {
      "cell_type": "markdown",
      "metadata": {},
      "source": [
        "But it only prints out the second one.\n",
        "\n",
        "Produce a correct version by using the `print` function:"
      ],
      "id": "73bef607-9907-4ad2-978b-090e41211e51"
    }
  ],
  "nbformat": 4,
  "nbformat_minor": 5,
  "metadata": {
    "kernelspec": {
      "name": "python3",
      "display_name": "Python 3 (ipykernel)",
      "language": "python"
    }
  }
}
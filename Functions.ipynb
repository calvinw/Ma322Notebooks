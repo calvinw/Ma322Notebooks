{
  "cells": [
    {
      "cell_type": "markdown",
      "metadata": {},
      "source": [
        "# Functions in Python\n",
        "\n",
        "Functions in Python are reusable blocks of code that perform a specific\n",
        "task. They allow you to organize your code into logical units, making it\n",
        "easier to read, maintain, and reuse. In this lesson, we’ll cover the\n",
        "basics of functions, including how to define and call them, pass\n",
        "arguments, handle return values, and use keyword arguments.\n",
        "\n",
        "## Defining a Function\n",
        "\n",
        "In Python, you define a function using the `def` keyword, followed by\n",
        "the function name, parentheses `()` for the arguments, and a colon `:`.\n",
        "The function body is indented and contains the code that will be\n",
        "executed when the function is called.\n",
        "\n",
        "Here’s an example of a simple function that prints a greeting:"
      ],
      "id": "c2d49fad-1eb4-4f84-ba98-9020bb14ddd8"
    },
    {
      "cell_type": "code",
      "execution_count": null,
      "metadata": {},
      "outputs": [],
      "source": [
        "def greet():\n",
        "  print(\"Hello, World!\")"
      ],
      "id": "554dd894"
    },
    {
      "cell_type": "markdown",
      "metadata": {},
      "source": [
        "To call this function, you simply use its name followed by parentheses:"
      ],
      "id": "158451c8-9df7-4e86-a4cb-2b6f57876bdc"
    },
    {
      "cell_type": "code",
      "execution_count": null,
      "metadata": {},
      "outputs": [],
      "source": [
        "greet()"
      ],
      "id": "c4e2e746"
    },
    {
      "cell_type": "markdown",
      "metadata": {},
      "source": [
        "## Passing Arguments\n",
        "\n",
        "Functions can accept input values, called arguments, which are specified\n",
        "inside the parentheses when defining the function. These arguments act\n",
        "as variables inside the function, allowing you to perform operations on\n",
        "the provided data."
      ],
      "id": "4b5cc6f4-a126-48c4-b167-783a694c23e8"
    },
    {
      "cell_type": "code",
      "execution_count": null,
      "metadata": {},
      "outputs": [],
      "source": [
        "def greet_person(name):\n",
        "    print(\"Hello, \" + name + \"!\")\n",
        "\n",
        "greet_person(\"Alice\")  # Output: Hello, Alice!\n",
        "greet_person(\"Bob\")    # Output: Hello, Bob!"
      ],
      "id": "50d1ace7"
    },
    {
      "cell_type": "markdown",
      "metadata": {},
      "source": [
        "You can also define functions with multiple arguments:"
      ],
      "id": "317c80ec-6442-4160-b4e1-c313aaee7bff"
    },
    {
      "cell_type": "code",
      "execution_count": null,
      "metadata": {},
      "outputs": [],
      "source": [
        "def add_numbers(num1, num2):\n",
        "    result = num1 + num2\n",
        "    print(\"The sum is \", result)\n",
        "\n",
        "add_numbers(3, 5)\n",
        "add_numbers(10, 20)"
      ],
      "id": "65c9b0e9"
    },
    {
      "cell_type": "markdown",
      "metadata": {},
      "source": [
        "## Default Arguments\n",
        "\n",
        "Python allows you to provide default values for function arguments. If\n",
        "no value is provided when calling the function, the default value is\n",
        "used."
      ],
      "id": "b47ee739-2063-4fa1-b77c-b6c7b78e64ea"
    },
    {
      "cell_type": "code",
      "execution_count": null,
      "metadata": {},
      "outputs": [],
      "source": [
        "def greet_person(name, greeting=\"Hello\"):\n",
        "    print(greeting + \", \" + name + \"!\")\n",
        "\n",
        "greet_person(\"Alice\")\n",
        "greet_person(\"Bob\", \"Hi\")"
      ],
      "id": "7b3cd76c"
    },
    {
      "cell_type": "markdown",
      "metadata": {},
      "source": [
        "In the example above, the `greeting` argument has a default value of\n",
        "`\"Hello\"`. If no value is provided for `greeting` when calling the\n",
        "function, “Hello” is used. However, you can override the default value\n",
        "by passing a different value for `greeting`.\n",
        "\n",
        "## Return Values\n",
        "\n",
        "Functions can also return values using the `return` statement. The\n",
        "returned value can be assigned to a variable or used directly in\n",
        "expressions."
      ],
      "id": "0bd2d6fb-8925-492e-9b47-c4e3e3cdd1eb"
    },
    {
      "cell_type": "code",
      "execution_count": null,
      "metadata": {},
      "outputs": [],
      "source": [
        "def multiply(num1, num2):\n",
        "    result = num1 * num2\n",
        "    return result\n",
        "\n",
        "product = multiply(3, 4)\n",
        "print(\"The product is:\", product)"
      ],
      "id": "03200b8e"
    },
    {
      "cell_type": "markdown",
      "metadata": {},
      "source": [
        "In the example above, the `multiply` function takes two arguments,\n",
        "calculates their product, and returns the result. The returned value is\n",
        "then assigned to the `product` variable and printed.\n",
        "\n",
        "## Keyword Arguments\n",
        "\n",
        "In Python, you can also pass arguments to a function using keyword\n",
        "arguments. Keyword arguments allow you to specify the argument names\n",
        "explicitly when calling the function, making your code more readable and\n",
        "less error-prone, especially when dealing with functions that have many\n",
        "arguments."
      ],
      "id": "d678b18a-963a-464b-8a87-c69c9a8b5421"
    },
    {
      "cell_type": "code",
      "execution_count": null,
      "metadata": {},
      "outputs": [],
      "source": [
        "def describe_person(name, age, location):\n",
        "    print(name + \" is \" + str(age) + \" years old and lives in \" + location)\n",
        "\n",
        "# Using positional arguments\n",
        "describe_person(\"Alice\", 25, \"New York\")\n",
        "\n",
        "# Using keyword arguments\n",
        "describe_person(name=\"Bob\", age=30, location=\"London\")\n",
        "\n",
        "# Mixing positional and keyword arguments\n",
        "describe_person(\"Charlie\", location=\"Paris\", age=35)"
      ],
      "id": "c08506b6"
    },
    {
      "cell_type": "markdown",
      "metadata": {},
      "source": [
        "In the example above, the `describe_person` function takes three\n",
        "arguments: `name`, `age`, and `location`. When calling the function, you\n",
        "can use positional arguments (where the argument values are matched to\n",
        "the function parameters based on their position) or keyword arguments\n",
        "(where you specify the argument name explicitly).\n",
        "\n",
        "Keyword arguments are particularly useful when you have functions with\n",
        "many arguments, as they make the code more self-documenting and less\n",
        "prone to errors caused by argument order.\n",
        "\n",
        "## Calling a Large Language Model (Example)\n",
        "\n",
        "Let’s consider an example of calling a Large Language Model (LLM) using\n",
        "a hypothetical function `get_llm_response`. This function takes a prompt\n",
        "as an argument and returns the LLM’s response."
      ],
      "id": "d746f0c6-fa8f-49a7-92a0-99fdeb169d41"
    },
    {
      "cell_type": "code",
      "execution_count": null,
      "metadata": {},
      "outputs": [],
      "source": [
        "def get_llm_response(prompt):\n",
        "    # Hypothetical code to call the LLM and get a response\n",
        "    response = \"This is a sample response from the LLM.\"\n",
        "    return response\n",
        "\n",
        "prompt = \"What is the meaning of life?\"\n",
        "response = get_llm_response(prompt)\n",
        "print(\"Prompt:\", prompt)\n",
        "print(\"Response:\", response)"
      ],
      "id": "1db5039c"
    },
    {
      "cell_type": "markdown",
      "metadata": {},
      "source": [
        "In this example, the `get_llm_response` function takes a `prompt` as an\n",
        "argument and returns a sample response (in a real scenario, this would\n",
        "involve sending the prompt to the LLM and receiving its response). The\n",
        "`prompt` variable stores the user’s question, which is then passed to\n",
        "the `get_llm_response` function The LLM’s response is stored in the\n",
        "`response` variable and printed along with the original prompt.\n",
        "\n",
        "By organizing your code into functions, you can make it more readable,\n",
        "modular, and easier to maintain. Functions also promote code reuse, as\n",
        "you can call them multiple times with different arguments to perform the\n",
        "same task in different contexts."
      ],
      "id": "3f3e260e-abf6-42b6-9f56-ed2c9e982d6b"
    }
  ],
  "nbformat": 4,
  "nbformat_minor": 5,
  "metadata": {
    "kernelspec": {
      "name": "python3",
      "display_name": "Python 3 (ipykernel)",
      "language": "python"
    }
  }
}
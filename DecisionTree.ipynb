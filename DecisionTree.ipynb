{
  "cells": [
    {
      "cell_type": "markdown",
      "metadata": {},
      "source": [
        "# Decision Trees"
      ],
      "id": "6f382fa3-c967-4690-9cc5-90126b6b75ca"
    },
    {
      "cell_type": "code",
      "execution_count": null,
      "metadata": {
        "results": "hide"
      },
      "outputs": [],
      "source": [
        "import pandas as pd\n",
        "import numpy as np\n",
        "from sklearn.tree import DecisionTreeClassifier, plot_tree, export_text\n",
        "import matplotlib.pyplot as plt\n",
        "from sklearn.metrics import accuracy_score\n",
        "\n",
        "# Set display options\n",
        "pd.set_option('display.precision', 4)\n",
        "np.set_printoptions(precision=4, suppress=True)\n",
        "\n",
        "def print_tree_results(X, y, feature_name, classifier):\n",
        "    print(f\"\\nDecision Tree based on {feature_name}:\")\n",
        "    \n",
        "    # Get the text representation of the tree\n",
        "    tree_text = export_text(classifier, feature_names=list(X.columns))\n",
        "    \n",
        "    # Replace default labels with more readable ones\n",
        "    # Replace default labels with more readable ones\n",
        "    replacements = {\n",
        "        'gender_M <= 0.50': 'gender=F',\n",
        "        'gender_M >  0.50': 'gender=M',\n",
        "        'age_Young <= 0.50': 'age=Adult',\n",
        "        'age_Young >  0.50': 'age=Young',\n",
        "        'M <= 0.50': 'gender=F',\n",
        "        'M >  0.50': 'gender=M',\n",
        "        'Young <= 0.50': 'age=Adult',\n",
        "        'Young >  0.50': 'age=Young'\n",
        "    }\n",
        "    \n",
        "    for old, new in replacements.items():\n",
        "        tree_text = tree_text.replace(old, new)\n",
        "    \n",
        "    print(tree_text)\n",
        "\n",
        "    # Create a DataFrame with actual and predicted values\n",
        "    results = pd.DataFrame({\n",
        "        'Actual': y,\n",
        "        'Predicted': classifier.predict(X)\n",
        "    })\n",
        "    print(\"Actual vs Predicted:\")\n",
        "    print(results)\n",
        "\n",
        "    print(f\"Accuracy: {accuracy_score(y, classifier.predict(X)):.2f}\")"
      ],
      "id": "2d448f2b"
    },
    {
      "cell_type": "markdown",
      "metadata": {},
      "source": [
        "## Building a Decision Tree"
      ],
      "id": "55239afc-a833-48ae-9f55-1e13fef0ab18"
    },
    {
      "cell_type": "code",
      "execution_count": null,
      "metadata": {},
      "outputs": [],
      "source": [
        "url = \"https://docs.google.com/spreadsheets/d/e/2PACX-1vTFmRX4RW3PitgcJya0X2sRbSiD0J2t0oYewyhkkyWwR9i8NIaHiuQKrBtLlrwG9fzn4MvNOM92olnK/pub?gid=0&single=true&output=csv\"\n",
        "df = pd.read_csv(url)"
      ],
      "id": "f54d3e4b"
    },
    {
      "cell_type": "markdown",
      "metadata": {},
      "source": [
        "Here is the original data"
      ],
      "id": "63a06858-c172-4435-b80b-c2edf81ee0b8"
    },
    {
      "cell_type": "code",
      "execution_count": null,
      "metadata": {},
      "outputs": [],
      "source": [
        "print(df)"
      ],
      "id": "a855762b"
    },
    {
      "cell_type": "markdown",
      "metadata": {},
      "source": [
        "Let’s sort it by gender:"
      ],
      "id": "3bf62452-9e01-4b95-b6be-f2f047deedab"
    },
    {
      "cell_type": "code",
      "execution_count": null,
      "metadata": {},
      "outputs": [],
      "source": [
        "print(df.sort_values('gender'))"
      ],
      "id": "217892ff"
    },
    {
      "cell_type": "markdown",
      "metadata": {},
      "source": [
        "So if we split on gender here is what we would get:"
      ],
      "id": "06100004-d56b-4492-9956-72d72a0d008a"
    },
    {
      "cell_type": "code",
      "execution_count": null,
      "metadata": {},
      "outputs": [],
      "source": [
        "X = pd.get_dummies(df['gender'], drop_first=True)\n",
        "y = df['product']\n",
        "\n",
        "classifier = DecisionTreeClassifier()\n",
        "classifier.fit(X, y)\n",
        "\n",
        "print_tree_results(X, y, \"Gender\", classifier)"
      ],
      "id": "6d10dc70"
    },
    {
      "cell_type": "markdown",
      "metadata": {},
      "source": [
        "The tree above makes 1 mistake out of 7.\n",
        "\n",
        "Let’s sort it by age:"
      ],
      "id": "4df8278a-bbbc-4ac5-a60c-ce21ea0ba147"
    },
    {
      "cell_type": "code",
      "execution_count": null,
      "metadata": {},
      "outputs": [],
      "source": [
        "print(df.sort_values('age'))"
      ],
      "id": "c289db28"
    },
    {
      "cell_type": "code",
      "execution_count": null,
      "metadata": {},
      "outputs": [],
      "source": [
        "# Encode 'age' column\n",
        "X = pd.get_dummies(df['age'], drop_first=True)\n",
        "y = df['product']\n",
        "\n",
        "classifier = DecisionTreeClassifier()\n",
        "classifier.fit(X, y)\n",
        "\n",
        "print_tree_results(X, y, \"Age\", classifier)"
      ],
      "id": "d8b36181"
    },
    {
      "cell_type": "markdown",
      "metadata": {},
      "source": [
        "The tree above makes 2 mistakes out of 7."
      ],
      "id": "e32baec6-d494-4422-821d-695b65bd54b5"
    },
    {
      "cell_type": "code",
      "execution_count": null,
      "metadata": {},
      "outputs": [],
      "source": [
        "# Encode both 'age' and 'gender' columns\n",
        "X = pd.get_dummies(df[['age', 'gender']], drop_first=True)\n",
        "y = df['product']\n",
        "\n",
        "classifier = DecisionTreeClassifier()\n",
        "classifier.fit(X, y)\n",
        "\n",
        "print_tree_results(X, y, \"Age and Gender\", classifier)"
      ],
      "id": "24bbf036"
    }
  ],
  "nbformat": 4,
  "nbformat_minor": 5,
  "metadata": {
    "kernelspec": {
      "name": "python3",
      "display_name": "Python 3 (ipykernel)",
      "language": "python"
    }
  }
}
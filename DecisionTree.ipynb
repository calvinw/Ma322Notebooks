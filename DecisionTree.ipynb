{
  "cells": [
    {
      "cell_type": "markdown",
      "metadata": {},
      "source": [
        "# Decision Trees"
      ],
      "id": "a224ba14-1d6e-4d24-8ca5-a88a087b5dbc"
    },
    {
      "cell_type": "code",
      "execution_count": null,
      "metadata": {},
      "outputs": [],
      "source": [
        "import pandas as pd\n",
        "from sklearn import tree\n",
        "import matplotlib.pyplot as plt\n",
        "\n",
        "# Read data from URL\n",
        "url = \"https://docs.google.com/spreadsheets/d/e/2PACX-1vTFmRX4RW3PitgcJya0X2sRbSiD0J2t0oYewyhkkyWwR9i8NIaHiuQKrBtLlrwG9fzn4MvNOM92olnK/pub?gid=0&single=true&output=csv\"\n",
        "df = pd.read_csv(url)"
      ],
      "id": "8bd1acb0"
    },
    {
      "cell_type": "markdown",
      "metadata": {},
      "source": [
        "## Building a Decision Tree"
      ],
      "id": "9ea8decc-1340-4483-97e5-272af397d93e"
    },
    {
      "cell_type": "code",
      "execution_count": null,
      "metadata": {},
      "outputs": [],
      "source": [
        "# Print the data\n",
        "print(df)"
      ],
      "id": "3235357b"
    },
    {
      "cell_type": "markdown",
      "metadata": {},
      "source": [
        "Let’s sort it by gender:"
      ],
      "id": "dfd420d0-f069-4d77-916c-640f78eaf22d"
    },
    {
      "cell_type": "code",
      "execution_count": null,
      "metadata": {},
      "outputs": [],
      "source": [
        "print(df.sort_values('gender'))"
      ],
      "id": "6a01f2df"
    },
    {
      "cell_type": "markdown",
      "metadata": {},
      "source": [
        "So, if we split on gender, here’s what we would get:"
      ],
      "id": "88313bfc-0910-48e5-a568-6f619268a21f"
    },
    {
      "cell_type": "code",
      "execution_count": null,
      "metadata": {},
      "outputs": [],
      "source": [
        "# Create a decision tree classifier and fit it to the data\n",
        "clf = tree.DecisionTreeClassifier(max_depth=1)\n",
        "clf = clf.fit(df[['gender']], df['product'])\n",
        "\n",
        "# Visualize the decision tree\n",
        "tree.plot_tree(clf, feature_names=['gender'], class_names=['product'], filled=True)\n",
        "plt.show()"
      ],
      "id": "121a5388"
    },
    {
      "cell_type": "markdown",
      "metadata": {},
      "source": [
        "Let’s sort it by age:"
      ],
      "id": "00b96929-9c97-419b-ab24-cc81a6f2baec"
    },
    {
      "cell_type": "code",
      "execution_count": null,
      "metadata": {},
      "outputs": [],
      "source": [
        "print(df.sort_values('age'))"
      ],
      "id": "c0fff65a"
    },
    {
      "cell_type": "code",
      "execution_count": null,
      "metadata": {},
      "outputs": [],
      "source": [
        "# Create a decision tree classifier and fit it to the data\n",
        "clf = tree.DecisionTreeClassifier(max_depth=1)\n",
        "clf = clf.fit(df[['age']], df['product'])\n",
        "\n",
        "# Visualize the decision tree\n",
        "tree.plot_tree(clf, feature_names=['age'], class_names=['product'], filled=True)\n",
        "plt.show()"
      ],
      "id": "37b919c3"
    },
    {
      "cell_type": "code",
      "execution_count": null,
      "metadata": {},
      "outputs": [],
      "source": [
        "# Create a decision tree classifier and fit it to the data\n",
        "clf = tree.DecisionTreeClassifier(max_depth=3)\n",
        "clf = clf.fit(df[['age', 'gender']], df['product'])\n",
        "\n",
        "# Visualize the decision tree\n",
        "tree.plot_tree(clf, feature_names=['age', 'gender'], class_names=['product'], filled=True)\n",
        "plt.show()"
      ],
      "id": "ee8ec228"
    },
    {
      "cell_type": "code",
      "execution_count": null,
      "metadata": {},
      "outputs": [],
      "source": [
        "pred = clf.predict(testdf)\n",
        "print(pred)"
      ],
      "id": "0d02c0db"
    },
    {
      "cell_type": "markdown",
      "metadata": {},
      "source": [
        "Note that in this Python version, I’ve used the scikit-learn library for\n",
        "building and visualizing the decision trees. The\n",
        "`tree.DecisionTreeClassifier` class is used to create the decision tree\n",
        "classifier, and the `tree.plot_tree` function is used to visualize the\n",
        "decision tree.\n",
        "\n",
        "Also, note that the last code block for making predictions on a test\n",
        "dataset is commented out, as we don’t have a `testdf` defined in this\n",
        "example."
      ],
      "id": "bfc32c92-2e7c-4dde-9996-677e0a1bde21"
    }
  ],
  "nbformat": 4,
  "nbformat_minor": 5,
  "metadata": {
    "kernelspec": {
      "name": "python3",
      "display_name": "Python 3 (ipykernel)",
      "language": "python"
    }
  }
}
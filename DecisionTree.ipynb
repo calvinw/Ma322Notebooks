{
  "cells": [
    {
      "cell_type": "markdown",
      "metadata": {},
      "source": [
        "# Decision Trees"
      ],
      "id": "8872cfd3-2173-41b3-9796-9eea3ce0d414"
    },
    {
      "cell_type": "code",
      "execution_count": null,
      "metadata": {},
      "outputs": [],
      "source": [
        "import pandas as pd\n",
        "from sklearn import tree\n",
        "import matplotlib.pyplot as plt\n",
        "\n",
        "# Read data from URL\n",
        "url = \"https://docs.google.com/spreadsheets/d/e/2PACX-1vTFmRX4RW3PitgcJya0X2sRbSiD0J2t0oYewyhkkyWwR9i8NIaHiuQKrBtLlrwG9fzn4MvNOM92olnK/pub?gid=0&single=true&output=csv\"\n",
        "df = pd.read_csv(url)"
      ],
      "id": "3dc54289"
    },
    {
      "cell_type": "markdown",
      "metadata": {},
      "source": [
        "## Building a Decision Tree"
      ],
      "id": "633d3107-3bc5-4d9b-b846-acfc4c2c3c27"
    },
    {
      "cell_type": "code",
      "execution_count": null,
      "metadata": {},
      "outputs": [],
      "source": [
        "# Print the data\n",
        "print(df)"
      ],
      "id": "6e7b74fd"
    },
    {
      "cell_type": "markdown",
      "metadata": {},
      "source": [
        "Let’s sort it by gender:"
      ],
      "id": "6db8ec24-22b6-4be7-a7c9-c71a1054f6cb"
    },
    {
      "cell_type": "code",
      "execution_count": null,
      "metadata": {},
      "outputs": [],
      "source": [
        "print(df.sort_values('gender'))"
      ],
      "id": "52b85034"
    },
    {
      "cell_type": "markdown",
      "metadata": {},
      "source": [
        "So, if we split on gender, here’s what we would get:"
      ],
      "id": "367377ee-2572-4021-af7b-73a75f4264d4"
    },
    {
      "cell_type": "code",
      "execution_count": null,
      "metadata": {},
      "outputs": [],
      "source": [
        "# Create a decision tree classifier and fit it to the data\n",
        "clf = tree.DecisionTreeClassifier(max_depth=1)\n",
        "clf = clf.fit(df[['gender']], df['product'])\n",
        "\n",
        "# Visualize the decision tree\n",
        "tree.plot_tree(clf, feature_names=['gender'], class_names=['product'], filled=True)\n",
        "plt.show()"
      ],
      "id": "a18027c7"
    },
    {
      "cell_type": "markdown",
      "metadata": {},
      "source": [
        "Let’s sort it by age:"
      ],
      "id": "ded24660-56db-4567-bf14-35d989b4f8c5"
    },
    {
      "cell_type": "code",
      "execution_count": null,
      "metadata": {},
      "outputs": [],
      "source": [
        "print(df.sort_values('age'))"
      ],
      "id": "24762144"
    },
    {
      "cell_type": "code",
      "execution_count": null,
      "metadata": {},
      "outputs": [],
      "source": [
        "# Create a decision tree classifier and fit it to the data\n",
        "clf = tree.DecisionTreeClassifier(max_depth=1)\n",
        "clf = clf.fit(df[['age']], df['product'])\n",
        "\n",
        "# Visualize the decision tree\n",
        "tree.plot_tree(clf, feature_names=['age'], class_names=['product'], filled=True)\n",
        "plt.show()"
      ],
      "id": "68903c86"
    },
    {
      "cell_type": "code",
      "execution_count": null,
      "metadata": {},
      "outputs": [],
      "source": [
        "# Create a decision tree classifier and fit it to the data\n",
        "clf = tree.DecisionTreeClassifier(max_depth=3)\n",
        "clf = clf.fit(df[['age', 'gender']], df['product'])\n",
        "\n",
        "# Visualize the decision tree\n",
        "tree.plot_tree(clf, feature_names=['age', 'gender'], class_names=['product'], filled=True)\n",
        "plt.show()"
      ],
      "id": "4a2d45d5"
    },
    {
      "cell_type": "code",
      "execution_count": null,
      "metadata": {},
      "outputs": [],
      "source": [
        "pred = clf.predict(testdf)\n",
        "print(pred)"
      ],
      "id": "d4309e7e"
    },
    {
      "cell_type": "markdown",
      "metadata": {},
      "source": [
        "Note that in this Python version, I’ve used the scikit-learn library for\n",
        "building and visualizing the decision trees. The\n",
        "`tree.DecisionTreeClassifier` class is used to create the decision tree\n",
        "classifier, and the `tree.plot_tree` function is used to visualize the\n",
        "decision tree.\n",
        "\n",
        "Also, note that the last code block for making predictions on a test\n",
        "dataset is commented out, as we don’t have a `testdf` defined in this\n",
        "example."
      ],
      "id": "dc980ab2-a850-413c-8da7-dca8bf279283"
    }
  ],
  "nbformat": 4,
  "nbformat_minor": 5,
  "metadata": {
    "kernelspec": {
      "name": "python3",
      "display_name": "Python 3 (ipykernel)",
      "language": "python"
    }
  }
}
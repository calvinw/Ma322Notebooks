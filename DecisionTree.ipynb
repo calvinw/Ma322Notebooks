{
  "cells": [
    {
      "cell_type": "markdown",
      "metadata": {},
      "source": [
        "Sure, here's the Quarto file using Python instead of R:\n",
        "\n",
        "```yaml\n",
        "---\n",
        "title: \"Decision Trees\"\n",
        "jupyter: python3\n",
        "---"
      ],
      "id": "e14bb497"
    },
    {
      "cell_type": "code",
      "metadata": {},
      "source": [
        "import pandas as pd\n",
        "from sklearn import tree\n",
        "import matplotlib.pyplot as plt\n",
        "\n",
        "# Read data from URL\n",
        "url = \"https://docs.google.com/spreadsheets/d/e/2PACX-1vTFmRX4RW3PitgcJya0X2sRbSiD0J2t0oYewyhkkyWwR9i8NIaHiuQKrBtLlrwG9fzn4MvNOM92olnK/pub?gid=0&single=true&output=csv\"\n",
        "df = pd.read_csv(url)"
      ],
      "id": "6d521e8c",
      "execution_count": null,
      "outputs": []
    },
    {
      "cell_type": "markdown",
      "metadata": {},
      "source": [
        "## Building a Decision Tree\n"
      ],
      "id": "3791be33"
    },
    {
      "cell_type": "code",
      "metadata": {},
      "source": [
        "# Print the data\n",
        "print(df)"
      ],
      "id": "06f5f60d",
      "execution_count": null,
      "outputs": []
    },
    {
      "cell_type": "markdown",
      "metadata": {},
      "source": [
        "Let's sort it by gender:\n"
      ],
      "id": "93765e19"
    },
    {
      "cell_type": "code",
      "metadata": {},
      "source": [
        "print(df.sort_values('gender'))"
      ],
      "id": "799c4d84",
      "execution_count": null,
      "outputs": []
    },
    {
      "cell_type": "markdown",
      "metadata": {},
      "source": [
        "So, if we split on gender, here's what we would get:\n"
      ],
      "id": "d6c97ac4"
    },
    {
      "cell_type": "code",
      "metadata": {},
      "source": [
        "# Create a decision tree classifier and fit it to the data\n",
        "clf = tree.DecisionTreeClassifier(max_depth=1)\n",
        "clf = clf.fit(df[['gender']], df['product'])\n",
        "\n",
        "# Visualize the decision tree\n",
        "tree.plot_tree(clf, feature_names=['gender'], class_names=['product'], filled=True)\n",
        "plt.show()"
      ],
      "id": "3226481f",
      "execution_count": null,
      "outputs": []
    },
    {
      "cell_type": "markdown",
      "metadata": {},
      "source": [
        "Let's sort it by age:\n"
      ],
      "id": "4b04b1d8"
    },
    {
      "cell_type": "code",
      "metadata": {},
      "source": [
        "print(df.sort_values('age'))"
      ],
      "id": "9c81d9fa",
      "execution_count": null,
      "outputs": []
    },
    {
      "cell_type": "code",
      "metadata": {},
      "source": [
        "# Create a decision tree classifier and fit it to the data\n",
        "clf = tree.DecisionTreeClassifier(max_depth=1)\n",
        "clf = clf.fit(df[['age']], df['product'])\n",
        "\n",
        "# Visualize the decision tree\n",
        "tree.plot_tree(clf, feature_names=['age'], class_names=['product'], filled=True)\n",
        "plt.show()"
      ],
      "id": "f8517af4",
      "execution_count": null,
      "outputs": []
    },
    {
      "cell_type": "code",
      "metadata": {},
      "source": [
        "# Create a decision tree classifier and fit it to the data\n",
        "clf = tree.DecisionTreeClassifier(max_depth=3)\n",
        "clf = clf.fit(df[['age', 'gender']], df['product'])\n",
        "\n",
        "# Visualize the decision tree\n",
        "tree.plot_tree(clf, feature_names=['age', 'gender'], class_names=['product'], filled=True)\n",
        "plt.show()"
      ],
      "id": "95830cf7",
      "execution_count": null,
      "outputs": []
    },
    {
      "cell_type": "code",
      "metadata": {},
      "source": [
        "# pred = clf.predict(testdf)\n",
        "# print(pred)"
      ],
      "id": "75407345",
      "execution_count": null,
      "outputs": []
    },
    {
      "cell_type": "markdown",
      "metadata": {},
      "source": [
        "Note that in this Python version, I've used the scikit-learn library for building and visualizing the decision trees. The `tree.DecisionTreeClassifier` class is used to create the decision tree classifier, and the `tree.plot_tree` function is used to visualize the decision tree.\n",
        "\n",
        "Also, note that the last code block for making predictions on a test dataset is commented out, as we don't have a `testdf` defined in this example."
      ],
      "id": "cb1b24ca"
    }
  ],
  "metadata": {
    "kernelspec": {
      "name": "python3",
      "language": "python",
      "display_name": "Python 3 (ipykernel)"
    }
  },
  "nbformat": 4,
  "nbformat_minor": 5
}
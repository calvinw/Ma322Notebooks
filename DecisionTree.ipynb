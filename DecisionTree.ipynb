{
  "cells": [
    {
      "cell_type": "markdown",
      "metadata": {},
      "source": [
        "# Decision Trees"
      ],
      "id": "8fd6e9dd-4f65-4e1b-802a-13f41b4f116c"
    },
    {
      "cell_type": "code",
      "execution_count": null,
      "metadata": {},
      "outputs": [],
      "source": [
        "import pandas as pd\n",
        "from sklearn import tree\n",
        "import matplotlib.pyplot as plt\n",
        "\n",
        "# Read data from URL\n",
        "url = \"https://docs.google.com/spreadsheets/d/e/2PACX-1vTFmRX4RW3PitgcJya0X2sRbSiD0J2t0oYewyhkkyWwR9i8NIaHiuQKrBtLlrwG9fzn4MvNOM92olnK/pub?gid=0&single=true&output=csv\"\n",
        "df = pd.read_csv(url)"
      ],
      "id": "923c8409"
    },
    {
      "cell_type": "markdown",
      "metadata": {},
      "source": [
        "## Building a Decision Tree"
      ],
      "id": "dfe08a48-1616-4f45-8b6d-8afc4763fe04"
    },
    {
      "cell_type": "code",
      "execution_count": null,
      "metadata": {},
      "outputs": [],
      "source": [
        "# Print the data\n",
        "print(df)"
      ],
      "id": "ec86b17e"
    },
    {
      "cell_type": "markdown",
      "metadata": {},
      "source": [
        "Let’s sort it by gender:"
      ],
      "id": "db7feed1-8bee-407b-adc4-dd1f6cb5712a"
    },
    {
      "cell_type": "code",
      "execution_count": null,
      "metadata": {},
      "outputs": [],
      "source": [
        "print(df.sort_values('gender'))"
      ],
      "id": "3919437d"
    },
    {
      "cell_type": "markdown",
      "metadata": {},
      "source": [
        "So, if we split on gender, here’s what we would get:"
      ],
      "id": "9db24d56-5c09-494f-bc72-8fe60d7997af"
    },
    {
      "cell_type": "code",
      "execution_count": null,
      "metadata": {},
      "outputs": [],
      "source": [
        "# Create a decision tree classifier and fit it to the data\n",
        "clf = tree.DecisionTreeClassifier(max_depth=1)\n",
        "clf = clf.fit(df[['gender']], df['product'])\n",
        "\n",
        "# Visualize the decision tree\n",
        "tree.plot_tree(clf, feature_names=['gender'], class_names=['product'], filled=True)\n",
        "plt.show()"
      ],
      "id": "db69e694"
    },
    {
      "cell_type": "markdown",
      "metadata": {},
      "source": [
        "Let’s sort it by age:"
      ],
      "id": "2350c4c3-d151-4382-8193-1df647392243"
    },
    {
      "cell_type": "code",
      "execution_count": null,
      "metadata": {},
      "outputs": [],
      "source": [
        "print(df.sort_values('age'))"
      ],
      "id": "e2b56fd4"
    },
    {
      "cell_type": "code",
      "execution_count": null,
      "metadata": {},
      "outputs": [],
      "source": [
        "# Create a decision tree classifier and fit it to the data\n",
        "clf = tree.DecisionTreeClassifier(max_depth=1)\n",
        "clf = clf.fit(df[['age']], df['product'])\n",
        "\n",
        "# Visualize the decision tree\n",
        "tree.plot_tree(clf, feature_names=['age'], class_names=['product'], filled=True)\n",
        "plt.show()"
      ],
      "id": "f664fb89"
    },
    {
      "cell_type": "code",
      "execution_count": null,
      "metadata": {},
      "outputs": [],
      "source": [
        "# Create a decision tree classifier and fit it to the data\n",
        "clf = tree.DecisionTreeClassifier(max_depth=3)\n",
        "clf = clf.fit(df[['age', 'gender']], df['product'])\n",
        "\n",
        "# Visualize the decision tree\n",
        "tree.plot_tree(clf, feature_names=['age', 'gender'], class_names=['product'], filled=True)\n",
        "plt.show()"
      ],
      "id": "50cd6587"
    },
    {
      "cell_type": "code",
      "execution_count": null,
      "metadata": {},
      "outputs": [],
      "source": [
        "pred = clf.predict(testdf)\n",
        "print(pred)"
      ],
      "id": "bfd6f214"
    },
    {
      "cell_type": "markdown",
      "metadata": {},
      "source": [
        "Note that in this Python version, I’ve used the scikit-learn library for\n",
        "building and visualizing the decision trees. The\n",
        "`tree.DecisionTreeClassifier` class is used to create the decision tree\n",
        "classifier, and the `tree.plot_tree` function is used to visualize the\n",
        "decision tree.\n",
        "\n",
        "Also, note that the last code block for making predictions on a test\n",
        "dataset is commented out, as we don’t have a `testdf` defined in this\n",
        "example."
      ],
      "id": "d086025c-cace-4c83-b9e3-fe1bd8ddeba4"
    }
  ],
  "nbformat": 4,
  "nbformat_minor": 5,
  "metadata": {
    "kernelspec": {
      "name": "python3",
      "display_name": "Python 3 (ipykernel)",
      "language": "python"
    }
  }
}
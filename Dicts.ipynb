{
  "cells": [
    {
      "cell_type": "markdown",
      "metadata": {},
      "source": [
        "# Introduction to Dictionaries in Python\n",
        "\n",
        "In Python, a dictionary (often abbreviated as “dict”) is an unordered\n",
        "collection of key-value pairs. Dictionaries are mutable, meaning their\n",
        "contents can be changed after creation. They are extensively used in\n",
        "Python for storing and retrieving data in a structured and efficient\n",
        "way.\n",
        "\n",
        "## Creating a Dictionary\n",
        "\n",
        "A dictionary is created by enclosing a comma-separated list of key-value\n",
        "pairs within curly braces `{}`. The key and value are separated by a\n",
        "colon `:`"
      ],
      "id": "6c8f4717-6735-444c-90ee-bcd8f4373d08"
    },
    {
      "cell_type": "code",
      "execution_count": null,
      "metadata": {},
      "outputs": [],
      "source": [
        "# Empty dictionary\n",
        "empty_dict = {}\n",
        "\n",
        "# Dictionary with key-value pairs\n",
        "person = {'name': 'Alice', 'age': 25, 'city': 'New York'}\n",
        "print(person)  # Output: {'name': 'Alice', 'age': 25, 'city': 'New York'}"
      ],
      "id": "c516c591"
    },
    {
      "cell_type": "markdown",
      "metadata": {},
      "source": [
        "## Accessing Values\n",
        "\n",
        "You can access the values in a dictionary using their corresponding\n",
        "keys."
      ],
      "id": "8c738793-3db2-4c8e-a6c4-a8dc793975bb"
    },
    {
      "cell_type": "code",
      "execution_count": null,
      "metadata": {},
      "outputs": [],
      "source": [
        "person = {'name': 'Alice', 'age': 25, 'city': 'New York'}\n",
        "\n",
        "# Accessing values by key\n",
        "print(person['name'])    # Output: 'Alice'\n",
        "print(person['age'])     # Output: 25"
      ],
      "id": "51f7d521"
    },
    {
      "cell_type": "markdown",
      "metadata": {},
      "source": [
        "## Adding and Modifying Values\n",
        "\n",
        "You can add new key-value pairs or modify existing ones by assigning a\n",
        "value to the key."
      ],
      "id": "5d05e721-9ec6-4445-bfa7-a8419ea4f420"
    },
    {
      "cell_type": "code",
      "execution_count": null,
      "metadata": {},
      "outputs": [],
      "source": [
        "person = {'name': 'Alice', 'age': 25}\n",
        "\n",
        "# Adding a new key-value pair\n",
        "person['city'] = 'New York'\n",
        "print(person)  # Output: {'name': 'Alice', 'age': 25, 'city': 'New York'}\n",
        "\n",
        "# Modifying an existing value\n",
        "person['age'] = 26\n",
        "print(person)  # Output: {'name': 'Alice', 'age': 26, 'city': 'New York'}"
      ],
      "id": "442cfb96"
    },
    {
      "cell_type": "markdown",
      "metadata": {},
      "source": [
        "## Checking for Keys\n",
        "\n",
        "You can check if a key exists in a dictionary using the `in` operator."
      ],
      "id": "9dfe0b76-bc0a-4356-97e7-f17e7f5ceaae"
    },
    {
      "cell_type": "code",
      "execution_count": null,
      "metadata": {},
      "outputs": [],
      "source": [
        "person = {'name': 'Alice', 'age': 25, 'city': 'New York'}\n",
        "\n",
        "print('name' in person)    # Output: True\n",
        "print('email' in person)   # Output: False"
      ],
      "id": "3a6a7ab6"
    },
    {
      "cell_type": "markdown",
      "metadata": {},
      "source": [
        "## Iterating over a Dictionary\n",
        "\n",
        "You can iterate over the keys, values, or key-value pairs of a\n",
        "dictionary using various methods."
      ],
      "id": "f13349d1-9fb7-49bd-8eb4-19a90e8a5b76"
    },
    {
      "cell_type": "code",
      "execution_count": null,
      "metadata": {},
      "outputs": [],
      "source": [
        "person = {'name': 'Alice', 'age': 25, 'city': 'New York'}\n",
        "\n",
        "# Iterating over keys\n",
        "for key in person.keys():\n",
        "    print(key)\n",
        "\n",
        "# Iterating over values\n",
        "for value in person.values():\n",
        "    print(value)\n",
        "\n",
        "# Iterating over key-value pairs\n",
        "for key, value in person.items():\n",
        "    print(f\"{key}: {value}\")"
      ],
      "id": "828fc4da"
    },
    {
      "cell_type": "markdown",
      "metadata": {},
      "source": [
        "Dictionaries are versatile data structures in Python, widely used for\n",
        "storing and retrieving data in a key-value format. They provide\n",
        "efficient lookup and insertion operations, making them useful in many\n",
        "programming scenarios."
      ],
      "id": "0f185c07-81d9-44e4-abe8-3ca379db35bb"
    }
  ],
  "nbformat": 4,
  "nbformat_minor": 5,
  "metadata": {
    "kernelspec": {
      "name": "python3",
      "display_name": "Python 3 (ipykernel)",
      "language": "python"
    }
  }
}
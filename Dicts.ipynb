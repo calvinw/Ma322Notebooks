{
  "cells": [
    {
      "cell_type": "markdown",
      "metadata": {},
      "source": [
        "# Introduction to Dictionaries in Python\n",
        "\n",
        "In Python, a dictionary (often abbreviated as “dict”) is an unordered\n",
        "collection of key-value pairs. Dictionaries are mutable, meaning their\n",
        "contents can be changed after creation. They are extensively used in\n",
        "Python for storing and retrieving data in a structured and efficient\n",
        "way.\n",
        "\n",
        "## Creating a Dictionary\n",
        "\n",
        "A dictionary is created by enclosing a comma-separated list of key-value\n",
        "pairs within curly braces `{}`. The key and value are separated by a\n",
        "colon `:`"
      ],
      "id": "8a073e34-89b1-48f3-a5a0-445ddfe0f949"
    },
    {
      "cell_type": "code",
      "execution_count": null,
      "metadata": {},
      "outputs": [],
      "source": [
        "# Empty dictionary\n",
        "empty_dict = {}\n",
        "\n",
        "# Dictionary with key-value pairs\n",
        "person = {'name': 'Alice', 'age': 25, 'city': 'New York'}\n",
        "print(person)  # Output: {'name': 'Alice', 'age': 25, 'city': 'New York'}"
      ],
      "id": "3fe43bd0"
    },
    {
      "cell_type": "markdown",
      "metadata": {},
      "source": [
        "## Accessing Values\n",
        "\n",
        "You can access the values in a dictionary using their corresponding\n",
        "keys."
      ],
      "id": "97a791ad-d911-48ea-af2f-efaf46ab5dba"
    },
    {
      "cell_type": "code",
      "execution_count": null,
      "metadata": {},
      "outputs": [],
      "source": [
        "person = {'name': 'Alice', 'age': 25, 'city': 'New York'}\n",
        "\n",
        "# Accessing values by key\n",
        "print(person['name'])    # Output: 'Alice'\n",
        "print(person['age'])     # Output: 25"
      ],
      "id": "50228303"
    },
    {
      "cell_type": "markdown",
      "metadata": {},
      "source": [
        "## Adding and Modifying Values\n",
        "\n",
        "You can add new key-value pairs or modify existing ones by assigning a\n",
        "value to the key."
      ],
      "id": "dcf760eb-136f-4b07-839c-7e63e43f88e3"
    },
    {
      "cell_type": "code",
      "execution_count": null,
      "metadata": {},
      "outputs": [],
      "source": [
        "person = {'name': 'Alice', 'age': 25}\n",
        "\n",
        "# Adding a new key-value pair\n",
        "person['city'] = 'New York'\n",
        "print(person)  # Output: {'name': 'Alice', 'age': 25, 'city': 'New York'}\n",
        "\n",
        "# Modifying an existing value\n",
        "person['age'] = 26\n",
        "print(person)  # Output: {'name': 'Alice', 'age': 26, 'city': 'New York'}"
      ],
      "id": "05312de4"
    },
    {
      "cell_type": "markdown",
      "metadata": {},
      "source": [
        "## Checking for Keys\n",
        "\n",
        "You can check if a key exists in a dictionary using the `in` operator."
      ],
      "id": "3bd4c931-cab7-4ced-8c1b-0cc1380777f4"
    },
    {
      "cell_type": "code",
      "execution_count": null,
      "metadata": {},
      "outputs": [],
      "source": [
        "person = {'name': 'Alice', 'age': 25, 'city': 'New York'}\n",
        "\n",
        "print('name' in person)    # Output: True\n",
        "print('email' in person)   # Output: False"
      ],
      "id": "a7643a57"
    },
    {
      "cell_type": "markdown",
      "metadata": {},
      "source": [
        "## Iterating over a Dictionary\n",
        "\n",
        "You can iterate over the keys, values, or key-value pairs of a\n",
        "dictionary using various methods."
      ],
      "id": "3d1e47db-3a00-4422-9502-7b436246f02d"
    },
    {
      "cell_type": "code",
      "execution_count": null,
      "metadata": {},
      "outputs": [],
      "source": [
        "person = {'name': 'Alice', 'age': 25, 'city': 'New York'}\n",
        "\n",
        "# Iterating over keys\n",
        "for key in person.keys():\n",
        "    print(key)\n",
        "\n",
        "# Iterating over values\n",
        "for value in person.values():\n",
        "    print(value)\n",
        "\n",
        "# Iterating over key-value pairs\n",
        "for key, value in person.items():\n",
        "    print(f\"{key}: {value}\")"
      ],
      "id": "c21eb416"
    },
    {
      "cell_type": "markdown",
      "metadata": {},
      "source": [
        "Dictionaries are versatile data structures in Python, widely used for\n",
        "storing and retrieving data in a key-value format. They provide\n",
        "efficient lookup and insertion operations, making them useful in many\n",
        "programming scenarios."
      ],
      "id": "2142295a-50cb-4f0d-99ba-6d4819b4feea"
    }
  ],
  "nbformat": 4,
  "nbformat_minor": 5,
  "metadata": {
    "kernelspec": {
      "name": "python3",
      "display_name": "Python 3 (ipykernel)",
      "language": "python"
    }
  }
}
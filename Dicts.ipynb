{
  "cells": [
    {
      "cell_type": "markdown",
      "metadata": {},
      "source": [
        "# Introduction to Dictionaries in Python\n",
        "\n",
        "In Python, a dictionary (often abbreviated as “dict”) is an unordered\n",
        "collection of key-value pairs. Dictionaries are mutable, meaning their\n",
        "contents can be changed after creation. They are extensively used in\n",
        "Python for storing and retrieving data in a structured and efficient\n",
        "way.\n",
        "\n",
        "## Creating a Dictionary\n",
        "\n",
        "A dictionary is created by enclosing a comma-separated list of key-value\n",
        "pairs within curly braces `{}`. The key and value are separated by a\n",
        "colon `:`"
      ],
      "id": "6cea5edb-c63c-4911-89e0-783d2f80ae6b"
    },
    {
      "cell_type": "code",
      "execution_count": null,
      "metadata": {},
      "outputs": [],
      "source": [
        "# Empty dictionary\n",
        "empty_dict = {}\n",
        "\n",
        "# Dictionary with key-value pairs\n",
        "person = {'name': 'Alice', 'age': 25, 'city': 'New York'}\n",
        "print(person)  # Output: {'name': 'Alice', 'age': 25, 'city': 'New York'}"
      ],
      "id": "3fecfa90"
    },
    {
      "cell_type": "markdown",
      "metadata": {},
      "source": [
        "## Accessing Values\n",
        "\n",
        "You can access the values in a dictionary using their corresponding\n",
        "keys."
      ],
      "id": "3611669b-3d66-420c-9f49-96f7f98c0b5f"
    },
    {
      "cell_type": "code",
      "execution_count": null,
      "metadata": {},
      "outputs": [],
      "source": [
        "person = {'name': 'Alice', 'age': 25, 'city': 'New York'}\n",
        "\n",
        "# Accessing values by key\n",
        "print(person['name'])    # Output: 'Alice'\n",
        "print(person['age'])     # Output: 25"
      ],
      "id": "7620eb27"
    },
    {
      "cell_type": "markdown",
      "metadata": {},
      "source": [
        "## Adding and Modifying Values\n",
        "\n",
        "You can add new key-value pairs or modify existing ones by assigning a\n",
        "value to the key."
      ],
      "id": "9fb7c5c2-090e-4d29-83dd-3f47f5896418"
    },
    {
      "cell_type": "code",
      "execution_count": null,
      "metadata": {},
      "outputs": [],
      "source": [
        "person = {'name': 'Alice', 'age': 25}\n",
        "\n",
        "# Adding a new key-value pair\n",
        "person['city'] = 'New York'\n",
        "print(person)  # Output: {'name': 'Alice', 'age': 25, 'city': 'New York'}\n",
        "\n",
        "# Modifying an existing value\n",
        "person['age'] = 26\n",
        "print(person)  # Output: {'name': 'Alice', 'age': 26, 'city': 'New York'}"
      ],
      "id": "f0ecef5f"
    },
    {
      "cell_type": "markdown",
      "metadata": {},
      "source": [
        "## Checking for Keys\n",
        "\n",
        "You can check if a key exists in a dictionary using the `in` operator."
      ],
      "id": "cc256e4c-b28c-4f3f-9823-42f4df531099"
    },
    {
      "cell_type": "code",
      "execution_count": null,
      "metadata": {},
      "outputs": [],
      "source": [
        "person = {'name': 'Alice', 'age': 25, 'city': 'New York'}\n",
        "\n",
        "print('name' in person)    # Output: True\n",
        "print('email' in person)   # Output: False"
      ],
      "id": "3a1be223"
    },
    {
      "cell_type": "markdown",
      "metadata": {},
      "source": [
        "## Iterating over a Dictionary\n",
        "\n",
        "You can iterate over the keys, values, or key-value pairs of a\n",
        "dictionary using various methods."
      ],
      "id": "ffd9e9ac-8f0e-467d-a63e-877d79595554"
    },
    {
      "cell_type": "code",
      "execution_count": null,
      "metadata": {},
      "outputs": [],
      "source": [
        "person = {'name': 'Alice', 'age': 25, 'city': 'New York'}\n",
        "\n",
        "# Iterating over keys\n",
        "for key in person.keys():\n",
        "    print(key)\n",
        "\n",
        "# Iterating over values\n",
        "for value in person.values():\n",
        "    print(value)\n",
        "\n",
        "# Iterating over key-value pairs\n",
        "for key, value in person.items():\n",
        "    print(f\"{key}: {value}\")"
      ],
      "id": "6388aa9a"
    },
    {
      "cell_type": "markdown",
      "metadata": {},
      "source": [
        "Dictionaries are versatile data structures in Python, widely used for\n",
        "storing and retrieving data in a key-value format. They provide\n",
        "efficient lookup and insertion operations, making them useful in many\n",
        "programming scenarios."
      ],
      "id": "3764def2-d4b0-49a9-a4b8-1b2b25e6b4db"
    }
  ],
  "nbformat": 4,
  "nbformat_minor": 5,
  "metadata": {
    "kernelspec": {
      "name": "python3",
      "display_name": "Python 3 (ipykernel)",
      "language": "python"
    }
  }
}
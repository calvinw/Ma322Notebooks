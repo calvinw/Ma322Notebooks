{
  "cells": [
    {
      "cell_type": "markdown",
      "metadata": {},
      "source": [
        "# Introduction to Dictionaries in Python\n",
        "\n",
        "In Python, a dictionary (often abbreviated as “dict”) is an unordered\n",
        "collection of key-value pairs. Dictionaries are mutable, meaning their\n",
        "contents can be changed after creation. They are extensively used in\n",
        "Python for storing and retrieving data in a structured and efficient\n",
        "way.\n",
        "\n",
        "## Creating a Dictionary\n",
        "\n",
        "A dictionary is created by enclosing a comma-separated list of key-value\n",
        "pairs within curly braces `{}`. The key and value are separated by a\n",
        "colon `:`"
      ],
      "id": "dcb39358-e9fc-4521-826a-1ead2a3d0801"
    },
    {
      "cell_type": "code",
      "execution_count": null,
      "metadata": {},
      "outputs": [],
      "source": [
        "# Empty dictionary\n",
        "empty_dict = {}\n",
        "\n",
        "# Dictionary with key-value pairs\n",
        "person = {'name': 'Alice', 'age': 25, 'city': 'New York'}\n",
        "print(person)  # Output: {'name': 'Alice', 'age': 25, 'city': 'New York'}"
      ],
      "id": "04298822"
    },
    {
      "cell_type": "markdown",
      "metadata": {},
      "source": [
        "## Accessing Values\n",
        "\n",
        "You can access the values in a dictionary using their corresponding\n",
        "keys."
      ],
      "id": "e625c9b0-d045-4bad-a91b-5add88c613ec"
    },
    {
      "cell_type": "code",
      "execution_count": null,
      "metadata": {},
      "outputs": [],
      "source": [
        "person = {'name': 'Alice', 'age': 25, 'city': 'New York'}\n",
        "\n",
        "# Accessing values by key\n",
        "print(person['name'])    # Output: 'Alice'\n",
        "print(person['age'])     # Output: 25"
      ],
      "id": "b1e65a52"
    },
    {
      "cell_type": "markdown",
      "metadata": {},
      "source": [
        "## Adding and Modifying Values\n",
        "\n",
        "You can add new key-value pairs or modify existing ones by assigning a\n",
        "value to the key."
      ],
      "id": "d06e3348-af4d-45f9-bc94-b2f4fb9cd795"
    },
    {
      "cell_type": "code",
      "execution_count": null,
      "metadata": {},
      "outputs": [],
      "source": [
        "person = {'name': 'Alice', 'age': 25}\n",
        "\n",
        "# Adding a new key-value pair\n",
        "person['city'] = 'New York'\n",
        "print(person)  # Output: {'name': 'Alice', 'age': 25, 'city': 'New York'}\n",
        "\n",
        "# Modifying an existing value\n",
        "person['age'] = 26\n",
        "print(person)  # Output: {'name': 'Alice', 'age': 26, 'city': 'New York'}"
      ],
      "id": "6aa20612"
    },
    {
      "cell_type": "markdown",
      "metadata": {},
      "source": [
        "## Checking for Keys\n",
        "\n",
        "You can check if a key exists in a dictionary using the `in` operator."
      ],
      "id": "2ef2df7a-58b3-4056-bcc1-018ed850b484"
    },
    {
      "cell_type": "code",
      "execution_count": null,
      "metadata": {},
      "outputs": [],
      "source": [
        "person = {'name': 'Alice', 'age': 25, 'city': 'New York'}\n",
        "\n",
        "print('name' in person)    # Output: True\n",
        "print('email' in person)   # Output: False"
      ],
      "id": "8431a50e"
    },
    {
      "cell_type": "markdown",
      "metadata": {},
      "source": [
        "## Iterating over a Dictionary\n",
        "\n",
        "You can iterate over the keys, values, or key-value pairs of a\n",
        "dictionary using various methods."
      ],
      "id": "19191dba-5efd-46cc-97df-4ff2ef9a828f"
    },
    {
      "cell_type": "code",
      "execution_count": null,
      "metadata": {},
      "outputs": [],
      "source": [
        "person = {'name': 'Alice', 'age': 25, 'city': 'New York'}\n",
        "\n",
        "# Iterating over keys\n",
        "for key in person.keys():\n",
        "    print(key)\n",
        "\n",
        "# Iterating over values\n",
        "for value in person.values():\n",
        "    print(value)\n",
        "\n",
        "# Iterating over key-value pairs\n",
        "for key, value in person.items():\n",
        "    print(f\"{key}: {value}\")"
      ],
      "id": "7a645fb5"
    },
    {
      "cell_type": "markdown",
      "metadata": {},
      "source": [
        "Dictionaries are versatile data structures in Python, widely used for\n",
        "storing and retrieving data in a key-value format. They provide\n",
        "efficient lookup and insertion operations, making them useful in many\n",
        "programming scenarios."
      ],
      "id": "811460f8-b7ad-427e-b175-d77a61bf8c57"
    }
  ],
  "nbformat": 4,
  "nbformat_minor": 5,
  "metadata": {
    "kernelspec": {
      "name": "python3",
      "display_name": "Python 3 (ipykernel)",
      "language": "python"
    }
  }
}
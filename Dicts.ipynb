{
  "cells": [
    {
      "cell_type": "markdown",
      "metadata": {},
      "source": [
        "# Introduction to Dictionaries in Python\n",
        "\n",
        "In Python, a dictionary (often abbreviated as “dict”) is an unordered\n",
        "collection of key-value pairs. Dictionaries are mutable, meaning their\n",
        "contents can be changed after creation. They are extensively used in\n",
        "Python for storing and retrieving data in a structured and efficient\n",
        "way.\n",
        "\n",
        "## Creating a Dictionary\n",
        "\n",
        "A dictionary is created by enclosing a comma-separated list of key-value\n",
        "pairs within curly braces `{}`. The key and value are separated by a\n",
        "colon `:`"
      ],
      "id": "946feaa5-202e-4e1e-826e-850b1b20a62b"
    },
    {
      "cell_type": "code",
      "execution_count": null,
      "metadata": {},
      "outputs": [],
      "source": [
        "# Empty dictionary\n",
        "empty_dict = {}\n",
        "\n",
        "# Dictionary with key-value pairs\n",
        "person = {'name': 'Alice', 'age': 25, 'city': 'New York'}\n",
        "print(person)  # Output: {'name': 'Alice', 'age': 25, 'city': 'New York'}"
      ],
      "id": "40c6735d"
    },
    {
      "cell_type": "markdown",
      "metadata": {},
      "source": [
        "## Accessing Values\n",
        "\n",
        "You can access the values in a dictionary using their corresponding\n",
        "keys."
      ],
      "id": "8d58a8e8-e074-4544-8b8d-597a06c47067"
    },
    {
      "cell_type": "code",
      "execution_count": null,
      "metadata": {},
      "outputs": [],
      "source": [
        "person = {'name': 'Alice', 'age': 25, 'city': 'New York'}\n",
        "\n",
        "# Accessing values by key\n",
        "print(person['name'])    # Output: 'Alice'\n",
        "print(person['age'])     # Output: 25"
      ],
      "id": "56ee8478"
    },
    {
      "cell_type": "markdown",
      "metadata": {},
      "source": [
        "## Adding and Modifying Values\n",
        "\n",
        "You can add new key-value pairs or modify existing ones by assigning a\n",
        "value to the key."
      ],
      "id": "3a6de086-4e0a-4582-b865-3cd0d656890b"
    },
    {
      "cell_type": "code",
      "execution_count": null,
      "metadata": {},
      "outputs": [],
      "source": [
        "person = {'name': 'Alice', 'age': 25}\n",
        "\n",
        "# Adding a new key-value pair\n",
        "person['city'] = 'New York'\n",
        "print(person)  # Output: {'name': 'Alice', 'age': 25, 'city': 'New York'}\n",
        "\n",
        "# Modifying an existing value\n",
        "person['age'] = 26\n",
        "print(person)  # Output: {'name': 'Alice', 'age': 26, 'city': 'New York'}"
      ],
      "id": "1923d5f8"
    },
    {
      "cell_type": "markdown",
      "metadata": {},
      "source": [
        "## Checking for Keys\n",
        "\n",
        "You can check if a key exists in a dictionary using the `in` operator."
      ],
      "id": "f4d932f6-bb4d-4020-b9df-6fe92fc9221a"
    },
    {
      "cell_type": "code",
      "execution_count": null,
      "metadata": {},
      "outputs": [],
      "source": [
        "person = {'name': 'Alice', 'age': 25, 'city': 'New York'}\n",
        "\n",
        "print('name' in person)    # Output: True\n",
        "print('email' in person)   # Output: False"
      ],
      "id": "3261f4ba"
    },
    {
      "cell_type": "markdown",
      "metadata": {},
      "source": [
        "## Iterating over a Dictionary\n",
        "\n",
        "You can iterate over the keys, values, or key-value pairs of a\n",
        "dictionary using various methods."
      ],
      "id": "4e810839-bd48-44b5-bd7d-c2f88047b68b"
    },
    {
      "cell_type": "code",
      "execution_count": null,
      "metadata": {},
      "outputs": [],
      "source": [
        "person = {'name': 'Alice', 'age': 25, 'city': 'New York'}\n",
        "\n",
        "# Iterating over keys\n",
        "for key in person.keys():\n",
        "    print(key)\n",
        "\n",
        "# Iterating over values\n",
        "for value in person.values():\n",
        "    print(value)\n",
        "\n",
        "# Iterating over key-value pairs\n",
        "for key, value in person.items():\n",
        "    print(f\"{key}: {value}\")"
      ],
      "id": "20c4e1df"
    },
    {
      "cell_type": "markdown",
      "metadata": {},
      "source": [
        "Dictionaries are versatile data structures in Python, widely used for\n",
        "storing and retrieving data in a key-value format. They provide\n",
        "efficient lookup and insertion operations, making them useful in many\n",
        "programming scenarios."
      ],
      "id": "8179ade3-8a01-49a3-b842-0a576fb4c860"
    }
  ],
  "nbformat": 4,
  "nbformat_minor": 5,
  "metadata": {
    "kernelspec": {
      "name": "python3",
      "display_name": "Python 3 (ipykernel)",
      "language": "python"
    }
  }
}
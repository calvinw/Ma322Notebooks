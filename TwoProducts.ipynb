{
  "cells": [
    {
      "cell_type": "markdown",
      "metadata": {},
      "source": [
        "# Two Products\n",
        "\n",
        "### Import our data from a google spreadsheet"
      ],
      "id": "ba88291e-99bf-4d5e-bc2c-00d8e9cfe5bf"
    },
    {
      "cell_type": "code",
      "execution_count": null,
      "metadata": {},
      "outputs": [],
      "source": [
        "import pandas as pd\n",
        "\n",
        "# Define the URL of the Google Sheet\n",
        "url = \"https://docs.google.com/spreadsheets/d/e/2PACX-1vTFmRX4RW3PitgcJya0X2sRbSiD0J2t0oYewyhkkyWwR9i8NIaHiuQKrBtLlrwG9fzn4MvNOM92olnK/pub?gid=0&single=true&output=csv\"\n",
        "\n",
        "# Read the CSV data from the URL using pandas\n",
        "original_df = pd.read_csv(url)\n",
        "\n",
        "# Print the DataFrame\n",
        "print(\"Original DataFrame\")\n",
        "print(\"\")\n",
        "print(original_df)"
      ],
      "id": "ad0a814d"
    },
    {
      "cell_type": "markdown",
      "metadata": {},
      "source": [
        "### Rename the variables all with 0s and 1s"
      ],
      "id": "361bce42-c230-4008-9bab-dd91ea59f320"
    },
    {
      "cell_type": "code",
      "execution_count": null,
      "metadata": {},
      "outputs": [],
      "source": [
        "mapping = {\n",
        "    \"gender\": {\"F\": 0, \"M\": 1},\n",
        "    \"age\": {\"Adult\": 0, \"Young\": 1},\n",
        "    \"product\": {\"AlienBetweenUs\": 0, \"MindCraft\": 1}\n",
        "}\n",
        "\n",
        "df = original_df.replace(mapping, regex=True)\n",
        "\n",
        "print(\"DataFrame with 0s and 1s\")\n",
        "print(\"\")\n",
        "print(df)"
      ],
      "id": "7733c664"
    },
    {
      "cell_type": "raw",
      "metadata": {
        "raw_mimetype": "text/html"
      },
      "source": [
        "<hr>"
      ],
      "id": "f43b21a7-56f1-4ed2-b155-97693c21eb46"
    },
    {
      "cell_type": "markdown",
      "metadata": {},
      "source": [
        "| product            |     |\n",
        "|--------------------|-----|\n",
        "| **AlienBetweenUs** | 0   |\n",
        "| **MindCraft**      | 1   |"
      ],
      "id": "711891c6-8a2a-4703-a81a-093da4165467"
    },
    {
      "cell_type": "raw",
      "metadata": {
        "raw_mimetype": "text/html"
      },
      "source": [
        "<hr>"
      ],
      "id": "d66ab6ad-d346-4429-9e8f-98995463ab61"
    },
    {
      "cell_type": "markdown",
      "metadata": {},
      "source": [
        "| gender |     |\n",
        "|--------|-----|\n",
        "| **F**  | 0   |\n",
        "| **M**  | 1   |"
      ],
      "id": "00c802e4-e847-439e-b1ff-8cccdf3297db"
    },
    {
      "cell_type": "raw",
      "metadata": {
        "raw_mimetype": "text/html"
      },
      "source": [
        "<hr>"
      ],
      "id": "acd7ae0d-cc7f-4555-a183-d757c44ae17c"
    },
    {
      "cell_type": "markdown",
      "metadata": {},
      "source": [
        "| age       |     |\n",
        "|-----------|-----|\n",
        "| **Adult** | 0   |\n",
        "| **Young** | 1   |"
      ],
      "id": "90490c59-b10a-4049-afd9-51c1da2350db"
    },
    {
      "cell_type": "raw",
      "metadata": {
        "raw_mimetype": "text/html"
      },
      "source": [
        "<hr>"
      ],
      "id": "bb0162db-1e52-46ea-8707-332304d28737"
    },
    {
      "cell_type": "markdown",
      "metadata": {},
      "source": [
        "### Create a dataframe with the x-variables and a dataframe with the y-variables"
      ],
      "id": "bc307876-b060-4521-8650-d8b113b7d378"
    },
    {
      "cell_type": "code",
      "execution_count": null,
      "metadata": {},
      "outputs": [],
      "source": [
        "import pandas as pd\n",
        "\n",
        "from sklearn.tree import DecisionTreeClassifier, plot_tree\n",
        "\n",
        "# Create a dataframe with just the predictor (x-columns)\n",
        "x = df[[\"gender\", \"age\"]]\n",
        "\n",
        "print(x)\n",
        "\n",
        "# create a dataframe with just the y-columns\n",
        "y = df[[\"product\"]]\n",
        "\n",
        "print(y)"
      ],
      "id": "fb7d71c1"
    },
    {
      "cell_type": "markdown",
      "metadata": {},
      "source": [
        "### Create A Simple Decision Tree Model and Fit the Training Data to It"
      ],
      "id": "f3fb0ad5-0009-49b5-b5bc-2ad1768296bb"
    },
    {
      "cell_type": "code",
      "execution_count": null,
      "metadata": {},
      "outputs": [],
      "source": [
        "#Create a decision tree classifier object\n",
        "classifier = DecisionTreeClassifier(max_depth=1)\n",
        "\n",
        "# Train the model on the data\n",
        "classifier.fit(x, y)"
      ],
      "id": "33a215eb"
    },
    {
      "cell_type": "markdown",
      "metadata": {},
      "source": [
        "### Print Out the Decision Tree"
      ],
      "id": "f6b4e9cf-7cda-4844-8a7c-637924664a08"
    },
    {
      "cell_type": "code",
      "execution_count": null,
      "metadata": {},
      "outputs": [],
      "source": [
        "import matplotlib.pyplot as plt\n",
        "fig, ax = plt.subplots(figsize=(10, 8))\n",
        "plot_tree(classifier, feature_names=[\"gender\", \"age\"], class_names=[\"AlienBetweenUs\", \"MindCraft\"], filled=True, impurity=False, ax=ax)\n",
        "plt.show()"
      ],
      "id": "82b430ee"
    },
    {
      "cell_type": "markdown",
      "metadata": {},
      "source": [
        "### Create X-Variables to make Predictions For"
      ],
      "id": "b09c6c0c-6d9d-4b59-a5e5-1e47d21ef119"
    },
    {
      "cell_type": "code",
      "execution_count": null,
      "metadata": {},
      "outputs": [],
      "source": [
        "# Make predictions on test_df\n",
        "\n",
        "# make two predictions\n",
        "# one for F and Young\n",
        "# one for M and Adult\n",
        "\n",
        "row1 = {\"gender\": 0, \"age\": 1}  # gender is F, age is Young\n",
        "row2 = {\"gender\": 1, \"age\": 0}  # gender is M, age is Adult\n",
        "\n",
        "test_df = pd.DataFrame([row1, row2] )\n",
        "\n",
        "print(\"test_df\")\n",
        "print(test_df)"
      ],
      "id": "aab23a20"
    },
    {
      "cell_type": "markdown",
      "metadata": {},
      "source": [
        "### Make Predictions"
      ],
      "id": "21cdc5f8-9dc1-4fc0-b28e-04dd3c11dba9"
    },
    {
      "cell_type": "code",
      "execution_count": null,
      "metadata": {},
      "outputs": [],
      "source": [
        "predictions = classifier.predict(test_df)\n",
        "\n",
        "# Print the predictions\n",
        "print(\"Predictions\")\n",
        "print(predictions)"
      ],
      "id": "b5267b75"
    },
    {
      "cell_type": "markdown",
      "metadata": {},
      "source": [
        "\\[1, 0\\] is a list of 2 predictions: - first prediction is 1 or\n",
        "`MindCraft` - second prediction is 0 or `AlienBetweenUs`\n",
        "\n",
        "### Create Another Decision Tree Model"
      ],
      "id": "9b617cb7-dba3-4fea-87c6-5083b79fbb74"
    },
    {
      "cell_type": "code",
      "execution_count": null,
      "metadata": {},
      "outputs": [],
      "source": [
        "#Create a decision tree classifier object\n",
        "classifier = DecisionTreeClassifier()\n",
        "\n",
        "# Train the model on the data\n",
        "classifier.fit(x, y)"
      ],
      "id": "2f51a673"
    },
    {
      "cell_type": "markdown",
      "metadata": {},
      "source": [
        "### Print Out the Decision Tree"
      ],
      "id": "760dfda5-24d1-4083-b74d-b19ed05b8725"
    },
    {
      "cell_type": "code",
      "execution_count": null,
      "metadata": {},
      "outputs": [],
      "source": [
        "import matplotlib.pyplot as plt\n",
        "fig, ax = plt.subplots(figsize=(10, 8))\n",
        "plot_tree(classifier, feature_names=[\"gender\", \"age\"], class_names=[\"AlienBetweenUs\", \"MindCraft\"], filled=True, impurity=False, ax=ax)\n",
        "plt.show()"
      ],
      "id": "e7a1d215"
    }
  ],
  "nbformat": 4,
  "nbformat_minor": 5,
  "metadata": {
    "kernelspec": {
      "name": "python3",
      "display_name": "Python 3 (ipykernel)",
      "language": "python"
    }
  }
}
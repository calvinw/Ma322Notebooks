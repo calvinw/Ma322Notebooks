{
  "cells": [
    {
      "cell_type": "markdown",
      "metadata": {},
      "source": [
        "# Two Products - Decision Trees\n",
        "\n",
        "## Introduction\n",
        "\n",
        "We’ll explore decision trees using a simple example: predicting which\n",
        "video game a person might prefer (MindCraft or AlienBetweenUs) based on\n",
        "their age and gender. This is a basic example to help understand how\n",
        "decision trees work.\n",
        "\n",
        "## Setting Up Our Helper Functions\n",
        "\n",
        "First, we’ll create some helper functions to make our trees easier to\n",
        "read and understand:"
      ],
      "id": "e46adab3-8314-4377-84bc-1855a2ead298"
    },
    {
      "cell_type": "code",
      "execution_count": null,
      "metadata": {},
      "outputs": [],
      "source": [
        "def clean_tree_text(tree_text):\n",
        "    # Dictionary of all replacements\n",
        "    replacements = {\n",
        "        \"gender_F <= 0.50\": \"Male?\",\n",
        "        \"gender_F >  0.50\": \"Female?\",\n",
        "        \"gender_M <= 0.50\": \"Female?\",\n",
        "        \"gender_M >  0.50\": \"Male?\",\n",
        "        \"age_Adult <= 0.50\": \"Young?\",\n",
        "        \"age_Adult >  0.50\": \"Adult?\",\n",
        "        \"age_Young <= 0.50\": \"Adult?\",\n",
        "        \"age_Young >  0.50\": \"Young?\",\n",
        "        \"class:\": \"\"\n",
        "    }\n",
        "    \n",
        "    # Apply all replacements\n",
        "    clean_text = tree_text\n",
        "    for old, new in replacements.items():\n",
        "        clean_text = clean_text.replace(old, new)\n",
        "    \n",
        "    return clean_text\n",
        "\n",
        "def print_clean_tree(classifier, columns):\n",
        "    tree_text = export_text(classifier, feature_names=list(columns))\n",
        "    print(\"\\nDecision Tree:\")\n",
        "    print(clean_tree_text(tree_text))\n",
        "\n",
        "def print_tree(classifier, columns):\n",
        "    tree_text = export_text(classifier, feature_names=list(columns))\n",
        "    print(\"\\nDecision Tree:\")\n",
        "    print(tree_text)"
      ],
      "id": "18c49e30"
    },
    {
      "cell_type": "markdown",
      "metadata": {},
      "source": [
        "## The Training Data\n",
        "\n",
        "Here’s our training data - this is what we’ll use to teach our decision\n",
        "tree how to make predictions:"
      ],
      "id": "cd293ebc-7ee7-43a4-b64a-13ffa44b2c85"
    },
    {
      "cell_type": "code",
      "execution_count": null,
      "metadata": {},
      "outputs": [],
      "source": [
        "import pandas as pd\n",
        "from sklearn.tree import DecisionTreeClassifier, export_text\n",
        "from sklearn.metrics import confusion_matrix\n",
        "\n",
        "# Data\n",
        "train = pd.DataFrame({\n",
        "    'gender': ['F', 'M', 'F', 'F', 'M', 'M', 'F'],\n",
        "    'age': ['Adult', 'Adult', 'Adult', 'Young', 'Young', 'Young', 'Young'],\n",
        "    'product': ['MindCraft', 'MindCraft', 'MindCraft', 'MindCraft', 'AlienBetweenUs', 'AlienBetweenUs', 'MindCraft']\n",
        "})\n",
        "print(\"Training Data - What we'll use to teach our decision tree:\")\n",
        "print(train)"
      ],
      "id": "bdbe32b6"
    },
    {
      "cell_type": "markdown",
      "metadata": {},
      "source": [
        "## The Testing Data\n",
        "\n",
        "This is our testing data - we’ll use this to see how well our tree makes\n",
        "predictions on new data it hasn’t seen before:"
      ],
      "id": "648dbdba-fff0-4016-b840-30b0278d5a66"
    },
    {
      "cell_type": "code",
      "execution_count": null,
      "metadata": {},
      "outputs": [],
      "source": [
        "test = pd.DataFrame({\n",
        "    'gender': ['F', 'F', 'F', 'F', 'M', 'M', 'F', 'F', 'M'],\n",
        "    'age': ['Adult', 'Young', 'Adult', 'Young', 'Young', 'Young', 'Adult', 'Young', 'Adult'],\n",
        "    'product': ['MindCraft', 'AlienBetweenUs', 'MindCraft', 'MindCraft', 'AlienBetweenUs', 'AlienBetweenUs', 'AlienBetweenUs', 'MindCraft', 'MindCraft']\n",
        "})\n",
        "print(\"Testing Data - We'll use this to test our tree's predictions:\")\n",
        "print(test)"
      ],
      "id": "951de977"
    },
    {
      "cell_type": "markdown",
      "metadata": {},
      "source": [
        "## Model 1: Age Only Tree\n",
        "\n",
        "Let’s first try to predict game preference using only age. The code\n",
        "below sorts the data on age so we can see how the age only tree might be\n",
        "built."
      ],
      "id": "a27ca9fe-dc14-4b10-8fd2-82317fce2c24"
    },
    {
      "cell_type": "code",
      "execution_count": null,
      "metadata": {},
      "outputs": [],
      "source": [
        "# Show training data sorted by age\n",
        "print(\"Training Data Sorted by Age:\")\n",
        "print(train.sort_values('age'))"
      ],
      "id": "638b3088"
    },
    {
      "cell_type": "markdown",
      "metadata": {},
      "source": [
        "Next up we can see how the `DecisionTreeClassifier` works in python.\n",
        "This is the code that builds a decision tree in python"
      ],
      "id": "bd9a672a-7ad2-492a-b679-0cff7a25eac0"
    },
    {
      "cell_type": "code",
      "execution_count": null,
      "metadata": {},
      "outputs": [],
      "source": [
        "# This part trains the model on the training data\n",
        "\n",
        "# First we get the training data X-variables (predicters)\n",
        "X_train = pd.get_dummies(train[['age']])\n",
        "\n",
        "# Next we create a Decision Tree Classifier \n",
        "classifier = DecisionTreeClassifier()\n",
        "\n",
        "# Next we fit the data (create our model) using the actuals \n",
        "classifier.fit(X_train, train['product'])\n",
        "\n",
        "# This part gets the testing data X-varables \n",
        "X_test = pd.get_dummies(test[['age']])\n",
        "\n",
        "# Now we use the classifer to predict on the testing data\n",
        "predictions = classifier.predict(X_test)\n",
        "\n",
        "#print(\"Age Only Tree Predictions:\")\n",
        "#print(predictions)\n",
        "\n",
        "print(\"Here's how our tree makes decisions based only on age:\")\n",
        "print_clean_tree(classifier, X_train.columns)\n",
        "\n",
        "# Print confusion matrix\n",
        "cm = confusion_matrix(test['product'], predictions)\n",
        "cm_df = pd.DataFrame(\n",
        "    cm,\n",
        "    index=['Actual: AlienBetweenUs', 'Actual: MindCraft'],\n",
        "    columns=['Predicted: AlienBetweenUs', 'Predicted: MindCraft']\n",
        ")\n",
        "print(\"\\nConfusion Matrix (Shows how well our predictions matched reality):\")\n",
        "print(cm_df)\n",
        "\n",
        "# Print accuracy\n",
        "correct=cm[0,0]+cm[1,1]\n",
        "total=cm[0,0]+cm[1,1]+cm[1,0]+cm[0,1]\n",
        "accuracy = correct/total\n",
        "print(\"\\nAccuracy: \")\n",
        "print(accuracy)"
      ],
      "id": "f72185f5"
    },
    {
      "cell_type": "markdown",
      "metadata": {},
      "source": [
        "## Model 2: Gender Only Tree\n",
        "\n",
        "Now let’s try predicting based only on gender:\n",
        "\n",
        "First we sort the tree based on age to understand the gender only tree."
      ],
      "id": "b16bd919-9133-4ca8-b7e0-8f675857a3e3"
    },
    {
      "cell_type": "code",
      "execution_count": null,
      "metadata": {},
      "outputs": [],
      "source": [
        "# Show training data sorted by gender \n",
        "print(\"Training Data Sorted by Gender:\")\n",
        "print(train.sort_values('gender'))"
      ],
      "id": "c8afa1e2"
    },
    {
      "cell_type": "markdown",
      "metadata": {},
      "source": [
        "Next up we can see how the `DecisionTreeClassifier` works in python.\n",
        "This is the code that builds a decision tree in python"
      ],
      "id": "8b94fa8b-83c6-49f3-a97c-e5235b107d93"
    },
    {
      "cell_type": "code",
      "execution_count": null,
      "metadata": {},
      "outputs": [],
      "source": [
        "# First we get the training data X-variables (predicters)\n",
        "X_train = pd.get_dummies(train[['gender']])\n",
        "\n",
        "# Next we create a Decision Tree Classifier \n",
        "classifier = DecisionTreeClassifier()\n",
        "\n",
        "# Next we fit the data (create our model) using the actuals \n",
        "classifier.fit(X_train, train['product'])\n",
        "\n",
        "# This part gets the testing data X-varables \n",
        "X_test = pd.get_dummies(test[['gender']])\n",
        "\n",
        "# Now we use the classifer to predict on the testing data\n",
        "predictions = classifier.predict(X_test)\n",
        "\n",
        "print(\"Here's how our tree makes decisions based only on gender:\")\n",
        "print_clean_tree(classifier, X_train.columns)\n",
        "\n",
        "# Print confusion matrix\n",
        "cm = confusion_matrix(test['product'], predictions)\n",
        "cm_df = pd.DataFrame(\n",
        "    cm,\n",
        "    index=['Actual: AlienBetweenUs', 'Actual: MindCraft'],\n",
        "    columns=['Predicted: AlienBetweenUs', 'Predicted: MindCraft']\n",
        ")\n",
        "print(\"\\nConfusion Matrix (Shows how well our predictions matched reality):\")\n",
        "print(cm_df)\n",
        "\n",
        "# Print accuracy\n",
        "correct=cm[0,0]+cm[1,1]\n",
        "total=cm[0,0]+cm[1,1]+cm[1,0]+cm[0,1]\n",
        "accuracy = correct/total\n",
        "print(\"\\nAccuracy: \")\n",
        "print(accuracy)"
      ],
      "id": "523f032c"
    },
    {
      "cell_type": "markdown",
      "metadata": {},
      "source": [
        "## Model 3: Full Tree Using Both Age and Gender\n",
        "\n",
        "Finally, let’s use both age and gender to make our predictions:\n",
        "\n",
        "For this one we have the DecisionTreeClassifier make our model."
      ],
      "id": "003ed833-93fe-44ce-b2ec-f5ba7fb0ae2e"
    },
    {
      "cell_type": "code",
      "execution_count": null,
      "metadata": {},
      "outputs": [],
      "source": [
        "# First we get the training data X-variables (predicters)\n",
        "X_train = pd.get_dummies(train[['age', 'gender']])\n",
        "\n",
        "# Next we create a Decision Tree Classifier \n",
        "classifier = DecisionTreeClassifier()\n",
        "\n",
        "# Next we fit the data (create our model) using the actuals \n",
        "classifier.fit(X_train, train['product'])\n",
        "\n",
        "# This part gets the testing data X-varables \n",
        "X_test = pd.get_dummies(test[['age', 'gender']])\n",
        "\n",
        "# Now we use the classifer to predict on the testing data\n",
        "predictions = classifier.predict(X_test)\n",
        "\n",
        "print(\"Here's how our tree makes decisions using both age and gender:\")\n",
        "print_clean_tree(classifier, X_train.columns)\n",
        "\n",
        "# Print confusion matrix\n",
        "cm = confusion_matrix(test['product'], predictions)\n",
        "cm_df = pd.DataFrame(\n",
        "    cm,\n",
        "    index=['Actual: AlienBetweenUs', 'Actual: MindCraft'],\n",
        "    columns=['Predicted: AlienBetweenUs', 'Predicted: MindCraft']\n",
        ")\n",
        "print(\"\\nConfusion Matrix (Shows how well our predictions matched reality):\")\n",
        "print(cm_df)\n",
        "\n",
        "# Print accuracy\n",
        "correct=cm[0,0]+cm[1,1]\n",
        "total=cm[0,0]+cm[1,1]+cm[1,0]+cm[0,1]\n",
        "accuracy = correct/total\n",
        "print(\"\\nAccuracy: \")\n",
        "print(accuracy)"
      ],
      "id": "7a3bb571"
    },
    {
      "cell_type": "markdown",
      "metadata": {},
      "source": [
        "## Understanding the Results\n",
        "\n",
        "For each model, we show:\n",
        "\n",
        "1.  The decision tree’s rules in plain English\n",
        "2.  The technical version of the tree (for reference)\n",
        "3.  A confusion matrix showing:\n",
        "\n",
        "-   How many times we correctly predicted AlienBetweenUs\n",
        "-   How many times we correctly predicted MindCraft\n",
        "-   How many times we made mistakes\n",
        "\n",
        "1.  The accuracy (percentage of correct predictions)\n",
        "\n",
        "The confusion matrix is read like this:\n",
        "\n",
        "-   Each row shows what actually happened\n",
        "-   Each column shows what we predicted\n",
        "-   The numbers show how many times each combination occurred\n",
        "\n",
        "By comparing the three models, we can see:\n",
        "\n",
        "1.  How well age alone predicts game preference\n",
        "2.  How well gender alone predicts game preference\n",
        "3.  Whether using both features together improves our predictions"
      ],
      "id": "0a5bdbe0-5954-4805-b364-a762eee427d2"
    }
  ],
  "nbformat": 4,
  "nbformat_minor": 5,
  "metadata": {
    "kernelspec": {
      "name": "python3",
      "display_name": "Python 3 (ipykernel)",
      "language": "python"
    }
  }
}
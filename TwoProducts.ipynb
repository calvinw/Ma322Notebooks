{
  "cells": [
    {
      "cell_type": "markdown",
      "metadata": {},
      "source": [
        "# Two Products\n",
        "\n",
        "### Import our data from a google spreadsheet"
      ],
      "id": "1c5f94e3-830d-4bea-9e60-5bd590282fce"
    },
    {
      "cell_type": "code",
      "execution_count": null,
      "metadata": {},
      "outputs": [],
      "source": [
        "import pandas as pd\n",
        "\n",
        "# Define the URL of the Google Sheet\n",
        "url = \"https://docs.google.com/spreadsheets/d/e/2PACX-1vTFmRX4RW3PitgcJya0X2sRbSiD0J2t0oYewyhkkyWwR9i8NIaHiuQKrBtLlrwG9fzn4MvNOM92olnK/pub?gid=0&single=true&output=csv\"\n",
        "\n",
        "# Read the CSV data from the URL using pandas\n",
        "original_df = pd.read_csv(url)\n",
        "\n",
        "# Print the DataFrame\n",
        "print(\"Original DataFrame\")\n",
        "print(\"\")\n",
        "print(original_df)"
      ],
      "id": "1551eb6d"
    },
    {
      "cell_type": "markdown",
      "metadata": {},
      "source": [
        "### Rename the variables all with 0s and 1s"
      ],
      "id": "ec89c753-76bc-4801-910a-cca1f142c69c"
    },
    {
      "cell_type": "code",
      "execution_count": null,
      "metadata": {},
      "outputs": [],
      "source": [
        "mapping = {\n",
        "    \"gender\": {\"F\": 0, \"M\": 1},\n",
        "    \"age\": {\"Adult\": 0, \"Young\": 1},\n",
        "    \"product\": {\"AlienBetweenUs\": 0, \"MindCraft\": 1}\n",
        "}\n",
        "\n",
        "df = original_df.replace(mapping, regex=True)\n",
        "\n",
        "print(\"DataFrame with 0s and 1s\")\n",
        "print(\"\")\n",
        "print(df)"
      ],
      "id": "a16a3f0a"
    },
    {
      "cell_type": "raw",
      "metadata": {
        "raw_mimetype": "text/html"
      },
      "source": [
        "<hr>"
      ],
      "id": "9476d547-f5f9-4dd6-aada-aadc656c0ede"
    },
    {
      "cell_type": "markdown",
      "metadata": {},
      "source": [
        "| product            |     |\n",
        "|--------------------|-----|\n",
        "| **AlienBetweenUs** | 0   |\n",
        "| **MindCraft**      | 1   |"
      ],
      "id": "cc0b12a2-a172-4b93-bfb0-d747a123060d"
    },
    {
      "cell_type": "raw",
      "metadata": {
        "raw_mimetype": "text/html"
      },
      "source": [
        "<hr>"
      ],
      "id": "bca3dd4c-2294-44e3-8be6-1c8574fd1be5"
    },
    {
      "cell_type": "markdown",
      "metadata": {},
      "source": [
        "| gender |     |\n",
        "|--------|-----|\n",
        "| **F**  | 0   |\n",
        "| **M**  | 1   |"
      ],
      "id": "d28c3e2d-3f41-4f08-ae92-354628cde3c7"
    },
    {
      "cell_type": "raw",
      "metadata": {
        "raw_mimetype": "text/html"
      },
      "source": [
        "<hr>"
      ],
      "id": "df874dce-a3ad-4ead-b046-734eccc144c2"
    },
    {
      "cell_type": "markdown",
      "metadata": {},
      "source": [
        "| age       |     |\n",
        "|-----------|-----|\n",
        "| **Adult** | 0   |\n",
        "| **Young** | 1   |"
      ],
      "id": "ee6521bf-5823-410b-b503-195dafde4c73"
    },
    {
      "cell_type": "raw",
      "metadata": {
        "raw_mimetype": "text/html"
      },
      "source": [
        "<hr>"
      ],
      "id": "60127feb-b24a-42cb-99a6-6c633ae74dab"
    },
    {
      "cell_type": "markdown",
      "metadata": {},
      "source": [
        "### Create a dataframe with the x-variables and a dataframe with the y-variables"
      ],
      "id": "d81272fb-80b2-4f0a-a916-f6948ff6f4da"
    },
    {
      "cell_type": "code",
      "execution_count": null,
      "metadata": {},
      "outputs": [],
      "source": [
        "import pandas as pd\n",
        "\n",
        "from sklearn.tree import DecisionTreeClassifier, plot_tree\n",
        "\n",
        "# Create a dataframe with just the predictor (x-columns)\n",
        "x = df[[\"gender\", \"age\"]]\n",
        "\n",
        "print(x)\n",
        "\n",
        "# create a dataframe with just the y-columns\n",
        "y = df[[\"product\"]]\n",
        "\n",
        "print(y)"
      ],
      "id": "b301784e"
    },
    {
      "cell_type": "markdown",
      "metadata": {},
      "source": [
        "### Create A Simple Decision Tree Model and Fit the Training Data to It"
      ],
      "id": "f1adb300-4f95-47e2-90bf-e1e4eba68157"
    },
    {
      "cell_type": "code",
      "execution_count": null,
      "metadata": {},
      "outputs": [],
      "source": [
        "#Create a decision tree classifier object\n",
        "classifier = DecisionTreeClassifier(max_depth=1)\n",
        "\n",
        "# Train the model on the data\n",
        "classifier.fit(x, y)"
      ],
      "id": "03c3fd8d"
    },
    {
      "cell_type": "markdown",
      "metadata": {},
      "source": [
        "### Print Out the Decision Tree"
      ],
      "id": "793921ec-8dae-48e3-859b-eb1a26bb0120"
    },
    {
      "cell_type": "code",
      "execution_count": null,
      "metadata": {},
      "outputs": [],
      "source": [
        "import matplotlib.pyplot as plt\n",
        "fig, ax = plt.subplots(figsize=(10, 8))\n",
        "plot_tree(classifier, feature_names=[\"gender\", \"age\"], class_names=[\"AlienBetweenUs\", \"MindCraft\"], filled=True, impurity=False, ax=ax)\n",
        "plt.show()"
      ],
      "id": "9bc8b6af"
    },
    {
      "cell_type": "markdown",
      "metadata": {},
      "source": [
        "### Create X-Variables to make Predictions For"
      ],
      "id": "f292ffbd-d835-4b88-b4f9-885d8bb9ce9d"
    },
    {
      "cell_type": "code",
      "execution_count": null,
      "metadata": {},
      "outputs": [],
      "source": [
        "# Make predictions on test_df\n",
        "\n",
        "# make two predictions\n",
        "# one for F and Young\n",
        "# one for M and Adult\n",
        "\n",
        "row1 = {\"gender\": 0, \"age\": 1}  # gender is F, age is Young\n",
        "row2 = {\"gender\": 1, \"age\": 0}  # gender is M, age is Adult\n",
        "\n",
        "test_df = pd.DataFrame([row1, row2] )\n",
        "\n",
        "print(\"test_df\")\n",
        "print(test_df)"
      ],
      "id": "a6b3cc46"
    },
    {
      "cell_type": "markdown",
      "metadata": {},
      "source": [
        "### Make Predictions"
      ],
      "id": "8027980c-6e57-4abf-ad29-24c1ea93017d"
    },
    {
      "cell_type": "code",
      "execution_count": null,
      "metadata": {},
      "outputs": [],
      "source": [
        "predictions = classifier.predict(test_df)\n",
        "\n",
        "# Print the predictions\n",
        "print(\"Predictions\")\n",
        "print(predictions)"
      ],
      "id": "8f7c11d9"
    },
    {
      "cell_type": "markdown",
      "metadata": {},
      "source": [
        "\\[1, 0\\] is a list of 2 predictions: - first prediction is 1 or\n",
        "`MindCraft` - second prediction is 0 or `AlienBetweenUs`\n",
        "\n",
        "### Create Another Decision Tree Model"
      ],
      "id": "d801c351-9310-4adb-a39d-eaf3e7a90e95"
    },
    {
      "cell_type": "code",
      "execution_count": null,
      "metadata": {},
      "outputs": [],
      "source": [
        "#Create a decision tree classifier object\n",
        "classifier = DecisionTreeClassifier()\n",
        "\n",
        "# Train the model on the data\n",
        "classifier.fit(x, y)"
      ],
      "id": "9c3bf8c7"
    },
    {
      "cell_type": "markdown",
      "metadata": {},
      "source": [
        "### Print Out the Decision Tree"
      ],
      "id": "4e7010f6-3782-49a2-9122-f41541b7dcf0"
    },
    {
      "cell_type": "code",
      "execution_count": null,
      "metadata": {},
      "outputs": [],
      "source": [
        "import matplotlib.pyplot as plt\n",
        "fig, ax = plt.subplots(figsize=(10, 8))\n",
        "plot_tree(classifier, feature_names=[\"gender\", \"age\"], class_names=[\"AlienBetweenUs\", \"MindCraft\"], filled=True, impurity=False, ax=ax)\n",
        "plt.show()"
      ],
      "id": "ef6448ad"
    }
  ],
  "nbformat": 4,
  "nbformat_minor": 5,
  "metadata": {
    "kernelspec": {
      "name": "python3",
      "display_name": "Python 3 (ipykernel)",
      "language": "python"
    }
  }
}
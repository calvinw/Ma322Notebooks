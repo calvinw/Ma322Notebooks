{
  "cells": [
    {
      "cell_type": "markdown",
      "metadata": {},
      "source": [
        "# Two Products\n",
        "\n",
        "### Import our data from a google spreadsheet"
      ],
      "id": "1492595c-52ef-49dd-939d-9acd7ed2727b"
    },
    {
      "cell_type": "code",
      "execution_count": null,
      "metadata": {},
      "outputs": [],
      "source": [
        "import pandas as pd\n",
        "\n",
        "# Define the URL of the Google Sheet\n",
        "url = \"https://docs.google.com/spreadsheets/d/e/2PACX-1vTFmRX4RW3PitgcJya0X2sRbSiD0J2t0oYewyhkkyWwR9i8NIaHiuQKrBtLlrwG9fzn4MvNOM92olnK/pub?gid=0&single=true&output=csv\"\n",
        "\n",
        "# Read the CSV data from the URL using pandas\n",
        "original_df = pd.read_csv(url)\n",
        "\n",
        "# Print the DataFrame\n",
        "print(\"Original DataFrame\")\n",
        "print(\"\")\n",
        "print(original_df)"
      ],
      "id": "621463ab"
    },
    {
      "cell_type": "markdown",
      "metadata": {},
      "source": [
        "### Rename the variables all with 0s and 1s"
      ],
      "id": "254b4454-e890-467f-bc87-4ef08bfab8c0"
    },
    {
      "cell_type": "code",
      "execution_count": null,
      "metadata": {},
      "outputs": [],
      "source": [
        "mapping = {\n",
        "    \"gender\": {\"F\": 0, \"M\": 1},\n",
        "    \"age\": {\"Adult\": 0, \"Young\": 1},\n",
        "    \"product\": {\"AlienBetweenUs\": 0, \"MindCraft\": 1}\n",
        "}\n",
        "\n",
        "df = original_df.replace(mapping, regex=True)\n",
        "\n",
        "print(\"DataFrame with 0s and 1s\")\n",
        "print(\"\")\n",
        "print(df)"
      ],
      "id": "0d4d5de9"
    },
    {
      "cell_type": "raw",
      "metadata": {
        "raw_mimetype": "text/html"
      },
      "source": [
        "<hr>"
      ],
      "id": "0a0bc00e-8ec0-4327-9700-3b3de397b31e"
    },
    {
      "cell_type": "markdown",
      "metadata": {},
      "source": [
        "| product            |     |\n",
        "|--------------------|-----|\n",
        "| **AlienBetweenUs** | 0   |\n",
        "| **MindCraft**      | 1   |"
      ],
      "id": "4e272f69-ec6b-4d45-b42e-f67d1922e949"
    },
    {
      "cell_type": "raw",
      "metadata": {
        "raw_mimetype": "text/html"
      },
      "source": [
        "<hr>"
      ],
      "id": "7a52cd1c-1553-4384-9158-b279bc814212"
    },
    {
      "cell_type": "markdown",
      "metadata": {},
      "source": [
        "| gender |     |\n",
        "|--------|-----|\n",
        "| **F**  | 0   |\n",
        "| **M**  | 1   |"
      ],
      "id": "061aa6ac-ff21-476f-91dc-495ae34b3cf2"
    },
    {
      "cell_type": "raw",
      "metadata": {
        "raw_mimetype": "text/html"
      },
      "source": [
        "<hr>"
      ],
      "id": "17ca7159-1438-48c9-8e75-daff3551af43"
    },
    {
      "cell_type": "markdown",
      "metadata": {},
      "source": [
        "| age       |     |\n",
        "|-----------|-----|\n",
        "| **Adult** | 0   |\n",
        "| **Young** | 1   |"
      ],
      "id": "235a61ea-f128-47ca-a468-25608cae96c0"
    },
    {
      "cell_type": "raw",
      "metadata": {
        "raw_mimetype": "text/html"
      },
      "source": [
        "<hr>"
      ],
      "id": "5a129711-627d-4861-891b-897c3b4560af"
    },
    {
      "cell_type": "markdown",
      "metadata": {},
      "source": [
        "### Create a dataframe with the x-variables and a dataframe with the y-variables"
      ],
      "id": "27f08b5e-2722-4033-838b-101c8128967f"
    },
    {
      "cell_type": "code",
      "execution_count": null,
      "metadata": {},
      "outputs": [],
      "source": [
        "import pandas as pd\n",
        "\n",
        "from sklearn.tree import DecisionTreeClassifier, plot_tree\n",
        "\n",
        "# Create a dataframe with just the predictor (x-columns)\n",
        "x = df[[\"gender\", \"age\"]]\n",
        "\n",
        "print(x)\n",
        "\n",
        "# create a dataframe with just the y-columns\n",
        "y = df[[\"product\"]]\n",
        "\n",
        "print(y)"
      ],
      "id": "37f216b1"
    },
    {
      "cell_type": "markdown",
      "metadata": {},
      "source": [
        "### Create A Simple Decision Tree Model and Fit the Training Data to It"
      ],
      "id": "72bc8467-d28c-4ac7-9486-c0947f3d61e5"
    },
    {
      "cell_type": "code",
      "execution_count": null,
      "metadata": {},
      "outputs": [],
      "source": [
        "#Create a decision tree classifier object\n",
        "classifier = DecisionTreeClassifier(max_depth=1)\n",
        "\n",
        "# Train the model on the data\n",
        "classifier.fit(x, y)"
      ],
      "id": "48f2897f"
    },
    {
      "cell_type": "markdown",
      "metadata": {},
      "source": [
        "### Print Out the Decision Tree"
      ],
      "id": "1717c91a-533b-4f30-8e50-72cbbb6642dc"
    },
    {
      "cell_type": "code",
      "execution_count": null,
      "metadata": {},
      "outputs": [],
      "source": [
        "import matplotlib.pyplot as plt\n",
        "fig, ax = plt.subplots(figsize=(10, 8))\n",
        "plot_tree(classifier, feature_names=[\"gender\", \"age\"], class_names=[\"AlienBetweenUs\", \"MindCraft\"], filled=True, impurity=False, ax=ax)\n",
        "plt.show()"
      ],
      "id": "260e4b00"
    },
    {
      "cell_type": "markdown",
      "metadata": {},
      "source": [
        "### Create X-Variables to make Predictions For"
      ],
      "id": "653f703a-291f-4c5b-937f-7b77daded7a1"
    },
    {
      "cell_type": "code",
      "execution_count": null,
      "metadata": {},
      "outputs": [],
      "source": [
        "# Make predictions on test_df\n",
        "\n",
        "# make two predictions\n",
        "# one for F and Young\n",
        "# one for M and Adult\n",
        "\n",
        "row1 = {\"gender\": 0, \"age\": 1}  # gender is F, age is Young\n",
        "row2 = {\"gender\": 1, \"age\": 0}  # gender is M, age is Adult\n",
        "\n",
        "test_df = pd.DataFrame([row1, row2] )\n",
        "\n",
        "print(\"test_df\")\n",
        "print(test_df)"
      ],
      "id": "d158ced1"
    },
    {
      "cell_type": "markdown",
      "metadata": {},
      "source": [
        "### Make Predictions"
      ],
      "id": "e05829ac-0efd-4560-9c7d-91c92e57accd"
    },
    {
      "cell_type": "code",
      "execution_count": null,
      "metadata": {},
      "outputs": [],
      "source": [
        "predictions = classifier.predict(test_df)\n",
        "\n",
        "# Print the predictions\n",
        "print(\"Predictions\")\n",
        "print(predictions)"
      ],
      "id": "361fb456"
    },
    {
      "cell_type": "markdown",
      "metadata": {},
      "source": [
        "\\[1, 0\\] is a list of 2 predictions: - first prediction is 1 or\n",
        "`MindCraft` - second prediction is 0 or `AlienBetweenUs`\n",
        "\n",
        "### Create Another Decision Tree Model"
      ],
      "id": "dad03ea2-5758-405f-b5db-b3e205ee45db"
    },
    {
      "cell_type": "code",
      "execution_count": null,
      "metadata": {},
      "outputs": [],
      "source": [
        "#Create a decision tree classifier object\n",
        "classifier = DecisionTreeClassifier()\n",
        "\n",
        "# Train the model on the data\n",
        "classifier.fit(x, y)"
      ],
      "id": "35841ee0"
    },
    {
      "cell_type": "markdown",
      "metadata": {},
      "source": [
        "### Print Out the Decision Tree"
      ],
      "id": "864afe34-8aa1-47d4-b4fe-f17bc138f90b"
    },
    {
      "cell_type": "code",
      "execution_count": null,
      "metadata": {},
      "outputs": [],
      "source": [
        "import matplotlib.pyplot as plt\n",
        "fig, ax = plt.subplots(figsize=(10, 8))\n",
        "plot_tree(classifier, feature_names=[\"gender\", \"age\"], class_names=[\"AlienBetweenUs\", \"MindCraft\"], filled=True, impurity=False, ax=ax)\n",
        "plt.show()"
      ],
      "id": "974a096c"
    }
  ],
  "nbformat": 4,
  "nbformat_minor": 5,
  "metadata": {
    "kernelspec": {
      "name": "python3",
      "display_name": "Python 3 (ipykernel)",
      "language": "python"
    }
  }
}
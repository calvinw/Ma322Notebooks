{
  "cells": [
    {
      "cell_type": "markdown",
      "metadata": {},
      "source": [
        "# Two Products"
      ],
      "id": "7d840e50-3a8f-46c0-bab8-c99b83e36fe5"
    },
    {
      "cell_type": "code",
      "execution_count": null,
      "metadata": {},
      "outputs": [],
      "source": [
        "import pandas as pd\n",
        "import numpy as np\n",
        "from sklearn.tree import DecisionTreeClassifier, plot_tree\n",
        "from sklearn.metrics import accuracy_score\n",
        "from sklearn.preprocessing import LabelEncoder\n",
        "import matplotlib.pyplot as plt\n",
        "import seaborn as sns"
      ],
      "id": "80e8fce4"
    },
    {
      "cell_type": "markdown",
      "metadata": {},
      "source": [
        "## Load the Training Data"
      ],
      "id": "56b0f069-7e8c-489b-b1e3-6a1afee91145"
    },
    {
      "cell_type": "code",
      "execution_count": null,
      "metadata": {},
      "outputs": [],
      "source": [
        "url = \"https://docs.google.com/spreadsheets/d/e/2PACX-1vTFmRX4RW3PitgcJya0X2sRbSiD0J2t0oYewyhkkyWwR9i8NIaHiuQKrBtLlrwG9fzn4MvNOM92olnK/pub?gid=0&single=true&output=csv\"\n",
        "train = pd.read_csv(url)\n",
        "print(train.head())"
      ],
      "id": "ee794648"
    },
    {
      "cell_type": "markdown",
      "metadata": {},
      "source": [
        "Here is the original data frame. There are two predictors `gender` and\n",
        "`age` and the result we are trying predict is `product`, which is the\n",
        "product they will buy.\n",
        "\n",
        "## Load the Testing Data"
      ],
      "id": "7fd3ff70-ec3c-4cbd-8fb1-1fd2e9e00465"
    },
    {
      "cell_type": "code",
      "execution_count": null,
      "metadata": {},
      "outputs": [],
      "source": [
        "url = \"https://docs.google.com/spreadsheets/d/e/2PACX-1vTFmRX4RW3PitgcJya0X2sRbSiD0J2t0oYewyhkkyWwR9i8NIaHiuQKrBtLlrwG9fzn4MvNOM92olnK/pub?gid=1744064271&single=true&output=csv\"\n",
        "test = pd.read_csv(url)\n",
        "print(test.head())"
      ],
      "id": "3b08ed61"
    },
    {
      "cell_type": "markdown",
      "metadata": {},
      "source": [
        "### Model 1 - Split on Gender\n",
        "\n",
        "#### Train with Training Data"
      ],
      "id": "53b8a0d9-52de-4ffa-b682-ea7f5335ba7e"
    },
    {
      "cell_type": "code",
      "execution_count": null,
      "metadata": {},
      "outputs": [],
      "source": [
        "# Encode the gender column\n",
        "le = LabelEncoder()\n",
        "train['gender_encoded'] = le.fit_transform(train['gender'])\n",
        "test['gender_encoded'] = le.transform(test['gender'])\n",
        "\n",
        "model = DecisionTreeClassifier(criterion='gini', max_depth=1, min_impurity_decrease=0.0)\n",
        "model.fit(train[['gender_encoded']], train['product'])\n",
        "\n",
        "fig, ax = plt.subplots(figsize=(8, 6))\n",
        "plot_tree(model, feature_names=['gender_encoded'], class_names=['A', 'B'], filled=True)\n",
        "plt.title(\"Decision Tree - Split on Gender\")\n",
        "plt.show()"
      ],
      "id": "f63d1d75"
    },
    {
      "cell_type": "markdown",
      "metadata": {},
      "source": [
        "The tree above makes 1 mistake out of 7.\n",
        "\n",
        "#### Test With Testing Data"
      ],
      "id": "3a8bfe96-75f5-4a1d-b33a-c85e4adaaaf2"
    },
    {
      "cell_type": "code",
      "execution_count": null,
      "metadata": {},
      "outputs": [],
      "source": [
        "pred = model.predict(test[['gender_encoded']])\n",
        "compare = pd.DataFrame({'actual': test['product'], 'predictions': pred})\n",
        "print(compare)\n",
        "\n",
        "print(\"Confusion Matrix:\")\n",
        "print(pd.crosstab(test['product'], pred))\n",
        "\n",
        "print(\"Accuracy:\")\n",
        "print(accuracy_score(test['product'], pred))"
      ],
      "id": "c6f28050"
    },
    {
      "cell_type": "markdown",
      "metadata": {},
      "source": [
        "### Model 2 - Split on Age\n",
        "\n",
        "#### Train with Training Data"
      ],
      "id": "37939819-8102-4254-9cc4-5f20fe453640"
    },
    {
      "cell_type": "code",
      "execution_count": null,
      "metadata": {},
      "outputs": [],
      "source": [
        "# Convert the 'age' column to numeric\n",
        "train['age'] = pd.to_numeric(train['age'], errors='coerce')\n",
        "test['age'] = pd.to_numeric(test['age'], errors='coerce')\n",
        "\n",
        "# Handle any missing values in the 'age' column\n",
        "train['age'] = train['age'].fillna(0)\n",
        "test['age'] = test['age'].fillna(0)\n",
        "\n",
        "model = DecisionTreeClassifier(criterion='gini', max_depth=1, min_impurity_decrease=0.0)\n",
        "model.fit(train[['age']], train['product'])\n",
        "\n",
        "fig, ax = plt.subplots(figsize=(8, 6))\n",
        "plot_tree(model, feature_names=['age'], class_names=['A', 'B'], filled=True)\n",
        "plt.title(\"Decision Tree - Split on Age\")\n",
        "plt.show()"
      ],
      "id": "c12e676c"
    },
    {
      "cell_type": "markdown",
      "metadata": {},
      "source": [
        "The tree above makes 2 mistakes out of 7.\n",
        "\n",
        "#### Test With Testing Data"
      ],
      "id": "564bb7cd-f1f4-4171-a139-01603abc6895"
    },
    {
      "cell_type": "code",
      "execution_count": null,
      "metadata": {},
      "outputs": [],
      "source": [
        "pred = model.predict(test[['age']])\n",
        "compare = pd.DataFrame({'actual': test['product'], 'predictions': pred})\n",
        "print(compare)\n",
        "\n",
        "print(\"Confusion Matrix:\")\n",
        "print(pd.crosstab(test['product'], pred))\n",
        "\n",
        "print(\"Accuracy:\")\n",
        "print(accuracy_score(test['product'], pred))"
      ],
      "id": "ec9e15e3"
    },
    {
      "cell_type": "markdown",
      "metadata": {},
      "source": [
        "### Model 3 - Split on Gender, then Age\n",
        "\n",
        "#### Train with Training Data"
      ],
      "id": "6a91ddb1-c0a5-4005-a5a9-95152dad951e"
    },
    {
      "cell_type": "code",
      "execution_count": null,
      "metadata": {},
      "outputs": [],
      "source": [
        "model = DecisionTreeClassifier(criterion='gini', max_depth=3, min_impurity_decrease=0.0)\n",
        "model.fit(train[['gender_encoded', 'age']], train['product'])\n",
        "\n",
        "fig, ax = plt.subplots(figsize=(8, 6))\n",
        "plot_tree(model, feature_names=['gender_encoded', 'age'], class_names=['A', 'B'], filled=True)\n",
        "plt.title(\"Decision Tree - Split on Gender and Age\")\n",
        "plt.show()"
      ],
      "id": "5044e06f"
    },
    {
      "cell_type": "markdown",
      "metadata": {},
      "source": [
        "#### Test With Testing Data"
      ],
      "id": "e6f7f80e-4370-4f98-8a58-6d80e0486501"
    },
    {
      "cell_type": "code",
      "execution_count": null,
      "metadata": {},
      "outputs": [],
      "source": [
        "pred = model.predict(test[['gender_encoded', 'age']])\n",
        "compare = pd.DataFrame({'actual': test['product'], 'predictions': pred})\n",
        "print(compare)\n",
        "\n",
        "print(\"Confusion Matrix:\")\n",
        "print(pd.crosstab(test['product'], pred))\n",
        "\n",
        "print(\"Accuracy:\")\n",
        "print(accuracy_score(test['product'], pred))"
      ],
      "id": "900b6e9e"
    },
    {
      "cell_type": "markdown",
      "metadata": {},
      "source": [
        "The best model on these training sets is the last one, since the\n",
        "accuracy is smallest for that one."
      ],
      "id": "a02d997b-c3ab-4ef5-955f-57e1bf70c1ee"
    }
  ],
  "nbformat": 4,
  "nbformat_minor": 5,
  "metadata": {
    "kernelspec": {
      "name": "python3",
      "display_name": "Python 3 (ipykernel)",
      "language": "python"
    }
  }
}
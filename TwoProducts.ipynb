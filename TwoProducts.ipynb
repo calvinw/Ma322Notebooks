{
  "cells": [
    {
      "cell_type": "markdown",
      "metadata": {},
      "source": [
        "# Two Products\n",
        "\n",
        "### Import our data from a google spreadsheet"
      ],
      "id": "7910dd75-1e07-4283-bac5-3176273599dc"
    },
    {
      "cell_type": "code",
      "execution_count": null,
      "metadata": {},
      "outputs": [],
      "source": [
        "import pandas as pd\n",
        "\n",
        "# Define the URL of the Google Sheet\n",
        "url = \"https://docs.google.com/spreadsheets/d/e/2PACX-1vTFmRX4RW3PitgcJya0X2sRbSiD0J2t0oYewyhkkyWwR9i8NIaHiuQKrBtLlrwG9fzn4MvNOM92olnK/pub?gid=0&single=true&output=csv\"\n",
        "\n",
        "# Read the CSV data from the URL using pandas\n",
        "original_df = pd.read_csv(url)\n",
        "\n",
        "# Print the DataFrame\n",
        "print(\"Original DataFrame\")\n",
        "print(\"\")\n",
        "print(original_df)"
      ],
      "id": "426ac9ea"
    },
    {
      "cell_type": "markdown",
      "metadata": {},
      "source": [
        "### Rename the variables all with 0s and 1s"
      ],
      "id": "6f18295a-40e4-444d-a970-d1b24335b30c"
    },
    {
      "cell_type": "code",
      "execution_count": null,
      "metadata": {},
      "outputs": [],
      "source": [
        "mapping = {\n",
        "    \"gender\": {\"F\": 0, \"M\": 1},\n",
        "    \"age\": {\"Adult\": 0, \"Young\": 1},\n",
        "    \"product\": {\"AlienBetweenUs\": 0, \"MindCraft\": 1}\n",
        "}\n",
        "\n",
        "df = original_df.replace(mapping, regex=True)\n",
        "\n",
        "print(\"DataFrame with 0s and 1s\")\n",
        "print(\"\")\n",
        "print(df)"
      ],
      "id": "618bc01c"
    },
    {
      "cell_type": "raw",
      "metadata": {
        "raw_mimetype": "text/html"
      },
      "source": [
        "<hr>"
      ],
      "id": "d904bdd7-3966-4336-9fd4-eb907fa3d6a3"
    },
    {
      "cell_type": "markdown",
      "metadata": {},
      "source": [
        "| product            |     |\n",
        "|--------------------|-----|\n",
        "| **AlienBetweenUs** | 0   |\n",
        "| **MindCraft**      | 1   |"
      ],
      "id": "adf0f841-5a39-473a-a808-3fd12a4354c3"
    },
    {
      "cell_type": "raw",
      "metadata": {
        "raw_mimetype": "text/html"
      },
      "source": [
        "<hr>"
      ],
      "id": "8caa495a-319d-4ddf-a70b-338c1402af9b"
    },
    {
      "cell_type": "markdown",
      "metadata": {},
      "source": [
        "| gender |     |\n",
        "|--------|-----|\n",
        "| **F**  | 0   |\n",
        "| **M**  | 1   |"
      ],
      "id": "3af5aef4-f20c-4482-a341-80d64c39098e"
    },
    {
      "cell_type": "raw",
      "metadata": {
        "raw_mimetype": "text/html"
      },
      "source": [
        "<hr>"
      ],
      "id": "0c7fbb1f-b832-49eb-8f70-a97625327673"
    },
    {
      "cell_type": "markdown",
      "metadata": {},
      "source": [
        "| age       |     |\n",
        "|-----------|-----|\n",
        "| **Adult** | 0   |\n",
        "| **Young** | 1   |"
      ],
      "id": "35e9dd70-d61a-4198-a0a2-9a8849a73048"
    },
    {
      "cell_type": "raw",
      "metadata": {
        "raw_mimetype": "text/html"
      },
      "source": [
        "<hr>"
      ],
      "id": "22c91e7e-1e6f-446d-a812-0c19fb279094"
    },
    {
      "cell_type": "markdown",
      "metadata": {},
      "source": [
        "### Create a dataframe with the x-variables and a dataframe with the y-variables"
      ],
      "id": "d3e4c340-ec33-47c1-b117-c0b9818a0d13"
    },
    {
      "cell_type": "code",
      "execution_count": null,
      "metadata": {},
      "outputs": [],
      "source": [
        "import pandas as pd\n",
        "\n",
        "from sklearn.tree import DecisionTreeClassifier, plot_tree\n",
        "\n",
        "# Create a dataframe with just the predictor (x-columns)\n",
        "x = df[[\"gender\", \"age\"]]\n",
        "\n",
        "print(x)\n",
        "\n",
        "# create a dataframe with just the y-columns\n",
        "y = df[[\"product\"]]\n",
        "\n",
        "print(y)"
      ],
      "id": "8d0ee99a"
    },
    {
      "cell_type": "markdown",
      "metadata": {},
      "source": [
        "### Create A Simple Decision Tree Model and Fit the Training Data to It"
      ],
      "id": "0bef930a-27d0-4afa-8f4b-2f8e11d1ae6b"
    },
    {
      "cell_type": "code",
      "execution_count": null,
      "metadata": {},
      "outputs": [],
      "source": [
        "#Create a decision tree classifier object\n",
        "classifier = DecisionTreeClassifier(max_depth=1)\n",
        "\n",
        "# Train the model on the data\n",
        "classifier.fit(x, y)"
      ],
      "id": "31bac5f5"
    },
    {
      "cell_type": "markdown",
      "metadata": {},
      "source": [
        "### Print Out the Decision Tree"
      ],
      "id": "1e8705d7-44a2-4ddc-93af-425d01e35358"
    },
    {
      "cell_type": "code",
      "execution_count": null,
      "metadata": {},
      "outputs": [],
      "source": [
        "import matplotlib.pyplot as plt\n",
        "fig, ax = plt.subplots(figsize=(10, 8))\n",
        "plot_tree(classifier, feature_names=[\"gender\", \"age\"], class_names=[\"AlienBetweenUs\", \"MindCraft\"], filled=True, impurity=False, ax=ax)\n",
        "plt.show()"
      ],
      "id": "88a07be4"
    },
    {
      "cell_type": "markdown",
      "metadata": {},
      "source": [
        "### Create X-Variables to make Predictions For"
      ],
      "id": "c5dc007f-b3b0-4d7b-8cf3-e61f1990f52e"
    },
    {
      "cell_type": "code",
      "execution_count": null,
      "metadata": {},
      "outputs": [],
      "source": [
        "# Make predictions on test_df\n",
        "\n",
        "# make two predictions\n",
        "# one for F and Young\n",
        "# one for M and Adult\n",
        "\n",
        "row1 = {\"gender\": 0, \"age\": 1}  # gender is F, age is Young\n",
        "row2 = {\"gender\": 1, \"age\": 0}  # gender is M, age is Adult\n",
        "\n",
        "test_df = pd.DataFrame([row1, row2] )\n",
        "\n",
        "print(\"test_df\")\n",
        "print(test_df)"
      ],
      "id": "870669e9"
    },
    {
      "cell_type": "markdown",
      "metadata": {},
      "source": [
        "### Make Predictions"
      ],
      "id": "e99ccc46-5303-4ea3-b534-d8c94ee3c2ad"
    },
    {
      "cell_type": "code",
      "execution_count": null,
      "metadata": {},
      "outputs": [],
      "source": [
        "predictions = classifier.predict(test_df)\n",
        "\n",
        "# Print the predictions\n",
        "print(\"Predictions\")\n",
        "print(predictions)"
      ],
      "id": "434a13f4"
    },
    {
      "cell_type": "markdown",
      "metadata": {},
      "source": [
        "\\[1, 0\\] is a list of 2 predictions: - first prediction is 1 or\n",
        "`MindCraft` - second prediction is 0 or `AlienBetweenUs`\n",
        "\n",
        "### Create Another Decision Tree Model"
      ],
      "id": "bdb17639-bf8a-4e56-8705-98ec3f19c082"
    },
    {
      "cell_type": "code",
      "execution_count": null,
      "metadata": {},
      "outputs": [],
      "source": [
        "#Create a decision tree classifier object\n",
        "classifier = DecisionTreeClassifier()\n",
        "\n",
        "# Train the model on the data\n",
        "classifier.fit(x, y)"
      ],
      "id": "1f3c0def"
    },
    {
      "cell_type": "markdown",
      "metadata": {},
      "source": [
        "### Print Out the Decision Tree"
      ],
      "id": "4b9c5ea9-ff9e-4627-a59a-f112370e8dfa"
    },
    {
      "cell_type": "code",
      "execution_count": null,
      "metadata": {},
      "outputs": [],
      "source": [
        "import matplotlib.pyplot as plt\n",
        "fig, ax = plt.subplots(figsize=(10, 8))\n",
        "plot_tree(classifier, feature_names=[\"gender\", \"age\"], class_names=[\"AlienBetweenUs\", \"MindCraft\"], filled=True, impurity=False, ax=ax)\n",
        "plt.show()"
      ],
      "id": "8cdbd181"
    }
  ],
  "nbformat": 4,
  "nbformat_minor": 5,
  "metadata": {
    "kernelspec": {
      "name": "python3",
      "display_name": "Python 3 (ipykernel)",
      "language": "python"
    }
  }
}
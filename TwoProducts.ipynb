{
  "cells": [
    {
      "cell_type": "markdown",
      "metadata": {},
      "source": [
        "# Two Products\n",
        "\n",
        "### Import our data from a google spreadsheet"
      ],
      "id": "b8db12d3-ece0-4193-b781-85234fab810e"
    },
    {
      "cell_type": "code",
      "execution_count": null,
      "metadata": {},
      "outputs": [],
      "source": [
        "import pandas as pd\n",
        "\n",
        "# Define the URL of the Google Sheet\n",
        "url = \"https://docs.google.com/spreadsheets/d/e/2PACX-1vTFmRX4RW3PitgcJya0X2sRbSiD0J2t0oYewyhkkyWwR9i8NIaHiuQKrBtLlrwG9fzn4MvNOM92olnK/pub?gid=0&single=true&output=csv\"\n",
        "\n",
        "# Read the CSV data from the URL using pandas\n",
        "original_df = pd.read_csv(url)\n",
        "\n",
        "# Print the DataFrame\n",
        "print(\"Original DataFrame\")\n",
        "print(\"\")\n",
        "print(original_df)"
      ],
      "id": "3f6a6f85"
    },
    {
      "cell_type": "markdown",
      "metadata": {},
      "source": [
        "### Rename the variables all with 0s and 1s"
      ],
      "id": "cf2934b3-ff6c-4bd9-b32d-da9eb1beda59"
    },
    {
      "cell_type": "code",
      "execution_count": null,
      "metadata": {},
      "outputs": [],
      "source": [
        "pd.set_option('future.no_silent_downcasting', True)\n",
        "\n",
        "mapping = {\n",
        "    \"gender\": {\"F\": 0, \"M\": 1},\n",
        "    \"age\": {\"Adult\": 0, \"Young\": 1},\n",
        "    \"product\": {\"AlienBetweenUs\": 0, \"MindCraft\": 1}\n",
        "}\n",
        "\n",
        "df = original_df.replace(mapping, regex=True)\n",
        "\n",
        "print(\"DataFrame with 0s and 1s\")\n",
        "print(\"\")\n",
        "print(df)"
      ],
      "id": "5d1a9cfb"
    },
    {
      "cell_type": "raw",
      "metadata": {
        "raw_mimetype": "text/html"
      },
      "source": [
        "<hr>"
      ],
      "id": "094bfaeb-0a7e-4ca2-926f-8000cc2a9458"
    },
    {
      "cell_type": "markdown",
      "metadata": {},
      "source": [
        "| product            |     |\n",
        "|--------------------|-----|\n",
        "| **AlienBetweenUs** | 0   |\n",
        "| **MindCraft**      | 1   |"
      ],
      "id": "91be95b3-d6b2-4a11-8acd-33e9327f9c12"
    },
    {
      "cell_type": "raw",
      "metadata": {
        "raw_mimetype": "text/html"
      },
      "source": [
        "<hr>"
      ],
      "id": "46d6604c-adc4-43b7-855a-9ae2558162ff"
    },
    {
      "cell_type": "markdown",
      "metadata": {},
      "source": [
        "| gender |     |\n",
        "|--------|-----|\n",
        "| **F**  | 0   |\n",
        "| **M**  | 1   |"
      ],
      "id": "410d7228-ea7b-485f-9cb8-42a6db2bc803"
    },
    {
      "cell_type": "raw",
      "metadata": {
        "raw_mimetype": "text/html"
      },
      "source": [
        "<hr>"
      ],
      "id": "d6655bf9-60e9-45d6-a9c3-11ca130491a1"
    },
    {
      "cell_type": "markdown",
      "metadata": {},
      "source": [
        "| age       |     |\n",
        "|-----------|-----|\n",
        "| **Adult** | 0   |\n",
        "| **Young** | 1   |"
      ],
      "id": "d30bb379-78c6-4c92-9e37-53862105778b"
    },
    {
      "cell_type": "raw",
      "metadata": {
        "raw_mimetype": "text/html"
      },
      "source": [
        "<hr>"
      ],
      "id": "8e816d3a-d1c2-439b-9eb7-01e10604f48c"
    },
    {
      "cell_type": "markdown",
      "metadata": {},
      "source": [
        "### Create a dataframe with the x-variables and a dataframe with the y-variables"
      ],
      "id": "76c46ff0-894c-4519-989c-a6db2e363243"
    },
    {
      "cell_type": "code",
      "execution_count": null,
      "metadata": {},
      "outputs": [],
      "source": [
        "import pandas as pd\n",
        "\n",
        "from sklearn.tree import DecisionTreeClassifier, plot_tree\n",
        "\n",
        "# Create a dataframe with just the predictor (x-columns)\n",
        "x = df[[\"gender\", \"age\"]]\n",
        "\n",
        "print(x)\n",
        "\n",
        "# create a dataframe with just the y-columns\n",
        "y = df[[\"product\"]]\n",
        "\n",
        "print(y)"
      ],
      "id": "5da4189b"
    },
    {
      "cell_type": "markdown",
      "metadata": {},
      "source": [
        "### Create A Simple Decision Tree Model and Fit the Training Data to It"
      ],
      "id": "86b9fdfc-93c0-458b-a06f-7b78c6ef5390"
    },
    {
      "cell_type": "code",
      "execution_count": null,
      "metadata": {},
      "outputs": [],
      "source": [
        "#Create a decision tree classifier object\n",
        "classifier = DecisionTreeClassifier(max_depth=1)\n",
        "\n",
        "# Train the model on the data\n",
        "classifier.fit(x, y)"
      ],
      "id": "e26abb7b"
    },
    {
      "cell_type": "markdown",
      "metadata": {},
      "source": [
        "### Print Out the Decision Tree"
      ],
      "id": "632cc089-76ab-4a54-ac78-451a27c4ec3b"
    },
    {
      "cell_type": "code",
      "execution_count": null,
      "metadata": {},
      "outputs": [],
      "source": [
        "import matplotlib.pyplot as plt\n",
        "fig, ax = plt.subplots(figsize=(10, 8))\n",
        "plot_tree(classifier, feature_names=[\"gender\", \"age\"], class_names=[\"AlienBetweenUs\", \"MindCraft\"], filled=True, impurity=False, ax=ax)\n",
        "plt.show()"
      ],
      "id": "b1f61522"
    },
    {
      "cell_type": "markdown",
      "metadata": {},
      "source": [
        "### Create X-Variables to make Predictions For"
      ],
      "id": "776cfcd2-0251-442e-8b4d-254c03bd3e94"
    },
    {
      "cell_type": "code",
      "execution_count": null,
      "metadata": {},
      "outputs": [],
      "source": [
        "# Make predictions on test_df\n",
        "\n",
        "# make two predictions\n",
        "# one for F and Adult\n",
        "# one for M and Young\n",
        "\n",
        "row1 = {\"gender\": 0, \"age\": 1}  # gender is F, age is Young\n",
        "row2 = {\"gender\": 1, \"age\": 0}  # gender is M, age is Adult\n",
        "\n",
        "test_df = pd.DataFrame([row1, row2] )\n",
        "\n",
        "print(\"test_df\")\n",
        "print(test_df)"
      ],
      "id": "84141099"
    },
    {
      "cell_type": "markdown",
      "metadata": {},
      "source": [
        "### Make Predictions"
      ],
      "id": "b0c271a7-0856-4488-803c-4067f524482c"
    },
    {
      "cell_type": "code",
      "execution_count": null,
      "metadata": {},
      "outputs": [],
      "source": [
        "predictions = classifier.predict(test_df)\n",
        "\n",
        "# Print the predictions\n",
        "print(\"Predictions\")\n",
        "print(predictions)"
      ],
      "id": "5367d4bd"
    },
    {
      "cell_type": "markdown",
      "metadata": {},
      "source": [
        "\\[1, 0\\] is a list of 2 predictions: - first prediction is 1 or\n",
        "`MindCraft` - second prediction is 0 or `AlienBetweenUs`\n",
        "\n",
        "### Create Another Decision Tree Model"
      ],
      "id": "f046ac71-44a4-4c40-89a2-78f17c3dde97"
    },
    {
      "cell_type": "code",
      "execution_count": null,
      "metadata": {},
      "outputs": [],
      "source": [
        "#Create a decision tree classifier object\n",
        "classifier = DecisionTreeClassifier()\n",
        "\n",
        "# Train the model on the data\n",
        "classifier.fit(x, y)"
      ],
      "id": "90a228d4"
    },
    {
      "cell_type": "markdown",
      "metadata": {},
      "source": [
        "### Print Out the Decision Tree"
      ],
      "id": "8fe87d22-a332-46cd-ad9f-a7b1ce856047"
    },
    {
      "cell_type": "code",
      "execution_count": null,
      "metadata": {},
      "outputs": [],
      "source": [
        "import matplotlib.pyplot as plt\n",
        "fig, ax = plt.subplots(figsize=(10, 8))\n",
        "plot_tree(classifier, feature_names=[\"gender\", \"age\"], class_names=[\"AlienBetweenUs\", \"MindCraft\"], filled=True, impurity=False, ax=ax)\n",
        "plt.show()"
      ],
      "id": "de36e75c"
    }
  ],
  "nbformat": 4,
  "nbformat_minor": 5,
  "metadata": {
    "kernelspec": {
      "name": "python3",
      "display_name": "Python 3 (ipykernel)",
      "language": "python"
    }
  }
}
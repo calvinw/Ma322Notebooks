{
  "cells": [
    {
      "cell_type": "markdown",
      "metadata": {},
      "source": [
        "# More Functions\n",
        "\n",
        "## Defining and Calling Functions\n",
        "\n",
        "-   Define a function called `say_hi` that prints “Hi there!” when\n",
        "    called."
      ],
      "id": "24ad1c7e-0d8a-4784-83b0-d78e16085bc9"
    },
    {
      "cell_type": "code",
      "execution_count": null,
      "metadata": {},
      "outputs": [],
      "source": [
        "CODE"
      ],
      "id": "fe93d8fc"
    },
    {
      "cell_type": "markdown",
      "metadata": {},
      "source": [
        "-   Call the `say_hi` function you defined above."
      ],
      "id": "84f109b5-a4a9-435c-baf0-7c4d816dc51d"
    },
    {
      "cell_type": "code",
      "execution_count": null,
      "metadata": {},
      "outputs": [],
      "source": [
        "CODE"
      ],
      "id": "d0cff12a"
    },
    {
      "cell_type": "markdown",
      "metadata": {},
      "source": [
        "## Function Arguments\n",
        "\n",
        "-   Define a function called `greet_by_name` that takes a `name`\n",
        "    argument and prints “Welcome, \\[name\\]!” when called."
      ],
      "id": "12748877-aa03-453a-9504-264117e2ec7e"
    },
    {
      "cell_type": "code",
      "execution_count": null,
      "metadata": {},
      "outputs": [],
      "source": [
        "CODE"
      ],
      "id": "d81aeaec"
    },
    {
      "cell_type": "markdown",
      "metadata": {},
      "source": [
        "-   Call the `greet_by_name` function with the argument “John”."
      ],
      "id": "b463197a-868f-4fc1-ae1a-d605d4e69467"
    },
    {
      "cell_type": "code",
      "execution_count": null,
      "metadata": {},
      "outputs": [],
      "source": [
        "CODE"
      ],
      "id": "ab45c35d"
    },
    {
      "cell_type": "markdown",
      "metadata": {},
      "source": [
        "## Default Arguments\n",
        "\n",
        "-   Define a function called `greet_with_default_name` that takes a\n",
        "    `name` argument with a default value of “Guest” and prints “Hello,\n",
        "    \\[name\\]! Nice to meet you.” when called."
      ],
      "id": "d9ce28d1-dcce-434e-a35b-b5091c8b6f44"
    },
    {
      "cell_type": "code",
      "execution_count": null,
      "metadata": {},
      "outputs": [],
      "source": [
        "CODE"
      ],
      "id": "7ff2f2b4"
    },
    {
      "cell_type": "markdown",
      "metadata": {},
      "source": [
        "-   Call the `greet_with_default_name` function without providing an\n",
        "    argument."
      ],
      "id": "7b8ca7af-de1d-4437-b47f-36671dba0783"
    },
    {
      "cell_type": "code",
      "execution_count": null,
      "metadata": {},
      "outputs": [],
      "source": [
        "CODE"
      ],
      "id": "8fb9433d"
    },
    {
      "cell_type": "markdown",
      "metadata": {},
      "source": [
        "## Return Values\n",
        "\n",
        "-   Define a function called `add_numbers` that takes two arguments\n",
        "    `num1` and `num2`, adds them, and returns the result."
      ],
      "id": "ebbc8173-1cea-434f-a680-38d69f3d7317"
    },
    {
      "cell_type": "code",
      "execution_count": null,
      "metadata": {},
      "outputs": [],
      "source": [
        "CODE"
      ],
      "id": "f7ea865f"
    },
    {
      "cell_type": "markdown",
      "metadata": {},
      "source": [
        "-   Call the `add_numbers` function with arguments 5 and 7, and store\n",
        "    the result in a variable called `sum_result`.\n",
        "-   Print out `sum_result`"
      ],
      "id": "3f233cac-0205-4109-b613-fd1695a1f9fd"
    },
    {
      "cell_type": "code",
      "execution_count": null,
      "metadata": {},
      "outputs": [],
      "source": [
        "CODE"
      ],
      "id": "7ba19f06"
    },
    {
      "cell_type": "markdown",
      "metadata": {},
      "source": [
        "## Keyword Arguments\n",
        "\n",
        "-   Define a function called `introduce_person` that takes two arguments\n",
        "    `name` and `age`, and prints “This is \\[name\\], they are \\[age\\]\n",
        "    years old.” when called."
      ],
      "id": "40d50671-45d8-41c6-a1f4-4a1168c0203f"
    },
    {
      "cell_type": "code",
      "execution_count": null,
      "metadata": {},
      "outputs": [],
      "source": [
        "CODE"
      ],
      "id": "dcf4d513"
    },
    {
      "cell_type": "markdown",
      "metadata": {},
      "source": [
        "-   Call the `introduce_person` function using keyword arguments with\n",
        "    `name=\"Alice\"` and `age=25`."
      ],
      "id": "c980f0b2-08d2-43c0-8649-5a68e5714258"
    },
    {
      "cell_type": "code",
      "execution_count": null,
      "metadata": {},
      "outputs": [],
      "source": [
        "CODE"
      ],
      "id": "685bf476"
    }
  ],
  "nbformat": 4,
  "nbformat_minor": 5,
  "metadata": {
    "kernelspec": {
      "name": "python3",
      "display_name": "Python 3 (ipykernel)",
      "language": "python"
    }
  }
}
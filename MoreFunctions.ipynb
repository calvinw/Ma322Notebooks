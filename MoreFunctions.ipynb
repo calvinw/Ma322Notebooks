{
  "cells": [
    {
      "cell_type": "markdown",
      "metadata": {},
      "source": [
        "# More Functions\n",
        "\n",
        "## Defining and Calling Functions\n",
        "\n",
        "-   Below finish defining a function called `say_hi` that prints “Hi\n",
        "    there!” when called. Part of the definition is already there. Just\n",
        "    finish it where you see the word `CODE`\n",
        "-   After fixing it, execute the code block to define your function"
      ],
      "id": "dc51f84a-f509-4f67-927c-b24dcbb7fe11"
    },
    {
      "cell_type": "code",
      "execution_count": null,
      "metadata": {},
      "outputs": [],
      "source": [
        "def say_hi():\n",
        "  CODE"
      ],
      "id": "9f578b6c"
    },
    {
      "cell_type": "markdown",
      "metadata": {},
      "source": [
        "-   Call the `say_hi` function you defined above."
      ],
      "id": "77d068a2-cb9d-4e10-a942-c780c0ce5092"
    },
    {
      "cell_type": "code",
      "execution_count": null,
      "metadata": {},
      "outputs": [],
      "source": [
        "CODE"
      ],
      "id": "427a8de4"
    },
    {
      "cell_type": "markdown",
      "metadata": {},
      "source": [
        "## Function Arguments\n",
        "\n",
        "-   Define a function called `greet_by_name` that takes a `name`\n",
        "    argument and prints “Welcome \\[name\\]” when called. Some of the\n",
        "    function is already set up. Just put the rest in where you see the\n",
        "    word `CODE`\n",
        "-   After fixing it, execute the code block to define your function"
      ],
      "id": "a180aec0-9b88-40d8-880b-ee4cdd062812"
    },
    {
      "cell_type": "code",
      "execution_count": null,
      "metadata": {},
      "outputs": [],
      "source": [
        "CODE greet_by_name(CODE):\n",
        "  print(\"Welcome \" + name)"
      ],
      "id": "10d6d0b5"
    },
    {
      "cell_type": "markdown",
      "metadata": {},
      "source": [
        "-   Call the `greet_by_name` function with the argument “John”."
      ],
      "id": "663c624e-cc19-4118-9429-c3854a785b06"
    },
    {
      "cell_type": "code",
      "execution_count": null,
      "metadata": {},
      "outputs": [],
      "source": [
        "CODE"
      ],
      "id": "3ac22d73"
    },
    {
      "cell_type": "markdown",
      "metadata": {},
      "source": [
        "## Default Arguments\n",
        "\n",
        "-   Define a function called `greet_with_default_name` that takes a\n",
        "    `name` argument with a default value of “Guest” and prints “Hello\n",
        "    \\[name\\] Nice to meet you.” when called.\n",
        "-   After fixing it, execute the code block to define your function"
      ],
      "id": "70067606-9f27-44db-b7f7-dcc140ed273a"
    },
    {
      "cell_type": "code",
      "execution_count": null,
      "metadata": {},
      "outputs": [],
      "source": [
        "def greet_with_default_name(CODE):\n",
        "  print(\"Hello \" + name +\" Nice to meet you\")"
      ],
      "id": "bbb715e8"
    },
    {
      "cell_type": "markdown",
      "metadata": {},
      "source": [
        "-   Call the `greet_with_default_name` function with no argument."
      ],
      "id": "1083c007-c4d6-479b-9c43-a34692f540df"
    },
    {
      "cell_type": "code",
      "execution_count": null,
      "metadata": {},
      "outputs": [],
      "source": [
        "CODE"
      ],
      "id": "6fe4581c"
    },
    {
      "cell_type": "markdown",
      "metadata": {},
      "source": [
        "-   Call the `greet_with_default_name` function with the argument “Sam”."
      ],
      "id": "2bcfa7c2-ecf1-45e4-8757-6fbf14f4f255"
    },
    {
      "cell_type": "code",
      "execution_count": null,
      "metadata": {},
      "outputs": [],
      "source": [
        "CODE"
      ],
      "id": "b57fd939"
    },
    {
      "cell_type": "markdown",
      "metadata": {},
      "source": [
        "## Return Values\n",
        "\n",
        "-   Define a function called `multiply_numbers` that takes two arguments\n",
        "    `num1` and `num2`, multiplys them, and returns the result.\n",
        "-   After fixing it, execute the code block to define your function"
      ],
      "id": "4414d325-e3b1-4516-b18d-7bcedcc7862d"
    },
    {
      "cell_type": "code",
      "execution_count": null,
      "metadata": {},
      "outputs": [],
      "source": [
        "def multiply_numbers(num1, num2):\n",
        "  CODE"
      ],
      "id": "9b671f0f"
    },
    {
      "cell_type": "markdown",
      "metadata": {},
      "source": [
        "-   Call the `multiply_numbers` function with arguments 5 and 7, and\n",
        "    store the result in a variable called `product_result`.\n",
        "-   Print out `product_result`"
      ],
      "id": "2c8fd1d5-b738-4e83-81a6-ca22b8f44b57"
    },
    {
      "cell_type": "code",
      "execution_count": null,
      "metadata": {},
      "outputs": [],
      "source": [
        "CODE = multiply_numbers(CODE, CODE)\n",
        "print(CODE)"
      ],
      "id": "aec102e4"
    },
    {
      "cell_type": "markdown",
      "metadata": {},
      "source": [
        "## Keyword Arguments\n",
        "\n",
        "-   Define a function called `introduce_person` that takes two arguments\n",
        "    `name` and `age`, and prints “This is \\[name\\] they are \\[age\\]\n",
        "    years old.” when called. Just fill in the part where it says `CODE`\n",
        "-   After fixing it, execute the code block to define your function"
      ],
      "id": "1873ef62-cfba-4b1a-9394-6b45f03a77d6"
    },
    {
      "cell_type": "code",
      "execution_count": null,
      "metadata": {},
      "outputs": [],
      "source": [
        "def introduce_person(CODE):\n",
        "  print(\"This is \" + name + \"they are \" + str(age) + \"years old\")"
      ],
      "id": "a9afab7e"
    },
    {
      "cell_type": "markdown",
      "metadata": {},
      "source": [
        "-   Call the `introduce_person` function using keyword arguments with\n",
        "    `name=\"Alice\"` and `age=25`."
      ],
      "id": "0409fb46-923b-499a-827f-e3ca6f714cb1"
    },
    {
      "cell_type": "code",
      "execution_count": null,
      "metadata": {},
      "outputs": [],
      "source": [
        "introduce_person(CODE)"
      ],
      "id": "ed5d454e"
    }
  ],
  "nbformat": 4,
  "nbformat_minor": 5,
  "metadata": {
    "kernelspec": {
      "name": "python3",
      "display_name": "Python 3 (ipykernel)",
      "language": "python"
    }
  }
}
{
  "cells": [
    {
      "cell_type": "markdown",
      "metadata": {},
      "source": [
        "# More Functions\n",
        "\n",
        "## Defining and Calling Functions\n",
        "\n",
        "-   Below finish defining a function called `say_hi` that prints “Hi\n",
        "    there!” when called. Part of the definition is already there. Just\n",
        "    finish it where you see the word `CODE`\n",
        "-   After fixing it, execute the code block to define your function"
      ],
      "id": "1d43e7d6-1663-4bbf-87ec-684e0a3dd2d6"
    },
    {
      "cell_type": "code",
      "execution_count": null,
      "metadata": {},
      "outputs": [],
      "source": [
        "def say_hi():\n",
        "  CODE"
      ],
      "id": "7a30974e"
    },
    {
      "cell_type": "markdown",
      "metadata": {},
      "source": [
        "-   Call the `say_hi` function you defined above."
      ],
      "id": "50666c99-7867-4789-a5fe-9135aeea4ff6"
    },
    {
      "cell_type": "code",
      "execution_count": null,
      "metadata": {},
      "outputs": [],
      "source": [
        "CODE"
      ],
      "id": "d1b3e5a2"
    },
    {
      "cell_type": "markdown",
      "metadata": {},
      "source": [
        "## Function Arguments\n",
        "\n",
        "-   Define a function called `greet_by_name` that takes a `name`\n",
        "    argument and prints “Welcome \\[name\\]” when called. Some of the\n",
        "    function is already set up. Just put the rest in where you see the\n",
        "    word `CODE`\n",
        "-   After fixing it, execute the code block to define your function"
      ],
      "id": "2cf2b7a8-f137-49ae-9e87-55210518a4d1"
    },
    {
      "cell_type": "code",
      "execution_count": null,
      "metadata": {},
      "outputs": [],
      "source": [
        "CODE greet_by_name(CODE):\n",
        "  print(\"Welcome \" + name)"
      ],
      "id": "f783d69e"
    },
    {
      "cell_type": "markdown",
      "metadata": {},
      "source": [
        "-   Call the `greet_by_name` function with the argument “John”."
      ],
      "id": "343f2dbd-4f3f-48a7-b261-be79276cd71b"
    },
    {
      "cell_type": "code",
      "execution_count": null,
      "metadata": {},
      "outputs": [],
      "source": [
        "CODE"
      ],
      "id": "ae6c7b12"
    },
    {
      "cell_type": "markdown",
      "metadata": {},
      "source": [
        "## Default Arguments\n",
        "\n",
        "-   Define a function called `greet_with_default_name` that takes a\n",
        "    `name` argument with a default value of “Guest” and prints “Hello\n",
        "    \\[name\\] Nice to meet you.” when called.\n",
        "-   After fixing it, execute the code block to define your function"
      ],
      "id": "df356567-45cf-47bc-b02e-2d858fb3b71a"
    },
    {
      "cell_type": "code",
      "execution_count": null,
      "metadata": {},
      "outputs": [],
      "source": [
        "def greet_with_default_name(CODE):\n",
        "  print(\"Hello \" + name +\" Nice to meet you\")"
      ],
      "id": "5aab899d"
    },
    {
      "cell_type": "markdown",
      "metadata": {},
      "source": [
        "-   Call the `greet_with_default_name` function with no argument."
      ],
      "id": "5608a58d-85f5-40bb-a073-e527b61e7814"
    },
    {
      "cell_type": "code",
      "execution_count": null,
      "metadata": {},
      "outputs": [],
      "source": [
        "CODE"
      ],
      "id": "1c23dc58"
    },
    {
      "cell_type": "markdown",
      "metadata": {},
      "source": [
        "-   Call the `greet_with_default_name` function with the argument “Sam”."
      ],
      "id": "2d729ba4-f37a-439b-8722-cb8f74408b64"
    },
    {
      "cell_type": "code",
      "execution_count": null,
      "metadata": {},
      "outputs": [],
      "source": [
        "CODE"
      ],
      "id": "abad4c12"
    },
    {
      "cell_type": "markdown",
      "metadata": {},
      "source": [
        "## Return Values\n",
        "\n",
        "-   Define a function called `add_numbers` that takes two arguments\n",
        "    `num1` and `num2`, adds them, and returns the result.\n",
        "-   After fixing it, execute the code block to define your function"
      ],
      "id": "b5be2a36-6996-47f7-9c6d-b26c94100ae5"
    },
    {
      "cell_type": "code",
      "execution_count": null,
      "metadata": {},
      "outputs": [],
      "source": [
        "def add_numbers(num1, num2):\n",
        "  CODE"
      ],
      "id": "55588ff3"
    },
    {
      "cell_type": "markdown",
      "metadata": {},
      "source": [
        "-   Call the `add_numbers` function with arguments 5 and 7, and store\n",
        "    the result in a variable called `sum_result`.\n",
        "-   Print out `sum_result`"
      ],
      "id": "5c252e3a-0ee0-427e-aae9-866279a3340c"
    },
    {
      "cell_type": "code",
      "execution_count": null,
      "metadata": {},
      "outputs": [],
      "source": [
        "CODE = add_numbers(CODE, CODE)\n",
        "print(CODE)"
      ],
      "id": "84c29ef1"
    },
    {
      "cell_type": "markdown",
      "metadata": {},
      "source": [
        "## Keyword Arguments\n",
        "\n",
        "-   Define a function called `introduce_person` that takes two arguments\n",
        "    `name` and `age`, and prints “This is \\[name\\] they are \\[age\\]\n",
        "    years old.” when called. Just fill in the part where it says `CODE`\n",
        "-   After fixing it, execute the code block to define your function"
      ],
      "id": "f620f373-387d-44fa-a299-addd99bfb5d4"
    },
    {
      "cell_type": "code",
      "execution_count": null,
      "metadata": {},
      "outputs": [],
      "source": [
        "def introduce_person(CODE):\n",
        "  print(\"This is \" + name + \"they are \" + str(age) + \"years old\")"
      ],
      "id": "f389825d"
    },
    {
      "cell_type": "markdown",
      "metadata": {},
      "source": [
        "-   Call the `introduce_person` function using keyword arguments with\n",
        "    `name=\"Alice\"` and `age=25`."
      ],
      "id": "cd873563-0db2-41a7-8d26-e19b31b6a795"
    },
    {
      "cell_type": "code",
      "execution_count": null,
      "metadata": {},
      "outputs": [],
      "source": [
        "introduce_person(CODE)"
      ],
      "id": "50db0c2c"
    }
  ],
  "nbformat": 4,
  "nbformat_minor": 5,
  "metadata": {
    "kernelspec": {
      "name": "python3",
      "display_name": "Python 3 (ipykernel)",
      "language": "python"
    }
  }
}
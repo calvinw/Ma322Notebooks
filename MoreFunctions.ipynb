{
  "cells": [
    {
      "cell_type": "markdown",
      "metadata": {},
      "source": [
        "# More Functions\n",
        "\n",
        "## Defining and Calling Functions\n",
        "\n",
        "**Problem**:\n",
        "\n",
        "-   Below finish defining a function called `say_hi` that prints “Hi\n",
        "    there!” when called. Part of the definition is already there. Just\n",
        "    finish it where you see the word `CODE`\n",
        "-   After fixing it, execute the code block to define your function"
      ],
      "id": "17658a92-36b3-4410-a1fa-94814c909878"
    },
    {
      "cell_type": "code",
      "execution_count": null,
      "metadata": {},
      "outputs": [],
      "source": [
        "def say_hi():\n",
        "  CODE"
      ],
      "id": "db4ba904"
    },
    {
      "cell_type": "markdown",
      "metadata": {},
      "source": [
        "**Problem**:\n",
        "\n",
        "-   Call the `say_hi` function you defined above."
      ],
      "id": "9b57cda4-3b54-4f9c-86c4-27fb3c960442"
    },
    {
      "cell_type": "code",
      "execution_count": null,
      "metadata": {},
      "outputs": [],
      "source": [
        "CODE"
      ],
      "id": "59380471"
    },
    {
      "cell_type": "markdown",
      "metadata": {},
      "source": [
        "## Function Arguments\n",
        "\n",
        "**Problem**:\n",
        "\n",
        "-   Define a function called `greet_by_name` that takes a `name`\n",
        "    argument and prints “Welcome \\[name\\]” when called. Some of the\n",
        "    function is already set up. Just put the rest in where you see the\n",
        "    word `CODE`\n",
        "-   After fixing it, execute the code block to define your function"
      ],
      "id": "4125eec0-0b21-44b1-b7bc-a8cd0a440cc1"
    },
    {
      "cell_type": "code",
      "execution_count": null,
      "metadata": {},
      "outputs": [],
      "source": [
        "CODE greet_by_name(CODE):\n",
        "  print(\"Welcome \" + name)"
      ],
      "id": "b4d24403"
    },
    {
      "cell_type": "markdown",
      "metadata": {},
      "source": [
        "**Problem**:\n",
        "\n",
        "-   Call the `greet_by_name` function with the argument “John”."
      ],
      "id": "ee7f68bf-a426-40b5-bfd8-8e966dab46f5"
    },
    {
      "cell_type": "code",
      "execution_count": null,
      "metadata": {},
      "outputs": [],
      "source": [
        "CODE"
      ],
      "id": "1b84a99c"
    },
    {
      "cell_type": "markdown",
      "metadata": {},
      "source": [
        "## Default Arguments\n",
        "\n",
        "**Problem**:\n",
        "\n",
        "-   Define a function called `greet_with_default_name` that takes a\n",
        "    `name` argument with a default value of “Guest” and prints “Hello\n",
        "    \\[name\\] Nice to meet you.” when called.\n",
        "-   After fixing it, execute the code block to define your function"
      ],
      "id": "a785aa11-9d93-4043-a04b-4d9545918498"
    },
    {
      "cell_type": "code",
      "execution_count": null,
      "metadata": {},
      "outputs": [],
      "source": [
        "def greet_with_default_name(CODE):\n",
        "  print(\"Hello \" + name +\" Nice to meet you\")"
      ],
      "id": "3904603f"
    },
    {
      "cell_type": "markdown",
      "metadata": {},
      "source": [
        "**Problem**:\n",
        "\n",
        "-   Call the `greet_with_default_name` function with no argument."
      ],
      "id": "90ed97e2-ad96-4de5-9e24-945a5669ff33"
    },
    {
      "cell_type": "code",
      "execution_count": null,
      "metadata": {},
      "outputs": [],
      "source": [
        "CODE"
      ],
      "id": "278f0eb3"
    },
    {
      "cell_type": "markdown",
      "metadata": {},
      "source": [
        "**Problem**: - Call the `greet_with_default_name` function with the\n",
        "argument “Sam”."
      ],
      "id": "0095b562-4ee6-48c7-aa79-37ae3c781c12"
    },
    {
      "cell_type": "code",
      "execution_count": null,
      "metadata": {},
      "outputs": [],
      "source": [
        "CODE"
      ],
      "id": "298de0cc"
    },
    {
      "cell_type": "markdown",
      "metadata": {},
      "source": [
        "## Return Values\n",
        "\n",
        "**Problem**:\n",
        "\n",
        "-   Define a function called `add_numbers` that takes two arguments\n",
        "    `num1` and `num2`, adds them, and returns the result.\n",
        "-   After fixing it, execute the code block to define your function"
      ],
      "id": "dca8fd9c-b3e9-419d-b6ca-4b6d5800993b"
    },
    {
      "cell_type": "code",
      "execution_count": null,
      "metadata": {},
      "outputs": [],
      "source": [
        "def add_numbers(num1, num2):\n",
        "  CODE"
      ],
      "id": "2122988e"
    },
    {
      "cell_type": "markdown",
      "metadata": {},
      "source": [
        "**Problem**:\n",
        "\n",
        "-   Call the `add_numbers` function with arguments 5 and 7, and store\n",
        "    the result in a variable called `sum_result`.\n",
        "-   Print out `sum_result`"
      ],
      "id": "82f9e933-4e85-4105-bcef-31148d9ac742"
    },
    {
      "cell_type": "code",
      "execution_count": null,
      "metadata": {},
      "outputs": [],
      "source": [
        "CODE = add_numbers(CODE, CODE)\n",
        "print(CODE)"
      ],
      "id": "63b896c4"
    },
    {
      "cell_type": "markdown",
      "metadata": {},
      "source": [
        "## Keyword Arguments\n",
        "\n",
        "**Problem**:\n",
        "\n",
        "-   Define a function called `introduce_person` that takes two arguments\n",
        "    `name` and `age`, and prints “This is \\[name\\] they are \\[age\\]\n",
        "    years old.” when called. Just fill in the part where it says `CODE`\n",
        "-   After fixing it, execute the code block to define your function"
      ],
      "id": "b5299050-544e-4ce3-a1a5-5615693a6f31"
    },
    {
      "cell_type": "code",
      "execution_count": null,
      "metadata": {},
      "outputs": [],
      "source": [
        "def introduce_person(CODE):\n",
        "  print(\"This is \" + name + \"they are \" + str(age) + \"years old\")"
      ],
      "id": "ebce35c1"
    },
    {
      "cell_type": "markdown",
      "metadata": {},
      "source": [
        "**Problem**:\n",
        "\n",
        "-   Call the `introduce_person` function using keyword arguments with\n",
        "    `name=\"Alice\"` and `age=25`."
      ],
      "id": "04153cd7-d126-4681-943d-47f141ff846b"
    },
    {
      "cell_type": "code",
      "execution_count": null,
      "metadata": {},
      "outputs": [],
      "source": [
        "introduce_person(CODE)"
      ],
      "id": "cd99d30e"
    }
  ],
  "nbformat": 4,
  "nbformat_minor": 5,
  "metadata": {
    "kernelspec": {
      "name": "python3",
      "display_name": "Python 3 (ipykernel)",
      "language": "python"
    }
  }
}
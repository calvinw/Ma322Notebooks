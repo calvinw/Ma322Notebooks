{
  "cells": [
    {
      "cell_type": "markdown",
      "metadata": {},
      "source": [
        "# More Functions\n",
        "\n",
        "## Defining and Calling Functions\n",
        "\n",
        "**Problem**:\n",
        "\n",
        "-   Below finish defining a function called `say_hi` that prints “Hi\n",
        "    there!” when called. Part of the definition is already there. Just\n",
        "    finish it where you see the word `CODE`\n",
        "-   After fixing it, execute the code block to define your function"
      ],
      "id": "2a1c0b9b-14cd-46f2-a787-e236becbef15"
    },
    {
      "cell_type": "code",
      "execution_count": null,
      "metadata": {},
      "outputs": [],
      "source": [
        "def say_hi():\n",
        "  CODE"
      ],
      "id": "e8e82d15"
    },
    {
      "cell_type": "markdown",
      "metadata": {},
      "source": [
        "**Problem**:\n",
        "\n",
        "-   Call the `say_hi` function you defined above."
      ],
      "id": "90112ec4-93b6-412e-97a0-4a95d8d087ae"
    },
    {
      "cell_type": "code",
      "execution_count": null,
      "metadata": {},
      "outputs": [],
      "source": [
        "CODE"
      ],
      "id": "367fbb45"
    },
    {
      "cell_type": "markdown",
      "metadata": {},
      "source": [
        "## Function Arguments\n",
        "\n",
        "**Problem**:\n",
        "\n",
        "-   Define a function called `greet_by_name` that takes a `name`\n",
        "    argument and prints “Welcome \\[name\\]” when called. Some of the\n",
        "    function is already set up. Just put the rest in where you see the\n",
        "    word `CODE`\n",
        "-   After fixing it, execute the code block to define your function"
      ],
      "id": "becab4e1-5aed-4ba2-98ee-ead67fc255f5"
    },
    {
      "cell_type": "code",
      "execution_count": null,
      "metadata": {},
      "outputs": [],
      "source": [
        "CODE greet_by_name(CODE):\n",
        "  print(\"Welcome \" + name)"
      ],
      "id": "3e12ff88"
    },
    {
      "cell_type": "markdown",
      "metadata": {},
      "source": [
        "**Problem**:\n",
        "\n",
        "-   Call the `greet_by_name` function with the argument “John”."
      ],
      "id": "3c1cf5fb-cd2b-44bc-ab35-9a41fcedc47e"
    },
    {
      "cell_type": "code",
      "execution_count": null,
      "metadata": {},
      "outputs": [],
      "source": [
        "CODE"
      ],
      "id": "3e4d51d8"
    },
    {
      "cell_type": "markdown",
      "metadata": {},
      "source": [
        "## Default Arguments\n",
        "\n",
        "**Problem**:\n",
        "\n",
        "-   Define a function called `greet_with_default_name` that takes a\n",
        "    `name` argument with a default value of “Guest” and prints “Hello\n",
        "    \\[name\\] Nice to meet you.” when called.\n",
        "-   After fixing it, execute the code block to define your function"
      ],
      "id": "eddda9ea-4ed1-43eb-9d89-b0a106d4f05e"
    },
    {
      "cell_type": "code",
      "execution_count": null,
      "metadata": {},
      "outputs": [],
      "source": [
        "def greet_with_default_name(CODE):\n",
        "  print(\"Hello \" + name +\" Nice to meet you\")"
      ],
      "id": "912253f6"
    },
    {
      "cell_type": "markdown",
      "metadata": {},
      "source": [
        "**Problem**:\n",
        "\n",
        "-   Call the `greet_with_default_name` function with no argument."
      ],
      "id": "dc7b291c-7f40-43d0-b31e-ec2fb883f32e"
    },
    {
      "cell_type": "code",
      "execution_count": null,
      "metadata": {},
      "outputs": [],
      "source": [
        "CODE"
      ],
      "id": "34d004a8"
    },
    {
      "cell_type": "markdown",
      "metadata": {},
      "source": [
        "**Problem**: - Call the `greet_with_default_name` function with the\n",
        "argument “Sam”."
      ],
      "id": "31e5875d-4a6e-4be3-b072-df766a0501d3"
    },
    {
      "cell_type": "code",
      "execution_count": null,
      "metadata": {},
      "outputs": [],
      "source": [
        "CODE"
      ],
      "id": "57f05210"
    },
    {
      "cell_type": "markdown",
      "metadata": {},
      "source": [
        "## Return Values\n",
        "\n",
        "**Problem**:\n",
        "\n",
        "-   Define a function called `add_numbers` that takes two arguments\n",
        "    `num1` and `num2`, adds them, and returns the result.\n",
        "-   After fixing it, execute the code block to define your function"
      ],
      "id": "5928e69f-adac-4ad2-9e85-4a26b1108441"
    },
    {
      "cell_type": "code",
      "execution_count": null,
      "metadata": {},
      "outputs": [],
      "source": [
        "def add_numbers(num1, num2):\n",
        "  CODE"
      ],
      "id": "af56c0b3"
    },
    {
      "cell_type": "markdown",
      "metadata": {},
      "source": [
        "**Problem**:\n",
        "\n",
        "-   Call the `add_numbers` function with arguments 5 and 7, and store\n",
        "    the result in a variable called `sum_result`.\n",
        "-   Print out `sum_result`"
      ],
      "id": "7a9858f4-ce08-4006-9d33-1cde605fd868"
    },
    {
      "cell_type": "code",
      "execution_count": null,
      "metadata": {},
      "outputs": [],
      "source": [
        "CODE = add_numbers(CODE, CODE)\n",
        "print(CODE)"
      ],
      "id": "9ce09696"
    },
    {
      "cell_type": "markdown",
      "metadata": {},
      "source": [
        "## Keyword Arguments\n",
        "\n",
        "**Problem**:\n",
        "\n",
        "-   Define a function called `introduce_person` that takes two arguments\n",
        "    `name` and `age`, and prints “This is \\[name\\] they are \\[age\\]\n",
        "    years old.” when called. Just fill in the part where it says `CODE`\n",
        "-   After fixing it, execute the code block to define your function"
      ],
      "id": "076fb8a5-55b7-4140-b866-dd6c6ad3dc21"
    },
    {
      "cell_type": "code",
      "execution_count": null,
      "metadata": {},
      "outputs": [],
      "source": [
        "def introduce_person(CODE):\n",
        "  print(\"This is \" + name + \"they are \" + str(age) + \"years old\")"
      ],
      "id": "8a1df3c0"
    },
    {
      "cell_type": "markdown",
      "metadata": {},
      "source": [
        "**Problem**:\n",
        "\n",
        "-   Call the `introduce_person` function using keyword arguments with\n",
        "    `name=\"Alice\"` and `age=25`."
      ],
      "id": "d0309091-3335-4477-9d28-0e7266fd3968"
    },
    {
      "cell_type": "code",
      "execution_count": null,
      "metadata": {},
      "outputs": [],
      "source": [
        "introduce_person(CODE)"
      ],
      "id": "6c6e8e94"
    }
  ],
  "nbformat": 4,
  "nbformat_minor": 5,
  "metadata": {
    "kernelspec": {
      "name": "python3",
      "display_name": "Python 3 (ipykernel)",
      "language": "python"
    }
  }
}
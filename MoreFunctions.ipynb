{
  "cells": [
    {
      "cell_type": "markdown",
      "metadata": {},
      "source": [
        "# More Functions\n",
        "\n",
        "## Defining and Calling Functions\n",
        "\n",
        "-   Define a function called `say_hi` that prints “Hi there!” when\n",
        "    called."
      ],
      "id": "04181b3e-c57c-4dd7-9b99-1ef2e89e09a4"
    },
    {
      "cell_type": "code",
      "execution_count": null,
      "metadata": {},
      "outputs": [],
      "source": [
        "CODE"
      ],
      "id": "2ab93211"
    },
    {
      "cell_type": "markdown",
      "metadata": {},
      "source": [
        "-   Call the `say_hi` function you defined above."
      ],
      "id": "51b7fd87-2fc0-42d1-b840-4eeaf9f84f6d"
    },
    {
      "cell_type": "code",
      "execution_count": null,
      "metadata": {},
      "outputs": [],
      "source": [
        "CODE"
      ],
      "id": "02d2be5c"
    },
    {
      "cell_type": "markdown",
      "metadata": {},
      "source": [
        "## Function Arguments\n",
        "\n",
        "-   Define a function called `greet_by_name` that takes a `name`\n",
        "    argument and prints “Welcome, \\[name\\]” when called."
      ],
      "id": "4135e382-4d10-4076-a60b-682cc0ebb59b"
    },
    {
      "cell_type": "code",
      "execution_count": null,
      "metadata": {},
      "outputs": [],
      "source": [
        "CODE"
      ],
      "id": "e33d021c"
    },
    {
      "cell_type": "markdown",
      "metadata": {},
      "source": [
        "-   Call the `greet_by_name` function with the argument “John”."
      ],
      "id": "fa27a9a8-e74c-4348-be9a-7947c7a0c1eb"
    },
    {
      "cell_type": "code",
      "execution_count": null,
      "metadata": {},
      "outputs": [],
      "source": [
        "CODE"
      ],
      "id": "45c0a4ac"
    },
    {
      "cell_type": "markdown",
      "metadata": {},
      "source": [
        "## Default Arguments\n",
        "\n",
        "-   Define a function called `greet_with_default_name` that takes a\n",
        "    `name` argument with a default value of “Guest” and prints “Hello,\n",
        "    \\[name\\]! Nice to meet you.” when called."
      ],
      "id": "ff349676-bc1f-4980-b753-6c8af5eff877"
    },
    {
      "cell_type": "code",
      "execution_count": null,
      "metadata": {},
      "outputs": [],
      "source": [
        "CODE"
      ],
      "id": "42d65c87"
    },
    {
      "cell_type": "markdown",
      "metadata": {},
      "source": [
        "-   Call the `greet_with_default_name` function without providing an\n",
        "    argument."
      ],
      "id": "19cf0a55-68da-4469-ac26-89ab9eefc10c"
    },
    {
      "cell_type": "code",
      "execution_count": null,
      "metadata": {},
      "outputs": [],
      "source": [
        "CODE"
      ],
      "id": "ba1add9c"
    },
    {
      "cell_type": "markdown",
      "metadata": {},
      "source": [
        "-   Call the `greet_with_default_name` function with the argument “Sam”."
      ],
      "id": "a9812455-4186-4416-8571-cbacfe290abf"
    },
    {
      "cell_type": "code",
      "execution_count": null,
      "metadata": {},
      "outputs": [],
      "source": [
        "CODE"
      ],
      "id": "62f4cec8"
    },
    {
      "cell_type": "markdown",
      "metadata": {},
      "source": [
        "## Return Values\n",
        "\n",
        "-   Define a function called `add_numbers` that takes two arguments\n",
        "    `num1` and `num2`, adds them, and returns the result."
      ],
      "id": "43b183d2-20cd-481c-89df-7dc710d2283e"
    },
    {
      "cell_type": "code",
      "execution_count": null,
      "metadata": {},
      "outputs": [],
      "source": [
        "CODE"
      ],
      "id": "7c67f331"
    },
    {
      "cell_type": "markdown",
      "metadata": {},
      "source": [
        "-   Call the `add_numbers` function with arguments 5 and 7, and store\n",
        "    the result in a variable called `sum_result`.\n",
        "-   Print out `sum_result`"
      ],
      "id": "57207123-b5ee-40bb-86db-7f7f3a2f789c"
    },
    {
      "cell_type": "code",
      "execution_count": null,
      "metadata": {},
      "outputs": [],
      "source": [
        "CODE"
      ],
      "id": "302a6697"
    },
    {
      "cell_type": "markdown",
      "metadata": {},
      "source": [
        "## Keyword Arguments\n",
        "\n",
        "-   Define a function called `introduce_person` that takes two arguments\n",
        "    `name` and `age`, and prints “This is \\[name\\], they are \\[age\\]\n",
        "    years old.” when called."
      ],
      "id": "2749cecf-1556-4156-bdc1-9ce8875e0d5b"
    },
    {
      "cell_type": "code",
      "execution_count": null,
      "metadata": {},
      "outputs": [],
      "source": [
        "CODE"
      ],
      "id": "942b0060"
    },
    {
      "cell_type": "markdown",
      "metadata": {},
      "source": [
        "-   Call the `introduce_person` function using keyword arguments with\n",
        "    `name=\"Alice\"` and `age=25`."
      ],
      "id": "947fdbe5-ace3-43bc-a94c-0febed869f4b"
    },
    {
      "cell_type": "code",
      "execution_count": null,
      "metadata": {},
      "outputs": [],
      "source": [
        "CODE"
      ],
      "id": "3b683d49"
    }
  ],
  "nbformat": 4,
  "nbformat_minor": 5,
  "metadata": {
    "kernelspec": {
      "name": "python3",
      "display_name": "Python 3 (ipykernel)",
      "language": "python"
    }
  }
}
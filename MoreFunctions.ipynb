{
  "cells": [
    {
      "cell_type": "markdown",
      "metadata": {},
      "source": [
        "# More Functions\n",
        "\n",
        "## Defining and Calling Functions\n",
        "\n",
        "-   Define a function called `say_hi` that prints “Hi there!” when\n",
        "    called."
      ],
      "id": "47f3e025-c0d4-4501-9ecb-631c1ea2e2e8"
    },
    {
      "cell_type": "code",
      "execution_count": null,
      "metadata": {},
      "outputs": [],
      "source": [
        "CODE"
      ],
      "id": "9faebc96"
    },
    {
      "cell_type": "markdown",
      "metadata": {},
      "source": [
        "-   Call the `say_hi` function you defined above."
      ],
      "id": "4d554e6c-52de-4b88-88da-5460de5021e3"
    },
    {
      "cell_type": "code",
      "execution_count": null,
      "metadata": {},
      "outputs": [],
      "source": [
        "CODE"
      ],
      "id": "ba069794"
    },
    {
      "cell_type": "markdown",
      "metadata": {},
      "source": [
        "## Function Arguments\n",
        "\n",
        "-   Define a function called `greet_by_name` that takes a `name`\n",
        "    argument and prints “Welcome, \\[name\\]” when called."
      ],
      "id": "19673a39-b3d4-471e-8be0-10f5e2ae68a2"
    },
    {
      "cell_type": "code",
      "execution_count": null,
      "metadata": {},
      "outputs": [],
      "source": [
        "CODE"
      ],
      "id": "f36ddf87"
    },
    {
      "cell_type": "markdown",
      "metadata": {},
      "source": [
        "-   Call the `greet_by_name` function with the argument “John”."
      ],
      "id": "718c3bc4-14ce-4dd6-a1f2-5a1a5b1dfeb8"
    },
    {
      "cell_type": "code",
      "execution_count": null,
      "metadata": {},
      "outputs": [],
      "source": [
        "CODE"
      ],
      "id": "e078c44e"
    },
    {
      "cell_type": "markdown",
      "metadata": {},
      "source": [
        "## Default Arguments\n",
        "\n",
        "-   Define a function called `greet_with_default_name` that takes a\n",
        "    `name` argument with a default value of “Guest” and prints “Hello,\n",
        "    \\[name\\]! Nice to meet you.” when called."
      ],
      "id": "4d84c6e7-7e49-4b33-97f0-ad66acbde45e"
    },
    {
      "cell_type": "code",
      "execution_count": null,
      "metadata": {},
      "outputs": [],
      "source": [
        "CODE"
      ],
      "id": "3edd7ffd"
    },
    {
      "cell_type": "markdown",
      "metadata": {},
      "source": [
        "-   Call the `greet_with_default_name` function without providing an\n",
        "    argument."
      ],
      "id": "3129a092-9ebb-4c8d-a9f8-fbfd8b434a3e"
    },
    {
      "cell_type": "code",
      "execution_count": null,
      "metadata": {},
      "outputs": [],
      "source": [
        "CODE"
      ],
      "id": "330db20c"
    },
    {
      "cell_type": "markdown",
      "metadata": {},
      "source": [
        "-   Call the `greet_with_default_name` function with the argument “Sam”."
      ],
      "id": "3447d8ab-7887-434a-8529-eeffce75592e"
    },
    {
      "cell_type": "code",
      "execution_count": null,
      "metadata": {},
      "outputs": [],
      "source": [
        "CODE"
      ],
      "id": "575bf2c5"
    },
    {
      "cell_type": "markdown",
      "metadata": {},
      "source": [
        "## Return Values\n",
        "\n",
        "-   Define a function called `add_numbers` that takes two arguments\n",
        "    `num1` and `num2`, adds them, and returns the result."
      ],
      "id": "8f0cff25-15e0-4ce9-b55d-db4ce54a7a58"
    },
    {
      "cell_type": "code",
      "execution_count": null,
      "metadata": {},
      "outputs": [],
      "source": [
        "CODE"
      ],
      "id": "7843d344"
    },
    {
      "cell_type": "markdown",
      "metadata": {},
      "source": [
        "-   Call the `add_numbers` function with arguments 5 and 7, and store\n",
        "    the result in a variable called `sum_result`.\n",
        "-   Print out `sum_result`"
      ],
      "id": "5aef1d96-d538-46c1-88d0-9630df3d1ec6"
    },
    {
      "cell_type": "code",
      "execution_count": null,
      "metadata": {},
      "outputs": [],
      "source": [
        "CODE"
      ],
      "id": "ba1854ca"
    },
    {
      "cell_type": "markdown",
      "metadata": {},
      "source": [
        "## Keyword Arguments\n",
        "\n",
        "-   Define a function called `introduce_person` that takes two arguments\n",
        "    `name` and `age`, and prints “This is \\[name\\], they are \\[age\\]\n",
        "    years old.” when called."
      ],
      "id": "41b91519-c030-4e18-aa55-fdcee259ae6a"
    },
    {
      "cell_type": "code",
      "execution_count": null,
      "metadata": {},
      "outputs": [],
      "source": [
        "CODE"
      ],
      "id": "463cb90a"
    },
    {
      "cell_type": "markdown",
      "metadata": {},
      "source": [
        "-   Call the `introduce_person` function using keyword arguments with\n",
        "    `name=\"Alice\"` and `age=25`."
      ],
      "id": "ed8f108b-f63c-4b4b-b6f9-384a38a61457"
    },
    {
      "cell_type": "code",
      "execution_count": null,
      "metadata": {},
      "outputs": [],
      "source": [
        "CODE"
      ],
      "id": "99ec6eee"
    }
  ],
  "nbformat": 4,
  "nbformat_minor": 5,
  "metadata": {
    "kernelspec": {
      "name": "python3",
      "display_name": "Python 3 (ipykernel)",
      "language": "python"
    }
  }
}
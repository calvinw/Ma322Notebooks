{
  "cells": [
    {
      "cell_type": "markdown",
      "metadata": {},
      "source": [
        "# More Functions\n",
        "\n",
        "## Defining and Calling Functions\n",
        "\n",
        "**Problem**:\n",
        "\n",
        "-   Below finish defining a function called `say_hi` that prints “Hi\n",
        "    there!” when called. Part of the definition is already there. Just\n",
        "    finish it where you see the word `CODE`\n",
        "-   After fixing it, execute the code block to define your function"
      ],
      "id": "0eab354e-4bcc-4380-9243-53a0affa19cd"
    },
    {
      "cell_type": "code",
      "execution_count": null,
      "metadata": {},
      "outputs": [],
      "source": [
        "def say_hi():\n",
        "  CODE"
      ],
      "id": "21dd8781"
    },
    {
      "cell_type": "markdown",
      "metadata": {},
      "source": [
        "**Problem**:\n",
        "\n",
        "-   Call the `say_hi` function you defined above."
      ],
      "id": "e231653a-2290-49b6-a3a4-5dbc5f255c2f"
    },
    {
      "cell_type": "code",
      "execution_count": null,
      "metadata": {},
      "outputs": [],
      "source": [
        "CODE"
      ],
      "id": "22224507"
    },
    {
      "cell_type": "markdown",
      "metadata": {},
      "source": [
        "## Function Arguments\n",
        "\n",
        "**Problem**:\n",
        "\n",
        "-   Define a function called `greet_by_name` that takes a `name`\n",
        "    argument and prints “Welcome \\[name\\]” when called. Some of the\n",
        "    function is already set up. Just put the rest in where you see the\n",
        "    word `CODE`\n",
        "-   After fixing it, execute the code block to define your function"
      ],
      "id": "cb5eb7bc-f240-4d40-bddb-75f034ef99e2"
    },
    {
      "cell_type": "code",
      "execution_count": null,
      "metadata": {},
      "outputs": [],
      "source": [
        "CODE greet_by_name(CODE):\n",
        "  print(\"Welcome \" + name)"
      ],
      "id": "e3ff59d2"
    },
    {
      "cell_type": "markdown",
      "metadata": {},
      "source": [
        "**Problem**:\n",
        "\n",
        "-   Call the `greet_by_name` function with the argument “John”."
      ],
      "id": "2daa5e07-614b-47e1-bc97-76965070602b"
    },
    {
      "cell_type": "code",
      "execution_count": null,
      "metadata": {},
      "outputs": [],
      "source": [
        "CODE"
      ],
      "id": "366e067b"
    },
    {
      "cell_type": "markdown",
      "metadata": {},
      "source": [
        "## Default Arguments\n",
        "\n",
        "**Problem**:\n",
        "\n",
        "-   Define a function called `greet_with_default_name` that takes a\n",
        "    `name` argument with a default value of “Guest” and prints “Hello\n",
        "    \\[name\\] Nice to meet you.” when called.\n",
        "-   After fixing it, execute the code block to define your function"
      ],
      "id": "137c2846-9952-40ff-a691-017725cb5fe6"
    },
    {
      "cell_type": "code",
      "execution_count": null,
      "metadata": {},
      "outputs": [],
      "source": [
        "def greet_with_default_name(CODE):\n",
        "  print(\"Hello \" + name +\" Nice to meet you\")"
      ],
      "id": "c4416441"
    },
    {
      "cell_type": "markdown",
      "metadata": {},
      "source": [
        "**Problem**:\n",
        "\n",
        "-   Call the `greet_with_default_name` function with no argument."
      ],
      "id": "49b91ad7-8b6e-44fa-8c51-3cbb0dbe1d51"
    },
    {
      "cell_type": "code",
      "execution_count": null,
      "metadata": {},
      "outputs": [],
      "source": [
        "CODE"
      ],
      "id": "16a20ace"
    },
    {
      "cell_type": "markdown",
      "metadata": {},
      "source": [
        "**Problem**: - Call the `greet_with_default_name` function with the\n",
        "argument “Sam”."
      ],
      "id": "3be2215c-c250-409f-b9d4-87055ae11af7"
    },
    {
      "cell_type": "code",
      "execution_count": null,
      "metadata": {},
      "outputs": [],
      "source": [
        "CODE"
      ],
      "id": "35ab5899"
    },
    {
      "cell_type": "markdown",
      "metadata": {},
      "source": [
        "## Return Values\n",
        "\n",
        "**Problem**:\n",
        "\n",
        "-   Define a function called `add_numbers` that takes two arguments\n",
        "    `num1` and `num2`, adds them, and returns the result.\n",
        "-   After fixing it, execute the code block to define your function"
      ],
      "id": "7737fef7-80e2-4da5-80e0-d33c1dc45cdf"
    },
    {
      "cell_type": "code",
      "execution_count": null,
      "metadata": {},
      "outputs": [],
      "source": [
        "def add_numbers(num1, num2):\n",
        "  CODE"
      ],
      "id": "022374fd"
    },
    {
      "cell_type": "markdown",
      "metadata": {},
      "source": [
        "**Problem**:\n",
        "\n",
        "-   Call the `add_numbers` function with arguments 5 and 7, and store\n",
        "    the result in a variable called `sum_result`.\n",
        "-   Print out `sum_result`"
      ],
      "id": "4319c43a-c7d2-45a6-af87-c691382cc4dc"
    },
    {
      "cell_type": "code",
      "execution_count": null,
      "metadata": {},
      "outputs": [],
      "source": [
        "CODE = add_numbers(CODE, CODE)\n",
        "print(CODE)"
      ],
      "id": "5e2c13e6"
    },
    {
      "cell_type": "markdown",
      "metadata": {},
      "source": [
        "## Keyword Arguments\n",
        "\n",
        "**Problem**:\n",
        "\n",
        "-   Define a function called `introduce_person` that takes two arguments\n",
        "    `name` and `age`, and prints “This is \\[name\\] they are \\[age\\]\n",
        "    years old.” when called. Just fill in the part where it says `CODE`\n",
        "-   After fixing it, execute the code block to define your function"
      ],
      "id": "7b7fb00f-a830-4117-baf7-f5ef7577873c"
    },
    {
      "cell_type": "code",
      "execution_count": null,
      "metadata": {},
      "outputs": [],
      "source": [
        "def introduce_person(CODE):\n",
        "  print(\"This is \" + name + \"they are \" + str(age) + \"years old\")"
      ],
      "id": "dbda63a1"
    },
    {
      "cell_type": "markdown",
      "metadata": {},
      "source": [
        "**Problem**:\n",
        "\n",
        "-   Call the `introduce_person` function using keyword arguments with\n",
        "    `name=\"Alice\"` and `age=25`."
      ],
      "id": "68181433-be1b-433e-955e-a41b73fd7375"
    },
    {
      "cell_type": "code",
      "execution_count": null,
      "metadata": {},
      "outputs": [],
      "source": [
        "introduce_person(CODE)"
      ],
      "id": "08c4fa12"
    }
  ],
  "nbformat": 4,
  "nbformat_minor": 5,
  "metadata": {
    "kernelspec": {
      "name": "python3",
      "display_name": "Python 3 (ipykernel)",
      "language": "python"
    }
  }
}
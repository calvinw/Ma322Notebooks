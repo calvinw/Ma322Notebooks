{
  "cells": [
    {
      "cell_type": "markdown",
      "metadata": {},
      "source": [
        "# Prompt Strings\n",
        "\n",
        "Create a template with a template variable `what`. Then evaulate the\n",
        "template using different values for `what`"
      ],
      "id": "22d2fc4d-502b-4428-9a83-738dbb98119f"
    },
    {
      "cell_type": "code",
      "execution_count": null,
      "metadata": {},
      "outputs": [],
      "source": [
        "template = \"Give a name for a company that makes {what}\"\n",
        "\n",
        "#Evaluate the template with what=\"Cars\"\n",
        "prompt=template.format(what=\"Cars\")\n",
        "print(prompt)\n",
        "\n",
        "#Evaluate the template with what=\"Books\"\n",
        "prompt=template.format(what=\"Books\")\n",
        "print(prompt)"
      ],
      "id": "1f700059"
    },
    {
      "cell_type": "markdown",
      "metadata": {},
      "source": [
        "Add another template variable for `num`"
      ],
      "id": "ab0beea7-e469-4d67-ab56-2c2edbe8bf58"
    },
    {
      "cell_type": "code",
      "execution_count": null,
      "metadata": {},
      "outputs": [],
      "source": [
        "template = \"Give {num} possible names for a company that makes {what}\"\n",
        "\n",
        "#Evaluate the template\n",
        "prompt=template.format(num=3, what=\"Cars\")\n",
        "print(prompt)\n",
        "\n",
        "#Evaluate the template\n",
        "prompt=template.format(num=5, what=\"Bikes\")\n",
        "print(prompt)"
      ],
      "id": "438ebe0d"
    },
    {
      "cell_type": "code",
      "execution_count": null,
      "metadata": {},
      "outputs": [],
      "source": [
        "template = \"Give {num} possible names for a company that makes {what}. Give your answer in {format}\"\n",
        "\n",
        "#Evaluate the template\n",
        "prompt=template.format(num=3, what=\"Cars\", format=\"uppercase\")\n",
        "print(prompt)\n",
        "\n",
        "#Evaluate the template\n",
        "prompt=template.format(num=3, what=\"Cars\", format=\"a markdown table\")\n",
        "print(prompt)"
      ],
      "id": "98d5505a"
    },
    {
      "cell_type": "markdown",
      "metadata": {},
      "source": [
        "We can use multi-line strings for the prompts."
      ],
      "id": "95976bc4-04b0-4ac6-be30-c3c9981be684"
    },
    {
      "cell_type": "code",
      "execution_count": null,
      "metadata": {},
      "outputs": [],
      "source": [
        "template =\"\"\"Give {num} possible names for a company that makes {what}.\n",
        "Give your answer in {format}\"\"\"\n",
        "\n",
        "#Evaluate the template\n",
        "prompt=template.format(num=3, what=\"Cars\", format=\"a bullet list\")\n",
        "print(prompt)"
      ],
      "id": "51f34928"
    },
    {
      "cell_type": "markdown",
      "metadata": {},
      "source": [
        "The following is an example of printing out a list of strings:"
      ],
      "id": "4fbaac63-02ad-4760-a955-45ddf0afc06f"
    },
    {
      "cell_type": "code",
      "execution_count": null,
      "metadata": {},
      "outputs": [],
      "source": [
        "myList = [\"cars\", \"watches\", \"bikes\", \"firecrackers\"]\n",
        "\n",
        "for item in myList:\n",
        "  print(item)"
      ],
      "id": "fbb979d1"
    },
    {
      "cell_type": "markdown",
      "metadata": {},
      "source": [
        "The following is an example of printing out 4 prompt strings based on a\n",
        "template."
      ],
      "id": "e985bb7a-08db-4816-83e8-5f8aa666900f"
    },
    {
      "cell_type": "code",
      "execution_count": null,
      "metadata": {},
      "outputs": [],
      "source": [
        "template =\"\"\"Give {num} possible names for a company that makes {what}. Give\n",
        "your answer in {format}\"\"\"\n",
        "\n",
        "myList = [\"cars\", \"watches\", \"bikes\", \"firecrackers\"]\n",
        "\n",
        "for item in myList:\n",
        "  prompt = template.format(num=3, what=item, format=\"a bullet list\")\n",
        "  print(prompt)\n",
        "  print(\"----\")"
      ],
      "id": "e0241de8"
    }
  ],
  "nbformat": 4,
  "nbformat_minor": 5,
  "metadata": {
    "kernelspec": {
      "name": "python3",
      "display_name": "Python 3 (ipykernel)",
      "language": "python"
    }
  }
}
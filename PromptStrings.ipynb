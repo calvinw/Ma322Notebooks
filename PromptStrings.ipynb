{
 "cells": [
  {
   "cell_type": "markdown",
   "id": "04206dfd-3edf-4058-ae94-b66b88fdfdc4",
   "metadata": {},
   "source": [
    "# Prompt Strings\n",
    "\n",
    "Create a template with a template variable `what`. Then evaulate the\n",
    "template using different values for `what`"
   ]
  },
  {
   "cell_type": "code",
   "execution_count": 1,
   "id": "0cd67c29",
   "metadata": {},
   "outputs": [
    {
     "name": "stdout",
     "output_type": "stream",
     "text": [
      "Give a name for a company that makes Cars\n",
      "Give a name for a company that makes Books\n"
     ]
    }
   ],
   "source": [
    "template = \"Give a name for a company that makes {what}\"\n",
    "\n",
    "#Evaluate the template with what=\"Cars\"\n",
    "prompt=template.format(what=\"Cars\")\n",
    "print(prompt)\n",
    "\n",
    "#Evaluate the template with what=\"Books\"\n",
    "prompt=template.format(what=\"Books\")\n",
    "print(prompt)"
   ]
  },
  {
   "cell_type": "markdown",
   "id": "89ad70a3-b2c6-4211-8274-d62510657b6b",
   "metadata": {},
   "source": [
    "Add another template variable for `num`"
   ]
  },
  {
   "cell_type": "code",
   "execution_count": 2,
   "id": "b960da14",
   "metadata": {},
   "outputs": [
    {
     "name": "stdout",
     "output_type": "stream",
     "text": [
      "Give 3 possible names for a company that makes Cars\n",
      "Give 5 possible names for a company that makes Bikes\n"
     ]
    }
   ],
   "source": [
    "template = \"Give {num} possible names for a company that makes {what}\"\n",
    "\n",
    "#Evaluate the template\n",
    "prompt=template.format(num=3, what=\"Cars\")\n",
    "print(prompt)\n",
    "\n",
    "#Evaluate the template\n",
    "prompt=template.format(num=5, what=\"Bikes\")\n",
    "print(prompt)"
   ]
  },
  {
   "cell_type": "code",
   "execution_count": 3,
   "id": "1328a932",
   "metadata": {},
   "outputs": [
    {
     "name": "stdout",
     "output_type": "stream",
     "text": [
      "Give 3 possible names for a company that makes Cars. Give your answer in uppercase\n",
      "Give 3 possible names for a company that makes Cars. Give your answer in a markdown table\n"
     ]
    }
   ],
   "source": [
    "template = \"Give {num} possible names for a company that makes {what}. Give your answer in {format}\"\n",
    "\n",
    "#Evaluate the template\n",
    "prompt=template.format(num=3, what=\"Cars\", format=\"uppercase\")\n",
    "print(prompt)\n",
    "\n",
    "#Evaluate the template\n",
    "prompt=template.format(num=3, what=\"Cars\", format=\"a markdown table\")\n",
    "print(prompt)"
   ]
  },
  {
   "cell_type": "markdown",
   "id": "3c43ce65-8140-4928-8883-635fba530d28",
   "metadata": {},
   "source": [
    "We can use multi-line strings for the prompts."
   ]
  },
  {
   "cell_type": "code",
   "execution_count": 4,
   "id": "d6a02f72",
   "metadata": {},
   "outputs": [
    {
     "name": "stdout",
     "output_type": "stream",
     "text": [
      "Give 3 possible names for a company that makes Cars.\n",
      "Give your answer in a bullet list\n"
     ]
    }
   ],
   "source": [
    "template =\"\"\"Give {num} possible names for a company that makes {what}.\n",
    "Give your answer in {format}\"\"\"\n",
    "\n",
    "#Evaluate the template\n",
    "prompt=template.format(num=3, what=\"Cars\", format=\"a bullet list\")\n",
    "print(prompt)"
   ]
  },
  {
   "cell_type": "markdown",
   "id": "68796f9b-2585-4f0d-bc86-ea956ab87102",
   "metadata": {},
   "source": [
    "The following is an example of printing out a list of strings:"
   ]
  },
  {
   "cell_type": "code",
   "execution_count": 5,
   "id": "fc6db09d",
   "metadata": {},
   "outputs": [
    {
     "name": "stdout",
     "output_type": "stream",
     "text": [
      "cars\n",
      "watches\n",
      "bikes\n",
      "firecrackers\n"
     ]
    }
   ],
   "source": [
    "myList = [\"cars\", \"watches\", \"bikes\", \"firecrackers\"]\n",
    "\n",
    "for item in myList:\n",
    "  print(item)"
   ]
  },
  {
   "cell_type": "markdown",
   "id": "81ef687c-8b3d-4fa6-b90b-834fb27f7718",
   "metadata": {},
   "source": [
    "The following is an example of printing out 4 prompt strings based on a\n",
    "template."
   ]
  },
  {
   "cell_type": "code",
   "execution_count": 6,
   "id": "9db66a0f",
   "metadata": {},
   "outputs": [
    {
     "name": "stdout",
     "output_type": "stream",
     "text": [
      "Give 3 possible names for a company that makes cars. Give\n",
      "your answer in a bullet list\n",
      "----\n",
      "Give 3 possible names for a company that makes watches. Give\n",
      "your answer in a bullet list\n",
      "----\n",
      "Give 3 possible names for a company that makes bikes. Give\n",
      "your answer in a bullet list\n",
      "----\n",
      "Give 3 possible names for a company that makes firecrackers. Give\n",
      "your answer in a bullet list\n",
      "----\n"
     ]
    }
   ],
   "source": [
    "template =\"\"\"Give {num} possible names for a company that makes {what}. Give\n",
    "your answer in {format}\"\"\"\n",
    "\n",
    "myList = [\"cars\", \"watches\", \"bikes\", \"firecrackers\"]\n",
    "\n",
    "for item in myList:\n",
    "  prompt = template.format(num=3, what=item, format=\"a bullet list\")\n",
    "  print(prompt)\n",
    "  print(\"----\")"
   ]
  },
  {
   "cell_type": "code",
   "execution_count": null,
   "id": "bd2623b3-023c-4d4b-8bcf-bbad7c2c7968",
   "metadata": {},
   "outputs": [],
   "source": []
  }
 ],
 "metadata": {
  "kernelspec": {
   "display_name": "Python 3 (ipykernel)",
   "language": "python",
   "name": "python3"
  },
  "language_info": {
   "codemirror_mode": {
    "name": "ipython",
    "version": 3
   },
   "file_extension": ".py",
   "mimetype": "text/x-python",
   "name": "python",
   "nbconvert_exporter": "python",
   "pygments_lexer": "ipython3",
   "version": "3.9.2"
  }
 },
 "nbformat": 4,
 "nbformat_minor": 5
}

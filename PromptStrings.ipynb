{
  "cells": [
    {
      "cell_type": "markdown",
      "metadata": {},
      "source": [
        "# Prompt Strings\n",
        "\n",
        "Create a template with a template variable `what`. Then evaulate the\n",
        "template using different values for `what`"
      ],
      "id": "04206dfd-3edf-4058-ae94-b66b88fdfdc4"
    },
    {
      "cell_type": "code",
      "execution_count": null,
      "metadata": {},
      "outputs": [],
      "source": [
        "template = \"Give a name for a company that makes {what}\"\n",
        "\n",
        "#Evaluate the template with what=\"Cars\"\n",
        "prompt=template.format(what=\"Cars\")\n",
        "print(prompt)\n",
        "\n",
        "#Evaluate the template with what=\"Books\"\n",
        "prompt=template.format(what=\"Books\")\n",
        "print(prompt)"
      ],
      "id": "0cd67c29"
    },
    {
      "cell_type": "markdown",
      "metadata": {},
      "source": [
        "Add another template variable for `num`"
      ],
      "id": "89ad70a3-b2c6-4211-8274-d62510657b6b"
    },
    {
      "cell_type": "code",
      "execution_count": null,
      "metadata": {},
      "outputs": [],
      "source": [
        "template = \"Give {num} possible names for a company that makes {what}\"\n",
        "\n",
        "#Evaluate the template\n",
        "prompt=template.format(num=3, what=\"Cars\")\n",
        "print(prompt)\n",
        "\n",
        "#Evaluate the template\n",
        "prompt=template.format(num=5, what=\"Bikes\")\n",
        "print(prompt)"
      ],
      "id": "b960da14"
    },
    {
      "cell_type": "code",
      "execution_count": null,
      "metadata": {},
      "outputs": [],
      "source": [
        "template = \"Give {num} possible names for a company that makes {what}. Give your answer in {format}\"\n",
        "\n",
        "#Evaluate the template\n",
        "prompt=template.format(num=3, what=\"Cars\", format=\"uppercase\")\n",
        "print(prompt)\n",
        "\n",
        "#Evaluate the template\n",
        "prompt=template.format(num=3, what=\"Cars\", format=\"a markdown table\")\n",
        "print(prompt)"
      ],
      "id": "1328a932"
    },
    {
      "cell_type": "markdown",
      "metadata": {},
      "source": [
        "We can use multi-line strings for the prompts."
      ],
      "id": "3c43ce65-8140-4928-8883-635fba530d28"
    },
    {
      "cell_type": "code",
      "execution_count": null,
      "metadata": {},
      "outputs": [],
      "source": [
        "template =\"\"\"Give {num} possible names for a company that makes {what}.\n",
        "Give your answer in {format}\"\"\"\n",
        "\n",
        "#Evaluate the template\n",
        "prompt=template.format(num=3, what=\"Cars\", format=\"a bullet list\")\n",
        "print(prompt)"
      ],
      "id": "d6a02f72"
    },
    {
      "cell_type": "markdown",
      "metadata": {},
      "source": [
        "The following is an example of printing out a list of strings:"
      ],
      "id": "68796f9b-2585-4f0d-bc86-ea956ab87102"
    },
    {
      "cell_type": "code",
      "execution_count": null,
      "metadata": {},
      "outputs": [],
      "source": [
        "myList = [\"cars\", \"watches\", \"bikes\", \"firecrackers\"]\n",
        "\n",
        "for item in myList:\n",
        "  print(item)"
      ],
      "id": "fc6db09d"
    },
    {
      "cell_type": "markdown",
      "metadata": {},
      "source": [
        "The following is an example of printing out 4 prompt strings based on a\n",
        "template."
      ],
      "id": "81ef687c-8b3d-4fa6-b90b-834fb27f7718"
    },
    {
      "cell_type": "code",
      "execution_count": null,
      "metadata": {},
      "outputs": [],
      "source": [
        "template =\"\"\"Give {num} possible names for a company that makes {what}. Give\n",
        "your answer in {format}\"\"\"\n",
        "\n",
        "myList = [\"cars\", \"watches\", \"bikes\", \"firecrackers\"]\n",
        "\n",
        "for item in myList:\n",
        "  prompt = template.format(num=3, what=item, format=\"a bullet list\")\n",
        "  print(prompt)\n",
        "  print(\"----\")"
      ],
      "id": "9db66a0f"
    }
  ],
  "nbformat": 4,
  "nbformat_minor": 5,
  "metadata": {
    "kernelspec": {
      "name": "python3",
      "display_name": "Python 3 (ipykernel)",
      "language": "python"
    }
  }
}
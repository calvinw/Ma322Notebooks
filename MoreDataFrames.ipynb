{
  "cells": [
    {
      "cell_type": "markdown",
      "metadata": {},
      "source": [
        "# More DataFrames\n",
        "\n",
        "In this exercise, we will work with a data frame representing students\n",
        "in a classroom. The data frame has the following columns: `name`, `age`,\n",
        "`grade`, and `favSubject`.\n",
        "\n",
        "| name    | age | grade | favSubject |\n",
        "|---------|-----|-------|------------|\n",
        "| Emma    | 14  | 9     | Math       |\n",
        "| Liam    | 15  | 10    | Science    |\n",
        "| Olivia  | 13  | 8     | English    |\n",
        "| Noah    | 15  | 10    | History    |\n",
        "| Ava     | 16  | 11    | Biology    |\n",
        "| William | 14  | 9     | Physics    |\n",
        "| Sophia  | 13  | 8     | Art        |\n",
        "| Jacob   | 15  | 10    | Math       |\n",
        "\n",
        "Here’s how we create the data frame in Python using the pandas library:"
      ],
      "id": "4ff29bba-5e23-477c-bbf6-645a4baf87dd"
    },
    {
      "cell_type": "code",
      "execution_count": null,
      "metadata": {},
      "outputs": [],
      "source": [
        "import pandas as pd\n",
        "\n",
        "name = ['Emma', 'Liam', 'Olivia', 'Noah', 'Ava', 'William', 'Sophia', 'Jacob']\n",
        "age = [14, 15, 13, 15, 16, 14, 13, 15]\n",
        "grade = [9, 10, 8, 10, 11, 9, 8, 10]\n",
        "favSubject = ['Math', 'Science', 'English', 'History', 'Biology', 'Physics', 'Art', 'Math']\n",
        "\n",
        "studentDict = {\n",
        "  'name': name,\n",
        "  'age': age,\n",
        "  'grade': grade,\n",
        "  'favSubject': favSubject\n",
        "}\n",
        "\n",
        "students = pd.DataFrame(studentDict)"
      ],
      "id": "83c11dac"
    },
    {
      "cell_type": "markdown",
      "metadata": {},
      "source": [
        "Let’s explore the data frame:\n",
        "\n",
        "**Problem**: Print the first few rows of the data frame using the `head`\n",
        "method on the `students` dataframe:"
      ],
      "id": "a7e4b3f2-5661-474e-abe6-7ae2592a9a44"
    },
    {
      "cell_type": "code",
      "execution_count": null,
      "metadata": {},
      "outputs": [],
      "source": [
        "print(CODE)"
      ],
      "id": "4215952a"
    },
    {
      "cell_type": "markdown",
      "metadata": {},
      "source": [
        "**Problem**: Check the data types of the columns using the `dtypes`\n",
        "field of the `students` dataframe"
      ],
      "id": "e148d541-7986-4340-8fd7-536572e0d274"
    },
    {
      "cell_type": "code",
      "execution_count": null,
      "metadata": {},
      "outputs": [],
      "source": [
        "print(CODE)"
      ],
      "id": "6b3f57fc"
    },
    {
      "cell_type": "markdown",
      "metadata": {},
      "source": [
        "**Problem**: Select the ‘name’ column and print it out"
      ],
      "id": "0f4dff2c-acd4-41a7-afba-65a05e23b030"
    },
    {
      "cell_type": "code",
      "execution_count": null,
      "metadata": {},
      "outputs": [],
      "source": [
        "print(CODE)"
      ],
      "id": "b6d6d137"
    },
    {
      "cell_type": "markdown",
      "metadata": {},
      "source": [
        "**Problem**: Add a new column ‘isSenior’ with True/False values based on\n",
        "whether the student’s grade is 11 or higher:"
      ],
      "id": "ea294401-4b8d-41ba-98c0-9f7748d07f99"
    },
    {
      "cell_type": "code",
      "execution_count": null,
      "metadata": {},
      "outputs": [],
      "source": [
        "CODE = [True, True, False, False, True, True, False, False]\n",
        "print(students)"
      ],
      "id": "86c19fdc"
    },
    {
      "cell_type": "markdown",
      "metadata": {},
      "source": [
        "**Problem**: Remove the ‘favSubject’ column:"
      ],
      "id": "76ff82c0-3ad0-4b81-9d3b-42d11bff645f"
    },
    {
      "cell_type": "code",
      "execution_count": null,
      "metadata": {},
      "outputs": [],
      "source": [
        "CODE\n",
        "print(students)"
      ],
      "id": "500f6cd3"
    },
    {
      "cell_type": "markdown",
      "metadata": {},
      "source": [
        "**Problem**: Print out the element in the 2nd row and the 3rd column"
      ],
      "id": "d347e0f0-a109-49ec-ad23-3b834f54edd1"
    },
    {
      "cell_type": "code",
      "execution_count": null,
      "metadata": {},
      "outputs": [],
      "source": [
        "print(CODE)"
      ],
      "id": "5fe437ac"
    }
  ],
  "nbformat": 4,
  "nbformat_minor": 5,
  "metadata": {
    "kernelspec": {
      "name": "python3",
      "display_name": "Python 3 (ipykernel)",
      "language": "python"
    }
  }
}
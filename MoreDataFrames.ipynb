{
  "cells": [
    {
      "cell_type": "markdown",
      "metadata": {},
      "source": [
        "# More DataFrames\n",
        "\n",
        "In this exercise, we will work with a data frame representing students\n",
        "in a classroom. The data frame has the following columns: `name`, `age`,\n",
        "`grade`, and `favSubject`.\n",
        "\n",
        "| name    | age | grade | favSubject |\n",
        "|---------|-----|-------|------------|\n",
        "| Emma    | 14  | 9     | Math       |\n",
        "| Liam    | 15  | 10    | Science    |\n",
        "| Olivia  | 13  | 8     | English    |\n",
        "| Noah    | 15  | 10    | History    |\n",
        "| Ava     | 16  | 11    | Biology    |\n",
        "| William | 14  | 9     | Physics    |\n",
        "| Sophia  | 13  | 8     | Art        |\n",
        "| Jacob   | 15  | 10    | Math       |\n",
        "\n",
        "Here’s how we create the data frame in Python using the pandas library:"
      ],
      "id": "9079d8ba-00b0-42f9-8bb5-06602e00be42"
    },
    {
      "cell_type": "code",
      "execution_count": null,
      "metadata": {},
      "outputs": [],
      "source": [
        "import pandas as pd\n",
        "\n",
        "name = ['Emma', 'Liam', 'Olivia', 'Noah', 'Ava', 'William', 'Sophia', 'Jacob']\n",
        "age = [14, 15, 13, 15, 16, 14, 13, 15]\n",
        "grade = [9, 10, 8, 10, 11, 9, 8, 10]\n",
        "favSubject = ['Math', 'Science', 'English', 'History', 'Biology', 'Physics', 'Art', 'Math']\n",
        "\n",
        "studentDict = {\n",
        "  'name': name,\n",
        "  'age': age,\n",
        "  'grade': grade,\n",
        "  'favSubject': favSubject\n",
        "}\n",
        "\n",
        "students = pd.DataFrame(studentDict)"
      ],
      "id": "9767cc24"
    },
    {
      "cell_type": "markdown",
      "metadata": {},
      "source": [
        "Let’s explore the data frame:\n",
        "\n",
        "**Problem**: Print the first few rows of the data frame using the `head`\n",
        "method on the `students` dataframe:"
      ],
      "id": "afd6ef54-2552-4386-8f49-57889f73f133"
    },
    {
      "cell_type": "code",
      "execution_count": null,
      "metadata": {},
      "outputs": [],
      "source": [
        "print(CODE)"
      ],
      "id": "2339501f"
    },
    {
      "cell_type": "markdown",
      "metadata": {},
      "source": [
        "**Problem**: Check the data types of the columns using the `dtypes`\n",
        "field of the `students` dataframe"
      ],
      "id": "e564254c-b828-4675-82fc-7232dae1d330"
    },
    {
      "cell_type": "code",
      "execution_count": null,
      "metadata": {},
      "outputs": [],
      "source": [
        "print(CODE)"
      ],
      "id": "8811f373"
    },
    {
      "cell_type": "markdown",
      "metadata": {},
      "source": [
        "**Problem**: Select the ‘name’ column and print it out"
      ],
      "id": "e194563b-c1bc-40ea-a30b-bd5d37e04536"
    },
    {
      "cell_type": "code",
      "execution_count": null,
      "metadata": {},
      "outputs": [],
      "source": [
        "print(CODE)"
      ],
      "id": "5ab6b753"
    },
    {
      "cell_type": "markdown",
      "metadata": {},
      "source": [
        "**Problem**: Add a new column ‘isSenior’ with True/False values based on\n",
        "whether the student’s grade is 11 or higher:"
      ],
      "id": "528197b6-0b9b-423f-b2b5-b56df675ff48"
    },
    {
      "cell_type": "code",
      "execution_count": null,
      "metadata": {},
      "outputs": [],
      "source": [
        "CODE = [True, True, False, False, True, True, False, False]\n",
        "print(students)"
      ],
      "id": "105f4d7f"
    },
    {
      "cell_type": "markdown",
      "metadata": {},
      "source": [
        "**Problem**: Remove the ‘favSubject’ column:"
      ],
      "id": "eb994f3b-bd69-44a7-9e4f-40549bb87286"
    },
    {
      "cell_type": "code",
      "execution_count": null,
      "metadata": {},
      "outputs": [],
      "source": [
        "CODE\n",
        "print(students)"
      ],
      "id": "f4d29aa4"
    },
    {
      "cell_type": "markdown",
      "metadata": {},
      "source": [
        "**Problem**: Print out the element in the 2nd row and the 3rd column"
      ],
      "id": "a7ddd78d-da1c-4dd6-9253-37cd7cfde19d"
    },
    {
      "cell_type": "code",
      "execution_count": null,
      "metadata": {},
      "outputs": [],
      "source": [
        "print(CODE)"
      ],
      "id": "8f27dda0"
    }
  ],
  "nbformat": 4,
  "nbformat_minor": 5,
  "metadata": {
    "kernelspec": {
      "name": "python3",
      "display_name": "Python 3 (ipykernel)",
      "language": "python"
    }
  }
}
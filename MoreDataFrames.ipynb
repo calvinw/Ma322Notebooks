{
  "cells": [
    {
      "cell_type": "markdown",
      "metadata": {},
      "source": [
        "# More DataFrames\n",
        "\n",
        "In this exercise, we will work with a data frame representing students\n",
        "in a classroom. The data frame has the following columns: `name`, `age`,\n",
        "`grade`, and `favSubject`.\n",
        "\n",
        "| name    | age | grade | favSubject |\n",
        "|---------|-----|-------|------------|\n",
        "| Emma    | 14  | 9     | Math       |\n",
        "| Liam    | 15  | 10    | Science    |\n",
        "| Olivia  | 13  | 8     | English    |\n",
        "| Noah    | 15  | 10    | History    |\n",
        "| Ava     | 16  | 11    | Biology    |\n",
        "| William | 14  | 9     | Physics    |\n",
        "| Sophia  | 13  | 8     | Art        |\n",
        "| Jacob   | 15  | 10    | Math       |\n",
        "\n",
        "Here’s how we create the data frame in Python using the pandas library:"
      ],
      "id": "539d391e-17b6-4ec8-8267-d15370f1efea"
    },
    {
      "cell_type": "code",
      "execution_count": null,
      "metadata": {},
      "outputs": [],
      "source": [
        "import pandas as pd\n",
        "\n",
        "name = ['Emma', 'Liam', 'Olivia', 'Noah', 'Ava', 'William', 'Sophia', 'Jacob']\n",
        "age = [14, 15, 13, 15, 16, 14, 13, 15]\n",
        "grade = [9, 10, 8, 10, 11, 9, 8, 10]\n",
        "favSubject = ['Math', 'Science', 'English', 'History', 'Biology', 'Physics', 'Art', 'Math']\n",
        "\n",
        "studentDict = {\n",
        "  'name': name,\n",
        "  'age': age,\n",
        "  'grade': grade,\n",
        "  'favSubject': favSubject\n",
        "}\n",
        "\n",
        "students = pd.DataFrame(studentDict)"
      ],
      "id": "1193dee0"
    },
    {
      "cell_type": "markdown",
      "metadata": {},
      "source": [
        "Let’s explore the data frame:\n",
        "\n",
        "**Problem**: Print the first few rows of the data frame using the `head`\n",
        "method on the `students` dataframe:"
      ],
      "id": "93981398-5afe-4ee9-b909-0c4b5a126f31"
    },
    {
      "cell_type": "code",
      "execution_count": null,
      "metadata": {},
      "outputs": [],
      "source": [
        "print(CODE)"
      ],
      "id": "4c65b041"
    },
    {
      "cell_type": "markdown",
      "metadata": {},
      "source": [
        "**Problem**: Check the data types of the columns using the `dtypes`\n",
        "field of the `students` dataframe"
      ],
      "id": "d81b4042-9f0e-4fd1-b751-c319a02cabb1"
    },
    {
      "cell_type": "code",
      "execution_count": null,
      "metadata": {},
      "outputs": [],
      "source": [
        "print(CODE)"
      ],
      "id": "39240a45"
    },
    {
      "cell_type": "markdown",
      "metadata": {},
      "source": [
        "**Problem**: Select the ‘name’ column and print it out"
      ],
      "id": "e4fcdb1f-1f77-4d21-ba9b-547fc6c13a35"
    },
    {
      "cell_type": "code",
      "execution_count": null,
      "metadata": {},
      "outputs": [],
      "source": [
        "print(CODE)"
      ],
      "id": "5e691c23"
    },
    {
      "cell_type": "markdown",
      "metadata": {},
      "source": [
        "**Problem**: Add a new column ‘isSenior’ with True/False values based on\n",
        "whether the student’s grade is 11 or higher:"
      ],
      "id": "65d0dcb2-eb2a-4926-b9ed-67094b397d81"
    },
    {
      "cell_type": "code",
      "execution_count": null,
      "metadata": {},
      "outputs": [],
      "source": [
        "CODE = [True, True, False, False, True, True, False, False]\n",
        "print(students)"
      ],
      "id": "a22b6af7"
    },
    {
      "cell_type": "markdown",
      "metadata": {},
      "source": [
        "**Problem**: Remove the ‘favSubject’ column:"
      ],
      "id": "6fb09698-613e-491f-9e2b-bce3227d94cd"
    },
    {
      "cell_type": "code",
      "execution_count": null,
      "metadata": {},
      "outputs": [],
      "source": [
        "CODE\n",
        "print(students)"
      ],
      "id": "1e6a4c5a"
    },
    {
      "cell_type": "markdown",
      "metadata": {},
      "source": [
        "**Problem**: Print out the element in the 2nd row and the 3rd column"
      ],
      "id": "699a4873-a365-4d0c-b661-7da470dfcd4d"
    },
    {
      "cell_type": "code",
      "execution_count": null,
      "metadata": {},
      "outputs": [],
      "source": [
        "print(CODE)"
      ],
      "id": "41baa5d9"
    }
  ],
  "nbformat": 4,
  "nbformat_minor": 5,
  "metadata": {
    "kernelspec": {
      "name": "python3",
      "display_name": "Python 3 (ipykernel)",
      "language": "python"
    }
  }
}
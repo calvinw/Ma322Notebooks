{
  "cells": [
    {
      "cell_type": "markdown",
      "metadata": {},
      "source": [
        "# More DataFrames\n",
        "\n",
        "In this exercise, we will work with a data frame representing students\n",
        "in a classroom. The data frame has the following columns: `name`, `age`,\n",
        "`grade`, and `favSubject`.\n",
        "\n",
        "| name    | age | grade | favSubject |\n",
        "|---------|-----|-------|------------|\n",
        "| Emma    | 14  | 9     | Math       |\n",
        "| Liam    | 15  | 10    | Science    |\n",
        "| Olivia  | 13  | 8     | English    |\n",
        "| Noah    | 15  | 10    | History    |\n",
        "| Ava     | 16  | 11    | Biology    |\n",
        "| William | 14  | 9     | Physics    |\n",
        "| Sophia  | 13  | 8     | Art        |\n",
        "| Jacob   | 15  | 10    | Math       |\n",
        "\n",
        "Here’s how we create the data frame in Python using the pandas library:"
      ],
      "id": "05098a86-e1ba-4faf-b25c-9a5eb1a16998"
    },
    {
      "cell_type": "code",
      "execution_count": null,
      "metadata": {},
      "outputs": [],
      "source": [
        "import pandas as pd\n",
        "\n",
        "name = ['Emma', 'Liam', 'Olivia', 'Noah', 'Ava', 'William', 'Sophia', 'Jacob']\n",
        "age = [14, 15, 13, 15, 16, 14, 13, 15]\n",
        "grade = [9, 10, 8, 10, 11, 9, 8, 10]\n",
        "favSubject = ['Math', 'Science', 'English', 'History', 'Biology', 'Physics', 'Art', 'Math']\n",
        "\n",
        "studentDict = {\n",
        "  'name': name,\n",
        "  'age': age,\n",
        "  'grade': grade,\n",
        "  'favSubject': favSubject\n",
        "}\n",
        "\n",
        "students = pd.DataFrame(studentDict)"
      ],
      "id": "ecdeeaee"
    },
    {
      "cell_type": "markdown",
      "metadata": {},
      "source": [
        "Let’s explore the data frame:\n",
        "\n",
        "-   Print the first few rows of the data frame using the `head` method\n",
        "    on the `students` dataframe:"
      ],
      "id": "c96a81b8-329f-4958-b2cf-4e7a8f1d9e9f"
    },
    {
      "cell_type": "code",
      "execution_count": null,
      "metadata": {},
      "outputs": [],
      "source": [
        "print(CODE)"
      ],
      "id": "9830809d"
    },
    {
      "cell_type": "markdown",
      "metadata": {},
      "source": [
        "-   Check the data types of the columns using the `dtypes` field of the\n",
        "    `students` dataframe"
      ],
      "id": "ad224569-3b48-48bd-b50a-39e4762e7bf8"
    },
    {
      "cell_type": "code",
      "execution_count": null,
      "metadata": {},
      "outputs": [],
      "source": [
        "print(CODE)"
      ],
      "id": "25a9aa83"
    },
    {
      "cell_type": "markdown",
      "metadata": {},
      "source": [
        "-   Select the ‘name’ column and print it out"
      ],
      "id": "96a9c243-88b0-48b6-a413-1ae103cf057b"
    },
    {
      "cell_type": "code",
      "execution_count": null,
      "metadata": {},
      "outputs": [],
      "source": [
        "print(CODE)"
      ],
      "id": "532e0109"
    },
    {
      "cell_type": "markdown",
      "metadata": {},
      "source": [
        "-   Add a new column ‘isSenior’ with True/False values based on whether\n",
        "    the student’s grade is 11 or higher:"
      ],
      "id": "657d705e-edce-472b-936d-a7e88c305d3e"
    },
    {
      "cell_type": "code",
      "execution_count": null,
      "metadata": {},
      "outputs": [],
      "source": [
        "CODE = [True, True, False, False, True, True, False, False]\n",
        "print(students)"
      ],
      "id": "f451906d"
    },
    {
      "cell_type": "markdown",
      "metadata": {},
      "source": [
        "-   Remove the ‘favSubject’ column:"
      ],
      "id": "ff03e966-ec74-4cbd-b255-f0b8022e03e4"
    },
    {
      "cell_type": "code",
      "execution_count": null,
      "metadata": {},
      "outputs": [],
      "source": [
        "CODE\n",
        "print(students)"
      ],
      "id": "e8ff5a83"
    },
    {
      "cell_type": "markdown",
      "metadata": {},
      "source": [
        "-   Print out the element in the 2nd row and the 3rd column"
      ],
      "id": "7506ed09-5b19-4a2e-b756-b140f3574479"
    },
    {
      "cell_type": "code",
      "execution_count": null,
      "metadata": {},
      "outputs": [],
      "source": [
        "print(CODE)"
      ],
      "id": "e1dafb59"
    }
  ],
  "nbformat": 4,
  "nbformat_minor": 5,
  "metadata": {
    "kernelspec": {
      "name": "python3",
      "display_name": "Python 3 (ipykernel)",
      "language": "python"
    }
  }
}
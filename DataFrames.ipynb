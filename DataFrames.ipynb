{
  "cells": [
    {
      "cell_type": "markdown",
      "metadata": {},
      "source": [
        "# Data Frames\n",
        "\n",
        "### DataFrames and Pandas\n",
        "\n",
        "Data frames are one of the most used data structure in Python. They are\n",
        "essentially equivalent to the rows and columns in a spreadsheet. Each\n",
        "row is a different record from a set of records, and each column is a\n",
        "different attribute or property from that set of records.\n",
        "\n",
        "| name    | age | isStudent | favColor |\n",
        "|---------|-----|-----------|----------|\n",
        "| James   | 23  | True      | red      |\n",
        "| Sally   | 43  | False     | green    |\n",
        "| Rupert  | 19  | True      | blue     |\n",
        "| Octavia | 21  | True      | yellow   |\n",
        "| Belinda | 33  | False     | orange   |\n",
        "| Linda   | 24  | True      | green    |\n",
        "| Thomas  | 32  | False     | purple   |\n",
        "\n",
        "In Python, we use the pandas library to work with data frames. Here is\n",
        "an example where we create a data frame from lists that represent the\n",
        "columns:\n",
        "\n",
        "### Create the Columns as Lists"
      ],
      "id": "91168856-28bc-40fe-ae0e-175ad94ee4ff"
    },
    {
      "cell_type": "code",
      "execution_count": null,
      "metadata": {},
      "outputs": [],
      "source": [
        "import pandas as pd\n",
        "\n",
        "# The columns\n",
        "name = ['James', 'Sally', 'Rupert', 'Octavia', 'Belinda', 'Linda', 'Thomas']\n",
        "age = [23, 43, 19, 21, 23, 24, 32]\n",
        "isStudent = [True, False, True, True, False, True, False]\n",
        "favColor = ['red', 'green', 'blue', 'red', 'orange', 'green', 'purple']\n",
        "\n",
        "customersDict = {\n",
        "  'name': name,\n",
        "  'age': age,\n",
        "  'isStudent': isStudent,\n",
        "  'favColor': favColor\n",
        "}\n",
        "\n",
        "customers = pd.DataFrame(customersDict)"
      ],
      "id": "ce93bdc4"
    },
    {
      "cell_type": "markdown",
      "metadata": {},
      "source": [
        "Notice how each list has the same length.\n",
        "\n",
        "This is important when you are creating data frames."
      ],
      "id": "fb0c3763-43e9-4e7a-9d0b-2beab2eb759b"
    },
    {
      "cell_type": "code",
      "execution_count": null,
      "metadata": {},
      "outputs": [],
      "source": [
        "print(len(name))\n",
        "print(len(age))\n",
        "print(len(isStudent))\n",
        "print(len(favColor))"
      ],
      "id": "62c3aeec"
    },
    {
      "cell_type": "markdown",
      "metadata": {},
      "source": [
        "### Show the Structure of the DataFrame\n",
        "\n",
        "What does the structure of the data frame look like? You can call the\n",
        "info method of the customers dataframe to see that:"
      ],
      "id": "f9331941-c813-4191-89aa-a6b2c6433531"
    },
    {
      "cell_type": "code",
      "execution_count": null,
      "metadata": {},
      "outputs": [],
      "source": [
        "print(customers.info())"
      ],
      "id": "d673d7ab"
    },
    {
      "cell_type": "markdown",
      "metadata": {},
      "source": [
        "### Show the Data Types of the Columns\n",
        "\n",
        "What are the data types of the columns. You can examine the dtypes field\n",
        "of the customers dataframe:"
      ],
      "id": "35da1ab3-a3a1-46ab-9066-edd1a38b6a88"
    },
    {
      "cell_type": "code",
      "execution_count": null,
      "metadata": {},
      "outputs": [],
      "source": [
        "print(customers.dtypes)"
      ],
      "id": "ef06a388"
    },
    {
      "cell_type": "markdown",
      "metadata": {},
      "source": [
        "The data types are ‘object’, ‘int64’, ‘bool’, ’object”.\n",
        "\n",
        "Pandas uses ‘object’ for strings.\n",
        "\n",
        "Let’s look at the first few rows in the data frame. `head` is a function\n",
        "that will do that."
      ],
      "id": "1093ff15-bf3a-4cf7-be34-2832b8ca9d04"
    },
    {
      "cell_type": "code",
      "execution_count": null,
      "metadata": {},
      "outputs": [],
      "source": [
        "print(customers.head())"
      ],
      "id": "90e0d8f5"
    },
    {
      "cell_type": "markdown",
      "metadata": {},
      "source": [
        "If we try to create a data frame with different length lists, we get an\n",
        "error message.\n",
        "\n",
        "Here we try it with a list of length 5 and one of length 2."
      ],
      "id": "8a1e16de-743f-460e-9e44-0f56b5d39f76"
    },
    {
      "cell_type": "code",
      "execution_count": null,
      "metadata": {},
      "outputs": [],
      "source": [
        "x = [1, 2, 3, 4, 5]\n",
        "y = [6, 7]\n",
        "columnsDict = {\n",
        "  'x': x,\n",
        "  'y': y\n",
        "}\n",
        "pd.DataFrame(columnsDict)"
      ],
      "id": "16ab6c0c"
    },
    {
      "cell_type": "markdown",
      "metadata": {},
      "source": [
        "### Printing a Column of a DataFrame\n",
        "\n",
        "Now there are various ways to refer to the rows and the columns in a\n",
        "data frame. We can refer to a column by using its name. Here is the name\n",
        "column:"
      ],
      "id": "d1764593-7071-44d9-869e-12b657c22979"
    },
    {
      "cell_type": "code",
      "execution_count": null,
      "metadata": {},
      "outputs": [],
      "source": [
        "print(customers['name'])"
      ],
      "id": "e2f0aa4e"
    },
    {
      "cell_type": "markdown",
      "metadata": {},
      "source": [
        "And the ages column:"
      ],
      "id": "176ef57d-4af8-40f0-81ad-5143a9a20649"
    },
    {
      "cell_type": "code",
      "execution_count": null,
      "metadata": {},
      "outputs": [],
      "source": [
        "print(customers['age'])"
      ],
      "id": "42454f8e"
    },
    {
      "cell_type": "markdown",
      "metadata": {},
      "source": [
        "### Removing a Column of a DataFrame\n",
        "\n",
        "You can remove a column of data by dropping it from the data frame:"
      ],
      "id": "143303a4-8fcd-478c-8103-3409d69bdf06"
    },
    {
      "cell_type": "code",
      "execution_count": null,
      "metadata": {},
      "outputs": [],
      "source": [
        "customers = customers.drop('favColor', axis=1)\n",
        "print(customers)"
      ],
      "id": "74c13c7f"
    },
    {
      "cell_type": "markdown",
      "metadata": {},
      "source": [
        "### Adding a Column of a DataFrame\n",
        "\n",
        "You can add a column of data by assigning a new column to the data\n",
        "frame:"
      ],
      "id": "e3269457-71b1-4e73-bfd6-c753e4a477a7"
    },
    {
      "cell_type": "code",
      "execution_count": null,
      "metadata": {},
      "outputs": [],
      "source": [
        "customers['favMusic'] = ['jazz', 'classical', 'electronic', 'country', 'electronic', 'pop', 'rock']\n",
        "\n",
        "print(customers)"
      ],
      "id": "1acd1ac9"
    },
    {
      "cell_type": "markdown",
      "metadata": {},
      "source": [
        "### Using Indices to Refer to Different Items\n",
        "\n",
        "We can also refer to one particular entry in the data frame by using\n",
        "indices. The first index is for the row, and the second index is for the\n",
        "column.\n",
        "\n",
        "Remember that python is 0-based for its indices.\n",
        "\n",
        "First we print out the data frame so we can see everything:"
      ],
      "id": "7fada380-da01-4aa5-b15e-c35ac102ca63"
    },
    {
      "cell_type": "code",
      "execution_count": null,
      "metadata": {},
      "outputs": [],
      "source": [
        "print(customers)"
      ],
      "id": "71d46bf1"
    },
    {
      "cell_type": "markdown",
      "metadata": {},
      "source": [
        "Now let’s see some individual entries in the dataframe:"
      ],
      "id": "367f9839-5155-4974-bd5e-895e6ae3cd83"
    },
    {
      "cell_type": "code",
      "execution_count": null,
      "metadata": {},
      "outputs": [],
      "source": [
        "print(customers.iloc[0, 0])\n",
        "print(customers.iloc[0, 1])\n",
        "print(customers.iloc[1, 0])\n",
        "print(customers.iloc[1, 1])\n",
        "print(customers.iloc[1, 3])"
      ],
      "id": "8c60dd52"
    },
    {
      "cell_type": "markdown",
      "metadata": {},
      "source": [
        "### Printing a Row\n",
        "\n",
        "This is the 2nd row in its entirety:"
      ],
      "id": "ed029252-8b9e-49e7-828c-7dcec788af44"
    },
    {
      "cell_type": "code",
      "execution_count": null,
      "metadata": {},
      "outputs": [],
      "source": [
        "print(customers.iloc[1, :])"
      ],
      "id": "5fd64b2b"
    },
    {
      "cell_type": "markdown",
      "metadata": {},
      "source": [
        "### Printing a Column\n",
        "\n",
        "This is the 2nd column in its entirety:"
      ],
      "id": "65834b18-003a-4d98-95ed-f0d6ba555f30"
    },
    {
      "cell_type": "code",
      "execution_count": null,
      "metadata": {},
      "outputs": [],
      "source": [
        "print(customers.iloc[:, 1])"
      ],
      "id": "fef520d3"
    }
  ],
  "nbformat": 4,
  "nbformat_minor": 5,
  "metadata": {
    "kernelspec": {
      "name": "python3",
      "display_name": "Python 3 (ipykernel)",
      "language": "python"
    }
  }
}
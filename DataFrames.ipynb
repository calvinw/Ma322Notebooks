{
  "cells": [
    {
      "cell_type": "markdown",
      "metadata": {},
      "source": [
        "# Data Frames\n",
        "\n",
        "Data frames are one of the most used data structure in Python. They are\n",
        "essentially equivalent to the rows and columns in a spreadsheet. Each\n",
        "row is a different record from a set of records, and each column is a\n",
        "different attribute or property from that set of records.\n",
        "\n",
        "| name    | age | isStudent | favColor |\n",
        "|---------|-----|-----------|----------|\n",
        "| James   | 23  | True      | red      |\n",
        "| Sally   | 43  | False     | green    |\n",
        "| Rupert  | 19  | True      | blue     |\n",
        "| Octavia | 21  | True      | yellow   |\n",
        "| Belinda | 33  | False     | orange   |\n",
        "| Linda   | 24  | True      | green    |\n",
        "| Thomas  | 32  | False     | purple   |\n",
        "\n",
        "In Python, we use the pandas library to work with data frames. Here is\n",
        "an example where we create a data frame from lists that represent the\n",
        "columns:"
      ],
      "id": "60714c15-e549-4433-97fe-d2793f95e0d1"
    },
    {
      "cell_type": "code",
      "execution_count": null,
      "metadata": {},
      "outputs": [],
      "source": [
        "import pandas as pd\n",
        "\n",
        "name = ['James', 'Sally', 'Rupert', 'Octavia', 'Belinda', 'Linda', 'Thomas']\n",
        "age = [23, 43, 19, 21, 23, 24, 32]\n",
        "isStudent = [True, False, True, True, False, True, False]\n",
        "favColor = ['red', 'green', 'blue', 'red', 'orange', 'green', 'purple']\n",
        "\n",
        "customersDict = {\n",
        "  'name': name,\n",
        "  'age': age,\n",
        "  'isStudent': isStudent,\n",
        "  'favColor': favColor\n",
        "}\n",
        "\n",
        "customers = pd.DataFrame(customersDict)"
      ],
      "id": "3795b96e"
    },
    {
      "cell_type": "markdown",
      "metadata": {},
      "source": [
        "Notice how each list has the same length.\n",
        "\n",
        "This is important when you are creating data frames."
      ],
      "id": "024356e0-72e0-481d-8789-790266b1d5dd"
    },
    {
      "cell_type": "code",
      "execution_count": null,
      "metadata": {},
      "outputs": [],
      "source": [
        "print(len(name))\n",
        "print(len(age))\n",
        "print(len(isStudent))\n",
        "print(len(favColor))"
      ],
      "id": "d7c50de2"
    },
    {
      "cell_type": "markdown",
      "metadata": {},
      "source": [
        "What does the structure of the data frame look like:"
      ],
      "id": "65ef7ba8-3ebc-494a-8d68-1c909e0dff89"
    },
    {
      "cell_type": "code",
      "execution_count": null,
      "metadata": {},
      "outputs": [],
      "source": [
        "print(customers.info())"
      ],
      "id": "3abc6112"
    },
    {
      "cell_type": "markdown",
      "metadata": {},
      "source": [
        "What are the data types of the columns:"
      ],
      "id": "31acda7f-e47e-49d8-abbd-3d65fc21abe1"
    },
    {
      "cell_type": "code",
      "execution_count": null,
      "metadata": {},
      "outputs": [],
      "source": [
        "print(customers.dtypes)"
      ],
      "id": "2280140a"
    },
    {
      "cell_type": "markdown",
      "metadata": {},
      "source": [
        "The data types are ‘object’, ‘int64’, ‘bool’, ’object”.\n",
        "\n",
        "Pandas uses ‘object’ for strings.\n",
        "\n",
        "Let’s look at the first few rows in the data frame. `head` is a function\n",
        "that will do that."
      ],
      "id": "6c8a4643-8f8c-4088-b123-284ee2b05ee7"
    },
    {
      "cell_type": "code",
      "execution_count": null,
      "metadata": {},
      "outputs": [],
      "source": [
        "print(customers.head())"
      ],
      "id": "e6220251"
    },
    {
      "cell_type": "markdown",
      "metadata": {},
      "source": [
        "If we try to create a data frame with different length lists, we get an\n",
        "error message.\n",
        "\n",
        "Here we try it with a list of length 5 and one of length 2."
      ],
      "id": "51e9b70e-35cc-4960-bb7c-cc9d33b5b34b"
    },
    {
      "cell_type": "code",
      "execution_count": null,
      "metadata": {},
      "outputs": [],
      "source": [
        "x = [1, 2, 3, 4, 5]\n",
        "y = [6, 7]\n",
        "columnsDict = {\n",
        "  'x': x,\n",
        "  'y': y\n",
        "}\n",
        "pd.DataFrame(columnsDict)"
      ],
      "id": "d5fa55bc"
    },
    {
      "cell_type": "markdown",
      "metadata": {},
      "source": [
        "Now there are various ways to refer to the rows and the columns in a\n",
        "data frame. We can refer to a column by using its name. Here is the name\n",
        "column:"
      ],
      "id": "924d0560-50b8-4ea1-ae12-3d0f4b781860"
    },
    {
      "cell_type": "code",
      "execution_count": null,
      "metadata": {},
      "outputs": [],
      "source": [
        "print(customers['name'])"
      ],
      "id": "2a7a544a"
    },
    {
      "cell_type": "markdown",
      "metadata": {},
      "source": [
        "And the ages column:"
      ],
      "id": "d921a08c-d1f1-4b5f-b653-6724656dad78"
    },
    {
      "cell_type": "code",
      "execution_count": null,
      "metadata": {},
      "outputs": [],
      "source": [
        "print(customers['age'])"
      ],
      "id": "e8cebe5a"
    },
    {
      "cell_type": "markdown",
      "metadata": {},
      "source": [
        "You can remove a column of data by dropping it from the data frame:"
      ],
      "id": "f04108d7-d729-4d07-931b-1607c3edb9df"
    },
    {
      "cell_type": "code",
      "execution_count": null,
      "metadata": {},
      "outputs": [],
      "source": [
        "customers = customers.drop('favColor', axis=1)\n",
        "print(customers)"
      ],
      "id": "f8cfd2a0"
    },
    {
      "cell_type": "markdown",
      "metadata": {},
      "source": [
        "You can add a column of data by assigning a new column to the data\n",
        "frame:"
      ],
      "id": "4cf00aac-0ee8-4f71-a23e-ff6fa4c5802e"
    },
    {
      "cell_type": "code",
      "execution_count": null,
      "metadata": {},
      "outputs": [],
      "source": [
        "favMusic = ['jazz', 'classical', 'electronic', 'country', 'electronic', 'pop', 'rock']\n",
        "customers['favMusic'] = favMusic\n",
        "print(customers)"
      ],
      "id": "034542fb"
    },
    {
      "cell_type": "markdown",
      "metadata": {},
      "source": [
        "Finally, you can get some info on the data in a data frame by using the\n",
        "`describe` function:"
      ],
      "id": "24759e20-c6ed-42c7-ad4e-4365fd9a588b"
    },
    {
      "cell_type": "code",
      "execution_count": null,
      "metadata": {},
      "outputs": [],
      "source": [
        "print(customers.describe())"
      ],
      "id": "4a4c8f68"
    },
    {
      "cell_type": "markdown",
      "metadata": {},
      "source": [
        "By default it just gives summaries of the floating or integer data.\n",
        "\n",
        "You can see here that it shows the mean age is 25.8 and the min and the\n",
        "max of the ages are 19 and 43.\n",
        "\n",
        "To get info on the other columns you can say to include those datatypes.\n",
        "Below we include the columns with datatype ’object”:"
      ],
      "id": "1705f1c1-34d5-4b9f-9c8b-9a683794a499"
    },
    {
      "cell_type": "code",
      "execution_count": null,
      "metadata": {},
      "outputs": [],
      "source": [
        "print(customers.describe(include=[\"object\"]))"
      ],
      "id": "a707c4b8"
    },
    {
      "cell_type": "markdown",
      "metadata": {},
      "source": [
        "We can also refer to one particular entry in the data frame by using\n",
        "indices. The first index is for the row, and the second index is for the\n",
        "column.\n",
        "\n",
        "Remember that python is 0-based for its indices.\n",
        "\n",
        "First we print out the data frame so we can see everything:"
      ],
      "id": "731063d1-cd6c-4abe-b343-3d3d5daaba85"
    },
    {
      "cell_type": "code",
      "execution_count": null,
      "metadata": {},
      "outputs": [],
      "source": [
        "print(customers)"
      ],
      "id": "6dd57ca4"
    },
    {
      "cell_type": "markdown",
      "metadata": {},
      "source": [
        "Now let’s see some individual entries in the dataframe:"
      ],
      "id": "12f4ea0d-0988-436d-b300-eab7681668d3"
    },
    {
      "cell_type": "code",
      "execution_count": null,
      "metadata": {},
      "outputs": [],
      "source": [
        "print(customers.iloc[0, 0])\n",
        "print(customers.iloc[0, 1])\n",
        "print(customers.iloc[1, 0])\n",
        "print(customers.iloc[1, 1])\n",
        "print(customers.iloc[1, 3])"
      ],
      "id": "db093574"
    },
    {
      "cell_type": "markdown",
      "metadata": {},
      "source": [
        "This is the 2nd row in its entirety:"
      ],
      "id": "3231cc0a-f5f1-4aab-b7fa-799a171a0fd9"
    },
    {
      "cell_type": "code",
      "execution_count": null,
      "metadata": {},
      "outputs": [],
      "source": [
        "print(customers.iloc[1, :])"
      ],
      "id": "26223c91"
    },
    {
      "cell_type": "markdown",
      "metadata": {},
      "source": [
        "This is the 2nd column in its entirety:"
      ],
      "id": "5248a322-1ea3-4bed-8b35-fe16ec850ebd"
    },
    {
      "cell_type": "code",
      "execution_count": null,
      "metadata": {},
      "outputs": [],
      "source": [
        "print(customers.iloc[:, 1])"
      ],
      "id": "8fe0b13b"
    }
  ],
  "nbformat": 4,
  "nbformat_minor": 5,
  "metadata": {
    "kernelspec": {
      "name": "python3",
      "display_name": "Python 3 (ipykernel)",
      "language": "python"
    }
  }
}
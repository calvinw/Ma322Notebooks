{
  "cells": [
    {
      "cell_type": "markdown",
      "metadata": {},
      "source": [
        "# Data Frames\n",
        "\n",
        "### DataFrames and Pandas\n",
        "\n",
        "Data frames are one of the most used data structure in Python. They are\n",
        "essentially equivalent to the rows and columns in a spreadsheet. Each\n",
        "row is a different record from a set of records, and each column is a\n",
        "different attribute or property from that set of records.\n",
        "\n",
        "| name    | age | isStudent | favColor |\n",
        "|---------|-----|-----------|----------|\n",
        "| James   | 23  | True      | red      |\n",
        "| Sally   | 43  | False     | green    |\n",
        "| Rupert  | 19  | True      | blue     |\n",
        "| Octavia | 21  | True      | yellow   |\n",
        "| Belinda | 33  | False     | orange   |\n",
        "| Linda   | 24  | True      | green    |\n",
        "| Thomas  | 32  | False     | purple   |\n",
        "\n",
        "In Python, we use the pandas library to work with data frames. Here is\n",
        "an example where we create a data frame from lists that represent the\n",
        "columns:\n",
        "\n",
        "### Create the Columns as Lists"
      ],
      "id": "96a74e08-d5f7-4334-a5c4-77caaa545260"
    },
    {
      "cell_type": "code",
      "execution_count": null,
      "metadata": {},
      "outputs": [],
      "source": [
        "import pandas as pd\n",
        "\n",
        "# The columns\n",
        "name = ['James', 'Sally', 'Rupert', 'Octavia', 'Belinda', 'Linda', 'Thomas']\n",
        "age = [23, 43, 19, 21, 23, 24, 32]\n",
        "isStudent = [True, False, True, True, False, True, False]\n",
        "favColor = ['red', 'green', 'blue', 'red', 'orange', 'green', 'purple']\n",
        "\n",
        "customersDict = {\n",
        "  'name': name,\n",
        "  'age': age,\n",
        "  'isStudent': isStudent,\n",
        "  'favColor': favColor\n",
        "}\n",
        "\n",
        "customers = pd.DataFrame(customersDict)"
      ],
      "id": "49c49153"
    },
    {
      "cell_type": "markdown",
      "metadata": {},
      "source": [
        "Notice how each list has the same length.\n",
        "\n",
        "This is important when you are creating data frames."
      ],
      "id": "34fbd33d-d318-4a65-b847-dea7707814aa"
    },
    {
      "cell_type": "code",
      "execution_count": null,
      "metadata": {},
      "outputs": [],
      "source": [
        "print(len(name))\n",
        "print(len(age))\n",
        "print(len(isStudent))\n",
        "print(len(favColor))"
      ],
      "id": "d455f04a"
    },
    {
      "cell_type": "markdown",
      "metadata": {},
      "source": [
        "### Show the Structure of the DataFrame\n",
        "\n",
        "What does the structure of the data frame look like? You can call the\n",
        "info method of the customers dataframe to see that:"
      ],
      "id": "f7572537-3d78-47e5-b812-885a147a63f9"
    },
    {
      "cell_type": "code",
      "execution_count": null,
      "metadata": {},
      "outputs": [],
      "source": [
        "print(customers.info())"
      ],
      "id": "8c971955"
    },
    {
      "cell_type": "markdown",
      "metadata": {},
      "source": [
        "### Show the Data Types of the Columns\n",
        "\n",
        "What are the data types of the columns. You can examine the dtypes field\n",
        "of the customers dataframe:"
      ],
      "id": "df6c8db3-483a-4fcb-98b6-f0fdc1b050b3"
    },
    {
      "cell_type": "code",
      "execution_count": null,
      "metadata": {},
      "outputs": [],
      "source": [
        "print(customers.dtypes)"
      ],
      "id": "235f0f1a"
    },
    {
      "cell_type": "markdown",
      "metadata": {},
      "source": [
        "The data types are ‘object’, ‘int64’, ‘bool’, ’object”.\n",
        "\n",
        "Pandas uses ‘object’ for strings.\n",
        "\n",
        "Let’s look at the first few rows in the data frame. `head` is a function\n",
        "that will do that."
      ],
      "id": "729cf7dd-6fe1-498f-8f7b-eae31730b1e5"
    },
    {
      "cell_type": "code",
      "execution_count": null,
      "metadata": {},
      "outputs": [],
      "source": [
        "print(customers.head())"
      ],
      "id": "a3524289"
    },
    {
      "cell_type": "markdown",
      "metadata": {},
      "source": [
        "If we try to create a data frame with different length lists, we get an\n",
        "error message.\n",
        "\n",
        "Here we try it with a list of length 5 and one of length 2."
      ],
      "id": "00c032bb-d3a0-46b1-b4f4-d1e6b9da2253"
    },
    {
      "cell_type": "code",
      "execution_count": null,
      "metadata": {},
      "outputs": [],
      "source": [
        "x = [1, 2, 3, 4, 5]\n",
        "y = [6, 7]\n",
        "columnsDict = {\n",
        "  'x': x,\n",
        "  'y': y\n",
        "}\n",
        "pd.DataFrame(columnsDict)"
      ],
      "id": "d4f57081"
    },
    {
      "cell_type": "markdown",
      "metadata": {},
      "source": [
        "### Printing a Column of a DataFrame\n",
        "\n",
        "Now there are various ways to refer to the rows and the columns in a\n",
        "data frame. We can refer to a column by using its name. Here is the name\n",
        "column:"
      ],
      "id": "033f31ef-60bd-4b74-a326-8b0dd030ec0e"
    },
    {
      "cell_type": "code",
      "execution_count": null,
      "metadata": {},
      "outputs": [],
      "source": [
        "print(customers['name'])"
      ],
      "id": "74049797"
    },
    {
      "cell_type": "markdown",
      "metadata": {},
      "source": [
        "And the ages column:"
      ],
      "id": "1c85cf73-42df-472a-8acf-ee335d3bb43a"
    },
    {
      "cell_type": "code",
      "execution_count": null,
      "metadata": {},
      "outputs": [],
      "source": [
        "print(customers['age'])"
      ],
      "id": "9adcf19f"
    },
    {
      "cell_type": "markdown",
      "metadata": {},
      "source": [
        "### Removing a Column of a DataFrame\n",
        "\n",
        "You can remove a column of data by dropping it from the data frame:"
      ],
      "id": "88b20953-2776-4727-a70a-eca7ac6ffe2e"
    },
    {
      "cell_type": "code",
      "execution_count": null,
      "metadata": {},
      "outputs": [],
      "source": [
        "customers = customers.drop('favColor', axis=1)\n",
        "print(customers)"
      ],
      "id": "98d24c4b"
    },
    {
      "cell_type": "markdown",
      "metadata": {},
      "source": [
        "### Adding a Column of a DataFrame\n",
        "\n",
        "You can add a column of data by assigning a new column to the data\n",
        "frame:"
      ],
      "id": "415203f2-cdb3-4e6e-b2cb-d83519d50de2"
    },
    {
      "cell_type": "code",
      "execution_count": null,
      "metadata": {},
      "outputs": [],
      "source": [
        "customers['favMusic'] = ['jazz', 'classical', 'electronic', 'country', 'electronic', 'pop', 'rock']\n",
        "\n",
        "print(customers)"
      ],
      "id": "b190643f"
    },
    {
      "cell_type": "markdown",
      "metadata": {},
      "source": [
        "### Using Indices to Refer to Different Items\n",
        "\n",
        "We can also refer to one particular entry in the data frame by using\n",
        "indices. The first index is for the row, and the second index is for the\n",
        "column.\n",
        "\n",
        "Remember that python is 0-based for its indices.\n",
        "\n",
        "First we print out the data frame so we can see everything:"
      ],
      "id": "684fc19a-2628-4828-aedd-c78e11446afc"
    },
    {
      "cell_type": "code",
      "execution_count": null,
      "metadata": {},
      "outputs": [],
      "source": [
        "print(customers)"
      ],
      "id": "cd7f5332"
    },
    {
      "cell_type": "markdown",
      "metadata": {},
      "source": [
        "Now let’s see some individual entries in the dataframe:"
      ],
      "id": "314aad85-870b-40e9-b4bb-d10508c3e084"
    },
    {
      "cell_type": "code",
      "execution_count": null,
      "metadata": {},
      "outputs": [],
      "source": [
        "print(customers.iloc[0, 0])\n",
        "print(customers.iloc[0, 1])\n",
        "print(customers.iloc[1, 0])\n",
        "print(customers.iloc[1, 1])\n",
        "print(customers.iloc[1, 3])"
      ],
      "id": "19ccc061"
    },
    {
      "cell_type": "markdown",
      "metadata": {},
      "source": [
        "### Printing a Row\n",
        "\n",
        "This is the 2nd row in its entirety:"
      ],
      "id": "c424ed3a-440b-4430-b2bb-d2eecd686e7b"
    },
    {
      "cell_type": "code",
      "execution_count": null,
      "metadata": {},
      "outputs": [],
      "source": [
        "print(customers.iloc[1, :])"
      ],
      "id": "c074d19e"
    },
    {
      "cell_type": "markdown",
      "metadata": {},
      "source": [
        "### Printing a Column\n",
        "\n",
        "This is the 2nd column in its entirety:"
      ],
      "id": "9db28c11-4062-4895-86bb-f5d6441bd7d2"
    },
    {
      "cell_type": "code",
      "execution_count": null,
      "metadata": {},
      "outputs": [],
      "source": [
        "print(customers.iloc[:, 1])"
      ],
      "id": "69f97a11"
    }
  ],
  "nbformat": 4,
  "nbformat_minor": 5,
  "metadata": {
    "kernelspec": {
      "name": "python3",
      "display_name": "Python 3 (ipykernel)",
      "language": "python"
    }
  }
}
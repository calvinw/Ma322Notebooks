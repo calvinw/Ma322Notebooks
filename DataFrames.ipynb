{
  "cells": [
    {
      "cell_type": "markdown",
      "metadata": {},
      "source": [
        "# Data Frames\n",
        "\n",
        "### DataFrames and Pandas\n",
        "\n",
        "Data frames are one of the most used data structure in Python. They are\n",
        "essentially equivalent to the rows and columns in a spreadsheet. Each\n",
        "row is a different record from a set of records, and each column is a\n",
        "different attribute or property from that set of records.\n",
        "\n",
        "| name    | age | isStudent | favColor |\n",
        "|---------|-----|-----------|----------|\n",
        "| James   | 23  | True      | red      |\n",
        "| Sally   | 43  | False     | green    |\n",
        "| Rupert  | 19  | True      | blue     |\n",
        "| Octavia | 21  | True      | yellow   |\n",
        "| Belinda | 33  | False     | orange   |\n",
        "| Linda   | 24  | True      | green    |\n",
        "| Thomas  | 32  | False     | purple   |\n",
        "\n",
        "In Python, we use the pandas library to work with data frames. Here is\n",
        "an example where we create a data frame from lists that represent the\n",
        "columns:\n",
        "\n",
        "### Create the Columns as Lists"
      ],
      "id": "a61700cd-6caa-43f2-9e9b-b06284659595"
    },
    {
      "cell_type": "code",
      "execution_count": null,
      "metadata": {},
      "outputs": [],
      "source": [
        "import pandas as pd\n",
        "\n",
        "# The columns\n",
        "name = ['James', 'Sally', 'Rupert', 'Octavia', 'Belinda', 'Linda', 'Thomas']\n",
        "age = [23, 43, 19, 21, 23, 24, 32]\n",
        "isStudent = [True, False, True, True, False, True, False]\n",
        "favColor = ['red', 'green', 'blue', 'red', 'orange', 'green', 'purple']\n",
        "\n",
        "customersDict = {\n",
        "  'name': name,\n",
        "  'age': age,\n",
        "  'isStudent': isStudent,\n",
        "  'favColor': favColor\n",
        "}\n",
        "\n",
        "customers = pd.DataFrame(customersDict)"
      ],
      "id": "136d9f07"
    },
    {
      "cell_type": "markdown",
      "metadata": {},
      "source": [
        "Notice how each list has the same length.\n",
        "\n",
        "This is important when you are creating data frames."
      ],
      "id": "4d9599b2-9c71-4985-8c78-d31122b0d7d9"
    },
    {
      "cell_type": "code",
      "execution_count": null,
      "metadata": {},
      "outputs": [],
      "source": [
        "print(len(name))\n",
        "print(len(age))\n",
        "print(len(isStudent))\n",
        "print(len(favColor))"
      ],
      "id": "5f6c9e3d"
    },
    {
      "cell_type": "markdown",
      "metadata": {},
      "source": [
        "### Show the Structure of the DataFrame\n",
        "\n",
        "What does the structure of the data frame look like? You can call the\n",
        "info method of the customers dataframe to see that:"
      ],
      "id": "eb4236b0-c16e-4343-bfba-abd02469fb70"
    },
    {
      "cell_type": "code",
      "execution_count": null,
      "metadata": {},
      "outputs": [],
      "source": [
        "print(customers.info())"
      ],
      "id": "fbf50b91"
    },
    {
      "cell_type": "markdown",
      "metadata": {},
      "source": [
        "### Show the Data Types of the Columns\n",
        "\n",
        "What are the data types of the columns. You can examine the dtypes field\n",
        "of the customers dataframe:"
      ],
      "id": "2a533f25-8647-4cd2-81b5-3191c69486a1"
    },
    {
      "cell_type": "code",
      "execution_count": null,
      "metadata": {},
      "outputs": [],
      "source": [
        "print(customers.dtypes)"
      ],
      "id": "4f680add"
    },
    {
      "cell_type": "markdown",
      "metadata": {},
      "source": [
        "The data types are ‘object’, ‘int64’, ‘bool’, ’object”.\n",
        "\n",
        "Pandas uses ‘object’ for strings.\n",
        "\n",
        "Let’s look at the first few rows in the data frame. `head` is a function\n",
        "that will do that."
      ],
      "id": "4be3a4ba-5f1a-4567-9038-84f28fb7a332"
    },
    {
      "cell_type": "code",
      "execution_count": null,
      "metadata": {},
      "outputs": [],
      "source": [
        "print(customers.head())"
      ],
      "id": "d2dda4bc"
    },
    {
      "cell_type": "markdown",
      "metadata": {},
      "source": [
        "If we try to create a data frame with different length lists, we get an\n",
        "error message.\n",
        "\n",
        "Here we try it with a list of length 5 and one of length 2."
      ],
      "id": "18aaa9a1-a747-4299-bf03-014cc41b7a68"
    },
    {
      "cell_type": "code",
      "execution_count": null,
      "metadata": {},
      "outputs": [],
      "source": [
        "x = [1, 2, 3, 4, 5]\n",
        "y = [6, 7]\n",
        "columnsDict = {\n",
        "  'x': x,\n",
        "  'y': y\n",
        "}\n",
        "pd.DataFrame(columnsDict)"
      ],
      "id": "4077229d"
    },
    {
      "cell_type": "markdown",
      "metadata": {},
      "source": [
        "### Printing a Column of a DataFrame\n",
        "\n",
        "Now there are various ways to refer to the rows and the columns in a\n",
        "data frame. We can refer to a column by using its name. Here is the name\n",
        "column:"
      ],
      "id": "858e4e83-88e5-4d23-8165-09fe61c7cc30"
    },
    {
      "cell_type": "code",
      "execution_count": null,
      "metadata": {},
      "outputs": [],
      "source": [
        "print(customers['name'])"
      ],
      "id": "b8761d9a"
    },
    {
      "cell_type": "markdown",
      "metadata": {},
      "source": [
        "And the ages column:"
      ],
      "id": "443e4905-5d5b-4a2c-bafc-cffdabd295fa"
    },
    {
      "cell_type": "code",
      "execution_count": null,
      "metadata": {},
      "outputs": [],
      "source": [
        "print(customers['age'])"
      ],
      "id": "bf9a5c04"
    },
    {
      "cell_type": "markdown",
      "metadata": {},
      "source": [
        "### Removing a Column of a DataFrame\n",
        "\n",
        "You can remove a column of data by dropping it from the data frame:"
      ],
      "id": "c37060ed-cc8d-4a67-88bc-d652c65a9d42"
    },
    {
      "cell_type": "code",
      "execution_count": null,
      "metadata": {},
      "outputs": [],
      "source": [
        "customers = customers.drop('favColor', axis=1)\n",
        "print(customers)"
      ],
      "id": "31ae3a71"
    },
    {
      "cell_type": "markdown",
      "metadata": {},
      "source": [
        "### Adding a Column of a DataFrame\n",
        "\n",
        "You can add a column of data by assigning a new column to the data\n",
        "frame:"
      ],
      "id": "cfe4816d-e16f-46c7-b9e4-2c683ed48f03"
    },
    {
      "cell_type": "code",
      "execution_count": null,
      "metadata": {},
      "outputs": [],
      "source": [
        "customers['favMusic'] = ['jazz', 'classical', 'electronic', 'country', 'electronic', 'pop', 'rock']\n",
        "\n",
        "print(customers)"
      ],
      "id": "9186b67d"
    },
    {
      "cell_type": "markdown",
      "metadata": {},
      "source": [
        "### Using Indices to Refer to Different Items\n",
        "\n",
        "We can also refer to one particular entry in the data frame by using\n",
        "indices. The first index is for the row, and the second index is for the\n",
        "column.\n",
        "\n",
        "Remember that python is 0-based for its indices.\n",
        "\n",
        "First we print out the data frame so we can see everything:"
      ],
      "id": "188af975-0088-4d59-bb81-506de9ffbe2d"
    },
    {
      "cell_type": "code",
      "execution_count": null,
      "metadata": {},
      "outputs": [],
      "source": [
        "print(customers)"
      ],
      "id": "e3c55281"
    },
    {
      "cell_type": "markdown",
      "metadata": {},
      "source": [
        "Now let’s see some individual entries in the dataframe:"
      ],
      "id": "e81c032c-8029-4a7d-a861-b7b080e784a0"
    },
    {
      "cell_type": "code",
      "execution_count": null,
      "metadata": {},
      "outputs": [],
      "source": [
        "print(customers.iloc[0, 0])\n",
        "print(customers.iloc[0, 1])\n",
        "print(customers.iloc[1, 0])\n",
        "print(customers.iloc[1, 1])\n",
        "print(customers.iloc[1, 3])"
      ],
      "id": "e17bf20a"
    },
    {
      "cell_type": "markdown",
      "metadata": {},
      "source": [
        "### Printing a Row\n",
        "\n",
        "This is the 2nd row in its entirety:"
      ],
      "id": "f72500f8-6979-4f07-8650-c44ccec7f9a4"
    },
    {
      "cell_type": "code",
      "execution_count": null,
      "metadata": {},
      "outputs": [],
      "source": [
        "print(customers.iloc[1, :])"
      ],
      "id": "79a1e6c8"
    },
    {
      "cell_type": "markdown",
      "metadata": {},
      "source": [
        "### Printing a Column\n",
        "\n",
        "This is the 2nd column in its entirety:"
      ],
      "id": "f268f3cc-bc6e-4960-af53-1b061e0bca0c"
    },
    {
      "cell_type": "code",
      "execution_count": null,
      "metadata": {},
      "outputs": [],
      "source": [
        "print(customers.iloc[:, 1])"
      ],
      "id": "25abef6c"
    }
  ],
  "nbformat": 4,
  "nbformat_minor": 5,
  "metadata": {
    "kernelspec": {
      "name": "python3",
      "display_name": "Python 3 (ipykernel)",
      "language": "python"
    }
  }
}
{
  "cells": [
    {
      "cell_type": "markdown",
      "metadata": {},
      "source": [
        "# Data Frames\n",
        "\n",
        "Data frames are one of the most used data structure in Python. They are\n",
        "essentially equivalent to the rows and columns in a spreadsheet. Each\n",
        "row is a different record from a set of records, and each column is a\n",
        "different attribute or property from that set of records.\n",
        "\n",
        "| name    | age | isStudent | favColor |\n",
        "|---------|-----|-----------|----------|\n",
        "| James   | 23  | True      | red      |\n",
        "| Sally   | 43  | False     | green    |\n",
        "| Rupert  | 19  | True      | blue     |\n",
        "| Octavia | 21  | True      | yellow   |\n",
        "| Belinda | 33  | False     | orange   |\n",
        "| Linda   | 24  | True      | green    |\n",
        "| Thomas  | 32  | False     | purple   |\n",
        "\n",
        "In Python, we use the pandas library to work with data frames. Here is\n",
        "an example where we create a data frame from lists that represent the\n",
        "columns:"
      ],
      "id": "e5ec8de7-ea87-49b7-9abd-2f50cf5e13b2"
    },
    {
      "cell_type": "code",
      "execution_count": null,
      "metadata": {},
      "outputs": [],
      "source": [
        "import pandas as pd\n",
        "\n",
        "name = ['James', 'Sally', 'Rupert', 'Octavia', 'Belinda', 'Linda', 'Thomas']\n",
        "age = [23, 43, 19, 21, 23, 24, 32]\n",
        "isStudent = [True, False, True, True, False, True, False]\n",
        "favColor = ['red', 'green', 'blue', 'red', 'orange', 'green', 'purple']\n",
        "\n",
        "customersDict = {\n",
        "  'name': name,\n",
        "  'age': age,\n",
        "  'isStudent': isStudent,\n",
        "  'favColor': favColor\n",
        "}\n",
        "\n",
        "customers = pd.DataFrame(customersDict)"
      ],
      "id": "e730e171"
    },
    {
      "cell_type": "markdown",
      "metadata": {},
      "source": [
        "Notice how each list has the same length.\n",
        "\n",
        "This is important when you are creating data frames."
      ],
      "id": "02bf6013-e5df-43df-9f21-10ecb5b675f4"
    },
    {
      "cell_type": "code",
      "execution_count": null,
      "metadata": {},
      "outputs": [],
      "source": [
        "print(len(name))\n",
        "print(len(age))\n",
        "print(len(isStudent))\n",
        "print(len(favColor))"
      ],
      "id": "2e12a734"
    },
    {
      "cell_type": "markdown",
      "metadata": {},
      "source": [
        "What does the structure of the data frame look like? You can call the\n",
        "info method of the customers dataframe to see that:"
      ],
      "id": "5fa752d5-9b37-46f0-bedf-c7ca790f9b53"
    },
    {
      "cell_type": "code",
      "execution_count": null,
      "metadata": {},
      "outputs": [],
      "source": [
        "print(customers.info())"
      ],
      "id": "8244ece7"
    },
    {
      "cell_type": "markdown",
      "metadata": {},
      "source": [
        "What are the data types of the columns. You can examine the dtypes field\n",
        "of the customers dataframe:"
      ],
      "id": "016d472f-59a3-4d78-9fcc-9ae7dc362566"
    },
    {
      "cell_type": "code",
      "execution_count": null,
      "metadata": {},
      "outputs": [],
      "source": [
        "print(customers.dtypes)"
      ],
      "id": "5e24f15b"
    },
    {
      "cell_type": "markdown",
      "metadata": {},
      "source": [
        "The data types are ‘object’, ‘int64’, ‘bool’, ’object”.\n",
        "\n",
        "Pandas uses ‘object’ for strings.\n",
        "\n",
        "Let’s look at the first few rows in the data frame. `head` is a function\n",
        "that will do that."
      ],
      "id": "33578493-c259-40f4-b364-549b0a1892b8"
    },
    {
      "cell_type": "code",
      "execution_count": null,
      "metadata": {},
      "outputs": [],
      "source": [
        "print(customers.head())"
      ],
      "id": "a223f7ba"
    },
    {
      "cell_type": "markdown",
      "metadata": {},
      "source": [
        "If we try to create a data frame with different length lists, we get an\n",
        "error message.\n",
        "\n",
        "Here we try it with a list of length 5 and one of length 2."
      ],
      "id": "a42a9285-2e46-4476-9ba0-32065b0321ca"
    },
    {
      "cell_type": "code",
      "execution_count": null,
      "metadata": {},
      "outputs": [],
      "source": [
        "x = [1, 2, 3, 4, 5]\n",
        "y = [6, 7]\n",
        "columnsDict = {\n",
        "  'x': x,\n",
        "  'y': y\n",
        "}\n",
        "pd.DataFrame(columnsDict)"
      ],
      "id": "b4d5c3c8"
    },
    {
      "cell_type": "markdown",
      "metadata": {},
      "source": [
        "Now there are various ways to refer to the rows and the columns in a\n",
        "data frame. We can refer to a column by using its name. Here is the name\n",
        "column:"
      ],
      "id": "b0bb2fa2-036f-4bc1-b815-d4dea337dc3b"
    },
    {
      "cell_type": "code",
      "execution_count": null,
      "metadata": {},
      "outputs": [],
      "source": [
        "print(customers['name'])"
      ],
      "id": "4428642c"
    },
    {
      "cell_type": "markdown",
      "metadata": {},
      "source": [
        "And the ages column:"
      ],
      "id": "6d32b587-c7c1-4141-98bd-2466b69c00cb"
    },
    {
      "cell_type": "code",
      "execution_count": null,
      "metadata": {},
      "outputs": [],
      "source": [
        "print(customers['age'])"
      ],
      "id": "3b5d408e"
    },
    {
      "cell_type": "markdown",
      "metadata": {},
      "source": [
        "You can remove a column of data by dropping it from the data frame:"
      ],
      "id": "87747c7b-26c4-4e8c-82d1-a1e717d677a3"
    },
    {
      "cell_type": "code",
      "execution_count": null,
      "metadata": {},
      "outputs": [],
      "source": [
        "customers = customers.drop('favColor', axis=1)\n",
        "print(customers)"
      ],
      "id": "0fb4e8f3"
    },
    {
      "cell_type": "markdown",
      "metadata": {},
      "source": [
        "You can add a column of data by assigning a new column to the data\n",
        "frame:"
      ],
      "id": "4e9759b9-99bf-4793-bc2e-8d6a03ec77f7"
    },
    {
      "cell_type": "code",
      "execution_count": null,
      "metadata": {},
      "outputs": [],
      "source": [
        "customers['favMusic'] = ['jazz', 'classical', 'electronic', 'country', 'electronic', 'pop', 'rock']\n",
        "\n",
        "print(customers)"
      ],
      "id": "62d9c286"
    },
    {
      "cell_type": "markdown",
      "metadata": {},
      "source": [
        "We can also refer to one particular entry in the data frame by using\n",
        "indices. The first index is for the row, and the second index is for the\n",
        "column.\n",
        "\n",
        "Remember that python is 0-based for its indices.\n",
        "\n",
        "First we print out the data frame so we can see everything:"
      ],
      "id": "913f340c-486e-4cc9-8ca7-5dda731f647c"
    },
    {
      "cell_type": "code",
      "execution_count": null,
      "metadata": {},
      "outputs": [],
      "source": [
        "print(customers)"
      ],
      "id": "4d3668b6"
    },
    {
      "cell_type": "markdown",
      "metadata": {},
      "source": [
        "Now let’s see some individual entries in the dataframe:"
      ],
      "id": "8aa72164-c77b-4174-8de1-949046d30b5e"
    },
    {
      "cell_type": "code",
      "execution_count": null,
      "metadata": {},
      "outputs": [],
      "source": [
        "print(customers.iloc[0, 0])\n",
        "print(customers.iloc[0, 1])\n",
        "print(customers.iloc[1, 0])\n",
        "print(customers.iloc[1, 1])\n",
        "print(customers.iloc[1, 3])"
      ],
      "id": "2d17b627"
    },
    {
      "cell_type": "markdown",
      "metadata": {},
      "source": [
        "This is the 2nd row in its entirety:"
      ],
      "id": "22b7a5c8-cd9b-4229-996d-a1b27cb5336c"
    },
    {
      "cell_type": "code",
      "execution_count": null,
      "metadata": {},
      "outputs": [],
      "source": [
        "print(customers.iloc[1, :])"
      ],
      "id": "c83391fe"
    },
    {
      "cell_type": "markdown",
      "metadata": {},
      "source": [
        "This is the 2nd column in its entirety:"
      ],
      "id": "96a7e74c-fe51-4bbc-a980-c789e89b4b5c"
    },
    {
      "cell_type": "code",
      "execution_count": null,
      "metadata": {},
      "outputs": [],
      "source": [
        "print(customers.iloc[:, 1])"
      ],
      "id": "6c19a893"
    }
  ],
  "nbformat": 4,
  "nbformat_minor": 5,
  "metadata": {
    "kernelspec": {
      "name": "python3",
      "display_name": "Python 3 (ipykernel)",
      "language": "python"
    }
  }
}
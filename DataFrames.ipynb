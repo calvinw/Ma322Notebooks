{
  "cells": [
    {
      "cell_type": "markdown",
      "metadata": {},
      "source": [
        "# Data Frames\n",
        "\n",
        "### DataFrames and Pandas\n",
        "\n",
        "Data frames are one of the most used data structure in Python. They are\n",
        "essentially equivalent to the rows and columns in a spreadsheet. Each\n",
        "row is a different record from a set of records, and each column is a\n",
        "different attribute or property from that set of records.\n",
        "\n",
        "| name    | age | isStudent | favColor |\n",
        "|---------|-----|-----------|----------|\n",
        "| James   | 23  | True      | red      |\n",
        "| Sally   | 43  | False     | green    |\n",
        "| Rupert  | 19  | True      | blue     |\n",
        "| Octavia | 21  | True      | yellow   |\n",
        "| Belinda | 33  | False     | orange   |\n",
        "| Linda   | 24  | True      | green    |\n",
        "| Thomas  | 32  | False     | purple   |\n",
        "\n",
        "In Python, we use the pandas library to work with data frames. Here is\n",
        "an example where we create a data frame from lists that represent the\n",
        "columns:\n",
        "\n",
        "### Create the Columns as Lists"
      ],
      "id": "13a8a618-57c0-4864-b4c1-4544fbfbe000"
    },
    {
      "cell_type": "code",
      "execution_count": null,
      "metadata": {},
      "outputs": [],
      "source": [
        "import pandas as pd\n",
        "\n",
        "# The columns\n",
        "name = ['James', 'Sally', 'Rupert', 'Octavia', 'Belinda', 'Linda', 'Thomas']\n",
        "age = [23, 43, 19, 21, 23, 24, 32]\n",
        "isStudent = [True, False, True, True, False, True, False]\n",
        "favColor = ['red', 'green', 'blue', 'red', 'orange', 'green', 'purple']\n",
        "\n",
        "customersDict = {\n",
        "  'name': name,\n",
        "  'age': age,\n",
        "  'isStudent': isStudent,\n",
        "  'favColor': favColor\n",
        "}\n",
        "\n",
        "customers = pd.DataFrame(customersDict)"
      ],
      "id": "88bac6f9"
    },
    {
      "cell_type": "markdown",
      "metadata": {},
      "source": [
        "Notice how each list has the same length.\n",
        "\n",
        "This is important when you are creating data frames."
      ],
      "id": "32ff98fd-929a-434a-841b-a9e0df9cf8b0"
    },
    {
      "cell_type": "code",
      "execution_count": null,
      "metadata": {},
      "outputs": [],
      "source": [
        "print(len(name))\n",
        "print(len(age))\n",
        "print(len(isStudent))\n",
        "print(len(favColor))"
      ],
      "id": "680386e1"
    },
    {
      "cell_type": "markdown",
      "metadata": {},
      "source": [
        "### Show the Structure of the DataFrame\n",
        "\n",
        "What does the structure of the data frame look like? You can call the\n",
        "info method of the customers dataframe to see that:"
      ],
      "id": "3c2b4dc4-87e4-4317-a901-07131c352b5f"
    },
    {
      "cell_type": "code",
      "execution_count": null,
      "metadata": {},
      "outputs": [],
      "source": [
        "print(customers.info())"
      ],
      "id": "df27a49c"
    },
    {
      "cell_type": "markdown",
      "metadata": {},
      "source": [
        "### Show the Data Types of the Columns\n",
        "\n",
        "What are the data types of the columns. You can examine the dtypes field\n",
        "of the customers dataframe:"
      ],
      "id": "31f84531-2f63-4cc8-b0de-56dfc29e9b9b"
    },
    {
      "cell_type": "code",
      "execution_count": null,
      "metadata": {},
      "outputs": [],
      "source": [
        "print(customers.dtypes)"
      ],
      "id": "443ce1e7"
    },
    {
      "cell_type": "markdown",
      "metadata": {},
      "source": [
        "The data types are ‘object’, ‘int64’, ‘bool’, ’object”.\n",
        "\n",
        "Pandas uses ‘object’ for strings.\n",
        "\n",
        "Let’s look at the first few rows in the data frame. `head` is a function\n",
        "that will do that."
      ],
      "id": "f0daa27f-b03b-4655-af40-85169d9e442e"
    },
    {
      "cell_type": "code",
      "execution_count": null,
      "metadata": {},
      "outputs": [],
      "source": [
        "print(customers.head())"
      ],
      "id": "f4203304"
    },
    {
      "cell_type": "markdown",
      "metadata": {},
      "source": [
        "If we try to create a data frame with different length lists, we get an\n",
        "error message.\n",
        "\n",
        "Here we try it with a list of length 5 and one of length 2."
      ],
      "id": "0a414cf1-d3ff-4d9f-91c2-288c1df69d52"
    },
    {
      "cell_type": "code",
      "execution_count": null,
      "metadata": {},
      "outputs": [],
      "source": [
        "x = [1, 2, 3, 4, 5]\n",
        "y = [6, 7]\n",
        "columnsDict = {\n",
        "  'x': x,\n",
        "  'y': y\n",
        "}\n",
        "pd.DataFrame(columnsDict)"
      ],
      "id": "4ce19c49"
    },
    {
      "cell_type": "markdown",
      "metadata": {},
      "source": [
        "### Printing a Column of a DataFrame\n",
        "\n",
        "Now there are various ways to refer to the rows and the columns in a\n",
        "data frame. We can refer to a column by using its name. Here is the name\n",
        "column:"
      ],
      "id": "85687237-be9b-4822-8a64-c6adab65c28e"
    },
    {
      "cell_type": "code",
      "execution_count": null,
      "metadata": {},
      "outputs": [],
      "source": [
        "print(customers['name'])"
      ],
      "id": "2a035d3c"
    },
    {
      "cell_type": "markdown",
      "metadata": {},
      "source": [
        "And the ages column:"
      ],
      "id": "e5c93a59-58b4-421f-927a-8f5ce5ed3137"
    },
    {
      "cell_type": "code",
      "execution_count": null,
      "metadata": {},
      "outputs": [],
      "source": [
        "print(customers['age'])"
      ],
      "id": "3733f761"
    },
    {
      "cell_type": "markdown",
      "metadata": {},
      "source": [
        "### Removing a Column of a DataFrame\n",
        "\n",
        "You can remove a column of data by dropping it from the data frame:"
      ],
      "id": "293f6645-c237-48e9-b270-3bb5d4a818c0"
    },
    {
      "cell_type": "code",
      "execution_count": null,
      "metadata": {},
      "outputs": [],
      "source": [
        "customers = customers.drop('favColor', axis=1)\n",
        "print(customers)"
      ],
      "id": "925f9a4e"
    },
    {
      "cell_type": "markdown",
      "metadata": {},
      "source": [
        "### Adding a Column of a DataFrame\n",
        "\n",
        "You can add a column of data by assigning a new column to the data\n",
        "frame:"
      ],
      "id": "cae25542-97ac-4433-bcd7-854083a862e7"
    },
    {
      "cell_type": "code",
      "execution_count": null,
      "metadata": {},
      "outputs": [],
      "source": [
        "customers['favMusic'] = ['jazz', 'classical', 'electronic', 'country', 'electronic', 'pop', 'rock']\n",
        "\n",
        "print(customers)"
      ],
      "id": "ff833e76"
    },
    {
      "cell_type": "markdown",
      "metadata": {},
      "source": [
        "### Using Indices to Refer to Different Items\n",
        "\n",
        "We can also refer to one particular entry in the data frame by using\n",
        "indices. The first index is for the row, and the second index is for the\n",
        "column.\n",
        "\n",
        "Remember that python is 0-based for its indices.\n",
        "\n",
        "First we print out the data frame so we can see everything:"
      ],
      "id": "4517912e-58a0-4a2e-bf79-ca0ea98bfc8e"
    },
    {
      "cell_type": "code",
      "execution_count": null,
      "metadata": {},
      "outputs": [],
      "source": [
        "print(customers)"
      ],
      "id": "bd58ea5a"
    },
    {
      "cell_type": "markdown",
      "metadata": {},
      "source": [
        "Now let’s see some individual entries in the dataframe:"
      ],
      "id": "130dc483-7eda-4a00-b632-f91124e29582"
    },
    {
      "cell_type": "code",
      "execution_count": null,
      "metadata": {},
      "outputs": [],
      "source": [
        "print(customers.iloc[0, 0])\n",
        "print(customers.iloc[0, 1])\n",
        "print(customers.iloc[1, 0])\n",
        "print(customers.iloc[1, 1])\n",
        "print(customers.iloc[1, 3])"
      ],
      "id": "d1d16533"
    },
    {
      "cell_type": "markdown",
      "metadata": {},
      "source": [
        "### Printing a Row\n",
        "\n",
        "This is the 2nd row in its entirety:"
      ],
      "id": "20cc7a5d-84d6-441c-993d-b88ae40d5cf8"
    },
    {
      "cell_type": "code",
      "execution_count": null,
      "metadata": {},
      "outputs": [],
      "source": [
        "print(customers.iloc[1, :])"
      ],
      "id": "2c10e2e3"
    },
    {
      "cell_type": "markdown",
      "metadata": {},
      "source": [
        "### Printing a Column\n",
        "\n",
        "This is the 2nd column in its entirety:"
      ],
      "id": "08f32650-9515-4101-8780-7a05ed60fd60"
    },
    {
      "cell_type": "code",
      "execution_count": null,
      "metadata": {},
      "outputs": [],
      "source": [
        "print(customers.iloc[:, 1])"
      ],
      "id": "1cc24fda"
    }
  ],
  "nbformat": 4,
  "nbformat_minor": 5,
  "metadata": {
    "kernelspec": {
      "name": "python3",
      "display_name": "Python 3 (ipykernel)",
      "language": "python"
    }
  }
}
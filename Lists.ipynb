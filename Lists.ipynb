{
  "cells": [
    {
      "cell_type": "markdown",
      "metadata": {},
      "source": [
        "# Lists in Python\n",
        "\n",
        "This notebook covers the basics of working with lists in Python. Lists\n",
        "are a fundamental data structure, and understanding how to create,\n",
        "access, and manipulate them is essential for effective Python\n",
        "programming.\n",
        "\n",
        "Lists are one of the most versatile data structures in Python. They are\n",
        "used to store collections of items in a particular order. Here, we’ll\n",
        "explore the basics of working with lists in Python.\n",
        "\n",
        "## Creating a List\n",
        "\n",
        "You can create a list by enclosing a comma-separated sequence of items\n",
        "within square brackets `[ ]`. For example:"
      ],
      "id": "a92045b2-2570-4c7c-9910-8df7877cbc8e"
    },
    {
      "cell_type": "code",
      "execution_count": null,
      "metadata": {},
      "outputs": [],
      "source": [
        "fruits = [\"apple\", \"banana\", \"cherry\"]\n",
        "print(fruits)"
      ],
      "id": "ad8ddfa7"
    },
    {
      "cell_type": "markdown",
      "metadata": {},
      "source": [
        "Lists can contain items of different data types:"
      ],
      "id": "439a19d1-ad41-4cb0-8703-c7ec3221fb4a"
    },
    {
      "cell_type": "code",
      "execution_count": null,
      "metadata": {},
      "outputs": [],
      "source": [
        "mixed_list = [1, 2.3, \"hello\", True]\n",
        "print(mixed_list)"
      ],
      "id": "3d95098b"
    },
    {
      "cell_type": "markdown",
      "metadata": {},
      "source": [
        "## Accessing List Items\n",
        "\n",
        "You can access individual items in a list using an index. Python uses\n",
        "zero-based indexing, which means the first item in the list has an index\n",
        "of 0."
      ],
      "id": "a597436b-eb65-4886-a932-69b0721e5832"
    },
    {
      "cell_type": "code",
      "execution_count": null,
      "metadata": {},
      "outputs": [],
      "source": [
        "fruits = [\"apple\", \"banana\", \"cherry\"]\n",
        "print(fruits[0])  # First item\n",
        "print(fruits[2])  # Third item"
      ],
      "id": "a9fed23d"
    },
    {
      "cell_type": "markdown",
      "metadata": {},
      "source": [
        "You can also use negative indices to access items from the end of the\n",
        "list:"
      ],
      "id": "226905f8-6e07-45ce-b6e4-b398bff90d97"
    },
    {
      "cell_type": "code",
      "execution_count": null,
      "metadata": {},
      "outputs": [],
      "source": [
        "print(fruits[-1])  # Last item\n",
        "print(fruits[-2])  # Second-to-last item"
      ],
      "id": "95ae987b"
    },
    {
      "cell_type": "markdown",
      "metadata": {},
      "source": [
        "## List Slicing\n",
        "\n",
        "You can create a new list by slicing an existing one. The syntax is\n",
        "`list[start:stop:step]`, where `start` is the index to start from\n",
        "(inclusive), `stop` is the index to stop before (exclusive), and `step`\n",
        "is the step size (optional)."
      ],
      "id": "34a554cc-f5ba-40e0-837d-eaec5830ec0e"
    },
    {
      "cell_type": "code",
      "execution_count": null,
      "metadata": {},
      "outputs": [],
      "source": [
        "numbers = [48,52,55,47,56,53,63,45]\n",
        "print(numbers[2:6])  # Sublist from index 2 to 5\n",
        "print(numbers[:4])   # Sublist from the beginning to index 3\n",
        "print(numbers[6:])   # Sublist from index 6 to the end\n",
        "print(numbers[::2])  # Every other item (step size 2)"
      ],
      "id": "9fea30d6"
    },
    {
      "cell_type": "markdown",
      "metadata": {},
      "source": [
        "## List Methods\n",
        "\n",
        "Lists in Python come with several built-in methods that allow you to\n",
        "manipulate them. Here are a few commonly used methods:\n",
        "\n",
        "### Appending an item to the end of the list"
      ],
      "id": "9a596157-61bd-437f-b91f-9550812e6357"
    },
    {
      "cell_type": "code",
      "execution_count": null,
      "metadata": {},
      "outputs": [],
      "source": [
        "fruits = [\"apple\", \"banana\", \"cherry\"]\n",
        "fruits.append(\"orange\")\n",
        "print(fruits)"
      ],
      "id": "73ae8d6f"
    },
    {
      "cell_type": "markdown",
      "metadata": {},
      "source": [
        "### Inserting an item at a specific index"
      ],
      "id": "435e1263-c932-4d14-903f-40150ea92c47"
    },
    {
      "cell_type": "code",
      "execution_count": null,
      "metadata": {},
      "outputs": [],
      "source": [
        "fruits.insert(1, \"mango\")\n",
        "print(fruits)"
      ],
      "id": "4e369b06"
    },
    {
      "cell_type": "markdown",
      "metadata": {},
      "source": [
        "### Removing an item by value"
      ],
      "id": "6bf13f9b-2ec3-43e2-99fa-6bd60f7fc2b5"
    },
    {
      "cell_type": "code",
      "execution_count": null,
      "metadata": {},
      "outputs": [],
      "source": [
        "fruits.remove(\"banana\")\n",
        "print(fruits)"
      ],
      "id": "ae501ae7"
    },
    {
      "cell_type": "markdown",
      "metadata": {},
      "source": [
        "### Removing an item by index"
      ],
      "id": "01bae026-b73d-447e-9a47-692e7d62a422"
    },
    {
      "cell_type": "code",
      "execution_count": null,
      "metadata": {},
      "outputs": [],
      "source": [
        "del fruits[1]\n",
        "print(fruits)"
      ],
      "id": "80deabfe"
    },
    {
      "cell_type": "markdown",
      "metadata": {},
      "source": [
        "### Getting the index of an item"
      ],
      "id": "3b3977cb-a8be-4b6e-9afa-ad0aa2ccc53a"
    },
    {
      "cell_type": "code",
      "execution_count": null,
      "metadata": {},
      "outputs": [],
      "source": [
        "print(fruits.index(\"apple\"))"
      ],
      "id": "5964166d"
    },
    {
      "cell_type": "markdown",
      "metadata": {},
      "source": [
        "### Counting occurrences of an item"
      ],
      "id": "33a811e7-fde9-4885-830c-aea8283124fe"
    },
    {
      "cell_type": "code",
      "execution_count": null,
      "metadata": {},
      "outputs": [],
      "source": [
        "new_fruits = [\"apple\", \"cherry\", \"apple\"]\n",
        "print(new_fruits.count(\"apple\"))"
      ],
      "id": "07a8139d"
    },
    {
      "cell_type": "markdown",
      "metadata": {},
      "source": [
        "### Sorting the list"
      ],
      "id": "6c123775-9e91-4e55-8d60-506c8866f8ca"
    },
    {
      "cell_type": "code",
      "execution_count": null,
      "metadata": {},
      "outputs": [],
      "source": [
        "new_fruits.sort()\n",
        "print(new_fruits)"
      ],
      "id": "9fb0d6f8"
    },
    {
      "cell_type": "markdown",
      "metadata": {},
      "source": [
        "### Reversing the list"
      ],
      "id": "6429b82d-76a9-4721-a4ee-c556b2cafd0d"
    },
    {
      "cell_type": "code",
      "execution_count": null,
      "metadata": {},
      "outputs": [],
      "source": [
        "new_fruits.reverse()\n",
        "print(new_fruits)"
      ],
      "id": "70bbc7f4"
    }
  ],
  "nbformat": 4,
  "nbformat_minor": 5,
  "metadata": {
    "kernelspec": {
      "name": "python3",
      "display_name": "Python 3 (ipykernel)",
      "language": "python"
    }
  }
}
{
  "cells": [
    {
      "cell_type": "markdown",
      "metadata": {},
      "source": [
        "# Lists in Python\n",
        "\n",
        "This notebook covers the basics of working with lists in Python. Lists\n",
        "are a fundamental data structure, and understanding how to create,\n",
        "access, and manipulate them is essential for effective Python\n",
        "programming.\n",
        "\n",
        "Lists are one of the most versatile data structures in Python. They are\n",
        "used to store collections of items in a particular order. Here, we’ll\n",
        "explore the basics of working with lists in Python.\n",
        "\n",
        "## Creating a List\n",
        "\n",
        "You can create a list by enclosing a comma-separated sequence of items\n",
        "within square brackets `[ ]`. For example:"
      ],
      "id": "1cfe0977-27f1-4e4d-a460-d21576af7926"
    },
    {
      "cell_type": "code",
      "execution_count": null,
      "metadata": {},
      "outputs": [],
      "source": [
        "fruits = [\"apple\", \"banana\", \"cherry\"]\n",
        "print(fruits)"
      ],
      "id": "1a6c10cf"
    },
    {
      "cell_type": "markdown",
      "metadata": {},
      "source": [
        "Lists can contain items of different data types:"
      ],
      "id": "167e5aab-77c4-4bbd-b8d4-6856f3bdd573"
    },
    {
      "cell_type": "code",
      "execution_count": null,
      "metadata": {},
      "outputs": [],
      "source": [
        "mixed_list = [1, 2.3, \"hello\", True]\n",
        "print(mixed_list)"
      ],
      "id": "3cbe4f10"
    },
    {
      "cell_type": "markdown",
      "metadata": {},
      "source": [
        "## Accessing List Items\n",
        "\n",
        "You can access individual items in a list using an index. Python uses\n",
        "zero-based indexing, which means the first item in the list has an index\n",
        "of 0."
      ],
      "id": "71d01412-9acb-446a-a2b8-dd10ff5ac403"
    },
    {
      "cell_type": "code",
      "execution_count": null,
      "metadata": {},
      "outputs": [],
      "source": [
        "fruits = [\"apple\", \"banana\", \"cherry\"]\n",
        "print(fruits[0])  # First item\n",
        "print(fruits[2])  # Third item"
      ],
      "id": "9553fc18"
    },
    {
      "cell_type": "markdown",
      "metadata": {},
      "source": [
        "You can also use negative indices to access items from the end of the\n",
        "list:"
      ],
      "id": "a9692bf2-79bf-4aca-8104-2e6606bb7dc3"
    },
    {
      "cell_type": "code",
      "execution_count": null,
      "metadata": {},
      "outputs": [],
      "source": [
        "print(fruits[-1])  # Last item\n",
        "print(fruits[-2])  # Second-to-last item"
      ],
      "id": "006418e3"
    },
    {
      "cell_type": "markdown",
      "metadata": {},
      "source": [
        "## List Slicing\n",
        "\n",
        "You can create a new list by slicing an existing one. The syntax is\n",
        "`list[start:stop:step]`, where `start` is the index to start from\n",
        "(inclusive), `stop` is the index to stop before (exclusive), and `step`\n",
        "is the step size (optional)."
      ],
      "id": "73b5ba84-43db-4df7-95a7-555b4e67f0a3"
    },
    {
      "cell_type": "code",
      "execution_count": null,
      "metadata": {},
      "outputs": [],
      "source": [
        "numbers = [48,52,55,47,56,53,63,45]\n",
        "print(numbers[2:6])  # Sublist from index 2 to 5\n",
        "print(numbers[:4])   # Sublist from the beginning to index 3\n",
        "print(numbers[6:])   # Sublist from index 6 to the end\n",
        "print(numbers[::2])  # Every other item (step size 2)"
      ],
      "id": "39006012"
    },
    {
      "cell_type": "markdown",
      "metadata": {},
      "source": [
        "## List Methods\n",
        "\n",
        "Lists in Python come with several built-in methods that allow you to\n",
        "manipulate them. Here are a few commonly used methods:\n",
        "\n",
        "### Appending an item to the end of the list"
      ],
      "id": "4ea48405-7f3a-4d6f-8a18-1064b1dd0db4"
    },
    {
      "cell_type": "code",
      "execution_count": null,
      "metadata": {},
      "outputs": [],
      "source": [
        "fruits = [\"apple\", \"banana\", \"cherry\"]\n",
        "fruits.append(\"orange\")\n",
        "print(fruits)"
      ],
      "id": "f730875e"
    },
    {
      "cell_type": "markdown",
      "metadata": {},
      "source": [
        "### Inserting an item at a specific index"
      ],
      "id": "0ef5e0bd-7cc1-4145-a2fd-89c7df6e1106"
    },
    {
      "cell_type": "code",
      "execution_count": null,
      "metadata": {},
      "outputs": [],
      "source": [
        "fruits.insert(1, \"mango\")\n",
        "print(fruits)"
      ],
      "id": "89ef4376"
    },
    {
      "cell_type": "markdown",
      "metadata": {},
      "source": [
        "### Removing an item by value"
      ],
      "id": "2b8cfdd4-c8c5-4276-a088-926e78e67efd"
    },
    {
      "cell_type": "code",
      "execution_count": null,
      "metadata": {},
      "outputs": [],
      "source": [
        "fruits.remove(\"banana\")\n",
        "print(fruits)"
      ],
      "id": "77906625"
    },
    {
      "cell_type": "markdown",
      "metadata": {},
      "source": [
        "### Removing an item by index"
      ],
      "id": "74310890-60a3-4f9e-ad70-145872cf7e33"
    },
    {
      "cell_type": "code",
      "execution_count": null,
      "metadata": {},
      "outputs": [],
      "source": [
        "del fruits[1]\n",
        "print(fruits)"
      ],
      "id": "c96b76d6"
    },
    {
      "cell_type": "markdown",
      "metadata": {},
      "source": [
        "### Getting the index of an item"
      ],
      "id": "79c68125-4932-42bb-9c93-dbc53c7dae0c"
    },
    {
      "cell_type": "code",
      "execution_count": null,
      "metadata": {},
      "outputs": [],
      "source": [
        "print(fruits.index(\"apple\"))"
      ],
      "id": "dda939e9"
    },
    {
      "cell_type": "markdown",
      "metadata": {},
      "source": [
        "### Counting occurrences of an item"
      ],
      "id": "ec97448d-a030-4d2d-8bcc-d3f21b4bca6e"
    },
    {
      "cell_type": "code",
      "execution_count": null,
      "metadata": {},
      "outputs": [],
      "source": [
        "new_fruits = [\"apple\", \"cherry\", \"apple\"]\n",
        "print(new_fruits.count(\"apple\"))"
      ],
      "id": "25b8ccc9"
    },
    {
      "cell_type": "markdown",
      "metadata": {},
      "source": [
        "### Sorting the list"
      ],
      "id": "bbcb8125-8d17-4a26-b677-3ef59f5e67b4"
    },
    {
      "cell_type": "code",
      "execution_count": null,
      "metadata": {},
      "outputs": [],
      "source": [
        "new_fruits.sort()\n",
        "print(new_fruits)"
      ],
      "id": "e146e5fc"
    },
    {
      "cell_type": "markdown",
      "metadata": {},
      "source": [
        "### Reversing the list"
      ],
      "id": "71c0f793-f8a2-4621-b0ad-6141adf67e2f"
    },
    {
      "cell_type": "code",
      "execution_count": null,
      "metadata": {},
      "outputs": [],
      "source": [
        "new_fruits.reverse()\n",
        "print(new_fruits)"
      ],
      "id": "820a9aea"
    }
  ],
  "nbformat": 4,
  "nbformat_minor": 5,
  "metadata": {
    "kernelspec": {
      "name": "python3",
      "display_name": "Python 3 (ipykernel)",
      "language": "python"
    }
  }
}
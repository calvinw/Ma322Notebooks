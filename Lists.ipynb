{
  "cells": [
    {
      "cell_type": "markdown",
      "metadata": {},
      "source": [
        "# Lists in Python\n",
        "\n",
        "This notebook covers the basics of working with lists in Python. Lists\n",
        "are a fundamental data structure, and understanding how to create,\n",
        "access, and manipulate them is essential for effective Python\n",
        "programming.\n",
        "\n",
        "Lists are one of the most versatile data structures in Python. They are\n",
        "used to store collections of items in a particular order. Here, we’ll\n",
        "explore the basics of working with lists in Python.\n",
        "\n",
        "## Creating a List\n",
        "\n",
        "You can create a list by enclosing a comma-separated sequence of items\n",
        "within square brackets `[ ]`. For example:"
      ],
      "id": "c0b0e405-c027-4eb7-a9f8-2e7752b34a20"
    },
    {
      "cell_type": "code",
      "execution_count": null,
      "metadata": {},
      "outputs": [],
      "source": [
        "fruits = [\"apple\", \"banana\", \"cherry\"]\n",
        "print(fruits)"
      ],
      "id": "aac29061"
    },
    {
      "cell_type": "markdown",
      "metadata": {},
      "source": [
        "Lists can contain items of different data types:"
      ],
      "id": "672bffd4-3ac2-4534-b76a-732e777069a7"
    },
    {
      "cell_type": "code",
      "execution_count": null,
      "metadata": {},
      "outputs": [],
      "source": [
        "mixed_list = [1, 2.3, \"hello\", True]\n",
        "print(mixed_list)"
      ],
      "id": "0ca653bd"
    },
    {
      "cell_type": "markdown",
      "metadata": {},
      "source": [
        "## Accessing List Items\n",
        "\n",
        "You can access individual items in a list using an index. Python uses\n",
        "zero-based indexing, which means the first item in the list has an index\n",
        "of 0."
      ],
      "id": "fded5970-8c09-46ee-9964-55920325832f"
    },
    {
      "cell_type": "code",
      "execution_count": null,
      "metadata": {},
      "outputs": [],
      "source": [
        "fruits = [\"apple\", \"banana\", \"cherry\"]\n",
        "print(fruits[0])  # First item\n",
        "print(fruits[2])  # Third item"
      ],
      "id": "bb08c86d"
    },
    {
      "cell_type": "markdown",
      "metadata": {},
      "source": [
        "You can also use negative indices to access items from the end of the\n",
        "list:"
      ],
      "id": "41fd861d-509d-48f0-b5f4-9024e09d56d8"
    },
    {
      "cell_type": "code",
      "execution_count": null,
      "metadata": {},
      "outputs": [],
      "source": [
        "print(fruits[-1])  # Last item\n",
        "print(fruits[-2])  # Second-to-last item"
      ],
      "id": "0e0ebd8c"
    },
    {
      "cell_type": "markdown",
      "metadata": {},
      "source": [
        "## List Slicing\n",
        "\n",
        "You can create a new list by slicing an existing one. The syntax is\n",
        "`list[start:stop:step]`, where `start` is the index to start from\n",
        "(inclusive), `stop` is the index to stop before (exclusive), and `step`\n",
        "is the step size (optional)."
      ],
      "id": "018978e7-d5fd-4795-bced-20d35f176714"
    },
    {
      "cell_type": "code",
      "execution_count": null,
      "metadata": {},
      "outputs": [],
      "source": [
        "numbers = [48,52,55,47,56,53,63,45]\n",
        "print(numbers[2:6])  # Sublist from index 2 to 5\n",
        "print(numbers[:4])   # Sublist from the beginning to index 3\n",
        "print(numbers[6:])   # Sublist from index 6 to the end\n",
        "print(numbers[::2])  # Every other item (step size 2)"
      ],
      "id": "ab79d18e"
    },
    {
      "cell_type": "markdown",
      "metadata": {},
      "source": [
        "## List Methods\n",
        "\n",
        "Lists in Python come with several built-in methods that allow you to\n",
        "manipulate them. Here are a few commonly used methods:\n",
        "\n",
        "### Appending an item to the end of the list"
      ],
      "id": "57c1743a-33a4-4c9a-ad3c-67d1c999ac0d"
    },
    {
      "cell_type": "code",
      "execution_count": null,
      "metadata": {},
      "outputs": [],
      "source": [
        "fruits = [\"apple\", \"banana\", \"cherry\"]\n",
        "fruits.append(\"orange\")\n",
        "print(fruits)"
      ],
      "id": "b08e6620"
    },
    {
      "cell_type": "markdown",
      "metadata": {},
      "source": [
        "### Inserting an item at a specific index"
      ],
      "id": "9401cb57-2bc5-4843-99a0-9fe92ae9f137"
    },
    {
      "cell_type": "code",
      "execution_count": null,
      "metadata": {},
      "outputs": [],
      "source": [
        "fruits.insert(1, \"mango\")\n",
        "print(fruits)"
      ],
      "id": "c6edeec4"
    },
    {
      "cell_type": "markdown",
      "metadata": {},
      "source": [
        "### Removing an item by value"
      ],
      "id": "6ba80274-a520-4268-aa25-8bc0d4df13de"
    },
    {
      "cell_type": "code",
      "execution_count": null,
      "metadata": {},
      "outputs": [],
      "source": [
        "fruits.remove(\"banana\")\n",
        "print(fruits)"
      ],
      "id": "9bdfd103"
    },
    {
      "cell_type": "markdown",
      "metadata": {},
      "source": [
        "### Removing an item by index"
      ],
      "id": "85265185-3737-48fb-8288-f1a026735a6e"
    },
    {
      "cell_type": "code",
      "execution_count": null,
      "metadata": {},
      "outputs": [],
      "source": [
        "del fruits[1]\n",
        "print(fruits)"
      ],
      "id": "047f2149"
    },
    {
      "cell_type": "markdown",
      "metadata": {},
      "source": [
        "### Getting the index of an item"
      ],
      "id": "459acc00-edb1-4dc2-98aa-99cd9f5e8e73"
    },
    {
      "cell_type": "code",
      "execution_count": null,
      "metadata": {},
      "outputs": [],
      "source": [
        "print(fruits.index(\"apple\"))"
      ],
      "id": "bd7aaea7"
    },
    {
      "cell_type": "markdown",
      "metadata": {},
      "source": [
        "### Counting occurrences of an item"
      ],
      "id": "639dc1cc-92be-4bf1-a5b1-6bc6c45ce3d2"
    },
    {
      "cell_type": "code",
      "execution_count": null,
      "metadata": {},
      "outputs": [],
      "source": [
        "new_fruits = [\"apple\", \"cherry\", \"apple\"]\n",
        "print(new_fruits.count(\"apple\"))"
      ],
      "id": "50b728ba"
    },
    {
      "cell_type": "markdown",
      "metadata": {},
      "source": [
        "### Sorting the list"
      ],
      "id": "c621debc-d59c-4f32-961a-8d9055c5de13"
    },
    {
      "cell_type": "code",
      "execution_count": null,
      "metadata": {},
      "outputs": [],
      "source": [
        "new_fruits.sort()\n",
        "print(new_fruits)"
      ],
      "id": "64c82548"
    },
    {
      "cell_type": "markdown",
      "metadata": {},
      "source": [
        "### Reversing the list"
      ],
      "id": "1811b62f-8448-45e2-a895-4c4db70c1547"
    },
    {
      "cell_type": "code",
      "execution_count": null,
      "metadata": {},
      "outputs": [],
      "source": [
        "new_fruits.reverse()\n",
        "print(new_fruits)"
      ],
      "id": "edd1d7a9"
    }
  ],
  "nbformat": 4,
  "nbformat_minor": 5,
  "metadata": {
    "kernelspec": {
      "name": "python3",
      "display_name": "Python 3 (ipykernel)",
      "language": "python"
    }
  }
}
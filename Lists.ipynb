{
  "cells": [
    {
      "cell_type": "markdown",
      "metadata": {},
      "source": [
        "# Lists in Python\n",
        "\n",
        "This notebook covers the basics of working with lists in Python. Lists\n",
        "are a fundamental data structure, and understanding how to create,\n",
        "access, and manipulate them is essential for effective Python\n",
        "programming.\n",
        "\n",
        "Lists are one of the most versatile data structures in Python. They are\n",
        "used to store collections of items in a particular order. Here, we’ll\n",
        "explore the basics of working with lists in Python.\n",
        "\n",
        "## Creating a List\n",
        "\n",
        "You can create a list by enclosing a comma-separated sequence of items\n",
        "within square brackets `[ ]`. For example:"
      ],
      "id": "2cf1c5b5-0384-4ade-9e36-eb072d595ca6"
    },
    {
      "cell_type": "code",
      "execution_count": null,
      "metadata": {},
      "outputs": [],
      "source": [
        "fruits = [\"apple\", \"banana\", \"cherry\"]\n",
        "print(fruits)"
      ],
      "id": "c28b1ee2"
    },
    {
      "cell_type": "markdown",
      "metadata": {},
      "source": [
        "Lists can contain items of different data types:"
      ],
      "id": "9d0a7606-29c4-4b41-9c60-eeedb3282279"
    },
    {
      "cell_type": "code",
      "execution_count": null,
      "metadata": {},
      "outputs": [],
      "source": [
        "mixed_list = [1, 2.3, \"hello\", True]\n",
        "print(mixed_list)"
      ],
      "id": "2f26b587"
    },
    {
      "cell_type": "markdown",
      "metadata": {},
      "source": [
        "## Accessing List Items\n",
        "\n",
        "You can access individual items in a list using an index. Python uses\n",
        "zero-based indexing, which means the first item in the list has an index\n",
        "of 0."
      ],
      "id": "a5ff7559-9544-43ca-97c3-be415059a5c2"
    },
    {
      "cell_type": "code",
      "execution_count": null,
      "metadata": {},
      "outputs": [],
      "source": [
        "fruits = [\"apple\", \"banana\", \"cherry\"]\n",
        "print(fruits[0])  # First item\n",
        "print(fruits[2])  # Third item"
      ],
      "id": "083022d1"
    },
    {
      "cell_type": "markdown",
      "metadata": {},
      "source": [
        "You can also use negative indices to access items from the end of the\n",
        "list:"
      ],
      "id": "438794be-6bd5-4bb3-bca5-f173dee4cc1d"
    },
    {
      "cell_type": "code",
      "execution_count": null,
      "metadata": {},
      "outputs": [],
      "source": [
        "print(fruits[-1])  # Last item\n",
        "print(fruits[-2])  # Second-to-last item"
      ],
      "id": "c7ff5243"
    },
    {
      "cell_type": "markdown",
      "metadata": {},
      "source": [
        "## List Slicing\n",
        "\n",
        "You can create a new list by slicing an existing one. The syntax is\n",
        "`list[start:stop:step]`, where `start` is the index to start from\n",
        "(inclusive), `stop` is the index to stop before (exclusive), and `step`\n",
        "is the step size (optional)."
      ],
      "id": "47a1febc-ec26-4513-a7a1-b46fab00722d"
    },
    {
      "cell_type": "code",
      "execution_count": null,
      "metadata": {},
      "outputs": [],
      "source": [
        "numbers = [48,52,55,47,56,53,63,45]\n",
        "print(numbers[2:6])  # Sublist from index 2 to 5\n",
        "print(numbers[:4])   # Sublist from the beginning to index 3\n",
        "print(numbers[6:])   # Sublist from index 6 to the end\n",
        "print(numbers[::2])  # Every other item (step size 2)"
      ],
      "id": "11e94e18"
    },
    {
      "cell_type": "markdown",
      "metadata": {},
      "source": [
        "## List Methods\n",
        "\n",
        "Lists in Python come with several built-in methods that allow you to\n",
        "manipulate them. Here are a few commonly used methods:\n",
        "\n",
        "### Appending an item to the end of the list"
      ],
      "id": "cde4fa45-cee0-4f08-99bc-ff53c87c3431"
    },
    {
      "cell_type": "code",
      "execution_count": null,
      "metadata": {},
      "outputs": [],
      "source": [
        "fruits = [\"apple\", \"banana\", \"cherry\"]\n",
        "fruits.append(\"orange\")\n",
        "print(fruits)"
      ],
      "id": "e2bee548"
    },
    {
      "cell_type": "markdown",
      "metadata": {},
      "source": [
        "### Inserting an item at a specific index"
      ],
      "id": "e6b58e78-5c26-4ea2-8863-fe92c63787ae"
    },
    {
      "cell_type": "code",
      "execution_count": null,
      "metadata": {},
      "outputs": [],
      "source": [
        "fruits.insert(1, \"mango\")\n",
        "print(fruits)"
      ],
      "id": "c79d738e"
    },
    {
      "cell_type": "markdown",
      "metadata": {},
      "source": [
        "### Removing an item by value"
      ],
      "id": "df693db8-10ab-4c56-b8f9-785f8ca8d30b"
    },
    {
      "cell_type": "code",
      "execution_count": null,
      "metadata": {},
      "outputs": [],
      "source": [
        "fruits.remove(\"banana\")\n",
        "print(fruits)"
      ],
      "id": "29405763"
    },
    {
      "cell_type": "markdown",
      "metadata": {},
      "source": [
        "### Removing an item by index"
      ],
      "id": "9f4ea417-3807-4340-a9b8-eab495266634"
    },
    {
      "cell_type": "code",
      "execution_count": null,
      "metadata": {},
      "outputs": [],
      "source": [
        "del fruits[1]\n",
        "print(fruits)"
      ],
      "id": "d0c97b07"
    },
    {
      "cell_type": "markdown",
      "metadata": {},
      "source": [
        "### Getting the index of an item"
      ],
      "id": "486af2b3-4fc0-4863-bd42-90af2d358d0d"
    },
    {
      "cell_type": "code",
      "execution_count": null,
      "metadata": {},
      "outputs": [],
      "source": [
        "print(fruits.index(\"apple\"))"
      ],
      "id": "5dd5d0eb"
    },
    {
      "cell_type": "markdown",
      "metadata": {},
      "source": [
        "### Counting occurrences of an item"
      ],
      "id": "2c25c27a-742c-41a0-892e-14817f93dc96"
    },
    {
      "cell_type": "code",
      "execution_count": null,
      "metadata": {},
      "outputs": [],
      "source": [
        "new_fruits = [\"apple\", \"cherry\", \"apple\"]\n",
        "print(new_fruits.count(\"apple\"))"
      ],
      "id": "3d24a106"
    },
    {
      "cell_type": "markdown",
      "metadata": {},
      "source": [
        "### Sorting the list"
      ],
      "id": "dba07de8-4509-4f25-b067-5ebc7770d10f"
    },
    {
      "cell_type": "code",
      "execution_count": null,
      "metadata": {},
      "outputs": [],
      "source": [
        "new_fruits.sort()\n",
        "print(new_fruits)"
      ],
      "id": "f7052b15"
    },
    {
      "cell_type": "markdown",
      "metadata": {},
      "source": [
        "### Reversing the list"
      ],
      "id": "0e3f7c33-c402-4bff-af50-f20613e9b492"
    },
    {
      "cell_type": "code",
      "execution_count": null,
      "metadata": {},
      "outputs": [],
      "source": [
        "new_fruits.reverse()\n",
        "print(new_fruits)"
      ],
      "id": "720599bc"
    }
  ],
  "nbformat": 4,
  "nbformat_minor": 5,
  "metadata": {
    "kernelspec": {
      "name": "python3",
      "display_name": "Python 3 (ipykernel)",
      "language": "python"
    }
  }
}
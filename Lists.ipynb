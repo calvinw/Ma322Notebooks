{
  "cells": [
    {
      "cell_type": "markdown",
      "metadata": {},
      "source": [
        "# Lists in Python\n",
        "\n",
        "This notebook covers the basics of working with lists in Python. Lists\n",
        "are a fundamental data structure, and understanding how to create,\n",
        "access, and manipulate them is essential for effective Python\n",
        "programming.\n",
        "\n",
        "Lists are one of the most versatile data structures in Python. They are\n",
        "used to store collections of items in a particular order. Here, we’ll\n",
        "explore the basics of working with lists in Python.\n",
        "\n",
        "## Creating a List\n",
        "\n",
        "You can create a list by enclosing a comma-separated sequence of items\n",
        "within square brackets `[ ]`. For example:"
      ],
      "id": "9168bbe6-e463-47c3-b49c-37ec61133595"
    },
    {
      "cell_type": "code",
      "execution_count": null,
      "metadata": {},
      "outputs": [],
      "source": [
        "fruits = [\"apple\", \"banana\", \"cherry\"]\n",
        "print(fruits)"
      ],
      "id": "7e6de71f"
    },
    {
      "cell_type": "markdown",
      "metadata": {},
      "source": [
        "Lists can contain items of different data types:"
      ],
      "id": "95b3e1a3-a0ea-4a43-911c-ad413c24b043"
    },
    {
      "cell_type": "code",
      "execution_count": null,
      "metadata": {},
      "outputs": [],
      "source": [
        "mixed_list = [1, 2.3, \"hello\", True]\n",
        "print(mixed_list)"
      ],
      "id": "88ad2f1c"
    },
    {
      "cell_type": "markdown",
      "metadata": {},
      "source": [
        "## Accessing List Items\n",
        "\n",
        "You can access individual items in a list using an index. Python uses\n",
        "zero-based indexing, which means the first item in the list has an index\n",
        "of 0."
      ],
      "id": "14fd3258-2b26-4370-aad0-30cccf75dce9"
    },
    {
      "cell_type": "code",
      "execution_count": null,
      "metadata": {},
      "outputs": [],
      "source": [
        "fruits = [\"apple\", \"banana\", \"cherry\"]\n",
        "print(fruits[0])  # First item\n",
        "print(fruits[2])  # Third item"
      ],
      "id": "5c06e56a"
    },
    {
      "cell_type": "markdown",
      "metadata": {},
      "source": [
        "You can also use negative indices to access items from the end of the\n",
        "list:"
      ],
      "id": "e8b77e2c-b599-4fc7-9536-e94d515a8851"
    },
    {
      "cell_type": "code",
      "execution_count": null,
      "metadata": {},
      "outputs": [],
      "source": [
        "print(fruits[-1])  # Last item\n",
        "print(fruits[-2])  # Second-to-last item"
      ],
      "id": "146a42dd"
    },
    {
      "cell_type": "markdown",
      "metadata": {},
      "source": [
        "## List Slicing\n",
        "\n",
        "You can create a new list by slicing an existing one. The syntax is\n",
        "`list[start:stop:step]`, where `start` is the index to start from\n",
        "(inclusive), `stop` is the index to stop before (exclusive), and `step`\n",
        "is the step size (optional)."
      ],
      "id": "03372519-7756-4a08-8d9d-91239dcd9848"
    },
    {
      "cell_type": "code",
      "execution_count": null,
      "metadata": {},
      "outputs": [],
      "source": [
        "numbers = [48,52,55,47,56,53,63,45]\n",
        "print(numbers[2:6])  # Sublist from index 2 to 5\n",
        "print(numbers[:4])   # Sublist from the beginning to index 3\n",
        "print(numbers[6:])   # Sublist from index 6 to the end\n",
        "print(numbers[::2])  # Every other item (step size 2)"
      ],
      "id": "8bd5d38d"
    },
    {
      "cell_type": "markdown",
      "metadata": {},
      "source": [
        "## List Methods\n",
        "\n",
        "Lists in Python come with several built-in methods that allow you to\n",
        "manipulate them. Here are a few commonly used methods:\n",
        "\n",
        "### Appending an item to the end of the list"
      ],
      "id": "d1167f75-87ba-4b53-950f-1236d33dc299"
    },
    {
      "cell_type": "code",
      "execution_count": null,
      "metadata": {},
      "outputs": [],
      "source": [
        "fruits = [\"apple\", \"banana\", \"cherry\"]\n",
        "fruits.append(\"orange\")\n",
        "print(fruits)"
      ],
      "id": "efa61b5b"
    },
    {
      "cell_type": "markdown",
      "metadata": {},
      "source": [
        "### Inserting an item at a specific index"
      ],
      "id": "57398765-d69e-4393-b927-b98ed4151221"
    },
    {
      "cell_type": "code",
      "execution_count": null,
      "metadata": {},
      "outputs": [],
      "source": [
        "fruits.insert(1, \"mango\")\n",
        "print(fruits)"
      ],
      "id": "c247af78"
    },
    {
      "cell_type": "markdown",
      "metadata": {},
      "source": [
        "### Removing an item by value"
      ],
      "id": "0b61e3ac-28f8-4796-a4bb-478353e699cf"
    },
    {
      "cell_type": "code",
      "execution_count": null,
      "metadata": {},
      "outputs": [],
      "source": [
        "fruits.remove(\"banana\")\n",
        "print(fruits)"
      ],
      "id": "6be0fa4d"
    },
    {
      "cell_type": "markdown",
      "metadata": {},
      "source": [
        "### Removing an item by index"
      ],
      "id": "be9ee851-3c1d-4985-b143-2dd14f86d158"
    },
    {
      "cell_type": "code",
      "execution_count": null,
      "metadata": {},
      "outputs": [],
      "source": [
        "del fruits[1]\n",
        "print(fruits)"
      ],
      "id": "97618e24"
    },
    {
      "cell_type": "markdown",
      "metadata": {},
      "source": [
        "### Getting the index of an item"
      ],
      "id": "a9f7db0e-14eb-4373-a71c-51e6116c03c8"
    },
    {
      "cell_type": "code",
      "execution_count": null,
      "metadata": {},
      "outputs": [],
      "source": [
        "print(fruits.index(\"apple\"))"
      ],
      "id": "fe86cabc"
    },
    {
      "cell_type": "markdown",
      "metadata": {},
      "source": [
        "### Counting occurrences of an item"
      ],
      "id": "5b4be0e7-ddba-4100-9633-460e8865d04d"
    },
    {
      "cell_type": "code",
      "execution_count": null,
      "metadata": {},
      "outputs": [],
      "source": [
        "new_fruits = [\"apple\", \"cherry\", \"apple\"]\n",
        "print(new_fruits.count(\"apple\"))"
      ],
      "id": "0ccc581f"
    },
    {
      "cell_type": "markdown",
      "metadata": {},
      "source": [
        "### Sorting the list"
      ],
      "id": "2a97adf2-a028-4886-af78-a6091bdeaa7f"
    },
    {
      "cell_type": "code",
      "execution_count": null,
      "metadata": {},
      "outputs": [],
      "source": [
        "new_fruits.sort()\n",
        "print(new_fruits)"
      ],
      "id": "a8086ab9"
    },
    {
      "cell_type": "markdown",
      "metadata": {},
      "source": [
        "### Reversing the list"
      ],
      "id": "835d87ea-dd12-46da-bf8e-ba7879a4f3fe"
    },
    {
      "cell_type": "code",
      "execution_count": null,
      "metadata": {},
      "outputs": [],
      "source": [
        "new_fruits.reverse()\n",
        "print(new_fruits)"
      ],
      "id": "b45ea040"
    }
  ],
  "nbformat": 4,
  "nbformat_minor": 5,
  "metadata": {
    "kernelspec": {
      "name": "python3",
      "display_name": "Python 3 (ipykernel)",
      "language": "python"
    }
  }
}
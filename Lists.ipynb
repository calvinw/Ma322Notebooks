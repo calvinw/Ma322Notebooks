{
  "cells": [
    {
      "cell_type": "markdown",
      "metadata": {},
      "source": [
        "# Lists in Python\n",
        "\n",
        "This notebook covers the basics of working with lists in Python. Lists\n",
        "are a fundamental data structure, and understanding how to create,\n",
        "access, and manipulate them is essential for effective Python\n",
        "programming.\n",
        "\n",
        "Lists are one of the most versatile data structures in Python. They are\n",
        "used to store collections of items in a particular order. Here, we’ll\n",
        "explore the basics of working with lists in Python.\n",
        "\n",
        "## Creating a List\n",
        "\n",
        "You can create a list by enclosing a comma-separated sequence of items\n",
        "within square brackets `[ ]`. For example:"
      ],
      "id": "fff4a2dd-6c01-4137-834e-cf0cdf194f8a"
    },
    {
      "cell_type": "code",
      "execution_count": null,
      "metadata": {},
      "outputs": [],
      "source": [
        "fruits = [\"apple\", \"banana\", \"cherry\"]\n",
        "print(fruits)"
      ],
      "id": "dd935842"
    },
    {
      "cell_type": "markdown",
      "metadata": {},
      "source": [
        "Lists can contain items of different data types:"
      ],
      "id": "35c562a2-2d93-4459-918b-c9c4a216094d"
    },
    {
      "cell_type": "code",
      "execution_count": null,
      "metadata": {},
      "outputs": [],
      "source": [
        "mixed_list = [1, 2.3, \"hello\", True]\n",
        "print(mixed_list)"
      ],
      "id": "c5d47f83"
    },
    {
      "cell_type": "markdown",
      "metadata": {},
      "source": [
        "## Accessing List Items\n",
        "\n",
        "You can access individual items in a list using an index. Python uses\n",
        "zero-based indexing, which means the first item in the list has an index\n",
        "of 0."
      ],
      "id": "a259b9e6-cf97-4354-b8cd-7beb276adcd0"
    },
    {
      "cell_type": "code",
      "execution_count": null,
      "metadata": {},
      "outputs": [],
      "source": [
        "fruits = [\"apple\", \"banana\", \"cherry\"]\n",
        "print(fruits[0])  # First item\n",
        "print(fruits[2])  # Third item"
      ],
      "id": "6da1085d"
    },
    {
      "cell_type": "markdown",
      "metadata": {},
      "source": [
        "You can also use negative indices to access items from the end of the\n",
        "list:"
      ],
      "id": "acf70545-20f8-4893-a18b-33c9d1b9798b"
    },
    {
      "cell_type": "code",
      "execution_count": null,
      "metadata": {},
      "outputs": [],
      "source": [
        "print(fruits[-1])  # Last item\n",
        "print(fruits[-2])  # Second-to-last item"
      ],
      "id": "bcdf496b"
    },
    {
      "cell_type": "markdown",
      "metadata": {},
      "source": [
        "## List Slicing\n",
        "\n",
        "You can create a new list by slicing an existing one. The syntax is\n",
        "`list[start:stop:step]`, where `start` is the index to start from\n",
        "(inclusive), `stop` is the index to stop before (exclusive), and `step`\n",
        "is the step size (optional)."
      ],
      "id": "b2f1e1d9-3c20-4205-9489-67bed1b91cb1"
    },
    {
      "cell_type": "code",
      "execution_count": null,
      "metadata": {},
      "outputs": [],
      "source": [
        "numbers = [48,52,55,47,56,53,63,45]\n",
        "print(numbers[2:6])  # Sublist from index 2 to 5\n",
        "print(numbers[:4])   # Sublist from the beginning to index 3\n",
        "print(numbers[6:])   # Sublist from index 6 to the end\n",
        "print(numbers[::2])  # Every other item (step size 2)"
      ],
      "id": "0ec5a81a"
    },
    {
      "cell_type": "markdown",
      "metadata": {},
      "source": [
        "## List Methods\n",
        "\n",
        "Lists in Python come with several built-in methods that allow you to\n",
        "manipulate them. Here are a few commonly used methods:"
      ],
      "id": "047a3a42-0a35-4814-a198-528f75257a17"
    },
    {
      "cell_type": "code",
      "execution_count": null,
      "metadata": {},
      "outputs": [],
      "source": [
        "fruits = [\"apple\", \"banana\", \"cherry\"]\n",
        "\n",
        "# Append an item to the end of the list\n",
        "fruits.append(\"orange\")\n",
        "print(fruits)\n",
        "\n",
        "# Insert an item at a specific index\n",
        "fruits.insert(1, \"mango\")\n",
        "print(fruits)\n",
        "\n",
        "# Remove an item by value\n",
        "fruits.remove(\"banana\")\n",
        "print(fruits)\n",
        "\n",
        "# Remove an item by index\n",
        "del fruits[1]\n",
        "print(fruits)\n",
        "\n",
        "# Get the index of an item\n",
        "print(fruits.index(\"apple\"))\n",
        "\n",
        "# Count occurrences of an item\n",
        "new_fruits = [\"apple\", \"cherry\", \"apple\"]\n",
        "print(new_fruits.count(\"apple\"))\n",
        "\n",
        "# Sort the list\n",
        "new_fruits.sort()\n",
        "print(new_fruits)\n",
        "\n",
        "# Reverse the list\n",
        "new_fruits.reverse()\n",
        "print(new_fruits)"
      ],
      "id": "e4ef5c61"
    }
  ],
  "nbformat": 4,
  "nbformat_minor": 5,
  "metadata": {
    "kernelspec": {
      "name": "python3",
      "display_name": "Python 3 (ipykernel)",
      "language": "python"
    }
  }
}
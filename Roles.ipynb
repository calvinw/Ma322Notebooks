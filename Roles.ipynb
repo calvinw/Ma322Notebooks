{
  "cells": [
    {
      "cell_type": "markdown",
      "metadata": {},
      "source": [
        "# Roles\n",
        "\n",
        "### Put Your OPENROUTER_API_KEY here"
      ],
      "id": "110f784e-97c7-42a9-a251-06ff47198622"
    },
    {
      "cell_type": "code",
      "execution_count": null,
      "metadata": {},
      "outputs": [],
      "source": [
        "import os\n",
        "os.environ[\"OPENROUTER_API_KEY\"] = \"paste_your_api_key_here\""
      ],
      "id": "6b85cab6"
    },
    {
      "cell_type": "code",
      "execution_count": null,
      "metadata": {},
      "outputs": [],
      "source": [
        "!pip3 install langchain langchain_openai"
      ],
      "id": "58072051"
    },
    {
      "cell_type": "code",
      "execution_count": null,
      "metadata": {},
      "outputs": [],
      "source": [
        "import os\n",
        "from langchain_openai import ChatOpenAI\n",
        "\n",
        "try:\n",
        "    model_name\n",
        "except NameError:\n",
        "    model_name=\"openai/gpt-4o-mini\"\n",
        "\n",
        "print(\"Model Name:\", model_name)\n",
        "print(\"Provider:\", \"OpenRouter AI\")\n",
        "\n",
        "llm=ChatOpenAI(model_name=model_name,\n",
        "               openai_api_key=os.environ.get(\"OPENROUTER_API_KEY\"),\n",
        "               openai_api_base=\"https://openrouter.ai/api/v1\")"
      ],
      "id": "9a7b1e85"
    },
    {
      "cell_type": "code",
      "execution_count": null,
      "metadata": {},
      "outputs": [],
      "source": [
        "import textwrap\n",
        "from langchain_core.prompts import ChatPromptTemplate\n",
        "\n",
        "def wrap_text(text, max_width=80):\n",
        "    \"\"\"\n",
        "    Wraps the text to the specified max_width, preserving line breaks and formatting.\n",
        "    \"\"\"\n",
        "    text = text.lstrip()\n",
        "    lines = text.splitlines()  # Split the text into lines\n",
        "    wrapped_lines = []\n",
        "    for line in lines:\n",
        "        if line.strip():  # Skip empty lines\n",
        "            wrapped_line = textwrap.fill(line, max_width, initial_indent='', subsequent_indent='')\n",
        "            wrapped_lines.extend(wrapped_line.splitlines())  # Preserve line breaks\n",
        "        else:\n",
        "            wrapped_lines.append('')  # Keep empty lines\n",
        "    return '\\n'.join(wrapped_lines)\n",
        "\n",
        "def print_prompt_and_response(prompt, response):\n",
        "    print(\"Prompt: \")\n",
        "    print(wrap_text(prompt))\n",
        "    print(\"\")\n",
        "    print(\"Response: \")\n",
        "    print(response)\n",
        "\n",
        "def print_messages_and_response(messages, response):\n",
        "    prompt = ChatPromptTemplate(messages=messages)\n",
        "    print_prompt_and_response(prompt.format(), response)\n",
        "\n",
        "def get_completion(prompt, temperature=0.0):\n",
        "    response = llm.invoke(prompt, temperature=temperature)\n",
        "    wrapped_response = wrap_text(response.content)\n",
        "    return wrapped_response\n",
        "\n",
        "def get_completion_messages(messages, temperature=0.0):\n",
        "    response=llm.invoke(messages, temperature=temperature)\n",
        "    wrapped_response = wrap_text(response.content)\n",
        "    return wrapped_response"
      ],
      "id": "2e567f9d"
    },
    {
      "cell_type": "markdown",
      "metadata": {},
      "source": [
        "Many times it helps to give the LLM a role or a persona. That helps set\n",
        "the context for how it is meant to respond. This is a very common thing\n",
        "to do and is why you see many prompts that start with:\n",
        "\n",
        "-   You are an expert at …\n",
        "-   You are a professional …\n",
        "\n",
        "This instructions ground the LLMs responses with information about how\n",
        "it should act and respond.\n",
        "\n",
        "## Act Like a Mouse\n",
        "\n",
        "We can tell the LLM that it is to act like a mouse."
      ],
      "id": "19b369e6-1317-4070-bc5a-6c26bae6c5a4"
    },
    {
      "cell_type": "code",
      "execution_count": null,
      "metadata": {},
      "outputs": [],
      "source": [
        "prompt=\"\"\"\n",
        "You are to act like a mouse.\n",
        "What do you think of skateboards?\n",
        "\"\"\"\n",
        "response=get_completion(prompt)\n",
        "print(response)"
      ],
      "id": "2230728a"
    },
    {
      "cell_type": "markdown",
      "metadata": {},
      "source": [
        "## Act Like a Kid"
      ],
      "id": "506545cd-0045-441e-81a8-cfdb30c73732"
    },
    {
      "cell_type": "code",
      "execution_count": null,
      "metadata": {},
      "outputs": [],
      "source": [
        "prompt=\"\"\"\n",
        "You are a kid.\n",
        "What do you think of skateboards?\n",
        "\"\"\"\n",
        "response=get_completion(prompt)\n",
        "print(response)"
      ],
      "id": "9b8545a4"
    },
    {
      "cell_type": "markdown",
      "metadata": {},
      "source": [
        "## Is a Married Person Looking at an Unmarried Person?\n",
        "\n",
        "In this part we ask the LLM to solve a logical problem. We will ask it\n",
        "to solve this problem twice. First without prompting it with a role.\n",
        "Then the second time we will ask it to answer by giving it a role and\n",
        "asking it to think about all the cases.\n",
        "\n",
        "So here is our question:\n",
        "\n",
        "> Jack is looking at Anne. Anne is looking at George. Jack is married,\n",
        "> George is not, and we don’t know if Anne is married. Is a married\n",
        "> person looking at an unmarried person?\n",
        "\n",
        "The answer to our question is yes. And the way to see it is to just\n",
        "think about the cases:\n",
        "\n",
        "-   If Anne is married, then Anne (married) is looking at George\n",
        "    (unmarried)\n",
        "-   If Anne is unmarried, then Jack (married) is looking at Anne\n",
        "    (unmarried)\n",
        "\n",
        "So in both cases the answer is yes, a married person is looking at an\n",
        "unmarried person.\n",
        "\n",
        "Now first we just try to have it solve the problem without any\n",
        "additional prompting about a role."
      ],
      "id": "92285ffa-d28b-4597-8d0b-2c4f043dea42"
    },
    {
      "cell_type": "code",
      "execution_count": null,
      "metadata": {},
      "outputs": [],
      "source": [
        "prompt=\"\"\"\n",
        "Jack is looking at Anne. Anne is looking at George. Jack is married, George is\n",
        "not, and we don’t know if Anne is married. Is a married person looking at an\n",
        "unmarried person?\n",
        "\"\"\"\n",
        "response=get_completion(prompt)\n",
        "print(response)"
      ],
      "id": "b2f325ab"
    },
    {
      "cell_type": "markdown",
      "metadata": {},
      "source": [
        "The answer above is right, but the LLM thinks its true since Jack is\n",
        "looking at George. Which is not quite correct.\n",
        "\n",
        "## Act Like a Professor of Logic\n",
        "\n",
        "But now we tell the LLM its a professor of logic and it should think\n",
        "through all the possibilities. With many LLMs this gets them closer to\n",
        "the right solution and sometimes they get it completly right with this\n",
        "kind of prompting.\n",
        "\n",
        "Asking a model to think “step-by-step” or by listing its reasoning is\n",
        "called “Chain of Thought(CoT)” prompting."
      ],
      "id": "fcadb629-893d-458c-bbd3-851f7fb95a6d"
    },
    {
      "cell_type": "code",
      "execution_count": null,
      "metadata": {},
      "outputs": [],
      "source": [
        "prompt=\"\"\"\n",
        "You are a smart professor of logic who can answer complex logic problems. Think\n",
        "through all the cases before you answer.\n",
        "\n",
        "Logic Problem:\n",
        "Jack is looking at Anne. Anne is looking at George. Jack is\n",
        "married, George is not, and we don’t know if Anne is married. Is a married\n",
        "person looking at an unmarried person?\n",
        "\"\"\"\n",
        "\n",
        "response=get_completion(prompt)\n",
        "print(response)"
      ],
      "id": "80b7e83d"
    },
    {
      "cell_type": "markdown",
      "metadata": {},
      "source": [
        "This time the LLM does much better and you see it doing better thinking\n",
        "step-by-step.\n",
        "\n",
        "## Is This Equation Solved Correctly?\n",
        "\n",
        "Here is another example involving a simple algebra problem.\n",
        "\n",
        "Without further prompting we ask the LLM if this (incorrect) problem\n",
        "solution is correct."
      ],
      "id": "5d470447-86c2-45d8-9bd3-10ec0673a130"
    },
    {
      "cell_type": "code",
      "execution_count": null,
      "metadata": {},
      "outputs": [],
      "source": [
        "prompt =\"\"\"\n",
        "Is this equation solved correctly below?\n",
        "\n",
        "2x-3=9\n",
        "2x=6\n",
        "x=3\n",
        "\"\"\"\n",
        "response=get_completion(prompt)\n",
        "print(response)"
      ],
      "id": "5530197d"
    },
    {
      "cell_type": "markdown",
      "metadata": {},
      "source": [
        "Hmm…it seems to think the solution is correct. It didn’t see anything\n",
        "wrong with the solution.\n",
        "\n",
        "## You are a Teacher of Math. Reason Step-By-Step\n",
        "\n",
        "Now we ask it again, but this time we tell it that its a teacher of\n",
        "math."
      ],
      "id": "469702fe-c34a-4870-9279-4c437e9765af"
    },
    {
      "cell_type": "code",
      "execution_count": null,
      "metadata": {},
      "outputs": [],
      "source": [
        "prompt = \"\"\"\n",
        "You are a teacher of math. And can reason step-by-step to see if something is\n",
        "correct. First work out your own solution to the problem. Then carefully\n",
        "consider how to answer the following question:\n",
        "\n",
        "Is this problem solved correctly below?\n",
        "2x-3=9\n",
        "2x=6\n",
        "x=3\n",
        "\"\"\"\n",
        "response=get_completion(prompt)\n",
        "print(response)"
      ],
      "id": "771f6941"
    },
    {
      "cell_type": "markdown",
      "metadata": {},
      "source": [
        "Here it does much better in the second attempt. It still says the\n",
        "problem is solved correctly originally, but then it finds that there is\n",
        "a mistake. Definitely the step-by-step reasoning it is doing is an\n",
        "improvement over its first answer."
      ],
      "id": "8108797d-40a2-4232-87e1-b4b459a622df"
    }
  ],
  "nbformat": 4,
  "nbformat_minor": 5,
  "metadata": {
    "kernelspec": {
      "name": "python3",
      "display_name": "Python 3 (ipykernel)",
      "language": "python"
    }
  }
}
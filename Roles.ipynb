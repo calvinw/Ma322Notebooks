{
  "cells": [
    {
      "cell_type": "markdown",
      "metadata": {},
      "source": [
        "# Roles\n",
        "\n",
        "### Put Your OPENROUTER_API_KEY here"
      ],
      "id": "bd402c5f-cb6c-45b8-8cf6-ad3922869fe0"
    },
    {
      "cell_type": "code",
      "execution_count": null,
      "metadata": {},
      "outputs": [],
      "source": [
        "import os\n",
        "os.environ[\"OPENROUTER_API_KEY\"] = \"paste_your_api_key_here\""
      ],
      "id": "807ed7db"
    },
    {
      "cell_type": "code",
      "execution_count": null,
      "metadata": {},
      "outputs": [],
      "source": [
        "!pip3 install langchain langchain_openai"
      ],
      "id": "7fcdc733"
    },
    {
      "cell_type": "code",
      "execution_count": null,
      "metadata": {},
      "outputs": [],
      "source": [
        "import os\n",
        "from langchain_openai import ChatOpenAI\n",
        "\n",
        "try:\n",
        "    model_name\n",
        "except NameError:\n",
        "    model_name=\"openai/gpt-4o-mini\"\n",
        "\n",
        "print(\"Model Name:\", model_name)\n",
        "print(\"Provider:\", \"OpenRouter AI\")\n",
        "\n",
        "llm=ChatOpenAI(model_name=model_name,\n",
        "               openai_api_key=os.environ.get(\"OPENROUTER_API_KEY\"),\n",
        "               openai_api_base=\"https://openrouter.ai/api/v1\")"
      ],
      "id": "d73b40fe"
    },
    {
      "cell_type": "code",
      "execution_count": null,
      "metadata": {},
      "outputs": [],
      "source": [
        "import textwrap\n",
        "from langchain_core.prompts import ChatPromptTemplate\n",
        "\n",
        "from IPython.display import display, clear_output, Markdown\n",
        "from ipywidgets import widgets, Layout\n",
        "\n",
        "conversation_output = widgets.Output()\n",
        "messages = []\n",
        "\n",
        "def run_chatbot(system_prompt, initial_message):\n",
        "    global messages \n",
        "    messages = [ {'role':'system', 'content': system_prompt} ]\n",
        "    conversation_output.clear_output()\n",
        "\n",
        "    messages.append({'role': 'assistant', 'content': initial_message})\n",
        "\n",
        "    text_input = widgets.Text(\n",
        "        placeholder='Type your message here...',\n",
        "        layout=widgets.Layout(width='50%')\n",
        "    )\n",
        "    submit_button = widgets.Button(description=\"Send\")\n",
        "\n",
        "    input_box = widgets.HBox([text_input, submit_button])\n",
        "    display(conversation_output, input_box)\n",
        "\n",
        "    def on_submit_click(b):\n",
        "        message = text_input.value\n",
        "        text_input.value = ''  # Clear the input field\n",
        "\n",
        "        with conversation_output:\n",
        "            display(Markdown(f\"**User**: {message}\"))\n",
        "            messages.append({'role': 'user', 'content': message})\n",
        "            response = get_completion_messages(messages)\n",
        "            display(Markdown(f\"**AI**: {response}\"))\n",
        "            messages.append({'role': 'assistant', 'content': response})\n",
        "\n",
        "    submit_button.on_click(on_submit_click)\n",
        "\n",
        "    # Display initial AI message\n",
        "    with conversation_output:\n",
        "        display(Markdown(f\"**AI**: {initial_message}\"))\n",
        "\n",
        "def wrap_text(text, max_width=80):\n",
        "    \"\"\"\n",
        "    Wraps the text to the specified max_width, preserving line breaks and formatting.\n",
        "    \"\"\"\n",
        "    text = text.lstrip()\n",
        "    lines = text.splitlines()  # Split the text into lines\n",
        "    wrapped_lines = []\n",
        "    for line in lines:\n",
        "        if line.strip():  # Skip empty lines\n",
        "            wrapped_line = textwrap.fill(line, max_width, initial_indent='', subsequent_indent='')\n",
        "            wrapped_lines.extend(wrapped_line.splitlines())  # Preserve line breaks\n",
        "        else:\n",
        "            wrapped_lines.append('')  # Keep empty lines\n",
        "    return '\\n'.join(wrapped_lines)\n",
        "\n",
        "def print_messages():\n",
        "    for message in messages:\n",
        "        role = message['role']\n",
        "        content = message['content']\n",
        "        \n",
        "        if role == 'system':\n",
        "            print(\"System:\")\n",
        "            print(\"-\" * 40)\n",
        "            print(content)\n",
        "        elif role == 'user':\n",
        "            print(\"User: \", end=\"\")\n",
        "            print(wrap_text(content))\n",
        "        elif role == 'assistant':\n",
        "            print(\"Assistant: \", end=\"\")\n",
        "            print(wrap_text(content))\n",
        "        print()  # Add an extra newline for spacing\n",
        "\n",
        "def print_prompt_and_response(prompt, response):\n",
        "    print(\"Prompt: \")\n",
        "    print(wrap_text(prompt))\n",
        "    print(\"\")\n",
        "    print(\"Response: \")\n",
        "    print(response)\n",
        "\n",
        "def print_messages_and_response(messages, response):\n",
        "    prompt = ChatPromptTemplate(messages=messages)\n",
        "    print_prompt_and_response(prompt.format(), response)\n",
        "\n",
        "def get_completion(prompt, temperature=0.0):\n",
        "    response = llm.invoke(prompt, temperature=temperature)\n",
        "    wrapped_response = wrap_text(response.content)\n",
        "    return wrapped_response\n",
        "\n",
        "def get_completion_messages(messages, temperature=0.0):\n",
        "    response=llm.invoke(messages, temperature=temperature)\n",
        "    wrapped_response = wrap_text(response.content)\n",
        "    return wrapped_response"
      ],
      "id": "4ce4a25a"
    },
    {
      "cell_type": "markdown",
      "metadata": {},
      "source": [
        "Many times it helps to give the LLM a role or a persona. That helps set\n",
        "the context for how it is meant to respond. This is a very common thing\n",
        "to do and is why you see many prompts that start with:\n",
        "\n",
        "-   You are an expert at …\n",
        "-   You are a professional …\n",
        "\n",
        "This instructions ground the LLMs responses with information about how\n",
        "it should act and respond.\n",
        "\n",
        "## Act Like a Mouse\n",
        "\n",
        "We can tell the LLM that it is to act like a mouse."
      ],
      "id": "dbde0b7b-6c33-4112-bfd3-6a84d0d9d13d"
    },
    {
      "cell_type": "code",
      "execution_count": null,
      "metadata": {},
      "outputs": [],
      "source": [
        "prompt=\"\"\"\n",
        "You are to act like a mouse.\n",
        "What do you think of skateboards?\n",
        "\"\"\"\n",
        "response=get_completion(prompt)\n",
        "print(response)"
      ],
      "id": "8cf47704"
    },
    {
      "cell_type": "markdown",
      "metadata": {},
      "source": [
        "## Act Like a Kid"
      ],
      "id": "bd874f23-e11f-4f97-8784-d6753df422fa"
    },
    {
      "cell_type": "code",
      "execution_count": null,
      "metadata": {},
      "outputs": [],
      "source": [
        "prompt=\"\"\"\n",
        "You are a kid.\n",
        "What do you think of skateboards?\n",
        "\"\"\"\n",
        "response=get_completion(prompt)\n",
        "print(response)"
      ],
      "id": "cf025039"
    },
    {
      "cell_type": "markdown",
      "metadata": {},
      "source": [
        "## Is a Married Person Looking at an Unmarried Person?\n",
        "\n",
        "In this part we ask the LLM to solve a logical problem. We will ask it\n",
        "to solve this problem twice. First without prompting it with a role.\n",
        "Then the second time we will ask it to answer by giving it a role and\n",
        "asking it to think about all the cases.\n",
        "\n",
        "So here is our question:\n",
        "\n",
        "> Jack is looking at Anne. Anne is looking at George. Jack is married,\n",
        "> George is not, and we don’t know if Anne is married. Is a married\n",
        "> person looking at an unmarried person?\n",
        "\n",
        "The answer to our question is yes. And the way to see it is to just\n",
        "think about the cases:\n",
        "\n",
        "-   If Anne is married, then Anne (married) is looking at George\n",
        "    (unmarried)\n",
        "-   If Anne is unmarried, then Jack (married) is looking at Anne\n",
        "    (unmarried)\n",
        "\n",
        "So in both cases the answer is yes, a married person is looking at an\n",
        "unmarried person.\n",
        "\n",
        "Now first we just try to have it solve the problem without any\n",
        "additional prompting about a role."
      ],
      "id": "c3e16442-da6e-450b-8ed1-ced10223bd03"
    },
    {
      "cell_type": "code",
      "execution_count": null,
      "metadata": {},
      "outputs": [],
      "source": [
        "prompt=\"\"\"\n",
        "Jack is looking at Anne. Anne is looking at George. Jack is married, George is\n",
        "not, and we don’t know if Anne is married. Is a married person looking at an\n",
        "unmarried person?\n",
        "\"\"\"\n",
        "response=get_completion(prompt)\n",
        "print(response)"
      ],
      "id": "272cace6"
    },
    {
      "cell_type": "markdown",
      "metadata": {},
      "source": [
        "The answer above is right, but the LLM thinks its true since Jack is\n",
        "looking at George. Which is not quite correct.\n",
        "\n",
        "## Act Like a Professor of Logic\n",
        "\n",
        "But now we tell the LLM its a professor of logic and it should think\n",
        "through all the possibilities. With many LLMs this gets them closer to\n",
        "the right solution and sometimes they get it completly right with this\n",
        "kind of prompting.\n",
        "\n",
        "Asking a model to think “step-by-step” or by listing its reasoning is\n",
        "called “Chain of Thought(CoT)” prompting."
      ],
      "id": "73e03faf-e49e-43f8-b7e8-50cb0559cd11"
    },
    {
      "cell_type": "code",
      "execution_count": null,
      "metadata": {},
      "outputs": [],
      "source": [
        "prompt=\"\"\"\n",
        "You are a smart professor of logic who can answer complex logic problems. Think\n",
        "through all the cases before you answer.\n",
        "\n",
        "Logic Problem:\n",
        "Jack is looking at Anne. Anne is looking at George. Jack is\n",
        "married, George is not, and we don’t know if Anne is married. Is a married\n",
        "person looking at an unmarried person?\n",
        "\"\"\"\n",
        "\n",
        "response=get_completion(prompt)\n",
        "print(response)"
      ],
      "id": "f6377d90"
    },
    {
      "cell_type": "markdown",
      "metadata": {},
      "source": [
        "This time the LLM does much better and you see it doing better thinking\n",
        "step-by-step.\n",
        "\n",
        "## Is This Equation Solved Correctly?\n",
        "\n",
        "Here is another example involving a simple algebra problem.\n",
        "\n",
        "Without further prompting we ask the LLM if this (incorrect) problem\n",
        "solution is correct."
      ],
      "id": "fc3235e9-a824-4cdc-acfd-1f22eb01fa00"
    },
    {
      "cell_type": "code",
      "execution_count": null,
      "metadata": {},
      "outputs": [],
      "source": [
        "prompt =\"\"\"\n",
        "Is this equation solved correctly below?\n",
        "\n",
        "2x-3=9\n",
        "2x=6\n",
        "x=3\n",
        "\"\"\"\n",
        "response=get_completion(prompt)\n",
        "print(response)"
      ],
      "id": "36b75950"
    },
    {
      "cell_type": "markdown",
      "metadata": {},
      "source": [
        "Hmm…it seems to think the solution is correct. It didn’t see anything\n",
        "wrong with the solution.\n",
        "\n",
        "## You are a Teacher of Math. Reason Step-By-Step\n",
        "\n",
        "Now we ask it again, but this time we tell it that its a teacher of\n",
        "math."
      ],
      "id": "c77055c3-d2ae-4993-aa7b-8ae59e4448b3"
    },
    {
      "cell_type": "code",
      "execution_count": null,
      "metadata": {},
      "outputs": [],
      "source": [
        "prompt = \"\"\"\n",
        "You are a teacher of math. And can reason step-by-step to see if something is\n",
        "correct. First work out your own solution to the problem. Then carefully\n",
        "consider how to answer the following question:\n",
        "\n",
        "Is this problem solved correctly below?\n",
        "2x-3=9\n",
        "2x=6\n",
        "x=3\n",
        "\"\"\"\n",
        "response=get_completion(prompt)\n",
        "print(response)"
      ],
      "id": "72d8f164"
    },
    {
      "cell_type": "markdown",
      "metadata": {},
      "source": [
        "Here it does much better in the second attempt. It still says the\n",
        "problem is solved correctly originally, but then it finds that there is\n",
        "a mistake. Definitely the step-by-step reasoning it is doing is an\n",
        "improvement over its first answer."
      ],
      "id": "f121118b-24c9-4c98-ba7d-3777a2248206"
    }
  ],
  "nbformat": 4,
  "nbformat_minor": 5,
  "metadata": {
    "kernelspec": {
      "name": "python3",
      "display_name": "Python 3 (ipykernel)",
      "language": "python"
    }
  }
}
{
  "cells": [
    {
      "cell_type": "markdown",
      "metadata": {},
      "source": [
        "# Roles\n",
        "\n",
        "## Set up your `TOGETHER_API_KEY`"
      ],
      "id": "ef030827-b4a7-417e-b3d6-0e1f25999f2d"
    },
    {
      "cell_type": "code",
      "execution_count": null,
      "metadata": {},
      "outputs": [],
      "source": [
        "import os\n",
        "\n",
        "if os.environ.get(\"TOGETHER_API_KEY\") is None:\n",
        "   os.environ[\"TOGETHER_API_KEY\"] = \"paste_your_api_key_here\""
      ],
      "id": "1a0c0ac9"
    },
    {
      "cell_type": "markdown",
      "metadata": {},
      "source": [
        "## Setup to Call the LLM\n",
        "\n",
        "For this part, we install the required package to interact with a\n",
        "TogetherAI language model."
      ],
      "id": "fbad9b77-7f75-4edf-844f-2773aae45659"
    },
    {
      "cell_type": "code",
      "execution_count": null,
      "metadata": {},
      "outputs": [],
      "source": [
        "!pip3 install langchain langchain_openai"
      ],
      "id": "34a567c1"
    },
    {
      "cell_type": "code",
      "execution_count": null,
      "metadata": {},
      "outputs": [],
      "source": [
        "import os\n",
        "from langchain_openai import ChatOpenAI\n",
        "from IPython.display import Markdown\n",
        "\n",
        "model_name = \"NousResearch/Nous-Hermes-2-Mixtral-8x7B-SFT\"\n",
        "#model_name = \"NousResearch/Nous-Hermes-2-Mixtral-8x7B-DPO\"\n",
        "#model_name=\"mistralai/Mixtral-8x7B-Instruct-v0.1\"\n",
        "#model_name=\"mistralai/Mistral-7B-Instruct-v0.1\"\n",
        "#model_name=\"mistralai/Mistral-7B-Instruct-v0.2\"\n",
        "#model_name = \"openchat/openchat-3.5-1210\"\n",
        "#model_name = \"Qwen/Qwen1.5-72B-Chat\"\n",
        "\n",
        "display(Markdown(\"### Model:  \\n#### \" + model_name))\n",
        "\n",
        "llm=ChatOpenAI(model_name=model_name,\n",
        "               openai_api_key=os.environ.get(\"TOGETHER_API_KEY\"),\n",
        "               openai_api_base=\"https://api.together.xyz/v1/\")"
      ],
      "id": "826c47ba"
    },
    {
      "cell_type": "code",
      "execution_count": null,
      "metadata": {},
      "outputs": [],
      "source": [
        "import textwrap\n",
        "from langchain_core.prompts import ChatPromptTemplate\n",
        "\n",
        "def wrap_text(text, max_width=80):\n",
        "    \"\"\"\n",
        "    Wraps the text to the specified max_width, preserving line breaks and formatting.\n",
        "    \"\"\"\n",
        "    lines = text.splitlines()  # Split the text into lines\n",
        "    wrapped_lines = []\n",
        "    for line in lines:\n",
        "        if line.strip():  # Skip empty lines\n",
        "            wrapped_line = textwrap.fill(line, max_width, initial_indent='', subsequent_indent='')\n",
        "            wrapped_lines.extend(wrapped_line.splitlines())  # Preserve line breaks\n",
        "        else:\n",
        "            wrapped_lines.append('')  # Keep empty lines\n",
        "    return '\\n'.join(wrapped_lines)\n",
        "\n",
        "def print_prompt_and_response(prompt, response):\n",
        "    print(\"Prompt: \")\n",
        "    print(wrap_text(prompt))\n",
        "    print(\"\")\n",
        "    print(\"Response: \")\n",
        "    print(response)\n",
        "\n",
        "def print_messages_and_response(messages, response):\n",
        "    prompt = ChatPromptTemplate(messages=messages)\n",
        "    print_prompt_and_response(prompt.format(), response)\n",
        "\n",
        "def get_completion(prompt, temperature=0.0):\n",
        "    response = llm.invoke(prompt, temperature=temperature)\n",
        "    wrapped_response = wrap_text(response.content)\n",
        "    return wrapped_response\n",
        "\n",
        "def get_completion_messages(messages, temperature=0.0):\n",
        "    response=llm.invoke(messages, temperature=temperature)\n",
        "    wrapped_response = wrap_text(response.content)\n",
        "    return wrapped_response"
      ],
      "id": "706c263d"
    },
    {
      "cell_type": "markdown",
      "metadata": {},
      "source": [
        "## System and User Roles\n",
        "\n",
        "Here’s a simple system and user message:"
      ],
      "id": "6ed4f144-6e4f-4e87-bec9-1adc6002eff9"
    },
    {
      "cell_type": "code",
      "execution_count": null,
      "metadata": {},
      "outputs": [],
      "source": [
        "from langchain_core.messages import HumanMessage, SystemMessage\n",
        "\n",
        "system_message =\"You are a cat.\"\n",
        "user_message = \"What do you think of skateboards?\"\n",
        "\n",
        "messages = [\n",
        "    SystemMessage(system_message),\n",
        "    HumanMessage(user_message)\n",
        "]\n",
        "\n",
        "response = get_completion_messages(messages)\n",
        "print_messages_and_response(messages, response)"
      ],
      "id": "f43c9a8c"
    },
    {
      "cell_type": "code",
      "execution_count": null,
      "metadata": {},
      "outputs": [],
      "source": [
        "system_message =\"You are a kid.\"\n",
        "user_message = \"What do you think of skateboards?\"\n",
        "\n",
        "messages = [\n",
        "    SystemMessage(system_message),\n",
        "    HumanMessage(user_message)\n",
        "]\n",
        "\n",
        "response = get_completion_messages(messages)\n",
        "print_messages_and_response(messages, response)"
      ],
      "id": "c13f17f5"
    },
    {
      "cell_type": "code",
      "execution_count": null,
      "metadata": {},
      "outputs": [],
      "source": [
        "system_message =\"\"\"\n",
        "\"\"\"\n",
        "user_message = \"\"\"\n",
        "Jack is looking at Anne. Anne is looking at George. Jack is married, George is\n",
        "not, and we don’t know if Anne is married. Is a married person looking at an\n",
        "unmarried person?\n",
        "\"\"\"\n",
        "\n",
        "messages = [\n",
        "    SystemMessage(system_message),\n",
        "    HumanMessage(user_message)\n",
        "]\n",
        "\n",
        "response = get_completion_messages(messages)\n",
        "print_messages_and_response(messages, response)"
      ],
      "id": "9f5428a8"
    },
    {
      "cell_type": "code",
      "execution_count": null,
      "metadata": {},
      "outputs": [],
      "source": [
        "system_message =\"\"\"\n",
        "You are a smart professor of logic who can answer complex logic problems. Think\n",
        "through all the possibilities before you answer.\n",
        "\"\"\"\n",
        "user_message = \"\"\"\n",
        "Jack is looking at Anne. Anne is looking at George. Jack is married, George is\n",
        "not, and we don’t know if Anne is married. Is a married person looking at an\n",
        "unmarried person?\n",
        "\"\"\"\n",
        "\n",
        "messages = [\n",
        "    SystemMessage(system_message),\n",
        "    HumanMessage(user_message)\n",
        "]\n",
        "\n",
        "response = get_completion_messages(messages)\n",
        "print_messages_and_response(messages, response)"
      ],
      "id": "f3e2f2cd"
    }
  ],
  "nbformat": 4,
  "nbformat_minor": 5,
  "metadata": {
    "kernelspec": {
      "name": "python3",
      "display_name": "Python 3 (ipykernel)",
      "language": "python"
    }
  }
}
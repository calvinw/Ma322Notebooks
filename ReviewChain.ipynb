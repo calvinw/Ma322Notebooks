{
  "cells": [
    {
      "cell_type": "markdown",
      "metadata": {},
      "source": [
        "# Review Chain"
      ],
      "id": "95ca2d8a-b47a-498c-9010-bf1f827567e8"
    },
    {
      "cell_type": "code",
      "execution_count": null,
      "metadata": {},
      "outputs": [],
      "source": [
        "import os\n",
        "\n",
        "if os.environ.get(\"TOGETHER_API_KEY\") is None:\n",
        "   os.environ[\"TOGETHER_API_KEY\"] = \"paste_your_api_key_here\""
      ],
      "id": "aad9d2d3"
    },
    {
      "cell_type": "markdown",
      "metadata": {},
      "source": [
        "## Setup the LLM"
      ],
      "id": "873ba8b4-0e5e-454a-a503-01ac5a1d4c2c"
    },
    {
      "cell_type": "code",
      "execution_count": null,
      "metadata": {},
      "outputs": [],
      "source": [
        "!pip3 install langchain langchain_openai"
      ],
      "id": "1dfafa7a"
    },
    {
      "cell_type": "code",
      "execution_count": null,
      "metadata": {},
      "outputs": [],
      "source": [
        "import os\n",
        "from langchain_openai import ChatOpenAI\n",
        "\n",
        "#model_name = \"NousResearch/Nous-Hermes-2-Mixtral-8x7B-SFT\"\n",
        "#model_name = \"NousResearch/Nous-Hermes-2-Mixtral-8x7B-DPO\"\n",
        "#model_name=\"mistralai/Mixtral-8x7B-Instruct-v0.1\"\n",
        "#model_name=\"mistralai/Mistral-7B-Instruct-v0.1\"\n",
        "#model_name=\"mistralai/Mistral-7B-Instruct-v0.2\"\n",
        "#model_name = \"openchat/openchat-3.5-1210\"\n",
        "#model_name = \"Qwen/Qwen1.5-72B-Chat\"\n",
        "model_name = \"cognitivecomputations/dolphin-2.5-mixtral-8x7b\"\n",
        "\n",
        "print(\"Provider: TogetherAI\")\n",
        "print(\"Model: \" + model_name)\n",
        "\n",
        "llm=ChatOpenAI(model_name=model_name,\n",
        "               openai_api_key=os.environ.get(\"TOGETHER_API_KEY\"),\n",
        "               openai_api_base=\"https://api.together.xyz/v1/\")"
      ],
      "id": "7907e3bd"
    },
    {
      "cell_type": "code",
      "execution_count": null,
      "metadata": {},
      "outputs": [],
      "source": [
        "import textwrap\n",
        "from langchain_core.prompts import ChatPromptTemplate\n",
        "\n",
        "def wrap_text(text, max_width=80):\n",
        "    \"\"\"\n",
        "    Wraps the text to the specified max_width, preserving line breaks and formatting.\n",
        "    \"\"\"\n",
        "    text = text.lstrip()\n",
        "    lines = text.splitlines()  # Split the text into lines\n",
        "    wrapped_lines = []\n",
        "    for line in lines:\n",
        "        if line.strip():  # Skip empty lines\n",
        "            wrapped_line = textwrap.fill(line, max_width, initial_indent='', subsequent_indent='')\n",
        "            wrapped_lines.extend(wrapped_line.splitlines())  # Preserve line breaks\n",
        "        else:\n",
        "            wrapped_lines.append('')  # Keep empty lines\n",
        "    return '\\n'.join(wrapped_lines)\n",
        "\n",
        "def print_prompt_and_response(prompt, response):\n",
        "    print(\"Prompt: \")\n",
        "    print(wrap_text(prompt))\n",
        "    print(\"\")\n",
        "    print(\"Response: \")\n",
        "    print(response)\n",
        "\n",
        "def print_messages_and_response(messages, response):\n",
        "    prompt = ChatPromptTemplate(messages=messages)\n",
        "    print_prompt_and_response(prompt.format(), response)\n",
        "\n",
        "def get_completion(prompt, temperature=0.0):\n",
        "    response = llm.invoke(prompt, temperature=temperature)\n",
        "    wrapped_response = wrap_text(response.content)\n",
        "    return wrapped_response\n",
        "\n",
        "def get_completion_messages(messages, temperature=0.0):\n",
        "    response=llm.invoke(messages, temperature=temperature)\n",
        "    wrapped_response = wrap_text(response.content)\n",
        "    return wrapped_response"
      ],
      "id": "23d6acd2"
    },
    {
      "cell_type": "markdown",
      "metadata": {},
      "source": [
        "### Description of Review Chain\n",
        "\n",
        "We will analyze a customer review and summarize it. Then try to compose\n",
        "a response.\n",
        "\n",
        "Here are the steps in the analysis:\n",
        "\n",
        "1.  **Initial Review**: The process starts with a customer review, which\n",
        "    is provided as a string variable.\n",
        "\n",
        "2.  **Analyze the sentiment of the original review on a scale of 1 to\n",
        "    5**: The sentiment of the original review is analyzed on a scale of\n",
        "    1 (very negative) to 5 (very positive) by prompting a language\n",
        "    model.\n",
        "\n",
        "3.  **Categorize the Review Based On the Main Issue**: The main issue or\n",
        "    concern raised in the review is categorized into one of the\n",
        "    following categories: Product Quality, Shipping/Delivery, Customer\n",
        "    Service, Pricing, or Other.\n",
        "\n",
        "4.  **Suggest Potential Improvements Based On the Review**: At least\n",
        "    three potential improvements or changes are suggested to address the\n",
        "    customer’s concerns based on the review.\n",
        "\n",
        "5.  **Write an individualized email response to the customer**: A polite\n",
        "    and professional email response is drafted, addressing the\n",
        "    customer’s concerns and offering a resolution or next steps.\n",
        "\n",
        "### Initial Review\n",
        "\n",
        "Lets start with the review text."
      ],
      "id": "09909d14-846c-4ced-b4fd-cd67d21ea7f4"
    },
    {
      "cell_type": "code",
      "execution_count": null,
      "metadata": {},
      "outputs": [],
      "source": [
        "review = \"\"\"I am very dissatisfied with the product I received. The quality is\n",
        "disappointing, and it does not match the descriptions on the website. Furthermore,\n",
        "the delivery was way too late, and the customer service was unhelpful. I expect\n",
        "an immediate resolution to this issue.\"\"\"\n",
        "print(review)"
      ],
      "id": "44d401f5"
    },
    {
      "cell_type": "markdown",
      "metadata": {},
      "source": [
        "### Analyze the Sentiment\n",
        "\n",
        "Analyze the sentiment on scale of 1(very negative) to 5(very positive)"
      ],
      "id": "0565110c-78f7-45dd-aa1f-7ee2e71e8963"
    },
    {
      "cell_type": "code",
      "execution_count": null,
      "metadata": {},
      "outputs": [],
      "source": [
        "sentiment_prompt = f\"\"\"\n",
        "Analyze the sentiment of the following review on a scale of 1 to 5, where 1 is\n",
        "very negative and 5 is very positive:\n",
        "\n",
        "{review}\n",
        "\n",
        "Just give the number only.\n",
        "\"\"\"\n",
        "\n",
        "sentiment_response = get_completion(sentiment_prompt)\n",
        "print(sentiment_response)"
      ],
      "id": "9203ddad"
    },
    {
      "cell_type": "markdown",
      "metadata": {},
      "source": [
        "### Categorize the Review\n",
        "\n",
        "Categorize the Review Based On the Main Issue"
      ],
      "id": "3a855c16-87b1-4efd-9d5c-9df1710c2d1b"
    },
    {
      "cell_type": "code",
      "execution_count": null,
      "metadata": {},
      "outputs": [],
      "source": [
        "categorize_prompt = f\"\"\"\n",
        "Categorize the main issue or concern raised in the following review:\n",
        "\n",
        "{review}\n",
        "\n",
        "Choose from the following categories: Product Quality, Shipping/Delivery,\n",
        "Customer Service, Pricing, Other.\n",
        "Just give the categories only.\n",
        "\"\"\"\n",
        "\n",
        "category_response = get_completion(categorize_prompt)\n",
        "print(category_response)"
      ],
      "id": "8eb14cea"
    },
    {
      "cell_type": "markdown",
      "metadata": {},
      "source": [
        "### Suggest Potential Improvements Based On the Review\n",
        "\n",
        "Lets suggest 3 potential improvements"
      ],
      "id": "9f28b987-0468-465d-b840-f866a37d8aca"
    },
    {
      "cell_type": "code",
      "execution_count": null,
      "metadata": {},
      "outputs": [],
      "source": [
        "improvement_prompt = f\"\"\"\n",
        "Based on the following review, suggest at least three potential improvements or\n",
        "changes that could address the customer's concerns:\n",
        "\n",
        "{review}\n",
        "\n",
        "Give only the three potential improvements as your output.\n",
        "\"\"\"\n",
        "\n",
        "improvements_response = get_completion(improvement_prompt)\n",
        "print(improvements_response)"
      ],
      "id": "55717562"
    },
    {
      "cell_type": "markdown",
      "metadata": {},
      "source": [
        "### Write an Individualized Response\n",
        "\n",
        "Write an individualized email response to the customer python"
      ],
      "id": "21a2e6bf-ce09-42e3-aa9e-3e2e2c898718"
    },
    {
      "cell_type": "code",
      "execution_count": null,
      "metadata": {},
      "outputs": [],
      "source": [
        "individualized_prompt = f\"\"\"\n",
        "You have received the following review from a customer:\n",
        "\n",
        "{review}\n",
        "\n",
        "Please draft a polite and professional email response to the customer,\n",
        "addressing their concerns and offering a resolution or next steps.\n",
        "\"\"\"\n",
        "\n",
        "individualized_response = get_completion(individualized_prompt)\n",
        "print(individualized_response)"
      ],
      "id": "ebc0d8d0"
    },
    {
      "cell_type": "markdown",
      "metadata": {},
      "source": [
        "### Final Report for This Review"
      ],
      "id": "7b105d18-13cd-4431-bcf0-f4477c490696"
    },
    {
      "cell_type": "code",
      "execution_count": null,
      "metadata": {},
      "outputs": [],
      "source": [
        "report = f\"\"\"\n",
        "### Initial Review\n",
        "{review}\n",
        "\n",
        "### Sentiment 1 (very negative) to 5 (very positive)\n",
        "{sentiment_response}\n",
        "\n",
        "### Categorized Main Issue\n",
        "{category_response}\n",
        "\n",
        "### Potential Improvements\n",
        "{improvements_response}\n",
        "\n",
        "### Individualized Email Response\n",
        "{individualized_response}\n",
        "\"\"\"\n",
        "\n",
        "print(report)"
      ],
      "id": "f8062713"
    }
  ],
  "nbformat": 4,
  "nbformat_minor": 5,
  "metadata": {
    "kernelspec": {
      "name": "python3",
      "display_name": "Python 3 (ipykernel)",
      "language": "python"
    }
  }
}
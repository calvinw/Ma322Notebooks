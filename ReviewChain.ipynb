{
  "cells": [
    {
      "cell_type": "markdown",
      "metadata": {},
      "source": [
        "# Review Chain\n",
        "\n",
        "## Set up your `TOGETHER_API_KEY`"
      ],
      "id": "6f0709fd-1b92-472f-a668-b7b0c61047bb"
    },
    {
      "cell_type": "code",
      "execution_count": null,
      "metadata": {},
      "outputs": [],
      "source": [
        "import os\n",
        "\n",
        "if os.environ.get(\"TOGETHER_API_KEY\") is None:\n",
        "   os.environ[\"TOGETHER_API_KEY\"] = \"paste_your_api_key_here\""
      ],
      "id": "41993373"
    },
    {
      "cell_type": "markdown",
      "metadata": {},
      "source": [
        "## Install Packages to Call the LLM\n",
        "\n",
        "For this part we set up the LLM."
      ],
      "id": "d020fcf9-604c-4f4c-9aab-7c441669c63e"
    },
    {
      "cell_type": "code",
      "execution_count": null,
      "metadata": {},
      "outputs": [],
      "source": [
        "!pip3 install openai"
      ],
      "id": "0296a58d"
    },
    {
      "cell_type": "code",
      "execution_count": null,
      "metadata": {},
      "outputs": [],
      "source": [
        "import os\n",
        "import openai\n",
        "import textwrap\n",
        "\n",
        "def wrap_text(text, max_width=80):\n",
        "    \"\"\"\n",
        "    Wraps the text to the specified max_width, preserving line breaks and formatting.\n",
        "    \"\"\"\n",
        "    lines = text.splitlines()  # Split the text into lines\n",
        "    wrapped_lines = []\n",
        "    for line in lines:\n",
        "        if line.strip():  # Skip empty lines\n",
        "            wrapped_line = textwrap.fill(line, max_width, initial_indent='', subsequent_indent='')\n",
        "            wrapped_lines.extend(wrapped_line.splitlines())  # Preserve line breaks\n",
        "        else:\n",
        "            wrapped_lines.append('')  # Keep empty lines\n",
        "    return '\\n'.join(wrapped_lines)\n",
        "\n",
        "def print_prompt_and_response(prompt, response):\n",
        "    print(\"Prompt: \")\n",
        "    print(prompt)\n",
        "    print(\"\")\n",
        "    print(\"Response: \")\n",
        "    print(response)\n",
        "\n",
        "def get_completion(prompt, temperature=0.0):\n",
        "    client = openai.OpenAI(api_key=os.environ.get(\"TOGETHER_API_KEY\"),\n",
        "                           base_url=\"https://api.together.xyz/v1\")\n",
        "    chat_completion = client.chat.completions.create(\n",
        "                           model=\"NousResearch/Nous-Hermes-2-Mixtral-8x7B-SFT\",\n",
        "                           #model=\"zero-one-ai/Yi-34B-Chat\",\n",
        "                           #model=\"openchat/openchat-3.5-1210\",\n",
        "                           messages=[{\"role\": \"user\", \"content\": prompt}],\n",
        "                           temperature=temperature,\n",
        "                           max_tokens=1024)\n",
        "    response = chat_completion.choices[0].message.content\n",
        "    response = response.lstrip()\n",
        "    wrapped_response = wrap_text(response)\n",
        "    return wrapped_response"
      ],
      "id": "e36f5e6c"
    },
    {
      "cell_type": "markdown",
      "metadata": {},
      "source": [
        "We will analyze a customer review, including translating and summarizing\n",
        "it. Then try to compose a response\n",
        "\n",
        "Here are the steps in the analysis:\n",
        "\n",
        "1.  **Initial Review**: The process starts with a customer review, which\n",
        "    is provided as a string variable.\n",
        "\n",
        "2.  **What Language is It?**: The language of the review is identified\n",
        "    by prompting a language model to determine the language.\n",
        "\n",
        "3.  **Let’s Translate It**: The review is translated from the original\n",
        "    language (in this case, German) to English using a language model.\n",
        "\n",
        "4.  **Let’s Summarize It**: The translated English review is summarized\n",
        "    into a single sentence by prompting a language model.\n",
        "\n",
        "5.  **Analyze the sentiment of the original review on a scale of 1 to\n",
        "    5**: The sentiment of the original review is analyzed on a scale of\n",
        "    1 (very negative) to 5 (very positive) by prompting a language\n",
        "    model.\n",
        "\n",
        "6.  **Categorize the Review Based On the Main Issue**: The main issue or\n",
        "    concern raised in the translated English review is categorized into\n",
        "    one of the following categories: Product Quality, Shipping/Delivery,\n",
        "    Customer Service, Pricing, or Other.\n",
        "\n",
        "7.  **Suggest Potential Improvements Based On the Review**: At least\n",
        "    three potential improvements or changes are suggested to address the\n",
        "    customer’s concerns based on the translated English review.\n",
        "\n",
        "8.  **Write an individualized email response to the customer in\n",
        "    German**: A polite and professional email response is drafted in\n",
        "    German, addressing the customer’s concerns and offering a resolution\n",
        "    or next steps.\n",
        "\n",
        "9.  **Translate the email response to English**: The German email\n",
        "    response is translated to English using a language model.\n",
        "\n",
        "Lets start with the review text.\n",
        "\n",
        "### Initial Review"
      ],
      "id": "bd8db229-ed59-4d87-a9f5-8dea4326e731"
    },
    {
      "cell_type": "code",
      "execution_count": null,
      "metadata": {},
      "outputs": [],
      "source": [
        "review = \"\"\"Ich bin sehr unzufrieden mit dem Produkt, das ich erhalten habe.\n",
        "Die Qualität ist enttäuschend, und es entspricht nicht den Beschreibungen auf\n",
        "der Website. Darüber hinaus war die Lieferung viel zu spät, und der\n",
        "Kundenservice war wenig hilfreich. Ich erwarte eine sofortige Lösung für dieses\n",
        "Problem.\"\"\""
      ],
      "id": "09106f90"
    },
    {
      "cell_type": "markdown",
      "metadata": {},
      "source": [
        "### What Language is It?"
      ],
      "id": "356a9887-7c3d-4f27-9887-40c5364e05a3"
    },
    {
      "cell_type": "code",
      "execution_count": null,
      "metadata": {},
      "outputs": [],
      "source": [
        "what_language_template = \"\"\"What language is the following review:\n",
        "{review}\n",
        "Just state the language name only.\n",
        "\"\"\"\n",
        "\n",
        "prompt=what_language_template.format(review=review)\n",
        "what_language_response = get_completion(prompt)\n",
        "print_prompt_and_response(prompt, what_language_response)"
      ],
      "id": "a889031c"
    },
    {
      "cell_type": "markdown",
      "metadata": {},
      "source": [
        "### Lets Translate It"
      ],
      "id": "c765095e-c58e-4789-bebe-721139491288"
    },
    {
      "cell_type": "code",
      "execution_count": null,
      "metadata": {},
      "outputs": [],
      "source": [
        "translate_template =\"\"\"Translate the following review to english:\n",
        "{review}\n",
        "\"\"\"\n",
        "\n",
        "prompt=translate_template.format(review=review)\n",
        "translation_response = get_completion(prompt)\n",
        "print_prompt_and_response(prompt, translation_response)"
      ],
      "id": "4b0cb2e1"
    },
    {
      "cell_type": "markdown",
      "metadata": {},
      "source": [
        "### Lets Summarize It"
      ],
      "id": "ae07ffd6-7920-45ea-b481-aaa0d682d07f"
    },
    {
      "cell_type": "code",
      "execution_count": null,
      "metadata": {},
      "outputs": [],
      "source": [
        "summarize_template =\"\"\"Can you summarize the following review in 1 sentence:\n",
        "{english_review}\n",
        "\"\"\"\n",
        "\n",
        "prompt=summarize_template.format(english_review=translation_response)\n",
        "summarize_response = get_completion(prompt)\n",
        "print_prompt_and_response(prompt, summarize_response)"
      ],
      "id": "2fcc317a"
    },
    {
      "cell_type": "markdown",
      "metadata": {},
      "source": [
        "### Analyze the sentiment on scale of 1(very negative) to 5(very positive)"
      ],
      "id": "11ca3321-5e78-4584-a5aa-63eba1f009d9"
    },
    {
      "cell_type": "code",
      "execution_count": null,
      "metadata": {},
      "outputs": [],
      "source": [
        "sentiment_template = \"\"\"\n",
        "Analyze the sentiment of the following review on a scale of 1 to 5, where 1 is\n",
        "very negative and 5 is very positive:\n",
        "\n",
        "{review}\n",
        "\n",
        "Just give the number only.\n",
        "\"\"\"\n",
        "\n",
        "prompt = sentiment_template.format(review=review)\n",
        "sentiment_response = get_completion(prompt)\n",
        "print_prompt_and_response(prompt, sentiment_response)"
      ],
      "id": "a7d7d821"
    },
    {
      "cell_type": "markdown",
      "metadata": {},
      "source": [
        "### Categorize the Review Based On the Main Issue"
      ],
      "id": "b1c06aab-f75b-4110-b6b1-537cf0ac1a94"
    },
    {
      "cell_type": "code",
      "execution_count": null,
      "metadata": {},
      "outputs": [],
      "source": [
        "categorize_template = \"\"\"\n",
        "Categorize the main issue or concern raised in the following review:\n",
        "\n",
        "{review}\n",
        "\n",
        "Choose from the following categories: Product Quality, Shipping/Delivery,\n",
        "Customer Service, Pricing, Other.\n",
        "Just give the categories only.\n",
        "\"\"\"\n",
        "\n",
        "prompt = categorize_template.format(review=translation_response)\n",
        "category_response = get_completion(prompt)\n",
        "print_prompt_and_response(prompt, category_response)"
      ],
      "id": "0cf33719"
    },
    {
      "cell_type": "markdown",
      "metadata": {},
      "source": [
        "### Suggest Potential Improvements Based On the Review"
      ],
      "id": "15576a45-9f31-4430-b213-7eb47a33a85e"
    },
    {
      "cell_type": "code",
      "execution_count": null,
      "metadata": {},
      "outputs": [],
      "source": [
        "improvement_template = \"\"\"\n",
        "Based on the following review, suggest at least three potential improvements or\n",
        "changes that could address the customer's concerns:\n",
        "\n",
        "{review}\n",
        "\n",
        "Give only the three potential improvements as your output.\n",
        "\"\"\"\n",
        "\n",
        "prompt = improvement_template.format(review=translation_response)\n",
        "improvements_response = get_completion(prompt)\n",
        "print_prompt_and_response(prompt, improvements_response)"
      ],
      "id": "f2fa7384"
    },
    {
      "cell_type": "markdown",
      "metadata": {},
      "source": [
        "### Write an individualized email response to the customer in German"
      ],
      "id": "7269fd66-a0b2-47fa-9c26-08c9593800fd"
    },
    {
      "cell_type": "code",
      "execution_count": null,
      "metadata": {},
      "outputs": [],
      "source": [
        "response_template = \"\"\"\n",
        "You have received the following review from a customer:\n",
        "\n",
        "{review}\n",
        "\n",
        "Please draft a polite and professional email response to the customer in\n",
        "German, addressing their concerns and offering a resolution or next steps.\n",
        "\"\"\"\n",
        "\n",
        "prompt = response_template.format(review=review)\n",
        "german_response = get_completion(prompt)\n",
        "print_prompt_and_response(prompt, german_response)"
      ],
      "id": "7f0e8b90"
    },
    {
      "cell_type": "markdown",
      "metadata": {},
      "source": [
        "### Translate the email response to English"
      ],
      "id": "38ceb81b-a7fb-4bc4-a47c-0ce2b5aad46d"
    },
    {
      "cell_type": "code",
      "execution_count": null,
      "metadata": {},
      "outputs": [],
      "source": [
        "translate_response_template = \"\"\"\n",
        "Translate the following text from German to English:\n",
        "\n",
        "{german_response}\n",
        "\"\"\"\n",
        "\n",
        "prompt = translate_response_template.format(german_response=german_response)\n",
        "english_response = get_completion(prompt)\n",
        "print_prompt_and_response(prompt, english_response)"
      ],
      "id": "f8514bcf"
    },
    {
      "cell_type": "markdown",
      "metadata": {},
      "source": [
        "### Final Report"
      ],
      "id": "1f6fc275-df58-4baa-9119-2cae4cda2f3c"
    },
    {
      "cell_type": "code",
      "execution_count": null,
      "metadata": {},
      "outputs": [],
      "source": [
        "def fix_for_markdown(s):\n",
        "    return s.replace('\\n', '  \\n')\n",
        "\n",
        "from IPython.display import Markdown\n",
        "\n",
        "final_report = f\"\"\"\n",
        "### Initial Review\n",
        "{review}\n",
        "\n",
        "### Language\n",
        "{what_language_response}\n",
        "\n",
        "### Translation\n",
        "{translation_response}\n",
        "\n",
        "### Summary\n",
        "{summarize_response}\n",
        "\n",
        "### Sentiment 1 (very negative) to 5 (very positive)\n",
        "{sentiment_response}\n",
        "\n",
        "### Categorized Main Issue\n",
        "{category_response}\n",
        "\n",
        "### Potential Improvements\n",
        "{improvements_response}\n",
        "\n",
        "### Individualized Email Response\n",
        "{german_response}\n",
        "\n",
        "### Translation to English\n",
        "{english_response}\n",
        "\"\"\"\n",
        "\n",
        "fixed = final_report.replace('\\n', '  \\n')\n",
        "\n",
        "display(Markdown(fixed))"
      ],
      "id": "81a0dd77"
    }
  ],
  "nbformat": 4,
  "nbformat_minor": 5,
  "metadata": {
    "kernelspec": {
      "name": "python3",
      "display_name": "Python 3 (ipykernel)",
      "language": "python"
    }
  }
}
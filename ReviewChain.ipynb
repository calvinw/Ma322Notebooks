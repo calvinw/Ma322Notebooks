{
  "cells": [
    {
      "cell_type": "markdown",
      "metadata": {},
      "source": [
        "# Review Chain\n",
        "\n",
        "## Set up your `TOGETHER_API_KEY`"
      ],
      "id": "13947891-4a20-45b9-a79c-7fbba4f0ab59"
    },
    {
      "cell_type": "code",
      "execution_count": null,
      "metadata": {},
      "outputs": [],
      "source": [
        "import os\n",
        "\n",
        "if os.environ.get(\"TOGETHER_API_KEY\") is None:\n",
        "   os.environ[\"TOGETHER_API_KEY\"] = \"paste_your_api_key_here\""
      ],
      "id": "c8f6a98f"
    },
    {
      "cell_type": "markdown",
      "metadata": {},
      "source": [
        "## Install Packages to Call the LLM\n",
        "\n",
        "For this part we set up the LLM."
      ],
      "id": "cee4f603-72b3-451d-8d9e-25b8643095fb"
    },
    {
      "cell_type": "code",
      "execution_count": null,
      "metadata": {},
      "outputs": [],
      "source": [
        "!pip3 install openai"
      ],
      "id": "6d72e527"
    },
    {
      "cell_type": "code",
      "execution_count": null,
      "metadata": {},
      "outputs": [],
      "source": [
        "import openai\n",
        "import textwrap\n",
        "\n",
        "def wrap_text(text, max_width=80):\n",
        "    \"\"\"\n",
        "    Wraps the text to the specified max_width, preserving line breaks and formatting.\n",
        "    \"\"\"\n",
        "    lines = text.splitlines()  # Split the text into lines\n",
        "    wrapped_lines = []\n",
        "\n",
        "    for line in lines:\n",
        "        if line.strip():  # Skip empty lines\n",
        "            wrapped_line = textwrap.fill(line, max_width, initial_indent='', subsequent_indent='')\n",
        "            wrapped_lines.extend(wrapped_line.splitlines())  # Preserve line breaks\n",
        "        else:\n",
        "            wrapped_lines.append('')  # Keep empty lines\n",
        "\n",
        "    return '\\n'.join(wrapped_lines)\n",
        "\n",
        "\n",
        "def print_prompt_and_response(prompt, response):\n",
        "    print(\"Prompt: \")\n",
        "    print(prompt)\n",
        "    print(\"\")\n",
        "    print(\"Response: \")\n",
        "    print(response)\n",
        "\n",
        "def get_completion(prompt, temperature=0.0):\n",
        "    client = openai.OpenAI(api_key=os.environ.get(\"TOGETHER_API_KEY\"),\n",
        "                           base_url=\"https://api.together.xyz/v1\")\n",
        "\n",
        "    chat_completion = client.chat.completions.create(\n",
        "                           model=\"NousResearch/Nous-Hermes-2-Mixtral-8x7B-SFT\",\n",
        "                           #model=\"zero-one-ai/Yi-34B-Chat\",\n",
        "                           messages=[{\"role\": \"user\", \"content\": prompt}],\n",
        "                           temperature=temperature,\n",
        "                           max_tokens=1024)\n",
        "\n",
        "    response = chat_completion.choices[0].message.content\n",
        "    response = response.lstrip()\n",
        "    wrapped_response = wrap_text(response)\n",
        "    return wrapped_response"
      ],
      "id": "3d6862e5"
    },
    {
      "cell_type": "markdown",
      "metadata": {},
      "source": [
        "### Initial Review"
      ],
      "id": "9e4556cd-5187-4059-a0e6-b0850baf8e66"
    },
    {
      "cell_type": "code",
      "execution_count": null,
      "metadata": {},
      "outputs": [],
      "source": [
        "review = \"Ich bin sehr unzufrieden mit dem Produkt, das ich erhalten habe. Die Qualität ist enttäuschend, und es entspricht nicht den Beschreibungen auf der Website. Darüber hinaus war die Lieferung viel zu spät, und der Kundenservice war wenig hilfreich. Ich erwarte eine sofortige Lösung für dieses Problem.\""
      ],
      "id": "52cf36af"
    },
    {
      "cell_type": "markdown",
      "metadata": {},
      "source": [
        "### What Language is It?"
      ],
      "id": "96893220-be47-4550-8a58-12afb826d198"
    },
    {
      "cell_type": "code",
      "execution_count": null,
      "metadata": {},
      "outputs": [],
      "source": [
        "what_language_template = \"What language is the following review:\\n\\n{review}\"\n",
        "\n",
        "prompt=what_language_template.format(review=review)\n",
        "what_language_response = get_completion(prompt)\n",
        "print_prompt_and_response(prompt, what_language_response)"
      ],
      "id": "18167fda"
    },
    {
      "cell_type": "markdown",
      "metadata": {},
      "source": [
        "### Lets Translate It"
      ],
      "id": "e2d452f3-924b-41a4-820a-0c3392e76606"
    },
    {
      "cell_type": "code",
      "execution_count": null,
      "metadata": {},
      "outputs": [],
      "source": [
        "translate_template = \"Translate the following review to english:{review}\"\n",
        "\n",
        "prompt=translate_template.format(review=review)\n",
        "translate_response = get_completion(prompt)\n",
        "print_prompt_and_response(prompt, translate_response)"
      ],
      "id": "65593e9f"
    },
    {
      "cell_type": "markdown",
      "metadata": {},
      "source": [
        "### Lets Summarize It"
      ],
      "id": "328b7daf-8e83-4b0a-a141-80c6b17b2a3c"
    },
    {
      "cell_type": "code",
      "execution_count": null,
      "metadata": {},
      "outputs": [],
      "source": [
        "summarize_template =  \"Can you summarize the following review in 1 sentence:{english_review}\"\n",
        "\n",
        "prompt=summarize_template.format(english_review=translate_response)\n",
        "summarize_response = get_completion(prompt)\n",
        "print_prompt_and_response(prompt, summarize_response)"
      ],
      "id": "807f5890"
    },
    {
      "cell_type": "markdown",
      "metadata": {},
      "source": [
        "### Complete Report"
      ],
      "id": "8879011c-e188-4c55-8837-863d16a13730"
    },
    {
      "cell_type": "code",
      "execution_count": null,
      "metadata": {},
      "outputs": [],
      "source": [
        "print(\"Original Review: \")\n",
        "print(\"\")\n",
        "print(wrap_text(review))\n",
        "print(\"Language: \")\n",
        "print(\"\")\n",
        "print(what_language_response)\n",
        "print(\"\")\n",
        "print(\"Translation:\")\n",
        "print(\"\")\n",
        "print(translate_response)\n",
        "print(\"\")\n",
        "print(\"Summary:\")\n",
        "print(\"\")\n",
        "print(summarize_response)"
      ],
      "id": "24b2bf0b"
    }
  ],
  "nbformat": 4,
  "nbformat_minor": 5,
  "metadata": {
    "kernelspec": {
      "name": "python3",
      "display_name": "Python 3 (ipykernel)",
      "language": "python"
    }
  }
}
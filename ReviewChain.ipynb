{
  "cells": [
    {
      "cell_type": "markdown",
      "metadata": {},
      "source": [
        "# Review Chain\n",
        "\n",
        "## Set up your `TOGETHER_API_KEY`"
      ],
      "id": "f8941cad-d822-45d3-830d-c7f978d66572"
    },
    {
      "cell_type": "code",
      "execution_count": null,
      "metadata": {},
      "outputs": [],
      "source": [
        "import os\n",
        "\n",
        "if os.environ.get(\"TOGETHER_API_KEY\") is None:\n",
        "   os.environ[\"TOGETHER_API_KEY\"] = \"paste_your_api_key_here\""
      ],
      "id": "04f57e83"
    },
    {
      "cell_type": "markdown",
      "metadata": {},
      "source": [
        "## Setup to Call the LLM\n",
        "\n",
        "For this part, we install the required package to interact with a\n",
        "TogetherAI language model."
      ],
      "id": "a5320655-d50d-4dfa-84bf-0c96d6f0a55f"
    },
    {
      "cell_type": "code",
      "execution_count": null,
      "metadata": {},
      "outputs": [],
      "source": [
        "!pip3 install langchain langchain_openai"
      ],
      "id": "9344a241"
    },
    {
      "cell_type": "code",
      "execution_count": null,
      "metadata": {},
      "outputs": [],
      "source": [
        "import os\n",
        "from langchain_openai import ChatOpenAI\n",
        "from IPython.display import Markdown\n",
        "\n",
        "model_name = \"NousResearch/Nous-Hermes-2-Mixtral-8x7B-SFT\"\n",
        "#model_name = \"NousResearch/Nous-Hermes-2-Mixtral-8x7B-DPO\"\n",
        "#model_name=\"mistralai/Mixtral-8x7B-Instruct-v0.1\"\n",
        "#model_name=\"mistralai/Mistral-7B-Instruct-v0.1\"\n",
        "#model_name=\"mistralai/Mistral-7B-Instruct-v0.2\"\n",
        "#model_name = \"openchat/openchat-3.5-1210\"\n",
        "#model_name = \"Qwen/Qwen1.5-72B-Chat\"\n",
        "\n",
        "display(Markdown(\"### Model:  \\n#### \" + model_name))\n",
        "\n",
        "llm=ChatOpenAI(model_name=model_name,\n",
        "               openai_api_key=os.environ.get(\"TOGETHER_API_KEY\"),\n",
        "               openai_api_base=\"https://api.together.xyz/v1/\")"
      ],
      "id": "a390861f"
    },
    {
      "cell_type": "code",
      "execution_count": null,
      "metadata": {},
      "outputs": [],
      "source": [
        "import textwrap\n",
        "from langchain_core.prompts import ChatPromptTemplate\n",
        "\n",
        "def wrap_text(text, max_width=80):\n",
        "    \"\"\"\n",
        "    Wraps the text to the specified max_width, preserving line breaks and formatting.\n",
        "    \"\"\"\n",
        "    lines = text.splitlines()  # Split the text into lines\n",
        "    wrapped_lines = []\n",
        "    for line in lines:\n",
        "        if line.strip():  # Skip empty lines\n",
        "            wrapped_line = textwrap.fill(line, max_width, initial_indent='', subsequent_indent='')\n",
        "            wrapped_lines.extend(wrapped_line.splitlines())  # Preserve line breaks\n",
        "        else:\n",
        "            wrapped_lines.append('')  # Keep empty lines\n",
        "    return '\\n'.join(wrapped_lines)\n",
        "\n",
        "def print_prompt_and_response(prompt, response):\n",
        "    print(\"Prompt: \")\n",
        "    print(wrap_text(prompt))\n",
        "    print(\"\")\n",
        "    print(\"Response: \")\n",
        "    print(response)\n",
        "\n",
        "def print_messages_and_response(messages, response):\n",
        "    prompt = ChatPromptTemplate(messages=messages)\n",
        "    print_prompt_and_response(prompt.format(), response)\n",
        "\n",
        "def get_completion(prompt, temperature=0.0):\n",
        "    response = llm.invoke(prompt, temperature=temperature)\n",
        "    wrapped_response = wrap_text(response.content)\n",
        "    return wrapped_response\n",
        "\n",
        "def get_completion_messages(messages, temperature=0.0):\n",
        "    response=llm.invoke(messages, temperature=temperature)\n",
        "    wrapped_response = wrap_text(response.content)\n",
        "    return wrapped_response"
      ],
      "id": "2a437409"
    },
    {
      "cell_type": "markdown",
      "metadata": {},
      "source": [
        "We will analyze a customer review, including translating and summarizing\n",
        "it. Then try to compose a response\n",
        "\n",
        "Here are the steps in the analysis:\n",
        "\n",
        "1.  **Initial Review**: The process starts with a customer review, which\n",
        "    is provided as a string variable.\n",
        "\n",
        "2.  **What Language is It?**: The language of the review is identified\n",
        "    by prompting a language model to determine the language.\n",
        "\n",
        "3.  **Let’s Translate It**: The review is translated from the original\n",
        "    language (in this case, German) to English using a language model.\n",
        "\n",
        "4.  **Let’s Summarize It**: The translated English review is summarized\n",
        "    into a single sentence by prompting a language model.\n",
        "\n",
        "5.  **Analyze the sentiment of the original review on a scale of 1 to\n",
        "    5**: The sentiment of the original review is analyzed on a scale of\n",
        "    1 (very negative) to 5 (very positive) by prompting a language\n",
        "    model.\n",
        "\n",
        "6.  **Categorize the Review Based On the Main Issue**: The main issue or\n",
        "    concern raised in the translated English review is categorized into\n",
        "    one of the following categories: Product Quality, Shipping/Delivery,\n",
        "    Customer Service, Pricing, or Other.\n",
        "\n",
        "7.  **Suggest Potential Improvements Based On the Review**: At least\n",
        "    three potential improvements or changes are suggested to address the\n",
        "    customer’s concerns based on the translated English review.\n",
        "\n",
        "8.  **Write an individualized email response to the customer in\n",
        "    German**: A polite and professional email response is drafted in\n",
        "    German, addressing the customer’s concerns and offering a resolution\n",
        "    or next steps.\n",
        "\n",
        "9.  **Translate the email response to English**: The German email\n",
        "    response is translated to English using a language model.\n",
        "\n",
        "Lets start with the review text.\n",
        "\n",
        "### Initial Review"
      ],
      "id": "4db4011e-ab6b-4b6a-8216-4be48f8309b6"
    },
    {
      "cell_type": "code",
      "execution_count": null,
      "metadata": {},
      "outputs": [],
      "source": [
        "review = \"\"\"Ich bin sehr unzufrieden mit dem Produkt, das ich erhalten habe.\n",
        "Die Qualität ist enttäuschend, und es entspricht nicht den Beschreibungen auf\n",
        "der Website. Darüber hinaus war die Lieferung viel zu spät, und der\n",
        "Kundenservice war wenig hilfreich. Ich erwarte eine sofortige Lösung für dieses\n",
        "Problem.\"\"\""
      ],
      "id": "621150a5"
    },
    {
      "cell_type": "markdown",
      "metadata": {},
      "source": [
        "### What Language is It?"
      ],
      "id": "75b6e97b-6d20-4e66-9657-335e0214fbda"
    },
    {
      "cell_type": "code",
      "execution_count": null,
      "metadata": {},
      "outputs": [],
      "source": [
        "what_language_template = \"\"\"What language is the following review:\n",
        "{review}\n",
        "Just state the language name only.\n",
        "\"\"\"\n",
        "\n",
        "prompt=what_language_template.format(review=review)\n",
        "what_language_response = get_completion(prompt)\n",
        "print_prompt_and_response(prompt, what_language_response)"
      ],
      "id": "a562d430"
    },
    {
      "cell_type": "markdown",
      "metadata": {},
      "source": [
        "### Lets Translate It"
      ],
      "id": "b3134f3c-0b1b-4c7d-8c30-05b64cc46aaf"
    },
    {
      "cell_type": "code",
      "execution_count": null,
      "metadata": {},
      "outputs": [],
      "source": [
        "translate_template =\"\"\"Translate the following review to english:\n",
        "{review}\n",
        "\"\"\"\n",
        "\n",
        "prompt=translate_template.format(review=review)\n",
        "translation_response = get_completion(prompt)\n",
        "print_prompt_and_response(prompt, translation_response)"
      ],
      "id": "882ac014"
    },
    {
      "cell_type": "markdown",
      "metadata": {},
      "source": [
        "### Lets Summarize It"
      ],
      "id": "d0c2ba67-19c1-47c3-8c9e-90fffc9c5847"
    },
    {
      "cell_type": "code",
      "execution_count": null,
      "metadata": {},
      "outputs": [],
      "source": [
        "summarize_template =\"\"\"Can you summarize the following review in 1 sentence:\n",
        "{english_review}\n",
        "\"\"\"\n",
        "\n",
        "prompt=summarize_template.format(english_review=translation_response)\n",
        "summarize_response = get_completion(prompt)\n",
        "print_prompt_and_response(prompt, summarize_response)"
      ],
      "id": "d6153c52"
    },
    {
      "cell_type": "markdown",
      "metadata": {},
      "source": [
        "### Analyze the sentiment on scale of 1(very negative) to 5(very positive)"
      ],
      "id": "994f309c-5b99-4346-b5dc-15a6e986f37f"
    },
    {
      "cell_type": "code",
      "execution_count": null,
      "metadata": {},
      "outputs": [],
      "source": [
        "sentiment_template = \"\"\"\n",
        "Analyze the sentiment of the following review on a scale of 1 to 5, where 1 is\n",
        "very negative and 5 is very positive:\n",
        "\n",
        "{review}\n",
        "\n",
        "Just give the number only.\n",
        "\"\"\"\n",
        "\n",
        "prompt = sentiment_template.format(review=review)\n",
        "sentiment_response = get_completion(prompt)\n",
        "print_prompt_and_response(prompt, sentiment_response)"
      ],
      "id": "53031063"
    },
    {
      "cell_type": "markdown",
      "metadata": {},
      "source": [
        "### Categorize the Review Based On the Main Issue"
      ],
      "id": "3892923d-92d6-4555-80ec-bdc573b1e9c1"
    },
    {
      "cell_type": "code",
      "execution_count": null,
      "metadata": {},
      "outputs": [],
      "source": [
        "categorize_template = \"\"\"\n",
        "Categorize the main issue or concern raised in the following review:\n",
        "\n",
        "{review}\n",
        "\n",
        "Choose from the following categories: Product Quality, Shipping/Delivery,\n",
        "Customer Service, Pricing, Other.\n",
        "Just give the categories only.\n",
        "\"\"\"\n",
        "\n",
        "prompt = categorize_template.format(review=translation_response)\n",
        "category_response = get_completion(prompt)\n",
        "print_prompt_and_response(prompt, category_response)"
      ],
      "id": "1538c3b2"
    },
    {
      "cell_type": "markdown",
      "metadata": {},
      "source": [
        "### Suggest Potential Improvements Based On the Review"
      ],
      "id": "232ba1eb-439f-42ce-b705-4ec3ebff7a9f"
    },
    {
      "cell_type": "code",
      "execution_count": null,
      "metadata": {},
      "outputs": [],
      "source": [
        "improvement_template = \"\"\"\n",
        "Based on the following review, suggest at least three potential improvements or\n",
        "changes that could address the customer's concerns:\n",
        "\n",
        "{review}\n",
        "\n",
        "Give only the three potential improvements as your output.\n",
        "\"\"\"\n",
        "\n",
        "prompt = improvement_template.format(review=translation_response)\n",
        "improvements_response = get_completion(prompt)\n",
        "print_prompt_and_response(prompt, improvements_response)"
      ],
      "id": "5883e515"
    },
    {
      "cell_type": "markdown",
      "metadata": {},
      "source": [
        "### Write an individualized email response to the customer in German"
      ],
      "id": "5c783c0f-a844-4ebe-ac0c-d0e76782978b"
    },
    {
      "cell_type": "code",
      "execution_count": null,
      "metadata": {},
      "outputs": [],
      "source": [
        "response_template = \"\"\"\n",
        "You have received the following review from a customer:\n",
        "\n",
        "{review}\n",
        "\n",
        "Please draft a polite and professional email response to the customer in\n",
        "German, addressing their concerns and offering a resolution or next steps.\n",
        "\"\"\"\n",
        "\n",
        "prompt = response_template.format(review=review)\n",
        "german_response = get_completion(prompt)\n",
        "print_prompt_and_response(prompt, german_response)"
      ],
      "id": "3efbdc72"
    },
    {
      "cell_type": "markdown",
      "metadata": {},
      "source": [
        "### Translate the email response to English"
      ],
      "id": "3e2531a6-f765-4a6f-9f73-f27c88b62944"
    },
    {
      "cell_type": "code",
      "execution_count": null,
      "metadata": {},
      "outputs": [],
      "source": [
        "translate_response_template = \"\"\"\n",
        "Translate the following text from German to English:\n",
        "\n",
        "{german_response}\n",
        "\"\"\"\n",
        "\n",
        "prompt = translate_response_template.format(german_response=german_response)\n",
        "english_response = get_completion(prompt)\n",
        "print_prompt_and_response(prompt, english_response)"
      ],
      "id": "b326d3e1"
    },
    {
      "cell_type": "markdown",
      "metadata": {},
      "source": [
        "### Final Report"
      ],
      "id": "513c91c5-7f5b-4f96-8198-797f7466eeec"
    },
    {
      "cell_type": "code",
      "execution_count": null,
      "metadata": {},
      "outputs": [],
      "source": [
        "def fix_for_markdown(s):\n",
        "    return s.replace('\\n', '  \\n')\n",
        "\n",
        "from IPython.display import Markdown\n",
        "\n",
        "final_report = f\"\"\"\n",
        "### Initial Review\n",
        "{review}\n",
        "\n",
        "### Language\n",
        "{what_language_response}\n",
        "\n",
        "### Translation\n",
        "{translation_response}\n",
        "\n",
        "### Summary\n",
        "{summarize_response}\n",
        "\n",
        "### Sentiment 1 (very negative) to 5 (very positive)\n",
        "{sentiment_response}\n",
        "\n",
        "### Categorized Main Issue\n",
        "{category_response}\n",
        "\n",
        "### Potential Improvements\n",
        "{improvements_response}\n",
        "\n",
        "### Individualized Email Response\n",
        "{german_response}\n",
        "\n",
        "### Translation to English\n",
        "{english_response}\n",
        "\"\"\"\n",
        "\n",
        "fixed = final_report.replace('\\n', '  \\n')\n",
        "\n",
        "display(Markdown(fixed))"
      ],
      "id": "21e0ae8c"
    }
  ],
  "nbformat": 4,
  "nbformat_minor": 5,
  "metadata": {
    "kernelspec": {
      "name": "python3",
      "display_name": "Python 3 (ipykernel)",
      "language": "python"
    }
  }
}
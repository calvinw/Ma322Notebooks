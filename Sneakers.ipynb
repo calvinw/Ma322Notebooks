{
  "cells": [
    {
      "cell_type": "markdown",
      "metadata": {},
      "source": [
        "# Athletic Sneakers - Decision Trees\n",
        "\n",
        "# ANSWER THE QUESTIONS AT THE END OF THE NOTEBOOK FOR THIS ASSIGNMENT\n",
        "\n",
        "## Introduction\n",
        "\n",
        "We’ll explore decision trees using a real-world example: predicting\n",
        "whether someone will buy athletic sneakers based on their age group and\n",
        "whether they purchase athletic wear. This example will help understand\n",
        "how multiple features can work together to create better predictions\n",
        "than single features alone.\n",
        "\n",
        "## Setting Up Our Helper Functions\n",
        "\n",
        "First, we’ll create some helper functions to make our trees easier to\n",
        "read and understand:"
      ],
      "id": "f5e256b6-434f-4579-8765-78df6bc13869"
    },
    {
      "cell_type": "code",
      "execution_count": null,
      "metadata": {},
      "outputs": [],
      "source": [
        "def clean_tree_text(tree_text):\n",
        "    # Dictionary of all replacements for both possible values of each feature\n",
        "    replacements = {\n",
        "        \"age_teen <= 0.50\": \"Adult?\",\n",
        "        \"age_teen >  0.50\": \"Teen?\",\n",
        "        \"age_adult <= 0.50\": \"Teen?\",\n",
        "        \"age_adult >  0.50\": \"Adult?\",\n",
        "        \"athletic_yes <= 0.50\": \"Doesn't buy athletic?\",\n",
        "        \"athletic_yes >  0.50\": \"Buys athletic?\",\n",
        "        \"athletic_no <= 0.50\": \"Buys athletic?\",\n",
        "        \"athletic_no >  0.50\": \"Doesn't buy athletic?\",\n",
        "        \"class:\": \"\"\n",
        "    }\n",
        "    \n",
        "    # Apply all replacements\n",
        "    clean_text = tree_text\n",
        "    for old, new in replacements.items():\n",
        "        clean_text = clean_text.replace(old, new)\n",
        "    \n",
        "    return clean_text\n",
        "\n",
        "def print_clean_tree(classifier, columns):\n",
        "    tree_text = export_text(classifier, feature_names=list(columns))\n",
        "    print(\"\\nDecision Tree:\")\n",
        "    print(clean_tree_text(tree_text))\n",
        "\n",
        "def print_accuracy_metrics(predictions, actuals):\n",
        "    cm = confusion_matrix(actuals, predictions)\n",
        "    cm_df = pd.DataFrame(\n",
        "        cm,\n",
        "        index=['Actual: No Purchase', 'Actual: Purchase'],\n",
        "        columns=['Predicted: No Purchase', 'Predicted: Purchase']\n",
        "    )\n",
        "    print(\"\\nConfusion Matrix:\")\n",
        "    print(cm_df)\n",
        "    \n",
        "    correct = cm[0,0] + cm[1,1]\n",
        "    total = cm[0,0] + cm[1,1] + cm[1,0] + cm[0,1]\n",
        "    accuracy = correct/total\n",
        "    print(f\"\\nAccuracy: {accuracy:.2%}\")"
      ],
      "id": "284732eb"
    },
    {
      "cell_type": "markdown",
      "metadata": {},
      "source": [
        "## The Training Data\n",
        "\n",
        "Here’s our training data - this is what we’ll use to teach our decision\n",
        "tree how to make predictions. The data represents customer purchase\n",
        "patterns in a sports retail store:"
      ],
      "id": "b6667af0-a6ea-4fcd-ae26-88c4cbc463b1"
    },
    {
      "cell_type": "code",
      "execution_count": null,
      "metadata": {},
      "outputs": [],
      "source": [
        "import pandas as pd\n",
        "from sklearn.tree import DecisionTreeClassifier, export_text\n",
        "from sklearn.metrics import confusion_matrix\n",
        "\n",
        "# Training data\n",
        "train = pd.DataFrame({\n",
        "    'age':      ['teen', 'teen', 'teen', 'teen', 'teen', 'teen', 'teen', 'teen', 'teen', 'teen',\n",
        "                 'adult', 'adult', 'adult', 'adult', 'adult', 'adult', 'adult', 'adult', 'adult', 'adult'],\n",
        "    'athletic': ['yes', 'yes', 'yes', 'yes', 'yes', 'no', 'no', 'no', 'no', 'no',\n",
        "                 'yes', 'yes', 'yes', 'yes', 'yes', 'no', 'no', 'no', 'no', 'no'],\n",
        "    'buys':     ['no', 'no', 'yes', 'yes', 'yes',     \n",
        "                 'no', 'no', 'no', 'yes', 'no',      \n",
        "                 'yes', 'no', 'no', 'no', 'no',     \n",
        "                 'no', 'no', 'no', 'no', 'no']   \n",
        "})\n",
        "print(\"Training Data - What we'll use to teach our decision tree:\")\n",
        "print(train)"
      ],
      "id": "c0108081"
    },
    {
      "cell_type": "markdown",
      "metadata": {},
      "source": [
        "## The Testing Data\n",
        "\n",
        "This is our testing data - we’ll use this to see how well our tree makes\n",
        "predictions on new data it hasn’t seen before:"
      ],
      "id": "70552525-d459-47ea-a3f7-b6a7e1471c6a"
    },
    {
      "cell_type": "code",
      "execution_count": null,
      "metadata": {},
      "outputs": [],
      "source": [
        "test = pd.DataFrame({\n",
        "    'age':      ['teen', 'teen', 'teen', 'teen', 'adult', 'adult', 'adult', 'adult', 'teen', 'adult', 'teen', 'adult'],\n",
        "    'athletic': ['yes', 'yes', 'no', 'no', 'yes', 'yes', 'no', 'no', 'yes', 'no', 'no', 'yes'],\n",
        "    'buys':     ['yes', 'yes', 'no', 'yes', 'no', 'no', 'no', 'no', 'yes', 'no', 'no', 'no']\n",
        "})\n",
        "print(\"Testing Data - We'll use this to test our tree's predictions:\")\n",
        "print(test)"
      ],
      "id": "dce1c4f9"
    },
    {
      "cell_type": "markdown",
      "metadata": {},
      "source": [
        "## Model 1: Age Only Tree\n",
        "\n",
        "Let’s first try to predict buying behavior using only age. First, we’ll\n",
        "sort the data by age to understand the patterns:"
      ],
      "id": "9fe0f62f-5ccd-42b3-baaf-04304d6e35bf"
    },
    {
      "cell_type": "code",
      "execution_count": null,
      "metadata": {},
      "outputs": [],
      "source": [
        "# Show training data sorted by age\n",
        "print(\"Training Data Sorted by Age:\")\n",
        "print(train.sort_values('age'))"
      ],
      "id": "e04bac2a"
    },
    {
      "cell_type": "markdown",
      "metadata": {},
      "source": [
        "Next, we’ll create a decision tree using only age as a predictor:"
      ],
      "id": "49e60d24-ae24-4228-a51f-6450e3ed752b"
    },
    {
      "cell_type": "code",
      "execution_count": null,
      "metadata": {},
      "outputs": [],
      "source": [
        "# First we get the training data X-variables (predicters)\n",
        "X_train = pd.get_dummies(train[['age']])\n",
        "\n",
        "# Next we create a Decision Tree Classifier \n",
        "classifier = DecisionTreeClassifier()\n",
        "\n",
        "# Next we fit the data (create our model) using the actuals \n",
        "classifier.fit(X_train, train['buys'])\n",
        "\n",
        "# This part gets the testing data X-varables \n",
        "X_test = pd.get_dummies(test[['age']])\n",
        "\n",
        "# Now we use the classifer to predict on the testing data\n",
        "predictions = classifier.predict(X_test)\n",
        "\n",
        "print(\"Here's how our tree makes decisions based only on age:\")\n",
        "print_clean_tree(classifier, X_train.columns)\n",
        "print_accuracy_metrics(predictions, test['buys'])"
      ],
      "id": "9bc7944d"
    },
    {
      "cell_type": "markdown",
      "metadata": {},
      "source": [
        "## Model 2: Athletic Purchase History Only Tree\n",
        "\n",
        "Now let’s try predicting based only on whether customers buy athletic\n",
        "wear:"
      ],
      "id": "dcd7e380-6e9f-4496-8c25-6b17939e81c1"
    },
    {
      "cell_type": "code",
      "execution_count": null,
      "metadata": {},
      "outputs": [],
      "source": [
        "# Show training data sorted by athletic wear purchases\n",
        "print(\"Training Data Sorted by Athletic Wear Purchase History:\")\n",
        "print(train.sort_values('athletic'))\n",
        "\n",
        "# Create decision tree using only athletic wear purchase history\n",
        "X_train = pd.get_dummies(train[['athletic']])\n",
        "X_test = pd.get_dummies(test[['athletic']])\n",
        "\n",
        "classifier = DecisionTreeClassifier()\n",
        "classifier.fit(X_train, train['buys'])\n",
        "predictions = classifier.predict(X_test)\n",
        "\n",
        "print(\"Here's how our tree makes decisions based only on athletic wear purchases:\")\n",
        "print_clean_tree(classifier, X_train.columns)\n",
        "print_accuracy_metrics(predictions, test['buys'])"
      ],
      "id": "d864454c"
    },
    {
      "cell_type": "markdown",
      "metadata": {},
      "source": [
        "## Model 3: Full Tree Using Both Age and Athletic Purchase History\n",
        "\n",
        "Finally, let’s use both age and athletic wear purchase history to make\n",
        "our predictions:"
      ],
      "id": "10af79b0-b4dd-44f9-a583-3bbf0e82af48"
    },
    {
      "cell_type": "code",
      "execution_count": null,
      "metadata": {},
      "outputs": [],
      "source": [
        "X_train = pd.get_dummies(train[['age', 'athletic']])\n",
        "X_test = pd.get_dummies(test[['age', 'athletic']])\n",
        "\n",
        "classifier = DecisionTreeClassifier()\n",
        "classifier.fit(X_train, train['buys'])\n",
        "predictions = classifier.predict(X_test)\n",
        "\n",
        "print(\"Here's how our tree makes decisions using both age and athletic wear purchases:\")\n",
        "print_clean_tree(classifier, X_train.columns)\n",
        "print_accuracy_metrics(predictions, test['buys'])"
      ],
      "id": "cdd7c63b"
    },
    {
      "cell_type": "markdown",
      "metadata": {},
      "source": [
        "# Answer the following questions for this assignment\n",
        "\n",
        "1.  What is unusual about the decision trees built from just use `age`\n",
        "    or `athletic` alone. So each of those small decision trees has the\n",
        "    same aspect about it that is odd. What are the predictions made by\n",
        "    those models?\n",
        "\n",
        "2.  How many incorrect predictions on the Testing data does the model\n",
        "    built using `age` and `athletic` make? If a prediction of Purchase\n",
        "    by the model is taken to be a Postive, then what was the incorrect\n",
        "    prediction, a False Postive or a False Negative?\n",
        "\n",
        "3.  What is the accuracy of the model using both `age` and `athletic`?\n",
        "\n",
        "4.  Why did the two trees single predictor trees based on `age` and\n",
        "    `athletic` alone have exactly the same confusion matrix?\n",
        "\n",
        "5.  What can you say about the the type of customers with regards to\n",
        "    buying this product. How would you describe the group with the\n",
        "    highest demand for this product?"
      ],
      "id": "e1af567f-969d-4b3c-ae4d-35a4e5fbc6b9"
    }
  ],
  "nbformat": 4,
  "nbformat_minor": 5,
  "metadata": {
    "kernelspec": {
      "name": "python3",
      "display_name": "Python 3 (ipykernel)",
      "language": "python"
    }
  }
}
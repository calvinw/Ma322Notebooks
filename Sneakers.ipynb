{
  "cells": [
    {
      "cell_type": "markdown",
      "metadata": {},
      "source": [
        "# Athletic Sneakers - Decision Trees\n",
        "\n",
        "# ANSWER THE QUESTIONS AT THE END OF THE NOTEBOOK FOR THIS ASSIGNMENT\n",
        "\n",
        "## Introduction\n",
        "\n",
        "We’ll explore decision trees using a real-world example: predicting\n",
        "whether someone will buy athletic sneakers based on their age group and\n",
        "whether they purchase athletic wear. This example will help understand\n",
        "how multiple features can work together to create better predictions\n",
        "than single features alone.\n",
        "\n",
        "## Setting Up Our Helper Functions\n",
        "\n",
        "First, we’ll create some helper functions to make our trees easier to\n",
        "read and understand:"
      ],
      "id": "f7296046-1632-4b63-bca8-0ece2fe4f181"
    },
    {
      "cell_type": "code",
      "execution_count": null,
      "metadata": {},
      "outputs": [],
      "source": [
        "def clean_tree_text(tree_text):\n",
        "    # Dictionary of all replacements for both possible values of each feature\n",
        "    replacements = {\n",
        "        \"age_teen <= 0.50\": \"Adult?\",\n",
        "        \"age_teen >  0.50\": \"Teen?\",\n",
        "        \"age_adult <= 0.50\": \"Teen?\",\n",
        "        \"age_adult >  0.50\": \"Adult?\",\n",
        "        \"athletic_yes <= 0.50\": \"Doesn't buy athletic?\",\n",
        "        \"athletic_yes >  0.50\": \"Buys athletic?\",\n",
        "        \"athletic_no <= 0.50\": \"Buys athletic?\",\n",
        "        \"athletic_no >  0.50\": \"Doesn't buy athletic?\",\n",
        "        \"class:\": \"\"\n",
        "    }\n",
        "    \n",
        "    # Apply all replacements\n",
        "    clean_text = tree_text\n",
        "    for old, new in replacements.items():\n",
        "        clean_text = clean_text.replace(old, new)\n",
        "    \n",
        "    return clean_text\n",
        "\n",
        "def print_clean_tree(classifier, columns):\n",
        "    tree_text = export_text(classifier, feature_names=list(columns))\n",
        "    print(\"\\nDecision Tree:\")\n",
        "    print(clean_tree_text(tree_text))\n",
        "\n",
        "def print_accuracy_metrics(predictions, actuals):\n",
        "    cm = confusion_matrix(actuals, predictions)\n",
        "    cm_df = pd.DataFrame(\n",
        "        cm,\n",
        "        index=['Actual: No Purchase', 'Actual: Purchase'],\n",
        "        columns=['Predicted: No Purchase', 'Predicted: Purchase']\n",
        "    )\n",
        "    print(\"\\nConfusion Matrix:\")\n",
        "    print(cm_df)\n",
        "    \n",
        "    correct = cm[0,0] + cm[1,1]\n",
        "    total = cm[0,0] + cm[1,1] + cm[1,0] + cm[0,1]\n",
        "    accuracy = correct/total\n",
        "    print(f\"\\nAccuracy: {accuracy:.2%}\")"
      ],
      "id": "88ba9fa6"
    },
    {
      "cell_type": "markdown",
      "metadata": {},
      "source": [
        "## The Training Data\n",
        "\n",
        "Here’s our training data - this is what we’ll use to teach our decision\n",
        "tree how to make predictions. The data represents customer purchase\n",
        "patterns in a sports retail store:"
      ],
      "id": "441f8a6b-53f6-441e-8e93-7836e4f69c44"
    },
    {
      "cell_type": "code",
      "execution_count": null,
      "metadata": {},
      "outputs": [],
      "source": [
        "import pandas as pd\n",
        "from sklearn.tree import DecisionTreeClassifier, export_text\n",
        "from sklearn.metrics import confusion_matrix\n",
        "\n",
        "# Training data\n",
        "train = pd.DataFrame({\n",
        "    'age':      ['teen', 'teen', 'teen', 'teen', 'teen', 'teen', 'teen', 'teen', 'teen', 'teen',\n",
        "                 'adult', 'adult', 'adult', 'adult', 'adult', 'adult', 'adult', 'adult', 'adult', 'adult'],\n",
        "    'athletic': ['yes', 'yes', 'yes', 'yes', 'yes', 'no', 'no', 'no', 'no', 'no',\n",
        "                 'yes', 'yes', 'yes', 'yes', 'yes', 'no', 'no', 'no', 'no', 'no'],\n",
        "    'buys':     ['no', 'no', 'yes', 'yes', 'yes',     # teens who buy athletic: 100% buy sneakers\n",
        "                 'no', 'no', 'no', 'yes', 'no',          # teens who don't buy athletic: 20% buy sneakers\n",
        "                 'yes', 'no', 'no', 'no', 'no',          # adults who buy athletic: 20% buy sneakers\n",
        "                 'no', 'no', 'no', 'no', 'no']           # adults who don't buy athletic: 0% buy sneakers\n",
        "})\n",
        "print(\"Training Data - What we'll use to teach our decision tree:\")\n",
        "print(train)"
      ],
      "id": "736a6512"
    },
    {
      "cell_type": "markdown",
      "metadata": {},
      "source": [
        "## The Testing Data\n",
        "\n",
        "This is our testing data - we’ll use this to see how well our tree makes\n",
        "predictions on new data it hasn’t seen before:"
      ],
      "id": "0c56807c-0c3c-4db4-aec0-cf12c7d05698"
    },
    {
      "cell_type": "code",
      "execution_count": null,
      "metadata": {},
      "outputs": [],
      "source": [
        "test = pd.DataFrame({\n",
        "    'age':      ['teen', 'teen', 'teen', 'teen', 'adult', 'adult', 'adult', 'adult', 'teen', 'adult', 'teen', 'adult'],\n",
        "    'athletic': ['yes', 'yes', 'no', 'no', 'yes', 'yes', 'no', 'no', 'yes', 'no', 'no', 'yes'],\n",
        "    'buys':     ['yes', 'yes', 'no', 'yes', 'no', 'no', 'no', 'no', 'yes', 'no', 'no', 'no']\n",
        "})\n",
        "print(\"Testing Data - We'll use this to test our tree's predictions:\")\n",
        "print(test)"
      ],
      "id": "aad848a3"
    },
    {
      "cell_type": "markdown",
      "metadata": {},
      "source": [
        "## Model 1: Age Only Tree\n",
        "\n",
        "Let’s first try to predict buying behavior using only age. First, we’ll\n",
        "sort the data by age to understand the patterns:"
      ],
      "id": "a75992db-7812-4039-8db4-d8ca73151543"
    },
    {
      "cell_type": "code",
      "execution_count": null,
      "metadata": {},
      "outputs": [],
      "source": [
        "# Show training data sorted by age\n",
        "print(\"Training Data Sorted by Age:\")\n",
        "print(train.sort_values('age'))"
      ],
      "id": "50408795"
    },
    {
      "cell_type": "markdown",
      "metadata": {},
      "source": [
        "Next, we’ll create a decision tree using only age as a predictor:"
      ],
      "id": "2491a29d-e9a3-44e9-8dc3-c9875de7e7c7"
    },
    {
      "cell_type": "code",
      "execution_count": null,
      "metadata": {},
      "outputs": [],
      "source": [
        "# First we get the training data X-variables (predicters)\n",
        "X_train = pd.get_dummies(train[['age']])\n",
        "\n",
        "# Next we create a Decision Tree Classifier \n",
        "classifier = DecisionTreeClassifier()\n",
        "\n",
        "# Next we fit the data (create our model) using the actuals \n",
        "classifier.fit(X_train, train['buys'])\n",
        "\n",
        "# This part gets the testing data X-varables \n",
        "X_test = pd.get_dummies(test[['age']])\n",
        "\n",
        "# Now we use the classifer to predict on the testing data\n",
        "predictions = classifier.predict(X_test)\n",
        "\n",
        "print(\"Here's how our tree makes decisions based only on age:\")\n",
        "print_clean_tree(classifier, X_train.columns)\n",
        "print_accuracy_metrics(predictions, test['buys'])"
      ],
      "id": "4c68e18f"
    },
    {
      "cell_type": "markdown",
      "metadata": {},
      "source": [
        "EV\n",
        "\n",
        "## Model 2: Athletic Purchase History Only Tree\n",
        "\n",
        "Now let’s try predicting based only on whether customers buy athletic\n",
        "wear:"
      ],
      "id": "c0a2bd9f-f13e-4494-bb9e-36e1d4219b7c"
    },
    {
      "cell_type": "code",
      "execution_count": null,
      "metadata": {},
      "outputs": [],
      "source": [
        "# Show training data sorted by athletic wear purchases\n",
        "print(\"Training Data Sorted by Athletic Wear Purchase History:\")\n",
        "print(train.sort_values('athletic'))\n",
        "\n",
        "# Create decision tree using only athletic wear purchase history\n",
        "X_train = pd.get_dummies(train[['athletic']])\n",
        "X_test = pd.get_dummies(test[['athletic']])\n",
        "\n",
        "classifier = DecisionTreeClassifier()\n",
        "classifier.fit(X_train, train['buys'])\n",
        "predictions = classifier.predict(X_test)\n",
        "\n",
        "print(\"Here's how our tree makes decisions based only on athletic wear purchases:\")\n",
        "print_clean_tree(classifier, X_train.columns)\n",
        "print_accuracy_metrics(predictions, test['buys'])"
      ],
      "id": "af7cd789"
    },
    {
      "cell_type": "markdown",
      "metadata": {},
      "source": [
        "## Model 3: Full Tree Using Both Age and Athletic Purchase History\n",
        "\n",
        "Finally, let’s use both age and athletic wear purchase history to make\n",
        "our predictions:"
      ],
      "id": "cb66665a-1156-491e-9a1b-54b58b81f95f"
    },
    {
      "cell_type": "code",
      "execution_count": null,
      "metadata": {},
      "outputs": [],
      "source": [
        "X_train = pd.get_dummies(train[['age', 'athletic']])\n",
        "X_test = pd.get_dummies(test[['age', 'athletic']])\n",
        "\n",
        "classifier = DecisionTreeClassifier()\n",
        "classifier.fit(X_train, train['buys'])\n",
        "predictions = classifier.predict(X_test)\n",
        "\n",
        "print(\"Here's how our tree makes decisions using both age and athletic wear purchases:\")\n",
        "print_clean_tree(classifier, X_train.columns)\n",
        "print_accuracy_metrics(predictions, test['buys'])"
      ],
      "id": "9576e7fe"
    },
    {
      "cell_type": "markdown",
      "metadata": {},
      "source": [
        "# Answer the following questions for this assignment\n",
        "\n",
        "1.  What is unusual about the decision trees built from just use `age`\n",
        "    or `athletic` alone. So each of those small decision trees has the\n",
        "    same aspect about it that is odd. What are the predictions made by\n",
        "    those models?\n",
        "\n",
        "2.  How many incorrect predictions on the Testing data does the model\n",
        "    built using `age` and `athletic` make? If a prediction of Purchase\n",
        "    by the model is taken to be a Postive, then what was the incorrect\n",
        "    prediction, a False Postive or a False Negative?\n",
        "\n",
        "3.  What is the accuracy of the model using both `age` and `athletic`?\n",
        "\n",
        "4.  Why did the two trees single predictor trees based on `age` and\n",
        "    `athletic` alone have exactly the same confusion matrix?\n",
        "\n",
        "5.  What can you say about the the type of customers with regards to\n",
        "    buying this product. How would you describe the group with the\n",
        "    highest demand for this product?"
      ],
      "id": "09efe457-9bd5-4afe-814f-5723b1d78b1b"
    }
  ],
  "nbformat": 4,
  "nbformat_minor": 5,
  "metadata": {
    "kernelspec": {
      "name": "python3",
      "display_name": "Python 3 (ipykernel)",
      "language": "python"
    }
  }
}
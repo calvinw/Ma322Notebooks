{
  "cells": [
    {
      "cell_type": "markdown",
      "metadata": {},
      "source": [
        "# Athletic Sneakers - Decision Trees\n",
        "\n",
        "## Introduction\n",
        "\n",
        "We’ll explore decision trees using a real-world example: predicting\n",
        "whether someone will buy athletic sneakers based on their age group and\n",
        "whether they purchase athletic wear. This example will help understand\n",
        "how multiple features can work together to create better predictions\n",
        "than single features alone.\n",
        "\n",
        "## Setting Up Our Helper Functions\n",
        "\n",
        "First, we’ll create some helper functions to make our trees easier to\n",
        "read and understand:"
      ],
      "id": "1815165b-7909-456e-aead-0f1e78eb7c9a"
    },
    {
      "cell_type": "code",
      "execution_count": null,
      "metadata": {},
      "outputs": [],
      "source": [
        "def clean_tree_text(tree_text):\n",
        "    # Dictionary of all replacements for both possible values of each feature\n",
        "    replacements = {\n",
        "        \"age_teen <= 0.50\": \"Adult?\",\n",
        "        \"age_teen >  0.50\": \"Teen?\",\n",
        "        \"age_adult <= 0.50\": \"Teen?\",\n",
        "        \"age_adult >  0.50\": \"Adult?\",\n",
        "        \"athletic_yes <= 0.50\": \"Doesn't buy athletic?\",\n",
        "        \"athletic_yes >  0.50\": \"Buys athletic?\",\n",
        "        \"athletic_no <= 0.50\": \"Buys athletic?\",\n",
        "        \"athletic_no >  0.50\": \"Doesn't buy athletic?\",\n",
        "        \"class:\": \"\"\n",
        "    }\n",
        "    \n",
        "    # Apply all replacements\n",
        "    clean_text = tree_text\n",
        "    for old, new in replacements.items():\n",
        "        clean_text = clean_text.replace(old, new)\n",
        "    \n",
        "    return clean_text\n",
        "\n",
        "def print_clean_tree(classifier, columns):\n",
        "    tree_text = export_text(classifier, feature_names=list(columns))\n",
        "    print(\"\\nDecision Tree:\")\n",
        "    print(clean_tree_text(tree_text))\n",
        "\n",
        "def print_accuracy_metrics(predictions, actuals):\n",
        "    cm = confusion_matrix(actuals, predictions)\n",
        "    cm_df = pd.DataFrame(\n",
        "        cm,\n",
        "        index=['Actual: No Purchase', 'Actual: Purchase'],\n",
        "        columns=['Predicted: No Purchase', 'Predicted: Purchase']\n",
        "    )\n",
        "    print(\"\\nConfusion Matrix:\")\n",
        "    print(cm_df)\n",
        "    \n",
        "    correct = cm[0,0] + cm[1,1]\n",
        "    total = cm[0,0] + cm[1,1] + cm[1,0] + cm[0,1]\n",
        "    accuracy = correct/total\n",
        "    print(f\"\\nAccuracy: {accuracy:.2%}\")"
      ],
      "id": "5b1cd222"
    },
    {
      "cell_type": "markdown",
      "metadata": {},
      "source": [
        "## The Training Data\n",
        "\n",
        "Here’s our training data - this is what we’ll use to teach our decision\n",
        "tree how to make predictions. The data represents customer purchase\n",
        "patterns in a sports retail store:"
      ],
      "id": "56c97723-a56b-4910-8c7e-62b8a649dee1"
    },
    {
      "cell_type": "code",
      "execution_count": null,
      "metadata": {},
      "outputs": [],
      "source": [
        "import pandas as pd\n",
        "from sklearn.tree import DecisionTreeClassifier, export_text\n",
        "from sklearn.metrics import confusion_matrix\n",
        "\n",
        "# Training data\n",
        "train = pd.DataFrame({\n",
        "    'age':      ['teen', 'teen', 'teen', 'teen', 'teen', 'teen', 'teen', 'teen', 'teen', 'teen',\n",
        "                 'adult', 'adult', 'adult', 'adult', 'adult', 'adult', 'adult', 'adult', 'adult', 'adult'],\n",
        "    'athletic': ['yes', 'yes', 'yes', 'yes', 'yes', 'no', 'no', 'no', 'no', 'no',\n",
        "                 'yes', 'yes', 'yes', 'yes', 'yes', 'no', 'no', 'no', 'no', 'no'],\n",
        "    'buys':     ['no', 'no', 'yes', 'yes', 'yes',     # teens who buy athletic: 100% buy sneakers\n",
        "                 'no', 'no', 'no', 'yes', 'no',          # teens who don't buy athletic: 20% buy sneakers\n",
        "                 'yes', 'no', 'no', 'no', 'no',          # adults who buy athletic: 20% buy sneakers\n",
        "                 'no', 'no', 'no', 'no', 'no']           # adults who don't buy athletic: 0% buy sneakers\n",
        "})\n",
        "print(\"Training Data - What we'll use to teach our decision tree:\")\n",
        "print(train)"
      ],
      "id": "217baba5"
    },
    {
      "cell_type": "markdown",
      "metadata": {},
      "source": [
        "## The Testing Data\n",
        "\n",
        "This is our testing data - we’ll use this to see how well our tree makes\n",
        "predictions on new data it hasn’t seen before:"
      ],
      "id": "bc6f1f39-9031-45af-86ad-bcbec8de6415"
    },
    {
      "cell_type": "code",
      "execution_count": null,
      "metadata": {},
      "outputs": [],
      "source": [
        "test = pd.DataFrame({\n",
        "    'age':      ['teen', 'teen', 'teen', 'teen', 'adult', 'adult', 'adult', 'adult', 'teen', 'adult', 'teen', 'adult'],\n",
        "    'athletic': ['yes', 'yes', 'no', 'no', 'yes', 'yes', 'no', 'no', 'yes', 'no', 'no', 'yes'],\n",
        "    'buys':     ['yes', 'yes', 'no', 'yes', 'no', 'no', 'no', 'no', 'yes', 'no', 'no', 'no']\n",
        "})\n",
        "print(\"Testing Data - We'll use this to test our tree's predictions:\")\n",
        "print(test)"
      ],
      "id": "f93b9360"
    },
    {
      "cell_type": "markdown",
      "metadata": {},
      "source": [
        "## Model 1: Age Only Tree\n",
        "\n",
        "Let’s first try to predict buying behavior using only age. First, we’ll\n",
        "sort the data by age to understand the patterns:"
      ],
      "id": "81eff38d-430b-4e5b-ba69-847236388c1e"
    },
    {
      "cell_type": "code",
      "execution_count": null,
      "metadata": {},
      "outputs": [],
      "source": [
        "# Show training data sorted by age\n",
        "print(\"Training Data Sorted by Age:\")\n",
        "print(train.sort_values('age'))"
      ],
      "id": "6d033637"
    },
    {
      "cell_type": "markdown",
      "metadata": {},
      "source": [
        "Next, we’ll create a decision tree using only age as a predictor:"
      ],
      "id": "0e605ea5-04ec-462d-92d7-59c4ec7c1c6a"
    },
    {
      "cell_type": "code",
      "execution_count": null,
      "metadata": {},
      "outputs": [],
      "source": [
        "# First we get the training data X-variables (predicters)\n",
        "X_train = pd.get_dummies(train[['age']])\n",
        "\n",
        "# Next we create a Decision Tree Classifier \n",
        "classifier = DecisionTreeClassifier()\n",
        "\n",
        "# Next we fit the data (create our model) using the actuals \n",
        "classifier.fit(X_train, train['buys'])\n",
        "\n",
        "# This part gets the testing data X-varables \n",
        "X_test = pd.get_dummies(test[['age']])\n",
        "\n",
        "# Now we use the classifer to predict on the testing data\n",
        "predictions = classifier.predict(X_test)\n",
        "\n",
        "print(\"Here's how our tree makes decisions based only on age:\")\n",
        "print_clean_tree(classifier, X_train.columns)\n",
        "print_accuracy_metrics(predictions, test['buys'])"
      ],
      "id": "29b5b388"
    },
    {
      "cell_type": "markdown",
      "metadata": {},
      "source": [
        "EV\n",
        "\n",
        "## Model 2: Athletic Purchase History Only Tree\n",
        "\n",
        "Now let’s try predicting based only on whether customers buy athletic\n",
        "wear:"
      ],
      "id": "eabd2a6e-a31d-40c2-ba16-16aa2983669a"
    },
    {
      "cell_type": "code",
      "execution_count": null,
      "metadata": {},
      "outputs": [],
      "source": [
        "# Show training data sorted by athletic wear purchases\n",
        "print(\"Training Data Sorted by Athletic Wear Purchase History:\")\n",
        "print(train.sort_values('athletic'))\n",
        "\n",
        "# Create decision tree using only athletic wear purchase history\n",
        "X_train = pd.get_dummies(train[['athletic']])\n",
        "X_test = pd.get_dummies(test[['athletic']])\n",
        "\n",
        "classifier = DecisionTreeClassifier()\n",
        "classifier.fit(X_train, train['buys'])\n",
        "predictions = classifier.predict(X_test)\n",
        "\n",
        "print(\"Here's how our tree makes decisions based only on athletic wear purchases:\")\n",
        "print_clean_tree(classifier, X_train.columns)\n",
        "print_accuracy_metrics(predictions, test['buys'])"
      ],
      "id": "3ba588fa"
    },
    {
      "cell_type": "markdown",
      "metadata": {},
      "source": [
        "## Model 3: Full Tree Using Both Age and Athletic Purchase History\n",
        "\n",
        "Finally, let’s use both age and athletic wear purchase history to make\n",
        "our predictions:"
      ],
      "id": "64d11eb1-f0b9-4bfe-bdd3-35b07a203cd9"
    },
    {
      "cell_type": "code",
      "execution_count": null,
      "metadata": {},
      "outputs": [],
      "source": [
        "X_train = pd.get_dummies(train[['age', 'athletic']])\n",
        "X_test = pd.get_dummies(test[['age', 'athletic']])\n",
        "\n",
        "classifier = DecisionTreeClassifier()\n",
        "classifier.fit(X_train, train['buys'])\n",
        "predictions = classifier.predict(X_test)\n",
        "\n",
        "print(\"Here's how our tree makes decisions using both age and athletic wear purchases:\")\n",
        "print_clean_tree(classifier, X_train.columns)\n",
        "print_accuracy_metrics(predictions, test['buys'])"
      ],
      "id": "6054f0b7"
    },
    {
      "cell_type": "markdown",
      "metadata": {},
      "source": [
        "## Understanding the Results\n",
        "\n",
        "In this example, we see how different features work together to predict\n",
        "customer behavior. Let’s look at what each model tells us:\n",
        "\n",
        "This example shows why we often need multiple features to make good\n",
        "predictions. The patterns here mirror real-world retail scenarios: -\n",
        "Your best customers are teens who already buy athletic wear - Other\n",
        "segments buy much less frequently - You need both pieces of information\n",
        "to identify your target market\n",
        "\n",
        "The confusion matrix for each model shows: - How many times we correctly\n",
        "predicted purchases - How many times we correctly predicted\n",
        "non-purchases - How many times we made mistakes in each direction\n",
        "\n",
        "By comparing the three models, we can see: 1. Why age alone isn’t enough\n",
        "to predict purchases 2. Why athletic wear purchase history alone isn’t\n",
        "enough 3. How combining both features creates much better predictions\n",
        "\n",
        "This kind of analysis can help stores: - Target marketing to the right\n",
        "customer segments - Stock inventory appropriately - Plan promotions\n",
        "effectively"
      ],
      "id": "ebc89488-14d2-4592-804b-2de6717cec48"
    }
  ],
  "nbformat": 4,
  "nbformat_minor": 5,
  "metadata": {
    "kernelspec": {
      "name": "python3",
      "display_name": "Python 3 (ipykernel)",
      "language": "python"
    }
  }
}
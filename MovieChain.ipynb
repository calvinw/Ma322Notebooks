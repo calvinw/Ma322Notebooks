{
  "cells": [
    {
      "cell_type": "markdown",
      "metadata": {},
      "source": [
        "# Movie Chain\n",
        "\n",
        "## Put Your Together AI key here"
      ],
      "id": "1e4173d3-863b-443e-8a2c-bc80cf7dbf0f"
    },
    {
      "cell_type": "code",
      "execution_count": null,
      "metadata": {},
      "outputs": [],
      "source": [
        "import os\n",
        "os.environ[\"TOGETHER_API_KEY\"] = \"paste_your_api_key_here\""
      ],
      "id": "8f5b1624"
    },
    {
      "cell_type": "markdown",
      "metadata": {},
      "source": [
        "## Install Packages"
      ],
      "id": "35ea32dd-ec56-4669-bf4d-d7119a533c4c"
    },
    {
      "cell_type": "code",
      "execution_count": null,
      "metadata": {},
      "outputs": [],
      "source": [
        "!pip3 install langchain langchain_openai"
      ],
      "id": "f90657b0"
    },
    {
      "cell_type": "markdown",
      "metadata": {},
      "source": [
        "## Set up the LLM"
      ],
      "id": "cf94f683-e44a-49d0-a385-8e15e85ea8be"
    },
    {
      "cell_type": "code",
      "execution_count": null,
      "metadata": {},
      "outputs": [],
      "source": [
        "import os\n",
        "from langchain_openai import ChatOpenAI\n",
        "\n",
        "#model_name = \"NousResearch/Nous-Hermes-2-Mixtral-8x7B-SFT\"\n",
        "#model_name = \"NousResearch/Nous-Hermes-2-Mixtral-8x7B-DPO\"\n",
        "#model_name=\"mistralai/Mixtral-8x7B-Instruct-v0.1\"\n",
        "#model_name=\"mistralai/Mistral-7B-Instruct-v0.1\"\n",
        "#model_name=\"mistralai/Mistral-7B-Instruct-v0.2\"\n",
        "model_name = \"openchat/openchat-3.5-1210\"\n",
        "#model_name = \"Qwen/Qwen1.5-72B-Chat\"\n",
        "#model_name = \"cognitivecomputations/dolphin-2.5-mixtral-8x7b\"\n",
        "#model_name=\"databricks/dbrx-instruct\"\n",
        "#model_name=\"mistralai/Mixtral-8x22B\"\n",
        "\n",
        "print(\"Provider: TogetherAI\")\n",
        "print(\"Model: \" + model_name)\n",
        "\n",
        "llm=ChatOpenAI(model_name=model_name,\n",
        "               openai_api_key=os.environ.get(\"TOGETHER_API_KEY\"),\n",
        "               openai_api_base=\"https://api.together.xyz/v1/\")\n",
        "\n",
        "import textwrap\n",
        "from langchain_core.prompts import ChatPromptTemplate\n",
        "\n",
        "def wrap_text(text, max_width=80):\n",
        "    \"\"\"\n",
        "    Wraps the text to the specified max_width, preserving line breaks and formatting.\n",
        "    \"\"\"\n",
        "    text = text.lstrip()\n",
        "    lines = text.splitlines()  # Split the text into lines\n",
        "    wrapped_lines = []\n",
        "    for line in lines:\n",
        "        if line.strip():  # Skip empty lines\n",
        "            wrapped_line = textwrap.fill(line, max_width, initial_indent='', subsequent_indent='')\n",
        "            wrapped_lines.extend(wrapped_line.splitlines())  # Preserve line breaks\n",
        "        else:\n",
        "            wrapped_lines.append('')  # Keep empty lines\n",
        "    return '\\n'.join(wrapped_lines)\n",
        "\n",
        "def print_prompt_and_response(prompt, response):\n",
        "    print(\"Prompt: \")\n",
        "    print(wrap_text(prompt))\n",
        "    print(\"\")\n",
        "    print(\"Response: \")\n",
        "    print(response)\n",
        "\n",
        "def print_messages_and_response(messages, response):\n",
        "    prompt = ChatPromptTemplate(messages=messages)\n",
        "    print_prompt_and_response(prompt.format(), response)\n",
        "\n",
        "def get_completion(prompt, temperature=0.0):\n",
        "    response = llm.invoke(prompt, temperature=temperature)\n",
        "    wrapped_response = wrap_text(response.content)\n",
        "    return wrapped_response\n",
        "\n",
        "def get_completion_messages(messages, temperature=0.0):\n",
        "    response=llm.invoke(messages, temperature=temperature)\n",
        "    wrapped_response = wrap_text(response.content)\n",
        "    return wrapped_response\n"
      ],
      "id": "8316064b"
    },
    {
      "cell_type": "markdown",
      "metadata": {},
      "source": [
        "## Movie Chain\n",
        "\n",
        "We will analyze an extended movie plot summary, identify the genre(s) of\n",
        "the film, generate a tagline, and then create a short synopsis\n",
        "incorporating the tagline and genres. The process involves the following\n",
        "steps:\n",
        "\n",
        "1.  **Initial Movie Plot**: The process starts with an extended movie\n",
        "    plot summary, which is provided as a string variable.\n",
        "\n",
        "2.  **Identify the Film Genre(s)**: The language model will identify the\n",
        "    primary genre(s) for the film based on the movie plot summary.\n",
        "\n",
        "3.  **Generate a Movie Tagline**: Based on the initial movie plot, a\n",
        "    catchy tagline for the movie is generated by prompting a language\n",
        "    model.\n",
        "\n",
        "4.  **Generate a Title**: Based on the initial movie plot and the movie\n",
        "    tagline generate a possible title.\n",
        "\n",
        "5.  **Generate a Short Synopsis**: Using the initial movie plot, the\n",
        "    generated tagline and title, and the identified genre(s), generate a\n",
        "    short synopsis for the movie.\n",
        "\n",
        "### Initial Movie Plot\n",
        "\n",
        "Let’s start with the extended movie plot summary:"
      ],
      "id": "0192aee6-56f7-47ef-aa98-3dfcb447e46c"
    },
    {
      "cell_type": "code",
      "execution_count": null,
      "metadata": {},
      "outputs": [],
      "source": [
        "movie_plot =\"\"\"\n",
        "In a post-apocalyptic world ravaged by a devastating cataclysm, a young woman\n",
        "named Tara sets out on a perilous journey to find a rumored sanctuary known as\n",
        "The Oasis – a legend that promises safety, resources, and a chance at\n",
        "rebuilding civilization.\n",
        "\n",
        "Tara's path is fraught with danger as she navigates the treacherous wastelands,\n",
        "where lawlessness and chaos reign supreme. Along the way, she encounters a\n",
        "ragtag group of survivors who have banded together for protection, forming an\n",
        "unlikely alliance born out of necessity.\n",
        "\n",
        "Despite initial mistrust and conflicting agendas, Tara and the survivors\n",
        "realize that their only hope of survival lies in cooperation. They must\n",
        "traverse a hostile landscape, facing off against ruthless marauders who will\n",
        "stop at nothing to claim what little resources remain, as well as mutated\n",
        "creatures twisted by the cataclysm's aftermath.\n",
        "\n",
        "As they uncover clues and follow a trail of breadcrumbs left by those who came\n",
        "before, the group is forced to confront not only the harsh realities of their\n",
        "new world but also their own inner demons and personal conflicts. They must\n",
        "make difficult choices that will test their morality, their loyalty, and their\n",
        "resolve, ultimately determining their fate and the fate of those who may follow\n",
        "in their footsteps.\n",
        "\n",
        "In this harrowing journey, the line between survival and sacrifice blurs, and\n",
        "the true cost of reaching The Oasis may be higher than any of them could have\n",
        "imagined.\n",
        "\"\"\""
      ],
      "id": "8467d6ae"
    },
    {
      "cell_type": "markdown",
      "metadata": {},
      "source": [
        "### Identify the Film Genre(s)\n",
        "\n",
        "Identify the primary genre(s) for the film based on the movie plot\n",
        "summary."
      ],
      "id": "c955ef5a-b16e-49d9-8bb3-93552f985233"
    },
    {
      "cell_type": "code",
      "execution_count": null,
      "metadata": {},
      "outputs": [],
      "source": [
        "template =\"\"\"\n",
        "Based on the following movie plot summary, identify the primary genre(s) for\n",
        "the film:\n",
        "\n",
        "{plot}\n",
        "\n",
        "Provide your answer in a comma-separated list.\n",
        "\"\"\"\n",
        "\n",
        "prompt = template.format(plot=movie_plot)\n",
        "genre_response = get_completion(prompt)\n",
        "print(genre_response)"
      ],
      "id": "05340df4"
    },
    {
      "cell_type": "markdown",
      "metadata": {},
      "source": [
        "### Generate a Movie Tagline\n",
        "\n",
        "Generate a catchy tagline for the movie based on the initial movie plot."
      ],
      "id": "8dfd4cb9-447b-480e-ad44-ad27a0935160"
    },
    {
      "cell_type": "code",
      "execution_count": null,
      "metadata": {},
      "outputs": [],
      "source": [
        "template =\"\"\"\n",
        "Based on the following movie plot, generate a catchy tagline for the movie:\n",
        "\n",
        "{plot}\n",
        "\"\"\"\n",
        "\n",
        "prompt = template.format(plot=movie_plot)\n",
        "tagline_response = get_completion(prompt)\n",
        "print(tagline_response)"
      ],
      "id": "92dbdfba"
    },
    {
      "cell_type": "markdown",
      "metadata": {},
      "source": [
        "### Create a Title\n",
        "\n",
        "Based on the tagline and the plot summary, generate a title for the\n",
        "film."
      ],
      "id": "2e9f5b51-5f3f-4db2-8859-d273e31b3f4f"
    },
    {
      "cell_type": "code",
      "execution_count": null,
      "metadata": {},
      "outputs": [],
      "source": [
        "template =\"\"\"\n",
        "Based on the following movie plot summary and tagline generate a title for the\n",
        "film.\n",
        "\n",
        "Movie Plot:\n",
        "{plot}\n",
        "\n",
        "Tagline:\n",
        "{tagline}\n",
        "\"\"\"\n",
        "\n",
        "prompt = template.format(plot=movie_plot,\n",
        "                         tagline=tagline_response)\n",
        "title_response = get_completion(prompt)\n",
        "print(title_response)"
      ],
      "id": "0f7bb217"
    },
    {
      "cell_type": "markdown",
      "metadata": {},
      "source": [
        "### Generate a Short Synopsis\n",
        "\n",
        "Generate a short synopsis for the movie, incorporating the tagline and\n",
        "the identified genre(s)."
      ],
      "id": "f75b506d-23ee-451c-9565-ddf959d9fbe7"
    },
    {
      "cell_type": "code",
      "execution_count": null,
      "metadata": {},
      "outputs": [],
      "source": [
        "template = \"\"\"\n",
        "Based on the following movie plot, tagline, title, and genres, generate a short\n",
        "synopsis for the movie:\n",
        "\n",
        "Plot: {plot}\n",
        "\n",
        "Genres: {genre}\n",
        "\n",
        "Tagline: {tagline}\n",
        "\n",
        "Title: {title}\n",
        "\"\"\"\n",
        "\n",
        "prompt = template.format(plot=movie_plot,\n",
        "                        tagline=tagline_response,\n",
        "                        genre=genre_response,\n",
        "                        title=title_response)\n",
        "synopsis_response = get_completion(prompt)\n",
        "print(synopsis_response)"
      ],
      "id": "103e8670"
    },
    {
      "cell_type": "markdown",
      "metadata": {},
      "source": [
        "### Final Report for Movie Chain"
      ],
      "id": "d315617a-7d0e-4f45-9829-74365f84c621"
    },
    {
      "cell_type": "code",
      "execution_count": null,
      "metadata": {},
      "outputs": [],
      "source": [
        "report_template = \"\"\"\n",
        "### Initial Movie Plot\n",
        "{plot}\n",
        "\n",
        "### Identified Genre(s)\n",
        "{genre}\n",
        "\n",
        "### Movie Tagline\n",
        "{tagline}\n",
        "\n",
        "### Movie Title\n",
        "{title}\n",
        "\n",
        "### Short Movie Synopsis\n",
        "{synopsis}\n",
        "\"\"\"\n",
        "\n",
        "report = report_template.format(plot = movie_plot,\n",
        "                         genre = genre_response,\n",
        "                         tagline = tagline_response,\n",
        "                         title = title_response,\n",
        "                         synopsis = synopsis_response)\n",
        "print(report)"
      ],
      "id": "67c9bdb7"
    }
  ],
  "nbformat": 4,
  "nbformat_minor": 5,
  "metadata": {
    "kernelspec": {
      "name": "python3",
      "display_name": "Python 3 (ipykernel)",
      "language": "python"
    }
  }
}
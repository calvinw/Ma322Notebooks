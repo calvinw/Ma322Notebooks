{
  "cells": [
    {
      "cell_type": "markdown",
      "metadata": {},
      "source": [
        "# Variables In Python\n",
        "\n",
        "Python is a programming language and so has variables. Variables can\n",
        "hold data, and can be used in calculations and in program logic.\n",
        "Understanding how variables work is very important in any programming\n",
        "language.\n",
        "\n",
        "Lets start by storing a number in a variable. Below we store the number\n",
        "3 in a variable called `x`."
      ],
      "id": "8a6092f2-d822-4e7f-9a16-a61e2def4635"
    },
    {
      "cell_type": "code",
      "execution_count": null,
      "metadata": {},
      "outputs": [],
      "source": [
        "x=3"
      ],
      "id": "be43e6b1"
    },
    {
      "cell_type": "markdown",
      "metadata": {},
      "source": [
        "This is typed as an `=` symbol\n",
        "\n",
        "Storing a number in a variable like this is also called an assignment.\n",
        "We are assigning the variable x to be 3.\n",
        "\n",
        "Now the way variables work is that x now has the value 3. So for now\n",
        "anything we do with x, like other calculations or manipulations, it will\n",
        "have the value 3 as we do those calculations.\n",
        "\n",
        "For example, we can just print it out:"
      ],
      "id": "b7b7ef45-0244-4777-b0de-e6f5f307fe13"
    },
    {
      "cell_type": "code",
      "execution_count": null,
      "metadata": {},
      "outputs": [],
      "source": [
        "x"
      ],
      "id": "979d7431"
    },
    {
      "cell_type": "markdown",
      "metadata": {},
      "source": [
        "We can do arithmetic to it:"
      ],
      "id": "cccc4611-0abe-480c-a777-c998ce15fddd"
    },
    {
      "cell_type": "code",
      "execution_count": null,
      "metadata": {},
      "outputs": [],
      "source": [
        "2*x"
      ],
      "id": "1621bfac"
    },
    {
      "cell_type": "markdown",
      "metadata": {},
      "source": [
        "Notice this is 6 since x currently is 3. So $2x=2(3)=6$\n",
        "\n",
        "We can do a calculation using x and store the result in another\n",
        "variable:"
      ],
      "id": "7775d5e3-d5de-4b73-ad30-8e2a615e4782"
    },
    {
      "cell_type": "code",
      "execution_count": null,
      "metadata": {},
      "outputs": [],
      "source": [
        "y=5*x"
      ],
      "id": "ac0a90f0"
    },
    {
      "cell_type": "markdown",
      "metadata": {},
      "source": [
        "Now y will have a value after we do this. What is the current value of\n",
        "y? Since the current value of x is 3, the value of y should be\n",
        "$5(3)=15$. Lets print it out to see if that is true:"
      ],
      "id": "c80e78c6-95ef-40a7-b29f-9f8194015b65"
    },
    {
      "cell_type": "code",
      "execution_count": null,
      "metadata": {},
      "outputs": [],
      "source": [
        "y"
      ],
      "id": "d501d847"
    },
    {
      "cell_type": "markdown",
      "metadata": {},
      "source": [
        "Variables can be changed as a program proceeds. They do not always have\n",
        "to hold the value they were initially assigned. (They are called\n",
        "variables after all)\n",
        "\n",
        "For example we can change the value of x as follows with another\n",
        "assignment:"
      ],
      "id": "5a0f189a-24dd-4f7b-8ae5-c691c8a52812"
    },
    {
      "cell_type": "code",
      "execution_count": null,
      "metadata": {},
      "outputs": [],
      "source": [
        "x=2"
      ],
      "id": "d602a521"
    },
    {
      "cell_type": "markdown",
      "metadata": {},
      "source": [
        "One thing you might wonder is that if you change the value of x at some\n",
        "point, does that affect the value of y we defined earlier using x? Let’s\n",
        "check:"
      ],
      "id": "9e89b49b-d14e-47e5-99b5-35635a93e9ee"
    },
    {
      "cell_type": "code",
      "execution_count": null,
      "metadata": {},
      "outputs": [],
      "source": [
        "y"
      ],
      "id": "551282a3"
    },
    {
      "cell_type": "markdown",
      "metadata": {},
      "source": [
        "No. It doesn’t. This y still has the same value it had before which is (\n",
        "5(3) = 15 ) since at the time we assigned y the x was equal to 3. If we\n",
        "want y to update, we would have to assign it again to give it a new\n",
        "value:"
      ],
      "id": "a0c1bb74-372b-4366-a2e8-260b76d37a73"
    },
    {
      "cell_type": "code",
      "execution_count": null,
      "metadata": {},
      "outputs": [],
      "source": [
        "y=5*x"
      ],
      "id": "137823ed"
    },
    {
      "cell_type": "markdown",
      "metadata": {},
      "source": [
        "Now we can see that its value is updated."
      ],
      "id": "5097e640-f59e-42b9-8af1-d1a27d4ad1f1"
    },
    {
      "cell_type": "code",
      "execution_count": null,
      "metadata": {},
      "outputs": [],
      "source": [
        "y"
      ],
      "id": "c87ba102"
    },
    {
      "cell_type": "markdown",
      "metadata": {},
      "source": [
        "It has the value $5(2) = 10$ now since currently the x is assigned to be\n",
        "2.\n",
        "\n",
        "This shows how variables work. As programs are being run, each variable\n",
        "has a current value, which you can check by just typing the name of the\n",
        "variable and executing that line of code.\n",
        "\n",
        "Below we set a couple variables and then print them out:"
      ],
      "id": "a7961f09-1272-4ea0-9905-10391dded318"
    },
    {
      "cell_type": "code",
      "execution_count": null,
      "metadata": {},
      "outputs": [],
      "source": [
        "z=2.3\n",
        "w=5\n",
        "print(z)\n",
        "print(w)"
      ],
      "id": "4e27ce1d"
    },
    {
      "cell_type": "markdown",
      "metadata": {},
      "source": [
        "Now we change z and print it out:"
      ],
      "id": "930e20db-596a-4fd1-bf09-ee475b06327e"
    },
    {
      "cell_type": "code",
      "execution_count": null,
      "metadata": {},
      "outputs": [],
      "source": [
        "z=2*w + 4\n",
        "z"
      ],
      "id": "148a0324"
    },
    {
      "cell_type": "markdown",
      "metadata": {},
      "source": [
        "Since w was 5 above, the new value of z is $2(5) + 4 = 14$\n",
        "\n",
        "Usually for variable assignments, the left hand side is just the\n",
        "variable we are setting while the right hand side can be any\n",
        "mathematical expression. We can use about anything on the right hand\n",
        "side during an assignment. Functions, $\\pi$, other variables…"
      ],
      "id": "ef373f71-9c03-417c-b153-1825343d30d2"
    },
    {
      "cell_type": "code",
      "execution_count": null,
      "metadata": {},
      "outputs": [],
      "source": [
        "import math\n",
        "z=math.sqrt(2*w + 4)\n",
        "z"
      ],
      "id": "63097cf5"
    },
    {
      "cell_type": "markdown",
      "metadata": {},
      "source": [
        "Above we are taking the square root of 14, or in symbols $\\sqrt{14}$."
      ],
      "id": "f27e3d04-f4d6-428b-9a08-b56670332350"
    }
  ],
  "nbformat": 4,
  "nbformat_minor": 5,
  "metadata": {
    "kernelspec": {
      "name": "python3",
      "display_name": "Python 3 (ipykernel)",
      "language": "python"
    }
  }
}
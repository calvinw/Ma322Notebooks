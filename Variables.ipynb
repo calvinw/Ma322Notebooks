{
  "cells": [
    {
      "cell_type": "markdown",
      "metadata": {},
      "source": [
        "# Variables In Python\n",
        "\n",
        "Python is a programming language and so has variables. Variables can\n",
        "hold data, and can be used in calculations and in program logic.\n",
        "Understanding how variables work is very important in any programming\n",
        "language.\n",
        "\n",
        "Lets start by storing a number in a variable. Below we store the number\n",
        "3 in a variable called `x`."
      ],
      "id": "07e7f6e4-d1fb-4c74-92a1-61258be1f0b4"
    },
    {
      "cell_type": "code",
      "execution_count": null,
      "metadata": {},
      "outputs": [],
      "source": [
        "x=3"
      ],
      "id": "f12e8689"
    },
    {
      "cell_type": "markdown",
      "metadata": {},
      "source": [
        "This is typed as an `=` symbol\n",
        "\n",
        "Storing a number in a variable like this is also called an assignment.\n",
        "We are assigning the variable x to be 3.\n",
        "\n",
        "Now the way variables work is that x now has the value 3. So for now\n",
        "anything we do with x, like other calculations or manipulations, it will\n",
        "have the value 3 as we do those calculations.\n",
        "\n",
        "For example, we can just print it out:"
      ],
      "id": "4df9a7a9-c992-42c2-be99-fb2cdf7a557e"
    },
    {
      "cell_type": "code",
      "execution_count": null,
      "metadata": {},
      "outputs": [],
      "source": [
        "x"
      ],
      "id": "666829ce"
    },
    {
      "cell_type": "markdown",
      "metadata": {},
      "source": [
        "We can do arithmetic to it:"
      ],
      "id": "14cf7114-a2ff-4003-8117-026561c04ac1"
    },
    {
      "cell_type": "code",
      "execution_count": null,
      "metadata": {},
      "outputs": [],
      "source": [
        "2*x"
      ],
      "id": "175234ab"
    },
    {
      "cell_type": "markdown",
      "metadata": {},
      "source": [
        "Notice this is 6 since x currently is 3. So $2x=2(3)=6$\n",
        "\n",
        "We can do a calculation using x and store the result in another\n",
        "variable:"
      ],
      "id": "bc63314e-8d3c-46c5-98af-438eacde9e21"
    },
    {
      "cell_type": "code",
      "execution_count": null,
      "metadata": {},
      "outputs": [],
      "source": [
        "y=5*x"
      ],
      "id": "ceb6d860"
    },
    {
      "cell_type": "markdown",
      "metadata": {},
      "source": [
        "Now y will have a value after we do this. What is the current value of\n",
        "y? Since the current value of x is 3, the value of y should be\n",
        "$5(3)=15$. Lets print it out to see if that is true:"
      ],
      "id": "148d8f9e-03c9-459d-be2c-19288b85964a"
    },
    {
      "cell_type": "code",
      "execution_count": null,
      "metadata": {},
      "outputs": [],
      "source": [
        "y"
      ],
      "id": "448d9f44"
    },
    {
      "cell_type": "markdown",
      "metadata": {},
      "source": [
        "Variables can be changed as a program proceeds. They do not always have\n",
        "to hold the value they were initially assigned. (They are called\n",
        "variables after all)\n",
        "\n",
        "For example we can change the value of x as follows with another\n",
        "assignment:"
      ],
      "id": "02251397-04c7-462e-8ff1-8ea48ef4c440"
    },
    {
      "cell_type": "code",
      "execution_count": null,
      "metadata": {},
      "outputs": [],
      "source": [
        "x=2"
      ],
      "id": "39110b94"
    },
    {
      "cell_type": "markdown",
      "metadata": {},
      "source": [
        "One thing you might wonder is that if you change the value of x at some\n",
        "point, does that affect the value of y we defined earlier using x? Let’s\n",
        "check:"
      ],
      "id": "83a9101c-404c-4190-9c90-d69008c7d045"
    },
    {
      "cell_type": "code",
      "execution_count": null,
      "metadata": {},
      "outputs": [],
      "source": [
        "y"
      ],
      "id": "65e6cf9d"
    },
    {
      "cell_type": "markdown",
      "metadata": {},
      "source": [
        "No. It doesn’t. This y still has the same value it had before which is (\n",
        "5(3) = 15 ) since at the time we assigned y the x was equal to 3. If we\n",
        "want y to update, we would have to assign it again to give it a new\n",
        "value:"
      ],
      "id": "01adcf6b-f2a7-4971-af9d-e42c686d8989"
    },
    {
      "cell_type": "code",
      "execution_count": null,
      "metadata": {},
      "outputs": [],
      "source": [
        "y=5*x"
      ],
      "id": "0353ed50"
    },
    {
      "cell_type": "markdown",
      "metadata": {},
      "source": [
        "Now we can see that its value is updated."
      ],
      "id": "f04bb60b-a146-4dd5-8f0e-e8c720aad2d4"
    },
    {
      "cell_type": "code",
      "execution_count": null,
      "metadata": {},
      "outputs": [],
      "source": [
        "y"
      ],
      "id": "ea63aae5"
    },
    {
      "cell_type": "markdown",
      "metadata": {},
      "source": [
        "It has the value $5(2) = 10$ now since currently the x is assigned to be\n",
        "2.\n",
        "\n",
        "This shows how variables work. As programs are being run, each variable\n",
        "has a current value, which you can check by just typing the name of the\n",
        "variable and executing that line of code.\n",
        "\n",
        "Below we set a couple variables and then print them out:"
      ],
      "id": "8aa81297-b8db-4802-8a1a-3e4cf28216b2"
    },
    {
      "cell_type": "code",
      "execution_count": null,
      "metadata": {},
      "outputs": [],
      "source": [
        "z=2.3\n",
        "w=5\n",
        "print(z)\n",
        "print(w)"
      ],
      "id": "f248d6f2"
    },
    {
      "cell_type": "markdown",
      "metadata": {},
      "source": [
        "Now we change z and print it out:"
      ],
      "id": "f506537a-a99b-4df5-9c61-81621d2f7da8"
    },
    {
      "cell_type": "code",
      "execution_count": null,
      "metadata": {},
      "outputs": [],
      "source": [
        "z=2*w + 4\n",
        "z"
      ],
      "id": "79a493c3"
    },
    {
      "cell_type": "markdown",
      "metadata": {},
      "source": [
        "Since w was 5 above, the new value of z is $2(5) + 4 = 14$\n",
        "\n",
        "Usually for variable assignments, the left hand side is just the\n",
        "variable we are setting while the right hand side can be any\n",
        "mathematical expression. We can use about anything on the right hand\n",
        "side during an assignment. Functions, $\\pi$, other variables…"
      ],
      "id": "d19c80e6-74c3-4619-a6a7-e5743ceddbfc"
    },
    {
      "cell_type": "code",
      "execution_count": null,
      "metadata": {},
      "outputs": [],
      "source": [
        "import math\n",
        "z=math.sqrt(2*w + 4)\n",
        "z"
      ],
      "id": "35d51e2a"
    },
    {
      "cell_type": "markdown",
      "metadata": {},
      "source": [
        "Above we are taking the square root of 14, or in symbols $\\sqrt{14}$."
      ],
      "id": "4b99c57f-8f60-4f0d-80ca-f6f8f9d50cc2"
    }
  ],
  "nbformat": 4,
  "nbformat_minor": 5,
  "metadata": {
    "kernelspec": {
      "name": "python3",
      "display_name": "Python 3 (ipykernel)",
      "language": "python"
    }
  }
}
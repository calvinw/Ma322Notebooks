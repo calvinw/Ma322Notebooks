{
  "cells": [
    {
      "cell_type": "markdown",
      "metadata": {},
      "source": [
        "# Variables in Python\n",
        "\n",
        "Python is a programming language and so has variables. Variables can\n",
        "hold data, and can be used in calculations and in program logic.\n",
        "Understanding how variables work is very important in any programming\n",
        "language.\n",
        "\n",
        "Lets start by storing a number in a variable. Below we store the number\n",
        "3 in a variable called `x`."
      ],
      "id": "e7aaec16-3ac4-4a2e-855c-5618636eb077"
    },
    {
      "cell_type": "code",
      "execution_count": null,
      "metadata": {},
      "outputs": [],
      "source": [
        "x=3"
      ],
      "id": "8906bf57"
    },
    {
      "cell_type": "markdown",
      "metadata": {},
      "source": [
        "This is typed as an `=` symbol\n",
        "\n",
        "Storing a number in a variable like this is also called an assignment.\n",
        "We are assigning the variable x to be 3.\n",
        "\n",
        "Now the way variables work is that x now has the value 3. So for now\n",
        "anything we do with x, like other calculations or manipulations, it will\n",
        "have the value 3 as we do those calculations.\n",
        "\n",
        "For example, we can just print it out:"
      ],
      "id": "cbbb097c-3836-41c0-a44f-e5ef33c81653"
    },
    {
      "cell_type": "code",
      "execution_count": null,
      "metadata": {},
      "outputs": [],
      "source": [
        "x"
      ],
      "id": "eb3ac321"
    },
    {
      "cell_type": "markdown",
      "metadata": {},
      "source": [
        "We can do arithmetic to it:"
      ],
      "id": "313c08e4-f7c5-47c8-917f-fc755e99ad09"
    },
    {
      "cell_type": "code",
      "execution_count": null,
      "metadata": {},
      "outputs": [],
      "source": [
        "2*x"
      ],
      "id": "546eca35"
    },
    {
      "cell_type": "markdown",
      "metadata": {},
      "source": [
        "Notice this is 6 since x currently is 3. So $2x=2(3)=6$\n",
        "\n",
        "We can do a calculation using x and store the result in another\n",
        "variable:"
      ],
      "id": "cd5c34ae-41a0-4cf6-a73a-73006f65695c"
    },
    {
      "cell_type": "code",
      "execution_count": null,
      "metadata": {},
      "outputs": [],
      "source": [
        "y=5*x"
      ],
      "id": "0d2d312b"
    },
    {
      "cell_type": "markdown",
      "metadata": {},
      "source": [
        "Now y will have a value after we do this. What is the current value of\n",
        "y? Since the current value of x is 3, the value of y should be\n",
        "$5(3)=15$. Lets print it out to see if that is true:"
      ],
      "id": "c643c654-2458-48ba-a56d-1930107eb560"
    },
    {
      "cell_type": "code",
      "execution_count": null,
      "metadata": {},
      "outputs": [],
      "source": [
        "y"
      ],
      "id": "909df130"
    },
    {
      "cell_type": "markdown",
      "metadata": {},
      "source": [
        "Variables can be changed as a program proceeds. They do not always have\n",
        "to hold the value they were initially assigned. (They are called\n",
        "variables after all)\n",
        "\n",
        "For example we can change the value of x as follows with another\n",
        "assignment:"
      ],
      "id": "bd9d66fd-5756-4dd6-8d6c-c5541fb01181"
    },
    {
      "cell_type": "code",
      "execution_count": null,
      "metadata": {},
      "outputs": [],
      "source": [
        "x=2"
      ],
      "id": "a5ccdcf0"
    },
    {
      "cell_type": "markdown",
      "metadata": {},
      "source": [
        "One thing you might wonder is that if you change the value of x at some\n",
        "point, does that affect the value of y we defined earlier using x? Let’s\n",
        "check:"
      ],
      "id": "18cf264f-0bcd-47c9-b80c-7d3569150329"
    },
    {
      "cell_type": "code",
      "execution_count": null,
      "metadata": {},
      "outputs": [],
      "source": [
        "y"
      ],
      "id": "5c0f0e31"
    },
    {
      "cell_type": "markdown",
      "metadata": {},
      "source": [
        "No. It doesn’t. This y still has the same value it had before which is (\n",
        "5(3) = 15 ) since at the time we assigned y the x was equal to 3. If we\n",
        "want y to update, we would have to assign it again to give it a new\n",
        "value:"
      ],
      "id": "5d85fc29-397f-450b-94ff-a70501371d8a"
    },
    {
      "cell_type": "code",
      "execution_count": null,
      "metadata": {},
      "outputs": [],
      "source": [
        "y=5*x"
      ],
      "id": "3dde856b"
    },
    {
      "cell_type": "markdown",
      "metadata": {},
      "source": [
        "Now we can see that its value is updated."
      ],
      "id": "1a518ad4-e1b9-426e-bd47-af91970dcfe6"
    },
    {
      "cell_type": "code",
      "execution_count": null,
      "metadata": {},
      "outputs": [],
      "source": [
        "y"
      ],
      "id": "d1476d56"
    },
    {
      "cell_type": "markdown",
      "metadata": {},
      "source": [
        "It has the value $5(2) = 10$ now since currently the x is assigned to be\n",
        "2.\n",
        "\n",
        "This shows how variables work. As programs are being run, each variable\n",
        "has a current value, which you can check by just typing the name of the\n",
        "variable and executing that line of code.\n",
        "\n",
        "Below we set a couple variables and then print them out:"
      ],
      "id": "0c2157af-b13f-4e27-ab6d-e973639e5764"
    },
    {
      "cell_type": "code",
      "execution_count": null,
      "metadata": {},
      "outputs": [],
      "source": [
        "z=2.3\n",
        "w=5\n",
        "print(z)\n",
        "print(w)"
      ],
      "id": "5b919fdb"
    },
    {
      "cell_type": "markdown",
      "metadata": {},
      "source": [
        "Now we change z and print it out:"
      ],
      "id": "0379769f-9a20-4861-81f9-e4073635fde2"
    },
    {
      "cell_type": "code",
      "execution_count": null,
      "metadata": {},
      "outputs": [],
      "source": [
        "z=2*w + 4\n",
        "z"
      ],
      "id": "97df2cca"
    },
    {
      "cell_type": "markdown",
      "metadata": {},
      "source": [
        "Since w was 5 above, the new value of z is $2(5) + 4 = 14$\n",
        "\n",
        "Usually for variable assignments, the left hand side is just the\n",
        "variable we are setting while the right hand side can be any\n",
        "mathematical expression. We can use about anything on the right hand\n",
        "side during an assignment. Functions, $\\pi$, other variables…"
      ],
      "id": "6138950a-f968-4b16-aa6c-ed24cb2bd489"
    },
    {
      "cell_type": "code",
      "execution_count": null,
      "metadata": {},
      "outputs": [],
      "source": [
        "import math\n",
        "z=math.sqrt(2*w + 4)\n",
        "z"
      ],
      "id": "fa448e26"
    },
    {
      "cell_type": "markdown",
      "metadata": {},
      "source": [
        "Above we are taking the square root of 14, or in symbols $\\sqrt{14}$."
      ],
      "id": "138a5ab9-fa85-44f8-9561-df0242fca652"
    }
  ],
  "nbformat": 4,
  "nbformat_minor": 5,
  "metadata": {
    "kernelspec": {
      "name": "python3",
      "display_name": "Python 3 (ipykernel)",
      "language": "python"
    }
  }
}
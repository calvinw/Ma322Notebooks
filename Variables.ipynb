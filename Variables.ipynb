{
  "cells": [
    {
      "cell_type": "markdown",
      "metadata": {},
      "source": [
        "# Variables In Python\n",
        "\n",
        "Python is a programming language and so has variables. Variables can\n",
        "hold data, and can be used in calculations and in program logic.\n",
        "Understanding how variables work is very important in any programming\n",
        "language.\n",
        "\n",
        "Lets start by storing a number in a variable. Below we store the number\n",
        "3 in a variable called `x`."
      ],
      "id": "00268fa1-1be7-4a57-bba1-b6fa50d9fbcf"
    },
    {
      "cell_type": "code",
      "execution_count": null,
      "metadata": {},
      "outputs": [],
      "source": [
        "x=3"
      ],
      "id": "41b0bd35"
    },
    {
      "cell_type": "markdown",
      "metadata": {},
      "source": [
        "This is typed as an `=` symbol\n",
        "\n",
        "Storing a number in a variable like this is also called an assignment.\n",
        "We are assigning the variable x to be 3.\n",
        "\n",
        "Now the way variables work is that x now has the value 3. So for now\n",
        "anything we do with x, like other calculations or manipulations, it will\n",
        "have the value 3 as we do those calculations.\n",
        "\n",
        "For example, we can just print it out:"
      ],
      "id": "0792ddb0-ad24-4807-9a57-c8ca71a4551b"
    },
    {
      "cell_type": "code",
      "execution_count": null,
      "metadata": {},
      "outputs": [],
      "source": [
        "x"
      ],
      "id": "81bb7ff8"
    },
    {
      "cell_type": "markdown",
      "metadata": {},
      "source": [
        "We can do arithmetic to it:"
      ],
      "id": "a72c1dce-fc8d-4adb-9173-921680efdeb0"
    },
    {
      "cell_type": "code",
      "execution_count": null,
      "metadata": {},
      "outputs": [],
      "source": [
        "2*x"
      ],
      "id": "33306463"
    },
    {
      "cell_type": "markdown",
      "metadata": {},
      "source": [
        "Notice this is 6 since x currently is 3. So $2x=2(3)=6$\n",
        "\n",
        "We can do a calculation using x and store the result in another\n",
        "variable:"
      ],
      "id": "c3da523e-c1d6-4f97-924f-9ac84e72e29b"
    },
    {
      "cell_type": "code",
      "execution_count": null,
      "metadata": {},
      "outputs": [],
      "source": [
        "y=5*x"
      ],
      "id": "8f053fb6"
    },
    {
      "cell_type": "markdown",
      "metadata": {},
      "source": [
        "Now y will have a value after we do this. What is the current value of\n",
        "y? Since the current value of x is 3, the value of y should be\n",
        "$5(3)=15$. Lets print it out to see if that is true:"
      ],
      "id": "2559f373-df0d-4c9a-8388-ebde9c1ce41a"
    },
    {
      "cell_type": "code",
      "execution_count": null,
      "metadata": {},
      "outputs": [],
      "source": [
        "y"
      ],
      "id": "6936124a"
    },
    {
      "cell_type": "markdown",
      "metadata": {},
      "source": [
        "Variables can be changed as a program proceeds. They do not always have\n",
        "to hold the value they were initially assigned. (They are called\n",
        "variables after all)\n",
        "\n",
        "For example we can change the value of x as follows with another\n",
        "assignment:"
      ],
      "id": "58a84adb-12ee-4bee-ad6f-8a70ac70ac0c"
    },
    {
      "cell_type": "code",
      "execution_count": null,
      "metadata": {},
      "outputs": [],
      "source": [
        "x=2"
      ],
      "id": "4c69fbf1"
    },
    {
      "cell_type": "markdown",
      "metadata": {},
      "source": [
        "One thing you might wonder is that if you change the value of x at some\n",
        "point, does that affect the value of y we defined earlier using x? Let’s\n",
        "check:"
      ],
      "id": "365bb549-b5e2-4b25-9709-1f1eff41f63b"
    },
    {
      "cell_type": "code",
      "execution_count": null,
      "metadata": {},
      "outputs": [],
      "source": [
        "y"
      ],
      "id": "c9ddda04"
    },
    {
      "cell_type": "markdown",
      "metadata": {},
      "source": [
        "No. It doesn’t. This y still has the same value it had before which is (\n",
        "5(3) = 15 ) since at the time we assigned y the x was equal to 3. If we\n",
        "want y to update, we would have to assign it again to give it a new\n",
        "value:"
      ],
      "id": "b9113b1e-fbcf-4e11-850c-5ba228399f29"
    },
    {
      "cell_type": "code",
      "execution_count": null,
      "metadata": {},
      "outputs": [],
      "source": [
        "y=5*x"
      ],
      "id": "7cd1f1b0"
    },
    {
      "cell_type": "markdown",
      "metadata": {},
      "source": [
        "Now we can see that its value is updated."
      ],
      "id": "ea868ba9-04e4-4b1b-909e-4f1400dd3ddb"
    },
    {
      "cell_type": "code",
      "execution_count": null,
      "metadata": {},
      "outputs": [],
      "source": [
        "y"
      ],
      "id": "801f20ad"
    },
    {
      "cell_type": "markdown",
      "metadata": {},
      "source": [
        "It has the value $5(2) = 10$ now since currently the x is assigned to be\n",
        "2.\n",
        "\n",
        "This shows how variables work. As programs are being run, each variable\n",
        "has a current value, which you can check by just typing the name of the\n",
        "variable and executing that line of code.\n",
        "\n",
        "Below we set a couple variables and then print them out:"
      ],
      "id": "87096005-6a26-4700-bb7e-9030ba64e55e"
    },
    {
      "cell_type": "code",
      "execution_count": null,
      "metadata": {},
      "outputs": [],
      "source": [
        "z=2.3\n",
        "w=5\n",
        "print(z)\n",
        "print(w)"
      ],
      "id": "b2972a32"
    },
    {
      "cell_type": "markdown",
      "metadata": {},
      "source": [
        "Now we change z and print it out:"
      ],
      "id": "f60e6dbe-7fb9-4541-b5bf-ad84afd741e7"
    },
    {
      "cell_type": "code",
      "execution_count": null,
      "metadata": {},
      "outputs": [],
      "source": [
        "z=2*w + 4\n",
        "z"
      ],
      "id": "077a36ee"
    },
    {
      "cell_type": "markdown",
      "metadata": {},
      "source": [
        "Since w was 5 above, the new value of z is $2(5) + 4 = 14$\n",
        "\n",
        "Usually for variable assignments, the left hand side is just the\n",
        "variable we are setting while the right hand side can be any\n",
        "mathematical expression. We can use about anything on the right hand\n",
        "side during an assignment. Functions, $\\pi$, other variables…"
      ],
      "id": "9a48e0f5-d16e-4d9e-a633-80a01195ae91"
    },
    {
      "cell_type": "code",
      "execution_count": null,
      "metadata": {},
      "outputs": [],
      "source": [
        "import math\n",
        "z=math.sqrt(2*w + 4)\n",
        "z"
      ],
      "id": "8186f488"
    },
    {
      "cell_type": "markdown",
      "metadata": {},
      "source": [
        "Above we are taking the square root of 14, or in symbols $\\sqrt{14}$."
      ],
      "id": "15fd1261-2f56-4438-90ca-fc39356c771e"
    }
  ],
  "nbformat": 4,
  "nbformat_minor": 5,
  "metadata": {
    "kernelspec": {
      "name": "python3",
      "display_name": "Python 3 (ipykernel)",
      "language": "python"
    }
  }
}
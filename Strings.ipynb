{
  "cells": [
    {
      "cell_type": "markdown",
      "metadata": {},
      "source": [
        "# Strings in Python\n",
        "\n",
        "Strings are sequences of characters used to represent text data in\n",
        "Python. Here are some essential concepts related to strings:\n",
        "\n",
        "## Defining Strings\n",
        "\n",
        "You can define strings with single quotes, double quotes and even triple\n",
        "quotes.\n",
        "\n",
        "Single quotes and double quotes work basically the same way.\n",
        "\n",
        "### Single Quotes\n",
        "\n",
        "Single quotes work fine for defining a string. This will print “Hello,\n",
        "World!” to the console."
      ],
      "id": "5e2ba17c-8ddf-4d4e-9fa6-ab090eed358f"
    },
    {
      "cell_type": "code",
      "execution_count": null,
      "metadata": {},
      "outputs": [],
      "source": [
        "aString = 'Hello, World!'\n",
        "\n",
        "print(aString)"
      ],
      "id": "5150a6e5"
    },
    {
      "cell_type": "markdown",
      "metadata": {},
      "source": [
        "### Double Quotes\n",
        "\n",
        "Double quotes also work for defining a string and will print the same\n",
        "output as the single quotes example above."
      ],
      "id": "036ca54b-6e5d-450e-ba08-5c54283a18f0"
    },
    {
      "cell_type": "code",
      "execution_count": null,
      "metadata": {},
      "outputs": [],
      "source": [
        "aString = \"Hello, World!\"\n",
        "\n",
        "print(aString)"
      ],
      "id": "46125b26"
    },
    {
      "cell_type": "markdown",
      "metadata": {},
      "source": [
        "One of the nice things about having both single and double quotes is you\n",
        "can use one type to include the other type of quote inside your string.\n",
        "\n",
        "### Quotes Inside A String"
      ],
      "id": "cc5f8506-289d-4530-8920-8cfdbb026e00"
    },
    {
      "cell_type": "code",
      "execution_count": null,
      "metadata": {},
      "outputs": [],
      "source": [
        "aString = \"Type the string 'Hello World' into a code cell.\"\n",
        "\n",
        "print(aString)"
      ],
      "id": "0864af96"
    },
    {
      "cell_type": "markdown",
      "metadata": {},
      "source": [
        "This example uses double quotes to define the string, allowing single\n",
        "quotes to be included inside the string. This will print:\n",
        "`Type the string 'Hello World' into a code cell.`\n",
        "\n",
        "### Triple Quotes (Multiline Strings)\n",
        "\n",
        "Triple quotes allow you to define a string that spans multiple lines.\n",
        "This example will print the string with line breaks preserved."
      ],
      "id": "83dda64c-0a67-4cd9-8eff-5676a0da552c"
    },
    {
      "cell_type": "code",
      "execution_count": null,
      "metadata": {},
      "outputs": [],
      "source": [
        "aString = \"\"\"This is a\n",
        "multiline\n",
        "string.\"\"\"\n",
        "\n",
        "print(aString)"
      ],
      "id": "5099563a"
    },
    {
      "cell_type": "markdown",
      "metadata": {},
      "source": [
        "## Accessing Parts of a String (Indexing)\n",
        "\n",
        "Strings in Python are indexed, so you can access individual characters\n",
        "or substrings using their position(s) in the string."
      ],
      "id": "e8028a64-f30d-43ae-af64-fe8a03bcb1ed"
    },
    {
      "cell_type": "code",
      "execution_count": null,
      "metadata": {},
      "outputs": [],
      "source": [
        "aString = \"Hello, I am from Spain\"\n",
        "\n",
        "# Prints 'H' - this accesses the first character of the string\n",
        "print(aString[0])\n",
        "\n",
        "# Prints 'e' - this accesses the second character of the string\n",
        "print(aString[1])\n",
        "\n",
        "# Prints 'n' - this accesses the last character of the string\n",
        "print(aString[-1])\n",
        "\n",
        "# Prints 'i' - this accesses the next to last character of the string\n",
        "print(aString[-2])\n",
        "\n",
        "# Prints 'from' - a substring using slicing from index 12 to 15 (one before 16)\n",
        "print(aString[12:16])"
      ],
      "id": "e432b288"
    },
    {
      "cell_type": "markdown",
      "metadata": {},
      "source": [
        "## Concatenating Strings\n",
        "\n",
        "You can join or concatenate two strings together using the + operator."
      ],
      "id": "670a8b1b-41b9-4457-a9ef-fd6268a4a66a"
    },
    {
      "cell_type": "code",
      "execution_count": null,
      "metadata": {},
      "outputs": [],
      "source": [
        "aString1 = \"Hello, \"\n",
        "aString2 = \"World!\"\n",
        "\n",
        "# Prints 'Hello, World!' by joining the two strings\n",
        "print(aString1 + aString2)"
      ],
      "id": "750e0601"
    },
    {
      "cell_type": "markdown",
      "metadata": {},
      "source": [
        "## Replicating Strings\n",
        "\n",
        "You can repeat or replicate a string by using the \\* operator along with\n",
        "an integer value."
      ],
      "id": "d32638b8-2e37-46d1-b76d-653788598343"
    },
    {
      "cell_type": "code",
      "execution_count": null,
      "metadata": {},
      "outputs": [],
      "source": [
        "aString = \"Hello! \" * 3\n",
        "\n",
        "# Prints 'Hello! Hello! Hello! ' by repeating the string 3 times\n",
        "print(aString)"
      ],
      "id": "d66e645c"
    },
    {
      "cell_type": "markdown",
      "metadata": {},
      "source": [
        "## String Methods\n",
        "\n",
        "Strings come with a variety of built-in methods that allow you to\n",
        "perform common operations on them.\n",
        "\n",
        "### replace()\n",
        "\n",
        "The replace() method allows you to replace a portion of the string with\n",
        "a new substring."
      ],
      "id": "eb4aec8e-1cf5-4e29-94b8-18d0d29b56dd"
    },
    {
      "cell_type": "code",
      "execution_count": null,
      "metadata": {},
      "outputs": [],
      "source": [
        "aString = \"Hello, World!\"\n",
        "\n",
        "# Replacing 'World' with 'Python'\n",
        "newString = aString.replace(\"World\", \"Python\")\n",
        "\n",
        "print(newString)"
      ],
      "id": "957c559c"
    },
    {
      "cell_type": "markdown",
      "metadata": {},
      "source": [
        "### split()\n",
        "\n",
        "The split() method splits the string into a list of substrings based on\n",
        "the specified separator (in this case, a comma)."
      ],
      "id": "8decd687-2024-4406-9e9f-3e35ddc87d3b"
    },
    {
      "cell_type": "code",
      "execution_count": null,
      "metadata": {},
      "outputs": [],
      "source": [
        "aString = \"Hello,World,Python\"\n",
        "\n",
        "# Prints ['Hello', 'World', 'Python'] by splitting the string at commas\n",
        "words = aString.split(',')\n",
        "\n",
        "print(words)"
      ],
      "id": "e21a49be"
    },
    {
      "cell_type": "markdown",
      "metadata": {},
      "source": [
        "### join()\n",
        "\n",
        "The join() method is the opposite of split(). It joins the elements of a\n",
        "list into a single string, using the string it is called on as the\n",
        "separator."
      ],
      "id": "5cd74ec9-266b-40c5-8c92-207c9eb68e97"
    },
    {
      "cell_type": "code",
      "execution_count": null,
      "metadata": {},
      "outputs": [],
      "source": [
        "words = ['Hello', 'World', 'Python']\n",
        "\n",
        "# Joining the list with ', '\n",
        "aString = ', '.join(words)\n",
        "\n",
        "print(aString)"
      ],
      "id": "786f1995"
    },
    {
      "cell_type": "markdown",
      "metadata": {},
      "source": [
        "## Length of a String\n",
        "\n",
        "The len() function returns the length of a string, counting the number\n",
        "of characters it contains."
      ],
      "id": "0013a365-b06f-4a17-ae45-d08f3229c13f"
    },
    {
      "cell_type": "code",
      "execution_count": null,
      "metadata": {},
      "outputs": [],
      "source": [
        "aString = \"Hello, World!\"\n",
        "\n",
        "# Prints 13, which is the length of the string\n",
        "print(len(aString))"
      ],
      "id": "b5921053"
    }
  ],
  "nbformat": 4,
  "nbformat_minor": 5,
  "metadata": {
    "kernelspec": {
      "name": "python3",
      "display_name": "Python 3 (ipykernel)",
      "language": "python"
    }
  }
}
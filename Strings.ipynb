{
  "cells": [
    {
      "cell_type": "markdown",
      "metadata": {},
      "source": [
        "# Strings in Python\n",
        "\n",
        "Strings are sequences of characters used to represent text data in\n",
        "Python. Here are some essential concepts related to strings:\n",
        "\n",
        "## Defining Strings\n",
        "\n",
        "You can define strings with single quotes, double quotes and even triple\n",
        "quotes.\n",
        "\n",
        "Single quotes and double quotes work basically the same way.\n",
        "\n",
        "### Single Quotes\n",
        "\n",
        "Single quotes work fine for defining a string. This will print “Hello,\n",
        "World!” to the console."
      ],
      "id": "9a591cce-8754-496a-b1fb-c7f114273289"
    },
    {
      "cell_type": "code",
      "execution_count": null,
      "metadata": {},
      "outputs": [],
      "source": [
        "aString = 'Hello, World!'\n",
        "\n",
        "print(aString)"
      ],
      "id": "3e3236bf"
    },
    {
      "cell_type": "markdown",
      "metadata": {},
      "source": [
        "### Double Quotes\n",
        "\n",
        "Double quotes also work for defining a string and will print the same\n",
        "output as the single quotes example above."
      ],
      "id": "c09d85d5-e496-450f-841a-ddf73de9df74"
    },
    {
      "cell_type": "code",
      "execution_count": null,
      "metadata": {},
      "outputs": [],
      "source": [
        "aString = \"Hello, World!\"\n",
        "\n",
        "print(aString)"
      ],
      "id": "06fea7a1"
    },
    {
      "cell_type": "markdown",
      "metadata": {},
      "source": [
        "One of the nice things about having both single and double quotes is you\n",
        "can use one type to include the other type of quote inside your string.\n",
        "\n",
        "### Quotes Inside A String"
      ],
      "id": "0389de3a-063c-4fae-aeaa-31c9b7039d0a"
    },
    {
      "cell_type": "code",
      "execution_count": null,
      "metadata": {},
      "outputs": [],
      "source": [
        "aString = \"Type the string 'Hello World' into a code cell.\"\n",
        "\n",
        "print(aString)"
      ],
      "id": "e358976d"
    },
    {
      "cell_type": "markdown",
      "metadata": {},
      "source": [
        "This example uses double quotes to define the string, allowing single\n",
        "quotes to be included inside the string. This will print:\n",
        "`Type the string 'Hello World' into a code cell.`\n",
        "\n",
        "### Triple Quotes (Multiline Strings)\n",
        "\n",
        "Triple quotes allow you to define a string that spans multiple lines.\n",
        "This example will print the string with line breaks preserved."
      ],
      "id": "0610d9fe-e2f2-4463-b77e-5073f3e82c00"
    },
    {
      "cell_type": "code",
      "execution_count": null,
      "metadata": {},
      "outputs": [],
      "source": [
        "aString = \"\"\"This is a\n",
        "multiline\n",
        "string.\"\"\"\n",
        "\n",
        "print(aString)"
      ],
      "id": "2ffc8c0d"
    },
    {
      "cell_type": "markdown",
      "metadata": {},
      "source": [
        "## Accessing Parts of a String (Indexing)\n",
        "\n",
        "Strings in Python are indexed, so you can access individual characters\n",
        "or substrings using their position(s) in the string."
      ],
      "id": "2043c561-ba33-4760-a785-a255a123603c"
    },
    {
      "cell_type": "code",
      "execution_count": null,
      "metadata": {},
      "outputs": [],
      "source": [
        "aString = \"Hello, I am from Spain\"\n",
        "\n",
        "# Prints 'H' - this accesses the first character of the string\n",
        "print(aString[0])\n",
        "\n",
        "# Prints 'e' - this accesses the second character of the string\n",
        "print(aString[1])\n",
        "\n",
        "# Prints 'n' - this accesses the last character of the string\n",
        "print(aString[-1])\n",
        "\n",
        "# Prints 'i' - this accesses the next to last character of the string\n",
        "print(aString[-2])\n",
        "\n",
        "# Prints 'from' - a substring using slicing from index 12 to 15 (one before 16)\n",
        "print(aString[12:16])"
      ],
      "id": "fc15705b"
    },
    {
      "cell_type": "markdown",
      "metadata": {},
      "source": [
        "## Concatenating Strings\n",
        "\n",
        "You can join or concatenate two strings together using the + operator."
      ],
      "id": "f7dfdce2-bc1b-4add-9f04-017f060f1ad6"
    },
    {
      "cell_type": "code",
      "execution_count": null,
      "metadata": {},
      "outputs": [],
      "source": [
        "aString1 = \"Hello, \"\n",
        "aString2 = \"World!\"\n",
        "\n",
        "# Prints 'Hello, World!' by joining the two strings\n",
        "print(aString1 + aString2)"
      ],
      "id": "08ef3f90"
    },
    {
      "cell_type": "markdown",
      "metadata": {},
      "source": [
        "## Replicating Strings\n",
        "\n",
        "You can repeat or replicate a string by using the \\* operator along with\n",
        "an integer value."
      ],
      "id": "31139e38-9933-412c-915e-13b79106dfb1"
    },
    {
      "cell_type": "code",
      "execution_count": null,
      "metadata": {},
      "outputs": [],
      "source": [
        "aString = \"Hello! \" * 3\n",
        "\n",
        "# Prints 'Hello! Hello! Hello! ' by repeating the string 3 times\n",
        "print(aString)"
      ],
      "id": "1da2eaa4"
    },
    {
      "cell_type": "markdown",
      "metadata": {},
      "source": [
        "## String Methods\n",
        "\n",
        "Strings come with a variety of built-in methods that allow you to\n",
        "perform common operations on them.\n",
        "\n",
        "### replace()\n",
        "\n",
        "The replace() method allows you to replace a portion of the string with\n",
        "a new substring."
      ],
      "id": "ac4cdf6f-e11d-4080-9d57-43865c1e2a08"
    },
    {
      "cell_type": "code",
      "execution_count": null,
      "metadata": {},
      "outputs": [],
      "source": [
        "aString = \"Hello, World!\"\n",
        "\n",
        "# Replacing 'World' with 'Python'\n",
        "newString = aString.replace(\"World\", \"Python\")\n",
        "\n",
        "print(newString)"
      ],
      "id": "9ef50689"
    },
    {
      "cell_type": "markdown",
      "metadata": {},
      "source": [
        "### split()\n",
        "\n",
        "The split() method splits the string into a list of substrings based on\n",
        "the specified separator (in this case, a comma)."
      ],
      "id": "0ff749ea-fbea-4861-9882-a55b2aa0887d"
    },
    {
      "cell_type": "code",
      "execution_count": null,
      "metadata": {},
      "outputs": [],
      "source": [
        "aString = \"Hello,World,Python\"\n",
        "\n",
        "# Prints ['Hello', 'World', 'Python'] by splitting the string at commas\n",
        "words = aString.split(',')\n",
        "\n",
        "print(words)"
      ],
      "id": "55af0597"
    },
    {
      "cell_type": "markdown",
      "metadata": {},
      "source": [
        "### join()\n",
        "\n",
        "The join() method is the opposite of split(). It joins the elements of a\n",
        "list into a single string, using the string it is called on as the\n",
        "separator."
      ],
      "id": "74439d5b-392a-4f5b-b7a7-aeeffe202a34"
    },
    {
      "cell_type": "code",
      "execution_count": null,
      "metadata": {},
      "outputs": [],
      "source": [
        "words = ['Hello', 'World', 'Python']\n",
        "\n",
        "# Joining the list with ', '\n",
        "aString = ', '.join(words)\n",
        "\n",
        "print(aString)"
      ],
      "id": "504c4a53"
    },
    {
      "cell_type": "markdown",
      "metadata": {},
      "source": [
        "## Length of a String\n",
        "\n",
        "The len() function returns the length of a string, counting the number\n",
        "of characters it contains."
      ],
      "id": "e9a1f435-bca2-4843-b4c2-eba3c452a7bd"
    },
    {
      "cell_type": "code",
      "execution_count": null,
      "metadata": {},
      "outputs": [],
      "source": [
        "aString = \"Hello, World!\"\n",
        "\n",
        "# Prints 13, which is the length of the string\n",
        "print(len(aString))"
      ],
      "id": "caae7b03"
    }
  ],
  "nbformat": 4,
  "nbformat_minor": 5,
  "metadata": {
    "kernelspec": {
      "name": "python3",
      "display_name": "Python 3 (ipykernel)",
      "language": "python"
    }
  }
}
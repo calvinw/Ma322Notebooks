{
  "cells": [
    {
      "cell_type": "markdown",
      "metadata": {},
      "source": [
        "# Strings in Python\n",
        "\n",
        "Strings are sequences of characters used to represent text data in\n",
        "Python. Here are some essential concepts related to strings:\n",
        "\n",
        "## Defining Strings\n",
        "\n",
        "You can define strings with single quotes, double quotes and even triple\n",
        "quotes.\n",
        "\n",
        "Single quotes and double quotes work basically the same way.\n",
        "\n",
        "### Single Quotes\n",
        "\n",
        "Single quotes work fine for defining a string. This will print “Hello,\n",
        "World!” to the console."
      ],
      "id": "d0b8c539-6b81-4e08-b85e-9bc06c5623cf"
    },
    {
      "cell_type": "code",
      "execution_count": null,
      "metadata": {},
      "outputs": [],
      "source": [
        "aString = 'Hello, World!'\n",
        "\n",
        "print(aString)"
      ],
      "id": "ada6f795"
    },
    {
      "cell_type": "markdown",
      "metadata": {},
      "source": [
        "### Double Quotes\n",
        "\n",
        "Double quotes also work for defining a string and will print the same\n",
        "output as the single quotes example above."
      ],
      "id": "2cf08f0a-8091-4eb0-bfb9-274ec53eb075"
    },
    {
      "cell_type": "code",
      "execution_count": null,
      "metadata": {},
      "outputs": [],
      "source": [
        "aString = \"Hello, World!\"\n",
        "\n",
        "print(aString)"
      ],
      "id": "517212d0"
    },
    {
      "cell_type": "markdown",
      "metadata": {},
      "source": [
        "One of the nice things about having both single and double quotes is you\n",
        "can use one type to include the other type of quote inside your string.\n",
        "\n",
        "### Quotes Inside A String"
      ],
      "id": "e355013f-d802-4c34-a8ba-646aa48acfe6"
    },
    {
      "cell_type": "code",
      "execution_count": null,
      "metadata": {},
      "outputs": [],
      "source": [
        "aString = \"Type the string 'Hello World' into a code cell.\"\n",
        "\n",
        "print(aString)"
      ],
      "id": "7cf18abd"
    },
    {
      "cell_type": "markdown",
      "metadata": {},
      "source": [
        "This example uses double quotes to define the string, allowing single\n",
        "quotes to be included inside the string. This will print:\n",
        "`Type the string 'Hello World' into a code cell.`\n",
        "\n",
        "### Triple Quotes (Multiline Strings)\n",
        "\n",
        "Triple quotes allow you to define a string that spans multiple lines.\n",
        "This example will print the string with line breaks preserved."
      ],
      "id": "e41f955e-9a02-40f3-86a2-0d56e83eadc9"
    },
    {
      "cell_type": "code",
      "execution_count": null,
      "metadata": {},
      "outputs": [],
      "source": [
        "aString = \"\"\"This is a\n",
        "multiline\n",
        "string.\"\"\"\n",
        "\n",
        "print(aString)"
      ],
      "id": "d472982f"
    },
    {
      "cell_type": "markdown",
      "metadata": {},
      "source": [
        "## Accessing Parts of a String (Indexing)\n",
        "\n",
        "Strings in Python are indexed, so you can access individual characters\n",
        "or substrings using their position(s) in the string."
      ],
      "id": "6c8a1541-1adb-43b9-acbc-91cfe965af7d"
    },
    {
      "cell_type": "code",
      "execution_count": null,
      "metadata": {},
      "outputs": [],
      "source": [
        "aString = \"Hello, I am from Spain\"\n",
        "\n",
        "# Prints 'H' - this accesses the first character of the string\n",
        "print(aString[0])\n",
        "\n",
        "# Prints 'e' - this accesses the second character of the string\n",
        "print(aString[1])\n",
        "\n",
        "# Prints 'n' - this accesses the last character of the string\n",
        "print(aString[-1])\n",
        "\n",
        "# Prints 'i' - this accesses the next to last character of the string\n",
        "print(aString[-2])\n",
        "\n",
        "# Prints 'from' - a substring using slicing from index 12 to 15 (one before 16)\n",
        "print(aString[12:16])"
      ],
      "id": "55d8b8d3"
    },
    {
      "cell_type": "markdown",
      "metadata": {},
      "source": [
        "## Concatenating Strings\n",
        "\n",
        "You can join or concatenate two strings together using the + operator."
      ],
      "id": "ac55a28d-6f2f-4241-94a7-68be43b39dfa"
    },
    {
      "cell_type": "code",
      "execution_count": null,
      "metadata": {},
      "outputs": [],
      "source": [
        "aString1 = \"Hello, \"\n",
        "aString2 = \"World!\"\n",
        "\n",
        "# Prints 'Hello, World!' by joining the two strings\n",
        "print(aString1 + aString2)"
      ],
      "id": "daf78183"
    },
    {
      "cell_type": "markdown",
      "metadata": {},
      "source": [
        "## Replicating Strings\n",
        "\n",
        "You can repeat or replicate a string by using the \\* operator along with\n",
        "an integer value."
      ],
      "id": "8ad0f841-5de2-451f-a7db-8ffb7d847ecb"
    },
    {
      "cell_type": "code",
      "execution_count": null,
      "metadata": {},
      "outputs": [],
      "source": [
        "aString = \"Hello! \" * 3\n",
        "\n",
        "# Prints 'Hello! Hello! Hello! ' by repeating the string 3 times\n",
        "print(aString)"
      ],
      "id": "6324f272"
    },
    {
      "cell_type": "markdown",
      "metadata": {},
      "source": [
        "## String Methods\n",
        "\n",
        "Strings come with a variety of built-in methods that allow you to\n",
        "perform common operations on them.\n",
        "\n",
        "### replace()\n",
        "\n",
        "The replace() method allows you to replace a portion of the string with\n",
        "a new substring."
      ],
      "id": "63795896-1bb3-4d47-9392-29823f75f426"
    },
    {
      "cell_type": "code",
      "execution_count": null,
      "metadata": {},
      "outputs": [],
      "source": [
        "aString = \"Hello, World!\"\n",
        "\n",
        "# Replacing 'World' with 'Python'\n",
        "newString = aString.replace(\"World\", \"Python\")\n",
        "\n",
        "print(newString)"
      ],
      "id": "73c267dd"
    },
    {
      "cell_type": "markdown",
      "metadata": {},
      "source": [
        "### split()\n",
        "\n",
        "The split() method splits the string into a list of substrings based on\n",
        "the specified separator (in this case, a comma)."
      ],
      "id": "08466398-eea8-4d35-a97a-d2206d007a25"
    },
    {
      "cell_type": "code",
      "execution_count": null,
      "metadata": {},
      "outputs": [],
      "source": [
        "aString = \"Hello,World,Python\"\n",
        "\n",
        "# Prints ['Hello', 'World', 'Python'] by splitting the string at commas\n",
        "words = aString.split(',')\n",
        "\n",
        "print(words)"
      ],
      "id": "2b17c7bf"
    },
    {
      "cell_type": "markdown",
      "metadata": {},
      "source": [
        "### join()\n",
        "\n",
        "The join() method is the opposite of split(). It joins the elements of a\n",
        "list into a single string, using the string it is called on as the\n",
        "separator."
      ],
      "id": "9d7bd0fd-36c5-4e50-8c0a-40bcb59db756"
    },
    {
      "cell_type": "code",
      "execution_count": null,
      "metadata": {},
      "outputs": [],
      "source": [
        "words = ['Hello', 'World', 'Python']\n",
        "\n",
        "# Joining the list with ', '\n",
        "aString = ', '.join(words)\n",
        "\n",
        "print(aString)"
      ],
      "id": "cf02506b"
    },
    {
      "cell_type": "markdown",
      "metadata": {},
      "source": [
        "## Length of a String\n",
        "\n",
        "The len() function returns the length of a string, counting the number\n",
        "of characters it contains."
      ],
      "id": "ee6abc02-914d-4ffa-8741-c359fd2f94b4"
    },
    {
      "cell_type": "code",
      "execution_count": null,
      "metadata": {},
      "outputs": [],
      "source": [
        "aString = \"Hello, World!\"\n",
        "\n",
        "# Prints 13, which is the length of the string\n",
        "print(len(aString))"
      ],
      "id": "e29ad4e4"
    }
  ],
  "nbformat": 4,
  "nbformat_minor": 5,
  "metadata": {
    "kernelspec": {
      "name": "python3",
      "display_name": "Python 3 (ipykernel)",
      "language": "python"
    }
  }
}
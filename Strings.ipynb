{
  "cells": [
    {
      "cell_type": "markdown",
      "metadata": {},
      "source": [
        "# Strings in Python\n",
        "\n",
        "Strings are sequences of characters used to represent text data in\n",
        "Python. Here are some essential concepts related to strings:\n",
        "\n",
        "## Defining Strings\n",
        "\n",
        "You can define strings with single quotes, double quotes and even triple\n",
        "quotes.\n",
        "\n",
        "Single quotes and double quotes work basically the same way.\n",
        "\n",
        "### Single Quotes\n",
        "\n",
        "Single quotes work fine for defining a string. This will print “Hello,\n",
        "World!” to the console."
      ],
      "id": "b889a54e-8c31-4e27-b294-2c5e2842d4cf"
    },
    {
      "cell_type": "code",
      "execution_count": null,
      "metadata": {},
      "outputs": [],
      "source": [
        "aString = 'Hello, World!'\n",
        "\n",
        "print(aString)"
      ],
      "id": "873e9e63"
    },
    {
      "cell_type": "markdown",
      "metadata": {},
      "source": [
        "### Double Quotes\n",
        "\n",
        "Double quotes also work for defining a string and will print the same\n",
        "output as the single quotes example above."
      ],
      "id": "058e459c-5878-49c9-824a-c26a80a3af09"
    },
    {
      "cell_type": "code",
      "execution_count": null,
      "metadata": {},
      "outputs": [],
      "source": [
        "aString = \"Hello, World!\"\n",
        "\n",
        "print(aString)"
      ],
      "id": "15184bc3"
    },
    {
      "cell_type": "markdown",
      "metadata": {},
      "source": [
        "One of the nice things about having both single and double quotes is you\n",
        "can use one type to include the other type of quote inside your string.\n",
        "\n",
        "### Quotes Inside A String"
      ],
      "id": "f947d6ce-34ad-4062-b3ea-da92423e9525"
    },
    {
      "cell_type": "code",
      "execution_count": null,
      "metadata": {},
      "outputs": [],
      "source": [
        "aString = \"Type the string 'Hello World' into a code cell.\"\n",
        "\n",
        "print(aString)"
      ],
      "id": "74e2a953"
    },
    {
      "cell_type": "markdown",
      "metadata": {},
      "source": [
        "This example uses double quotes to define the string, allowing single\n",
        "quotes to be included inside the string. This will print:\n",
        "`Type the string 'Hello World' into a code cell.`\n",
        "\n",
        "### Triple Quotes (Multiline Strings)\n",
        "\n",
        "Triple quotes allow you to define a string that spans multiple lines.\n",
        "This example will print the string with line breaks preserved."
      ],
      "id": "d1c1a90f-0420-4e96-b6d7-b05c56b57a8a"
    },
    {
      "cell_type": "code",
      "execution_count": null,
      "metadata": {},
      "outputs": [],
      "source": [
        "aString = \"\"\"This is a\n",
        "multiline\n",
        "string.\"\"\"\n",
        "\n",
        "print(aString)"
      ],
      "id": "7e9a8b7f"
    },
    {
      "cell_type": "markdown",
      "metadata": {},
      "source": [
        "## Accessing Parts of a String (Indexing)\n",
        "\n",
        "Strings in Python are indexed, so you can access individual characters\n",
        "or substrings using their position(s) in the string."
      ],
      "id": "c87d76ed-ab59-444e-b0c4-f8134d79fd60"
    },
    {
      "cell_type": "code",
      "execution_count": null,
      "metadata": {},
      "outputs": [],
      "source": [
        "aString = \"Hello, I am from Spain\"\n",
        "\n",
        "# Prints 'H' - this accesses the first character of the string\n",
        "print(aString[0])\n",
        "\n",
        "# Prints 'e' - this accesses the second character of the string\n",
        "print(aString[1])\n",
        "\n",
        "# Prints 'n' - this accesses the last character of the string\n",
        "print(aString[-1])\n",
        "\n",
        "# Prints 'i' - this accesses the next to last character of the string\n",
        "print(aString[-2])\n",
        "\n",
        "# Prints 'from' - a substring using slicing from index 12 to 15 (one before 16)\n",
        "print(aString[12:16])"
      ],
      "id": "03f1b0ff"
    },
    {
      "cell_type": "markdown",
      "metadata": {},
      "source": [
        "## Concatenating Strings\n",
        "\n",
        "You can join or concatenate two strings together using the + operator."
      ],
      "id": "6f5bab47-c0c0-4f83-9a07-53ae65ca65de"
    },
    {
      "cell_type": "code",
      "execution_count": null,
      "metadata": {},
      "outputs": [],
      "source": [
        "aString1 = \"Hello, \"\n",
        "aString2 = \"World!\"\n",
        "\n",
        "# Prints 'Hello, World!' by joining the two strings\n",
        "print(aString1 + aString2)"
      ],
      "id": "b656c579"
    },
    {
      "cell_type": "markdown",
      "metadata": {},
      "source": [
        "## Replicating Strings\n",
        "\n",
        "You can repeat or replicate a string by using the \\* operator along with\n",
        "an integer value."
      ],
      "id": "a1855de2-a0fd-4187-9fec-c39990111eab"
    },
    {
      "cell_type": "code",
      "execution_count": null,
      "metadata": {},
      "outputs": [],
      "source": [
        "aString = \"Hello! \" * 3\n",
        "\n",
        "# Prints 'Hello! Hello! Hello! ' by repeating the string 3 times\n",
        "print(aString)"
      ],
      "id": "fc254879"
    },
    {
      "cell_type": "markdown",
      "metadata": {},
      "source": [
        "## String Methods\n",
        "\n",
        "Strings come with a variety of built-in methods that allow you to\n",
        "perform common operations on them.\n",
        "\n",
        "### replace()\n",
        "\n",
        "The replace() method allows you to replace a portion of the string with\n",
        "a new substring."
      ],
      "id": "d5304fda-f0b2-4af7-9c8e-29d3d6c42a5a"
    },
    {
      "cell_type": "code",
      "execution_count": null,
      "metadata": {},
      "outputs": [],
      "source": [
        "aString = \"Hello, World!\"\n",
        "\n",
        "# Replacing 'World' with 'Python'\n",
        "newString = aString.replace(\"World\", \"Python\")\n",
        "\n",
        "print(newString)"
      ],
      "id": "e81d48aa"
    },
    {
      "cell_type": "markdown",
      "metadata": {},
      "source": [
        "### split()\n",
        "\n",
        "The split() method splits the string into a list of substrings based on\n",
        "the specified separator (in this case, a comma)."
      ],
      "id": "392c5691-aed3-4a71-9023-0d4b62e96aea"
    },
    {
      "cell_type": "code",
      "execution_count": null,
      "metadata": {},
      "outputs": [],
      "source": [
        "aString = \"Hello,World,Python\"\n",
        "\n",
        "# Prints ['Hello', 'World', 'Python'] by splitting the string at commas\n",
        "words = aString.split(',')\n",
        "\n",
        "print(words)"
      ],
      "id": "de77e33f"
    },
    {
      "cell_type": "markdown",
      "metadata": {},
      "source": [
        "### join()\n",
        "\n",
        "The join() method is the opposite of split(). It joins the elements of a\n",
        "list into a single string, using the string it is called on as the\n",
        "separator."
      ],
      "id": "23fb8d0b-eae6-4ac2-8dd0-60465b213d72"
    },
    {
      "cell_type": "code",
      "execution_count": null,
      "metadata": {},
      "outputs": [],
      "source": [
        "words = ['Hello', 'World', 'Python']\n",
        "\n",
        "# Joining the list with ', '\n",
        "aString = ', '.join(words)\n",
        "\n",
        "print(aString)"
      ],
      "id": "c9cfe0bb"
    },
    {
      "cell_type": "markdown",
      "metadata": {},
      "source": [
        "## Length of a String\n",
        "\n",
        "The len() function returns the length of a string, counting the number\n",
        "of characters it contains."
      ],
      "id": "7f2e943e-65d8-4df8-b4e5-115533e19faf"
    },
    {
      "cell_type": "code",
      "execution_count": null,
      "metadata": {},
      "outputs": [],
      "source": [
        "aString = \"Hello, World!\"\n",
        "\n",
        "# Prints 13, which is the length of the string\n",
        "print(len(aString))"
      ],
      "id": "39905830"
    }
  ],
  "nbformat": 4,
  "nbformat_minor": 5,
  "metadata": {
    "kernelspec": {
      "name": "python3",
      "display_name": "Python 3 (ipykernel)",
      "language": "python"
    }
  }
}
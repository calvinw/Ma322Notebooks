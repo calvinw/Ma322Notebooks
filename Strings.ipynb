{
  "cells": [
    {
      "cell_type": "markdown",
      "metadata": {},
      "source": [
        "# Strings in Python\n",
        "\n",
        "Strings are sequences of characters used to represent text data in\n",
        "Python. Here are some essential concepts related to strings:\n",
        "\n",
        "## Defining Strings\n",
        "\n",
        "You can define strings with single quotes, double quotes and even triple\n",
        "quotes.\n",
        "\n",
        "Single quotes and double quotes work basically the same way.\n",
        "\n",
        "### Single Quotes\n",
        "\n",
        "Single quotes work fine for defining a string. This will print “Hello,\n",
        "World!” to the console."
      ],
      "id": "e6f81354-22eb-4495-94c7-50b8b66374f5"
    },
    {
      "cell_type": "code",
      "execution_count": null,
      "metadata": {},
      "outputs": [],
      "source": [
        "aString = 'Hello, World!'\n",
        "\n",
        "print(aString)"
      ],
      "id": "3f022182"
    },
    {
      "cell_type": "markdown",
      "metadata": {},
      "source": [
        "### Double Quotes\n",
        "\n",
        "Double quotes also work for defining a string and will print the same\n",
        "output as the single quotes example above."
      ],
      "id": "3e048d05-da48-4556-974f-f613488821c5"
    },
    {
      "cell_type": "code",
      "execution_count": null,
      "metadata": {},
      "outputs": [],
      "source": [
        "aString = \"Hello, World!\"\n",
        "\n",
        "print(aString)"
      ],
      "id": "d087f281"
    },
    {
      "cell_type": "markdown",
      "metadata": {},
      "source": [
        "One of the nice things about having both single and double quotes is you\n",
        "can use one type to include the other type of quote inside your string.\n",
        "\n",
        "### Quotes Inside A String"
      ],
      "id": "f2976fb8-5afc-46be-bf98-4fd214464c69"
    },
    {
      "cell_type": "code",
      "execution_count": null,
      "metadata": {},
      "outputs": [],
      "source": [
        "aString = \"Type the string 'Hello World' into a code cell.\"\n",
        "\n",
        "print(aString)"
      ],
      "id": "4832ca20"
    },
    {
      "cell_type": "markdown",
      "metadata": {},
      "source": [
        "This example uses double quotes to define the string, allowing single\n",
        "quotes to be included inside the string. This will print:\n",
        "`Type the string 'Hello World' into a code cell.`\n",
        "\n",
        "### Triple Quotes (Multiline Strings)\n",
        "\n",
        "Triple quotes allow you to define a string that spans multiple lines.\n",
        "This example will print the string with line breaks preserved."
      ],
      "id": "d4e844a6-7d5e-4476-bb48-a0149e89eb2e"
    },
    {
      "cell_type": "code",
      "execution_count": null,
      "metadata": {},
      "outputs": [],
      "source": [
        "aString = \"\"\"This is a\n",
        "multiline\n",
        "string.\"\"\"\n",
        "\n",
        "print(aString)"
      ],
      "id": "a487e804"
    },
    {
      "cell_type": "markdown",
      "metadata": {},
      "source": [
        "## Accessing Parts of a String (Indexing)\n",
        "\n",
        "Strings in Python are indexed, so you can access individual characters\n",
        "or substrings using their position(s) in the string."
      ],
      "id": "a3cd9706-3805-4907-93f5-1e165cf8f168"
    },
    {
      "cell_type": "code",
      "execution_count": null,
      "metadata": {},
      "outputs": [],
      "source": [
        "aString = \"Hello, I am from Spain\"\n",
        "\n",
        "# Prints 'H' - this accesses the first character of the string\n",
        "print(aString[0])\n",
        "\n",
        "# Prints 'e' - this accesses the second character of the string\n",
        "print(aString[1])\n",
        "\n",
        "# Prints 'n' - this accesses the last character of the string\n",
        "print(aString[-1])\n",
        "\n",
        "# Prints 'i' - this accesses the next to last character of the string\n",
        "print(aString[-2])\n",
        "\n",
        "# Prints 'from' - a substring using slicing from index 12 to 15 (one before 16)\n",
        "print(aString[12:16])"
      ],
      "id": "7b888146"
    },
    {
      "cell_type": "markdown",
      "metadata": {},
      "source": [
        "## Concatenating Strings\n",
        "\n",
        "You can join or concatenate two strings together using the + operator."
      ],
      "id": "c798b448-db28-4638-baab-4c0bd8938cee"
    },
    {
      "cell_type": "code",
      "execution_count": null,
      "metadata": {},
      "outputs": [],
      "source": [
        "aString1 = \"Hello, \"\n",
        "aString2 = \"World!\"\n",
        "\n",
        "# Prints 'Hello, World!' by joining the two strings\n",
        "print(aString1 + aString2)"
      ],
      "id": "034602ef"
    },
    {
      "cell_type": "markdown",
      "metadata": {},
      "source": [
        "## Replicating Strings\n",
        "\n",
        "You can repeat or replicate a string by using the \\* operator along with\n",
        "an integer value."
      ],
      "id": "858af23d-00c7-4606-ba67-b670a76398f7"
    },
    {
      "cell_type": "code",
      "execution_count": null,
      "metadata": {},
      "outputs": [],
      "source": [
        "aString = \"Hello! \" * 3\n",
        "\n",
        "# Prints 'Hello! Hello! Hello! ' by repeating the string 3 times\n",
        "print(aString)"
      ],
      "id": "a660c4d1"
    },
    {
      "cell_type": "markdown",
      "metadata": {},
      "source": [
        "## String Methods\n",
        "\n",
        "Strings come with a variety of built-in methods that allow you to\n",
        "perform common operations on them.\n",
        "\n",
        "### replace()\n",
        "\n",
        "The replace() method allows you to replace a portion of the string with\n",
        "a new substring."
      ],
      "id": "ee8ed0c2-8b00-44d2-a178-8d0830b80fd7"
    },
    {
      "cell_type": "code",
      "execution_count": null,
      "metadata": {},
      "outputs": [],
      "source": [
        "aString = \"Hello, World!\"\n",
        "\n",
        "# Replacing 'World' with 'Python'\n",
        "newString = aString.replace(\"World\", \"Python\")\n",
        "\n",
        "print(newString)"
      ],
      "id": "b6e4f2dc"
    },
    {
      "cell_type": "markdown",
      "metadata": {},
      "source": [
        "### split()\n",
        "\n",
        "The split() method splits the string into a list of substrings based on\n",
        "the specified separator (in this case, a comma)."
      ],
      "id": "bd7bd2db-dedb-4fa2-aeaf-77db8cf89fc6"
    },
    {
      "cell_type": "code",
      "execution_count": null,
      "metadata": {},
      "outputs": [],
      "source": [
        "aString = \"Hello,World,Python\"\n",
        "\n",
        "# Prints ['Hello', 'World', 'Python'] by splitting the string at commas\n",
        "words = aString.split(',')\n",
        "\n",
        "print(words)"
      ],
      "id": "078ef8e8"
    },
    {
      "cell_type": "markdown",
      "metadata": {},
      "source": [
        "### join()\n",
        "\n",
        "The join() method is the opposite of split(). It joins the elements of a\n",
        "list into a single string, using the string it is called on as the\n",
        "separator."
      ],
      "id": "ffd71cb5-d0b0-4136-960d-97f6be970c0b"
    },
    {
      "cell_type": "code",
      "execution_count": null,
      "metadata": {},
      "outputs": [],
      "source": [
        "words = ['Hello', 'World', 'Python']\n",
        "\n",
        "# Joining the list with ', '\n",
        "aString = ', '.join(words)\n",
        "\n",
        "print(aString)"
      ],
      "id": "94d8902d"
    },
    {
      "cell_type": "markdown",
      "metadata": {},
      "source": [
        "## Length of a String\n",
        "\n",
        "The len() function returns the length of a string, counting the number\n",
        "of characters it contains."
      ],
      "id": "fbf91110-0426-4c24-9663-056c62112739"
    },
    {
      "cell_type": "code",
      "execution_count": null,
      "metadata": {},
      "outputs": [],
      "source": [
        "aString = \"Hello, World!\"\n",
        "\n",
        "# Prints 13, which is the length of the string\n",
        "print(len(aString))"
      ],
      "id": "ec25ecb9"
    }
  ],
  "nbformat": 4,
  "nbformat_minor": 5,
  "metadata": {
    "kernelspec": {
      "name": "python3",
      "display_name": "Python 3 (ipykernel)",
      "language": "python"
    }
  }
}
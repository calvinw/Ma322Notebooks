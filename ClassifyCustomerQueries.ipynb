{
  "cells": [
    {
      "cell_type": "markdown",
      "metadata": {},
      "source": [
        "# Classifying Customer Queries"
      ],
      "id": "74dd6f0d-e3e8-4464-b486-ef05b4a277c6"
    },
    {
      "cell_type": "code",
      "execution_count": null,
      "metadata": {},
      "outputs": [],
      "source": [
        "import os\n",
        "\n",
        "if os.environ.get(\"TOGETHER_API_KEY\") is None:\n",
        "   os.environ[\"TOGETHER_API_KEY\"] = \"paste_your_api_key_here\""
      ],
      "id": "dc9c7107"
    },
    {
      "cell_type": "markdown",
      "metadata": {},
      "source": [
        "## Setup the LLM"
      ],
      "id": "bf097163-c529-4b78-8a25-9936e84ceca9"
    },
    {
      "cell_type": "code",
      "execution_count": null,
      "metadata": {},
      "outputs": [],
      "source": [
        "!pip3 install langchain langchain_openai"
      ],
      "id": "ad7aad0b"
    },
    {
      "cell_type": "code",
      "execution_count": null,
      "metadata": {},
      "outputs": [],
      "source": [
        "import os\n",
        "from langchain_openai import ChatOpenAI\n",
        "\n",
        "#model_name = \"NousResearch/Nous-Hermes-2-Mixtral-8x7B-SFT\"\n",
        "#model_name = \"NousResearch/Nous-Hermes-2-Mixtral-8x7B-DPO\"\n",
        "#model_name=\"mistralai/Mixtral-8x7B-Instruct-v0.1\"\n",
        "#model_name=\"mistralai/Mistral-7B-Instruct-v0.1\"\n",
        "#model_name=\"mistralai/Mistral-7B-Instruct-v0.2\"\n",
        "#model_name = \"openchat/openchat-3.5-1210\"\n",
        "#model_name = \"Qwen/Qwen1.5-72B-Chat\"\n",
        "model_name = \"cognitivecomputations/dolphin-2.5-mixtral-8x7b\"\n",
        "\n",
        "print(\"Provider: TogetherAI\")\n",
        "print(\"Model: \" + model_name)\n",
        "\n",
        "llm=ChatOpenAI(model_name=model_name,\n",
        "               openai_api_key=os.environ.get(\"TOGETHER_API_KEY\"),\n",
        "               openai_api_base=\"https://api.together.xyz/v1/\")"
      ],
      "id": "378bf680"
    },
    {
      "cell_type": "code",
      "execution_count": null,
      "metadata": {},
      "outputs": [],
      "source": [
        "import textwrap\n",
        "from langchain_core.prompts import ChatPromptTemplate\n",
        "\n",
        "def wrap_text(text, max_width=80):\n",
        "    \"\"\"\n",
        "    Wraps the text to the specified max_width, preserving line breaks and formatting.\n",
        "    \"\"\"\n",
        "    text = text.lstrip()\n",
        "    lines = text.splitlines()  # Split the text into lines\n",
        "    wrapped_lines = []\n",
        "    for line in lines:\n",
        "        if line.strip():  # Skip empty lines\n",
        "            wrapped_line = textwrap.fill(line, max_width, initial_indent='', subsequent_indent='')\n",
        "            wrapped_lines.extend(wrapped_line.splitlines())  # Preserve line breaks\n",
        "        else:\n",
        "            wrapped_lines.append('')  # Keep empty lines\n",
        "    return '\\n'.join(wrapped_lines)\n",
        "\n",
        "def print_prompt_and_response(prompt, response):\n",
        "    print(\"Prompt: \")\n",
        "    print(wrap_text(prompt))\n",
        "    print(\"\")\n",
        "    print(\"Response: \")\n",
        "    print(response)\n",
        "\n",
        "def print_messages_and_response(messages, response):\n",
        "    prompt = ChatPromptTemplate(messages=messages)\n",
        "    print_prompt_and_response(prompt.format(), response)\n",
        "\n",
        "def get_completion(prompt, temperature=0.0):\n",
        "    response = llm.invoke(prompt, temperature=temperature)\n",
        "    wrapped_response = wrap_text(response.content)\n",
        "    return wrapped_response\n",
        "\n",
        "def get_completion_messages(messages, temperature=0.0):\n",
        "    response=llm.invoke(messages, temperature=temperature)\n",
        "    wrapped_response = wrap_text(response.content)\n",
        "    return wrapped_response"
      ],
      "id": "c82209f0"
    },
    {
      "cell_type": "markdown",
      "metadata": {},
      "source": [
        "## Classifying Customer Queries Into Categories\n",
        "\n",
        "For this notebook we would like to set up classifying customer queries\n",
        "into a primary category and a secondary category. This might be the\n",
        "first step in routing the customer in a customer support application.\n",
        "\n",
        "### Primary and Secondary Category\n",
        "\n",
        "Here are our primary and secondary categories:\n",
        "\n",
        "-   Billing\n",
        "    -   Unsubscribe or upgrade\n",
        "    -   Add a payment method\n",
        "    -   Explanation for charge\n",
        "    -   Dispute a charge\n",
        "-   Technical Support\n",
        "    -   General troubleshooting\n",
        "    -   Device compatibility\n",
        "    -   Software updates\n",
        "-   Account Management\n",
        "    -   Password reset\n",
        "    -   Update personal information\n",
        "    -   Close account\n",
        "    -   Account security\n",
        "-   General Inquiry\n",
        "    -   Product information\n",
        "    -   Pricing\n",
        "    -   Feedback\n",
        "    -   Speak to a human\n",
        "\n",
        "### Example Queries\n",
        "\n",
        "And here are some examples of the kinds of queries we will classify:\n",
        "\n",
        "| Query                                                             |\n",
        "|-------------------------------------------------------------------|\n",
        "| I want you to delete my profile and all of my user data           |\n",
        "| Tell me more about your flat screen tvs                           |\n",
        "| How do I update my email address and password on my account?      |\n",
        "| I need help setting up parental controls on my streaming account. |\n",
        "| How do I change the primary account holder for my subscription?   |\n",
        "\n",
        "Here is our prompt that we will use:"
      ],
      "id": "5e6ffd41-f182-4736-b66a-3dc64d139048"
    },
    {
      "cell_type": "code",
      "execution_count": null,
      "metadata": {},
      "outputs": [],
      "source": [
        "template =\"\"\"\n",
        "You will be provided with a customer service query in <query></query> tags\n",
        "below.\n",
        "\n",
        "Classify each query into a primary category and a secondary category.\n",
        "\n",
        "Provide your output like this:\n",
        "\n",
        "Primary Category: <<primary_category>>\n",
        "Secondary Category: <<secondary_category>>\n",
        "\n",
        "Primary categories: Billing, Technical Support, Account Management, or General\n",
        "Inquiry.\n",
        "\n",
        "The secondary category must come from the lists below.\n",
        "\n",
        "Billing secondary categories:\n",
        "- Unsubscribe or upgrade\n",
        "- Add a payment method\n",
        "- Explanation for charge\n",
        "- Dispute a charge\n",
        "\n",
        "Technical Support secondary categories:\n",
        "- General troubleshooting\n",
        "- Device compatibility\n",
        "- Software updates\n",
        "\n",
        "Account Management secondary categories:\n",
        "- Password reset\n",
        "- Update personal information\n",
        "- Close account\n",
        "- Account security\n",
        "\n",
        "General Inquiry secondary categories:\n",
        "- Product information\n",
        "- Pricing\n",
        "- Feedback\n",
        "- Speak to a human\n",
        "\n",
        "<query>\n",
        "{query}\n",
        "</query>\"\"\""
      ],
      "id": "a1262d6b"
    },
    {
      "cell_type": "markdown",
      "metadata": {},
      "source": [
        "### I want you to delete my profile and all of my user data\n",
        "\n",
        "Set up the query string and send to the llm:"
      ],
      "id": "65f52037-e14a-424a-a498-f82af7ecbfcc"
    },
    {
      "cell_type": "code",
      "execution_count": null,
      "metadata": {},
      "outputs": [],
      "source": [
        "first_query = \"\"\"\n",
        "I want you to delete my profile and all of my user data\n",
        "\"\"\"\n",
        "\n",
        "prompt=template.format(query=first_query)\n",
        "response = get_completion(prompt)\n",
        "print(response)"
      ],
      "id": "05afc5b8"
    },
    {
      "cell_type": "markdown",
      "metadata": {},
      "source": [
        "### Tell me more about your flat screen tvs\n",
        "\n",
        "Set up the query string and send to the llm:"
      ],
      "id": "f0cb561f-63c2-465d-8406-2b5b47307ffd"
    },
    {
      "cell_type": "code",
      "execution_count": null,
      "metadata": {},
      "outputs": [],
      "source": [
        "second_query = \"\"\"\n",
        "Tell me more about your flat screen tvs\n",
        "\"\"\"\n",
        "\n",
        "prompt=template.format(query=second_query)\n",
        "response = get_completion(prompt)\n",
        "print(response)"
      ],
      "id": "c521057a"
    },
    {
      "cell_type": "markdown",
      "metadata": {},
      "source": [
        "### I can’t log into my account. Can you reset my password?\n",
        "\n",
        "Set up the query string and send to the llm:"
      ],
      "id": "e97520ce-3df4-46b2-82ff-3d1f159f7c88"
    },
    {
      "cell_type": "code",
      "execution_count": null,
      "metadata": {},
      "outputs": [],
      "source": [
        "third_query = \"\"\"\n",
        "I can't log into my account. Can you reset my password?\n",
        "\"\"\"\n",
        "\n",
        "prompt=template.format(query=third_query)\n",
        "response = get_completion(prompt)\n",
        "print(response)"
      ],
      "id": "b55739e1"
    },
    {
      "cell_type": "markdown",
      "metadata": {},
      "source": [
        "### I’m having trouble connecting my smart TV to the internet. Can you help me troubleshoot this issue?\n",
        "\n",
        "Set up the query string and send to the llm:"
      ],
      "id": "bf6d9124-8072-4156-a5f1-7a09239bcf5e"
    },
    {
      "cell_type": "code",
      "execution_count": null,
      "metadata": {},
      "outputs": [],
      "source": [
        "fourth_query = \"\"\"\n",
        "I'm having trouble connecting my smart TV to the internet. Can you help me troubleshoot this issue?\n",
        "\"\"\"\n",
        "\n",
        "prompt=template.format(query=fourth_query)\n",
        "response = get_completion(prompt)\n",
        "print(response)"
      ],
      "id": "cdd58a1f"
    },
    {
      "cell_type": "markdown",
      "metadata": {},
      "source": [
        "### I’d like to cancel my subscription and get a refund for the remaining months.\n",
        "\n",
        "Set up the query string and send to the llm:"
      ],
      "id": "72d9bbfc-77dd-44ce-bcd6-564ef35f3e34"
    },
    {
      "cell_type": "code",
      "execution_count": null,
      "metadata": {},
      "outputs": [],
      "source": [
        "fifth_query = \"\"\"\n",
        "I'd like to cancel my subscription and get a refund for the remaining months.\n",
        "\"\"\"\n",
        "\n",
        "prompt=template.format(query=fifth_query)\n",
        "response = get_completion(prompt)\n",
        "print(response)"
      ],
      "id": "fac7de5b"
    },
    {
      "cell_type": "markdown",
      "metadata": {},
      "source": [
        "### How do I update my email address and password on my account?\n",
        "\n",
        "Set up the query string and send to the llm:"
      ],
      "id": "066ec7d4-a748-439a-9457-2da47b1c4f45"
    },
    {
      "cell_type": "code",
      "execution_count": null,
      "metadata": {},
      "outputs": [],
      "source": [
        "sixth_query = \"\"\"\n",
        "How do I update my email address and password on my account?\n",
        "\"\"\"\n",
        "\n",
        "prompt=template.format(query=sixth_query)\n",
        "response = get_completion(prompt)\n",
        "print(response)"
      ],
      "id": "9451b15e"
    },
    {
      "cell_type": "markdown",
      "metadata": {},
      "source": [
        "### What are the key features of your premium streaming package compared to the basic plan?\n",
        "\n",
        "Set up the query string and send to the llm:"
      ],
      "id": "33f1876d-aabc-4438-b40f-f45916c02700"
    },
    {
      "cell_type": "code",
      "execution_count": null,
      "metadata": {},
      "outputs": [],
      "source": [
        "seventh_query = \"\"\"\n",
        "What are the key features of your premium streaming package compared to the basic plan?\n",
        "\"\"\"\n",
        "\n",
        "prompt=template.format(query=seventh_query)\n",
        "response = get_completion(prompt)\n",
        "print(response)"
      ],
      "id": "ef6eac27"
    },
    {
      "cell_type": "markdown",
      "metadata": {},
      "source": [
        "### I have some feedback about improving the user interface of your mobile app.\n",
        "\n",
        "Set up the query string and send to the llm:"
      ],
      "id": "ff65601a-4bfe-48c3-a17e-23d67e137470"
    },
    {
      "cell_type": "code",
      "execution_count": null,
      "metadata": {},
      "outputs": [],
      "source": [
        "eighth_query = \"\"\"\n",
        "I have some feedback about improving the user interface of your mobile app.\n",
        "\"\"\"\n",
        "\n",
        "prompt=template.format(query=eighth_query)\n",
        "response = get_completion(prompt)\n",
        "print(response)"
      ],
      "id": "98e78a26"
    },
    {
      "cell_type": "markdown",
      "metadata": {},
      "source": [
        "### Additional Queries"
      ],
      "id": "80d812f0-5fe8-401f-a038-d8633cdad0c6"
    },
    {
      "cell_type": "code",
      "execution_count": null,
      "metadata": {},
      "outputs": [],
      "source": [
        "additional_queries = [\n",
        "    \"I need help setting up parental controls on my streaming account.\",\n",
        "    \"How do I change the primary account holder for my subscription?\",\n",
        "    \"I was overcharged on my last bill. Can you investigate this issue?\",\n",
        "    \"Is there a way to download movies and shows for offline viewing?\",\n",
        "    \"Can you recommend some good shows or movies based on my viewing history?\",\n",
        "    \"My streaming quality keeps buffering. What could be causing this?\",\n",
        "    \"I want to add another user to my account. How can I do that?\",\n",
        "    \"How do I update my payment method with a new credit card?\",\n",
        "    \"I'm having issues with the audio on certain shows. Can you help me troubleshoot?\",\n",
        "    \"What's the process for reporting a technical issue with your platform?\"\n",
        "]\n",
        "\n",
        "\n",
        "for query in additional_queries:\n",
        "    prompt = template.format(query=query)\n",
        "    response = get_completion(prompt)\n",
        "    print(f\"Query: {query}\")\n",
        "    print(response)\n",
        "    print(\"---\")"
      ],
      "id": "a46b3b93"
    }
  ],
  "nbformat": 4,
  "nbformat_minor": 5,
  "metadata": {
    "kernelspec": {
      "name": "python3",
      "display_name": "Python 3 (ipykernel)",
      "language": "python"
    }
  }
}
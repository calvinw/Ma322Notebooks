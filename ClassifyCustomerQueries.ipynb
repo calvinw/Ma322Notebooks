{
  "cells": [
    {
      "cell_type": "markdown",
      "metadata": {},
      "source": [
        "# Classifying Customer Queries\n",
        "\n",
        "### Put Your OPENROUTER_API_KEY here"
      ],
      "id": "e05a9321-ccef-4621-9f37-65ff0ba97fab"
    },
    {
      "cell_type": "code",
      "execution_count": null,
      "metadata": {},
      "outputs": [],
      "source": [
        "import os\n",
        "os.environ[\"OPENROUTER_API_KEY\"] = \"paste_your_api_key_here\""
      ],
      "id": "78a254ca"
    },
    {
      "cell_type": "code",
      "execution_count": null,
      "metadata": {},
      "outputs": [],
      "source": [
        "!pip3 install langchain langchain_openai"
      ],
      "id": "e2280af1"
    },
    {
      "cell_type": "code",
      "execution_count": null,
      "metadata": {},
      "outputs": [],
      "source": [
        "import os\n",
        "from langchain_openai import ChatOpenAI\n",
        "\n",
        "try:\n",
        "    model_name\n",
        "except NameError:\n",
        "    model_name=\"openai/gpt-4o-mini\"\n",
        "\n",
        "print(\"Model Name:\", model_name)\n",
        "print(\"Provider:\", \"OpenRouter AI\")\n",
        "\n",
        "llm=ChatOpenAI(model_name=model_name,\n",
        "               openai_api_key=os.environ.get(\"OPENROUTER_API_KEY\"),\n",
        "               openai_api_base=\"https://openrouter.ai/api/v1\")"
      ],
      "id": "48475983"
    },
    {
      "cell_type": "code",
      "execution_count": null,
      "metadata": {},
      "outputs": [],
      "source": [
        "import textwrap\n",
        "from langchain_core.prompts import ChatPromptTemplate\n",
        "\n",
        "def wrap_text(text, max_width=80):\n",
        "    \"\"\"\n",
        "    Wraps the text to the specified max_width, preserving line breaks and formatting.\n",
        "    \"\"\"\n",
        "    text = text.lstrip()\n",
        "    lines = text.splitlines()  # Split the text into lines\n",
        "    wrapped_lines = []\n",
        "    for line in lines:\n",
        "        if line.strip():  # Skip empty lines\n",
        "            wrapped_line = textwrap.fill(line, max_width, initial_indent='', subsequent_indent='')\n",
        "            wrapped_lines.extend(wrapped_line.splitlines())  # Preserve line breaks\n",
        "        else:\n",
        "            wrapped_lines.append('')  # Keep empty lines\n",
        "    return '\\n'.join(wrapped_lines)\n",
        "\n",
        "def print_prompt_and_response(prompt, response):\n",
        "    print(\"Prompt: \")\n",
        "    print(wrap_text(prompt))\n",
        "    print(\"\")\n",
        "    print(\"Response: \")\n",
        "    print(response)\n",
        "\n",
        "def print_messages_and_response(messages, response):\n",
        "    prompt = ChatPromptTemplate(messages=messages)\n",
        "    print_prompt_and_response(prompt.format(), response)\n",
        "\n",
        "def get_completion(prompt, temperature=0.0):\n",
        "    response = llm.invoke(prompt, temperature=temperature)\n",
        "    wrapped_response = wrap_text(response.content)\n",
        "    return wrapped_response\n",
        "\n",
        "def get_completion_messages(messages, temperature=0.0):\n",
        "    response=llm.invoke(messages, temperature=temperature)\n",
        "    wrapped_response = wrap_text(response.content)\n",
        "    return wrapped_response"
      ],
      "id": "62f3b008"
    },
    {
      "cell_type": "markdown",
      "metadata": {},
      "source": [
        "## Classifying Customer Queries Into Categories\n",
        "\n",
        "For this notebook we would like to set up classifying customer queries\n",
        "into a primary category and a secondary category. This might be the\n",
        "first step in routing the customer in a customer support application.\n",
        "\n",
        "### Primary and Secondary Category\n",
        "\n",
        "Here are our primary and secondary categories:\n",
        "\n",
        "-   Billing\n",
        "    -   Unsubscribe or upgrade\n",
        "    -   Add a payment method\n",
        "    -   Explanation for charge\n",
        "    -   Dispute a charge\n",
        "-   Technical Support\n",
        "    -   General troubleshooting\n",
        "    -   Device compatibility\n",
        "    -   Software updates\n",
        "-   Account Management\n",
        "    -   Password reset\n",
        "    -   Update personal information\n",
        "    -   Close account\n",
        "    -   Account security\n",
        "-   General Inquiry\n",
        "    -   Product information\n",
        "    -   Pricing\n",
        "    -   Feedback\n",
        "    -   Speak to a human\n",
        "\n",
        "### Example Queries\n",
        "\n",
        "And here are some examples of the kinds of queries we will classify:\n",
        "\n",
        "| Query                                                             |\n",
        "|-------------------------------------------------------------------|\n",
        "| I want you to delete my profile and all of my user data           |\n",
        "| Tell me more about your flat screen tvs                           |\n",
        "| How do I update my email address and password on my account?      |\n",
        "| I need help setting up parental controls on my streaming account. |\n",
        "| How do I change the primary account holder for my subscription?   |\n",
        "\n",
        "-   set up a prompt that accomplishes classifying the above into a\n",
        "    primary and secondary category.\n",
        "-   tell the LLM what format to put the answer in\n",
        "-   the {query} template variable is already included and enclosed in\n",
        "    tags."
      ],
      "id": "365e14e4-30b6-4ff8-a243-85dc497719f5"
    },
    {
      "cell_type": "code",
      "execution_count": null,
      "metadata": {},
      "outputs": [],
      "source": [
        "template = \"\"\"\n",
        "\n",
        "<<REPLACE THIS AND PUT YOUR PROMPT TEMPLATE HERE>>\n",
        "\n",
        "<query>\n",
        "{query}\n",
        "</query>\n",
        "\"\"\""
      ],
      "id": "afa33479"
    },
    {
      "cell_type": "markdown",
      "metadata": {},
      "source": [
        "### I want you to delete my profile and all of my user data\n",
        "\n",
        "Set up the query string and send to the llm:"
      ],
      "id": "fe1e3fce-bfad-47a0-91e7-f19ffd348710"
    },
    {
      "cell_type": "code",
      "execution_count": null,
      "metadata": {},
      "outputs": [],
      "source": [
        "query = \"\"\"\n",
        "I want you to delete my profile and all of my user data\n",
        "\"\"\"\n",
        "\n",
        "prompt=template.format(query=query)\n",
        "response = get_completion(prompt)\n",
        "print(response)"
      ],
      "id": "088398a5"
    },
    {
      "cell_type": "markdown",
      "metadata": {},
      "source": [
        "### Tell me more about your flat screen tvs\n",
        "\n",
        "Set up the query string and send to the llm:"
      ],
      "id": "59d5262d-544c-4ab7-93a2-4341d9c48de2"
    },
    {
      "cell_type": "code",
      "execution_count": null,
      "metadata": {},
      "outputs": [],
      "source": [
        "query = \"\"\"\n",
        "Tell me more about your flat screen tvs\n",
        "\"\"\"\n",
        "\n",
        "prompt=template.format(query=query)\n",
        "response = get_completion(prompt)\n",
        "print(response)"
      ],
      "id": "38be3576"
    },
    {
      "cell_type": "markdown",
      "metadata": {},
      "source": [
        "### I can’t log into my account. Can you reset my password?\n",
        "\n",
        "Set up the query string and send to the llm:"
      ],
      "id": "132c9132-06af-4893-8300-95e626b0b106"
    },
    {
      "cell_type": "code",
      "execution_count": null,
      "metadata": {},
      "outputs": [],
      "source": [
        "query = \"\"\"\n",
        "I can't log into my account. Can you reset my password?\n",
        "\"\"\"\n",
        "\n",
        "prompt=template.format(query=query)\n",
        "response = get_completion(prompt)\n",
        "print(response)"
      ],
      "id": "cbc5f1f1"
    },
    {
      "cell_type": "markdown",
      "metadata": {},
      "source": [
        "### I’m having trouble connecting my smart TV to the internet. Can you help me troubleshoot this issue?\n",
        "\n",
        "Set up the query string and send to the llm:"
      ],
      "id": "98b0581f-64f5-48de-a0f4-a7a0c46cc515"
    },
    {
      "cell_type": "code",
      "execution_count": null,
      "metadata": {},
      "outputs": [],
      "source": [
        "query = \"\"\"\n",
        "I'm having trouble connecting my smart TV to the internet. Can you help me troubleshoot this issue?\n",
        "\"\"\"\n",
        "\n",
        "prompt=template.format(query=query)\n",
        "response = get_completion(prompt)\n",
        "print(response)"
      ],
      "id": "98075ebc"
    },
    {
      "cell_type": "markdown",
      "metadata": {},
      "source": [
        "### I’d like to cancel my subscription and get a refund for the remaining months.\n",
        "\n",
        "Set up the query string and send to the llm:"
      ],
      "id": "a0a2fc07-eee2-4a72-b65a-7a7b6081b9cc"
    },
    {
      "cell_type": "code",
      "execution_count": null,
      "metadata": {},
      "outputs": [],
      "source": [
        "fifth_query = \"\"\"\n",
        "I'd like to cancel my subscription and get a refund for the remaining months.\n",
        "\"\"\"\n",
        "\n",
        "prompt=template.format(query=fifth_query)\n",
        "response = get_completion(prompt)\n",
        "print(response)"
      ],
      "id": "0857a07c"
    },
    {
      "cell_type": "markdown",
      "metadata": {},
      "source": [
        "### How do I update my email address and password on my account?\n",
        "\n",
        "Set up the query string and send to the llm:"
      ],
      "id": "e5415d94-dbd3-407f-b90d-fb6cb85b9750"
    },
    {
      "cell_type": "code",
      "execution_count": null,
      "metadata": {},
      "outputs": [],
      "source": [
        "query = \"\"\"\n",
        "How do I update my email address and password on my account?\n",
        "\"\"\"\n",
        "\n",
        "prompt=template.format(query=query)\n",
        "response = get_completion(prompt)\n",
        "print(response)"
      ],
      "id": "789c3cf2"
    },
    {
      "cell_type": "markdown",
      "metadata": {},
      "source": [
        "### What are the key features of your premium streaming package compared to the basic plan?\n",
        "\n",
        "Set up the query string and send to the llm:"
      ],
      "id": "16a6f16b-260e-44b4-874c-527f195c9beb"
    },
    {
      "cell_type": "code",
      "execution_count": null,
      "metadata": {},
      "outputs": [],
      "source": [
        "seventh_query = \"\"\"\n",
        "What are the key features of your premium streaming package compared to the basic plan?\n",
        "\"\"\"\n",
        "\n",
        "prompt=template.format(query=query)\n",
        "response = get_completion(prompt)\n",
        "print(response)"
      ],
      "id": "f517e2a0"
    },
    {
      "cell_type": "markdown",
      "metadata": {},
      "source": [
        "### I have some feedback about improving the user interface of your mobile app.\n",
        "\n",
        "Set up the query string and send to the llm:"
      ],
      "id": "08e43ffc-ba2c-4c37-9490-36191812267d"
    },
    {
      "cell_type": "code",
      "execution_count": null,
      "metadata": {},
      "outputs": [],
      "source": [
        "query = \"\"\"\n",
        "I have some feedback about improving the user interface of your mobile app.\n",
        "\"\"\"\n",
        "\n",
        "prompt=template.format(query=query)\n",
        "response = get_completion(prompt)\n",
        "print(response)"
      ],
      "id": "40f49293"
    },
    {
      "cell_type": "markdown",
      "metadata": {},
      "source": [
        "### Additional Queries\n",
        "\n",
        "Its pretty easy to set up a loop to evaluate a lot of these for testing."
      ],
      "id": "6c0de448-df30-4673-bf5b-ce0dbfba48dd"
    },
    {
      "cell_type": "code",
      "execution_count": null,
      "metadata": {},
      "outputs": [],
      "source": [
        "additional_queries = [\n",
        "    \"I need help setting up parental controls on my streaming account.\",\n",
        "    \"How do I change the primary account holder for my subscription?\",\n",
        "    \"I was overcharged on my last bill. Can you investigate this issue?\",\n",
        "    \"Is there a way to download movies and shows for offline viewing?\",\n",
        "    \"Can you recommend some good shows or movies based on my viewing history?\",\n",
        "    \"My streaming quality keeps buffering. What could be causing this?\",\n",
        "    \"I want to add another user to my account. How can I do that?\",\n",
        "    \"How do I update my payment method with a new credit card?\",\n",
        "    \"I'm having issues with the audio on certain shows. Can you help me troubleshoot?\",\n",
        "    \"What's the process for reporting a technical issue with your platform?\"\n",
        "]\n",
        "\n",
        "\n",
        "for query in additional_queries:\n",
        "    prompt = template.format(query=query)\n",
        "    response = get_completion(prompt)\n",
        "    print(f\"Query: {query}\")\n",
        "    print(response)\n",
        "    print(\"---\")"
      ],
      "id": "ad768f52"
    }
  ],
  "nbformat": 4,
  "nbformat_minor": 5,
  "metadata": {
    "kernelspec": {
      "name": "python3",
      "display_name": "Python 3 (ipykernel)",
      "language": "python"
    }
  }
}
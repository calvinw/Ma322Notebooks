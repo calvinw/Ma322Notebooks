{
  "cells": [
    {
      "cell_type": "markdown",
      "metadata": {},
      "source": [
        "# Calculator\n",
        "\n",
        "# Calculator\n",
        "\n",
        "Python can do calculations, just like a calculator:\n",
        "\n",
        "Addition:"
      ],
      "id": "27ef961a-67b9-49fa-b881-d4a7ab6580ef"
    },
    {
      "cell_type": "code",
      "execution_count": null,
      "metadata": {},
      "outputs": [],
      "source": [
        "3+4"
      ],
      "id": "dcb113d5"
    },
    {
      "cell_type": "markdown",
      "metadata": {},
      "source": [
        "Multiplication:"
      ],
      "id": "d2f81684-1e92-4bcd-920a-f3ba7b7fda1d"
    },
    {
      "cell_type": "code",
      "execution_count": null,
      "metadata": {},
      "outputs": [],
      "source": [
        "3*4"
      ],
      "id": "927c8480"
    },
    {
      "cell_type": "markdown",
      "metadata": {},
      "source": [
        "Subtraction:"
      ],
      "id": "073e223d-e7f8-4624-a7fd-700aa1f6cad4"
    },
    {
      "cell_type": "code",
      "execution_count": null,
      "metadata": {},
      "outputs": [],
      "source": [
        "3-4"
      ],
      "id": "04a28117"
    },
    {
      "cell_type": "markdown",
      "metadata": {},
      "source": [
        "Division:"
      ],
      "id": "c7c12df5-f8de-4839-99fc-2241d1a4dd5c"
    },
    {
      "cell_type": "code",
      "execution_count": null,
      "metadata": {},
      "outputs": [],
      "source": [
        "3/4"
      ],
      "id": "68581979"
    },
    {
      "cell_type": "markdown",
      "metadata": {},
      "source": [
        "Exponents:"
      ],
      "id": "8861bd80-1611-477a-a5cc-3aa47f810994"
    },
    {
      "cell_type": "code",
      "execution_count": null,
      "metadata": {},
      "outputs": [],
      "source": [
        "10**2"
      ],
      "id": "13c2d84f"
    },
    {
      "cell_type": "markdown",
      "metadata": {},
      "source": [
        "Remember $10^2=10(10)=100$"
      ],
      "id": "ac676f91-c6bc-4b6f-8545-7f2723372038"
    },
    {
      "cell_type": "code",
      "execution_count": null,
      "metadata": {},
      "outputs": [],
      "source": [
        "3**4"
      ],
      "id": "3195424b"
    },
    {
      "cell_type": "markdown",
      "metadata": {},
      "source": [
        "This is 3 raised to the power 4. Remember $3^4=(3)(3)(3)(3)=81$\n",
        "\n",
        "You can call functions, like taking a square root.\n",
        "\n",
        "First you need to import a package that has the sqrt function in it. For\n",
        "now just put `import math` on a line by itself. Then use the function by\n",
        "using a `.` to call it.\n",
        "\n",
        "So `math.sqrt(16)` means the same as:\n",
        "\n",
        "$$ \\sqrt{16} $$\n",
        "\n",
        "which we know is just 4."
      ],
      "id": "9df39126-d43e-4700-93dc-2177c7d9b5f6"
    },
    {
      "cell_type": "code",
      "execution_count": null,
      "metadata": {},
      "outputs": [],
      "source": [
        "import math\n",
        "\n",
        "math.sqrt(16)"
      ],
      "id": "a985ad83"
    },
    {
      "cell_type": "markdown",
      "metadata": {},
      "source": [
        "Square root works for any non-negative number:"
      ],
      "id": "41a2ffc6-d9ba-44cd-b5c4-267c445aa45c"
    },
    {
      "cell_type": "code",
      "execution_count": null,
      "metadata": {},
      "outputs": [],
      "source": [
        "math.sqrt(2)"
      ],
      "id": "53d6e089"
    },
    {
      "cell_type": "markdown",
      "metadata": {},
      "source": [
        "What happens if we try to make python take the square root of a negative\n",
        "number?"
      ],
      "id": "a24dfda6-f242-4a79-ba5b-7fccd8b38ddf"
    },
    {
      "cell_type": "code",
      "execution_count": null,
      "metadata": {},
      "outputs": [],
      "source": [
        "math.sqrt(-25)"
      ],
      "id": "b206911b"
    },
    {
      "cell_type": "markdown",
      "metadata": {},
      "source": [
        "It tells us there is a `math domain error`\n",
        "\n",
        "You can call the round function:"
      ],
      "id": "f3e76bde-13b3-49ee-b008-375a213b48c6"
    },
    {
      "cell_type": "code",
      "execution_count": null,
      "metadata": {},
      "outputs": [],
      "source": [
        "round(6.3)"
      ],
      "id": "3e19c931"
    },
    {
      "cell_type": "markdown",
      "metadata": {},
      "source": [
        "You can call the math.ceil function, what do you think this does?"
      ],
      "id": "54b09833-9ca0-423a-8273-5e1070f97760"
    },
    {
      "cell_type": "code",
      "execution_count": null,
      "metadata": {},
      "outputs": [],
      "source": [
        "math.ceil(6.3)"
      ],
      "id": "6790972c"
    },
    {
      "cell_type": "markdown",
      "metadata": {},
      "source": [
        "You can call the math.floor function, what does this do?"
      ],
      "id": "56bdf1c8-d298-4321-8c5a-ddf7f8f12003"
    },
    {
      "cell_type": "code",
      "execution_count": null,
      "metadata": {},
      "outputs": [],
      "source": [
        "math.floor(6.8)"
      ],
      "id": "3ed928fd"
    },
    {
      "cell_type": "markdown",
      "metadata": {},
      "source": [
        "Python knows about the number $\\pi$ as well. It is built in:"
      ],
      "id": "d2ba228f-bfd4-4236-986c-7061e6132d87"
    },
    {
      "cell_type": "code",
      "execution_count": null,
      "metadata": {},
      "outputs": [],
      "source": [
        "math.pi"
      ],
      "id": "60b203ee"
    },
    {
      "cell_type": "markdown",
      "metadata": {},
      "source": [
        "Python has a remainder function. It is the percent sign `%`. This just\n",
        "gives the remainder of $17/5$, which is $2$ since $17/5=3$ with\n",
        "remainder 2:"
      ],
      "id": "5c892947-edf5-4022-a90a-6dc26e980d46"
    },
    {
      "cell_type": "code",
      "execution_count": null,
      "metadata": {},
      "outputs": [],
      "source": [
        "17%5"
      ],
      "id": "bcd2fb05"
    },
    {
      "cell_type": "markdown",
      "metadata": {},
      "source": [
        "Order of operations"
      ],
      "id": "b2cd2113-b66a-4062-8832-1e2b7f369739"
    },
    {
      "cell_type": "code",
      "execution_count": null,
      "metadata": {},
      "outputs": [],
      "source": [
        "2+3*4"
      ],
      "id": "e1ff7aef"
    },
    {
      "cell_type": "markdown",
      "metadata": {},
      "source": [
        "Just like we were taught for PEMDAS, it does the multiplication first,\n",
        "then the addition. This is sort of like there are parentheses around the\n",
        "multiplication:"
      ],
      "id": "ced1849b-7ee7-4357-9a9e-65fb333109b4"
    },
    {
      "cell_type": "code",
      "execution_count": null,
      "metadata": {},
      "outputs": [],
      "source": [
        "2+(3*4)"
      ],
      "id": "f2db43e2"
    },
    {
      "cell_type": "markdown",
      "metadata": {},
      "source": [
        "If we want to make python do the addition first we can. We have to tell\n",
        "it to do that first using parentheses"
      ],
      "id": "a49a89e2-8016-4996-99b6-e03bca76f547"
    },
    {
      "cell_type": "code",
      "execution_count": null,
      "metadata": {},
      "outputs": [],
      "source": [
        "(2+3)*4"
      ],
      "id": "1f586aa1"
    }
  ],
  "nbformat": 4,
  "nbformat_minor": 5,
  "metadata": {
    "kernelspec": {
      "name": "python3",
      "display_name": "Python 3 (ipykernel)",
      "language": "python"
    }
  }
}
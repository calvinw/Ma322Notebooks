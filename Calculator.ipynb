{
  "cells": [
    {
      "cell_type": "markdown",
      "metadata": {},
      "source": [
        "# Calculator\n",
        "\n",
        "Python can do calculations, just like a calculator:\n",
        "\n",
        "Addition:"
      ],
      "id": "b0b9e503-5813-47a6-9ac8-ea08f15bd137"
    },
    {
      "cell_type": "code",
      "execution_count": null,
      "metadata": {},
      "outputs": [],
      "source": [
        "3+4"
      ],
      "id": "276b13f0"
    },
    {
      "cell_type": "markdown",
      "metadata": {},
      "source": [
        "Multiplication:"
      ],
      "id": "5b9bce71-19c2-4a60-b6a7-d5c12574ff11"
    },
    {
      "cell_type": "code",
      "execution_count": null,
      "metadata": {},
      "outputs": [],
      "source": [
        "3*4"
      ],
      "id": "cd196e65"
    },
    {
      "cell_type": "markdown",
      "metadata": {},
      "source": [
        "Subtraction:"
      ],
      "id": "db72b432-4602-4bfb-ad87-c5771debcb81"
    },
    {
      "cell_type": "code",
      "execution_count": null,
      "metadata": {},
      "outputs": [],
      "source": [
        "3-4"
      ],
      "id": "781deb65"
    },
    {
      "cell_type": "markdown",
      "metadata": {},
      "source": [
        "Division:"
      ],
      "id": "603fe00e-78df-454c-8bc0-010318ef79ac"
    },
    {
      "cell_type": "code",
      "execution_count": null,
      "metadata": {},
      "outputs": [],
      "source": [
        "3/4"
      ],
      "id": "4d558ebb"
    },
    {
      "cell_type": "markdown",
      "metadata": {},
      "source": [
        "Exponents:"
      ],
      "id": "e91e20b6-55f6-4770-a138-002bf2a92c8a"
    },
    {
      "cell_type": "code",
      "execution_count": null,
      "metadata": {},
      "outputs": [],
      "source": [
        "10**2"
      ],
      "id": "9c4bcc63"
    },
    {
      "cell_type": "markdown",
      "metadata": {},
      "source": [
        "Remember $10^2=10(10)=100$"
      ],
      "id": "2f5ddeec-dc59-47b2-9d05-299095faf3e1"
    },
    {
      "cell_type": "code",
      "execution_count": null,
      "metadata": {},
      "outputs": [],
      "source": [
        "3**4"
      ],
      "id": "9a69a236"
    },
    {
      "cell_type": "markdown",
      "metadata": {},
      "source": [
        "This is 3 raised to the power 4. Remember $3^4=(3)(3)(3)(3)=81$\n",
        "\n",
        "You can call functions, like taking a square root.\n",
        "\n",
        "First you need to import a package that has the sqrt function in it. For\n",
        "now just put `import math` on a line by itself. Then use the function by\n",
        "using a `.` to call it.\n",
        "\n",
        "So `math.sqrt(16)` means the same as:\n",
        "\n",
        "$$ \\sqrt{16} $$\n",
        "\n",
        "which we know is just 4."
      ],
      "id": "767cf67d-5d04-4019-bc4d-335c9860aabe"
    },
    {
      "cell_type": "code",
      "execution_count": null,
      "metadata": {},
      "outputs": [],
      "source": [
        "import math\n",
        "\n",
        "math.sqrt(16)"
      ],
      "id": "c9f4777d"
    },
    {
      "cell_type": "markdown",
      "metadata": {},
      "source": [
        "Square root works for any non-negative number:"
      ],
      "id": "f636964b-f936-443a-923e-ea5a9d0bf3ff"
    },
    {
      "cell_type": "code",
      "execution_count": null,
      "metadata": {},
      "outputs": [],
      "source": [
        "math.sqrt(2)"
      ],
      "id": "4e72b5f2"
    },
    {
      "cell_type": "markdown",
      "metadata": {},
      "source": [
        "What happens if we try to make python take the square root of a negative\n",
        "number?"
      ],
      "id": "f21d6cf0-df15-4019-92b0-6b300088e5fb"
    },
    {
      "cell_type": "code",
      "execution_count": null,
      "metadata": {},
      "outputs": [],
      "source": [
        "math.sqrt(-25)"
      ],
      "id": "8e162bd6"
    },
    {
      "cell_type": "markdown",
      "metadata": {},
      "source": [
        "It tells us there is a `math domain error`\n",
        "\n",
        "You can call the round function:"
      ],
      "id": "f31a847e-0b9f-4bec-8a48-0eab6f886769"
    },
    {
      "cell_type": "code",
      "execution_count": null,
      "metadata": {},
      "outputs": [],
      "source": [
        "round(6.3)"
      ],
      "id": "013edd98"
    },
    {
      "cell_type": "markdown",
      "metadata": {},
      "source": [
        "You can call the math.ceil function, what do you think this does?"
      ],
      "id": "a57e531f-606d-4f9f-b100-70ce92e04fa4"
    },
    {
      "cell_type": "code",
      "execution_count": null,
      "metadata": {},
      "outputs": [],
      "source": [
        "math.ceil(6.3)"
      ],
      "id": "ae5c87fd"
    },
    {
      "cell_type": "markdown",
      "metadata": {},
      "source": [
        "You can call the math.floor function, what does this do?"
      ],
      "id": "e9009ec8-d013-4777-85ae-189910d42cd4"
    },
    {
      "cell_type": "code",
      "execution_count": null,
      "metadata": {},
      "outputs": [],
      "source": [
        "math.floor(6.8)"
      ],
      "id": "e0027096"
    },
    {
      "cell_type": "markdown",
      "metadata": {},
      "source": [
        "Python knows about the number $\\pi$ as well. It is built in:"
      ],
      "id": "3724172a-85bf-40d1-bcff-333fe5e41c82"
    },
    {
      "cell_type": "code",
      "execution_count": null,
      "metadata": {},
      "outputs": [],
      "source": [
        "math.pi"
      ],
      "id": "2f3014c4"
    },
    {
      "cell_type": "markdown",
      "metadata": {},
      "source": [
        "Python has a remainder function. It is the percent sign `%`. This just\n",
        "gives the remainder of $17/5$, which is $2$ since $17/5=3$ with\n",
        "remainder 2:"
      ],
      "id": "0f4e64c3-e57d-465c-af46-f4fc52a28307"
    },
    {
      "cell_type": "code",
      "execution_count": null,
      "metadata": {},
      "outputs": [],
      "source": [
        "17%5"
      ],
      "id": "069bd4c9"
    },
    {
      "cell_type": "markdown",
      "metadata": {},
      "source": [
        "Order of operations"
      ],
      "id": "6f21b39e-c139-405f-9475-a03484087462"
    },
    {
      "cell_type": "code",
      "execution_count": null,
      "metadata": {},
      "outputs": [],
      "source": [
        "2+3*4"
      ],
      "id": "29c643be"
    },
    {
      "cell_type": "markdown",
      "metadata": {},
      "source": [
        "Just like we were taught for PEMDAS, it does the multiplication first,\n",
        "then the addition. This is sort of like there are parentheses around the\n",
        "multiplication:"
      ],
      "id": "bc27f494-443f-48fb-b4c1-a780d61e4bba"
    },
    {
      "cell_type": "code",
      "execution_count": null,
      "metadata": {},
      "outputs": [],
      "source": [
        "2+(3*4)"
      ],
      "id": "30e99d36"
    },
    {
      "cell_type": "markdown",
      "metadata": {},
      "source": [
        "If we want to make python do the addition first we can. We have to tell\n",
        "it to do that first using parentheses"
      ],
      "id": "4520a0df-01f2-4428-9588-759c08ad2f07"
    },
    {
      "cell_type": "code",
      "execution_count": null,
      "metadata": {},
      "outputs": [],
      "source": [
        "(2+3)*4"
      ],
      "id": "2ee6ba36"
    },
    {
      "cell_type": "markdown",
      "metadata": {},
      "source": [
        "One last thing about printing things in python. If you list some\n",
        "expression on a line by itself it will print it out"
      ],
      "id": "63ca74c5-621c-4fdb-a0f8-5bd9c4f1eb03"
    },
    {
      "cell_type": "code",
      "execution_count": null,
      "metadata": {},
      "outputs": [],
      "source": [
        "3+4"
      ],
      "id": "633b2c44"
    },
    {
      "cell_type": "markdown",
      "metadata": {},
      "source": [
        "But if you try and do two things it will only print the last one"
      ],
      "id": "854aaee0-d2c4-4746-a13a-0b602efe510c"
    },
    {
      "cell_type": "code",
      "execution_count": null,
      "metadata": {},
      "outputs": [],
      "source": [
        "3+4\n",
        "6-2"
      ],
      "id": "ec27798d"
    },
    {
      "cell_type": "markdown",
      "metadata": {},
      "source": [
        "For that reason sometimes people use the `print` function which will\n",
        "make sure it prints out even if it is not the last thing."
      ],
      "id": "6d3098e2-5862-4a91-8c9e-ec7730994c2a"
    },
    {
      "cell_type": "code",
      "execution_count": null,
      "metadata": {},
      "outputs": [],
      "source": [
        "print(3+4)\n",
        "print(6-2)"
      ],
      "id": "9774261f"
    }
  ],
  "nbformat": 4,
  "nbformat_minor": 5,
  "metadata": {
    "kernelspec": {
      "name": "python3",
      "display_name": "Python 3 (ipykernel)",
      "language": "python"
    }
  }
}
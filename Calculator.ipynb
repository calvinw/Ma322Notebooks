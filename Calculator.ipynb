{
  "cells": [
    {
      "cell_type": "markdown",
      "metadata": {},
      "source": [
        "# Calculator\n",
        "\n",
        "Python can do calculations, just like a calculator:\n",
        "\n",
        "Addition:"
      ],
      "id": "21bd7de1-441e-4bd9-aa1d-546bd2f6a503"
    },
    {
      "cell_type": "code",
      "execution_count": null,
      "metadata": {},
      "outputs": [],
      "source": [
        "3+4"
      ],
      "id": "d2a7d1e4"
    },
    {
      "cell_type": "markdown",
      "metadata": {},
      "source": [
        "Multiplication:"
      ],
      "id": "4c9d0972-cba4-48ba-8bae-ab2dc7d54713"
    },
    {
      "cell_type": "code",
      "execution_count": null,
      "metadata": {},
      "outputs": [],
      "source": [
        "3*4"
      ],
      "id": "07be99a1"
    },
    {
      "cell_type": "markdown",
      "metadata": {},
      "source": [
        "Subtraction:"
      ],
      "id": "f78a977f-2e05-460a-aa3a-c54970fef405"
    },
    {
      "cell_type": "code",
      "execution_count": null,
      "metadata": {},
      "outputs": [],
      "source": [
        "3-4"
      ],
      "id": "89d52b4e"
    },
    {
      "cell_type": "markdown",
      "metadata": {},
      "source": [
        "Division:"
      ],
      "id": "18eb61e0-ecb5-4280-9553-7ee172742285"
    },
    {
      "cell_type": "code",
      "execution_count": null,
      "metadata": {},
      "outputs": [],
      "source": [
        "3/4"
      ],
      "id": "6f8a3831"
    },
    {
      "cell_type": "markdown",
      "metadata": {},
      "source": [
        "Exponents:"
      ],
      "id": "3800a4d0-16dc-43c6-a0d0-4d5801f654eb"
    },
    {
      "cell_type": "code",
      "execution_count": null,
      "metadata": {},
      "outputs": [],
      "source": [
        "10**2"
      ],
      "id": "46c4e11c"
    },
    {
      "cell_type": "markdown",
      "metadata": {},
      "source": [
        "Remember $10^2=10(10)=100$"
      ],
      "id": "8dadcfad-4c0e-4311-8f1d-f546ec632d05"
    },
    {
      "cell_type": "code",
      "execution_count": null,
      "metadata": {},
      "outputs": [],
      "source": [
        "3**4"
      ],
      "id": "3fa9eff2"
    },
    {
      "cell_type": "markdown",
      "metadata": {},
      "source": [
        "This is 3 raised to the power 4. Remember $3^4=(3)(3)(3)(3)=81$\n",
        "\n",
        "You can call functions, like taking a square root.\n",
        "\n",
        "First you need to import a package that has the sqrt function in it. For\n",
        "now just put `import math` on a line by itself. Then use the function by\n",
        "using a `.` to call it.\n",
        "\n",
        "So `math.sqrt(16)` means the same as:\n",
        "\n",
        "$$ \\sqrt{16} $$\n",
        "\n",
        "which we know is just 4."
      ],
      "id": "80e765fd-d25c-42c1-b360-c91c9d7a1409"
    },
    {
      "cell_type": "code",
      "execution_count": null,
      "metadata": {},
      "outputs": [],
      "source": [
        "import math\n",
        "\n",
        "math.sqrt(16)"
      ],
      "id": "7bbc372f"
    },
    {
      "cell_type": "markdown",
      "metadata": {},
      "source": [
        "Square root works for any non-negative number:"
      ],
      "id": "549fae07-c2eb-4248-87b5-5a4eca450e3f"
    },
    {
      "cell_type": "code",
      "execution_count": null,
      "metadata": {},
      "outputs": [],
      "source": [
        "math.sqrt(2)"
      ],
      "id": "3d56187a"
    },
    {
      "cell_type": "markdown",
      "metadata": {},
      "source": [
        "What happens if we try to make python take the square root of a negative\n",
        "number?"
      ],
      "id": "29c348d6-6b4e-4803-b927-eb167f4ac98b"
    },
    {
      "cell_type": "code",
      "execution_count": null,
      "metadata": {},
      "outputs": [],
      "source": [
        "import math\n",
        "\n",
        "math.sqrt(-25)"
      ],
      "id": "aafc95c8"
    },
    {
      "cell_type": "markdown",
      "metadata": {},
      "source": [
        "It tells us there is a `math domain error`\n",
        "\n",
        "You can call the round function:"
      ],
      "id": "4ec2db09-b94d-469f-91ce-69b4f324a6e1"
    },
    {
      "cell_type": "code",
      "execution_count": null,
      "metadata": {},
      "outputs": [],
      "source": [
        "round(6.3)"
      ],
      "id": "a08a22da"
    },
    {
      "cell_type": "markdown",
      "metadata": {},
      "source": [
        "You can call the math.ceil function, what do you think this does?"
      ],
      "id": "ad0b2d01-39a3-4f7d-ab91-3d940513bd0e"
    },
    {
      "cell_type": "code",
      "execution_count": null,
      "metadata": {},
      "outputs": [],
      "source": [
        "math.ceil(6.3)"
      ],
      "id": "9c2c4f74"
    },
    {
      "cell_type": "markdown",
      "metadata": {},
      "source": [
        "You can call the math.floor function, what does this do?"
      ],
      "id": "99be81c5-5662-41d6-8459-9430cd7c05e8"
    },
    {
      "cell_type": "code",
      "execution_count": null,
      "metadata": {},
      "outputs": [],
      "source": [
        "math.floor(6.8)"
      ],
      "id": "c13b730f"
    },
    {
      "cell_type": "markdown",
      "metadata": {},
      "source": [
        "Python knows about the number $\\pi$ as well. It is built in:"
      ],
      "id": "f9b0d7d2-74d3-4e36-b916-6490ff577cde"
    },
    {
      "cell_type": "code",
      "execution_count": null,
      "metadata": {},
      "outputs": [],
      "source": [
        "math.pi"
      ],
      "id": "3aff4053"
    },
    {
      "cell_type": "markdown",
      "metadata": {},
      "source": [
        "Python has a remainder function. It is the percent sign `%`. This just\n",
        "gives the remainder of $17/5$, which is $2$ since $17/5=3$ with\n",
        "remainder 2:"
      ],
      "id": "7fb13653-8a6d-42f5-9260-dc92a577dfd5"
    },
    {
      "cell_type": "code",
      "execution_count": null,
      "metadata": {},
      "outputs": [],
      "source": [
        "17%5"
      ],
      "id": "740b71f8"
    },
    {
      "cell_type": "markdown",
      "metadata": {},
      "source": [
        "Order of operations"
      ],
      "id": "23e109ee-a012-4ff7-8bd4-4d0a1c4c05d8"
    },
    {
      "cell_type": "code",
      "execution_count": null,
      "metadata": {},
      "outputs": [],
      "source": [
        "2+3*4"
      ],
      "id": "689a63cf"
    },
    {
      "cell_type": "markdown",
      "metadata": {},
      "source": [
        "Just like we were taught for PEMDAS, it does the multiplication first,\n",
        "then the addition. This is sort of like there are parentheses around the\n",
        "multiplication:"
      ],
      "id": "31621087-a146-45b5-8b6e-750a327d5287"
    },
    {
      "cell_type": "code",
      "execution_count": null,
      "metadata": {},
      "outputs": [],
      "source": [
        "2+(3*4)"
      ],
      "id": "2e3b867e"
    },
    {
      "cell_type": "markdown",
      "metadata": {},
      "source": [
        "If we want to make python do the addition first we can. We have to tell\n",
        "it to do that first using parentheses"
      ],
      "id": "08ad0471-2f1a-4d27-b38a-b8a7a40551ce"
    },
    {
      "cell_type": "code",
      "execution_count": null,
      "metadata": {},
      "outputs": [],
      "source": [
        "(2+3)*4"
      ],
      "id": "ead6cc98"
    },
    {
      "cell_type": "markdown",
      "metadata": {},
      "source": [
        "One last thing about printing things in python. If you list some\n",
        "expression on a line by itself it will print it out"
      ],
      "id": "a8e97db0-e9ab-403c-8b6d-be1c00a0870a"
    },
    {
      "cell_type": "code",
      "execution_count": null,
      "metadata": {},
      "outputs": [],
      "source": [
        "3+4"
      ],
      "id": "c0d3c8f4"
    },
    {
      "cell_type": "markdown",
      "metadata": {},
      "source": [
        "But if you try and do two things it will only print the last one"
      ],
      "id": "71ad8205-f296-4d15-9ee7-c6383873ceb2"
    },
    {
      "cell_type": "code",
      "execution_count": null,
      "metadata": {},
      "outputs": [],
      "source": [
        "3+4\n",
        "6-2"
      ],
      "id": "c1a0f2fe"
    },
    {
      "cell_type": "markdown",
      "metadata": {},
      "source": [
        "For that reason sometimes people use the `print` function which will\n",
        "make sure it prints out even if it is not the last thing."
      ],
      "id": "50d7b3ad-9f71-4748-ae17-ce72188b3174"
    },
    {
      "cell_type": "code",
      "execution_count": null,
      "metadata": {},
      "outputs": [],
      "source": [
        "print(3+4)\n",
        "print(6-2)"
      ],
      "id": "7dc577a9"
    }
  ],
  "nbformat": 4,
  "nbformat_minor": 5,
  "metadata": {
    "kernelspec": {
      "name": "python3",
      "display_name": "Python 3 (ipykernel)",
      "language": "python"
    }
  }
}
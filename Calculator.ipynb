{
  "cells": [
    {
      "cell_type": "markdown",
      "metadata": {},
      "source": [
        "# Calculator\n",
        "\n",
        "Python can do calculations, just like a calculator:\n",
        "\n",
        "Addition:"
      ],
      "id": "c21f1eba-a072-4917-994d-36cf6de4e3f7"
    },
    {
      "cell_type": "code",
      "execution_count": null,
      "metadata": {},
      "outputs": [],
      "source": [
        "3+4"
      ],
      "id": "980d257b"
    },
    {
      "cell_type": "markdown",
      "metadata": {},
      "source": [
        "Multiplication:"
      ],
      "id": "c31cc776-bb0c-4f07-9de2-85028e598b24"
    },
    {
      "cell_type": "code",
      "execution_count": null,
      "metadata": {},
      "outputs": [],
      "source": [
        "3*4"
      ],
      "id": "47e0f294"
    },
    {
      "cell_type": "markdown",
      "metadata": {},
      "source": [
        "Subtraction:"
      ],
      "id": "3652d62e-56cb-4203-8cf3-91cdc87b33fa"
    },
    {
      "cell_type": "code",
      "execution_count": null,
      "metadata": {},
      "outputs": [],
      "source": [
        "3-4"
      ],
      "id": "089d2f1c"
    },
    {
      "cell_type": "markdown",
      "metadata": {},
      "source": [
        "Division:"
      ],
      "id": "63ddd48d-f7d9-443f-b85c-0e0a735dffd3"
    },
    {
      "cell_type": "code",
      "execution_count": null,
      "metadata": {},
      "outputs": [],
      "source": [
        "3/4"
      ],
      "id": "d0c6c56a"
    },
    {
      "cell_type": "markdown",
      "metadata": {},
      "source": [
        "Exponents:"
      ],
      "id": "55d20d15-e085-4c48-945a-3a0d053516fc"
    },
    {
      "cell_type": "code",
      "execution_count": null,
      "metadata": {},
      "outputs": [],
      "source": [
        "10**2"
      ],
      "id": "e92bdd0b"
    },
    {
      "cell_type": "markdown",
      "metadata": {},
      "source": [
        "Remember $10^2=10(10)=100$"
      ],
      "id": "2d300829-6f24-4d91-a4a5-7504d05319b7"
    },
    {
      "cell_type": "code",
      "execution_count": null,
      "metadata": {},
      "outputs": [],
      "source": [
        "3**4"
      ],
      "id": "425f1a28"
    },
    {
      "cell_type": "markdown",
      "metadata": {},
      "source": [
        "This is 3 raised to the power 4. Remember $3^4=(3)(3)(3)(3)=81$\n",
        "\n",
        "3*3*3\\*3\n",
        "\n",
        "You can call functions, like taking a square root.\n",
        "\n",
        "First you need to import a package that has the sqrt function in it. For\n",
        "now just put `import math` on a line by itself. Then use the function by\n",
        "using a `.` to call it.\n",
        "\n",
        "So `math.sqrt(16)` means the same as:\n",
        "\n",
        "$$ \\sqrt{16} $$\n",
        "\n",
        "which we know is just 4."
      ],
      "id": "6639120f-e156-443f-ad82-c669294b5503"
    },
    {
      "cell_type": "code",
      "execution_count": null,
      "metadata": {},
      "outputs": [],
      "source": [
        "import math\n",
        "\n",
        "math.sqrt(16)"
      ],
      "id": "968fbd94"
    },
    {
      "cell_type": "markdown",
      "metadata": {},
      "source": [
        "Square root works for any non-negative number:"
      ],
      "id": "4d35edb9-879c-4594-87b0-22309101a50a"
    },
    {
      "cell_type": "code",
      "execution_count": null,
      "metadata": {},
      "outputs": [],
      "source": [
        "math.sqrt(2)"
      ],
      "id": "519efcbe"
    },
    {
      "cell_type": "markdown",
      "metadata": {},
      "source": [
        "What happens if we try to make python take the square root of a negative\n",
        "number?"
      ],
      "id": "ca8cd1b2-4a6b-4af0-9e28-b233cd7ca795"
    },
    {
      "cell_type": "code",
      "execution_count": null,
      "metadata": {},
      "outputs": [],
      "source": [
        "math.sqrt(-25)"
      ],
      "id": "47f37e06"
    },
    {
      "cell_type": "markdown",
      "metadata": {},
      "source": [
        "It tells us there is a `math domain error`\n",
        "\n",
        "You can call the round function:"
      ],
      "id": "d42219bd-0f4f-49db-833a-41fedd5b8b84"
    },
    {
      "cell_type": "code",
      "execution_count": null,
      "metadata": {},
      "outputs": [],
      "source": [
        "round(6.3)"
      ],
      "id": "4c15f1da"
    },
    {
      "cell_type": "markdown",
      "metadata": {},
      "source": [
        "You can call the math.ceil function, what do you think this does?"
      ],
      "id": "6cf5ba98-6fe9-4f77-817c-9de461d5ca98"
    },
    {
      "cell_type": "code",
      "execution_count": null,
      "metadata": {},
      "outputs": [],
      "source": [
        "math.ceil(6.3)"
      ],
      "id": "3d941090"
    },
    {
      "cell_type": "markdown",
      "metadata": {},
      "source": [
        "You can call the math.floor function, what does this do?"
      ],
      "id": "d3ff21ff-45ef-4d9d-a215-26f9bd4e9201"
    },
    {
      "cell_type": "code",
      "execution_count": null,
      "metadata": {},
      "outputs": [],
      "source": [
        "math.floor(6.8)"
      ],
      "id": "7d510f83"
    },
    {
      "cell_type": "markdown",
      "metadata": {},
      "source": [
        "Python knows about the number $\\pi$ as well. It is built in:"
      ],
      "id": "0a3860d4-e0c1-4030-9937-a01c80c2d4ab"
    },
    {
      "cell_type": "code",
      "execution_count": null,
      "metadata": {},
      "outputs": [],
      "source": [
        "math.pi"
      ],
      "id": "d977a06f"
    },
    {
      "cell_type": "markdown",
      "metadata": {},
      "source": [
        "Python has a remainder function. It is the percent sign `%`. This just\n",
        "gives the remainder of $17/5$, which is $2$ since $17/5=3$ with\n",
        "remainder 2:"
      ],
      "id": "187648dd-933d-4f9b-8063-ba5513a76eec"
    },
    {
      "cell_type": "code",
      "execution_count": null,
      "metadata": {},
      "outputs": [],
      "source": [
        "17%5"
      ],
      "id": "df42cdce"
    },
    {
      "cell_type": "markdown",
      "metadata": {},
      "source": [
        "Order of operations"
      ],
      "id": "0f277676-6e51-4603-a7c7-09d8ea6a69d1"
    },
    {
      "cell_type": "code",
      "execution_count": null,
      "metadata": {},
      "outputs": [],
      "source": [
        "2+3*4"
      ],
      "id": "a336ef98"
    },
    {
      "cell_type": "markdown",
      "metadata": {},
      "source": [
        "Just like we were taught for PEMDAS, it does the multiplication first,\n",
        "then the addition. This is sort of like there are parentheses around the\n",
        "multiplication:"
      ],
      "id": "3a8ea064-c763-4e10-a0d4-4cf3e97bf3d1"
    },
    {
      "cell_type": "code",
      "execution_count": null,
      "metadata": {},
      "outputs": [],
      "source": [
        "2+(3*4)"
      ],
      "id": "6868b42a"
    },
    {
      "cell_type": "markdown",
      "metadata": {},
      "source": [
        "If we want to make pytho do the addition first we can. We have to tell\n",
        "it to do that first using parentheses"
      ],
      "id": "d8a144e1-9acc-4592-8668-cc69a56bf9bf"
    },
    {
      "cell_type": "code",
      "execution_count": null,
      "metadata": {},
      "outputs": [],
      "source": [
        "(2+3)*4"
      ],
      "id": "c7893ee1"
    }
  ],
  "nbformat": 4,
  "nbformat_minor": 5,
  "metadata": {
    "kernelspec": {
      "name": "python3",
      "display_name": "Python 3 (ipykernel)",
      "language": "python"
    }
  }
}
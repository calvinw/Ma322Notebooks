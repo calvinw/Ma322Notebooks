{
  "cells": [
    {
      "cell_type": "markdown",
      "metadata": {},
      "source": [
        "# Calculator\n",
        "\n",
        "Python can do calculations, just like a calculator:\n",
        "\n",
        "Addition:"
      ],
      "id": "d1619032-e99e-431b-96c0-468c4a915e49"
    },
    {
      "cell_type": "code",
      "execution_count": null,
      "metadata": {},
      "outputs": [],
      "source": [
        "3+4"
      ],
      "id": "eee86143"
    },
    {
      "cell_type": "markdown",
      "metadata": {},
      "source": [
        "Multiplication:"
      ],
      "id": "6705d9f5-d7aa-4970-aa57-6f1ecea719eb"
    },
    {
      "cell_type": "code",
      "execution_count": null,
      "metadata": {},
      "outputs": [],
      "source": [
        "3*4"
      ],
      "id": "1b42518a"
    },
    {
      "cell_type": "markdown",
      "metadata": {},
      "source": [
        "Subtraction:"
      ],
      "id": "466a0b8f-c06b-4477-9b0d-82b3b3cbb589"
    },
    {
      "cell_type": "code",
      "execution_count": null,
      "metadata": {},
      "outputs": [],
      "source": [
        "3-4"
      ],
      "id": "8b353a76"
    },
    {
      "cell_type": "markdown",
      "metadata": {},
      "source": [
        "Division:"
      ],
      "id": "495a3407-a38a-4a7c-81c0-6e9a70c07953"
    },
    {
      "cell_type": "code",
      "execution_count": null,
      "metadata": {},
      "outputs": [],
      "source": [
        "3/4"
      ],
      "id": "66face9a"
    },
    {
      "cell_type": "markdown",
      "metadata": {},
      "source": [
        "Exponents:"
      ],
      "id": "8f971164-8ea7-418b-8cd9-56e238c43a78"
    },
    {
      "cell_type": "code",
      "execution_count": null,
      "metadata": {},
      "outputs": [],
      "source": [
        "10**2"
      ],
      "id": "3d920b62"
    },
    {
      "cell_type": "markdown",
      "metadata": {},
      "source": [
        "Remember $10^2=10(10)=100$"
      ],
      "id": "6412f371-13e0-4e44-a023-ada4d864124b"
    },
    {
      "cell_type": "code",
      "execution_count": null,
      "metadata": {},
      "outputs": [],
      "source": [
        "3**4"
      ],
      "id": "4e4f3755"
    },
    {
      "cell_type": "markdown",
      "metadata": {},
      "source": [
        "This is 3 raised to the power 4. Remember $3^4=(3)(3)(3)(3)=81$\n",
        "\n",
        "You can call functions, like taking a square root.\n",
        "\n",
        "First you need to import a package that has the sqrt function in it. For\n",
        "now just put `import math` on a line by itself. Then use the function by\n",
        "using a `.` to call it.\n",
        "\n",
        "So `math.sqrt(16)` means the same as:\n",
        "\n",
        "$$ \\sqrt{16} $$\n",
        "\n",
        "which we know is just 4."
      ],
      "id": "f78540e7-4c45-425c-83f9-2a4c9c88f445"
    },
    {
      "cell_type": "code",
      "execution_count": null,
      "metadata": {},
      "outputs": [],
      "source": [
        "import math\n",
        "\n",
        "math.sqrt(16)"
      ],
      "id": "27a1136e"
    },
    {
      "cell_type": "markdown",
      "metadata": {},
      "source": [
        "Square root works for any non-negative number:"
      ],
      "id": "dc6d756e-6561-4d83-b7fa-472904eb0295"
    },
    {
      "cell_type": "code",
      "execution_count": null,
      "metadata": {},
      "outputs": [],
      "source": [
        "math.sqrt(2)"
      ],
      "id": "6af22625"
    },
    {
      "cell_type": "markdown",
      "metadata": {},
      "source": [
        "What happens if we try to make python take the square root of a negative\n",
        "number?"
      ],
      "id": "99eee8ae-81e2-4282-a21b-888b90646b4b"
    },
    {
      "cell_type": "code",
      "execution_count": null,
      "metadata": {},
      "outputs": [],
      "source": [
        "math.sqrt(-25)"
      ],
      "id": "f088de84"
    },
    {
      "cell_type": "markdown",
      "metadata": {},
      "source": [
        "It tells us there is a `math domain error`\n",
        "\n",
        "You can call the round function:"
      ],
      "id": "a2cad125-2def-466a-a362-cfa498068ccc"
    },
    {
      "cell_type": "code",
      "execution_count": null,
      "metadata": {},
      "outputs": [],
      "source": [
        "round(6.3)"
      ],
      "id": "61f82a39"
    },
    {
      "cell_type": "markdown",
      "metadata": {},
      "source": [
        "You can call the math.ceil function, what do you think this does?"
      ],
      "id": "03e4d1b4-a935-4202-844e-10a09b7957cb"
    },
    {
      "cell_type": "code",
      "execution_count": null,
      "metadata": {},
      "outputs": [],
      "source": [
        "math.ceil(6.3)"
      ],
      "id": "ff7d0c89"
    },
    {
      "cell_type": "markdown",
      "metadata": {},
      "source": [
        "You can call the math.floor function, what does this do?"
      ],
      "id": "b66b796e-7e84-4e52-a397-e0f8b13083b3"
    },
    {
      "cell_type": "code",
      "execution_count": null,
      "metadata": {},
      "outputs": [],
      "source": [
        "math.floor(6.8)"
      ],
      "id": "cab0718d"
    },
    {
      "cell_type": "markdown",
      "metadata": {},
      "source": [
        "Python knows about the number $\\pi$ as well. It is built in:"
      ],
      "id": "f90dd40c-4f08-4157-9971-2782bebf9a8b"
    },
    {
      "cell_type": "code",
      "execution_count": null,
      "metadata": {},
      "outputs": [],
      "source": [
        "math.pi"
      ],
      "id": "625e89cd"
    },
    {
      "cell_type": "markdown",
      "metadata": {},
      "source": [
        "Python has a remainder function. It is the percent sign `%`. This just\n",
        "gives the remainder of $17/5$, which is $2$ since $17/5=3$ with\n",
        "remainder 2:"
      ],
      "id": "ad2fcb30-3500-49db-bba3-690e10983431"
    },
    {
      "cell_type": "code",
      "execution_count": null,
      "metadata": {},
      "outputs": [],
      "source": [
        "17%5"
      ],
      "id": "fc13d1dd"
    },
    {
      "cell_type": "markdown",
      "metadata": {},
      "source": [
        "Order of operations"
      ],
      "id": "21a1d2c4-8573-4d8e-a4ec-93f132a7af27"
    },
    {
      "cell_type": "code",
      "execution_count": null,
      "metadata": {},
      "outputs": [],
      "source": [
        "2+3*4"
      ],
      "id": "3a50f392"
    },
    {
      "cell_type": "markdown",
      "metadata": {},
      "source": [
        "Just like we were taught for PEMDAS, it does the multiplication first,\n",
        "then the addition. This is sort of like there are parentheses around the\n",
        "multiplication:"
      ],
      "id": "30b39b14-f2f0-455c-b5c5-8282a6da1d66"
    },
    {
      "cell_type": "code",
      "execution_count": null,
      "metadata": {},
      "outputs": [],
      "source": [
        "2+(3*4)"
      ],
      "id": "77735585"
    },
    {
      "cell_type": "markdown",
      "metadata": {},
      "source": [
        "If we want to make python do the addition first we can. We have to tell\n",
        "it to do that first using parentheses"
      ],
      "id": "e6d0b88c-4536-49a8-8b2e-859bc503b2bd"
    },
    {
      "cell_type": "code",
      "execution_count": null,
      "metadata": {},
      "outputs": [],
      "source": [
        "(2+3)*4"
      ],
      "id": "a193bb17"
    },
    {
      "cell_type": "markdown",
      "metadata": {},
      "source": [
        "One last thing about printing things in python. If you list some\n",
        "expression on a line by itself it will print it out"
      ],
      "id": "9463fc9e-303a-49e4-bf35-ec1243b825a3"
    },
    {
      "cell_type": "code",
      "execution_count": null,
      "metadata": {},
      "outputs": [],
      "source": [
        "3+4"
      ],
      "id": "b485ade4"
    },
    {
      "cell_type": "markdown",
      "metadata": {},
      "source": [
        "But if you try and do two things it will only print the last one"
      ],
      "id": "cc246e01-eb12-45f2-9ea2-a3b29aaf1401"
    },
    {
      "cell_type": "code",
      "execution_count": null,
      "metadata": {},
      "outputs": [],
      "source": [
        "3+4\n",
        "6-2"
      ],
      "id": "f959641b"
    },
    {
      "cell_type": "markdown",
      "metadata": {},
      "source": [
        "For that reason sometimes people use the `print` function which will\n",
        "make sure it prints out even if it is not the last thing."
      ],
      "id": "4236259b-7e6f-416f-8e6b-44ab8a909751"
    },
    {
      "cell_type": "code",
      "execution_count": null,
      "metadata": {},
      "outputs": [],
      "source": [
        "print(3+4)\n",
        "print(6-2)"
      ],
      "id": "7d47cd76"
    }
  ],
  "nbformat": 4,
  "nbformat_minor": 5,
  "metadata": {
    "kernelspec": {
      "name": "python3",
      "display_name": "Python 3 (ipykernel)",
      "language": "python"
    }
  }
}
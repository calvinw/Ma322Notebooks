{
  "cells": [
    {
      "cell_type": "markdown",
      "metadata": {},
      "source": [
        "# More Data Types\n",
        "\n",
        "**Problem**:\n",
        "\n",
        "-   Assign a variable using `x = 1.2`\n",
        "-   Print out info on `x` using the `type` function"
      ],
      "id": "2bcb7ffd-078d-46e7-8a0a-32c2b052ab6f"
    },
    {
      "cell_type": "code",
      "execution_count": null,
      "metadata": {},
      "outputs": [],
      "source": [
        "CODE"
      ],
      "id": "d271edb7"
    },
    {
      "cell_type": "markdown",
      "metadata": {},
      "source": [
        "This should output `<class 'float'>` which means `float`\n",
        "\n",
        "Let’s look at string types:\n",
        "\n",
        "**Problem**:\n",
        "\n",
        "-   Assign a variable using `y = \"hello\"`\n",
        "-   Print out info on `y` using the `type` function"
      ],
      "id": "833a41c5-f281-420c-af9b-9a79ca5ce399"
    },
    {
      "cell_type": "code",
      "execution_count": null,
      "metadata": {},
      "outputs": [],
      "source": [
        "CODE"
      ],
      "id": "02c85a71"
    },
    {
      "cell_type": "markdown",
      "metadata": {},
      "source": [
        "This should output `<class 'str'>` which means `string`\n",
        "\n",
        "Let’s look at boolean type:\n",
        "\n",
        "**Problem**:\n",
        "\n",
        "-   Assign a variable using `z = True`\n",
        "-   Print out info on `z` using the `type` function"
      ],
      "id": "d12cfa91-8dec-4746-93de-fcbe44b42b3a"
    },
    {
      "cell_type": "code",
      "execution_count": null,
      "metadata": {},
      "outputs": [],
      "source": [
        "CODE"
      ],
      "id": "5cb0b8dc"
    },
    {
      "cell_type": "markdown",
      "metadata": {},
      "source": [
        "This should output `<class 'bool'>` which means `boolean`.\n",
        "\n",
        "One conversion that is frequently used is from a string like “1.23” to a\n",
        "number 1.23.\n",
        "\n",
        "With quotes around it, a number will be seen as a string:\n",
        "\n",
        "**Problem**:\n",
        "\n",
        "-   Define a variable `a = \"1.23\"`\n",
        "-   Print out the data type of `a` using the `type` function"
      ],
      "id": "01fc5964-c24a-45f0-8123-0b790c80cc34"
    },
    {
      "cell_type": "code",
      "execution_count": null,
      "metadata": {},
      "outputs": [],
      "source": [
        "CODE"
      ],
      "id": "f4798368"
    },
    {
      "cell_type": "markdown",
      "metadata": {},
      "source": [
        "So if we want to change the string “1.23” to a number, we must use\n",
        "`float` to convert the string to a number:\n",
        "\n",
        "**Problem**:\n",
        "\n",
        "-   Define a variable `b` and use it to convert the variable `a` from\n",
        "    above to a `float`\n",
        "-   Print out the data type of `b` using the `type` function"
      ],
      "id": "8478bc27-3e80-4234-81cb-9ab207f72628"
    },
    {
      "cell_type": "code",
      "execution_count": null,
      "metadata": {},
      "outputs": [],
      "source": [
        "CODE"
      ],
      "id": "27945dbb"
    },
    {
      "cell_type": "markdown",
      "metadata": {},
      "source": [
        "Finally for the code below add a couple of `type` functions to display\n",
        "information about the variables:\n",
        "\n",
        "**Problem**:\n",
        "\n",
        "-   Print out info on `x` using the `type` function\n",
        "-   Print out info on `y` using the `type` function"
      ],
      "id": "621dd292-22ec-4d9c-96fd-accebe7937b5"
    },
    {
      "cell_type": "code",
      "execution_count": null,
      "metadata": {},
      "outputs": [],
      "source": [
        "x = \"1.23\"\n",
        "y = float(x)\n",
        "CODE"
      ],
      "id": "7f5d79a9"
    },
    {
      "cell_type": "markdown",
      "metadata": {},
      "source": [
        "`x` is a string since there are quotation marks so that makes it a\n",
        "string. `y` is a float since it was converted to a float with `float`.\n",
        "\n",
        "Once again, for the code below add a couple of `type` functions to\n",
        "display information about the variables.\n",
        "\n",
        "**Problem**:\n",
        "\n",
        "-   Print out info on `z` using the `type` function\n",
        "-   Print out info on `w` using the `type` function"
      ],
      "id": "457d9e1a-f9ed-4600-82c6-230c59ddb87e"
    },
    {
      "cell_type": "code",
      "execution_count": null,
      "metadata": {},
      "outputs": [],
      "source": [
        "z = \"True\"\n",
        "w = bool(z)\n",
        "CODE"
      ],
      "id": "148f0b8a"
    },
    {
      "cell_type": "markdown",
      "metadata": {},
      "source": [
        "`z` is a string since there are quotation marks so that makes it a\n",
        "string. `w` is a boolean since it was converted to a boolean with\n",
        "`bool`."
      ],
      "id": "24b86bbd-0e16-4dd4-aadd-8702387a1eea"
    }
  ],
  "nbformat": 4,
  "nbformat_minor": 5,
  "metadata": {
    "kernelspec": {
      "name": "python3",
      "display_name": "Python 3 (ipykernel)",
      "language": "python"
    }
  }
}
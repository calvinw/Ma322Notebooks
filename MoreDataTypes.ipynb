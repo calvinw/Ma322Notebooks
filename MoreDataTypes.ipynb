{
  "cells": [
    {
      "cell_type": "markdown",
      "metadata": {},
      "source": [
        "# More Data Types\n",
        "\n",
        "-   Assign a variable using `myFloat = 1.2`\n",
        "-   Print out info on `myFloat` using the `type` function"
      ],
      "id": "47ae05b8-e408-48e1-b620-a66f550f6875"
    },
    {
      "cell_type": "code",
      "execution_count": null,
      "metadata": {},
      "outputs": [],
      "source": [
        "CODE"
      ],
      "id": "c9eedbf1"
    },
    {
      "cell_type": "markdown",
      "metadata": {},
      "source": [
        "This should output `<class 'float'>` which means `float`\n",
        "\n",
        "-   Use the `isinstance` function to check if `myFloat` is a float data\n",
        "    type."
      ],
      "id": "3f372723-37ce-484c-8a75-9bbe90964397"
    },
    {
      "cell_type": "code",
      "execution_count": null,
      "metadata": {},
      "outputs": [],
      "source": [
        "CODE"
      ],
      "id": "9a8a476b"
    },
    {
      "cell_type": "markdown",
      "metadata": {},
      "source": [
        "The output should be `True` since `myFloat` is a float data type.\n",
        "\n",
        "Let’s look at string types\n",
        "\n",
        "-   Assign a variable using `myString = \"hello\"`\n",
        "-   Print out info on `myString` using the `type` function"
      ],
      "id": "40f79573-96e8-414a-8e2a-be1f3c038023"
    },
    {
      "cell_type": "code",
      "execution_count": null,
      "metadata": {},
      "outputs": [],
      "source": [
        "CODE"
      ],
      "id": "86bc00bb"
    },
    {
      "cell_type": "markdown",
      "metadata": {},
      "source": [
        "This should output `<class 'str'>` which means `string`\n",
        "\n",
        "-   Use the `isinstance` function to check if `myString` is a string\n",
        "    data type"
      ],
      "id": "2c51121d-3537-484a-843c-b42b56e9937e"
    },
    {
      "cell_type": "code",
      "execution_count": null,
      "metadata": {},
      "outputs": [],
      "source": [
        "CODE"
      ],
      "id": "73fda946"
    },
    {
      "cell_type": "markdown",
      "metadata": {},
      "source": [
        "The output should be `True` since `myString` is a string data type.\n",
        "\n",
        "Let’s look at boolean type:\n",
        "\n",
        "-   Assign a variable using `myBoolean = True`\n",
        "-   Print out info on `myBoolean` using the `type` function"
      ],
      "id": "bf11baca-d7c9-439e-9104-85d906533fee"
    },
    {
      "cell_type": "code",
      "execution_count": null,
      "metadata": {},
      "outputs": [],
      "source": [
        "CODE"
      ],
      "id": "60bb7bdf"
    },
    {
      "cell_type": "markdown",
      "metadata": {},
      "source": [
        "This should output `<class 'bool'>` which means `boolean`.\n",
        "\n",
        "-   Use the `isinstance` function to check the data type of `myBoolean`\n",
        "    from above"
      ],
      "id": "18fcdb4d-66d1-47c4-bbf4-fa831b746484"
    },
    {
      "cell_type": "code",
      "execution_count": null,
      "metadata": {},
      "outputs": [],
      "source": [
        "CODE"
      ],
      "id": "ac08a0ca"
    },
    {
      "cell_type": "markdown",
      "metadata": {},
      "source": [
        "The output should be `True` since `myBoolean` is a boolean data type.\n",
        "\n",
        "One conversion that is frequently used is from a string like “1.23” to a\n",
        "number 1.23.\n",
        "\n",
        "With quotes around it, a number will be seen as a string:\n",
        "\n",
        "-   Define a variable `aString = \"1.23\"`\n",
        "-   print out whether it is a string using `isinstance`\n",
        "-   print out whether it is a float using `isinstance`"
      ],
      "id": "87849983-37f7-42a3-a96c-521cb6249bb1"
    },
    {
      "cell_type": "code",
      "execution_count": null,
      "metadata": {},
      "outputs": [],
      "source": [
        "CODE"
      ],
      "id": "1fe51bab"
    },
    {
      "cell_type": "markdown",
      "metadata": {},
      "source": [
        "The output of `isinstance(aString, str)` should be `True` since\n",
        "`aString` was a string.\n",
        "\n",
        "The output of `isinstance(aString, float)` should be `False` since\n",
        "`aString` was not a float.\n",
        "\n",
        "So if we want to change the string “1.23” to a number, we must use\n",
        "`float` to convert the string to a number:\n",
        "\n",
        "-   Define a variable `aNumber` by using the function `float` on\n",
        "    `aString`\n",
        "-   print out whether `aNumber` is a float using `isinstance`"
      ],
      "id": "017ac255-e022-4c54-8c56-cd8c49879fff"
    },
    {
      "cell_type": "code",
      "execution_count": null,
      "metadata": {},
      "outputs": [],
      "source": [
        "CODE"
      ],
      "id": "5af1a56b"
    },
    {
      "cell_type": "markdown",
      "metadata": {},
      "source": [
        "The output of `isinstance(aNumber, float)` should be `True` since\n",
        "`aNumber` was a float.\n",
        "\n",
        "Finally for the code below add a couple of `type` functions to display\n",
        "information about the variables.\n",
        "\n",
        "-   Print out info on `x` using the `type` function\n",
        "-   Print out info on `y` using the `type` function"
      ],
      "id": "9ea942a8-c847-4574-8dfb-6091d781e2e3"
    },
    {
      "cell_type": "code",
      "execution_count": null,
      "metadata": {},
      "outputs": [],
      "source": [
        "x = \"1.23\"\n",
        "y = float(\"1.23\")\n",
        "CODE"
      ],
      "id": "f67282db"
    },
    {
      "cell_type": "markdown",
      "metadata": {},
      "source": [
        "`x` is a string since there are quotation marks so that makes it a\n",
        "string.\n",
        "\n",
        "`y` is a float since it was converted to a float with `float`.\n",
        "\n",
        "Once again, for the code below add a couple of `type` functions to\n",
        "display information about the variables.\n",
        "\n",
        "-   Print out info on `z` using the `type` function\n",
        "-   Print out info on `w` using the `type` function"
      ],
      "id": "d12ebd8e-a65c-41f7-9c65-2d066d86da51"
    },
    {
      "cell_type": "code",
      "execution_count": null,
      "metadata": {},
      "outputs": [],
      "source": [
        "z = \"TRUE\"\n",
        "w = bool(\"TRUE\")\n",
        "CODE"
      ],
      "id": "fed42e89"
    },
    {
      "cell_type": "markdown",
      "metadata": {},
      "source": [
        "`z` is a string since there are quotation marks so that makes it a\n",
        "string.\n",
        "\n",
        "`w` is a boolean since it was converted to a boolean with `bool`."
      ],
      "id": "a41fd123-f4ad-4e7b-a8fe-cced8c7a4221"
    }
  ],
  "nbformat": 4,
  "nbformat_minor": 5,
  "metadata": {
    "kernelspec": {
      "name": "python3",
      "display_name": "Python 3 (ipykernel)",
      "language": "python"
    }
  }
}
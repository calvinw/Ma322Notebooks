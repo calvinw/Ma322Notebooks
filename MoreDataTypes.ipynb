{
  "cells": [
    {
      "cell_type": "markdown",
      "metadata": {},
      "source": [
        "# More Data Types\n",
        "\n",
        "-   Assign a variable using `myFloat = 1.2`\n",
        "-   Print out info on `myFloat` using the `type` function"
      ],
      "id": "f6a9b60e-12fa-4c5b-927e-efa4ac45d656"
    },
    {
      "cell_type": "code",
      "execution_count": null,
      "metadata": {},
      "outputs": [],
      "source": [
        "CODE"
      ],
      "id": "d17faef1"
    },
    {
      "cell_type": "markdown",
      "metadata": {},
      "source": [
        "This should output `<class 'float'>` which means `float`\n",
        "\n",
        "-   Use the `isinstance` function to check if `myFloat` is a float data\n",
        "    type."
      ],
      "id": "c7d2de91-04a5-4faa-8b68-13f4a9270dd9"
    },
    {
      "cell_type": "code",
      "execution_count": null,
      "metadata": {},
      "outputs": [],
      "source": [
        "CODE"
      ],
      "id": "be743e00"
    },
    {
      "cell_type": "markdown",
      "metadata": {},
      "source": [
        "The output should be `True` since `myFloat` is a float data type.\n",
        "\n",
        "Let’s look at string types\n",
        "\n",
        "-   Assign a variable using `myString = \"hello\"`\n",
        "-   Print out info on `myString` using the `type` function"
      ],
      "id": "3a43ccf8-42b5-4554-a38a-50617e3fa0f9"
    },
    {
      "cell_type": "code",
      "execution_count": null,
      "metadata": {},
      "outputs": [],
      "source": [
        "CODE"
      ],
      "id": "620cc2e9"
    },
    {
      "cell_type": "markdown",
      "metadata": {},
      "source": [
        "This should output `<class 'str'>` which means `string`\n",
        "\n",
        "-   Use the `isinstance` function to check if `myString` is a string\n",
        "    data type"
      ],
      "id": "f3383fda-a5c3-4ad7-bcaf-30cc15736141"
    },
    {
      "cell_type": "code",
      "execution_count": null,
      "metadata": {},
      "outputs": [],
      "source": [
        "CODE"
      ],
      "id": "e700bc9d"
    },
    {
      "cell_type": "markdown",
      "metadata": {},
      "source": [
        "The output should be `True` since `myString` is a string data type.\n",
        "\n",
        "Let’s look at boolean type:\n",
        "\n",
        "-   Assign a variable using `myBoolean = True`\n",
        "-   Print out info on `myBoolean` using the `type` function"
      ],
      "id": "24f5c4d8-fcff-4665-bcf7-c6f2c898df6b"
    },
    {
      "cell_type": "code",
      "execution_count": null,
      "metadata": {},
      "outputs": [],
      "source": [
        "CODE"
      ],
      "id": "2dfe845c"
    },
    {
      "cell_type": "markdown",
      "metadata": {},
      "source": [
        "This should output `<class 'bool'>` which means `boolean`.\n",
        "\n",
        "-   Use the `isinstance` function to check the data type of `myBoolean`\n",
        "    from above"
      ],
      "id": "9c347d53-a7ef-485a-bed8-32c7a5d0da2d"
    },
    {
      "cell_type": "code",
      "execution_count": null,
      "metadata": {},
      "outputs": [],
      "source": [
        "CODE"
      ],
      "id": "b0d86470"
    },
    {
      "cell_type": "markdown",
      "metadata": {},
      "source": [
        "The output should be `True` since `myBoolean` is a boolean data type.\n",
        "\n",
        "One conversion that is frequently used is from a string like “1.23” to a\n",
        "number 1.23.\n",
        "\n",
        "With quotes around it, a number will be seen as a string:\n",
        "\n",
        "-   Define a variable `aString = \"1.23\"`\n",
        "-   print out whether it is a string using `isinstance`\n",
        "-   print out whether it is a float using `isinstance`"
      ],
      "id": "23cb2dac-9479-4958-ac0d-0d8f35c554fa"
    },
    {
      "cell_type": "code",
      "execution_count": null,
      "metadata": {},
      "outputs": [],
      "source": [
        "CODE"
      ],
      "id": "768e4b03"
    },
    {
      "cell_type": "markdown",
      "metadata": {},
      "source": [
        "The output of `isinstance(aString, str)` should be `True` since\n",
        "`aString` was a string.\n",
        "\n",
        "The output of `isinstance(aString, float)` should be `False` since\n",
        "`aString` was not a float.\n",
        "\n",
        "So if we want to change the string “1.23” to a number, we must use\n",
        "`float` to convert the string to a number:\n",
        "\n",
        "-   Define a variable `aNumber` by using the function `float` on\n",
        "    `aString`\n",
        "-   print out whether `aNumber` is a float using `isinstance`"
      ],
      "id": "bba2473e-bb41-4cfb-b460-14440b33e994"
    },
    {
      "cell_type": "code",
      "execution_count": null,
      "metadata": {},
      "outputs": [],
      "source": [
        "CODE"
      ],
      "id": "30e53f7c"
    },
    {
      "cell_type": "markdown",
      "metadata": {},
      "source": [
        "The output of `isinstance(aNumber, float)` should be `True` since\n",
        "`aNumber` was a float.\n",
        "\n",
        "Finally for the code below add a couple of `type` functions to display\n",
        "information about the variables.\n",
        "\n",
        "-   Print out info on `x` using the `type` function\n",
        "-   Print out info on `y` using the `type` function"
      ],
      "id": "be04f21b-ba43-4863-afcd-41caa5d70b53"
    },
    {
      "cell_type": "code",
      "execution_count": null,
      "metadata": {},
      "outputs": [],
      "source": [
        "x = \"1.23\"\n",
        "y = float(\"1.23\")\n",
        "CODE"
      ],
      "id": "0cc46ce3"
    },
    {
      "cell_type": "markdown",
      "metadata": {},
      "source": [
        "`x` is a string since there are quotation marks so that makes it a\n",
        "string.\n",
        "\n",
        "`y` is a float since it was converted to a float with `float`.\n",
        "\n",
        "Once again, for the code below add a couple of `type` functions to\n",
        "display information about the variables.\n",
        "\n",
        "-   Print out info on `z` using the `type` function\n",
        "-   Print out info on `w` using the `type` function"
      ],
      "id": "5f00246a-0f97-41dd-ae39-ae59defa7de4"
    },
    {
      "cell_type": "code",
      "execution_count": null,
      "metadata": {},
      "outputs": [],
      "source": [
        "z = \"TRUE\"\n",
        "w = bool(\"TRUE\")\n",
        "CODE"
      ],
      "id": "afc2fd53"
    },
    {
      "cell_type": "markdown",
      "metadata": {},
      "source": [
        "`z` is a string since there are quotation marks so that makes it a\n",
        "string.\n",
        "\n",
        "`w` is a boolean since it was converted to a boolean with `bool`."
      ],
      "id": "0bf27e41-5908-4152-88b0-561f4adb10e8"
    }
  ],
  "nbformat": 4,
  "nbformat_minor": 5,
  "metadata": {
    "kernelspec": {
      "name": "python3",
      "display_name": "Python 3 (ipykernel)",
      "language": "python"
    }
  }
}
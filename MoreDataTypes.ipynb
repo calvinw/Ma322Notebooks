{
  "cells": [
    {
      "cell_type": "markdown",
      "metadata": {},
      "source": [
        "# More Data Types\n",
        "\n",
        "**Problem**:\n",
        "\n",
        "-   Assign a variable using `x = 1.2`\n",
        "-   Print out info on `x` using the `type` function"
      ],
      "id": "7e7a64ab-ddbb-4522-8606-e7945a0915a8"
    },
    {
      "cell_type": "code",
      "execution_count": null,
      "metadata": {},
      "outputs": [],
      "source": [
        "CODE"
      ],
      "id": "a15e3557"
    },
    {
      "cell_type": "markdown",
      "metadata": {},
      "source": [
        "This should output `<class 'float'>` which means `float`\n",
        "\n",
        "Let’s look at string types:\n",
        "\n",
        "**Problem**:\n",
        "\n",
        "-   Assign a variable using `y = \"hello\"`\n",
        "-   Print out info on `y` using the `type` function"
      ],
      "id": "8321ef80-6a51-43e7-96a8-d106eed47c3e"
    },
    {
      "cell_type": "code",
      "execution_count": null,
      "metadata": {},
      "outputs": [],
      "source": [
        "CODE"
      ],
      "id": "493c6712"
    },
    {
      "cell_type": "markdown",
      "metadata": {},
      "source": [
        "This should output `<class 'str'>` which means `string`\n",
        "\n",
        "Let’s look at boolean type:\n",
        "\n",
        "**Problem**:\n",
        "\n",
        "-   Assign a variable using `z = True`\n",
        "-   Print out info on `z` using the `type` function"
      ],
      "id": "0d2fe581-300b-4312-ad41-b785de708a92"
    },
    {
      "cell_type": "code",
      "execution_count": null,
      "metadata": {},
      "outputs": [],
      "source": [
        "CODE"
      ],
      "id": "6a0f1378"
    },
    {
      "cell_type": "markdown",
      "metadata": {},
      "source": [
        "This should output `<class 'bool'>` which means `boolean`.\n",
        "\n",
        "One conversion that is frequently used is from a string like “1.23” to a\n",
        "number 1.23.\n",
        "\n",
        "With quotes around it, a number will be seen as a string:\n",
        "\n",
        "**Problem**:\n",
        "\n",
        "-   Define a variable `a = \"1.23\"`\n",
        "-   Print out the data type of `a` using the `type` function"
      ],
      "id": "99a4e6ae-244b-4d5c-bbd9-ffd0a6e6eaf8"
    },
    {
      "cell_type": "code",
      "execution_count": null,
      "metadata": {},
      "outputs": [],
      "source": [
        "CODE"
      ],
      "id": "1b9f2d2f"
    },
    {
      "cell_type": "markdown",
      "metadata": {},
      "source": [
        "So if we want to change the string “1.23” to a number, we must use\n",
        "`float` to convert the string to a number:\n",
        "\n",
        "**Problem**:\n",
        "\n",
        "-   Define a variable `b` and use it to convert the variable `a` from\n",
        "    above to a `float`\n",
        "-   Print out the data type of `b` using the `type` function"
      ],
      "id": "50fcaf93-4b2c-446d-b9dc-5437c5ad818b"
    },
    {
      "cell_type": "code",
      "execution_count": null,
      "metadata": {},
      "outputs": [],
      "source": [
        "CODE"
      ],
      "id": "5a704218"
    },
    {
      "cell_type": "markdown",
      "metadata": {},
      "source": [
        "Finally for the code below add a couple of `type` functions to display\n",
        "information about the variables:\n",
        "\n",
        "**Problem**:\n",
        "\n",
        "-   Print out info on `x` using the `type` function\n",
        "-   Print out info on `y` using the `type` function"
      ],
      "id": "0007c363-95c8-4106-a1c8-2d5cb94388e8"
    },
    {
      "cell_type": "code",
      "execution_count": null,
      "metadata": {},
      "outputs": [],
      "source": [
        "x = \"1.23\"\n",
        "y = float(x)\n",
        "CODE"
      ],
      "id": "0476ea23"
    },
    {
      "cell_type": "markdown",
      "metadata": {},
      "source": [
        "`x` is a string since there are quotation marks so that makes it a\n",
        "string. `y` is a float since it was converted to a float with `float`.\n",
        "\n",
        "Once again, for the code below add a couple of `type` functions to\n",
        "display information about the variables.\n",
        "\n",
        "**Problem**:\n",
        "\n",
        "-   Print out info on `z` using the `type` function\n",
        "-   Print out info on `w` using the `type` function"
      ],
      "id": "bc8e9aee-3107-4309-91b0-84e59bfe9ca2"
    },
    {
      "cell_type": "code",
      "execution_count": null,
      "metadata": {},
      "outputs": [],
      "source": [
        "z = \"True\"\n",
        "w = bool(z)\n",
        "CODE"
      ],
      "id": "9cad11a6"
    },
    {
      "cell_type": "markdown",
      "metadata": {},
      "source": [
        "`z` is a string since there are quotation marks so that makes it a\n",
        "string. `w` is a boolean since it was converted to a boolean with\n",
        "`bool`."
      ],
      "id": "61b43302-9115-49a0-9fe8-1ae7f86910d7"
    }
  ],
  "nbformat": 4,
  "nbformat_minor": 5,
  "metadata": {
    "kernelspec": {
      "name": "python3",
      "display_name": "Python 3 (ipykernel)",
      "language": "python"
    }
  }
}
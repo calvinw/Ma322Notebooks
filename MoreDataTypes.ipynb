{
  "cells": [
    {
      "cell_type": "markdown",
      "metadata": {},
      "source": [
        "# More Data Types\n",
        "\n",
        "-   Assign a variable using `myFloat = 1.2`\n",
        "-   Print out info on `myFloat` using the `type` function"
      ],
      "id": "a8d82f6e-1a03-45b3-bf66-b784aed2a06a"
    },
    {
      "cell_type": "code",
      "execution_count": null,
      "metadata": {},
      "outputs": [],
      "source": [
        "CODE"
      ],
      "id": "570c4960"
    },
    {
      "cell_type": "markdown",
      "metadata": {},
      "source": [
        "This should output `<class 'float'>` which means `float`\n",
        "\n",
        "-   Use the `isinstance` function to check if `myFloat` is a float data\n",
        "    type."
      ],
      "id": "dbff6fce-1ecc-4715-9ae2-d959bcb4b89d"
    },
    {
      "cell_type": "code",
      "execution_count": null,
      "metadata": {},
      "outputs": [],
      "source": [
        "CODE"
      ],
      "id": "4ba60afa"
    },
    {
      "cell_type": "markdown",
      "metadata": {},
      "source": [
        "The output should be `True` since `myFloat` is a float data type.\n",
        "\n",
        "Let’s look at string types\n",
        "\n",
        "-   Assign a variable using `myString = \"hello\"`\n",
        "-   Print out info on `myString` using the `type` function"
      ],
      "id": "fad33fdb-0dbf-4c4f-908b-7d5efdff4586"
    },
    {
      "cell_type": "code",
      "execution_count": null,
      "metadata": {},
      "outputs": [],
      "source": [
        "CODE"
      ],
      "id": "61acdf45"
    },
    {
      "cell_type": "markdown",
      "metadata": {},
      "source": [
        "This should output `<class 'str'>` which means `string`\n",
        "\n",
        "-   Use the `isinstance` function to check if `myString` is a string\n",
        "    data type"
      ],
      "id": "8270527f-5640-4de9-a6a3-2d082dbb83a8"
    },
    {
      "cell_type": "code",
      "execution_count": null,
      "metadata": {},
      "outputs": [],
      "source": [
        "CODE"
      ],
      "id": "fbf332af"
    },
    {
      "cell_type": "markdown",
      "metadata": {},
      "source": [
        "The output should be `True` since `myString` is a string data type.\n",
        "\n",
        "Let’s look at boolean type:\n",
        "\n",
        "-   Assign a variable using `myBoolean = True`\n",
        "-   Print out info on `myBoolean` using the `type` function"
      ],
      "id": "becb9559-88f6-407c-a7ba-7d1fb1d004c7"
    },
    {
      "cell_type": "code",
      "execution_count": null,
      "metadata": {},
      "outputs": [],
      "source": [
        "CODE"
      ],
      "id": "93f719ea"
    },
    {
      "cell_type": "markdown",
      "metadata": {},
      "source": [
        "This should output `<class 'bool'>` which means `boolean`.\n",
        "\n",
        "-   Use the `isinstance` function to check the data type of `myBoolean`\n",
        "    from above"
      ],
      "id": "f79bf000-622a-464a-abe9-2d1b74845400"
    },
    {
      "cell_type": "code",
      "execution_count": null,
      "metadata": {},
      "outputs": [],
      "source": [
        "CODE"
      ],
      "id": "b3ae2bcd"
    },
    {
      "cell_type": "markdown",
      "metadata": {},
      "source": [
        "The output should be `True` since `myBoolean` is a boolean data type.\n",
        "\n",
        "One conversion that is frequently used is from a string like “1.23” to a\n",
        "number 1.23.\n",
        "\n",
        "With quotes around it, a number will be seen as a string:\n",
        "\n",
        "-   Define a variable `aString = \"1.23\"`\n",
        "-   print out whether it is a string using `isinstance`\n",
        "-   print out whether it is a float using `isinstance`"
      ],
      "id": "3a7ad6e8-7930-43af-8137-ff6820e9b518"
    },
    {
      "cell_type": "code",
      "execution_count": null,
      "metadata": {},
      "outputs": [],
      "source": [
        "CODE"
      ],
      "id": "8f825086"
    },
    {
      "cell_type": "markdown",
      "metadata": {},
      "source": [
        "The output of `isinstance(aString, str)` should be `True` since\n",
        "`aString` was a string.\n",
        "\n",
        "The output of `isinstance(aString, float)` should be `False` since\n",
        "`aString` was not a float.\n",
        "\n",
        "So if we want to change the string “1.23” to a number, we must use\n",
        "`float` to convert the string to a number:\n",
        "\n",
        "-   Define a variable `aNumber` by using the function `float` on\n",
        "    `aString`\n",
        "-   print out whether `aNumber` is a float using `isinstance`"
      ],
      "id": "2dcc3424-0f68-4026-a94c-4fe24cda7d51"
    },
    {
      "cell_type": "code",
      "execution_count": null,
      "metadata": {},
      "outputs": [],
      "source": [
        "CODE"
      ],
      "id": "8c81a6dc"
    },
    {
      "cell_type": "markdown",
      "metadata": {},
      "source": [
        "The output of `isinstance(aNumber, float)` should be `True` since\n",
        "`aNumber` was a float.\n",
        "\n",
        "Finally for the code below add a couple of `type` functions to display\n",
        "information about the variables.\n",
        "\n",
        "-   Print out info on `x` using the `type` function\n",
        "-   Print out info on `y` using the `type` function"
      ],
      "id": "bebe2325-8766-4496-82f9-b8a14529d83f"
    },
    {
      "cell_type": "code",
      "execution_count": null,
      "metadata": {},
      "outputs": [],
      "source": [
        "x = \"1.23\"\n",
        "y = float(\"1.23\")\n",
        "CODE"
      ],
      "id": "34658add"
    },
    {
      "cell_type": "markdown",
      "metadata": {},
      "source": [
        "`x` is a string since there are quotation marks so that makes it a\n",
        "string.\n",
        "\n",
        "`y` is a float since it was converted to a float with `float`.\n",
        "\n",
        "Once again, for the code below add a couple of `type` functions to\n",
        "display information about the variables.\n",
        "\n",
        "-   Print out info on `z` using the `type` function\n",
        "-   Print out info on `w` using the `type` function"
      ],
      "id": "c0331098-34eb-4fa6-9352-c291c9cabce5"
    },
    {
      "cell_type": "code",
      "execution_count": null,
      "metadata": {},
      "outputs": [],
      "source": [
        "z = \"TRUE\"\n",
        "w = bool(\"TRUE\")\n",
        "CODE"
      ],
      "id": "438d201f"
    },
    {
      "cell_type": "markdown",
      "metadata": {},
      "source": [
        "`z` is a string since there are quotation marks so that makes it a\n",
        "string.\n",
        "\n",
        "`w` is a boolean since it was converted to a boolean with `bool`."
      ],
      "id": "380f4114-d191-4c33-b5ce-64765038cc6d"
    }
  ],
  "nbformat": 4,
  "nbformat_minor": 5,
  "metadata": {
    "kernelspec": {
      "name": "python3",
      "display_name": "Python 3 (ipykernel)",
      "language": "python"
    }
  }
}
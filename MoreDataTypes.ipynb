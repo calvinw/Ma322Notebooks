{
  "cells": [
    {
      "cell_type": "markdown",
      "metadata": {},
      "source": [
        "# More Data Types\n",
        "\n",
        "**Problem**:\n",
        "\n",
        "-   Assign a variable using `x = 1.2`\n",
        "-   Print out info on `x` using the `type` function"
      ],
      "id": "b17c7eb9-09f0-41f0-8656-6b7510140a0f"
    },
    {
      "cell_type": "code",
      "execution_count": null,
      "metadata": {},
      "outputs": [],
      "source": [
        "CODE"
      ],
      "id": "ffe098de"
    },
    {
      "cell_type": "markdown",
      "metadata": {},
      "source": [
        "This should output `<class 'float'>` which means `float`\n",
        "\n",
        "Let’s look at string types:\n",
        "\n",
        "**Problem**:\n",
        "\n",
        "-   Assign a variable using `y = \"hello\"`\n",
        "-   Print out info on `y` using the `type` function"
      ],
      "id": "df4cf33c-b32f-49f0-b66b-8fdbf7821245"
    },
    {
      "cell_type": "code",
      "execution_count": null,
      "metadata": {},
      "outputs": [],
      "source": [
        "CODE"
      ],
      "id": "ed8c6a5c"
    },
    {
      "cell_type": "markdown",
      "metadata": {},
      "source": [
        "This should output `<class 'str'>` which means `string`\n",
        "\n",
        "Let’s look at boolean type:\n",
        "\n",
        "**Problem**:\n",
        "\n",
        "-   Assign a variable using `z = True`\n",
        "-   Print out info on `z` using the `type` function"
      ],
      "id": "2318bc20-94a1-4a09-92dd-82a174ae1bdc"
    },
    {
      "cell_type": "code",
      "execution_count": null,
      "metadata": {},
      "outputs": [],
      "source": [
        "CODE"
      ],
      "id": "e1ff0dba"
    },
    {
      "cell_type": "markdown",
      "metadata": {},
      "source": [
        "This should output `<class 'bool'>` which means `boolean`.\n",
        "\n",
        "One conversion that is frequently used is from a string like “1.23” to a\n",
        "number 1.23.\n",
        "\n",
        "With quotes around it, a number will be seen as a string:\n",
        "\n",
        "**Problem**:\n",
        "\n",
        "-   Define a variable `a = \"1.23\"`\n",
        "-   Print out the data type of `a` using the `type` function"
      ],
      "id": "dff5a155-c362-463f-b098-20ff2610116f"
    },
    {
      "cell_type": "code",
      "execution_count": null,
      "metadata": {},
      "outputs": [],
      "source": [
        "CODE"
      ],
      "id": "c83055bc"
    },
    {
      "cell_type": "markdown",
      "metadata": {},
      "source": [
        "So if we want to change the string “1.23” to a number, we must use\n",
        "`float` to convert the string to a number:\n",
        "\n",
        "**Problem**:\n",
        "\n",
        "-   Define a variable `b` and use it to convert the variable `a` from\n",
        "    above to a `float`\n",
        "-   Print out the data type of `b` using the `type` function"
      ],
      "id": "f3860b56-e37e-4ac3-b21a-0ccd46354bad"
    },
    {
      "cell_type": "code",
      "execution_count": null,
      "metadata": {},
      "outputs": [],
      "source": [
        "CODE"
      ],
      "id": "de5f1a9d"
    },
    {
      "cell_type": "markdown",
      "metadata": {},
      "source": [
        "Finally for the code below add a couple of `type` functions to display\n",
        "information about the variables:\n",
        "\n",
        "**Problem**:\n",
        "\n",
        "-   Print out info on `x` using the `type` function\n",
        "-   Print out info on `y` using the `type` function"
      ],
      "id": "8b654f99-acb5-42a0-a48c-2ec992ac1820"
    },
    {
      "cell_type": "code",
      "execution_count": null,
      "metadata": {},
      "outputs": [],
      "source": [
        "x = \"1.23\"\n",
        "y = float(x)\n",
        "CODE"
      ],
      "id": "ebbb2e36"
    },
    {
      "cell_type": "markdown",
      "metadata": {},
      "source": [
        "`x` is a string since there are quotation marks so that makes it a\n",
        "string. `y` is a float since it was converted to a float with `float`.\n",
        "\n",
        "Once again, for the code below add a couple of `type` functions to\n",
        "display information about the variables.\n",
        "\n",
        "**Problem**:\n",
        "\n",
        "-   Print out info on `z` using the `type` function\n",
        "-   Print out info on `w` using the `type` function"
      ],
      "id": "0d81cdd6-5fa1-479c-be6c-51d55934ba8c"
    },
    {
      "cell_type": "code",
      "execution_count": null,
      "metadata": {},
      "outputs": [],
      "source": [
        "z = \"True\"\n",
        "w = bool(z)\n",
        "CODE"
      ],
      "id": "14cd4f2a"
    },
    {
      "cell_type": "markdown",
      "metadata": {},
      "source": [
        "`z` is a string since there are quotation marks so that makes it a\n",
        "string. `w` is a boolean since it was converted to a boolean with\n",
        "`bool`."
      ],
      "id": "2391f1cd-a411-4a87-b1b4-25d918d50d19"
    }
  ],
  "nbformat": 4,
  "nbformat_minor": 5,
  "metadata": {
    "kernelspec": {
      "name": "python3",
      "display_name": "Python 3 (ipykernel)",
      "language": "python"
    }
  }
}
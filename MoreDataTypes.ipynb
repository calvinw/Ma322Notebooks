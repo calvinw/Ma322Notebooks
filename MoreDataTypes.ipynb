{
  "cells": [
    {
      "cell_type": "markdown",
      "metadata": {},
      "source": [
        "# More Data Types\n",
        "\n",
        "-   Assign a variable using `myFloat = 1.2`\n",
        "-   Print out info on `myFloat` using the `type` function"
      ],
      "id": "796ced6f-0053-44b0-ac65-9eebe6b82a12"
    },
    {
      "cell_type": "code",
      "execution_count": null,
      "metadata": {},
      "outputs": [],
      "source": [
        "CODE"
      ],
      "id": "752ff69d"
    },
    {
      "cell_type": "markdown",
      "metadata": {},
      "source": [
        "This should output `<class 'float'>` which means `float`\n",
        "\n",
        "-   Use the `isinstance` function to check if `myFloat` is a float data\n",
        "    type."
      ],
      "id": "041cd6de-4054-41dc-b370-8c91182ae5f2"
    },
    {
      "cell_type": "code",
      "execution_count": null,
      "metadata": {},
      "outputs": [],
      "source": [
        "CODE"
      ],
      "id": "404ee513"
    },
    {
      "cell_type": "markdown",
      "metadata": {},
      "source": [
        "The output should be `True` since `myFloat` is a float data type.\n",
        "\n",
        "Let’s look at string types\n",
        "\n",
        "-   Assign a variable using `myString = \"hello\"`\n",
        "-   Print out info on `myString` using the `type` function"
      ],
      "id": "81cbd8c0-ce5e-4124-85b0-042b72e970f7"
    },
    {
      "cell_type": "code",
      "execution_count": null,
      "metadata": {},
      "outputs": [],
      "source": [
        "CODE"
      ],
      "id": "882ef660"
    },
    {
      "cell_type": "markdown",
      "metadata": {},
      "source": [
        "This should output `<class 'str'>` which means `string`\n",
        "\n",
        "-   Use the `isinstance` function to check if `myString` is a string\n",
        "    data type"
      ],
      "id": "eb855738-56bc-43a1-9163-3f2bcbcdaf7a"
    },
    {
      "cell_type": "code",
      "execution_count": null,
      "metadata": {},
      "outputs": [],
      "source": [
        "CODE"
      ],
      "id": "6e9a6379"
    },
    {
      "cell_type": "markdown",
      "metadata": {},
      "source": [
        "The output should be `True` since `myString` is a string data type.\n",
        "\n",
        "Let’s look at boolean type:\n",
        "\n",
        "-   Assign a variable using `myBoolean = True`\n",
        "-   Print out info on `myBoolean` using the `type` function"
      ],
      "id": "f214a688-2688-48fd-8cb6-d99d91207584"
    },
    {
      "cell_type": "code",
      "execution_count": null,
      "metadata": {},
      "outputs": [],
      "source": [
        "CODE"
      ],
      "id": "9365f412"
    },
    {
      "cell_type": "markdown",
      "metadata": {},
      "source": [
        "This should output `<class 'bool'>` which means `boolean`.\n",
        "\n",
        "-   Use the `isinstance` function to check the data type of `myBoolean`\n",
        "    from above"
      ],
      "id": "386ffc5c-40df-431f-a120-2430066c6153"
    },
    {
      "cell_type": "code",
      "execution_count": null,
      "metadata": {},
      "outputs": [],
      "source": [
        "CODE"
      ],
      "id": "42ce02c6"
    },
    {
      "cell_type": "markdown",
      "metadata": {},
      "source": [
        "The output should be `True` since `myBoolean` is a boolean data type.\n",
        "\n",
        "One conversion that is frequently used is from a string like “1.23” to a\n",
        "number 1.23.\n",
        "\n",
        "With quotes around it, a number will be seen as a string:\n",
        "\n",
        "-   Define a variable `aString = \"1.23\"`\n",
        "-   print out whether it is a string using `isinstance`\n",
        "-   print out whether it is a float using `isinstance`"
      ],
      "id": "e3334ba6-5039-4811-a0d1-67e4026f0b8e"
    },
    {
      "cell_type": "code",
      "execution_count": null,
      "metadata": {},
      "outputs": [],
      "source": [
        "CODE"
      ],
      "id": "20a9a77f"
    },
    {
      "cell_type": "markdown",
      "metadata": {},
      "source": [
        "The output of `isinstance(aString, str)` should be `True` since\n",
        "`aString` was a string.\n",
        "\n",
        "The output of `isinstance(aString, float)` should be `False` since\n",
        "`aString` was not a float.\n",
        "\n",
        "So if we want to change the string “1.23” to a number, we must use\n",
        "`float` to convert the string to a number:\n",
        "\n",
        "-   Define a variable `aNumber` by using the function `float` on\n",
        "    `aString`\n",
        "-   print out whether `aNumber` is a float using `isinstance`"
      ],
      "id": "902f6d3d-4d6f-427b-9674-b8ec35fddd86"
    },
    {
      "cell_type": "code",
      "execution_count": null,
      "metadata": {},
      "outputs": [],
      "source": [
        "CODE"
      ],
      "id": "35b78e40"
    },
    {
      "cell_type": "markdown",
      "metadata": {},
      "source": [
        "The output of `isinstance(aNumber, float)` should be `True` since\n",
        "`aNumber` was a float.\n",
        "\n",
        "Finally for the code below add a couple of `type` functions to display\n",
        "information about the variables.\n",
        "\n",
        "-   Print out info on `x` using the `type` function\n",
        "-   Print out info on `y` using the `type` function"
      ],
      "id": "2c099bbb-acda-4cab-820c-4540a7d8c02a"
    },
    {
      "cell_type": "code",
      "execution_count": null,
      "metadata": {},
      "outputs": [],
      "source": [
        "x = \"1.23\"\n",
        "y = float(\"1.23\")\n",
        "CODE"
      ],
      "id": "f80f207f"
    },
    {
      "cell_type": "markdown",
      "metadata": {},
      "source": [
        "`x` is a string since there are quotation marks so that makes it a\n",
        "string.\n",
        "\n",
        "`y` is a float since it was converted to a float with `float`.\n",
        "\n",
        "Once again, for the code below add a couple of `type` functions to\n",
        "display information about the variables.\n",
        "\n",
        "-   Print out info on `z` using the `type` function\n",
        "-   Print out info on `w` using the `type` function"
      ],
      "id": "1be41eb4-0f48-4900-8d4c-8a8bf8b72e5c"
    },
    {
      "cell_type": "code",
      "execution_count": null,
      "metadata": {},
      "outputs": [],
      "source": [
        "z = \"TRUE\"\n",
        "w = bool(\"TRUE\")\n",
        "CODE"
      ],
      "id": "176cd08b"
    },
    {
      "cell_type": "markdown",
      "metadata": {},
      "source": [
        "`z` is a string since there are quotation marks so that makes it a\n",
        "string.\n",
        "\n",
        "`w` is a boolean since it was converted to a boolean with `bool`."
      ],
      "id": "015a7b91-f470-48ac-a8ef-1bb5c298d1a6"
    }
  ],
  "nbformat": 4,
  "nbformat_minor": 5,
  "metadata": {
    "kernelspec": {
      "name": "python3",
      "display_name": "Python 3 (ipykernel)",
      "language": "python"
    }
  }
}
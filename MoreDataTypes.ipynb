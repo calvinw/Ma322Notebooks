{
  "cells": [
    {
      "cell_type": "markdown",
      "metadata": {},
      "source": [
        "# More Data Types\n",
        "\n",
        "-   Assign a variable using `myFloat = 1.2`\n",
        "-   Print out info on `myFloat` using the `type` function"
      ],
      "id": "6e8a60ca-7b48-447d-8549-f069edf44dbf"
    },
    {
      "cell_type": "code",
      "execution_count": null,
      "metadata": {},
      "outputs": [],
      "source": [
        "CODE"
      ],
      "id": "45e7ab8d"
    },
    {
      "cell_type": "markdown",
      "metadata": {},
      "source": [
        "This should output `<class 'float'>` which means `float`\n",
        "\n",
        "-   Use the `isinstance` function to check if `myFloat` is a float data\n",
        "    type."
      ],
      "id": "9fbc17fa-8d3c-4c45-af8d-9bb898273545"
    },
    {
      "cell_type": "code",
      "execution_count": null,
      "metadata": {},
      "outputs": [],
      "source": [
        "CODE"
      ],
      "id": "24c55450"
    },
    {
      "cell_type": "markdown",
      "metadata": {},
      "source": [
        "The output should be `True` since `myFloat` is a float data type.\n",
        "\n",
        "Let’s look at string types\n",
        "\n",
        "-   Assign a variable using `myString = \"hello\"`\n",
        "-   Print out info on `myString` using the `type` function"
      ],
      "id": "bc234294-01a6-4d35-858f-9c4bae4bd3fc"
    },
    {
      "cell_type": "code",
      "execution_count": null,
      "metadata": {},
      "outputs": [],
      "source": [
        "CODE"
      ],
      "id": "d5cb4684"
    },
    {
      "cell_type": "markdown",
      "metadata": {},
      "source": [
        "This should output `<class 'str'>` which means `string`\n",
        "\n",
        "-   Use the `isinstance` function to check if `myString` is a string\n",
        "    data type"
      ],
      "id": "3e64da71-208a-4ba4-ac38-c4be22269707"
    },
    {
      "cell_type": "code",
      "execution_count": null,
      "metadata": {},
      "outputs": [],
      "source": [
        "CODE"
      ],
      "id": "bd13ba06"
    },
    {
      "cell_type": "markdown",
      "metadata": {},
      "source": [
        "The output should be `True` since `myString` is a string data type.\n",
        "\n",
        "Let’s look at boolean type:\n",
        "\n",
        "-   Assign a variable using `myBoolean = True`\n",
        "-   Print out info on `myBoolean` using the `type` function"
      ],
      "id": "23cb68a9-265e-4f2e-8fc4-c5ac1698d6cb"
    },
    {
      "cell_type": "code",
      "execution_count": null,
      "metadata": {},
      "outputs": [],
      "source": [
        "CODE"
      ],
      "id": "0eeff405"
    },
    {
      "cell_type": "markdown",
      "metadata": {},
      "source": [
        "This should output `<class 'bool'>` which means `boolean`.\n",
        "\n",
        "-   Use the `isinstance` function to check the data type of `myBoolean`\n",
        "    from above"
      ],
      "id": "9b10fe8b-3c87-4cb3-bb67-b50e4189989e"
    },
    {
      "cell_type": "code",
      "execution_count": null,
      "metadata": {},
      "outputs": [],
      "source": [
        "CODE"
      ],
      "id": "8b4cf1fc"
    },
    {
      "cell_type": "markdown",
      "metadata": {},
      "source": [
        "The output should be `True` since `myBoolean` is a boolean data type.\n",
        "\n",
        "One conversion that is frequently used is from a string like “1.23” to a\n",
        "number 1.23.\n",
        "\n",
        "With quotes around it, a number will be seen as a string:\n",
        "\n",
        "-   Define a variable `aString = \"1.23\"`\n",
        "-   print out whether it is a string using `isinstance`\n",
        "-   print out whether it is a float using `isinstance`"
      ],
      "id": "df343de6-8b36-4151-a2c0-0882a1cebd4f"
    },
    {
      "cell_type": "code",
      "execution_count": null,
      "metadata": {},
      "outputs": [],
      "source": [
        "CODE"
      ],
      "id": "3e677295"
    },
    {
      "cell_type": "markdown",
      "metadata": {},
      "source": [
        "The output of `isinstance(aString, str)` should be `True` since\n",
        "`aString` was a string.\n",
        "\n",
        "The output of `isinstance(aString, float)` should be `False` since\n",
        "`aString` was not a float.\n",
        "\n",
        "So if we want to change the string “1.23” to a number, we must use\n",
        "`float` to convert the string to a number:\n",
        "\n",
        "-   Define a variable `aNumber` by using the function `float` on\n",
        "    `aString`\n",
        "-   print out whether `aNumber` is a float using `isinstance`"
      ],
      "id": "ea094bf3-aec8-44ad-b255-7a79deddaea2"
    },
    {
      "cell_type": "code",
      "execution_count": null,
      "metadata": {},
      "outputs": [],
      "source": [
        "CODE"
      ],
      "id": "2fff0796"
    },
    {
      "cell_type": "markdown",
      "metadata": {},
      "source": [
        "The output of `isinstance(aNumber, float)` should be `True` since\n",
        "`aNumber` was a float.\n",
        "\n",
        "Finally for the code below add a couple of `type` functions to display\n",
        "information about the variables.\n",
        "\n",
        "-   Print out info on `x` using the `type` function\n",
        "-   Print out info on `y` using the `type` function"
      ],
      "id": "7514e0b1-3bab-4b52-8ba0-7ad8c016bd44"
    },
    {
      "cell_type": "code",
      "execution_count": null,
      "metadata": {},
      "outputs": [],
      "source": [
        "x = \"1.23\"\n",
        "y = float(\"1.23\")\n",
        "CODE"
      ],
      "id": "629bdd2d"
    },
    {
      "cell_type": "markdown",
      "metadata": {},
      "source": [
        "`x` is a string since there are quotation marks so that makes it a\n",
        "string.\n",
        "\n",
        "`y` is a float since it was converted to a float with `float`.\n",
        "\n",
        "Once again, for the code below add a couple of `type` functions to\n",
        "display information about the variables.\n",
        "\n",
        "-   Print out info on `z` using the `type` function\n",
        "-   Print out info on `w` using the `type` function"
      ],
      "id": "3a815704-a039-4f5c-87dc-8286f304b7b2"
    },
    {
      "cell_type": "code",
      "execution_count": null,
      "metadata": {},
      "outputs": [],
      "source": [
        "z = \"TRUE\"\n",
        "w = bool(\"TRUE\")\n",
        "CODE"
      ],
      "id": "5e953465"
    },
    {
      "cell_type": "markdown",
      "metadata": {},
      "source": [
        "`z` is a string since there are quotation marks so that makes it a\n",
        "string.\n",
        "\n",
        "`w` is a boolean since it was converted to a boolean with `bool`."
      ],
      "id": "d147140c-1a91-4765-bede-14e9050254ca"
    }
  ],
  "nbformat": 4,
  "nbformat_minor": 5,
  "metadata": {
    "kernelspec": {
      "name": "python3",
      "display_name": "Python 3 (ipykernel)",
      "language": "python"
    }
  }
}
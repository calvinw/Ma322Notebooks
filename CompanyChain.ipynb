{
  "cells": [
    {
      "cell_type": "raw",
      "metadata": {},
      "source": [
        "---\n",
        "title: \"Company Emoticon Chain\"\n",
        "---"
      ],
      "id": "4737d880"
    },
    {
      "cell_type": "code",
      "metadata": {},
      "source": [
        "#| eval: false\n",
        "#| code-fold: true\n",
        "import os\n",
        "\n",
        "if os.environ.get(\"TOGETHER_API_KEY\") is None:\n",
        "   os.environ[\"TOGETHER_API_KEY\"] = \"paste_your_api_key_here\""
      ],
      "id": "50e925a6",
      "execution_count": null,
      "outputs": []
    },
    {
      "cell_type": "markdown",
      "metadata": {},
      "source": [
        "## Setup the LLM"
      ],
      "id": "dadd8fc4"
    },
    {
      "cell_type": "code",
      "metadata": {},
      "source": [
        "#| eval: false\n",
        "#| code-fold: true\n",
        "!pip3 install langchain langchain_openai"
      ],
      "id": "f6ead8ab",
      "execution_count": null,
      "outputs": []
    },
    {
      "cell_type": "code",
      "metadata": {},
      "source": [
        "#| eval: true\n",
        "#| code-fold: true\n",
        "import os\n",
        "from langchain_openai import ChatOpenAI\n",
        "\n",
        "model_name = \"NousResearch/Nous-Hermes-2-Mixtral-8x7B-SFT\"\n",
        "#model_name = \"NousResearch/Nous-Hermes-2-Mixtral-8x7B-DPO\"\n",
        "#model_name=\"mistralai/Mixtral-8x7B-Instruct-v0.1\"\n",
        "#model_name=\"mistralai/Mistral-7B-Instruct-v0.1\"\n",
        "#model_name=\"mistralai/Mistral-7B-Instruct-v0.2\"\n",
        "#model_name = \"openchat/openchat-3.5-1210\"\n",
        "#model_name = \"Qwen/Qwen1.5-72B-Chat\"\n",
        "\n",
        "print(\"Provider: TogetherAI\")\n",
        "print(\"Model: \" + model_name)\n",
        "\n",
        "llm=ChatOpenAI(model_name=model_name,\n",
        "               openai_api_key=os.environ.get(\"TOGETHER_API_KEY\"),\n",
        "               openai_api_base=\"https://api.together.xyz/v1/\")"
      ],
      "id": "2897bd20",
      "execution_count": null,
      "outputs": []
    },
    {
      "cell_type": "code",
      "metadata": {},
      "source": [
        "#| eval: true\n",
        "#| code-fold: true\n",
        "import textwrap\n",
        "from langchain_core.prompts import ChatPromptTemplate\n",
        "\n",
        "def wrap_text(text, max_width=80):\n",
        "    \"\"\"\n",
        "    Wraps the text to the specified max_width, preserving line breaks and formatting.\n",
        "    \"\"\"\n",
        "    text = text.lstrip()\n",
        "    lines = text.splitlines()  # Split the text into lines\n",
        "    wrapped_lines = []\n",
        "    for line in lines:\n",
        "        if line.strip():  # Skip empty lines\n",
        "            wrapped_line = textwrap.fill(line, max_width, initial_indent='', subsequent_indent='')\n",
        "            wrapped_lines.extend(wrapped_line.splitlines())  # Preserve line breaks\n",
        "        else:\n",
        "            wrapped_lines.append('')  # Keep empty lines\n",
        "    return '\\n'.join(wrapped_lines)\n",
        "\n",
        "def print_prompt_and_response(prompt, response):\n",
        "    print(\"Prompt: \")\n",
        "    print(wrap_text(prompt))\n",
        "    print(\"\")\n",
        "    print(\"Response: \")\n",
        "    print(response)\n",
        "\n",
        "def print_messages_and_response(messages, response):\n",
        "    prompt = ChatPromptTemplate(messages=messages)\n",
        "    print_prompt_and_response(prompt.format(), response)\n",
        "\n",
        "def get_completion(prompt, temperature=0.0):\n",
        "    response = llm.invoke(prompt, temperature=temperature)\n",
        "    wrapped_response = wrap_text(response.content)\n",
        "    return wrapped_response\n",
        "\n",
        "def get_completion_messages(messages, temperature=0.0):\n",
        "    response=llm.invoke(messages, temperature=temperature)\n",
        "    wrapped_response = wrap_text(response.content)\n",
        "    return wrapped_response"
      ],
      "id": "7935ae5b",
      "execution_count": null,
      "outputs": []
    },
    {
      "cell_type": "markdown",
      "metadata": {},
      "source": [
        "### Suggest Company and Upper Case Chain\n",
        "\n",
        "### Company Name\n"
      ],
      "id": "20132794"
    },
    {
      "cell_type": "code",
      "metadata": {},
      "source": [
        "car_product =\"sports cars\""
      ],
      "id": "c7ec1e63",
      "execution_count": null,
      "outputs": []
    },
    {
      "cell_type": "markdown",
      "metadata": {},
      "source": [
        "### Suggest a Funny Company Name\n",
        "\n",
        "Suggest a funny name for a company that makes a certain product.\n"
      ],
      "id": "59b666b4"
    },
    {
      "cell_type": "code",
      "metadata": {},
      "source": [
        "company_template =\"\"\"\n",
        "Create a funny name for a company that makes:\n",
        "\n",
        "{product}\n",
        "\"\"\"\n",
        "\n",
        "company_prompt = company_template.format(product=car_product)\n",
        "company_response = get_completion(company_prompt)\n",
        "print(company_response)"
      ],
      "id": "de8cf8d4",
      "execution_count": null,
      "outputs": []
    },
    {
      "cell_type": "markdown",
      "metadata": {},
      "source": [
        "### Upper Case the Name\n",
        "\n",
        "Upper case the Company Name\n"
      ],
      "id": "68d8f170"
    },
    {
      "cell_type": "code",
      "metadata": {},
      "source": [
        "uppercase_template =\"\"\"\n",
        "\n",
        "Please upper case the company name and the product:\n",
        "\n",
        "Company:\n",
        "{company}\n",
        "\n",
        "Product:\n",
        "{product}\n",
        "\"\"\"\n",
        "\n",
        "uppercase_prompt = uppercase_template.format(company=company_response,\n",
        "                                             product=car_product)\n",
        "uppercase_response = get_completion(uppercase_prompt)\n",
        "print(uppercase_response)"
      ],
      "id": "162cd3a4",
      "execution_count": null,
      "outputs": []
    },
    {
      "cell_type": "markdown",
      "metadata": {},
      "source": [
        "### Final Report\n"
      ],
      "id": "f9af0f54"
    },
    {
      "cell_type": "code",
      "metadata": {},
      "source": [
        "template = \"\"\"\n",
        "### Product\n",
        "{product}\n",
        "\n",
        "### Company Name\n",
        "{company}\n",
        "\n",
        "### Upper Cased Company and Product\n",
        "{uppercase}\n",
        "\"\"\"\n",
        "\n",
        "report = template.format(product = car_product,\n",
        "                         company = company_response,\n",
        "                         uppercase = uppercase_response)\n",
        "print(report)"
      ],
      "id": "9b43f10d",
      "execution_count": null,
      "outputs": []
    }
  ],
  "metadata": {
    "kernelspec": {
      "name": "python3",
      "language": "python",
      "display_name": "Python 3 (ipykernel)"
    }
  },
  "nbformat": 4,
  "nbformat_minor": 5
}
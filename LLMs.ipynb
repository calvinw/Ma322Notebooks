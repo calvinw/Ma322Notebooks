{
  "cells": [
    {
      "cell_type": "markdown",
      "metadata": {},
      "source": [
        "# LLMS"
      ],
      "id": "28f76b00-5c20-4b55-838c-de80caa986a9"
    },
    {
      "cell_type": "code",
      "execution_count": null,
      "metadata": {},
      "outputs": [],
      "source": [
        "import os\n",
        "\n",
        "if os.environ.get(\"TOGETHER_API_KEY\") is None:\n",
        "   os.environ[\"TOGETHER_API_KEY\"] = \"paste_your_api_key_here\""
      ],
      "id": "9156cb12"
    },
    {
      "cell_type": "markdown",
      "metadata": {},
      "source": [
        "## Setup the LLM"
      ],
      "id": "ae392e6c-bc68-4c55-9b57-a192e327501d"
    },
    {
      "cell_type": "code",
      "execution_count": null,
      "metadata": {},
      "outputs": [],
      "source": [
        "!pip3 install langchain langchain_openai"
      ],
      "id": "cb39bc3d"
    },
    {
      "cell_type": "code",
      "execution_count": null,
      "metadata": {},
      "outputs": [],
      "source": [
        "import os\n",
        "from langchain_openai import ChatOpenAI\n",
        "\n",
        "model_name = \"NousResearch/Nous-Hermes-2-Mixtral-8x7B-SFT\"\n",
        "#model_name = \"NousResearch/Nous-Hermes-2-Mixtral-8x7B-DPO\"\n",
        "#model_name=\"mistralai/Mixtral-8x7B-Instruct-v0.1\"\n",
        "#model_name=\"mistralai/Mistral-7B-Instruct-v0.1\"\n",
        "#model_name=\"mistralai/Mistral-7B-Instruct-v0.2\"\n",
        "#model_name = \"openchat/openchat-3.5-1210\"\n",
        "#model_name = \"Qwen/Qwen1.5-72B-Chat\"\n",
        "\n",
        "print(\"Provider: TogetherAI\")\n",
        "print(\"Model: \" + model_name)\n",
        "\n",
        "llm=ChatOpenAI(model_name=model_name,\n",
        "               openai_api_key=os.environ.get(\"TOGETHER_API_KEY\"),\n",
        "               openai_api_base=\"https://api.together.xyz/v1/\")"
      ],
      "id": "3ce4a508"
    },
    {
      "cell_type": "code",
      "execution_count": null,
      "metadata": {},
      "outputs": [],
      "source": [
        "import textwrap\n",
        "from langchain_core.prompts import ChatPromptTemplate\n",
        "\n",
        "def wrap_text(text, max_width=80):\n",
        "    \"\"\"\n",
        "    Wraps the text to the specified max_width, preserving line breaks and formatting.\n",
        "    \"\"\"\n",
        "    text = text.lstrip()\n",
        "    lines = text.splitlines()  # Split the text into lines\n",
        "    wrapped_lines = []\n",
        "    for line in lines:\n",
        "        if line.strip():  # Skip empty lines\n",
        "            wrapped_line = textwrap.fill(line, max_width, initial_indent='', subsequent_indent='')\n",
        "            wrapped_lines.extend(wrapped_line.splitlines())  # Preserve line breaks\n",
        "        else:\n",
        "            wrapped_lines.append('')  # Keep empty lines\n",
        "    return '\\n'.join(wrapped_lines)\n",
        "\n",
        "def print_prompt_and_response(prompt, response):\n",
        "    print(\"Prompt: \")\n",
        "    print(wrap_text(prompt))\n",
        "    print(\"\")\n",
        "    print(\"Response: \")\n",
        "    print(response)\n",
        "\n",
        "def print_messages_and_response(messages, response):\n",
        "    prompt = ChatPromptTemplate(messages=messages)\n",
        "    print_prompt_and_response(prompt.format(), response)\n",
        "\n",
        "def get_completion(prompt, temperature=0.0):\n",
        "    response = llm.invoke(prompt, temperature=temperature)\n",
        "    wrapped_response = wrap_text(response.content)\n",
        "    return wrapped_response\n",
        "\n",
        "def get_completion_messages(messages, temperature=0.0):\n",
        "    response=llm.invoke(messages, temperature=temperature)\n",
        "    wrapped_response = wrap_text(response.content)\n",
        "    return wrapped_response"
      ],
      "id": "5ada48c0"
    },
    {
      "cell_type": "markdown",
      "metadata": {},
      "source": [
        "## Calling an LLM with `get_completion`\n",
        "\n",
        "First set up a prompt we can use:"
      ],
      "id": "e9d29e3a-7b77-4ca5-8f2d-9754302d7faa"
    },
    {
      "cell_type": "code",
      "execution_count": null,
      "metadata": {},
      "outputs": [],
      "source": [
        "prompt = \"Why is the sky blue? In 50 words or less.\""
      ],
      "id": "2512fefa"
    },
    {
      "cell_type": "markdown",
      "metadata": {},
      "source": [
        "Now we call the`get_completion` function. This function takes our prompt\n",
        "as argument and sends it off to the LLM. The LLM returns a response.\n",
        "This function returns that response."
      ],
      "id": "2ba948d3-9512-46f6-83a9-e56e64c5ae4c"
    },
    {
      "cell_type": "code",
      "execution_count": null,
      "metadata": {},
      "outputs": [],
      "source": [
        "response = get_completion(prompt)\n",
        "print(response)"
      ],
      "id": "c2cd1ba9"
    },
    {
      "cell_type": "markdown",
      "metadata": {},
      "source": [
        "Sometimes its nice to print out the prompt and the response when we are\n",
        "working like this. We can use the function `print_prompt_and_response`\n",
        "and pass it the prompt and the response we got from the `get_completion`\n",
        "function."
      ],
      "id": "b318875f-f4fc-4380-8d20-4a57779105b8"
    },
    {
      "cell_type": "code",
      "execution_count": null,
      "metadata": {},
      "outputs": [],
      "source": [
        "response = get_completion(prompt)\n",
        "print_prompt_and_response(prompt, response)"
      ],
      "id": "62772ce8"
    },
    {
      "cell_type": "markdown",
      "metadata": {},
      "source": [
        "## Calling an LLM with the `temperature`\n",
        "\n",
        "Temperature is one of the settings that most LLMs have. You can set the\n",
        "temperature from 0.0 up to some maximum (like 1.0 or 1.2). Sometimes you\n",
        "can go higher.\n",
        "\n",
        "Roughly\n",
        "\n",
        "1.  Low temperature (eg 0.2-0.5)\n",
        "    -   Generates more predictable and conservative text\n",
        "2.  Medium temperature (eg. 0.6-0.8)\n",
        "    -   Balances between creativity and coherence\n",
        "3.  High temperature (eg. 0.9-1.2)\n",
        "    -   Generates more creative diverse, and unpredictable text\n",
        "\n",
        "First lets set up a prompt to call several times with different\n",
        "temperatures."
      ],
      "id": "0a4c08f3-1321-4250-b545-8a93c5eed229"
    },
    {
      "cell_type": "code",
      "execution_count": null,
      "metadata": {},
      "outputs": [],
      "source": [
        "prompt = \"Why is the sky blue? In 50 words or less\""
      ],
      "id": "b05956cd"
    },
    {
      "cell_type": "markdown",
      "metadata": {},
      "source": [
        "### Calling with `temperature=0.0`\n",
        "\n",
        "`temperature` is parameter you can pass to the `get_completion`\n",
        "function. You see this in the code below.\n",
        "\n",
        "Here we call the LLM 3 times with temperature 0.0"
      ],
      "id": "02c52b86-01a7-41fb-850e-6e4d1fa5eb2a"
    },
    {
      "cell_type": "code",
      "execution_count": null,
      "metadata": {},
      "outputs": [],
      "source": [
        "response = get_completion(prompt, temperature = 0.0)\n",
        "print(response)\n",
        "print(\"------\")\n",
        "\n",
        "response = get_completion(prompt, temperature = 0.0)\n",
        "print(response)\n",
        "print(\"------\")\n",
        "\n",
        "response = get_completion(prompt, temperature = 0.0)\n",
        "print(response)\n",
        "print(\"------\")"
      ],
      "id": "b41fcde0"
    },
    {
      "cell_type": "markdown",
      "metadata": {},
      "source": [
        "### Calling with `temperature=0.4`\n",
        "\n",
        "Here we call the LLM 3 times with temperature 0.4"
      ],
      "id": "027c9bb8-8737-405b-a3d8-b21b5ab964f9"
    },
    {
      "cell_type": "code",
      "execution_count": null,
      "metadata": {},
      "outputs": [],
      "source": [
        "response = get_completion(prompt, temperature = 0.4)\n",
        "print(response)\n",
        "print(\"------\")\n",
        "\n",
        "response = get_completion(prompt, temperature = 0.4)\n",
        "print(response)\n",
        "print(\"------\")\n",
        "\n",
        "response = get_completion(prompt, temperature = 0.4)\n",
        "print(response)\n",
        "print(\"------\")"
      ],
      "id": "003b4856"
    },
    {
      "cell_type": "markdown",
      "metadata": {},
      "source": [
        "### Calling with `temperature=1.0`"
      ],
      "id": "09010451-5f38-4589-aa2c-7a56d29c98e8"
    },
    {
      "cell_type": "code",
      "execution_count": null,
      "metadata": {},
      "outputs": [],
      "source": [
        "response = get_completion(prompt, temperature = 1.0)\n",
        "print(response)\n",
        "print(\"------\")\n",
        "\n",
        "response = get_completion(prompt, temperature = 1.0)\n",
        "print(response)\n",
        "print(\"------\")\n",
        "\n",
        "response = get_completion(prompt, temperature = 1.0)\n",
        "print(response)\n",
        "print(\"------\")"
      ],
      "id": "c05cd81c"
    },
    {
      "cell_type": "markdown",
      "metadata": {},
      "source": [
        "## Calling the LLM using a template\n",
        "\n",
        "Remember the template for having the LLM give us the name of a company\n",
        "that makes a particular thing?"
      ],
      "id": "653b0214-0501-4bb2-b53e-051cc87ef0ef"
    },
    {
      "cell_type": "code",
      "execution_count": null,
      "metadata": {},
      "outputs": [],
      "source": [
        "template = \"Recommend a name for a company that makes {what}\""
      ],
      "id": "920c9953"
    },
    {
      "cell_type": "markdown",
      "metadata": {},
      "source": [
        "Lets set that up and call it with `what=\"cars\"`:"
      ],
      "id": "517fde78-4b38-47f8-9f9e-1420435dc691"
    },
    {
      "cell_type": "code",
      "execution_count": null,
      "metadata": {},
      "outputs": [],
      "source": [
        "prompt=template.format(what=\"cars\")\n",
        "response = get_completion(prompt)\n",
        "print_prompt_and_response(prompt, response)"
      ],
      "id": "bc2a733a"
    },
    {
      "cell_type": "markdown",
      "metadata": {},
      "source": [
        "## Change the template variable `{what}`\n",
        "\n",
        "Let’s call the LLM using `what=\"books\"` as the template variable."
      ],
      "id": "a8850129-7b62-48b0-80d7-81a232da47ba"
    },
    {
      "cell_type": "code",
      "execution_count": null,
      "metadata": {},
      "outputs": [],
      "source": [
        "prompt=template.format(what=\"books\")\n",
        "response = get_completion(prompt)\n",
        "print_prompt_and_response(prompt, response)"
      ],
      "id": "f2aa330c"
    },
    {
      "cell_type": "markdown",
      "metadata": {},
      "source": [
        "## Add A Template Variable `{num}`"
      ],
      "id": "301d10c4-123c-4ba1-9d1c-ff8a1f3b0bbc"
    },
    {
      "cell_type": "code",
      "execution_count": null,
      "metadata": {},
      "outputs": [],
      "source": [
        "template = \"Recommend {num} names for a company that makes {what}\""
      ],
      "id": "401d8057"
    },
    {
      "cell_type": "markdown",
      "metadata": {},
      "source": [
        "Lets call it with `num=3` and `what=\"cars\"`:"
      ],
      "id": "05728b98-66d6-4b28-8707-76bc9025e079"
    },
    {
      "cell_type": "code",
      "execution_count": null,
      "metadata": {},
      "outputs": [],
      "source": [
        "prompt=template.format(num=3, what=\"cars\")\n",
        "response = get_completion(prompt)\n",
        "print_prompt_and_response(prompt, response)"
      ],
      "id": "bcf59443"
    },
    {
      "cell_type": "markdown",
      "metadata": {},
      "source": [
        "### Add a Template Variable `{format}`\n",
        "\n",
        "Lets see if we can introduce some formatting to the output:"
      ],
      "id": "e9e5f9a8-6344-4b3a-8435-1eb57187277e"
    },
    {
      "cell_type": "code",
      "execution_count": null,
      "metadata": {},
      "outputs": [],
      "source": [
        "template =\"\"\"Recommend {num} names for a company that makes {what}.\n",
        "Give your answer in {format}\"\"\""
      ],
      "id": "0b35acfd"
    },
    {
      "cell_type": "markdown",
      "metadata": {},
      "source": [
        "Call the LLM:"
      ],
      "id": "531f74e1-6cf5-4ea4-bd3d-8148c20610df"
    },
    {
      "cell_type": "code",
      "execution_count": null,
      "metadata": {},
      "outputs": [],
      "source": [
        "prompt=template.format(num=3, what=\"cars\", format=\"A bulleted list using upper case\")\n",
        "response = get_completion(prompt)\n",
        "print_prompt_and_response(prompt, response)"
      ],
      "id": "c44036f0"
    }
  ],
  "nbformat": 4,
  "nbformat_minor": 5,
  "metadata": {
    "kernelspec": {
      "name": "python3",
      "display_name": "Python 3 (ipykernel)",
      "language": "python"
    }
  }
}
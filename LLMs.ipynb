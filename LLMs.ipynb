{
  "cells": [
    {
      "cell_type": "markdown",
      "metadata": {},
      "source": [
        "# LLMS\n",
        "\n",
        "## Set up your `OPENAI_API_KEY`"
      ],
      "id": "dfe0223a-ecc2-4999-8e95-a33ed601ce8f"
    },
    {
      "cell_type": "code",
      "execution_count": null,
      "metadata": {},
      "outputs": [],
      "source": [
        "import os\n",
        "\n",
        "if os.environ.get(\"OPENAI_API_KEY\") is None:\n",
        "   os.environ[\"OPENAI_API_KEY\"] = \"paste your api key here\""
      ],
      "id": "7f383826"
    },
    {
      "cell_type": "markdown",
      "metadata": {},
      "source": [
        "## Install Packages to Call the LLM\n",
        "\n",
        "For this part we set up the LLM."
      ],
      "id": "594fdb56-fa65-4a13-8fda-26eeb7bdf58c"
    },
    {
      "cell_type": "code",
      "execution_count": null,
      "metadata": {},
      "outputs": [],
      "source": [
        "!pip3 install openai"
      ],
      "id": "e064e7c0"
    },
    {
      "cell_type": "code",
      "execution_count": null,
      "metadata": {},
      "outputs": [],
      "source": [
        "import openai\n",
        "import textwrap\n",
        "\n",
        "def wrap_text(text, max_width=80):\n",
        "    \"\"\"\n",
        "    Wraps the text to the specified max_width, preserving line breaks and formatting.\n",
        "    \"\"\"\n",
        "    lines = text.splitlines()  # Split the text into lines\n",
        "    wrapped_lines = []\n",
        "\n",
        "    for line in lines:\n",
        "        if line.strip():  # Skip empty lines\n",
        "            wrapped_line = textwrap.fill(line, max_width, initial_indent='', subsequent_indent='')\n",
        "            wrapped_lines.extend(wrapped_line.splitlines())  # Preserve line breaks\n",
        "        else:\n",
        "            wrapped_lines.append('')  # Keep empty lines\n",
        "\n",
        "    return '\\n'.join(wrapped_lines)\n",
        "\n",
        "\n",
        "def print_prompt_and_response(prompt, response):\n",
        "    print(\"Prompt: \")\n",
        "    print(prompt)\n",
        "    print(\"\")\n",
        "    print(\"Response: \")\n",
        "    print(response)\n",
        "    print(80*\"=\")\n",
        "\n",
        "def get_completion(prompt, temperature=0.0):\n",
        "    # Create the OpenAI LLM\n",
        "    client = openai.OpenAI()\n",
        "    chat_completion = client.chat.completions.create(\n",
        "                           model=\"gpt-3.5-turbo\",\n",
        "                           messages=[{\"role\": \"user\", \"content\": prompt}],\n",
        "                           temperature=temperature,\n",
        "                           max_tokens=1024)\n",
        "\n",
        "    response = chat_completion.choices[0].message.content\n",
        "    wrapped_response = wrap_text(response)\n",
        "    return wrapped_response"
      ],
      "id": "8f914950"
    },
    {
      "cell_type": "markdown",
      "metadata": {},
      "source": [
        "## Calling an LLM\n",
        "\n",
        "We can call the LLM by using the `get_completion` function. This takes\n",
        "our prompt and delivers it to the LLM. The LLM returns a response. We\n",
        "can print the response after we get it."
      ],
      "id": "48402746-3f90-403e-83ba-fec6a51bd7a6"
    },
    {
      "cell_type": "code",
      "execution_count": null,
      "metadata": {},
      "outputs": [],
      "source": [
        "#Set up a prompt\n",
        "prompt = \"Why is the sky blue? In 50 words or less.\"\n",
        "\n",
        "#Call the LLM\n",
        "response = get_completion(prompt)\n",
        "\n",
        "#Print out the the response\n",
        "print(response)"
      ],
      "id": "81cf9f3e"
    },
    {
      "cell_type": "markdown",
      "metadata": {},
      "source": [
        "## Calling an LLM with the `temperature`\n",
        "\n",
        "Temperature is one of the settings that most LLMs have. You can set the\n",
        "temperature from 0.0 up to some maximum (like 1.0). Sometimes you can go\n",
        "higher than 1.0.\n",
        "\n",
        "Roughly\n",
        "\n",
        "1.  Low temperature (eg 0.2-0.5)\n",
        "    -   Generates more predictable and conservative text\n",
        "2.  Medium temperature (eg. 0.6-0.8)\n",
        "    -   Balances between creativity and coherence\n",
        "3.  High temperature (eg. 0.9-1.2)\n",
        "    -   Generates more creative diverse, and unpredictable text\n",
        "\n",
        "### Calling with `temperature=0.0`\n",
        "\n",
        "Here we call the LLM 3 times with temperature 0.0"
      ],
      "id": "80317729-a6a9-4db4-8a35-8c6e04ff6fec"
    },
    {
      "cell_type": "code",
      "execution_count": null,
      "metadata": {},
      "outputs": [],
      "source": [
        "#Set up a prompt\n",
        "prompt = \"Why is the sky blue? In 50 words or less\"\n",
        "\n",
        "print(\"Calling the LLM with temperature 0\")\n",
        "for i in range(3):\n",
        "  response = get_completion(prompt, temperature = 0.0)\n",
        "  print(response)\n",
        "  print(\"------\")"
      ],
      "id": "5164e7bd"
    },
    {
      "cell_type": "markdown",
      "metadata": {},
      "source": [
        "### Calling with `temperature=0.4`\n",
        "\n",
        "Here we call the LLM 3 times with temperature 0.4"
      ],
      "id": "2a357ca4-12e6-4903-9549-6544424a6958"
    },
    {
      "cell_type": "code",
      "execution_count": null,
      "metadata": {},
      "outputs": [],
      "source": [
        "#Set up a prompt\n",
        "prompt = \"Why is the sky blue? In 50 words or less\"\n",
        "\n",
        "print(\"Calling the LLM with temperature 0.4\")\n",
        "for i in range(3):\n",
        "  response = get_completion(prompt, temperature = 0.4)\n",
        "  print(response)\n",
        "  print(\"------\")"
      ],
      "id": "5bb1b24a"
    },
    {
      "cell_type": "markdown",
      "metadata": {},
      "source": [
        "### Calling with `temperature=1.0`\n",
        "\n",
        "Here we call the LLM 3 times with temperature 1.0"
      ],
      "id": "d1eabc36-116d-47f3-b50f-a865515facba"
    },
    {
      "cell_type": "code",
      "execution_count": null,
      "metadata": {},
      "outputs": [],
      "source": [
        "#Set up a prompt\n",
        "prompt = \"Why is the sky blue? In 50 words or less\"\n",
        "\n",
        "print(\"Calling the LLM with temperature 1.0\")\n",
        "for i in range(3):\n",
        "  response = get_completion(prompt, temperature = 1.0)\n",
        "  print(response)\n",
        "  print(\"------\")"
      ],
      "id": "dc523130"
    },
    {
      "cell_type": "markdown",
      "metadata": {},
      "source": [
        "## Calling the LLM using a template\n",
        "\n",
        "Remember the template for having the LLM give us the name of a company\n",
        "that makes a particular thing? Let’s call the LLM with that template and\n",
        "template variable `Cars`:"
      ],
      "id": "05cadd5c-7655-4168-9340-ac714bf3b51b"
    },
    {
      "cell_type": "code",
      "execution_count": null,
      "metadata": {},
      "outputs": [],
      "source": [
        "template = \"Create a name for a company that makes {what}\"\n",
        "\n",
        "#Evaluate the template with what=\"Cars\"\n",
        "prompt=template.format(what=\"Cars\")\n",
        "\n",
        "#Call the LLM\n",
        "response = get_completion(prompt)\n",
        "\n",
        "#Print out the the response\n",
        "print(response)"
      ],
      "id": "1d977385"
    },
    {
      "cell_type": "markdown",
      "metadata": {},
      "source": [
        "## Change the template variable `what`\n",
        "\n",
        "Let’s call the LLM using `Books` as the template variable."
      ],
      "id": "a9f6aa6a-ca5d-4062-afad-78a761250c48"
    },
    {
      "cell_type": "code",
      "execution_count": null,
      "metadata": {},
      "outputs": [],
      "source": [
        "#Evaluate the template with what=\"Books\"\n",
        "prompt=template.format(what=\"Books\")\n",
        "response = get_completion(prompt)\n",
        "\n",
        "print(response)"
      ],
      "id": "cd4d5fb3"
    },
    {
      "cell_type": "markdown",
      "metadata": {},
      "source": [
        "## Add another template variable for `num`"
      ],
      "id": "c2e3cb1d-b145-470e-ab00-f25287431168"
    },
    {
      "cell_type": "code",
      "execution_count": null,
      "metadata": {},
      "outputs": [],
      "source": [
        "template = \"Give {num} possible names for a company that makes {what}\"\n",
        "\n",
        "#Evaluate the template\n",
        "prompt=template.format(num=3, what=\"Cars\")\n",
        "response = get_completion(prompt)\n",
        "\n",
        "print(response)"
      ],
      "id": "71c2df8d"
    },
    {
      "cell_type": "markdown",
      "metadata": {},
      "source": [
        "### Formatting the response from the LLM\n",
        "\n",
        "Lets see if we can introduce some formatting to the output:"
      ],
      "id": "09307115-e804-4f66-a897-06042327a5f6"
    },
    {
      "cell_type": "code",
      "execution_count": null,
      "metadata": {},
      "outputs": [],
      "source": [
        "template =\"\"\"Give {num} possible names for a company that makes {what}. Give\n",
        "your answer in {format}\"\"\"\n",
        "\n",
        "#Evaluate the template\n",
        "prompt=template.format(num=3, what=\"Cars\", format=\"A bulleted list using upper case\")\n",
        "response = get_completion(prompt)\n",
        "\n",
        "print(response)"
      ],
      "id": "caaf42a4"
    },
    {
      "cell_type": "markdown",
      "metadata": {},
      "source": [
        "## Calling the LLM multiple times with our template\n",
        "\n",
        "The following is an example of calling the LLM multiple times, each time\n",
        "with a different prompt that is created from our template."
      ],
      "id": "eb830e63-7e8d-4df2-9801-7113d1175a80"
    },
    {
      "cell_type": "code",
      "execution_count": null,
      "metadata": {},
      "outputs": [],
      "source": [
        "template =\"\"\"Give {num} possible names for a company that makes {what}. Give\n",
        "your answer in {format}\"\"\"\n",
        "\n",
        "myList = [\"cars\", \"watches\", \"firecrackers\"]\n",
        "\n",
        "for item in myList:\n",
        "  prompt = template.format(num=2, what=item, format=\"upper case\")\n",
        "  response = get_completion(prompt)\n",
        "  print_prompt_and_response(prompt, response)"
      ],
      "id": "913535df"
    }
  ],
  "nbformat": 4,
  "nbformat_minor": 5,
  "metadata": {
    "kernelspec": {
      "name": "python3",
      "display_name": "Python 3 (ipykernel)",
      "language": "python"
    }
  }
}
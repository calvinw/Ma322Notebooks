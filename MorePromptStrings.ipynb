{
  "cells": [
    {
      "cell_type": "markdown",
      "metadata": {},
      "source": [
        "# More Prompt Strings\n",
        "\n",
        "In this section we will create a template string to ask the LLM the\n",
        "capital of a place. Then we will ask it for some facts about the\n",
        "capital. Finally we will provide some formatting guidelines about the\n",
        "response.\n",
        "\n",
        "## Template For Asking For a Capital\n",
        "\n",
        "Create a template string with a template variable `place` for asking the\n",
        "LLM to give you the capital of `place`. Then evaulate the template\n",
        "variable using `\"Texas\"` and `\"France\"`. Print out the two prompts that\n",
        "you get by doing that.\n",
        "\n",
        "Fill in the appropriate sections of the code below where you see the\n",
        "word CODE.\n",
        "\n",
        "The comments below tell you exactly what to do."
      ],
      "id": "87f9329e-bf23-42ca-893e-51c56c0d75c0"
    },
    {
      "cell_type": "code",
      "execution_count": null,
      "metadata": {},
      "outputs": [],
      "source": [
        "# Define template here\n",
        "CODE\n",
        "\n",
        "# Evaluate the template with place=\"Texas\"\n",
        "prompt=template.format(CODE)\n",
        "print(prompt)\n",
        "\n",
        "# Evaluate the template with place=\"France\"\n",
        "prompt=template.format(CODE)\n",
        "print(prompt)"
      ],
      "id": "aff54f57"
    },
    {
      "cell_type": "markdown",
      "metadata": {},
      "source": [
        "## Adding a Variable Called `num`\n",
        "\n",
        "Add another template variable called `num` to the template and ask the\n",
        "LLM to provide you with `num` facts about the capital that that you\n",
        "specified with `place`. Print out the prompts."
      ],
      "id": "5c4c1f3d-bee7-486b-8899-7b71015f9792"
    },
    {
      "cell_type": "code",
      "execution_count": null,
      "metadata": {},
      "outputs": [],
      "source": [
        "# Define template here\n",
        "CODE\n",
        "\n",
        "# Evaluate the template for \"Texas\" and 3 facts\n",
        "prompt=template.format(CODE)\n",
        "print(prompt)\n",
        "\n",
        "# Evaluate the template for and \"France\" and 2 facts\n",
        "prompt=template.format(CODE)\n",
        "print(prompt)"
      ],
      "id": "2d6c4a9e"
    },
    {
      "cell_type": "markdown",
      "metadata": {},
      "source": [
        "## Ask To Format the Response\n",
        "\n",
        "Add a template variable called `format` so you can pass in the desired\n",
        "format for the facts that are given."
      ],
      "id": "66886be9-2701-4d67-9dfb-25f61597b7b5"
    },
    {
      "cell_type": "code",
      "execution_count": null,
      "metadata": {},
      "outputs": [],
      "source": [
        "# Define template here\n",
        "CODE\n",
        "\n",
        "# Evaluate the template for \"Texas\" and 3 facts, and \"upper case\"\n",
        "prompt=template.format(CODE)\n",
        "print(prompt)\n",
        "\n",
        "# Evaluate the template for \"France\" and 2 facts and \"a bulleted list\"\n",
        "prompt=template.format(CODE)\n",
        "print(prompt)"
      ],
      "id": "63b73051"
    },
    {
      "cell_type": "markdown",
      "metadata": {},
      "source": [
        "## Asking About Several Capitals\n",
        "\n",
        "Let’s see how this looks if we ask for the capital of several places.\n",
        "\n",
        "Replace CODE below to create a template, then create a list called\n",
        "`myPlaces` of places to use. Use California, Missouri, Florida, Germany\n",
        "and use 3 facts about the capitals and use upper case for the format."
      ],
      "id": "fc5f7e78-9449-4105-9dd7-8be2a770ef85"
    },
    {
      "cell_type": "code",
      "execution_count": null,
      "metadata": {},
      "outputs": [],
      "source": [
        "# Define template here\n",
        "CODE\n",
        "\n",
        "# Create the list of places.\n",
        "myPlaces = CODE\n",
        "\n",
        "# Loop through the myPlaces and print each prompt template.\n",
        "for place in myPlaces:\n",
        "  prompt = template.format(CODE)\n",
        "  print(prompt)\n",
        "  print(\"----\")"
      ],
      "id": "a2d46bca"
    }
  ],
  "nbformat": 4,
  "nbformat_minor": 5,
  "metadata": {
    "kernelspec": {
      "name": "python3",
      "display_name": "Python 3 (ipykernel)",
      "language": "python"
    }
  }
}
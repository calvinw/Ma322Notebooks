{
  "cells": [
    {
      "cell_type": "markdown",
      "metadata": {},
      "source": [
        "# Exploring H&M Dresses with DataFrames\n",
        "\n",
        "In this exercise, we will work with a data frame containing information\n",
        "about dresses from H&M. The data comes from a dataset of 100 dresses\n",
        "with various attributes like product codes, names, colors, and\n",
        "descriptions.\n",
        "\n",
        "We will use this dataset later on to do semantic search, todays exercise\n",
        "is to try to examine the data to answer questions about what the fields\n",
        "mean in this dataset.\n",
        "\n",
        "First, let’s read in the data using pandas:\n",
        "\n",
        "## Read the CSV file"
      ],
      "id": "76d41923-51b5-4242-907e-3a854bad022a"
    },
    {
      "cell_type": "code",
      "execution_count": null,
      "metadata": {},
      "outputs": [],
      "source": [
        "import pandas as pd\n",
        "\n",
        "dresses = pd.read_csv('https://calvinw.github.io/Ma322Notebooks/hm-dresses-100.csv')"
      ],
      "id": "d50a419c"
    },
    {
      "cell_type": "markdown",
      "metadata": {},
      "source": [
        "Let’s explore the data frame:\n",
        "\n",
        "## Print first few rows to get an overview"
      ],
      "id": "f823cf65-f398-4c60-bb7d-c06eaeb065d7"
    },
    {
      "cell_type": "code",
      "execution_count": null,
      "metadata": {},
      "outputs": [],
      "source": [
        "print(dresses.head())"
      ],
      "id": "b26a0d80"
    },
    {
      "cell_type": "markdown",
      "metadata": {},
      "source": [
        "## Check what columns are available and their data types"
      ],
      "id": "f7acdb48-d160-45a7-99ef-69c398a96773"
    },
    {
      "cell_type": "code",
      "execution_count": null,
      "metadata": {},
      "outputs": [],
      "source": [
        "print(dresses.dtypes)"
      ],
      "id": "55eb5e91"
    },
    {
      "cell_type": "markdown",
      "metadata": {},
      "source": [
        "## Look at detailed descriptions for first 3 dresses"
      ],
      "id": "b9951ef3-b2a0-4880-85e8-5e548dcecaa5"
    },
    {
      "cell_type": "code",
      "execution_count": null,
      "metadata": {},
      "outputs": [],
      "source": [
        "print(dresses['detail_desc'].head(3))"
      ],
      "id": "d81cbbec"
    },
    {
      "cell_type": "code",
      "execution_count": null,
      "metadata": {},
      "outputs": [],
      "source": [
        "# See what departments sell dresses\n",
        "print(dresses['department_name'].unique())"
      ],
      "id": "c827e177"
    },
    {
      "cell_type": "code",
      "execution_count": null,
      "metadata": {},
      "outputs": [],
      "source": [
        "# Check how many different color groups exist\n",
        "print(dresses['colour_group_name'].unique())"
      ],
      "id": "6266164f"
    },
    {
      "cell_type": "code",
      "execution_count": null,
      "metadata": {},
      "outputs": [],
      "source": [
        "# Look at all colors available for the Alcazar strap dress\n",
        "alcazar_dresses = dresses[dresses['prod_name'] == 'Alcazar strap dress']\n",
        "print(alcazar_dresses['colour_group_name'])"
      ],
      "id": "c597ec12"
    },
    {
      "cell_type": "code",
      "execution_count": null,
      "metadata": {},
      "outputs": [],
      "source": [
        "# Find dresses that are dark blue\n",
        "dark_blue = dresses[(dresses['perceived_colour_value_name'] == 'Dark') & \n",
        "                    (dresses['colour_group_name'] == 'Blue')]\n",
        "print(dark_blue[['prod_name', 'colour_group_name', 'perceived_colour_value_name']])"
      ],
      "id": "36d53238"
    },
    {
      "cell_type": "code",
      "execution_count": null,
      "metadata": {},
      "outputs": [],
      "source": [
        "# Look at different patterns/textures available\n",
        "print(dresses['graphical_appearance_name'].unique())"
      ],
      "id": "694c9aca"
    },
    {
      "cell_type": "markdown",
      "metadata": {},
      "source": [
        "**Questions for Analysis**:\n",
        "\n",
        "1.  Looking at the ‘index_name’ and ‘department_name’ columns, what\n",
        "    different market segments does H&M categorize these dresses into?\n",
        "    How do these segments appear to be organized?\n",
        "\n",
        "2.  Based on the ‘detail_desc’ column, what are some common features\n",
        "    that H&M frequently mentions in their dress descriptions? What kinds\n",
        "    of details seem to be important to them?\n",
        "\n",
        "3.  H&M has a complex color categorization system with multiple columns:\n",
        "\n",
        "    -   colour_group_name\n",
        "    -   perceived_colour_value_name\n",
        "    -   perceived_colour_master_name What seems to be the purpose of\n",
        "        having these three different ways of describing colors? How do\n",
        "        they differ from each other?\n",
        "\n",
        "4.  Looking at the ‘garment_group_name’ and ‘product_type_name’ columns,\n",
        "    how does H&M categorize their garments? What might be the business\n",
        "    reason for having both of these classification systems?\n",
        "\n",
        "5.  Examine the ‘graphical_appearance_name’ column. What are the main\n",
        "    types of patterns or textures that H&M uses in their dresses? Why\n",
        "    might this information be useful from a business perspective?\n",
        "\n",
        "6.  The dataset includes both ‘article_id’ and ‘product_code’. Compare\n",
        "    these columns - how do they appear to be used? Why might a company\n",
        "    need multiple identification systems for their products?\n",
        "\n",
        "7.  Looking at the ‘section_name’ and ‘section_no’ columns, how does H&M\n",
        "    organize their sections? How does this relate to the department and\n",
        "    index organization?\n",
        "\n",
        "8.  Some dresses appear multiple times with different color options.\n",
        "    Find an example of this in the data. What does this tell us about\n",
        "    how H&M manages their product variations?\n",
        "\n",
        "These questions will help you understand both the structure of the data\n",
        "and how H&M organizes their product information. Think about why each\n",
        "piece of information might be important from both a business and\n",
        "technical perspective."
      ],
      "id": "c63fa967-0bed-44a1-a4d0-bd1da85cced7"
    }
  ],
  "nbformat": 4,
  "nbformat_minor": 5,
  "metadata": {
    "kernelspec": {
      "name": "python3",
      "display_name": "Python 3 (ipykernel)",
      "language": "python"
    }
  }
}
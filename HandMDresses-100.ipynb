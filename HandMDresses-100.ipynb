{
  "cells": [
    {
      "cell_type": "markdown",
      "metadata": {},
      "source": [
        "# Exploring H&M Dresses with DataFrames\n",
        "\n",
        "In this exercise, we will work with a data frame containing information\n",
        "about dresses from H&M. The data comes from a dataset of 100 dresses\n",
        "with various attributes like product codes, names, colors, and\n",
        "descriptions.\n",
        "\n",
        "We will use this dataset later on to do semantic search, todays exercise\n",
        "is to try to examine the data to answer questions about what the fields\n",
        "mean in this dataset.\n",
        "\n",
        "First, let’s read in the data using pandas:\n",
        "\n",
        "## Read the CSV file"
      ],
      "id": "61f84e6e-a07e-4792-bad3-8e052a2f7515"
    },
    {
      "cell_type": "code",
      "execution_count": null,
      "metadata": {},
      "outputs": [],
      "source": [
        "import pandas as pd\n",
        "\n",
        "# Set display options to show full text in columns\n",
        "pd.set_option('display.max_colwidth', None)  # Show full text in columns\n",
        "pd.set_option('display.max_rows', None)      # Show all rows\n",
        "pd.set_option('display.width', None)         # Don't wrap wide displays\n",
        "\n",
        "dresses = pd.read_csv('https://calvinw.github.io/Ma322Notebooks/hm-dresses-100.csv')"
      ],
      "id": "ddbbe0b5"
    },
    {
      "cell_type": "markdown",
      "metadata": {},
      "source": [
        "Let’s explore the data frame. Run the cells below to get a look at some\n",
        "aspects of the data\n",
        "\n",
        "### Print first few rows to get an overview"
      ],
      "id": "97c07f9e-0993-4d29-bc54-3f35e5653d14"
    },
    {
      "cell_type": "code",
      "execution_count": null,
      "metadata": {},
      "outputs": [],
      "source": [
        "print(dresses.head())"
      ],
      "id": "0855770e"
    },
    {
      "cell_type": "markdown",
      "metadata": {},
      "source": [
        "### Check what columns are available and their data types"
      ],
      "id": "b4ae9c70-88c3-4c84-b39e-2af8996b4aa5"
    },
    {
      "cell_type": "code",
      "execution_count": null,
      "metadata": {},
      "outputs": [],
      "source": [
        "print(dresses.dtypes)"
      ],
      "id": "fb6df498"
    },
    {
      "cell_type": "markdown",
      "metadata": {},
      "source": [
        "### Look at detailed descriptions for first 3 dresses"
      ],
      "id": "1239742a-1fd6-4d43-a9a7-c1bf3062a88c"
    },
    {
      "cell_type": "code",
      "execution_count": null,
      "metadata": {},
      "outputs": [],
      "source": [
        "print(dresses['detail_desc'].head(3))"
      ],
      "id": "4b1c07fc"
    },
    {
      "cell_type": "markdown",
      "metadata": {},
      "source": [
        "### Print out all the detailed descriptions"
      ],
      "id": "33b00faa-63a4-48db-a80c-3663d257323c"
    },
    {
      "cell_type": "code",
      "execution_count": null,
      "metadata": {},
      "outputs": [],
      "source": [
        "print(dresses['detail_desc'])"
      ],
      "id": "30a427db"
    },
    {
      "cell_type": "markdown",
      "metadata": {},
      "source": [
        "### See what departments sell dresses"
      ],
      "id": "21d24e9d-6776-433e-a139-64752581018a"
    },
    {
      "cell_type": "code",
      "execution_count": null,
      "metadata": {},
      "outputs": [],
      "source": [
        "print(dresses['department_name'].unique())"
      ],
      "id": "49d7addc"
    },
    {
      "cell_type": "markdown",
      "metadata": {},
      "source": [
        "### Check how many different color groups exist"
      ],
      "id": "c127e712-d142-422d-a465-75ce63230ca4"
    },
    {
      "cell_type": "code",
      "execution_count": null,
      "metadata": {},
      "outputs": [],
      "source": [
        "print(dresses['colour_group_name'].unique())"
      ],
      "id": "5fc055b8"
    },
    {
      "cell_type": "markdown",
      "metadata": {},
      "source": [
        "### Look at all colors available for the Alcazar strap dress"
      ],
      "id": "2c71db39-0d9d-4d11-a1b1-b58220518161"
    },
    {
      "cell_type": "code",
      "execution_count": null,
      "metadata": {},
      "outputs": [],
      "source": [
        "alcazar_dresses = dresses[dresses['prod_name'] == 'Alcazar strap dress']\n",
        "print(alcazar_dresses['colour_group_name'])"
      ],
      "id": "32a9e615"
    },
    {
      "cell_type": "markdown",
      "metadata": {},
      "source": [
        "### Find dresses that are dark blue"
      ],
      "id": "6074f45a-5283-4e3a-8297-9cc792854cd7"
    },
    {
      "cell_type": "code",
      "execution_count": null,
      "metadata": {},
      "outputs": [],
      "source": [
        "dark_blue = dresses[(dresses['perceived_colour_value_name'] == 'Dark') & \n",
        "                    (dresses['colour_group_name'] == 'Blue')]\n",
        "print(dark_blue[['prod_name', 'colour_group_name', 'perceived_colour_value_name']])"
      ],
      "id": "e673d12b"
    },
    {
      "cell_type": "markdown",
      "metadata": {},
      "source": [
        "### Look at different patterns/textures available"
      ],
      "id": "c6cdeb7c-fd60-47bc-a508-98bff371e9a0"
    },
    {
      "cell_type": "code",
      "execution_count": null,
      "metadata": {},
      "outputs": [],
      "source": [
        "print(dresses['graphical_appearance_name'].unique())"
      ],
      "id": "3783e755"
    },
    {
      "cell_type": "markdown",
      "metadata": {},
      "source": [
        "Now try to answer this questions.\n",
        "\n",
        "**Questions for Analysis**:\n",
        "\n",
        "1.  Looking at the ‘index_name’ and ‘department_name’ columns, what\n",
        "    different market segments does H&M categorize these dresses into?\n",
        "    How do these segments appear to be organized?\n",
        "\n",
        "2.  Based on the ‘detail_desc’ column, what are some common features\n",
        "    that H&M frequently mentions in their dress descriptions? What kinds\n",
        "    of details seem to be important to them?\n",
        "\n",
        "3.  H&M has a complex color categorization system with multiple columns:\n",
        "\n",
        "    -   colour_group_name\n",
        "    -   perceived_colour_value_name\n",
        "    -   perceived_colour_master_name What seems to be the purpose of\n",
        "        having these three different ways of describing colors? How do\n",
        "        they differ from each other?\n",
        "\n",
        "4.  Looking at the ‘garment_group_name’ and ‘product_type_name’ columns,\n",
        "    how does H&M categorize their garments? What might be the business\n",
        "    reason for having both of these classification systems?\n",
        "\n",
        "5.  Examine the ‘graphical_appearance_name’ column. What are the main\n",
        "    types of patterns or textures that H&M uses in their dresses? Why\n",
        "    might this information be useful from a business perspective?\n",
        "\n",
        "6.  The dataset includes both ‘article_id’ and ‘product_code’. Compare\n",
        "    these columns - how do they appear to be used? Why might a company\n",
        "    need multiple identification systems for their products?\n",
        "\n",
        "7.  Looking at the ‘section_name’ and ‘section_no’ columns, how does H&M\n",
        "    organize their sections? How does this relate to the department and\n",
        "    index organization?\n",
        "\n",
        "8.  Some dresses appear multiple times with different color options.\n",
        "    Find an example of this in the data. What does this tell us about\n",
        "    how H&M manages their product variations?\n",
        "\n",
        "These questions will help you understand both the structure of the data\n",
        "and how H&M organizes their product information. Think about why each\n",
        "piece of information might be important from both a business and\n",
        "technical perspective."
      ],
      "id": "ffbcc23c-14ec-436b-b02e-ae36c141ed43"
    }
  ],
  "nbformat": 4,
  "nbformat_minor": 5,
  "metadata": {
    "kernelspec": {
      "name": "python3",
      "display_name": "Python 3 (ipykernel)",
      "language": "python"
    }
  }
}
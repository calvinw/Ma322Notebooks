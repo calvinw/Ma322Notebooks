{
  "cells": [
    {
      "cell_type": "markdown",
      "metadata": {},
      "source": [
        "# Prompts\n",
        "\n",
        "In this notebook we will look at ways of constructing our prompts using\n",
        "the idea of templates. This is so we can reuse parts of our prompts for\n",
        "the LLMs.\n",
        "\n",
        "## Template Strings\n",
        "\n",
        "### Making a Template Variable `{what}`\n",
        "\n",
        "Suppose we want to create a string where we can put in different things\n",
        "for some part of the string. For example suppose we want to create the\n",
        "following string where we can substitute in different words for\n",
        "`{what}`."
      ],
      "id": "3c325c4c-298d-4100-950a-be3938e21889"
    },
    {
      "cell_type": "code",
      "execution_count": null,
      "metadata": {},
      "outputs": [],
      "source": [
        "template = \"Give a name for a company that makes {what}\""
      ],
      "id": "dce07b2e"
    },
    {
      "cell_type": "markdown",
      "metadata": {},
      "source": [
        "Here we start with a string called `template`. The portion `{what}` is\n",
        "where we want to substitute in different values. This is called a\n",
        "template variable. We put curly brackets { } around that to show it is a\n",
        "template variable.\n",
        "\n",
        "### Evaluating the Template\n",
        "\n",
        "Here is how we evaluate the template.\n",
        "\n",
        "When `what=\"cars\"` we get “cars” put in for `{what}`.\n",
        "\n",
        "When `what=\"books\"` we get “books” put in for `{what}`.\n",
        "\n",
        "| Template Variable | Evaluated Template String                    |\n",
        "|-------------------|----------------------------------------------|\n",
        "| what = “cars”     | “Give a name for a company that makes cars”  |\n",
        "| what = “books”    | “Give a name for a company that makes books” |\n",
        "\n",
        "Now to do this in code we call the `format` method on the string we\n",
        "defined above (called `template` here). Then we pass in the parameter\n",
        "`what` and set it equal to the value we want it to have. The `format`\n",
        "function takes the string “cars” looks through the template and\n",
        "everywhere it sees `{what}` it puts in “cars” now instead. Then it\n",
        "returns the evaluated string.\n",
        "\n",
        "We assign this to the `prompt` variable and print it out below:"
      ],
      "id": "d3b24326-46f0-4fa9-8eff-0c1118a96829"
    },
    {
      "cell_type": "code",
      "execution_count": null,
      "metadata": {},
      "outputs": [],
      "source": [
        "prompt=template.format(what=\"cars\")\n",
        "print(prompt)"
      ],
      "id": "48e401f1"
    },
    {
      "cell_type": "markdown",
      "metadata": {},
      "source": [
        "If we want to change the value of `what` we can do it like this:"
      ],
      "id": "5929f69f-8dfa-4b49-9a05-728a12af993c"
    },
    {
      "cell_type": "code",
      "execution_count": null,
      "metadata": {},
      "outputs": [],
      "source": [
        "prompt=template.format(what=\"books\")\n",
        "print(prompt)"
      ],
      "id": "fd37fa06"
    },
    {
      "cell_type": "markdown",
      "metadata": {},
      "source": [
        "### Adding Another Template Variable Called `{num}`\n",
        "\n",
        "Let’s add another template variable called `num`."
      ],
      "id": "a4f6fc53-a525-4516-8097-e5a50bf5aa0f"
    },
    {
      "cell_type": "code",
      "execution_count": null,
      "metadata": {},
      "outputs": [],
      "source": [
        "template = \"Give {num} possible names for a company that makes {what}\""
      ],
      "id": "86396786"
    },
    {
      "cell_type": "markdown",
      "metadata": {},
      "source": [
        "Evaluating the template with `num=3` and `what=\"cars\"`:"
      ],
      "id": "eded8f50-f2a6-40e9-9ac9-692aa59b4c88"
    },
    {
      "cell_type": "code",
      "execution_count": null,
      "metadata": {},
      "outputs": [],
      "source": [
        "prompt=template.format(num=3, what=\"cars\")\n",
        "print(prompt)"
      ],
      "id": "8a1e7f77"
    },
    {
      "cell_type": "markdown",
      "metadata": {},
      "source": [
        "Evaluating the template with `num=5` and `what=\"bikes\"`:"
      ],
      "id": "2ce799f9-1f03-4f91-af52-32676448f357"
    },
    {
      "cell_type": "code",
      "execution_count": null,
      "metadata": {},
      "outputs": [],
      "source": [
        "prompt=template.format(num=5, what=\"bikes\")\n",
        "print(prompt)"
      ],
      "id": "f4287e91"
    },
    {
      "cell_type": "markdown",
      "metadata": {},
      "source": [
        "### Adding a Template Variable for `{format}`\n",
        "\n",
        "Add something so we can specify the format."
      ],
      "id": "4d7aca81-1e65-405f-9dba-d4ece2e3be9c"
    },
    {
      "cell_type": "code",
      "execution_count": null,
      "metadata": {},
      "outputs": [],
      "source": [
        "template = \"\"\"Give {num} possible names for a company that makes {what}.\n",
        "Give your answer in {format}\"\"\""
      ],
      "id": "f3a68cbe"
    },
    {
      "cell_type": "markdown",
      "metadata": {},
      "source": [
        "Here we specify the string as a multi-line string since it is getting\n",
        "long.\n",
        "\n",
        "Evaluate it with `num=3` and `what=\"bikes\"` and `format=\"uppercase\"`:"
      ],
      "id": "d0be3f9e-bcf5-46c7-bdac-f74b1f9adb6e"
    },
    {
      "cell_type": "code",
      "execution_count": null,
      "metadata": {},
      "outputs": [],
      "source": [
        "prompt=template.format(num=3, what=\"cars\", format=\"uppercase\")\n",
        "print(prompt)"
      ],
      "id": "a3dec342"
    },
    {
      "cell_type": "markdown",
      "metadata": {},
      "source": [
        "Evaluate it with `num=3` and `what=\"cars\"` and\n",
        "`format=\"a markdown table\"`:"
      ],
      "id": "d79d953f-6f9a-48da-be24-16f1d640a927"
    },
    {
      "cell_type": "code",
      "execution_count": null,
      "metadata": {},
      "outputs": [],
      "source": [
        "prompt=template.format(num=3, what=\"Cars\", format=\"a markdown table\")\n",
        "print(prompt)"
      ],
      "id": "5d8b276e"
    }
  ],
  "nbformat": 4,
  "nbformat_minor": 5,
  "metadata": {
    "kernelspec": {
      "name": "python3",
      "display_name": "Python 3 (ipykernel)",
      "language": "python"
    }
  }
}
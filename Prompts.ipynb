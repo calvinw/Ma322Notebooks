{
  "cells": [
    {
      "cell_type": "markdown",
      "metadata": {},
      "source": [
        "# Prompts\n",
        "\n",
        "Create a template with a template variable `what`. Then evaulate the\n",
        "template using different values for `what`\n",
        "\n",
        "Evaluate the template when `what=\"Cars\"`"
      ],
      "id": "12196436-3470-4fc5-865e-e68ed661c527"
    },
    {
      "cell_type": "code",
      "execution_count": null,
      "metadata": {},
      "outputs": [],
      "source": [
        "template = \"Give a name for a company that makes {what}\"\n",
        "\n",
        "prompt=template.format(what=\"Cars\")\n",
        "print(prompt)"
      ],
      "id": "aab254ad"
    },
    {
      "cell_type": "markdown",
      "metadata": {},
      "source": [
        "Evaluate the template when `what=`“Books”\\`"
      ],
      "id": "72165a6b-1793-42da-8b83-1521a383b28e"
    },
    {
      "cell_type": "code",
      "execution_count": null,
      "metadata": {},
      "outputs": [],
      "source": [
        "prompt=template.format(what=\"Books\")\n",
        "print(prompt)"
      ],
      "id": "b3de6fe2"
    },
    {
      "cell_type": "markdown",
      "metadata": {},
      "source": [
        "Add another template variable for `num`\n",
        "\n",
        "Evaluate the template when `num=3` and `what=\"Cars\"`"
      ],
      "id": "420bbb33-7883-4946-9131-29aac22ab621"
    },
    {
      "cell_type": "code",
      "execution_count": null,
      "metadata": {},
      "outputs": [],
      "source": [
        "template = \"Give {num} possible names for a company that makes {what}\"\n",
        "\n",
        "prompt=template.format(num=3, what=\"Cars\")\n",
        "print(prompt)"
      ],
      "id": "33005d88"
    },
    {
      "cell_type": "markdown",
      "metadata": {},
      "source": [
        "Evaluate the template when `num=5` and `what=\"Bikes\"`"
      ],
      "id": "bb6e1a0d-bfbe-409d-8eab-cd321b3f7fc5"
    },
    {
      "cell_type": "code",
      "execution_count": null,
      "metadata": {},
      "outputs": [],
      "source": [
        "prompt=template.format(num=5, what=\"Bikes\")\n",
        "print(prompt)"
      ],
      "id": "527d4664"
    },
    {
      "cell_type": "markdown",
      "metadata": {},
      "source": [
        "Add something so we can specify the format."
      ],
      "id": "0784493a-1291-4939-91f3-7c57d319433b"
    },
    {
      "cell_type": "code",
      "execution_count": null,
      "metadata": {},
      "outputs": [],
      "source": [
        "template = \"\"\"Give {num} possible names for a company that makes {what}. Give\n",
        "your answer in {format}\"\"\"\n",
        "prompt=template.format(num=3, what=\"Cars\", format=\"uppercase\")\n",
        "print(prompt)"
      ],
      "id": "6788d44f"
    },
    {
      "cell_type": "markdown",
      "metadata": {},
      "source": [
        "Create a prompt that asks for a different format."
      ],
      "id": "db268f0a-e8fd-4e4b-8723-eb3ec77fc396"
    },
    {
      "cell_type": "code",
      "execution_count": null,
      "metadata": {},
      "outputs": [],
      "source": [
        "#Evaluate the template\n",
        "prompt=template.format(num=3, what=\"Cars\", format=\"a markdown table\")\n",
        "print(prompt)"
      ],
      "id": "4c328c45"
    },
    {
      "cell_type": "markdown",
      "metadata": {},
      "source": [
        "We can use multi-line strings for the prompts."
      ],
      "id": "154b47fc-82a8-4441-b394-6caf43d7c74a"
    },
    {
      "cell_type": "code",
      "execution_count": null,
      "metadata": {},
      "outputs": [],
      "source": [
        "template =\"\"\"Give {num} possible names for a company that makes {what}.\n",
        "Give your answer in {format}\"\"\"\n",
        "\n",
        "#Evaluate the template\n",
        "prompt=template.format(num=3, what=\"Cars\", format=\"a bullet list\")\n",
        "print(prompt)"
      ],
      "id": "9e58c46b"
    },
    {
      "cell_type": "markdown",
      "metadata": {},
      "source": [
        "The following is an example of printing out 3 prompt strings based on a\n",
        "template."
      ],
      "id": "0fce8bfe-8b7c-49c8-97de-ea7b4256ca1e"
    },
    {
      "cell_type": "code",
      "execution_count": null,
      "metadata": {},
      "outputs": [],
      "source": [
        "template =\"\"\"Give {num} possible names for a company that makes {what}. Give\n",
        "your answer in {format}\"\"\"\n",
        "\n",
        "myList = [\"cars\", \"watches\", \"firecrackers\"]\n",
        "\n",
        "for item in myList:\n",
        "  prompt = template.format(num=3, what=item, format=\"a bullet list\")\n",
        "  print(prompt)\n",
        "  print(\"----\")"
      ],
      "id": "11d2d2eb"
    }
  ],
  "nbformat": 4,
  "nbformat_minor": 5,
  "metadata": {
    "kernelspec": {
      "name": "python3",
      "display_name": "Python 3 (ipykernel)",
      "language": "python"
    }
  }
}
{
  "cells": [
    {
      "cell_type": "markdown",
      "metadata": {},
      "source": [
        "# Prompts\n",
        "\n",
        "In this notebook we will look at ways of constructing our prompts using\n",
        "the idea of templates. This is so we can reuse parts of our prompts for\n",
        "the LLMs.\n",
        "\n",
        "## Template Strings\n",
        "\n",
        "### Making a Template Variable `{what}`\n",
        "\n",
        "Suppose we want to create a string where we can put in different things\n",
        "for some part of the string. For example suppose we want to create the\n",
        "following string where we can substitute in different words for\n",
        "`{what}`."
      ],
      "id": "3365ea24-0ff3-4e9e-9f6f-f3b82e821546"
    },
    {
      "cell_type": "code",
      "execution_count": null,
      "metadata": {},
      "outputs": [],
      "source": [
        "template = \"Give a name for a company that makes {what}\""
      ],
      "id": "2c0dd13d"
    },
    {
      "cell_type": "markdown",
      "metadata": {},
      "source": [
        "Here we start with a string called `template`. The portion `{what}` is\n",
        "where we want to substitute in different values. This is called a\n",
        "template variable. We put curly brackets { } around that to show it is a\n",
        "template variable.\n",
        "\n",
        "### Evaluating the Template\n",
        "\n",
        "Here is how we evaluate the template.\n",
        "\n",
        "When `what=\"cars\"` we get “cars” put in for `{what}`.\n",
        "\n",
        "When `what=\"books\"` we get “books” put in for `{what}`.\n",
        "\n",
        "| Template Variable | Evaluated Template String                    |\n",
        "|-------------------|----------------------------------------------|\n",
        "| what = “cars”     | “Give a name for a company that makes cars”  |\n",
        "| what = “books”    | “Give a name for a company that makes books” |\n",
        "\n",
        "Now to do this in code we call the `format` method on the string we\n",
        "defined above (called `template` here). Then we pass in the parameter\n",
        "`what` and set it equal to the value we want it to have. The `format`\n",
        "function takes the string “cars” looks through the template and\n",
        "everywhere it sees `{what}` it puts in “cars” now instead. Then it\n",
        "returns the evaluated string.\n",
        "\n",
        "We assign this to the `prompt` variable and print it out below:"
      ],
      "id": "4e90a2d3-65dd-4e9b-8cc9-d1c80c1b6728"
    },
    {
      "cell_type": "code",
      "execution_count": null,
      "metadata": {},
      "outputs": [],
      "source": [
        "prompt=template.format(what=\"cars\")\n",
        "print(prompt)"
      ],
      "id": "2bbfff42"
    },
    {
      "cell_type": "markdown",
      "metadata": {},
      "source": [
        "If we want to change the value of `what` we can do it like this:"
      ],
      "id": "e0e729c5-bd37-4aa9-8754-8a5f9cda07a1"
    },
    {
      "cell_type": "code",
      "execution_count": null,
      "metadata": {},
      "outputs": [],
      "source": [
        "prompt=template.format(what=\"books\")\n",
        "print(prompt)"
      ],
      "id": "7971fb02"
    },
    {
      "cell_type": "markdown",
      "metadata": {},
      "source": [
        "### Adding Another Template Variable Called `{num}`\n",
        "\n",
        "Let’s add another template variable called `num`."
      ],
      "id": "f3511e63-7393-4d6a-b29c-05d754a6a5c5"
    },
    {
      "cell_type": "code",
      "execution_count": null,
      "metadata": {},
      "outputs": [],
      "source": [
        "template = \"Give {num} possible names for a company that makes {what}\""
      ],
      "id": "7a696aeb"
    },
    {
      "cell_type": "markdown",
      "metadata": {},
      "source": [
        "Evaluating the template with `num=3` and `what=\"cars\"`:"
      ],
      "id": "b388153d-a4cf-4ba2-9fde-52344ff4525e"
    },
    {
      "cell_type": "code",
      "execution_count": null,
      "metadata": {},
      "outputs": [],
      "source": [
        "prompt=template.format(num=3, what=\"cars\")\n",
        "print(prompt)"
      ],
      "id": "15252b55"
    },
    {
      "cell_type": "markdown",
      "metadata": {},
      "source": [
        "Evaluating the template with `num=5` and `what=\"bikes\"`:"
      ],
      "id": "55fde7f0-0395-4648-b8c6-f8f44af2f8df"
    },
    {
      "cell_type": "code",
      "execution_count": null,
      "metadata": {},
      "outputs": [],
      "source": [
        "prompt=template.format(num=5, what=\"bikes\")\n",
        "print(prompt)"
      ],
      "id": "fd4c5d96"
    },
    {
      "cell_type": "markdown",
      "metadata": {},
      "source": [
        "### Adding a Template Variable for `{format}`\n",
        "\n",
        "Add something so we can specify the format."
      ],
      "id": "57d609b7-890b-405e-b674-e7f5f7ccbbaf"
    },
    {
      "cell_type": "code",
      "execution_count": null,
      "metadata": {},
      "outputs": [],
      "source": [
        "template = \"\"\"Give {num} possible names for a company that makes {what}.\n",
        "Give your answer in {format}\"\"\""
      ],
      "id": "c6c1f5c9"
    },
    {
      "cell_type": "markdown",
      "metadata": {},
      "source": [
        "Here we specify the string as a multi-line string since it is getting\n",
        "long.\n",
        "\n",
        "Evaluate it with `num=3` and `what=\"bikes\"` and `format=\"uppercase\"`:"
      ],
      "id": "caa1fc0d-172c-4637-b137-fe22165688fe"
    },
    {
      "cell_type": "code",
      "execution_count": null,
      "metadata": {},
      "outputs": [],
      "source": [
        "prompt=template.format(num=3, what=\"cars\", format=\"uppercase\")\n",
        "print(prompt)"
      ],
      "id": "8ffaaa18"
    },
    {
      "cell_type": "markdown",
      "metadata": {},
      "source": [
        "Evaluate it with `num=3` and `what=\"cars\"` and\n",
        "`format=\"a markdown table\"`:"
      ],
      "id": "ded292c6-e77e-439a-b59d-d0ef017eb225"
    },
    {
      "cell_type": "code",
      "execution_count": null,
      "metadata": {},
      "outputs": [],
      "source": [
        "prompt=template.format(num=3, what=\"Cars\", format=\"a markdown table\")\n",
        "print(prompt)"
      ],
      "id": "b384f86c"
    }
  ],
  "nbformat": 4,
  "nbformat_minor": 5,
  "metadata": {
    "kernelspec": {
      "name": "python3",
      "display_name": "Python 3 (ipykernel)",
      "language": "python"
    }
  }
}
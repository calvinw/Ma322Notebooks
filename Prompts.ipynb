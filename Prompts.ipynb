{
  "cells": [
    {
      "cell_type": "markdown",
      "metadata": {},
      "source": [
        "# Prompts\n",
        "\n",
        "In this notebook we will look at ways of constructing our prompts using\n",
        "the idea of templates. This is so we can reuse parts of our prompts for\n",
        "the LLMs.\n",
        "\n",
        "## Template Strings\n",
        "\n",
        "### Making a Template Variable `{what}`\n",
        "\n",
        "Suppose we want to create a string where we can put in different things\n",
        "for some part of the string. For example suppose we want to create the\n",
        "following string where we can substitute in different words for\n",
        "`{what}`."
      ],
      "id": "d1e0fdc4-11ee-44fa-a0a8-79d1b4fa006f"
    },
    {
      "cell_type": "code",
      "execution_count": null,
      "metadata": {},
      "outputs": [],
      "source": [
        "template = \"Give a name for a company that makes {what}\""
      ],
      "id": "fe8975b4"
    },
    {
      "cell_type": "markdown",
      "metadata": {},
      "source": [
        "Here we start with a string called `template`. The portion `{what}` is\n",
        "where we want to substitute in different values. This is called a\n",
        "template variable. We put curly brackets { } around that to show it is a\n",
        "template variable.\n",
        "\n",
        "### Evaluating the Template\n",
        "\n",
        "Here is how we evaluate the template.\n",
        "\n",
        "When `what=\"cars\"` we get “cars” put in for `{what}`.\n",
        "\n",
        "When `what=\"books\"` we get “books” put in for `{what}`.\n",
        "\n",
        "| Template Variable | Evaluated Template String                    |\n",
        "|-------------------|----------------------------------------------|\n",
        "| what = “cars”     | “Give a name for a company that makes cars”  |\n",
        "| what = “books”    | “Give a name for a company that makes books” |\n",
        "\n",
        "Now to do this in code we call the `format` method on the string we\n",
        "defined above (called `template` here). Then we pass in the parameter\n",
        "`what` and set it equal to the value we want it to have. The `format`\n",
        "function takes the string “cars” looks through the template and\n",
        "everywhere it sees `{what}` it puts in “cars” now instead. Then it\n",
        "returns the evaluated string.\n",
        "\n",
        "We assign this to the `prompt` variable and print it out below:"
      ],
      "id": "0c39ec85-081e-40d3-90fc-fe236b054b21"
    },
    {
      "cell_type": "code",
      "execution_count": null,
      "metadata": {},
      "outputs": [],
      "source": [
        "prompt=template.format(what=\"cars\")\n",
        "print(prompt)"
      ],
      "id": "ddb74f38"
    },
    {
      "cell_type": "markdown",
      "metadata": {},
      "source": [
        "If we want to change the value of `what` we can do it like this:"
      ],
      "id": "78b78637-bc41-44a7-98ca-2b1e116065a1"
    },
    {
      "cell_type": "code",
      "execution_count": null,
      "metadata": {},
      "outputs": [],
      "source": [
        "prompt=template.format(what=\"books\")\n",
        "print(prompt)"
      ],
      "id": "d5cd880b"
    },
    {
      "cell_type": "markdown",
      "metadata": {},
      "source": [
        "### Adding Another Template Variable Called `{num}`\n",
        "\n",
        "Let’s add another template variable called `num`."
      ],
      "id": "e7272d10-242e-4f06-a3a2-00d8a4599fc4"
    },
    {
      "cell_type": "code",
      "execution_count": null,
      "metadata": {},
      "outputs": [],
      "source": [
        "template = \"Give {num} possible names for a company that makes {what}\""
      ],
      "id": "db4b17ec"
    },
    {
      "cell_type": "markdown",
      "metadata": {},
      "source": [
        "Evaluating the template with `num=3` and `what=\"cars\"`:"
      ],
      "id": "4e9114fb-b5b3-45af-9fcc-fc21711b7aac"
    },
    {
      "cell_type": "code",
      "execution_count": null,
      "metadata": {},
      "outputs": [],
      "source": [
        "prompt=template.format(num=3, what=\"cars\")\n",
        "print(prompt)"
      ],
      "id": "318c99d1"
    },
    {
      "cell_type": "markdown",
      "metadata": {},
      "source": [
        "Evaluating the template with `num=5` and `what=\"bikes\"`:"
      ],
      "id": "1dd2964e-8773-4cf4-92db-20ae0f7b698f"
    },
    {
      "cell_type": "code",
      "execution_count": null,
      "metadata": {},
      "outputs": [],
      "source": [
        "prompt=template.format(num=5, what=\"bikes\")\n",
        "print(prompt)"
      ],
      "id": "bcd14116"
    },
    {
      "cell_type": "markdown",
      "metadata": {},
      "source": [
        "### Adding a Template Variable for `{format}`\n",
        "\n",
        "Add something so we can specify the format."
      ],
      "id": "b363b752-d4ce-482f-9314-51b5149e8524"
    },
    {
      "cell_type": "code",
      "execution_count": null,
      "metadata": {},
      "outputs": [],
      "source": [
        "template = \"\"\"Give {num} possible names for a company that makes {what}.\n",
        "Give your answer in {format}\"\"\""
      ],
      "id": "842186aa"
    },
    {
      "cell_type": "markdown",
      "metadata": {},
      "source": [
        "Here we specify the string as a multi-line string since it is getting\n",
        "long.\n",
        "\n",
        "Evaluate it with `num=3` and `what=\"bikes\"` and `format=\"uppercase\"`:"
      ],
      "id": "aa3aa2c2-6955-4c1a-afce-6c562721522e"
    },
    {
      "cell_type": "code",
      "execution_count": null,
      "metadata": {},
      "outputs": [],
      "source": [
        "prompt=template.format(num=3, what=\"cars\", format=\"uppercase\")\n",
        "print(prompt)"
      ],
      "id": "1aaad110"
    },
    {
      "cell_type": "markdown",
      "metadata": {},
      "source": [
        "Evaluate it with `num=3` and `what=\"cars\"` and\n",
        "`format=\"a markdown table\"`:"
      ],
      "id": "a8fce0e8-4adc-4d35-b991-62882eec1b1a"
    },
    {
      "cell_type": "code",
      "execution_count": null,
      "metadata": {},
      "outputs": [],
      "source": [
        "prompt=template.format(num=3, what=\"Cars\", format=\"a markdown table\")\n",
        "print(prompt)"
      ],
      "id": "225460fe"
    }
  ],
  "nbformat": 4,
  "nbformat_minor": 5,
  "metadata": {
    "kernelspec": {
      "name": "python3",
      "display_name": "Python 3 (ipykernel)",
      "language": "python"
    }
  }
}
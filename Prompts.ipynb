{
  "cells": [
    {
      "cell_type": "markdown",
      "metadata": {},
      "source": [
        "# Prompts\n",
        "\n",
        "In this notebook we will look at ways of constructing our prompts using\n",
        "the idea of templates. This is so we can reuse parts of our prompts for\n",
        "the LLMs.\n",
        "\n",
        "## Template Strings\n",
        "\n",
        "### Making a Template Variable `{what}`\n",
        "\n",
        "Suppose we want to create a string where we can put in different things\n",
        "for some part of the string. For example suppose we want to create the\n",
        "following string where we can substitute in different words for\n",
        "`{what}`."
      ],
      "id": "f88a0e59-a832-4e1c-b76f-9b7a1342275a"
    },
    {
      "cell_type": "code",
      "execution_count": null,
      "metadata": {},
      "outputs": [],
      "source": [
        "template = \"Give a name for a company that makes {what}\""
      ],
      "id": "f7d17b01"
    },
    {
      "cell_type": "markdown",
      "metadata": {},
      "source": [
        "Here we start with a string called `template`. The portion `{what}` is\n",
        "where we want to substitute in different values. This is called a\n",
        "template variable. We put curly brackets { } around that to show it is a\n",
        "template variable.\n",
        "\n",
        "### Evaluating the Template\n",
        "\n",
        "Here is how we evaluate the template.\n",
        "\n",
        "When `what=\"cars\"` we get “cars” put in for `{what}`.\n",
        "\n",
        "When `what=\"books\"` we get “books” put in for `{what}`.\n",
        "\n",
        "| Template Variable | Evaluated Template String                    |\n",
        "|-------------------|----------------------------------------------|\n",
        "| what = “cars”     | “Give a name for a company that makes cars”  |\n",
        "| what = “books”    | “Give a name for a company that makes books” |\n",
        "\n",
        "Now to do this in code we call the `format` method on the string we\n",
        "defined above (called `template` here). Then we pass in the parameter\n",
        "`what` and set it equal to the value we want it to have. The `format`\n",
        "function takes the string “cars” looks through the template and\n",
        "everywhere it sees `{what}` it puts in “cars” now instead. Then it\n",
        "returns the evaluated string.\n",
        "\n",
        "We assign this to the `prompt` variable and print it out below:"
      ],
      "id": "d0922c0a-cb2f-4f29-881c-ac7456657802"
    },
    {
      "cell_type": "code",
      "execution_count": null,
      "metadata": {},
      "outputs": [],
      "source": [
        "prompt=template.format(what=\"cars\")\n",
        "print(prompt)"
      ],
      "id": "1f98b6b2"
    },
    {
      "cell_type": "markdown",
      "metadata": {},
      "source": [
        "If we want to change the value of `what` we can do it like this:"
      ],
      "id": "776a6a33-383b-402e-baad-633a06074dd6"
    },
    {
      "cell_type": "code",
      "execution_count": null,
      "metadata": {},
      "outputs": [],
      "source": [
        "prompt=template.format(what=\"books\")\n",
        "print(prompt)"
      ],
      "id": "7a5907aa"
    },
    {
      "cell_type": "markdown",
      "metadata": {},
      "source": [
        "### Adding Another Template Variable Called `{num}`\n",
        "\n",
        "Let’s add another template variable called `num`."
      ],
      "id": "b6972a6b-abdf-4a42-9e03-fd3c9bf993e2"
    },
    {
      "cell_type": "code",
      "execution_count": null,
      "metadata": {},
      "outputs": [],
      "source": [
        "template = \"Give {num} possible names for a company that makes {what}\""
      ],
      "id": "dacab4d1"
    },
    {
      "cell_type": "markdown",
      "metadata": {},
      "source": [
        "Evaluating the template with `num=3` and `what=\"cars\"`:"
      ],
      "id": "daaa44a2-2ae1-43cb-8dce-a77522f1c682"
    },
    {
      "cell_type": "code",
      "execution_count": null,
      "metadata": {},
      "outputs": [],
      "source": [
        "prompt=template.format(num=3, what=\"cars\")\n",
        "print(prompt)"
      ],
      "id": "84b6d598"
    },
    {
      "cell_type": "markdown",
      "metadata": {},
      "source": [
        "Evaluating the template with `num=5` and `what=\"bikes\"`:"
      ],
      "id": "c423dcc9-3fcd-42e7-96e0-ac7056cd8ff9"
    },
    {
      "cell_type": "code",
      "execution_count": null,
      "metadata": {},
      "outputs": [],
      "source": [
        "prompt=template.format(num=5, what=\"bikes\")\n",
        "print(prompt)"
      ],
      "id": "5cfa84a9"
    },
    {
      "cell_type": "markdown",
      "metadata": {},
      "source": [
        "### Adding a Template Variable for `{format}`\n",
        "\n",
        "Add something so we can specify the format."
      ],
      "id": "95b2f7f0-2b1f-4b61-b382-009c81d4f1d4"
    },
    {
      "cell_type": "code",
      "execution_count": null,
      "metadata": {},
      "outputs": [],
      "source": [
        "template = \"\"\"Give {num} possible names for a company that makes {what}.\n",
        "Give your answer in {format}\"\"\""
      ],
      "id": "79243c17"
    },
    {
      "cell_type": "markdown",
      "metadata": {},
      "source": [
        "Here we specify the string as a multi-line string since it is getting\n",
        "long.\n",
        "\n",
        "Evaluate it with `num=3` and `what=\"bikes\"` and `format=\"uppercase\"`:"
      ],
      "id": "61864ddf-be5e-42d6-80a7-e638c6265329"
    },
    {
      "cell_type": "code",
      "execution_count": null,
      "metadata": {},
      "outputs": [],
      "source": [
        "prompt=template.format(num=3, what=\"cars\", format=\"uppercase\")\n",
        "print(prompt)"
      ],
      "id": "abd68766"
    },
    {
      "cell_type": "markdown",
      "metadata": {},
      "source": [
        "Evaluate it with `num=3` and `what=\"cars\"` and\n",
        "`format=\"a markdown table\"`:"
      ],
      "id": "30ef57aa-5db0-4d30-bf75-e493fb3bf7bf"
    },
    {
      "cell_type": "code",
      "execution_count": null,
      "metadata": {},
      "outputs": [],
      "source": [
        "prompt=template.format(num=3, what=\"Cars\", format=\"a markdown table\")\n",
        "print(prompt)"
      ],
      "id": "1720da7d"
    }
  ],
  "nbformat": 4,
  "nbformat_minor": 5,
  "metadata": {
    "kernelspec": {
      "name": "python3",
      "display_name": "Python 3 (ipykernel)",
      "language": "python"
    }
  }
}
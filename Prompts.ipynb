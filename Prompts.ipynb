{
  "cells": [
    {
      "cell_type": "markdown",
      "metadata": {},
      "source": [
        "# Prompts\n",
        "\n",
        "In this notebook we will look at ways of constructing our prompts using\n",
        "the idea of templates. This is so we can reuse parts of our prompts for\n",
        "the LLMs.\n",
        "\n",
        "## Template Strings\n",
        "\n",
        "### Making a Template Variable `{what}`\n",
        "\n",
        "Suppose we want to create a string where we can put in different things\n",
        "for some part of the string. For example suppose we want to create the\n",
        "following string where we can substitute in different words for\n",
        "`{what}`."
      ],
      "id": "617f6075-7af6-4a50-a368-efb8e447d762"
    },
    {
      "cell_type": "code",
      "execution_count": null,
      "metadata": {},
      "outputs": [],
      "source": [
        "template = \"Give a name for a company that makes {what}\""
      ],
      "id": "5b8dfa68"
    },
    {
      "cell_type": "markdown",
      "metadata": {},
      "source": [
        "Here we start with a string called `template`. The portion `{what}` is\n",
        "where we want to substitute in different values. This is called a\n",
        "template variable. We put curly brackets { } around that to show it is a\n",
        "template variable.\n",
        "\n",
        "### Evaluating the Template\n",
        "\n",
        "Here is how we evaluate the template.\n",
        "\n",
        "When `what=\"cars\"` we get “cars” put in for `{what}`.\n",
        "\n",
        "When `what=\"books\"` we get “books” put in for `{what}`.\n",
        "\n",
        "| Template Variable | Evaluated Template String                    |\n",
        "|-------------------|----------------------------------------------|\n",
        "| what = “cars”     | “Give a name for a company that makes cars”  |\n",
        "| what = “books”    | “Give a name for a company that makes books” |\n",
        "\n",
        "Now to do this in code we call the `format` method on the string we\n",
        "defined above (called `template` here). Then we pass in the parameter\n",
        "`what` and set it equal to the value we want it to have. The `format`\n",
        "function takes the string “cars” looks through the template and\n",
        "everywhere it sees `{what}` it puts in “cars” now instead. Then it\n",
        "returns the evaluated string.\n",
        "\n",
        "We assign this to the `prompt` variable and print it out below:"
      ],
      "id": "e6121b39-fce3-4be3-9f51-4d2b5df091e6"
    },
    {
      "cell_type": "code",
      "execution_count": null,
      "metadata": {},
      "outputs": [],
      "source": [
        "prompt=template.format(what=\"cars\")\n",
        "print(prompt)"
      ],
      "id": "186a14a6"
    },
    {
      "cell_type": "markdown",
      "metadata": {},
      "source": [
        "If we want to change the value of `what` we can do it like this:"
      ],
      "id": "d1fbbf04-2361-4861-9060-b1a695442e1b"
    },
    {
      "cell_type": "code",
      "execution_count": null,
      "metadata": {},
      "outputs": [],
      "source": [
        "prompt=template.format(what=\"books\")\n",
        "print(prompt)"
      ],
      "id": "625f2e0a"
    },
    {
      "cell_type": "markdown",
      "metadata": {},
      "source": [
        "### Adding Another Template Variable Called `{num}`\n",
        "\n",
        "Let’s add another template variable called `num`."
      ],
      "id": "5bbd7e54-41f1-474a-a0d7-48fe189c927a"
    },
    {
      "cell_type": "code",
      "execution_count": null,
      "metadata": {},
      "outputs": [],
      "source": [
        "template = \"Give {num} possible names for a company that makes {what}\""
      ],
      "id": "01d55466"
    },
    {
      "cell_type": "markdown",
      "metadata": {},
      "source": [
        "Evaluating the template with `num=3` and `what=\"cars\"`:"
      ],
      "id": "d05e1790-52e9-4dce-b7f4-5ce3b3f1923a"
    },
    {
      "cell_type": "code",
      "execution_count": null,
      "metadata": {},
      "outputs": [],
      "source": [
        "prompt=template.format(num=3, what=\"cars\")\n",
        "print(prompt)"
      ],
      "id": "3ced6d35"
    },
    {
      "cell_type": "markdown",
      "metadata": {},
      "source": [
        "Evaluating the template with `num=5` and `what=\"bikes\"`:"
      ],
      "id": "db1c7795-d818-4e1d-bfb1-c678eae01f8e"
    },
    {
      "cell_type": "code",
      "execution_count": null,
      "metadata": {},
      "outputs": [],
      "source": [
        "prompt=template.format(num=5, what=\"bikes\")\n",
        "print(prompt)"
      ],
      "id": "0ebbbbcf"
    },
    {
      "cell_type": "markdown",
      "metadata": {},
      "source": [
        "### Adding a Template Variable for `{format}`\n",
        "\n",
        "Add something so we can specify the format."
      ],
      "id": "50a43008-69b7-4cc8-b5e2-ac8ed74f78c3"
    },
    {
      "cell_type": "code",
      "execution_count": null,
      "metadata": {},
      "outputs": [],
      "source": [
        "template = \"\"\"Give {num} possible names for a company that makes {what}.\n",
        "Give your answer in {format}\"\"\""
      ],
      "id": "bdcb6565"
    },
    {
      "cell_type": "markdown",
      "metadata": {},
      "source": [
        "Here we specify the string as a multi-line string since it is getting\n",
        "long.\n",
        "\n",
        "Evaluate it with `num=3` and `what=\"bikes\"` and `format=\"uppercase\"`:"
      ],
      "id": "b3ba358b-9784-4cc3-9cea-c4f37d1002fb"
    },
    {
      "cell_type": "code",
      "execution_count": null,
      "metadata": {},
      "outputs": [],
      "source": [
        "prompt=template.format(num=3, what=\"cars\", format=\"uppercase\")\n",
        "print(prompt)"
      ],
      "id": "49a5ff41"
    },
    {
      "cell_type": "markdown",
      "metadata": {},
      "source": [
        "Evaluate it with `num=3` and `what=\"cars\"` and\n",
        "`format=\"a markdown table\"`:"
      ],
      "id": "7fbc8437-248b-4f4a-9e67-8a3d8359d45d"
    },
    {
      "cell_type": "code",
      "execution_count": null,
      "metadata": {},
      "outputs": [],
      "source": [
        "prompt=template.format(num=3, what=\"Cars\", format=\"a markdown table\")\n",
        "print(prompt)"
      ],
      "id": "35851eab"
    }
  ],
  "nbformat": 4,
  "nbformat_minor": 5,
  "metadata": {
    "kernelspec": {
      "name": "python3",
      "display_name": "Python 3 (ipykernel)",
      "language": "python"
    }
  }
}
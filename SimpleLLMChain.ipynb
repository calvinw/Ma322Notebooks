{
  "cells": [
    {
      "cell_type": "markdown",
      "metadata": {},
      "source": [
        "# Simple LLM Chain\n",
        "\n",
        "## Put Your Together AI key here"
      ],
      "id": "7b94e731-7cc6-43ff-8b9d-a89d9ef9672e"
    },
    {
      "cell_type": "code",
      "execution_count": null,
      "metadata": {},
      "outputs": [],
      "source": [
        "import os\n",
        "os.environ[\"TOGETHER_API_KEY\"] = \"paste_your_api_key_here\""
      ],
      "id": "72594ce5"
    },
    {
      "cell_type": "markdown",
      "metadata": {},
      "source": [
        "## Install Packages"
      ],
      "id": "0d64ec85-8f99-4210-aeb8-6e6e43b03fb3"
    },
    {
      "cell_type": "code",
      "execution_count": null,
      "metadata": {},
      "outputs": [],
      "source": [
        "!pip3 install langchain langchain_openai"
      ],
      "id": "2fe1ca60"
    },
    {
      "cell_type": "markdown",
      "metadata": {},
      "source": [
        "## Set up the LLM"
      ],
      "id": "00cb990b-f6a6-42c4-8ab6-d8e346d80795"
    },
    {
      "cell_type": "code",
      "execution_count": null,
      "metadata": {},
      "outputs": [],
      "source": [
        "import os\n",
        "from langchain_openai import ChatOpenAI\n",
        "\n",
        "#model_name = \"NousResearch/Nous-Hermes-2-Mixtral-8x7B-SFT\"\n",
        "#model_name = \"NousResearch/Nous-Hermes-2-Mixtral-8x7B-DPO\"\n",
        "#model_name=\"mistralai/Mixtral-8x7B-Instruct-v0.1\"\n",
        "#model_name=\"mistralai/Mistral-7B-Instruct-v0.1\"\n",
        "#model_name=\"mistralai/Mistral-7B-Instruct-v0.2\"\n",
        "model_name = \"openchat/openchat-3.5-1210\"\n",
        "#model_name = \"Qwen/Qwen1.5-72B-Chat\"\n",
        "#model_name = \"cognitivecomputations/dolphin-2.5-mixtral-8x7b\"\n",
        "#model_name=\"databricks/dbrx-instruct\"\n",
        "#model_name=\"mistralai/Mixtral-8x22B\"\n",
        "\n",
        "print(\"Provider: TogetherAI\")\n",
        "print(\"Model: \" + model_name)\n",
        "\n",
        "llm=ChatOpenAI(model_name=model_name,\n",
        "               openai_api_key=os.environ.get(\"TOGETHER_API_KEY\"),\n",
        "               openai_api_base=\"https://api.together.xyz/v1/\")\n",
        "\n",
        "import textwrap\n",
        "from langchain_core.prompts import ChatPromptTemplate\n",
        "\n",
        "def wrap_text(text, max_width=80):\n",
        "    \"\"\"\n",
        "    Wraps the text to the specified max_width, preserving line breaks and formatting.\n",
        "    \"\"\"\n",
        "    text = text.lstrip()\n",
        "    lines = text.splitlines()  # Split the text into lines\n",
        "    wrapped_lines = []\n",
        "    for line in lines:\n",
        "        if line.strip():  # Skip empty lines\n",
        "            wrapped_line = textwrap.fill(line, max_width, initial_indent='', subsequent_indent='')\n",
        "            wrapped_lines.extend(wrapped_line.splitlines())  # Preserve line breaks\n",
        "        else:\n",
        "            wrapped_lines.append('')  # Keep empty lines\n",
        "    return '\\n'.join(wrapped_lines)\n",
        "\n",
        "def print_prompt_and_response(prompt, response):\n",
        "    print(\"Prompt: \")\n",
        "    print(wrap_text(prompt))\n",
        "    print(\"\")\n",
        "    print(\"Response: \")\n",
        "    print(response)\n",
        "\n",
        "def print_messages_and_response(messages, response):\n",
        "    prompt = ChatPromptTemplate(messages=messages)\n",
        "    print_prompt_and_response(prompt.format(), response)\n",
        "\n",
        "def get_completion(prompt, temperature=0.0):\n",
        "    response = llm.invoke(prompt, temperature=temperature)\n",
        "    wrapped_response = wrap_text(response.content)\n",
        "    return wrapped_response\n",
        "\n",
        "def get_completion_messages(messages, temperature=0.0):\n",
        "    response=llm.invoke(messages, temperature=temperature)\n",
        "    wrapped_response = wrap_text(response.content)\n",
        "    return wrapped_response\n"
      ],
      "id": "ab4e64c2"
    },
    {
      "cell_type": "markdown",
      "metadata": {},
      "source": [
        "### Description of Simple LLM Chain\n",
        "\n",
        "Here we build a simple LLM Chain that makes two calls to the LLM. The\n",
        "second step depends on the answer from the first step. This shows the\n",
        "idea of a chain.\n",
        "\n",
        "### Step 1: What is the city {person} is from?"
      ],
      "id": "251df32d-d16c-4545-aca4-a8b3e6b4a608"
    },
    {
      "cell_type": "code",
      "execution_count": null,
      "metadata": {},
      "outputs": [],
      "source": [
        "city_template=\"\"\"\n",
        "Where is {person} from? Give just the city name\n",
        "\"\"\"\n",
        "\n",
        "city_prompt = city_template.format(person=\"Sean Connery\")\n",
        "city_response = get_completion(city_prompt)\n",
        "print(city_response)"
      ],
      "id": "d938d5a9"
    },
    {
      "cell_type": "markdown",
      "metadata": {},
      "source": [
        "### Step 2: What country is {city} in?"
      ],
      "id": "826d130e-429a-45d6-af93-6383a7a2c857"
    },
    {
      "cell_type": "code",
      "execution_count": null,
      "metadata": {},
      "outputs": [],
      "source": [
        "country_template=\"\"\"\n",
        "What country is the city {city} in? Respond in {language} with just the name.\n",
        "\"\"\"\n",
        "\n",
        "country_prompt = country_template.format(city=city_response,\n",
        "                                         language=\"French\")\n",
        "country_response = get_completion(country_prompt)\n",
        "print(country_response)"
      ],
      "id": "5d70890a"
    },
    {
      "cell_type": "markdown",
      "metadata": {},
      "source": [
        "### Step 3: Final Report\n",
        "\n",
        "Sometimes we will want to print out a summary of the responses we get in\n",
        "a chain. This may or may not include the prompts we give as well. We can\n",
        "just use a template for this as well, even though this is not a prompt,\n",
        "it is a convenient way to set up a printed version of the information."
      ],
      "id": "29f3ee63-ff52-47a4-8f8a-ca434d376fd2"
    },
    {
      "cell_type": "code",
      "execution_count": null,
      "metadata": {},
      "outputs": [],
      "source": [
        "report_template=\"\"\"\n",
        "## Final Report\n",
        "\n",
        "### Person\n",
        "{person}\n",
        "\n",
        "### City\n",
        "{city}\n",
        "\n",
        "### Language\n",
        "{language}\n",
        "\n",
        "### Country\n",
        "{country}\n",
        "\"\"\"\n",
        "\n",
        "# We pass the format function the values we used or got from the LLM\n",
        "report = report_template.format(person = \"Sean Connery\",\n",
        "                                city = city_response,\n",
        "                                language = \"French\",\n",
        "                                country= country_response)\n",
        "print(report)"
      ],
      "id": "d0ce99e9"
    }
  ],
  "nbformat": 4,
  "nbformat_minor": 5,
  "metadata": {
    "kernelspec": {
      "name": "python3",
      "display_name": "Python 3 (ipykernel)",
      "language": "python"
    }
  }
}
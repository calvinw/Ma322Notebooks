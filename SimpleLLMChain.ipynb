{
  "cells": [
    {
      "cell_type": "markdown",
      "metadata": {},
      "source": [
        "# Simple LLM Chain"
      ],
      "id": "f250e630-fcfd-4bcb-93c5-494b14c06c4f"
    },
    {
      "cell_type": "code",
      "execution_count": null,
      "metadata": {},
      "outputs": [],
      "source": [
        "import os\n",
        "\n",
        "if os.environ.get(\"TOGETHER_API_KEY\") is None:\n",
        "   os.environ[\"TOGETHER_API_KEY\"] = \"paste_your_api_key_here\""
      ],
      "id": "ed60c09c"
    },
    {
      "cell_type": "markdown",
      "metadata": {},
      "source": [
        "## Setup the LLM"
      ],
      "id": "c60fbaf7-ed8f-41e5-a313-6cd8b64555da"
    },
    {
      "cell_type": "code",
      "execution_count": null,
      "metadata": {},
      "outputs": [],
      "source": [
        "!pip3 install langchain langchain_openai"
      ],
      "id": "d0a1c488"
    },
    {
      "cell_type": "code",
      "execution_count": null,
      "metadata": {},
      "outputs": [],
      "source": [
        "import os\n",
        "from langchain_openai import ChatOpenAI\n",
        "\n",
        "#model_name = \"NousResearch/Nous-Hermes-2-Mixtral-8x7B-SFT\"\n",
        "#model_name = \"NousResearch/Nous-Hermes-2-Mixtral-8x7B-DPO\"\n",
        "#model_name=\"mistralai/Mixtral-8x7B-Instruct-v0.1\"\n",
        "#model_name=\"mistralai/Mistral-7B-Instruct-v0.1\"\n",
        "#model_name=\"mistralai/Mistral-7B-Instruct-v0.2\"\n",
        "#model_name = \"openchat/openchat-3.5-1210\"\n",
        "#model_name = \"Qwen/Qwen1.5-72B-Chat\"\n",
        "model_name = \"cognitivecomputations/dolphin-2.5-mixtral-8x7b\"\n",
        "\n",
        "print(\"Provider: TogetherAI\")\n",
        "print(\"Model: \" + model_name)\n",
        "\n",
        "llm=ChatOpenAI(model_name=model_name,\n",
        "               openai_api_key=os.environ.get(\"TOGETHER_API_KEY\"),\n",
        "               openai_api_base=\"https://api.together.xyz/v1/\")"
      ],
      "id": "d9a7eeba"
    },
    {
      "cell_type": "code",
      "execution_count": null,
      "metadata": {},
      "outputs": [],
      "source": [
        "import textwrap\n",
        "from langchain_core.prompts import ChatPromptTemplate\n",
        "\n",
        "def wrap_text(text, max_width=80):\n",
        "    \"\"\"\n",
        "    Wraps the text to the specified max_width, preserving line breaks and formatting.\n",
        "    \"\"\"\n",
        "    text = text.lstrip()\n",
        "    lines = text.splitlines()  # Split the text into lines\n",
        "    wrapped_lines = []\n",
        "    for line in lines:\n",
        "        if line.strip():  # Skip empty lines\n",
        "            wrapped_line = textwrap.fill(line, max_width, initial_indent='', subsequent_indent='')\n",
        "            wrapped_lines.extend(wrapped_line.splitlines())  # Preserve line breaks\n",
        "        else:\n",
        "            wrapped_lines.append('')  # Keep empty lines\n",
        "    return '\\n'.join(wrapped_lines)\n",
        "\n",
        "def print_prompt_and_response(prompt, response):\n",
        "    print(\"Prompt: \")\n",
        "    print(wrap_text(prompt))\n",
        "    print(\"\")\n",
        "    print(\"Response: \")\n",
        "    print(response)\n",
        "\n",
        "def print_messages_and_response(messages, response):\n",
        "    prompt = ChatPromptTemplate(messages=messages)\n",
        "    print_prompt_and_response(prompt.format(), response)\n",
        "\n",
        "def get_completion(prompt, temperature=0.0):\n",
        "    response = llm.invoke(prompt, temperature=temperature)\n",
        "    wrapped_response = wrap_text(response.content)\n",
        "    return wrapped_response\n",
        "\n",
        "def get_completion_messages(messages, temperature=0.0):\n",
        "    response=llm.invoke(messages, temperature=temperature)\n",
        "    wrapped_response = wrap_text(response.content)\n",
        "    return wrapped_response"
      ],
      "id": "306e6e6b"
    },
    {
      "cell_type": "markdown",
      "metadata": {},
      "source": [
        "### Description of Simple LLM Chain\n",
        "\n",
        "Here we build a simple LLM Chain that makes two calls to the LLM. The\n",
        "second step depends on the answer from the first step. This shows the\n",
        "idea of a chain.\n",
        "\n",
        "### Step 1: What is the city {person} is from?"
      ],
      "id": "950a79d3-6db9-4f36-b93a-7ac510ad0958"
    },
    {
      "cell_type": "code",
      "execution_count": null,
      "metadata": {},
      "outputs": [],
      "source": [
        "city_template=\"\"\"\n",
        "What city is {person} from? Only respond with the name of the city.\n",
        "\"\"\"\n",
        "\n",
        "city_prompt = city_template.format(person=\"Arnold Swartzeneggar\")\n",
        "city_response = get_completion(city_prompt)\n",
        "print(city_prompt)\n",
        "print(city_response)"
      ],
      "id": "52bf7d3e"
    },
    {
      "cell_type": "markdown",
      "metadata": {},
      "source": [
        "### Step 2: What country is {city} in?"
      ],
      "id": "8b989c7c-59d4-4e6c-881b-24aa024d5b70"
    },
    {
      "cell_type": "code",
      "execution_count": null,
      "metadata": {},
      "outputs": [],
      "source": [
        "country_template=\"\"\"\n",
        "What country is the city {city} in? Only respond in {language} with the name of\n",
        "the country.\n",
        "\"\"\"\n",
        "\n",
        "country_prompt = country_template.format(city=city_response,\n",
        "                                         language=\"french\")\n",
        "country_response = get_completion(country_prompt)\n",
        "print(country_prompt)\n",
        "print(country_response)"
      ],
      "id": "4871d437"
    },
    {
      "cell_type": "markdown",
      "metadata": {},
      "source": [
        "### Final Report"
      ],
      "id": "2727a359-ab8f-4ef3-8598-b7149b9b3ec1"
    },
    {
      "cell_type": "code",
      "execution_count": null,
      "metadata": {},
      "outputs": [],
      "source": [
        "report_template=\"\"\"\n",
        "## Final Report\n",
        "\n",
        "### Person\n",
        "{person}\n",
        "\n",
        "### City\n",
        "{city}\n",
        "\n",
        "### Language\n",
        "{language}\n",
        "\n",
        "### Country\n",
        "{country}\n",
        "\"\"\"\n",
        "\n",
        "report = report_template.format(person = \"Arnold Swartzeneggar\",\n",
        "                                city = city_response,\n",
        "                                language = \"french\",\n",
        "                                country= country_response)\n",
        "print(report)"
      ],
      "id": "f2d587c3"
    }
  ],
  "nbformat": 4,
  "nbformat_minor": 5,
  "metadata": {
    "kernelspec": {
      "name": "python3",
      "display_name": "Python 3 (ipykernel)",
      "language": "python"
    }
  }
}
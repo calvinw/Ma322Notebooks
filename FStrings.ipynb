{
  "cells": [
    {
      "cell_type": "markdown",
      "metadata": {},
      "source": [
        "# F-string Prompts\n",
        "\n",
        "In this notebook we will look at ways of constructing our prompts using\n",
        "the idea of the idea of F-strings\n",
        "\n",
        "### F-strings as Templates\n",
        "\n",
        "Remember earlier we wanted to evaluate a string with a template variable\n",
        "`{what}`\n",
        "\n",
        "Another way to do this different from what we showed before is to use\n",
        "the idea of a F-string.\n",
        "\n",
        "The idea is that we put a little `f` before the string and this makes it\n",
        "a template that is evaluated immediately when it is executed. So we have\n",
        "this:\n",
        "\n",
        "    prompt = f\"Give a name for a company that makes {what}\"\n",
        "\n",
        "In python F-strings are evaluated as soon as they are defined. That\n",
        "means that the `what` must be defined ahead of this line in the code.\n",
        "\n",
        "### Executing an F-string\n",
        "\n",
        "For example try to execute the following code:"
      ],
      "id": "712f61de-554a-487a-9efe-38898fe7a686"
    },
    {
      "cell_type": "code",
      "execution_count": null,
      "metadata": {},
      "outputs": [],
      "source": [
        "prompt = f\"Give a name for a company that makes {what}\""
      ],
      "id": "d22eabc5"
    },
    {
      "cell_type": "markdown",
      "metadata": {},
      "source": [
        "Since `what` is not defined it does not work.\n",
        "\n",
        "### Define Template Variables Ahead of Execution\n",
        "\n",
        "Lets see how it works if what is defined ahead of the F-string."
      ],
      "id": "93fa1cb7-b3fb-4bfd-8a73-eb6594aa283d"
    },
    {
      "cell_type": "code",
      "execution_count": null,
      "metadata": {},
      "outputs": [],
      "source": [
        "what=\"cars\"\n",
        "prompt = f\"Give a name for a company that makes {what}\"\n",
        "print(prompt)"
      ],
      "id": "4d21ee66"
    },
    {
      "cell_type": "markdown",
      "metadata": {},
      "source": [
        "### Changing Template Variables and Re-Executing\n",
        "\n",
        "If we want to change the value of `what` we can do it like this:"
      ],
      "id": "6631c695-b1c1-4cfa-81e3-ed60aadf2e67"
    },
    {
      "cell_type": "code",
      "execution_count": null,
      "metadata": {},
      "outputs": [],
      "source": [
        "what=\"bikes\"\n",
        "prompt = f\"Give a name for a company that makes {what}\"\n",
        "print(prompt)"
      ],
      "id": "03ca5b54"
    },
    {
      "cell_type": "markdown",
      "metadata": {},
      "source": [
        "### No Easy Way to Reuse an F-string\n",
        "\n",
        "Notice how we had to repeat the definition of the F-string in order to\n",
        "make this work. Thats kind of a disadvantage.\n",
        "\n",
        "There is not a super easy way of “reusing” an F-string without some\n",
        "additional effort.\n",
        "\n",
        "But we will sometimes use F-strings since they work well for certain\n",
        "situations.\n",
        "\n",
        "### Adding Another Template Variable Called `{num}`\n",
        "\n",
        "Let’s add another template variable called `num`.\n",
        "\n",
        "Evaluating the template with `num=3` and `what=\"cars\"`:"
      ],
      "id": "979f58c6-9a57-4549-9be3-b7c6522c0d49"
    },
    {
      "cell_type": "code",
      "execution_count": null,
      "metadata": {},
      "outputs": [],
      "source": [
        "num=3\n",
        "what=\"cars\"\n",
        "prompt = f\"Give {num} possible names for a company that makes {what}\"\n",
        "print(prompt)"
      ],
      "id": "d5e03706"
    },
    {
      "cell_type": "markdown",
      "metadata": {},
      "source": [
        "### Adding a Template Variable for `{format}`\n",
        "\n",
        "Add something so we can specify the format.\n",
        "\n",
        "``` python\n",
        "prompt = f\"\"\"Give {num} possible names\n",
        "for a company that makes {what}.\n",
        "Give your answer in {format}\"\"\"\n",
        "```\n",
        "\n",
        "Here we specify the string as a multi-line string since it is getting\n",
        "long.\n",
        "\n",
        "Evaluate it with `num=3` and `what=\"bikes\"` and `format=\"uppercase\"`:"
      ],
      "id": "9060fd02-051d-4020-8c1e-cd56dd3afe92"
    },
    {
      "cell_type": "code",
      "execution_count": null,
      "metadata": {},
      "outputs": [],
      "source": [
        "num=3\n",
        "what=\"bikes\"\n",
        "format=\"uppercase\"\n",
        "prompt = f\"\"\"Give {num} possible names\n",
        "for a company that makes {what}.\n",
        "Give your answer in {format}\"\"\"\n",
        "print(prompt)"
      ],
      "id": "594e076b"
    },
    {
      "cell_type": "markdown",
      "metadata": {},
      "source": [
        "Evaluate it with `num=2` and `what=\"cars\"` and\n",
        "`format=\"a markdown table\"`:"
      ],
      "id": "3e16cb23-8d7f-4e02-9672-728ef85c6066"
    },
    {
      "cell_type": "code",
      "execution_count": null,
      "metadata": {},
      "outputs": [],
      "source": [
        "num=2\n",
        "what=\"cars\"\n",
        "format=\"a markdown table\"\n",
        "prompt = f\"\"\"Give {num} possible names\n",
        "for a company that makes {what}.\n",
        "Give your answer in {format}\"\"\"\n",
        "print(prompt)"
      ],
      "id": "954f825d"
    }
  ],
  "nbformat": 4,
  "nbformat_minor": 5,
  "metadata": {
    "kernelspec": {
      "name": "python3",
      "display_name": "Python 3 (ipykernel)",
      "language": "python"
    }
  }
}
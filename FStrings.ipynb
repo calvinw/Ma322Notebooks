{
  "cells": [
    {
      "cell_type": "markdown",
      "metadata": {},
      "source": [
        "# F-string Prompts\n",
        "\n",
        "In this notebook we will look at ways of constructing our prompts using\n",
        "the idea of the idea of F-strings\n",
        "\n",
        "### F-strings as Templates\n",
        "\n",
        "Remember earlier we wanted to evaluate a string with a template variable\n",
        "`{what}`\n",
        "\n",
        "Another way to do this different from what we showed before is to use\n",
        "the idea of a F-string.\n",
        "\n",
        "The idea is that we put a little `f` before the string and this makes it\n",
        "a template that is evaluated immediately when it is executed. So we have\n",
        "this:\n",
        "\n",
        "    prompt = f\"Give a name for a company that makes {what}\"\n",
        "\n",
        "In python F-strings are evaluated as soon as they are defined. That\n",
        "means that the `what` must be defined ahead of this line in the code.\n",
        "\n",
        "### Executing an F-string\n",
        "\n",
        "For example try to execute the following code:"
      ],
      "id": "7044f418-ae86-43ce-aed6-f7df1cd809e6"
    },
    {
      "cell_type": "code",
      "execution_count": null,
      "metadata": {},
      "outputs": [],
      "source": [
        "prompt = f\"Give a name for a company that makes {what}\""
      ],
      "id": "bc5103e1"
    },
    {
      "cell_type": "markdown",
      "metadata": {},
      "source": [
        "Since `what` is not defined it does not work.\n",
        "\n",
        "### Define Template Variables Ahead of Execution\n",
        "\n",
        "Lets see how it works if what is defined ahead of the F-string."
      ],
      "id": "e6f6be05-a574-4eca-a9a4-02c6b6b66f93"
    },
    {
      "cell_type": "code",
      "execution_count": null,
      "metadata": {},
      "outputs": [],
      "source": [
        "what=\"cars\"\n",
        "prompt = f\"Give a name for a company that makes {what}\"\n",
        "print(prompt)"
      ],
      "id": "af39f5d6"
    },
    {
      "cell_type": "markdown",
      "metadata": {},
      "source": [
        "### Changing Template Variables and Re-Executing\n",
        "\n",
        "If we want to change the value of `what` we can do it like this:"
      ],
      "id": "8ed3d887-65cb-4352-ae75-4b071d707eea"
    },
    {
      "cell_type": "code",
      "execution_count": null,
      "metadata": {},
      "outputs": [],
      "source": [
        "what=\"bikes\"\n",
        "prompt = f\"Give a name for a company that makes {what}\"\n",
        "print(prompt)"
      ],
      "id": "df1884c7"
    },
    {
      "cell_type": "markdown",
      "metadata": {},
      "source": [
        "### No Easy Way to Reuse an F-string\n",
        "\n",
        "Notice how we had to repeat the definition of the F-string in order to\n",
        "make this work. Thats kind of a disadvantage.\n",
        "\n",
        "There is not a super easy way of “reusing” an F-string without some\n",
        "additional effort.\n",
        "\n",
        "But we will sometimes use F-strings since they work well for certain\n",
        "situations.\n",
        "\n",
        "### Adding Another Template Variable Called `{num}`\n",
        "\n",
        "Let’s add another template variable called `num`.\n",
        "\n",
        "Evaluating the template with `num=3` and `what=\"cars\"`:"
      ],
      "id": "328c2f3e-4955-4dcb-b9ae-37441b368d2e"
    },
    {
      "cell_type": "code",
      "execution_count": null,
      "metadata": {},
      "outputs": [],
      "source": [
        "num=3\n",
        "what=\"cars\"\n",
        "prompt = f\"Give {num} possible names for a company that makes {what}\"\n",
        "print(prompt)"
      ],
      "id": "4219a37f"
    },
    {
      "cell_type": "markdown",
      "metadata": {},
      "source": [
        "### Adding a Template Variable for `{format}`\n",
        "\n",
        "Add something so we can specify the format.\n",
        "\n",
        "``` python\n",
        "prompt = f\"\"\"Give {num} possible names\n",
        "for a company that makes {what}.\n",
        "Give your answer in {format}\"\"\"\n",
        "```\n",
        "\n",
        "Here we specify the string as a multi-line string since it is getting\n",
        "long.\n",
        "\n",
        "Evaluate it with `num=3` and `what=\"bikes\"` and `format=\"uppercase\"`:"
      ],
      "id": "1584998a-23b6-4c62-b933-c5f5ddae978e"
    },
    {
      "cell_type": "code",
      "execution_count": null,
      "metadata": {},
      "outputs": [],
      "source": [
        "num=3\n",
        "what=\"bikes\"\n",
        "format=\"uppercase\"\n",
        "prompt = f\"\"\"Give {num} possible names\n",
        "for a company that makes {what}.\n",
        "Give your answer in {format}\"\"\"\n",
        "print(prompt)"
      ],
      "id": "dd7f1272"
    },
    {
      "cell_type": "markdown",
      "metadata": {},
      "source": [
        "Evaluate it with `num=2` and `what=\"cars\"` and\n",
        "`format=\"a markdown table\"`:"
      ],
      "id": "e75d2148-58f2-407e-9ada-fd1234dbb409"
    },
    {
      "cell_type": "code",
      "execution_count": null,
      "metadata": {},
      "outputs": [],
      "source": [
        "num=2\n",
        "what=\"cars\"\n",
        "format=\"a markdown table\"\n",
        "prompt = f\"\"\"Give {num} possible names\n",
        "for a company that makes {what}.\n",
        "Give your answer in {format}\"\"\"\n",
        "print(prompt)"
      ],
      "id": "04ca0fca"
    }
  ],
  "nbformat": 4,
  "nbformat_minor": 5,
  "metadata": {
    "kernelspec": {
      "name": "python3",
      "display_name": "Python 3 (ipykernel)",
      "language": "python"
    }
  }
}
{
  "cells": [
    {
      "cell_type": "markdown",
      "metadata": {},
      "source": [
        "# F-string Prompts\n",
        "\n",
        "In this notebook we will look at ways of constructing our prompts using\n",
        "the idea of the idea of F-strings\n",
        "\n",
        "### F-strings as Templates\n",
        "\n",
        "Remember earlier we wanted to evaluate a string with a template variable\n",
        "`{what}`\n",
        "\n",
        "Another way to do this different from what we showed before is to use\n",
        "the idea of a F-string.\n",
        "\n",
        "The idea is that we put a little `f` before the string and this makes it\n",
        "a template that is evaluated immediately when it is executed. So we have\n",
        "this:\n",
        "\n",
        "    prompt = f\"Give a name for a company that makes {what}\"\n",
        "\n",
        "In python F-strings are evaluated as soon as they are defined. That\n",
        "means that the `what` must be defined ahead of this line in the code.\n",
        "\n",
        "### Executing an F-string\n",
        "\n",
        "For example try to execute the following code:"
      ],
      "id": "02a8f091-d0db-4067-a061-a1b0367762f3"
    },
    {
      "cell_type": "code",
      "execution_count": null,
      "metadata": {},
      "outputs": [],
      "source": [
        "prompt = f\"Give a name for a company that makes {what}\""
      ],
      "id": "1b97253b"
    },
    {
      "cell_type": "markdown",
      "metadata": {},
      "source": [
        "Since `what` is not defined it does not work.\n",
        "\n",
        "### Define Template Variables Ahead of Execution\n",
        "\n",
        "Lets see how it works if what is defined ahead of the F-string."
      ],
      "id": "d061feed-23d5-4108-ba67-9ce430443807"
    },
    {
      "cell_type": "code",
      "execution_count": null,
      "metadata": {},
      "outputs": [],
      "source": [
        "what=\"cars\"\n",
        "prompt = f\"Give a name for a company that makes {what}\"\n",
        "print(prompt)"
      ],
      "id": "36ecfae7"
    },
    {
      "cell_type": "markdown",
      "metadata": {},
      "source": [
        "### Changing Template Variables and Re-Executing\n",
        "\n",
        "If we want to change the value of `what` we can do it like this:"
      ],
      "id": "8ce4fca3-9ed8-47ca-98f8-3a5bd352d36b"
    },
    {
      "cell_type": "code",
      "execution_count": null,
      "metadata": {},
      "outputs": [],
      "source": [
        "what=\"bikes\"\n",
        "prompt = f\"Give a name for a company that makes {what}\"\n",
        "print(prompt)"
      ],
      "id": "82b338e7"
    },
    {
      "cell_type": "markdown",
      "metadata": {},
      "source": [
        "### No Easy Way to Reuse an F-string\n",
        "\n",
        "Notice how we had to repeat the definition of the F-string in order to\n",
        "make this work. Thats kind of a disadvantage.\n",
        "\n",
        "There is not a super easy way of “reusing” an F-string without some\n",
        "additional effort.\n",
        "\n",
        "But we will sometimes use F-strings since they work well for certain\n",
        "situations.\n",
        "\n",
        "### Adding Another Template Variable Called `{num}`\n",
        "\n",
        "Let’s add another template variable called `num`.\n",
        "\n",
        "Evaluating the template with `num=3` and `what=\"cars\"`:"
      ],
      "id": "46b4110d-07c2-441c-8e34-b65bcaf79f15"
    },
    {
      "cell_type": "code",
      "execution_count": null,
      "metadata": {},
      "outputs": [],
      "source": [
        "num=3\n",
        "what=\"cars\"\n",
        "prompt = f\"Give {num} possible names for a company that makes {what}\"\n",
        "print(prompt)"
      ],
      "id": "6c9e0324"
    },
    {
      "cell_type": "markdown",
      "metadata": {},
      "source": [
        "### Adding a Template Variable for `{format}`\n",
        "\n",
        "Add something so we can specify the format.\n",
        "\n",
        "``` python\n",
        "prompt = f\"\"\"Give {num} possible names\n",
        "for a company that makes {what}.\n",
        "Give your answer in {format}\"\"\"\n",
        "```\n",
        "\n",
        "Here we specify the string as a multi-line string since it is getting\n",
        "long.\n",
        "\n",
        "Evaluate it with `num=3` and `what=\"bikes\"` and `format=\"uppercase\"`:"
      ],
      "id": "3b3dfd52-698a-4a86-9327-13842fe08158"
    },
    {
      "cell_type": "code",
      "execution_count": null,
      "metadata": {},
      "outputs": [],
      "source": [
        "num=3\n",
        "what=\"bikes\"\n",
        "format=\"uppercase\"\n",
        "prompt = f\"\"\"Give {num} possible names\n",
        "for a company that makes {what}.\n",
        "Give your answer in {format}\"\"\"\n",
        "print(prompt)"
      ],
      "id": "38c0d104"
    },
    {
      "cell_type": "markdown",
      "metadata": {},
      "source": [
        "Evaluate it with `num=2` and `what=\"cars\"` and\n",
        "`format=\"a markdown table\"`:"
      ],
      "id": "17b1c458-4e4b-43a1-9d28-66db0882dc67"
    },
    {
      "cell_type": "code",
      "execution_count": null,
      "metadata": {},
      "outputs": [],
      "source": [
        "num=2\n",
        "what=\"cars\"\n",
        "format=\"a markdown table\"\n",
        "prompt = f\"\"\"Give {num} possible names\n",
        "for a company that makes {what}.\n",
        "Give your answer in {format}\"\"\"\n",
        "print(prompt)"
      ],
      "id": "58c79a33"
    }
  ],
  "nbformat": 4,
  "nbformat_minor": 5,
  "metadata": {
    "kernelspec": {
      "name": "python3",
      "display_name": "Python 3 (ipykernel)",
      "language": "python"
    }
  }
}
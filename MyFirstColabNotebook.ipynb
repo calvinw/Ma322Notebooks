{
  "nbformat": 4,
  "nbformat_minor": 5,
  "metadata": {
    "kernelspec": {
      "display_name": "Python 3",
      "language": "python",
      "name": "python3"
    }
  }
}

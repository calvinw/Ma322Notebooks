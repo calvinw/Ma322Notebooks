{
  "cells": [
    {
      "cell_type": "markdown",
      "metadata": {},
      "source": [
        "# Translate Chain\n",
        "\n",
        "### Put Your OPENROUTER_API_KEY here"
      ],
      "id": "c2cfadec-4238-42ed-a450-23bfe19d89ad"
    },
    {
      "cell_type": "code",
      "execution_count": null,
      "metadata": {},
      "outputs": [],
      "source": [
        "import os\n",
        "os.environ[\"OPENROUTER_API_KEY\"] = \"paste_your_api_key_here\""
      ],
      "id": "c13c108b"
    },
    {
      "cell_type": "code",
      "execution_count": null,
      "metadata": {},
      "outputs": [],
      "source": [
        "!pip3 install langchain langchain_openai"
      ],
      "id": "e02d6846"
    },
    {
      "cell_type": "code",
      "execution_count": null,
      "metadata": {},
      "outputs": [],
      "source": [
        "import os\n",
        "from langchain_openai import ChatOpenAI\n",
        "\n",
        "try:\n",
        "    model_name\n",
        "except NameError:\n",
        "    model_name=\"openai/gpt-4o-mini\"\n",
        "\n",
        "print(\"Model Name:\", model_name)\n",
        "print(\"Provider:\", \"OpenRouter AI\")\n",
        "\n",
        "llm=ChatOpenAI(model_name=model_name,\n",
        "               openai_api_key=os.environ.get(\"OPENROUTER_API_KEY\"),\n",
        "               openai_api_base=\"https://openrouter.ai/api/v1\")"
      ],
      "id": "b58bbc86"
    },
    {
      "cell_type": "code",
      "execution_count": null,
      "metadata": {},
      "outputs": [],
      "source": [
        "import textwrap\n",
        "from langchain_core.prompts import ChatPromptTemplate\n",
        "\n",
        "def wrap_text(text, max_width=80):\n",
        "    \"\"\"\n",
        "    Wraps the text to the specified max_width, preserving line breaks and formatting.\n",
        "    \"\"\"\n",
        "    text = text.lstrip()\n",
        "    lines = text.splitlines()  # Split the text into lines\n",
        "    wrapped_lines = []\n",
        "    for line in lines:\n",
        "        if line.strip():  # Skip empty lines\n",
        "            wrapped_line = textwrap.fill(line, max_width, initial_indent='', subsequent_indent='')\n",
        "            wrapped_lines.extend(wrapped_line.splitlines())  # Preserve line breaks\n",
        "        else:\n",
        "            wrapped_lines.append('')  # Keep empty lines\n",
        "    return '\\n'.join(wrapped_lines)\n",
        "\n",
        "def print_prompt_and_response(prompt, response):\n",
        "    print(\"Prompt: \")\n",
        "    print(wrap_text(prompt))\n",
        "    print(\"\")\n",
        "    print(\"Response: \")\n",
        "    print(response)\n",
        "\n",
        "def print_messages_and_response(messages, response):\n",
        "    prompt = ChatPromptTemplate(messages=messages)\n",
        "    print_prompt_and_response(prompt.format(), response)\n",
        "\n",
        "def get_completion(prompt, temperature=0.0):\n",
        "    response = llm.invoke(prompt, temperature=temperature)\n",
        "    wrapped_response = wrap_text(response.content)\n",
        "    return wrapped_response\n",
        "\n",
        "def get_completion_messages(messages, temperature=0.0):\n",
        "    response=llm.invoke(messages, temperature=temperature)\n",
        "    wrapped_response = wrap_text(response.content)\n",
        "    return wrapped_response"
      ],
      "id": "0ff2009c"
    },
    {
      "cell_type": "markdown",
      "metadata": {},
      "source": [
        "We will analyze a customer review, including translating and summarizing\n",
        "it. Then try to compose a response\n",
        "\n",
        "Here are the steps in the analysis:\n",
        "\n",
        "1.  **Initial Review**: The process starts with a customer review, which\n",
        "    is provided as a string variable.\n",
        "\n",
        "2.  **What Language is It?**: The language of the review is identified\n",
        "    by prompting a language model to determine the language.\n",
        "\n",
        "3.  **Let’s Translate It**: The review is translated from the original\n",
        "    language (in this case, German) to English using a language model.\n",
        "\n",
        "4.  **Let’s Summarize It**: The translated English review is summarized\n",
        "    into a single sentence by prompting a language model.\n",
        "\n",
        "5.  **Analyze the sentiment of the original review on a scale of 1 to\n",
        "    5**: The sentiment of the original review is analyzed on a scale of\n",
        "    1 (very negative) to 5 (very positive) by prompting a language\n",
        "    model.\n",
        "\n",
        "6.  **Categorize the Review Based On the Main Issue**: The main issue or\n",
        "    concern raised in the translated English review is categorized into\n",
        "    one of the following categories: Product Quality, Shipping/Delivery,\n",
        "    Customer Service, Pricing, or Other.\n",
        "\n",
        "7.  **Suggest Potential Improvements Based On the Review**: At least\n",
        "    three potential improvements or changes are suggested to address the\n",
        "    customer’s concerns based on the translated English review.\n",
        "\n",
        "8.  **Write an individualized email response to the customer in\n",
        "    German**: A polite and professional email response is drafted in\n",
        "    German, addressing the customer’s concerns and offering a resolution\n",
        "    or next steps.\n",
        "\n",
        "9.  **Translate the email response to English**: The German email\n",
        "    response is translated to English using a language model.\n",
        "\n",
        "Lets start with the review text.\n",
        "\n",
        "### Initial Review"
      ],
      "id": "d02343fe-1c6a-4cdb-9763-7d78d1d193a1"
    },
    {
      "cell_type": "code",
      "execution_count": null,
      "metadata": {},
      "outputs": [],
      "source": [
        "review = \"\"\"Ich bin sehr unzufrieden mit dem Produkt, das ich erhalten habe.\n",
        "Die Qualität ist enttäuschend, und es entspricht nicht den Beschreibungen auf\n",
        "der Website. Darüber hinaus war die Lieferung viel zu spät, und der\n",
        "Kundenservice war wenig hilfreich. Ich erwarte eine sofortige Lösung für dieses\n",
        "Problem.\"\"\""
      ],
      "id": "aab5d4a4"
    },
    {
      "cell_type": "markdown",
      "metadata": {},
      "source": [
        "### What Language is It?"
      ],
      "id": "16a7f2fe-d2eb-427b-98ba-07cf108bf8a1"
    },
    {
      "cell_type": "code",
      "execution_count": null,
      "metadata": {},
      "outputs": [],
      "source": [
        "what_language_template = \"\"\"What language is the following review:\n",
        "{review}\n",
        "Just state the language name only.\n",
        "\"\"\"\n",
        "\n",
        "prompt=what_language_template.format(review=review)\n",
        "what_language_response = get_completion(prompt)\n",
        "print_prompt_and_response(prompt, what_language_response)"
      ],
      "id": "e016f63a"
    },
    {
      "cell_type": "markdown",
      "metadata": {},
      "source": [
        "### Lets Translate It"
      ],
      "id": "4b556708-4689-48d3-8a07-0756362d7ebe"
    },
    {
      "cell_type": "code",
      "execution_count": null,
      "metadata": {},
      "outputs": [],
      "source": [
        "translate_template =\"\"\"Translate the following review to english:\n",
        "{review}\n",
        "\"\"\"\n",
        "\n",
        "prompt=translate_template.format(review=review)\n",
        "translation_response = get_completion(prompt)\n",
        "print_prompt_and_response(prompt, translation_response)"
      ],
      "id": "dd64e740"
    },
    {
      "cell_type": "markdown",
      "metadata": {},
      "source": [
        "### Lets Summarize It"
      ],
      "id": "fe87a95b-4610-401f-ab87-36faa346130a"
    },
    {
      "cell_type": "code",
      "execution_count": null,
      "metadata": {},
      "outputs": [],
      "source": [
        "summarize_template =\"\"\"Can you summarize the following review in 1 sentence:\n",
        "{english_review}\n",
        "\"\"\"\n",
        "\n",
        "prompt=summarize_template.format(english_review=translation_response)\n",
        "summarize_response = get_completion(prompt)\n",
        "print_prompt_and_response(prompt, summarize_response)"
      ],
      "id": "4bcc888f"
    },
    {
      "cell_type": "markdown",
      "metadata": {},
      "source": [
        "### Analyze the sentiment on scale of 1(very negative) to 5(very positive)"
      ],
      "id": "609fb45e-6f27-4dc2-a60d-1a2a628b49ea"
    },
    {
      "cell_type": "code",
      "execution_count": null,
      "metadata": {},
      "outputs": [],
      "source": [
        "sentiment_template = \"\"\"\n",
        "Analyze the sentiment of the following review on a scale of 1 to 5, where 1 is\n",
        "very negative and 5 is very positive:\n",
        "\n",
        "{review}\n",
        "\n",
        "Just give the number only.\n",
        "\"\"\"\n",
        "\n",
        "prompt = sentiment_template.format(review=review)\n",
        "sentiment_response = get_completion(prompt)\n",
        "print_prompt_and_response(prompt, sentiment_response)"
      ],
      "id": "9caafd32"
    },
    {
      "cell_type": "markdown",
      "metadata": {},
      "source": [
        "### Categorize the Review Based On the Main Issue"
      ],
      "id": "419a9bbf-7237-43e5-b529-36f7f80cf2f0"
    },
    {
      "cell_type": "code",
      "execution_count": null,
      "metadata": {},
      "outputs": [],
      "source": [
        "categorize_template = \"\"\"\n",
        "Categorize the main issue or concern raised in the following review:\n",
        "\n",
        "{review}\n",
        "\n",
        "Choose from the following categories: Product Quality, Shipping/Delivery,\n",
        "Customer Service, Pricing, Other.\n",
        "Just give the categories only.\n",
        "\"\"\"\n",
        "\n",
        "prompt = categorize_template.format(review=translation_response)\n",
        "category_response = get_completion(prompt)\n",
        "print_prompt_and_response(prompt, category_response)"
      ],
      "id": "191364f1"
    },
    {
      "cell_type": "markdown",
      "metadata": {},
      "source": [
        "### Suggest Potential Improvements Based On the Review"
      ],
      "id": "ce1ee235-1310-4429-b468-1155fc299423"
    },
    {
      "cell_type": "code",
      "execution_count": null,
      "metadata": {},
      "outputs": [],
      "source": [
        "improvement_template = \"\"\"\n",
        "Based on the following review, suggest at least three potential improvements or\n",
        "changes that could address the customer's concerns:\n",
        "\n",
        "{review}\n",
        "\n",
        "Give only the three potential improvements as your output.\n",
        "\"\"\"\n",
        "\n",
        "prompt = improvement_template.format(review=translation_response)\n",
        "improvements_response = get_completion(prompt)\n",
        "print_prompt_and_response(prompt, improvements_response)"
      ],
      "id": "e1ea2398"
    },
    {
      "cell_type": "markdown",
      "metadata": {},
      "source": [
        "### Write an individualized email response to the customer in German"
      ],
      "id": "60e96a36-8c79-4de2-9cba-f8a8448d027b"
    },
    {
      "cell_type": "code",
      "execution_count": null,
      "metadata": {},
      "outputs": [],
      "source": [
        "response_template = \"\"\"\n",
        "You have received the following review from a customer:\n",
        "\n",
        "{review}\n",
        "\n",
        "Please draft a polite and professional email response to the customer in\n",
        "German, addressing their concerns and offering a resolution or next steps.\n",
        "\"\"\"\n",
        "\n",
        "prompt = response_template.format(review=review)\n",
        "german_response = get_completion(prompt)\n",
        "print_prompt_and_response(prompt, german_response)"
      ],
      "id": "82210a35"
    },
    {
      "cell_type": "markdown",
      "metadata": {},
      "source": [
        "### Translate the email response to English"
      ],
      "id": "5f7c04cb-ffe2-40ae-85ec-65215a94597f"
    },
    {
      "cell_type": "code",
      "execution_count": null,
      "metadata": {},
      "outputs": [],
      "source": [
        "translate_response_template = \"\"\"\n",
        "Translate the following text from German to English:\n",
        "\n",
        "{german_response}\n",
        "\"\"\"\n",
        "\n",
        "prompt = translate_response_template.format(german_response=german_response)\n",
        "english_response = get_completion(prompt)\n",
        "print_prompt_and_response(prompt, english_response)"
      ],
      "id": "8e8717ab"
    },
    {
      "cell_type": "markdown",
      "metadata": {},
      "source": [
        "### Final Report"
      ],
      "id": "c3d2869e-1fca-4ebb-a1b8-3211a7515a2d"
    },
    {
      "cell_type": "code",
      "execution_count": null,
      "metadata": {},
      "outputs": [],
      "source": [
        "def fix_for_markdown(s):\n",
        "    return s.replace('\\n', '  \\n')\n",
        "\n",
        "from IPython.display import Markdown\n",
        "\n",
        "final_report = f\"\"\"\n",
        "### Initial Review\n",
        "{review}\n",
        "\n",
        "### Language\n",
        "{what_language_response}\n",
        "\n",
        "### Translation\n",
        "{translation_response}\n",
        "\n",
        "### Summary\n",
        "{summarize_response}\n",
        "\n",
        "### Sentiment 1 (very negative) to 5 (very positive)\n",
        "{sentiment_response}\n",
        "\n",
        "### Categorized Main Issue\n",
        "{category_response}\n",
        "\n",
        "### Potential Improvements\n",
        "{improvements_response}\n",
        "\n",
        "### Individualized Email Response\n",
        "{german_response}\n",
        "\n",
        "### Translation to English\n",
        "{english_response}\n",
        "\"\"\"\n",
        "\n",
        "fixed = final_report.replace('\\n', '  \\n')\n",
        "\n",
        "display(Markdown(fixed))"
      ],
      "id": "cfbbc52a"
    }
  ],
  "nbformat": 4,
  "nbformat_minor": 5,
  "metadata": {
    "kernelspec": {
      "name": "python3",
      "display_name": "Python 3 (ipykernel)",
      "language": "python"
    }
  }
}
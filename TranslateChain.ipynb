{
  "cells": [
    {
      "cell_type": "markdown",
      "metadata": {},
      "source": [
        "# Translate Chain\n",
        "\n",
        "### Put Your OPENROUTER_API_KEY here"
      ],
      "id": "ce9173b7-51d9-4041-8251-7e37b9b9a961"
    },
    {
      "cell_type": "code",
      "execution_count": null,
      "metadata": {},
      "outputs": [],
      "source": [
        "import os\n",
        "os.environ[\"OPENROUTER_API_KEY\"] = \"paste_your_api_key_here\""
      ],
      "id": "b3e5af7f"
    },
    {
      "cell_type": "code",
      "execution_count": null,
      "metadata": {},
      "outputs": [],
      "source": [
        "!pip3 install langchain langchain_openai"
      ],
      "id": "e9cc5953"
    },
    {
      "cell_type": "code",
      "execution_count": null,
      "metadata": {},
      "outputs": [],
      "source": [
        "import os\n",
        "from langchain_openai import ChatOpenAI\n",
        "\n",
        "try:\n",
        "    model_name\n",
        "except NameError:\n",
        "    model_name=\"openai/gpt-4o-mini\"\n",
        "\n",
        "print(\"Model Name:\", model_name)\n",
        "print(\"Provider:\", \"OpenRouter AI\")\n",
        "\n",
        "llm=ChatOpenAI(model_name=model_name,\n",
        "               openai_api_key=os.environ.get(\"OPENROUTER_API_KEY\"),\n",
        "               openai_api_base=\"https://openrouter.ai/api/v1\")"
      ],
      "id": "71a3d19e"
    },
    {
      "cell_type": "code",
      "execution_count": null,
      "metadata": {},
      "outputs": [],
      "source": [
        "import textwrap\n",
        "from langchain_core.prompts import ChatPromptTemplate\n",
        "\n",
        "def wrap_text(text, max_width=80):\n",
        "    \"\"\"\n",
        "    Wraps the text to the specified max_width, preserving line breaks and formatting.\n",
        "    \"\"\"\n",
        "    text = text.lstrip()\n",
        "    lines = text.splitlines()  # Split the text into lines\n",
        "    wrapped_lines = []\n",
        "    for line in lines:\n",
        "        if line.strip():  # Skip empty lines\n",
        "            wrapped_line = textwrap.fill(line, max_width, initial_indent='', subsequent_indent='')\n",
        "            wrapped_lines.extend(wrapped_line.splitlines())  # Preserve line breaks\n",
        "        else:\n",
        "            wrapped_lines.append('')  # Keep empty lines\n",
        "    return '\\n'.join(wrapped_lines)\n",
        "\n",
        "def print_prompt_and_response(prompt, response):\n",
        "    print(\"Prompt: \")\n",
        "    print(wrap_text(prompt))\n",
        "    print(\"\")\n",
        "    print(\"Response: \")\n",
        "    print(response)\n",
        "\n",
        "def print_messages_and_response(messages, response):\n",
        "    prompt = ChatPromptTemplate(messages=messages)\n",
        "    print_prompt_and_response(prompt.format(), response)\n",
        "\n",
        "def get_completion(prompt, temperature=0.0):\n",
        "    response = llm.invoke(prompt, temperature=temperature)\n",
        "    wrapped_response = wrap_text(response.content)\n",
        "    return wrapped_response\n",
        "\n",
        "def get_completion_messages(messages, temperature=0.0):\n",
        "    response=llm.invoke(messages, temperature=temperature)\n",
        "    wrapped_response = wrap_text(response.content)\n",
        "    return wrapped_response"
      ],
      "id": "9713f247"
    },
    {
      "cell_type": "markdown",
      "metadata": {},
      "source": [
        "We will analyze a customer review, including translating and summarizing\n",
        "it. Then try to compose a response\n",
        "\n",
        "Here are the steps in the analysis:\n",
        "\n",
        "1.  **Initial Review**: The process starts with a customer review, which\n",
        "    is provided as a string variable.\n",
        "\n",
        "2.  **What Language is It?**: The language of the review is identified\n",
        "    by prompting a language model to determine the language.\n",
        "\n",
        "3.  **Let’s Translate It**: The review is translated from the original\n",
        "    language (in this case, German) to English using a language model.\n",
        "\n",
        "4.  **Let’s Summarize It**: The translated English review is summarized\n",
        "    into a single sentence by prompting a language model.\n",
        "\n",
        "5.  **Analyze the sentiment of the original review on a scale of 1 to\n",
        "    5**: The sentiment of the original review is analyzed on a scale of\n",
        "    1 (very negative) to 5 (very positive) by prompting a language\n",
        "    model.\n",
        "\n",
        "6.  **Categorize the Review Based On the Main Issue**: The main issue or\n",
        "    concern raised in the translated English review is categorized into\n",
        "    one of the following categories: Product Quality, Shipping/Delivery,\n",
        "    Customer Service, Pricing, or Other.\n",
        "\n",
        "7.  **Suggest Potential Improvements Based On the Review**: At least\n",
        "    three potential improvements or changes are suggested to address the\n",
        "    customer’s concerns based on the translated English review.\n",
        "\n",
        "8.  **Write an individualized email response to the customer in\n",
        "    German**: A polite and professional email response is drafted in\n",
        "    German, addressing the customer’s concerns and offering a resolution\n",
        "    or next steps.\n",
        "\n",
        "9.  **Translate the email response to English**: The German email\n",
        "    response is translated to English using a language model.\n",
        "\n",
        "Lets start with the review text.\n",
        "\n",
        "### Initial Review"
      ],
      "id": "0ed6c898-abe3-4a29-bfc2-e41b429ab975"
    },
    {
      "cell_type": "code",
      "execution_count": null,
      "metadata": {},
      "outputs": [],
      "source": [
        "review = \"\"\"Ich bin sehr unzufrieden mit dem Produkt, das ich erhalten habe.\n",
        "Die Qualität ist enttäuschend, und es entspricht nicht den Beschreibungen auf\n",
        "der Website. Darüber hinaus war die Lieferung viel zu spät, und der\n",
        "Kundenservice war wenig hilfreich. Ich erwarte eine sofortige Lösung für dieses\n",
        "Problem.\"\"\""
      ],
      "id": "e41218c5"
    },
    {
      "cell_type": "markdown",
      "metadata": {},
      "source": [
        "### What Language is It?"
      ],
      "id": "9bd4a469-1ecb-40cd-aabc-8f5663c9c8f2"
    },
    {
      "cell_type": "code",
      "execution_count": null,
      "metadata": {},
      "outputs": [],
      "source": [
        "what_language_template = \"\"\"What language is the following review:\n",
        "{review}\n",
        "Just state the language name only.\n",
        "\"\"\"\n",
        "\n",
        "prompt=what_language_template.format(review=review)\n",
        "what_language_response = get_completion(prompt)\n",
        "print_prompt_and_response(prompt, what_language_response)"
      ],
      "id": "3e745607"
    },
    {
      "cell_type": "markdown",
      "metadata": {},
      "source": [
        "### Lets Translate It"
      ],
      "id": "36127469-d730-4019-a40d-5b50cf2e0a34"
    },
    {
      "cell_type": "code",
      "execution_count": null,
      "metadata": {},
      "outputs": [],
      "source": [
        "translate_template =\"\"\"Translate the following review to english:\n",
        "{review}\n",
        "\"\"\"\n",
        "\n",
        "prompt=translate_template.format(review=review)\n",
        "translation_response = get_completion(prompt)\n",
        "print_prompt_and_response(prompt, translation_response)"
      ],
      "id": "246bfd19"
    },
    {
      "cell_type": "markdown",
      "metadata": {},
      "source": [
        "### Lets Summarize It"
      ],
      "id": "792334aa-48e5-4679-8afa-0b2f53783d5b"
    },
    {
      "cell_type": "code",
      "execution_count": null,
      "metadata": {},
      "outputs": [],
      "source": [
        "summarize_template =\"\"\"Can you summarize the following review in 1 sentence:\n",
        "{english_review}\n",
        "\"\"\"\n",
        "\n",
        "prompt=summarize_template.format(english_review=translation_response)\n",
        "summarize_response = get_completion(prompt)\n",
        "print_prompt_and_response(prompt, summarize_response)"
      ],
      "id": "8fbbae0b"
    },
    {
      "cell_type": "markdown",
      "metadata": {},
      "source": [
        "### Analyze the sentiment on scale of 1(very negative) to 5(very positive)"
      ],
      "id": "ec0a2be1-23ae-491c-be7b-03aa41e338ba"
    },
    {
      "cell_type": "code",
      "execution_count": null,
      "metadata": {},
      "outputs": [],
      "source": [
        "sentiment_template = \"\"\"\n",
        "Analyze the sentiment of the following review on a scale of 1 to 5, where 1 is\n",
        "very negative and 5 is very positive:\n",
        "\n",
        "{review}\n",
        "\n",
        "Just give the number only.\n",
        "\"\"\"\n",
        "\n",
        "prompt = sentiment_template.format(review=review)\n",
        "sentiment_response = get_completion(prompt)\n",
        "print_prompt_and_response(prompt, sentiment_response)"
      ],
      "id": "6012bdc2"
    },
    {
      "cell_type": "markdown",
      "metadata": {},
      "source": [
        "### Categorize the Review Based On the Main Issue"
      ],
      "id": "a7a092b1-f54f-4c6e-a7e1-2f683f049c63"
    },
    {
      "cell_type": "code",
      "execution_count": null,
      "metadata": {},
      "outputs": [],
      "source": [
        "categorize_template = \"\"\"\n",
        "Categorize the main issue or concern raised in the following review:\n",
        "\n",
        "{review}\n",
        "\n",
        "Choose from the following categories: Product Quality, Shipping/Delivery,\n",
        "Customer Service, Pricing, Other.\n",
        "Just give the categories only.\n",
        "\"\"\"\n",
        "\n",
        "prompt = categorize_template.format(review=translation_response)\n",
        "category_response = get_completion(prompt)\n",
        "print_prompt_and_response(prompt, category_response)"
      ],
      "id": "021de5bd"
    },
    {
      "cell_type": "markdown",
      "metadata": {},
      "source": [
        "### Suggest Potential Improvements Based On the Review"
      ],
      "id": "abeeffbc-0525-4f85-959d-2b26702bd58f"
    },
    {
      "cell_type": "code",
      "execution_count": null,
      "metadata": {},
      "outputs": [],
      "source": [
        "improvement_template = \"\"\"\n",
        "Based on the following review, suggest at least three potential improvements or\n",
        "changes that could address the customer's concerns:\n",
        "\n",
        "{review}\n",
        "\n",
        "Give only the three potential improvements as your output.\n",
        "\"\"\"\n",
        "\n",
        "prompt = improvement_template.format(review=translation_response)\n",
        "improvements_response = get_completion(prompt)\n",
        "print_prompt_and_response(prompt, improvements_response)"
      ],
      "id": "6865968c"
    },
    {
      "cell_type": "markdown",
      "metadata": {},
      "source": [
        "### Write an individualized email response to the customer in German"
      ],
      "id": "5bdd7e0e-0c92-4ad8-91a9-1964c73e6782"
    },
    {
      "cell_type": "code",
      "execution_count": null,
      "metadata": {},
      "outputs": [],
      "source": [
        "response_template = \"\"\"\n",
        "You have received the following review from a customer:\n",
        "\n",
        "{review}\n",
        "\n",
        "Please draft a polite and professional email response to the customer in\n",
        "German, addressing their concerns and offering a resolution or next steps.\n",
        "\"\"\"\n",
        "\n",
        "prompt = response_template.format(review=review)\n",
        "german_response = get_completion(prompt)\n",
        "print_prompt_and_response(prompt, german_response)"
      ],
      "id": "842bf2b3"
    },
    {
      "cell_type": "markdown",
      "metadata": {},
      "source": [
        "### Translate the email response to English"
      ],
      "id": "25b24f58-fea6-4e32-a0e6-1b575f1e9192"
    },
    {
      "cell_type": "code",
      "execution_count": null,
      "metadata": {},
      "outputs": [],
      "source": [
        "translate_response_template = \"\"\"\n",
        "Translate the following text from German to English:\n",
        "\n",
        "{german_response}\n",
        "\"\"\"\n",
        "\n",
        "prompt = translate_response_template.format(german_response=german_response)\n",
        "english_response = get_completion(prompt)\n",
        "print_prompt_and_response(prompt, english_response)"
      ],
      "id": "04f60ef6"
    },
    {
      "cell_type": "markdown",
      "metadata": {},
      "source": [
        "### Final Report"
      ],
      "id": "24187729-fc2b-467b-8bd3-fc15974fe9cc"
    },
    {
      "cell_type": "code",
      "execution_count": null,
      "metadata": {},
      "outputs": [],
      "source": [
        "def fix_for_markdown(s):\n",
        "    return s.replace('\\n', '  \\n')\n",
        "\n",
        "from IPython.display import Markdown\n",
        "\n",
        "final_report = f\"\"\"\n",
        "### Initial Review\n",
        "{review}\n",
        "\n",
        "### Language\n",
        "{what_language_response}\n",
        "\n",
        "### Translation\n",
        "{translation_response}\n",
        "\n",
        "### Summary\n",
        "{summarize_response}\n",
        "\n",
        "### Sentiment 1 (very negative) to 5 (very positive)\n",
        "{sentiment_response}\n",
        "\n",
        "### Categorized Main Issue\n",
        "{category_response}\n",
        "\n",
        "### Potential Improvements\n",
        "{improvements_response}\n",
        "\n",
        "### Individualized Email Response\n",
        "{german_response}\n",
        "\n",
        "### Translation to English\n",
        "{english_response}\n",
        "\"\"\"\n",
        "\n",
        "fixed = final_report.replace('\\n', '  \\n')\n",
        "\n",
        "display(Markdown(fixed))"
      ],
      "id": "7a26806f"
    }
  ],
  "nbformat": 4,
  "nbformat_minor": 5,
  "metadata": {
    "kernelspec": {
      "name": "python3",
      "display_name": "Python 3 (ipykernel)",
      "language": "python"
    }
  }
}
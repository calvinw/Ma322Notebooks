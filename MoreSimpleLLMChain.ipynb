{
  "cells": [
    {
      "cell_type": "markdown",
      "metadata": {},
      "source": [
        "# More Simple LLM Chain\n",
        "\n",
        "## Put Your OPENROUTER_API_KEY here"
      ],
      "id": "a9643688-b6bf-47ac-83c8-51e4221f268b"
    },
    {
      "cell_type": "code",
      "execution_count": null,
      "metadata": {},
      "outputs": [],
      "source": [
        "import os\n",
        "os.environ[\"OPENROUTER_API_KEY\"] = \"paste_your_api_key_here\""
      ],
      "id": "1df2b962"
    },
    {
      "cell_type": "code",
      "execution_count": null,
      "metadata": {},
      "outputs": [],
      "source": [
        "!pip3 install langchain langchain_openai"
      ],
      "id": "46374350"
    },
    {
      "cell_type": "code",
      "execution_count": null,
      "metadata": {},
      "outputs": [],
      "source": [
        "import os\n",
        "from langchain_openai import ChatOpenAI\n",
        "\n",
        "#model_name=\"openai/gpt-4o\"\n",
        "model_name=\"openai/gpt-4o-mini\"\n",
        "\n",
        "print(\"Provider: Open Router\")\n",
        "print(\"Model: \", model_name)\n",
        "\n",
        "llm=ChatOpenAI(model_name=model_name,\n",
        "               openai_api_key=os.environ.get(\"OPENROUTER_API_KEY\"),\n",
        "               openai_api_base=\"https://openrouter.ai/api/v1\")"
      ],
      "id": "2b7c4e29"
    },
    {
      "cell_type": "code",
      "execution_count": null,
      "metadata": {},
      "outputs": [],
      "source": [
        "import textwrap\n",
        "from langchain_core.prompts import ChatPromptTemplate\n",
        "\n",
        "def wrap_text(text, max_width=80):\n",
        "    \"\"\"\n",
        "    Wraps the text to the specified max_width, preserving line breaks and formatting.\n",
        "    \"\"\"\n",
        "    text = text.lstrip()\n",
        "    lines = text.splitlines()  # Split the text into lines\n",
        "    wrapped_lines = []\n",
        "    for line in lines:\n",
        "        if line.strip():  # Skip empty lines\n",
        "            wrapped_line = textwrap.fill(line, max_width, initial_indent='', subsequent_indent='')\n",
        "            wrapped_lines.extend(wrapped_line.splitlines())  # Preserve line breaks\n",
        "        else:\n",
        "            wrapped_lines.append('')  # Keep empty lines\n",
        "    return '\\n'.join(wrapped_lines)\n",
        "\n",
        "def print_prompt_and_response(prompt, response):\n",
        "    print(\"Prompt: \")\n",
        "    print(wrap_text(prompt))\n",
        "    print(\"\")\n",
        "    print(\"Response: \")\n",
        "    print(response)\n",
        "\n",
        "def print_messages_and_response(messages, response):\n",
        "    prompt = ChatPromptTemplate(messages=messages)\n",
        "    print_prompt_and_response(prompt.format(), response)\n",
        "\n",
        "def get_completion(prompt, temperature=0.0):\n",
        "    response = llm.invoke(prompt, temperature=temperature)\n",
        "    wrapped_response = wrap_text(response.content)\n",
        "    return wrapped_response\n",
        "\n",
        "def get_completion_messages(messages, temperature=0.0):\n",
        "    response=llm.invoke(messages, temperature=temperature)\n",
        "    wrapped_response = wrap_text(response.content)\n",
        "    return wrapped_response"
      ],
      "id": "8fc2709f"
    },
    {
      "cell_type": "markdown",
      "metadata": {},
      "source": [
        "## Step 1: Suggest a Funny Company Name\n",
        "\n",
        "**Problem**:\n",
        "\n",
        "-   Write a prompt template that has the LLM suggest one funny name for\n",
        "    a company that makes a certain product.\n",
        "-   Use the template variable `{product}` in your template\n",
        "-   Pass “sports car” as the `product` variable in the `template.format`\n",
        "    function\n",
        "-   Print out the `company_response` that is the response from the LLM"
      ],
      "id": "489cfc89-6eab-47c3-a8b1-b636c8a55597"
    },
    {
      "cell_type": "code",
      "execution_count": null,
      "metadata": {},
      "outputs": [],
      "source": [
        "template =\"\"\"\n",
        "CODE\n",
        "\"\"\"\n",
        "\n",
        "prompt = template.format(product=CODE)\n",
        "company_response = get_completion(prompt)\n",
        "print(CODE)"
      ],
      "id": "02b09b22"
    },
    {
      "cell_type": "markdown",
      "metadata": {},
      "source": [
        "## Step 2: Upper Case the Company Name\n",
        "\n",
        "**Problem**:\n",
        "\n",
        "Upper case the company name\n",
        "\n",
        "-   Write a prompt template using `{company}` as template variable,\n",
        "    asking the LLM to upper case the company name\n",
        "-   Pass the `company_response` as the `company` variable Print the\n",
        "    `uppercase_response`"
      ],
      "id": "4200c6f6-8a43-4f36-a32c-1abe1cf5d0c5"
    },
    {
      "cell_type": "code",
      "execution_count": null,
      "metadata": {},
      "outputs": [],
      "source": [
        "template =\"\"\"\n",
        "CODE\n",
        "\"\"\"\n",
        "\n",
        "prompt = template.format(company=CODE)\n",
        "uppercase_response = get_completion(prompt)\n",
        "print(CODE)"
      ],
      "id": "e69cf445"
    },
    {
      "cell_type": "markdown",
      "metadata": {},
      "source": [
        "## Step 3 Final Report"
      ],
      "id": "c82e1eaf-8b99-4b3e-96fa-8ff65587135e"
    },
    {
      "cell_type": "code",
      "execution_count": null,
      "metadata": {},
      "outputs": [],
      "source": [
        "report_template = \"\"\"\n",
        "## Final Report\n",
        "\n",
        "### Product\n",
        "{product}\n",
        "\n",
        "### Company Name\n",
        "{company}\n",
        "\n",
        "### Upper Cased Company Name\n",
        "{uppercase}\n",
        "\"\"\"\n",
        "\n",
        "report = report_template.format(product = \"sports car\",\n",
        "                         company = company_response,\n",
        "                         uppercase = uppercase_response)\n",
        "print(report)"
      ],
      "id": "3e2dc547"
    }
  ],
  "nbformat": 4,
  "nbformat_minor": 5,
  "metadata": {
    "kernelspec": {
      "name": "python3",
      "display_name": "Python 3 (ipykernel)",
      "language": "python"
    }
  }
}
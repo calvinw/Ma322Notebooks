{
  "cells": [
    {
      "cell_type": "markdown",
      "metadata": {},
      "source": [
        "# More Strings\n",
        "\n",
        "## Defining Strings\n",
        "\n",
        "**Problem**: Define a string variable called `aString` by using the\n",
        "string `Hello Cruel World` by using single quotes for the string. Print\n",
        "it."
      ],
      "id": "fb3654e6-56f5-44d8-81c9-f0444ed0f565"
    },
    {
      "cell_type": "code",
      "execution_count": null,
      "metadata": {},
      "outputs": [],
      "source": [
        "CODE"
      ],
      "id": "e5471b84"
    },
    {
      "cell_type": "markdown",
      "metadata": {},
      "source": [
        "**Problem**: Define a string variable called `aString` by using the\n",
        "string `Goodbye Cruel World` by using double quotes for the string.\n",
        "Print it."
      ],
      "id": "9e51a566-6982-4394-94fd-f466bb10dc81"
    },
    {
      "cell_type": "code",
      "execution_count": null,
      "metadata": {},
      "outputs": [],
      "source": [
        "CODE"
      ],
      "id": "40a63566"
    },
    {
      "cell_type": "markdown",
      "metadata": {},
      "source": [
        "**Problem**: Define a multiline string variable called `aString` using\n",
        "`See you later alligator`\n",
        "\n",
        "using triple quotes and put each word on a separate line like this:\n",
        "\n",
        "    See\n",
        "    you\n",
        "    later\n",
        "    alligator"
      ],
      "id": "c9e76a4e-3568-4dc4-be2b-86f1e74c1b4b"
    },
    {
      "cell_type": "code",
      "execution_count": null,
      "metadata": {},
      "outputs": [],
      "source": [
        "CODE"
      ],
      "id": "d48ac941"
    },
    {
      "cell_type": "markdown",
      "metadata": {},
      "source": [
        "## Accessing Parts of a String (Indexing)\n",
        "\n",
        "**Problem**: Define a string variable called `aString` to be\n",
        "`\"Hello there\"`. and print the first character using index notation."
      ],
      "id": "7c95a2c7-cf51-4b56-a619-23eef4a505ec"
    },
    {
      "cell_type": "code",
      "execution_count": null,
      "metadata": {},
      "outputs": [],
      "source": [
        "aString = \"Hello there\"\n",
        "CODE"
      ],
      "id": "4c5668b7"
    },
    {
      "cell_type": "markdown",
      "metadata": {},
      "source": [
        "**Problem**: Define a string variable called `aString` to be\n",
        "`\"Ma322 is the most fun, it is just unbelievable!\"`, and print the last\n",
        "three characters."
      ],
      "id": "1622b64b-146b-4337-9ba8-c14a15025b17"
    },
    {
      "cell_type": "code",
      "execution_count": null,
      "metadata": {},
      "outputs": [],
      "source": [
        "aString = \"Ma322 is the most fun, it is just unbelievable!\"\n",
        "CODE"
      ],
      "id": "1dff8660"
    },
    {
      "cell_type": "markdown",
      "metadata": {},
      "source": [
        "## Concatenating Strings\n",
        "\n",
        "**Problem**: Concatenate two strings, `\"Welcome \"` and `\"to Ma322!\"`,\n",
        "and print the result."
      ],
      "id": "c84dcd53-49ec-4626-a0ef-be85e5c8e025"
    },
    {
      "cell_type": "code",
      "execution_count": null,
      "metadata": {},
      "outputs": [],
      "source": [
        "CODE"
      ],
      "id": "96575ddd"
    },
    {
      "cell_type": "markdown",
      "metadata": {},
      "source": [
        "## Replicating Strings\n",
        "\n",
        "**Problem**: Create a string that repeats `\"Coding is Fun!\"` three times\n",
        "and print it."
      ],
      "id": "9366ae08-31ce-4859-a094-1a4cb02bccaa"
    },
    {
      "cell_type": "code",
      "execution_count": null,
      "metadata": {},
      "outputs": [],
      "source": [
        "aString = \"Coding is Fun!\"\n",
        "CODE"
      ],
      "id": "a967605b"
    },
    {
      "cell_type": "markdown",
      "metadata": {},
      "source": [
        "## String Methods\n",
        "\n",
        "**Problem**: Given the string\n",
        "`\"The quick brown fox jumps over the lazy dog.\"`, replace `\"lazy dog\"`\n",
        "with `\"energetic puppy\"` using the `replace()` method and print the new\n",
        "string."
      ],
      "id": "4738ec4a-0efd-4dae-adf2-709768a0ac1d"
    },
    {
      "cell_type": "code",
      "execution_count": null,
      "metadata": {},
      "outputs": [],
      "source": [
        "original_string = \"The quick brown fox jumps over the lazy dog.\"\n",
        "new_string = original_string.replace(CODE, CODE)\n",
        "CODE"
      ],
      "id": "9a418777"
    },
    {
      "cell_type": "markdown",
      "metadata": {},
      "source": [
        "**Problem**: Given the string `\"book,pen,paper,notebook\"`, split it into\n",
        "a list of substrings using the `split()` method and print the list."
      ],
      "id": "fe6253ce-71a5-40fe-a7e0-56a9125c59c6"
    },
    {
      "cell_type": "code",
      "execution_count": null,
      "metadata": {},
      "outputs": [],
      "source": [
        "original_string = \"book-pen-paper-notebook\"\n",
        "item_list = original_string.split(CODE)\n",
        "CODE"
      ],
      "id": "30875fcb"
    },
    {
      "cell_type": "markdown",
      "metadata": {},
      "source": [
        "**Problem**: Given the list `['Python', 'is', 'awesome']`, join the\n",
        "elements into a single string using the `join()` method with `'xoxoxo'`\n",
        "as the separator, and print the resulting string."
      ],
      "id": "26521270-93d7-4e5b-8d48-696c9037ebe0"
    },
    {
      "cell_type": "code",
      "execution_count": null,
      "metadata": {},
      "outputs": [],
      "source": [
        "word_list = ['Python', 'is', 'awesome']\n",
        "CODE"
      ],
      "id": "a46576a3"
    },
    {
      "cell_type": "markdown",
      "metadata": {},
      "source": [
        "## Length of a String\n",
        "\n",
        "**Problem**: Given the string `\"Learn Python today!\"`, print its length\n",
        "using the `len()` function."
      ],
      "id": "db4667e3-03ed-4de4-8ff3-0c1e981d4cc6"
    },
    {
      "cell_type": "code",
      "execution_count": null,
      "metadata": {},
      "outputs": [],
      "source": [
        "my_string = \"Learn Python today!\"\n",
        "CODE"
      ],
      "id": "7116fa9f"
    }
  ],
  "nbformat": 4,
  "nbformat_minor": 5,
  "metadata": {
    "kernelspec": {
      "name": "python3",
      "display_name": "Python 3 (ipykernel)",
      "language": "python"
    }
  }
}
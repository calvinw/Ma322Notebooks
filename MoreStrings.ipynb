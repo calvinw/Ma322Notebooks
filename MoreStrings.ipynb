{
  "cells": [
    {
      "cell_type": "markdown",
      "metadata": {},
      "source": [
        "# More Strings In Python\n",
        "\n",
        "## Defining Strings\n",
        "\n",
        "Define a string variable called `aString` by using the string\n",
        "`Hello Cruel World` by using single quotes for the string. Print it."
      ],
      "id": "cc997d2f-4524-4f97-820a-e2d918aa504d"
    },
    {
      "cell_type": "code",
      "execution_count": null,
      "metadata": {},
      "outputs": [],
      "source": [
        "CODE"
      ],
      "id": "5ae27a77"
    },
    {
      "cell_type": "markdown",
      "metadata": {},
      "source": [
        "Define a string variable called `aString` by using the string\n",
        "`Goodbye Cruel World` by using double quotes for the string. Print it."
      ],
      "id": "9fb9990c-96b9-4d81-af37-58da8786d66d"
    },
    {
      "cell_type": "code",
      "execution_count": null,
      "metadata": {},
      "outputs": [],
      "source": [
        "CODE"
      ],
      "id": "3cabba64"
    },
    {
      "cell_type": "markdown",
      "metadata": {},
      "source": [
        "Define a multiline string variable called `aString` using\n",
        "`See you later alligator`\n",
        "\n",
        "using triple quotes and put each word on a separate line like this:\n",
        "\n",
        "    See\n",
        "    you\n",
        "    later\n",
        "    alligator"
      ],
      "id": "de840c3d-625e-48f8-a427-ea8d56eddc15"
    },
    {
      "cell_type": "code",
      "execution_count": null,
      "metadata": {},
      "outputs": [],
      "source": [
        "CODE"
      ],
      "id": "99257647"
    },
    {
      "cell_type": "markdown",
      "metadata": {},
      "source": [
        "## Accessing Parts of a String (Indexing)\n",
        "\n",
        "Define a string variable called `aString` to be `\"Python\"`. and print\n",
        "the first character using index notation."
      ],
      "id": "dc752f1f-5f5e-4e7e-9eef-7ca663298f79"
    },
    {
      "cell_type": "code",
      "execution_count": null,
      "metadata": {},
      "outputs": [],
      "source": [
        " CODE"
      ],
      "id": "ea0a3d13"
    },
    {
      "cell_type": "markdown",
      "metadata": {},
      "source": [
        "Define a string variable called `aString` to be `\"Programming\"`, and\n",
        "print the last three characters."
      ],
      "id": "9e041b7b-bf81-4e75-abb5-44e836c8f387"
    },
    {
      "cell_type": "code",
      "execution_count": null,
      "metadata": {},
      "outputs": [],
      "source": [
        " CODE"
      ],
      "id": "715bc820"
    },
    {
      "cell_type": "markdown",
      "metadata": {},
      "source": [
        "## Concatenating Strings\n",
        "\n",
        "Concatenate two strings, `\"Welcome \"` and `\"to Ma322!\"`, and print the\n",
        "result."
      ],
      "id": "6364622e-8fd2-43f1-b1e0-b8d58c844e6a"
    },
    {
      "cell_type": "code",
      "execution_count": null,
      "metadata": {},
      "outputs": [],
      "source": [
        "CODE"
      ],
      "id": "fd593b37"
    },
    {
      "cell_type": "markdown",
      "metadata": {},
      "source": [
        "## Replicating Strings\n",
        "\n",
        "Create a string that repeats `\"Coding \"` three times and print it."
      ],
      "id": "3c7f1f7b-67a8-41b8-b595-f0e71c55f722"
    },
    {
      "cell_type": "code",
      "execution_count": null,
      "metadata": {},
      "outputs": [],
      "source": [
        "CODE"
      ],
      "id": "e51b14fe"
    },
    {
      "cell_type": "markdown",
      "metadata": {},
      "source": [
        "## String Methods\n",
        "\n",
        "Given the string `\"The quick brown fox jumps over the lazy dog.\"`,\n",
        "replace `\"lazy dog\"` with `\"energetic puppy\"` using the `replace()`\n",
        "method and print the new string."
      ],
      "id": "66d55a12-900f-4d47-81eb-404dcf79e9c5"
    },
    {
      "cell_type": "code",
      "execution_count": null,
      "metadata": {},
      "outputs": [],
      "source": [
        "CODE"
      ],
      "id": "a080608c"
    },
    {
      "cell_type": "markdown",
      "metadata": {},
      "source": [
        "Given the string `\"book,pen,paper,notebook\"`, split it into a list of\n",
        "substrings using the `split()` method and print the list."
      ],
      "id": "a259e14d-c784-4682-9ecf-83239455e5c9"
    },
    {
      "cell_type": "code",
      "execution_count": null,
      "metadata": {},
      "outputs": [],
      "source": [
        "CODE"
      ],
      "id": "8af3ca8c"
    },
    {
      "cell_type": "markdown",
      "metadata": {},
      "source": [
        "Given the list `['Python', 'is', 'awesome']`, join the elements into a\n",
        "single string using the `join()` method with `'xoxoxo'` as the\n",
        "separator, and print the resulting string."
      ],
      "id": "55abbe51-40b0-49e6-8d24-5c4ef1209a5a"
    },
    {
      "cell_type": "code",
      "execution_count": null,
      "metadata": {},
      "outputs": [],
      "source": [
        "CODE"
      ],
      "id": "28552218"
    },
    {
      "cell_type": "markdown",
      "metadata": {},
      "source": [
        "## Length of a String\n",
        "\n",
        "Given the string `\"Learn Python today!\"`, print its length using the\n",
        "`len()` function."
      ],
      "id": "b1950437-9f24-458b-8a15-8c4aa919fae9"
    },
    {
      "cell_type": "code",
      "execution_count": null,
      "metadata": {},
      "outputs": [],
      "source": [
        "CODE"
      ],
      "id": "b02b2182"
    }
  ],
  "nbformat": 4,
  "nbformat_minor": 5,
  "metadata": {
    "kernelspec": {
      "name": "python3",
      "display_name": "Python 3 (ipykernel)",
      "language": "python"
    }
  }
}
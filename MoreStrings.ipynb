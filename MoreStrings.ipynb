{
  "cells": [
    {
      "cell_type": "markdown",
      "metadata": {},
      "source": [
        "# More Strings In Python\n",
        "\n",
        "## Defining Strings\n",
        "\n",
        "Define a string variable called `aString` by using the string\n",
        "`Hello Cruel World` by using single quotes for the string. Print it."
      ],
      "id": "140fa142-fe1b-4e2c-b817-54d4ba39df64"
    },
    {
      "cell_type": "code",
      "execution_count": null,
      "metadata": {},
      "outputs": [],
      "source": [
        "CODE"
      ],
      "id": "c65f6b69"
    },
    {
      "cell_type": "markdown",
      "metadata": {},
      "source": [
        "Define a string variable called `aString` by using the string\n",
        "`Goodbye Cruel World` by using double quotes for the string. Print it."
      ],
      "id": "9cfd90d0-4ca3-4fc7-9ebd-4b038c5bddf3"
    },
    {
      "cell_type": "code",
      "execution_count": null,
      "metadata": {},
      "outputs": [],
      "source": [
        "CODE"
      ],
      "id": "adf11d6e"
    },
    {
      "cell_type": "markdown",
      "metadata": {},
      "source": [
        "Define a multiline string variable called `aString` using\n",
        "`See you later alligator`\n",
        "\n",
        "using triple quotes and put each word on a separate line like this:\n",
        "\n",
        "    See\n",
        "    you\n",
        "    later\n",
        "    alligator"
      ],
      "id": "78eff3a7-f8d3-44f6-91ac-ffe308eccdfd"
    },
    {
      "cell_type": "code",
      "execution_count": null,
      "metadata": {},
      "outputs": [],
      "source": [
        "CODE"
      ],
      "id": "dad504d1"
    },
    {
      "cell_type": "markdown",
      "metadata": {},
      "source": [
        "## Accessing Parts of a String (Indexing)\n",
        "\n",
        "Define a string variable called `aString` to be `\"Python\"`. and print\n",
        "the first character using index notation."
      ],
      "id": "b8b528bb-4ddf-40f4-9fb6-b191760ee5ff"
    },
    {
      "cell_type": "code",
      "execution_count": null,
      "metadata": {},
      "outputs": [],
      "source": [
        " CODE"
      ],
      "id": "0dbedd37"
    },
    {
      "cell_type": "markdown",
      "metadata": {},
      "source": [
        "Define a string variable called `aString` to be `\"Programming\"`, and\n",
        "print the last three characters."
      ],
      "id": "4a181033-85c2-4d20-bbc4-ee6d77c96253"
    },
    {
      "cell_type": "code",
      "execution_count": null,
      "metadata": {},
      "outputs": [],
      "source": [
        " CODE"
      ],
      "id": "79b3f840"
    },
    {
      "cell_type": "markdown",
      "metadata": {},
      "source": [
        "## Concatenating Strings\n",
        "\n",
        "Concatenate two strings, `\"Welcome \"` and `\"to Ma322!\"`, and print the\n",
        "result."
      ],
      "id": "6190a6ef-afba-465d-8189-2c2ea1a0a47e"
    },
    {
      "cell_type": "code",
      "execution_count": null,
      "metadata": {},
      "outputs": [],
      "source": [
        "CODE"
      ],
      "id": "11941cfa"
    },
    {
      "cell_type": "markdown",
      "metadata": {},
      "source": [
        "## Replicating Strings\n",
        "\n",
        "Create a string that repeats `\"Coding \"` three times and print it."
      ],
      "id": "c5a9f7ce-0f9b-4fb8-b9e5-65cb64257b00"
    },
    {
      "cell_type": "code",
      "execution_count": null,
      "metadata": {},
      "outputs": [],
      "source": [
        "CODE"
      ],
      "id": "9d217bfd"
    },
    {
      "cell_type": "markdown",
      "metadata": {},
      "source": [
        "## String Methods\n",
        "\n",
        "Given the string `\"The quick brown fox jumps over the lazy dog.\"`,\n",
        "replace `\"lazy dog\"` with `\"energetic puppy\"` using the `replace()`\n",
        "method and print the new string."
      ],
      "id": "3399831a-faa4-4371-bca3-4e8ea4b817b9"
    },
    {
      "cell_type": "code",
      "execution_count": null,
      "metadata": {},
      "outputs": [],
      "source": [
        "CODE"
      ],
      "id": "8f8f9704"
    },
    {
      "cell_type": "markdown",
      "metadata": {},
      "source": [
        "Given the string `\"book,pen,paper,notebook\"`, split it into a list of\n",
        "substrings using the `split()` method and print the list."
      ],
      "id": "0b973646-8e27-4d28-8308-122688fefac5"
    },
    {
      "cell_type": "code",
      "execution_count": null,
      "metadata": {},
      "outputs": [],
      "source": [
        "CODE"
      ],
      "id": "4bb1a95e"
    },
    {
      "cell_type": "markdown",
      "metadata": {},
      "source": [
        "Given the list `['Python', 'is', 'awesome']`, join the elements into a\n",
        "single string using the `join()` method with `'xoxoxo'` as the\n",
        "separator, and print the resulting string."
      ],
      "id": "7810d066-fc2f-4581-87f8-d2504e6501cf"
    },
    {
      "cell_type": "code",
      "execution_count": null,
      "metadata": {},
      "outputs": [],
      "source": [
        "CODE"
      ],
      "id": "97164d4c"
    },
    {
      "cell_type": "markdown",
      "metadata": {},
      "source": [
        "## Length of a String\n",
        "\n",
        "Given the string `\"Learn Python today!\"`, print its length using the\n",
        "`len()` function."
      ],
      "id": "0582e078-cf66-41c9-885d-3f3c43bade1d"
    },
    {
      "cell_type": "code",
      "execution_count": null,
      "metadata": {},
      "outputs": [],
      "source": [
        "CODE"
      ],
      "id": "00bb0603"
    }
  ],
  "nbformat": 4,
  "nbformat_minor": 5,
  "metadata": {
    "kernelspec": {
      "name": "python3",
      "display_name": "Python 3 (ipykernel)",
      "language": "python"
    }
  }
}
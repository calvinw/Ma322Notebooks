{
 "cells": [
  {
   "cell_type": "markdown",
   "id": "d436f038-c789-469c-a6c2-be263def8f96",
   "metadata": {},
   "source": [
    "# More Strings In Python\n",
    "\n",
    "## Defining Strings\n",
    "\n",
    "Define a string variable called `aString` by using the string\n",
    "`Hello Cruel World` by using single quotes for the string. Print it."
   ]
  },
  {
   "cell_type": "code",
   "execution_count": 1,
   "id": "f2dd5d1e",
   "metadata": {},
   "outputs": [],
   "source": [
    "aString = \"Hello Cruel World\""
   ]
  },
  {
   "cell_type": "markdown",
   "id": "743ab018-acd7-4f70-99a0-99c7475ac029",
   "metadata": {},
   "source": [
    "Define a string variable called `aString` by using the string\n",
    "`Goodbye Cruel World` by using double quotes for the string. Print it."
   ]
  },
  {
   "cell_type": "code",
   "execution_count": 2,
   "id": "a62147bd",
   "metadata": {},
   "outputs": [],
   "source": [
    "aString = \"Goodbye Cruel World\""
   ]
  },
  {
   "cell_type": "markdown",
   "id": "9ce48da8-50e3-4e41-92f2-6c8176f387c9",
   "metadata": {},
   "source": [
    "Define a multiline string variable called `aString` using\n",
    "`See you later alligator`\n",
    "\n",
    "using triple quotes and put each word on a separate line like this:\n",
    "\n",
    "    See\n",
    "    you\n",
    "    later\n",
    "    alligator"
   ]
  },
  {
   "cell_type": "code",
   "execution_count": 4,
   "id": "7cb30916",
   "metadata": {},
   "outputs": [
    {
     "name": "stdout",
     "output_type": "stream",
     "text": [
      "\n",
      "See \n",
      "you \n",
      "later \n",
      "alligator\n"
     ]
    }
   ],
   "source": [
    "aString = \"\"\"\n",
    "See \n",
    "you \n",
    "later \n",
    "alligator\"\"\"\n",
    "print(aString)"
   ]
  },
  {
   "cell_type": "markdown",
   "id": "e41778a0-bd7e-4ca2-9736-dd2c2d443b1e",
   "metadata": {},
   "source": [
    "## Accessing Parts of a String (Indexing)\n",
    "\n",
    "Define a string variable called `aString` to be `\"Python\"`. and print\n",
    "the first character using index notation."
   ]
  },
  {
   "cell_type": "code",
   "execution_count": 6,
   "id": "f4da6da4",
   "metadata": {},
   "outputs": [
    {
     "name": "stdout",
     "output_type": "stream",
     "text": [
      "P\n"
     ]
    }
   ],
   "source": [
    " aString=\"Python\"\n",
    "print(aString[0])"
   ]
  },
  {
   "cell_type": "markdown",
   "id": "abcd91a8-a044-4d3d-8fad-1638802275ec",
   "metadata": {},
   "source": [
    "Define a string variable called `aString` to be `\"Programming\"`, and\n",
    "print the last three characters."
   ]
  },
  {
   "cell_type": "code",
   "execution_count": 11,
   "id": "970b0949",
   "metadata": {},
   "outputs": [
    {
     "name": "stdout",
     "output_type": "stream",
     "text": [
      "ing\n"
     ]
    }
   ],
   "source": [
    "  aString=\"Programming\"\n",
    "print(aString[-3:])"
   ]
  },
  {
   "cell_type": "markdown",
   "id": "92a63ac9-4a66-462a-a835-f46822bd1683",
   "metadata": {},
   "source": [
    "## Concatenating Strings\n",
    "\n",
    "Concatenate two strings, `\"Welcome \"` and `\"to Ma322!\"`, and print the\n",
    "result."
   ]
  },
  {
   "cell_type": "code",
   "execution_count": 12,
   "id": "36f7220e",
   "metadata": {},
   "outputs": [
    {
     "data": {
      "text/plain": [
       "'Welcome to Ma322!'"
      ]
     },
     "execution_count": 12,
     "metadata": {},
     "output_type": "execute_result"
    }
   ],
   "source": [
    "s=\"Welcome \" + \"to Ma322!\"\n",
    "s"
   ]
  },
  {
   "cell_type": "markdown",
   "id": "c4156cea-5431-4141-aed7-ea7a7f9d0d7b",
   "metadata": {},
   "source": [
    "## Replicating Strings\n",
    "\n",
    "Create a string that repeats `\"Coding \"` three times and print it."
   ]
  },
  {
   "cell_type": "code",
   "execution_count": 15,
   "id": "d8e1c8ad",
   "metadata": {},
   "outputs": [
    {
     "data": {
      "text/plain": [
       "'Coding Coding Coding '"
      ]
     },
     "execution_count": 15,
     "metadata": {},
     "output_type": "execute_result"
    }
   ],
   "source": [
    "\"Coding \"*3"
   ]
  },
  {
   "cell_type": "markdown",
   "id": "852dd051-fa65-4dbb-a462-fce952d678d3",
   "metadata": {},
   "source": [
    "## String Methods\n",
    "\n",
    "Given the string `\"The quick brown fox jumps over the lazy dog.\"`,\n",
    "replace `\"lazy dog\"` with `\"energetic puppy\"` using the `replace()`\n",
    "method and print the new string."
   ]
  },
  {
   "cell_type": "code",
   "execution_count": 16,
   "id": "89f7c405",
   "metadata": {},
   "outputs": [
    {
     "data": {
      "text/plain": [
       "'The quick brown fox jumps over the energetic puppy.'"
      ]
     },
     "execution_count": 16,
     "metadata": {},
     "output_type": "execute_result"
    }
   ],
   "source": [
    "s=\"The quick brown fox jumps over the lazy dog.\"\n",
    "s.replace(\"lazy dog\", \"energetic puppy\")"
   ]
  },
  {
   "cell_type": "markdown",
   "id": "3e1dd331-1616-4737-af71-4da14563bdac",
   "metadata": {},
   "source": [
    "Given the string `\"book,pen,paper,notebook\"`, split it into a list of\n",
    "substrings using the `split()` method and print the list."
   ]
  },
  {
   "cell_type": "code",
   "execution_count": 18,
   "id": "b92fc4b9",
   "metadata": {},
   "outputs": [
    {
     "data": {
      "text/plain": [
       "['book', 'pen', 'paper', 'notebook']"
      ]
     },
     "execution_count": 18,
     "metadata": {},
     "output_type": "execute_result"
    }
   ],
   "source": [
    "s=\"book,pen,paper,notebook\"\n",
    "s.split( \",\")"
   ]
  },
  {
   "cell_type": "markdown",
   "id": "9d667357-1505-4194-9230-ba2a61b3b535",
   "metadata": {},
   "source": [
    "Given the list `['Python', 'is', 'awesome']`, join the elements into a\n",
    "single string using the `join()` method with `'xoxoxo'` as the\n",
    "separator, and print the resulting string."
   ]
  },
  {
   "cell_type": "code",
   "execution_count": 20,
   "id": "4a4fdead",
   "metadata": {},
   "outputs": [
    {
     "data": {
      "text/plain": [
       "'Pythonxoxoxoisxoxoxoawesome'"
      ]
     },
     "execution_count": 20,
     "metadata": {},
     "output_type": "execute_result"
    }
   ],
   "source": [
    "separator = \"xoxoxo\"\n",
    "separator.join(l)"
   ]
  },
  {
   "cell_type": "markdown",
   "id": "ba3abc74-8aaa-4b09-9d8e-838218e279cd",
   "metadata": {},
   "source": [
    "## Length of a String\n",
    "\n",
    "Given the string `\"Learn Python today!\"`, print its length using the\n",
    "`len()` function."
   ]
  },
  {
   "cell_type": "code",
   "execution_count": null,
   "id": "5afb4b35",
   "metadata": {},
   "outputs": [],
   "source": [
    "leng"
   ]
  }
 ],
 "metadata": {
  "kernelspec": {
   "display_name": "Python 3 (ipykernel)",
   "language": "python",
   "name": "python3"
  },
  "language_info": {
   "codemirror_mode": {
    "name": "ipython",
    "version": 3
   },
   "file_extension": ".py",
   "mimetype": "text/x-python",
   "name": "python",
   "nbconvert_exporter": "python",
   "pygments_lexer": "ipython3",
   "version": "3.9.2"
  }
 },
 "nbformat": 4,
 "nbformat_minor": 5
}

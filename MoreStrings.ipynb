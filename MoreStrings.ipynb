{
  "cells": [
    {
      "cell_type": "markdown",
      "metadata": {},
      "source": [
        "# More Strings\n",
        "\n",
        "## Defining Strings\n",
        "\n",
        "**Problem**: Define a string variable called `aString` by using the\n",
        "string `Hello Cruel World` by using single quotes for the string. Print\n",
        "it."
      ],
      "id": "f636749b-b878-4a5d-a4f1-7aa41dfef351"
    },
    {
      "cell_type": "code",
      "execution_count": null,
      "metadata": {},
      "outputs": [],
      "source": [
        "CODE"
      ],
      "id": "a97ef214"
    },
    {
      "cell_type": "markdown",
      "metadata": {},
      "source": [
        "**Problem**: Define a string variable called `aString` by using the\n",
        "string `Goodbye Cruel World` by using double quotes for the string.\n",
        "Print it."
      ],
      "id": "028a1947-6cae-42fd-ba1e-238a6c48ad6e"
    },
    {
      "cell_type": "code",
      "execution_count": null,
      "metadata": {},
      "outputs": [],
      "source": [
        "CODE"
      ],
      "id": "f81f278a"
    },
    {
      "cell_type": "markdown",
      "metadata": {},
      "source": [
        "**Problem**: Define a multiline string variable called `aString` using\n",
        "`See you later alligator`\n",
        "\n",
        "using triple quotes and put each word on a separate line like this:\n",
        "\n",
        "    See\n",
        "    you\n",
        "    later\n",
        "    alligator"
      ],
      "id": "d44f2ac2-f2d9-4004-81e8-35ab4bcd62ce"
    },
    {
      "cell_type": "code",
      "execution_count": null,
      "metadata": {},
      "outputs": [],
      "source": [
        "CODE"
      ],
      "id": "eab9b0b0"
    },
    {
      "cell_type": "markdown",
      "metadata": {},
      "source": [
        "## Accessing Parts of a String (Indexing)\n",
        "\n",
        "**Problem**: Define a string variable called `aString` to be\n",
        "`\"Hello there\"`. and print the first character using index notation."
      ],
      "id": "a80c7dae-9162-4e3e-b1b7-0066880d6b12"
    },
    {
      "cell_type": "code",
      "execution_count": null,
      "metadata": {},
      "outputs": [],
      "source": [
        "aString = \"Hello there\"\n",
        "CODE"
      ],
      "id": "b8c234ef"
    },
    {
      "cell_type": "markdown",
      "metadata": {},
      "source": [
        "**Problem**: Define a string variable called `aString` to be\n",
        "`\"Ma322 is the most fun, it is just unbelievable!\"`, and print the last\n",
        "three characters."
      ],
      "id": "a1c6a838-314d-4138-8f69-d3d9a4da74ef"
    },
    {
      "cell_type": "code",
      "execution_count": null,
      "metadata": {},
      "outputs": [],
      "source": [
        "aString = \"Ma322 is the most fun, it is just unbelievable!\"\n",
        "CODE"
      ],
      "id": "6fa9cf99"
    },
    {
      "cell_type": "markdown",
      "metadata": {},
      "source": [
        "## Concatenating Strings\n",
        "\n",
        "**Problem**: Concatenate two strings, `\"Welcome \"` and `\"to Ma322!\"`,\n",
        "and print the result."
      ],
      "id": "857641f9-f09d-4476-b6bc-f40c7546b4b5"
    },
    {
      "cell_type": "code",
      "execution_count": null,
      "metadata": {},
      "outputs": [],
      "source": [
        "CODE"
      ],
      "id": "802d23a9"
    },
    {
      "cell_type": "markdown",
      "metadata": {},
      "source": [
        "## Replicating Strings\n",
        "\n",
        "**Problem**: Create a string that repeats `\"Coding is Fun!\"` three times\n",
        "and print it."
      ],
      "id": "c74af02a-d45b-46e1-8efd-aa2b0623aaae"
    },
    {
      "cell_type": "code",
      "execution_count": null,
      "metadata": {},
      "outputs": [],
      "source": [
        "aString = \"Coding is Fun!\"\n",
        "CODE"
      ],
      "id": "ca19af21"
    },
    {
      "cell_type": "markdown",
      "metadata": {},
      "source": [
        "## String Methods\n",
        "\n",
        "**Problem**: Given the string\n",
        "`\"The quick brown fox jumps over the lazy dog.\"`, replace `\"lazy dog\"`\n",
        "with `\"energetic puppy\"` using the `replace()` method and print the new\n",
        "string."
      ],
      "id": "6db5c985-a067-4794-ad7f-7ca96192e31f"
    },
    {
      "cell_type": "code",
      "execution_count": null,
      "metadata": {},
      "outputs": [],
      "source": [
        "original_string = \"The quick brown fox jumps over the lazy dog.\"\n",
        "new_string = original_string.replace(CODE, CODE)\n",
        "CODE"
      ],
      "id": "8876248b"
    },
    {
      "cell_type": "markdown",
      "metadata": {},
      "source": [
        "**Problem**: Given the string `\"book,pen,paper,notebook\"`, split it into\n",
        "a list of substrings using the `split()` method and print the list."
      ],
      "id": "f00c291e-353d-4b3e-8bd4-71b89c30bcda"
    },
    {
      "cell_type": "code",
      "execution_count": null,
      "metadata": {},
      "outputs": [],
      "source": [
        "original_string = \"book-pen-paper-notebook\"\n",
        "item_list = original_string.split(CODE)\n",
        "CODE"
      ],
      "id": "9a673f0b"
    },
    {
      "cell_type": "markdown",
      "metadata": {},
      "source": [
        "**Problem**: Given the list `['Python', 'is', 'awesome']`, join the\n",
        "elements into a single string using the `join()` method with `'xoxoxo'`\n",
        "as the separator, and print the resulting string."
      ],
      "id": "c4978b49-9a8b-4ba6-b889-d6d0fd5ecedc"
    },
    {
      "cell_type": "code",
      "execution_count": null,
      "metadata": {},
      "outputs": [],
      "source": [
        "word_list = ['Python', 'is', 'awesome']\n",
        "CODE"
      ],
      "id": "faada632"
    },
    {
      "cell_type": "markdown",
      "metadata": {},
      "source": [
        "## Length of a String\n",
        "\n",
        "**Problem**: Given the string `\"Learn Python today!\"`, print its length\n",
        "using the `len()` function."
      ],
      "id": "7e6b4b28-0cd8-4174-b3f3-09259e8d424d"
    },
    {
      "cell_type": "code",
      "execution_count": null,
      "metadata": {},
      "outputs": [],
      "source": [
        "my_string = \"Learn Python today!\"\n",
        "CODE"
      ],
      "id": "cf314f62"
    }
  ],
  "nbformat": 4,
  "nbformat_minor": 5,
  "metadata": {
    "kernelspec": {
      "name": "python3",
      "display_name": "Python 3 (ipykernel)",
      "language": "python"
    }
  }
}
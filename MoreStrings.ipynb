{
  "cells": [
    {
      "cell_type": "markdown",
      "metadata": {},
      "source": [
        "# More Strings In Python\n",
        "\n",
        "## Defining Strings\n",
        "\n",
        "Define a string variable called `aString` by using the string\n",
        "`Hello Cruel World` by using single quotes for the string. Print it."
      ],
      "id": "0c2a2600-fa4b-4158-87c9-cc505154d3f3"
    },
    {
      "cell_type": "code",
      "execution_count": null,
      "metadata": {},
      "outputs": [],
      "source": [
        "CODE"
      ],
      "id": "f9e98c77"
    },
    {
      "cell_type": "markdown",
      "metadata": {},
      "source": [
        "Define a string variable called `aString` by using the string\n",
        "`Goodbye Cruel World` by using double quotes for the string. Print it."
      ],
      "id": "d372b77b-e8e8-4bec-acfb-a55c5f597508"
    },
    {
      "cell_type": "code",
      "execution_count": null,
      "metadata": {},
      "outputs": [],
      "source": [
        "CODE"
      ],
      "id": "66bf8409"
    },
    {
      "cell_type": "markdown",
      "metadata": {},
      "source": [
        "Define a multiline string variable called `aString` using\n",
        "`See you later alligator`\n",
        "\n",
        "using triple quotes and put each word on a separate line like this:\n",
        "\n",
        "    See\n",
        "    you\n",
        "    later\n",
        "    alligator"
      ],
      "id": "f97c2f3f-693f-49a1-add2-e257c79da252"
    },
    {
      "cell_type": "code",
      "execution_count": null,
      "metadata": {},
      "outputs": [],
      "source": [
        "CODE"
      ],
      "id": "0e456223"
    },
    {
      "cell_type": "markdown",
      "metadata": {},
      "source": [
        "## Accessing Parts of a String (Indexing)\n",
        "\n",
        "Define a string variable called `aString` to be `\"Python\"`. and print\n",
        "the first character using index notation."
      ],
      "id": "38cd1234-2894-427a-a0fc-d1ec9a9c8625"
    },
    {
      "cell_type": "code",
      "execution_count": null,
      "metadata": {},
      "outputs": [],
      "source": [
        " CODE"
      ],
      "id": "c1d8b6f4"
    },
    {
      "cell_type": "markdown",
      "metadata": {},
      "source": [
        "Define a string variable called `aString` to be `\"Programming\"`, and\n",
        "print the last three characters."
      ],
      "id": "edc692da-dc01-4297-be7a-aedaae00264f"
    },
    {
      "cell_type": "code",
      "execution_count": null,
      "metadata": {},
      "outputs": [],
      "source": [
        " CODE"
      ],
      "id": "2c8e5b13"
    },
    {
      "cell_type": "markdown",
      "metadata": {},
      "source": [
        "## Concatenating Strings\n",
        "\n",
        "Concatenate two strings, `\"Welcome \"` and `\"to Ma322!\"`, and print the\n",
        "result."
      ],
      "id": "c9a40d84-581f-4e0d-975f-1cdec71edfdb"
    },
    {
      "cell_type": "code",
      "execution_count": null,
      "metadata": {},
      "outputs": [],
      "source": [
        "CODE"
      ],
      "id": "cf1fcd89"
    },
    {
      "cell_type": "markdown",
      "metadata": {},
      "source": [
        "## Replicating Strings\n",
        "\n",
        "Create a string that repeats `\"Coding \"` three times and print it."
      ],
      "id": "da93ad04-34fa-412a-acaf-acde9876e1eb"
    },
    {
      "cell_type": "code",
      "execution_count": null,
      "metadata": {},
      "outputs": [],
      "source": [
        "CODE"
      ],
      "id": "5610ac7e"
    },
    {
      "cell_type": "markdown",
      "metadata": {},
      "source": [
        "## String Methods\n",
        "\n",
        "Given the string `\"The quick brown fox jumps over the lazy dog.\"`,\n",
        "replace `\"lazy dog\"` with `\"energetic puppy\"` using the `replace()`\n",
        "method and print the new string."
      ],
      "id": "866782e9-a53c-4dc5-85aa-13f95c15924f"
    },
    {
      "cell_type": "code",
      "execution_count": null,
      "metadata": {},
      "outputs": [],
      "source": [
        "CODE"
      ],
      "id": "2d681791"
    },
    {
      "cell_type": "markdown",
      "metadata": {},
      "source": [
        "Given the string `\"book,pen,paper,notebook\"`, split it into a list of\n",
        "substrings using the `split()` method and print the list."
      ],
      "id": "0cfbb1be-d28a-437f-ba0d-25e21fbdc231"
    },
    {
      "cell_type": "code",
      "execution_count": null,
      "metadata": {},
      "outputs": [],
      "source": [
        "CODE"
      ],
      "id": "92d635bd"
    },
    {
      "cell_type": "markdown",
      "metadata": {},
      "source": [
        "Given the list `['Python', 'is', 'awesome']`, join the elements into a\n",
        "single string using the `join()` method with `'xoxoxo'` as the\n",
        "separator, and print the resulting string."
      ],
      "id": "472b84e2-a3ae-4ee6-85db-b4b6b06fe341"
    },
    {
      "cell_type": "code",
      "execution_count": null,
      "metadata": {},
      "outputs": [],
      "source": [
        "CODE"
      ],
      "id": "2b19061e"
    },
    {
      "cell_type": "markdown",
      "metadata": {},
      "source": [
        "## Length of a String\n",
        "\n",
        "Given the string `\"Learn Python today!\"`, print its length using the\n",
        "`len()` function."
      ],
      "id": "4b5b9339-76d1-46b7-9ebf-7fdd511de08c"
    },
    {
      "cell_type": "code",
      "execution_count": null,
      "metadata": {},
      "outputs": [],
      "source": [
        "CODE"
      ],
      "id": "3357eac9"
    }
  ],
  "nbformat": 4,
  "nbformat_minor": 5,
  "metadata": {
    "kernelspec": {
      "name": "python3",
      "display_name": "Python 3 (ipykernel)",
      "language": "python"
    }
  }
}
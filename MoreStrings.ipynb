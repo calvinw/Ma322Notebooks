{
  "cells": [
    {
      "cell_type": "markdown",
      "metadata": {},
      "source": [
        "# More Strings\n",
        "\n",
        "## Defining Strings\n",
        "\n",
        "**Problem**: Define a string variable called `aString` by using the\n",
        "string `Hello Cruel World` by using single quotes for the string. Print\n",
        "it."
      ],
      "id": "2e8c3ad6-8f61-4e72-9e35-0f3b117eb4da"
    },
    {
      "cell_type": "code",
      "execution_count": null,
      "metadata": {},
      "outputs": [],
      "source": [
        "CODE"
      ],
      "id": "7f491df6"
    },
    {
      "cell_type": "markdown",
      "metadata": {},
      "source": [
        "**Problem**: Define a string variable called `aString` by using the\n",
        "string `Goodbye Cruel World` by using double quotes for the string.\n",
        "Print it."
      ],
      "id": "19847ccd-fdef-4676-af8e-d6c5911b08ce"
    },
    {
      "cell_type": "code",
      "execution_count": null,
      "metadata": {},
      "outputs": [],
      "source": [
        "CODE"
      ],
      "id": "096df3fd"
    },
    {
      "cell_type": "markdown",
      "metadata": {},
      "source": [
        "**Problem**: Define a multiline string variable called `aString` using\n",
        "`See you later alligator`\n",
        "\n",
        "using triple quotes and put each word on a separate line like this:\n",
        "\n",
        "    See\n",
        "    you\n",
        "    later\n",
        "    alligator"
      ],
      "id": "ded692ca-589c-47db-b0aa-0d03e647b95e"
    },
    {
      "cell_type": "code",
      "execution_count": null,
      "metadata": {},
      "outputs": [],
      "source": [
        "CODE"
      ],
      "id": "b5041f31"
    },
    {
      "cell_type": "markdown",
      "metadata": {},
      "source": [
        "## Accessing Parts of a String (Indexing)\n",
        "\n",
        "**Problem**: Define a string variable called `aString` to be\n",
        "`\"Hello there\"`. and print the first character using index notation."
      ],
      "id": "1ea152de-0adc-4e4a-b8a2-6d77a59c8fba"
    },
    {
      "cell_type": "code",
      "execution_count": null,
      "metadata": {},
      "outputs": [],
      "source": [
        "aString = \"Hello there\"\n",
        "CODE"
      ],
      "id": "4aa7e926"
    },
    {
      "cell_type": "markdown",
      "metadata": {},
      "source": [
        "**Problem**: Define a string variable called `aString` to be\n",
        "`\"Ma322 is the most fun, it is just unbelievable!\"`, and print the last\n",
        "three characters."
      ],
      "id": "f6657156-fae8-427b-9244-266003974d96"
    },
    {
      "cell_type": "code",
      "execution_count": null,
      "metadata": {},
      "outputs": [],
      "source": [
        "aString = \"Ma322 is the most fun, it is just unbelievable!\"\n",
        "CODE"
      ],
      "id": "d9be35ba"
    },
    {
      "cell_type": "markdown",
      "metadata": {},
      "source": [
        "## Concatenating Strings\n",
        "\n",
        "**Problem**: Concatenate two strings, `\"Welcome \"` and `\"to Ma322!\"`,\n",
        "and print the result."
      ],
      "id": "4df5dc80-2328-4d19-98fe-3e8a8b7b338b"
    },
    {
      "cell_type": "code",
      "execution_count": null,
      "metadata": {},
      "outputs": [],
      "source": [
        "CODE"
      ],
      "id": "d5d69e54"
    },
    {
      "cell_type": "markdown",
      "metadata": {},
      "source": [
        "## Replicating Strings\n",
        "\n",
        "**Problem**: Create a string that repeats `\"Coding is Fun!\"` three times\n",
        "and print it."
      ],
      "id": "dfe6fd08-a542-4a40-98a3-8abefa34595e"
    },
    {
      "cell_type": "code",
      "execution_count": null,
      "metadata": {},
      "outputs": [],
      "source": [
        "aString = \"Coding is Fun!\"\n",
        "CODE"
      ],
      "id": "b4943ca9"
    },
    {
      "cell_type": "markdown",
      "metadata": {},
      "source": [
        "## String Methods\n",
        "\n",
        "**Problem**: Given the string\n",
        "`\"The quick brown fox jumps over the lazy dog.\"`, replace `\"lazy dog\"`\n",
        "with `\"energetic puppy\"` using the `replace()` method and print the new\n",
        "string."
      ],
      "id": "8e7af3e3-5bf1-4314-bf15-ede055dbcb0e"
    },
    {
      "cell_type": "code",
      "execution_count": null,
      "metadata": {},
      "outputs": [],
      "source": [
        "original_string = \"The quick brown fox jumps over the lazy dog.\"\n",
        "new_string = original_string.replace(CODE, CODE)\n",
        "CODE"
      ],
      "id": "53f0a1a8"
    },
    {
      "cell_type": "markdown",
      "metadata": {},
      "source": [
        "**Problem**: Given the string `\"book,pen,paper,notebook\"`, split it into\n",
        "a list of substrings using the `split()` method and print the list."
      ],
      "id": "8fe9b6f6-a399-429a-8bd1-9412dd5f322b"
    },
    {
      "cell_type": "code",
      "execution_count": null,
      "metadata": {},
      "outputs": [],
      "source": [
        "original_string = \"book-pen-paper-notebook\"\n",
        "item_list = original_string.split(CODE)\n",
        "CODE"
      ],
      "id": "cd743518"
    },
    {
      "cell_type": "markdown",
      "metadata": {},
      "source": [
        "**Problem**: Given the list `['Python', 'is', 'awesome']`, join the\n",
        "elements into a single string using the `join()` method with `'xoxoxo'`\n",
        "as the separator, and print the resulting string."
      ],
      "id": "8b556350-c536-46b6-8626-ff0b6e216353"
    },
    {
      "cell_type": "code",
      "execution_count": null,
      "metadata": {},
      "outputs": [],
      "source": [
        "word_list = ['Python', 'is', 'awesome']\n",
        "CODE"
      ],
      "id": "0816eafe"
    },
    {
      "cell_type": "markdown",
      "metadata": {},
      "source": [
        "## Length of a String\n",
        "\n",
        "**Problem**: Given the string `\"Learn Python today!\"`, print its length\n",
        "using the `len()` function."
      ],
      "id": "8fba5f46-65e5-4679-89eb-9c852e224dda"
    },
    {
      "cell_type": "code",
      "execution_count": null,
      "metadata": {},
      "outputs": [],
      "source": [
        "my_string = \"Learn Python today!\"\n",
        "CODE"
      ],
      "id": "8024605d"
    }
  ],
  "nbformat": 4,
  "nbformat_minor": 5,
  "metadata": {
    "kernelspec": {
      "name": "python3",
      "display_name": "Python 3 (ipykernel)",
      "language": "python"
    }
  }
}
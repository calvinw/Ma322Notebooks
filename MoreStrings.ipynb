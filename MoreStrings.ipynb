{
  "cells": [
    {
      "cell_type": "markdown",
      "metadata": {},
      "source": [
        "# More Strings In Python\n",
        "\n",
        "## Defining Strings\n",
        "\n",
        "Define a string variable called `aString` by using the string\n",
        "`Hello Cruel World` by using single quotes for the string. Print it."
      ],
      "id": "a4f9b419-507c-4f19-8a96-ed1abf927d53"
    },
    {
      "cell_type": "code",
      "execution_count": null,
      "metadata": {},
      "outputs": [],
      "source": [
        "CODE"
      ],
      "id": "5bb20e21"
    },
    {
      "cell_type": "markdown",
      "metadata": {},
      "source": [
        "Define a string variable called `aString` by using the string\n",
        "`Goodbye Cruel World` by using double quotes for the string. Print it."
      ],
      "id": "6e89d7e6-d2e7-4c09-abb6-cad06862bd83"
    },
    {
      "cell_type": "code",
      "execution_count": null,
      "metadata": {},
      "outputs": [],
      "source": [
        "CODE"
      ],
      "id": "89642994"
    },
    {
      "cell_type": "markdown",
      "metadata": {},
      "source": [
        "Define a multiline string variable called `aString` using\n",
        "`See you later alligator`\n",
        "\n",
        "using triple quotes and put each word on a separate line like this:\n",
        "\n",
        "    See\n",
        "    you\n",
        "    later\n",
        "    alligator"
      ],
      "id": "ba2840b4-343e-423a-a651-0b3e336dfe33"
    },
    {
      "cell_type": "code",
      "execution_count": null,
      "metadata": {},
      "outputs": [],
      "source": [
        "CODE"
      ],
      "id": "32ef1d81"
    },
    {
      "cell_type": "markdown",
      "metadata": {},
      "source": [
        "## Accessing Parts of a String (Indexing)\n",
        "\n",
        "Define a string variable called `aString` to be `\"Python\"`. and print\n",
        "the first character using index notation."
      ],
      "id": "9bbce3d9-f96b-4677-957e-c6b16bdcbf20"
    },
    {
      "cell_type": "code",
      "execution_count": null,
      "metadata": {},
      "outputs": [],
      "source": [
        " CODE"
      ],
      "id": "d380b529"
    },
    {
      "cell_type": "markdown",
      "metadata": {},
      "source": [
        "Define a string variable called `aString` to be `\"Programming\"`, and\n",
        "print the last three characters."
      ],
      "id": "7900bdd7-7587-4e50-a8bb-0d33089dec14"
    },
    {
      "cell_type": "code",
      "execution_count": null,
      "metadata": {},
      "outputs": [],
      "source": [
        " CODE"
      ],
      "id": "3464b8c7"
    },
    {
      "cell_type": "markdown",
      "metadata": {},
      "source": [
        "## Concatenating Strings\n",
        "\n",
        "Concatenate two strings, `\"Welcome \"` and `\"to Ma322!\"`, and print the\n",
        "result."
      ],
      "id": "03bde39d-2704-43e7-8744-514ecdc0dbd1"
    },
    {
      "cell_type": "code",
      "execution_count": null,
      "metadata": {},
      "outputs": [],
      "source": [
        "CODE"
      ],
      "id": "d7692bd9"
    },
    {
      "cell_type": "markdown",
      "metadata": {},
      "source": [
        "## Replicating Strings\n",
        "\n",
        "Create a string that repeats `\"Coding \"` three times and print it."
      ],
      "id": "7c3e7eb1-1ff0-4ec4-8b5f-c1e44ea6193a"
    },
    {
      "cell_type": "code",
      "execution_count": null,
      "metadata": {},
      "outputs": [],
      "source": [
        "CODE"
      ],
      "id": "3ada6bc5"
    },
    {
      "cell_type": "markdown",
      "metadata": {},
      "source": [
        "## String Methods\n",
        "\n",
        "Given the string `\"The quick brown fox jumps over the lazy dog.\"`,\n",
        "replace `\"lazy dog\"` with `\"energetic puppy\"` using the `replace()`\n",
        "method and print the new string."
      ],
      "id": "af4049ba-0a7a-4170-b6c0-31bf5bee5e60"
    },
    {
      "cell_type": "code",
      "execution_count": null,
      "metadata": {},
      "outputs": [],
      "source": [
        "CODE"
      ],
      "id": "44ff2a7c"
    },
    {
      "cell_type": "markdown",
      "metadata": {},
      "source": [
        "Given the string `\"book,pen,paper,notebook\"`, split it into a list of\n",
        "substrings using the `split()` method and print the list."
      ],
      "id": "d290e902-df3a-40e5-951e-37d3d71969b9"
    },
    {
      "cell_type": "code",
      "execution_count": null,
      "metadata": {},
      "outputs": [],
      "source": [
        "CODE"
      ],
      "id": "49d68c60"
    },
    {
      "cell_type": "markdown",
      "metadata": {},
      "source": [
        "Given the list `['Python', 'is', 'awesome']`, join the elements into a\n",
        "single string using the `join()` method with `'xoxoxo'` as the\n",
        "separator, and print the resulting string."
      ],
      "id": "c4f75f80-dce6-4f86-9832-d98de02741cf"
    },
    {
      "cell_type": "code",
      "execution_count": null,
      "metadata": {},
      "outputs": [],
      "source": [
        "CODE"
      ],
      "id": "6a990a79"
    },
    {
      "cell_type": "markdown",
      "metadata": {},
      "source": [
        "## Length of a String\n",
        "\n",
        "Given the string `\"Learn Python today!\"`, print its length using the\n",
        "`len()` function."
      ],
      "id": "45b4985f-f2dc-41fd-b7a2-6d32dee0a3a4"
    },
    {
      "cell_type": "code",
      "execution_count": null,
      "metadata": {},
      "outputs": [],
      "source": [
        "CODE"
      ],
      "id": "0a03278d"
    }
  ],
  "nbformat": 4,
  "nbformat_minor": 5,
  "metadata": {
    "kernelspec": {
      "name": "python3",
      "display_name": "Python 3 (ipykernel)",
      "language": "python"
    }
  }
}
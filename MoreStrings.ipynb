{
  "cells": [
    {
      "cell_type": "markdown",
      "metadata": {},
      "source": [
        "# More Strings In Python\n",
        "\n",
        "## Defining Strings\n",
        "\n",
        "Define a string variable called `aString` by using the string\n",
        "`Hello Cruel World` by using single quotes for the string. Print it."
      ],
      "id": "0532f310-409d-4628-aa23-253763abc42a"
    },
    {
      "cell_type": "code",
      "execution_count": null,
      "metadata": {},
      "outputs": [],
      "source": [
        "CODE"
      ],
      "id": "5cdd652b"
    },
    {
      "cell_type": "markdown",
      "metadata": {},
      "source": [
        "Define a string variable called `aString` by using the string\n",
        "`Goodbye Cruel World` by using double quotes for the string. Print it."
      ],
      "id": "e9bbe7be-f98b-4512-9b5f-89a31f406772"
    },
    {
      "cell_type": "code",
      "execution_count": null,
      "metadata": {},
      "outputs": [],
      "source": [
        "CODE"
      ],
      "id": "bc7683d2"
    },
    {
      "cell_type": "markdown",
      "metadata": {},
      "source": [
        "Define a multiline string variable called `aString` using\n",
        "`See you later alligator`\n",
        "\n",
        "using triple quotes and put each word on a separate line like this:\n",
        "\n",
        "    See\n",
        "    you\n",
        "    later\n",
        "    alligator"
      ],
      "id": "c839a8f6-7223-4408-abad-009c5d64dcb6"
    },
    {
      "cell_type": "code",
      "execution_count": null,
      "metadata": {},
      "outputs": [],
      "source": [
        "CODE"
      ],
      "id": "386a3842"
    },
    {
      "cell_type": "markdown",
      "metadata": {},
      "source": [
        "## Accessing Parts of a String (Indexing)\n",
        "\n",
        "Define a string variable called `aString` to be `\"Python\"`. and print\n",
        "the first character using index notation."
      ],
      "id": "c21e710b-f8eb-4039-8c53-ed964abaeaaa"
    },
    {
      "cell_type": "code",
      "execution_count": null,
      "metadata": {},
      "outputs": [],
      "source": [
        " CODE"
      ],
      "id": "b18810bc"
    },
    {
      "cell_type": "markdown",
      "metadata": {},
      "source": [
        "Define a string variable called `aString` to be `\"Programming\"`, and\n",
        "print the last three characters."
      ],
      "id": "176a4346-0199-4a1c-890f-fb6d4c83b1f5"
    },
    {
      "cell_type": "code",
      "execution_count": null,
      "metadata": {},
      "outputs": [],
      "source": [
        " CODE"
      ],
      "id": "92981b42"
    },
    {
      "cell_type": "markdown",
      "metadata": {},
      "source": [
        "## Concatenating Strings\n",
        "\n",
        "Concatenate two strings, `\"Welcome \"` and `\"to Ma322!\"`, and print the\n",
        "result."
      ],
      "id": "f098c36a-3e26-42ae-af6c-ef1ef03c800f"
    },
    {
      "cell_type": "code",
      "execution_count": null,
      "metadata": {},
      "outputs": [],
      "source": [
        "CODE"
      ],
      "id": "a70f0f0a"
    },
    {
      "cell_type": "markdown",
      "metadata": {},
      "source": [
        "## Replicating Strings\n",
        "\n",
        "Create a string that repeats `\"Coding \"` three times and print it."
      ],
      "id": "bf49f43c-0016-4236-a4dc-b42e7ff1919f"
    },
    {
      "cell_type": "code",
      "execution_count": null,
      "metadata": {},
      "outputs": [],
      "source": [
        "CODE"
      ],
      "id": "a1c3dd96"
    },
    {
      "cell_type": "markdown",
      "metadata": {},
      "source": [
        "## String Methods\n",
        "\n",
        "Given the string `\"The quick brown fox jumps over the lazy dog.\"`,\n",
        "replace `\"lazy dog\"` with `\"energetic puppy\"` using the `replace()`\n",
        "method and print the new string."
      ],
      "id": "dc321b8b-21cb-4943-8d79-a908d37cee8e"
    },
    {
      "cell_type": "code",
      "execution_count": null,
      "metadata": {},
      "outputs": [],
      "source": [
        "CODE"
      ],
      "id": "d812e308"
    },
    {
      "cell_type": "markdown",
      "metadata": {},
      "source": [
        "Given the string `\"book,pen,paper,notebook\"`, split it into a list of\n",
        "substrings using the `split()` method and print the list."
      ],
      "id": "eafd2f8a-31b0-4f3b-8d9a-8596c88f0ec9"
    },
    {
      "cell_type": "code",
      "execution_count": null,
      "metadata": {},
      "outputs": [],
      "source": [
        "CODE"
      ],
      "id": "c083662a"
    },
    {
      "cell_type": "markdown",
      "metadata": {},
      "source": [
        "Given the list `['Python', 'is', 'awesome']`, join the elements into a\n",
        "single string using the `join()` method with `'xoxoxo'` as the\n",
        "separator, and print the resulting string."
      ],
      "id": "8a64ff50-b81f-4a09-b9ce-1d59cf1dcfd9"
    },
    {
      "cell_type": "code",
      "execution_count": null,
      "metadata": {},
      "outputs": [],
      "source": [
        "CODE"
      ],
      "id": "67721866"
    },
    {
      "cell_type": "markdown",
      "metadata": {},
      "source": [
        "## Length of a String\n",
        "\n",
        "Given the string `\"Learn Python today!\"`, print its length using the\n",
        "`len()` function."
      ],
      "id": "8d8d09af-0376-46ae-9bba-bc414b386183"
    },
    {
      "cell_type": "code",
      "execution_count": null,
      "metadata": {},
      "outputs": [],
      "source": [
        "CODE"
      ],
      "id": "75997ecb"
    }
  ],
  "nbformat": 4,
  "nbformat_minor": 5,
  "metadata": {
    "kernelspec": {
      "name": "python3",
      "display_name": "Python 3 (ipykernel)",
      "language": "python"
    }
  }
}
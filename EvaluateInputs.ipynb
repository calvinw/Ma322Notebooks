{
  "cells": [
    {
      "cell_type": "markdown",
      "metadata": {},
      "source": [
        "# Evaluating Inputs: Classification with LLMs\n",
        "\n",
        "## Set up your `TOGETHER_API_KEY`"
      ],
      "id": "041a201b-aa21-4191-a3b6-e03fc18778c0"
    },
    {
      "cell_type": "code",
      "execution_count": null,
      "metadata": {},
      "outputs": [],
      "source": [
        "import os\n",
        "\n",
        "if os.environ.get(\"TOGETHER_API_KEY\") is None:\n",
        "   os.environ[\"TOGETHER_API_KEY\"] = \"paste_your_api_key_here\""
      ],
      "id": "166ecdd2"
    },
    {
      "cell_type": "markdown",
      "metadata": {},
      "source": [
        "## Install Packages to Call the LLM\n",
        "\n",
        "For this part we set up the LLM."
      ],
      "id": "b9b510f0-0928-4b90-9b2a-ad78b3f9bae5"
    },
    {
      "cell_type": "code",
      "execution_count": null,
      "metadata": {},
      "outputs": [],
      "source": [
        "!pip3 install openai"
      ],
      "id": "de889c73"
    },
    {
      "cell_type": "code",
      "execution_count": null,
      "metadata": {},
      "outputs": [],
      "source": [
        "import os\n",
        "import openai\n",
        "import textwrap\n",
        "\n",
        "def wrap_text(text, max_width=80):\n",
        "    \"\"\"\n",
        "    Wraps the text to the specified max_width, preserving line breaks and formatting.\n",
        "    \"\"\"\n",
        "    lines = text.splitlines()  # Split the text into lines\n",
        "    wrapped_lines = []\n",
        "    for line in lines:\n",
        "        if line.strip():  # Skip empty lines\n",
        "            wrapped_line = textwrap.fill(line, max_width, initial_indent='', subsequent_indent='')\n",
        "            wrapped_lines.extend(wrapped_line.splitlines())  # Preserve line breaks\n",
        "        else:\n",
        "            wrapped_lines.append('')  # Keep empty lines\n",
        "    return '\\n'.join(wrapped_lines)\n",
        "\n",
        "def print_prompt_and_response(prompt, response):\n",
        "    print(\"Prompt: \")\n",
        "    print(prompt)\n",
        "    print(\"\")\n",
        "    print(\"Response: \")\n",
        "    print(response)\n",
        "\n",
        "def get_completion(prompt, temperature=0.0):\n",
        "    client = openai.OpenAI(api_key=os.environ.get(\"TOGETHER_API_KEY\"),\n",
        "                           base_url=\"https://api.together.xyz/v1\")\n",
        "    chat_completion = client.chat.completions.create(\n",
        "                           #model=\"NousResearch/Nous-Hermes-2-Mixtral-8x7B-SFT\",\n",
        "                           model=\"mistralai/Mistral-7B-Instruct-v0.1\",\n",
        "                           #model=\"zero-one-ai/Yi-34B-Chat\",\n",
        "                           #model=\"openchat/openchat-3.5-1210\",\n",
        "                           messages=[{\"role\": \"user\", \"content\": prompt}],\n",
        "                           temperature=temperature,\n",
        "                           max_tokens=1024)\n",
        "    response = chat_completion.choices[0].message.content\n",
        "    response = response.lstrip()\n",
        "    wrapped_response = wrap_text(response)\n",
        "    return wrapped_response"
      ],
      "id": "697119dd"
    },
    {
      "cell_type": "markdown",
      "metadata": {},
      "source": [
        "## Evaluating Inputs\n",
        "\n",
        "### Template\n",
        "\n",
        "Here’s our template:"
      ],
      "id": "68207076-8d8b-439c-93b4-cab70d2d0cff"
    },
    {
      "cell_type": "code",
      "execution_count": null,
      "metadata": {},
      "outputs": [],
      "source": [
        "template =\"\"\"\n",
        "You will be provided with customer service queries. The customer service query\n",
        "will be delimited with <query> tags.\n",
        "\n",
        "Classify each query into a primary category and a secondary category.\n",
        "\n",
        "Provide your output as a list with primary and secondary category.\n",
        "\n",
        "Primary categories: Billing, Technical Support, Account Management, or General\n",
        "Inquiry.\n",
        "\n",
        "The secondary category must come from the lists below.\n",
        "\n",
        "Billing secondary categories:\n",
        "- Unsubscribe or upgrade\n",
        "- Add a payment method\n",
        "- Explanation for charge\n",
        "- Dispute a charge\n",
        "\n",
        "Technical Support secondary categories:\n",
        "- General troubleshooting\n",
        "- Device compatibility\n",
        "- Software updates\n",
        "\n",
        "Account Management secondary categories:\n",
        "- Password reset\n",
        "- Update personal information\n",
        "- Close account\n",
        "- Account security\n",
        "\n",
        "General Inquiry secondary categories:\n",
        "- Product information\n",
        "- Pricing\n",
        "- Feedback\n",
        "- Speak to a human\n",
        "\n",
        "<query>\n",
        "{query}\n",
        "</query>\"\"\""
      ],
      "id": "89c7442d"
    },
    {
      "cell_type": "code",
      "execution_count": null,
      "metadata": {},
      "outputs": [],
      "source": [
        "def get_query_response(template, query):\n",
        "  prompt=template.format(query=query)\n",
        "  response = get_completion(prompt)\n",
        "  print(\"Customer Query:\")\n",
        "  print(query)\n",
        "  print(\"Response:\")\n",
        "  print(response)"
      ],
      "id": "eb189ce0"
    },
    {
      "cell_type": "markdown",
      "metadata": {},
      "source": [
        "### I want you to delete my profile and all of my user data\n",
        "\n",
        "Set up the query string:"
      ],
      "id": "10f0cab0-44a3-45dc-8884-665cb0fdb2ac"
    },
    {
      "cell_type": "code",
      "execution_count": null,
      "metadata": {},
      "outputs": [],
      "source": [
        "first_query = \"\"\"\n",
        "I want you to delete my profile and all of my user data\n",
        "\"\"\""
      ],
      "id": "23624a8e"
    },
    {
      "cell_type": "markdown",
      "metadata": {},
      "source": [
        "We pass in `template` and `first_query` to `get_query_response`:"
      ],
      "id": "b4a6695f-e661-455b-8db9-13a877da5038"
    },
    {
      "cell_type": "code",
      "execution_count": null,
      "metadata": {},
      "outputs": [],
      "source": [
        "get_query_response(template, first_query)"
      ],
      "id": "170e3839"
    },
    {
      "cell_type": "markdown",
      "metadata": {},
      "source": [
        "### Tell me more about your flat screen tvs\n",
        "\n",
        "Set up the query string:"
      ],
      "id": "7bf23668-25cd-4eea-af1f-70344bef1cc5"
    },
    {
      "cell_type": "code",
      "execution_count": null,
      "metadata": {},
      "outputs": [],
      "source": [
        "second_query = \"\"\"\n",
        "Tell me more about your flat screen tvs\n",
        "\"\"\""
      ],
      "id": "9fd7ed9c"
    },
    {
      "cell_type": "markdown",
      "metadata": {},
      "source": [
        "We pass in `template` and `first_query` to `get_query_response`:"
      ],
      "id": "aa61fc58-9133-448c-9b6c-9a0f263bbd6a"
    },
    {
      "cell_type": "code",
      "execution_count": null,
      "metadata": {},
      "outputs": [],
      "source": [
        "get_query_response(template, second_query)"
      ],
      "id": "5a943123"
    },
    {
      "cell_type": "markdown",
      "metadata": {},
      "source": [
        "### I can’t log into my account. Can you reset my password?\n",
        "\n",
        "Set up the query string:"
      ],
      "id": "4b448f40-c797-4082-8678-6c83992e2567"
    },
    {
      "cell_type": "code",
      "execution_count": null,
      "metadata": {},
      "outputs": [],
      "source": [
        "third_query = \"\"\"\n",
        "I can't log into my account. Can you reset my password?\n",
        "\"\"\""
      ],
      "id": "433a1f86"
    },
    {
      "cell_type": "markdown",
      "metadata": {},
      "source": [
        "We pass in `template` and `third_query` to `get_query_response`:"
      ],
      "id": "0e688a68-693c-4c36-bca2-d4d72b12be62"
    },
    {
      "cell_type": "code",
      "execution_count": null,
      "metadata": {},
      "outputs": [],
      "source": [
        "get_query_response(template, third_query)"
      ],
      "id": "82cd51aa"
    },
    {
      "cell_type": "markdown",
      "metadata": {},
      "source": [
        "### I’m having trouble connecting my smart TV to the internet. Can you help me troubleshoot this issue?\n",
        "\n",
        "Set up the query string:"
      ],
      "id": "027b258f-165c-4fe8-a8e3-632657b487e5"
    },
    {
      "cell_type": "code",
      "execution_count": null,
      "metadata": {},
      "outputs": [],
      "source": [
        "fourth_query = \"\"\"\n",
        "I'm having trouble connecting my smart TV to the internet. Can you help me troubleshoot this issue?\n",
        "\"\"\""
      ],
      "id": "c065b431"
    },
    {
      "cell_type": "markdown",
      "metadata": {},
      "source": [
        "We pass in `template` and `fourth_query` to `get_query_response`:"
      ],
      "id": "524ffe0b-1bed-46b1-ae73-bd8bbfdf94a4"
    },
    {
      "cell_type": "code",
      "execution_count": null,
      "metadata": {},
      "outputs": [],
      "source": [
        "get_query_response(template, fourth_query)"
      ],
      "id": "36b5d3a1"
    },
    {
      "cell_type": "markdown",
      "metadata": {},
      "source": [
        "### I’d like to cancel my subscription and get a refund for the remaining months.\n",
        "\n",
        "Set up the query string:"
      ],
      "id": "3fdb85e3-6cc8-4979-8f8d-527202397588"
    },
    {
      "cell_type": "code",
      "execution_count": null,
      "metadata": {},
      "outputs": [],
      "source": [
        "fifth_query = \"\"\"\n",
        "I'd like to cancel my subscription and get a refund for the remaining months.\n",
        "\"\"\""
      ],
      "id": "e360fd0c"
    },
    {
      "cell_type": "markdown",
      "metadata": {},
      "source": [
        "We pass in `template` and `fifth_query` to `get_query_response`:"
      ],
      "id": "abfbfad8-f0c9-434f-81ec-11c8a73647b7"
    },
    {
      "cell_type": "code",
      "execution_count": null,
      "metadata": {},
      "outputs": [],
      "source": [
        "get_query_response(template, fifth_query)"
      ],
      "id": "480cfe48"
    },
    {
      "cell_type": "markdown",
      "metadata": {},
      "source": [
        "### How do I update my email address and password on my account?\n",
        "\n",
        "Set up the query string:"
      ],
      "id": "f810ca6c-b0a2-4cf8-9048-625a40071b97"
    },
    {
      "cell_type": "code",
      "execution_count": null,
      "metadata": {},
      "outputs": [],
      "source": [
        "sixth_query = \"\"\"\n",
        "How do I update my email address and password on my account?\n",
        "\"\"\""
      ],
      "id": "62f6e499"
    },
    {
      "cell_type": "markdown",
      "metadata": {},
      "source": [
        "We pass in `template` and `sixth_query` to `get_query_response`:"
      ],
      "id": "6d0db57d-514f-427c-b993-9c2570658a4d"
    },
    {
      "cell_type": "code",
      "execution_count": null,
      "metadata": {},
      "outputs": [],
      "source": [
        "get_query_response(template, sixth_query)"
      ],
      "id": "97da163a"
    },
    {
      "cell_type": "markdown",
      "metadata": {},
      "source": [
        "### What are the key features of your premium streaming package compared to the basic plan?\n",
        "\n",
        "Set up the query string:"
      ],
      "id": "d3a5db46-c8d7-420f-85c9-7c30fc374bcc"
    },
    {
      "cell_type": "code",
      "execution_count": null,
      "metadata": {},
      "outputs": [],
      "source": [
        "seventh_query = \"\"\"\n",
        "What are the key features of your premium streaming package compared to the basic plan?\n",
        "\"\"\""
      ],
      "id": "0993b6b0"
    },
    {
      "cell_type": "markdown",
      "metadata": {},
      "source": [
        "We pass in `template` and `seventh_query` to `get_query_response`:"
      ],
      "id": "9114e376-0d1f-43bc-90ae-41c29705371e"
    },
    {
      "cell_type": "code",
      "execution_count": null,
      "metadata": {},
      "outputs": [],
      "source": [
        "get_query_response(template, seventh_query)"
      ],
      "id": "a46ad9fb"
    },
    {
      "cell_type": "markdown",
      "metadata": {},
      "source": [
        "### I have some feedback about improving the user interface of your mobile app.\n",
        "\n",
        "Set up the query string:"
      ],
      "id": "46cee789-cb8a-41ac-9ca8-0b624924d6f5"
    },
    {
      "cell_type": "code",
      "execution_count": null,
      "metadata": {},
      "outputs": [],
      "source": [
        "eighth_query = \"\"\"\n",
        "I have some feedback about improving the user interface of your mobile app.\n",
        "\"\"\""
      ],
      "id": "87ba3ded"
    },
    {
      "cell_type": "markdown",
      "metadata": {},
      "source": [
        "We pass in `template` and `eighth_query` to `get_query_response`:"
      ],
      "id": "11502622-535c-497a-b3b4-48c9b527d779"
    },
    {
      "cell_type": "code",
      "execution_count": null,
      "metadata": {},
      "outputs": [],
      "source": [
        "get_query_response(template, eighth_query)"
      ],
      "id": "68719953"
    }
  ],
  "nbformat": 4,
  "nbformat_minor": 5,
  "metadata": {
    "kernelspec": {
      "name": "python3",
      "display_name": "Python 3 (ipykernel)",
      "language": "python"
    }
  }
}
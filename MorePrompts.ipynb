{
  "cells": [
    {
      "cell_type": "markdown",
      "metadata": {},
      "source": [
        "# More Prompts\n",
        "\n",
        "In this section we will create a template string to ask the LLM the\n",
        "capital of a place. Then we will ask it for some facts about the\n",
        "capital. Finally we will provide some formatting guidelines in our\n",
        "prompt.\n",
        "\n",
        "## Template For Asking For the Capital of a `{place}`\n",
        "\n",
        "-   Define a string called `template` that asks for the capital of a\n",
        "    place. Use the template variable `{place}`"
      ],
      "id": "c40bd8ac-143d-4575-8f90-9baa6a86b836"
    },
    {
      "cell_type": "code",
      "execution_count": null,
      "metadata": {},
      "outputs": [],
      "source": [
        "CODE"
      ],
      "id": "4d2cddaa"
    },
    {
      "cell_type": "markdown",
      "metadata": {},
      "source": [
        "-   Evaluate it using `template.format` and passing `place=\"Texas\"` to\n",
        "    it"
      ],
      "id": "8d95d824-cff3-4e57-8efd-e177401bd61e"
    },
    {
      "cell_type": "code",
      "execution_count": null,
      "metadata": {},
      "outputs": [],
      "source": [
        "prompt=template.format(CODE)\n",
        "print(prompt)"
      ],
      "id": "a61fb974"
    },
    {
      "cell_type": "markdown",
      "metadata": {},
      "source": [
        "-   Evaluate the template using `place=\"France\"`"
      ],
      "id": "c8c1f3f3-8754-4855-bea7-b310184edd39"
    },
    {
      "cell_type": "code",
      "execution_count": null,
      "metadata": {},
      "outputs": [],
      "source": [
        "prompt=template.format(CODE)\n",
        "print(prompt)"
      ],
      "id": "65b06a3b"
    },
    {
      "cell_type": "markdown",
      "metadata": {},
      "source": [
        "## Add a Template Variable Called `{num}`\n",
        "\n",
        "-   Add the template variable called `{num}` to your template string.\n",
        "    Use it to ask for `{num}` facts about the capital of `{place}`. Your\n",
        "    template string `template` will contain both `{place}` and `{num}`\n",
        "    somewhere in it now."
      ],
      "id": "2bde4eeb-1f95-4a56-9bdf-cba0f4e2feda"
    },
    {
      "cell_type": "code",
      "execution_count": null,
      "metadata": {},
      "outputs": [],
      "source": [
        "CODE"
      ],
      "id": "566e2ca0"
    },
    {
      "cell_type": "markdown",
      "metadata": {},
      "source": [
        "-   Evaluate the template when `place=\"Texas\"` and `num=3`"
      ],
      "id": "79184466-1bd7-4aa5-b331-0b39ae830132"
    },
    {
      "cell_type": "code",
      "execution_count": null,
      "metadata": {},
      "outputs": [],
      "source": [
        "prompt=template.format(CODE)\n",
        "print(prompt)"
      ],
      "id": "9564a634"
    },
    {
      "cell_type": "markdown",
      "metadata": {},
      "source": [
        "## Add a Template Variable Called `{format}`\n",
        "\n",
        "Add a template variable so you can pass in the desired format for the\n",
        "facts you asked for.\n",
        "\n",
        "-   Add a template variable `{format}` to the template above"
      ],
      "id": "55866004-4d58-4911-9662-1d6f0880c66b"
    },
    {
      "cell_type": "code",
      "execution_count": null,
      "metadata": {},
      "outputs": [],
      "source": [
        "CODE"
      ],
      "id": "7fb54e16"
    },
    {
      "cell_type": "markdown",
      "metadata": {},
      "source": [
        "-   Evaluate the template using `place=\"Texas\"` and `num=3` and\n",
        "    `format=\"upper case\"`"
      ],
      "id": "0d1fc4d1-1938-4040-907a-66eb39c00121"
    },
    {
      "cell_type": "code",
      "execution_count": null,
      "metadata": {},
      "outputs": [],
      "source": [
        "prompt=template.format(CODE)\n",
        "print(prompt)"
      ],
      "id": "d9c55d0a"
    }
  ],
  "nbformat": 4,
  "nbformat_minor": 5,
  "metadata": {
    "kernelspec": {
      "name": "python3",
      "display_name": "Python 3 (ipykernel)",
      "language": "python"
    }
  }
}
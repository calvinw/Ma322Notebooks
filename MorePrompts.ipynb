{
 "cells": [
  {
   "cell_type": "markdown",
   "id": "8bdf2804-d143-40c8-9de8-555671cb1b17",
   "metadata": {},
   "source": [
    "# More Prompts\n",
    "\n",
    "In this section we will create a template string to ask the LLM the\n",
    "capital of a place. Then we will ask it for some facts about the\n",
    "capital. Finally we will provide some formatting guidelines in our\n",
    "prompt.\n",
    "\n",
    "## Template For Asking For the Capital of a `{place}`\n",
    "\n",
    "-   Define a string called `template` that asks for the capital of a\n",
    "    place. Use the template variable `{place}`"
   ]
  },
  {
   "cell_type": "code",
   "execution_count": 1,
   "id": "dcf7e69a",
   "metadata": {},
   "outputs": [],
   "source": [
    "template=\"What is the capitial of {place}?\""
   ]
  },
  {
   "cell_type": "markdown",
   "id": "c6023a84-0b01-4b8f-b232-b85b6a78fb24",
   "metadata": {},
   "source": [
    "-   Evaluate it using `template.format` and passing `place=\"Texas\"` to\n",
    "    it"
   ]
  },
  {
   "cell_type": "code",
   "execution_count": 2,
   "id": "beea1bba",
   "metadata": {},
   "outputs": [
    {
     "name": "stdout",
     "output_type": "stream",
     "text": [
      "What is the capitial of Texas?\n"
     ]
    }
   ],
   "source": [
    "prompt=template.format(place=\"Texas\")\n",
    "print(prompt)"
   ]
  },
  {
   "cell_type": "markdown",
   "id": "81118bb3-df78-43b8-9ce0-a3f072265766",
   "metadata": {},
   "source": [
    "-   Evaluate the template using `place=\"France\"`"
   ]
  },
  {
   "cell_type": "code",
   "execution_count": 3,
   "id": "785cbda4",
   "metadata": {},
   "outputs": [
    {
     "name": "stdout",
     "output_type": "stream",
     "text": [
      "What is the capitial of France?\n"
     ]
    }
   ],
   "source": [
    "prompt=template.format(place=\"France\")\n",
    "print(prompt)"
   ]
  },
  {
   "cell_type": "markdown",
   "id": "7953405e-cd8e-4e11-b420-b65379e32e92",
   "metadata": {},
   "source": [
    "## Add a Template Variable Called `{num}`\n",
    "\n",
    "-   Add the template variable called `{num}` to your template string.\n",
    "    Use it to ask for `{num}` facts about the capital of `{place}`. Your\n",
    "    template string `template` will contain both `{place}` and `{num}`\n",
    "    somewhere in it now."
   ]
  },
  {
   "cell_type": "code",
   "execution_count": 4,
   "id": "ee2a34f1",
   "metadata": {},
   "outputs": [],
   "source": [
    "template=\"What is the capitial of {place}? Give {num} facts about place.\""
   ]
  },
  {
   "cell_type": "markdown",
   "id": "08336cdc-ce3b-429f-8a90-b3c0844f841f",
   "metadata": {},
   "source": [
    "-   Evaluate the template when `place=\"Texas\"` and `num=3`"
   ]
  },
  {
   "cell_type": "code",
   "execution_count": 5,
   "id": "5add1c9d",
   "metadata": {},
   "outputs": [
    {
     "name": "stdout",
     "output_type": "stream",
     "text": [
      "What is the capitial of Texas? Give 3 facts about place.\n"
     ]
    }
   ],
   "source": [
    "prompt=template.format(place=\"Texas\", num=3)\n",
    "print(prompt)"
   ]
  },
  {
   "cell_type": "markdown",
   "id": "62644fe8-e663-419d-b816-e98379dead33",
   "metadata": {},
   "source": [
    "## Add a Template Variable Called `{format}`\n",
    "\n",
    "Add a template variable so you can pass in the desired format for the\n",
    "facts you asked for.\n",
    "\n",
    "-   Add a template variable `{format}` to the template above"
   ]
  },
  {
   "cell_type": "code",
   "execution_count": 9,
   "id": "420f3c34",
   "metadata": {},
   "outputs": [],
   "source": [
    "template=\"What is the capitial of {place}? Give {num} facts about place. Give the facts in the form of {format}\""
   ]
  },
  {
   "cell_type": "markdown",
   "id": "ef03528b-882b-4279-8d36-0ffedf5b8ecf",
   "metadata": {},
   "source": [
    "-   Evaluate the template using `place=\"Texas\"` and `num=3` and\n",
    "    `format=\"upper case\"`"
   ]
  },
  {
   "cell_type": "code",
   "execution_count": 10,
   "id": "f9037ba3",
   "metadata": {},
   "outputs": [
    {
     "name": "stdout",
     "output_type": "stream",
     "text": [
      "What is the capitial of Texas? Give 3 facts about place. Give the facts in the form of upper case\n"
     ]
    }
   ],
   "source": [
    "prompt=template.format(place=\"Texas\", num=3, format=\"upper case\")\n",
    "print(prompt)"
   ]
  }
 ],
 "metadata": {
  "kernelspec": {
   "display_name": "Python 3 (ipykernel)",
   "language": "python",
   "name": "python3"
  },
  "language_info": {
   "codemirror_mode": {
    "name": "ipython",
    "version": 3
   },
   "file_extension": ".py",
   "mimetype": "text/x-python",
   "name": "python",
   "nbconvert_exporter": "python",
   "pygments_lexer": "ipython3",
   "version": "3.9.2"
  }
 },
 "nbformat": 4,
 "nbformat_minor": 5
}

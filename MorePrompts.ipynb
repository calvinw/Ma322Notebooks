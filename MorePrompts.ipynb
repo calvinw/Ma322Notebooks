{
  "cells": [
    {
      "cell_type": "markdown",
      "metadata": {},
      "source": [
        "# More Prompts\n",
        "\n",
        "In this section we will create a template string to ask the LLM the\n",
        "capital of a place. Then we will ask it for some facts about the\n",
        "capital. Finally we will provide some formatting guidelines about the\n",
        "response.\n",
        "\n",
        "## Template For Asking For a Capital\n",
        "\n",
        "Create a template string with a template variable `place` for asking the\n",
        "LLM to give you the capital of `place`. Then evaluate the template\n",
        "variable using `\"Texas\"` and `\"France\"`. Print out the two prompts that\n",
        "you get by doing that.\n",
        "\n",
        "Fill in the appropriate sections of the code below where you see the\n",
        "word CODE.\n",
        "\n",
        "-   Define a template that asks for the capital of {place}\n",
        "-   Evaluate the template using `place=\"Texas\"`"
      ],
      "id": "d81e2c14-4ac2-4970-aa0a-66fce5460da5"
    },
    {
      "cell_type": "code",
      "execution_count": null,
      "metadata": {},
      "outputs": [],
      "source": [
        "# Define template here\n",
        "CODE\n",
        "\n",
        "# Evaluate the template with place=\"Texas\"\n",
        "prompt=template.format(CODE)\n",
        "print(prompt)"
      ],
      "id": "844ec862"
    },
    {
      "cell_type": "markdown",
      "metadata": {},
      "source": [
        "-   Evaluate the template using `place=\"France\"`"
      ],
      "id": "d7c2ee21-f335-4537-9989-ea22bb96267f"
    },
    {
      "cell_type": "code",
      "execution_count": null,
      "metadata": {},
      "outputs": [],
      "source": [
        "# Evaluate the template with place=\"France\"\n",
        "prompt=template.format(CODE)\n",
        "print(prompt)"
      ],
      "id": "ca325957"
    },
    {
      "cell_type": "markdown",
      "metadata": {},
      "source": [
        "## Adding a Variable Called `num`\n",
        "\n",
        "-   Add another template variable called `num` and ask the LLM to\n",
        "    provide you with `num` facts about the capital that you specified\n",
        "    with `place`.\n",
        "-   Evaluate the tempate using `place=\"Texas\"` and `num=3`"
      ],
      "id": "c8b65663-a8b0-41ba-93e8-7c4a19e936db"
    },
    {
      "cell_type": "code",
      "execution_count": null,
      "metadata": {},
      "outputs": [],
      "source": [
        "# Define template here\n",
        "CODE\n",
        "\n",
        "# Evaluate the template for \"Texas\" and 3 facts\n",
        "prompt=template.format(CODE)\n",
        "print(prompt)"
      ],
      "id": "51963756"
    },
    {
      "cell_type": "markdown",
      "metadata": {},
      "source": [
        "## Ask To Format the Response\n",
        "\n",
        "Add a template variable called `format` so you can pass in the desired\n",
        "format for the facts that are given.\n",
        "\n",
        "-   Add a template variable called `format` and ask the model to format\n",
        "    it according to that\n",
        "-   Evaluate the template using `place=\"Texas`, `num=3` and\n",
        "    `format=\"upper case\"`"
      ],
      "id": "e828e2ae-c465-427e-ae88-39ba30af5a2c"
    },
    {
      "cell_type": "code",
      "execution_count": null,
      "metadata": {},
      "outputs": [],
      "source": [
        "# Define template here\n",
        "CODE\n",
        "\n",
        "# Evaluate the template for \"Texas\" and 3 facts, and \"upper case\"\n",
        "prompt=template.format(CODE)\n",
        "print(prompt)"
      ],
      "id": "ead031a1"
    },
    {
      "cell_type": "markdown",
      "metadata": {},
      "source": [
        "## Asking About Several Capitals\n",
        "\n",
        "Let’s see how this looks if we ask for the capital of several places.\n",
        "\n",
        "-   Create a list called `myPlaces` with the following places on it:\n",
        "    California, Missouri, Florida. Use strings for the items on the\n",
        "    list.\n",
        "-   Create 3 prompts asking for the capital using a for loop"
      ],
      "id": "94c0e0fd-85d5-4721-9486-65f4e5f3bd2d"
    },
    {
      "cell_type": "code",
      "execution_count": null,
      "metadata": {},
      "outputs": [],
      "source": [
        "# Define template here\n",
        "template = \"Can you tell me the capital of {place}?\"\n",
        "\n",
        "# Create the list of places.\n",
        "myPlaces = CODE\n",
        "\n",
        "# Loop through the myPlaces and print each prompt template.\n",
        "for place in myPlaces:\n",
        "  prompt = template.format(CODE)\n",
        "  print(prompt)\n",
        "  print(\"----\")"
      ],
      "id": "394dff10"
    }
  ],
  "nbformat": 4,
  "nbformat_minor": 5,
  "metadata": {
    "kernelspec": {
      "name": "python3",
      "display_name": "Python 3 (ipykernel)",
      "language": "python"
    }
  }
}
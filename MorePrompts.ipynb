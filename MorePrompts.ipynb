{
  "cells": [
    {
      "cell_type": "markdown",
      "metadata": {},
      "source": [
        "# More Prompts\n",
        "\n",
        "In this section we will create a template string to ask the LLM the\n",
        "capital of a place. Then we will ask it for some facts about the\n",
        "capital. Finally we will provide some formatting guidelines in our\n",
        "prompt.\n",
        "\n",
        "## Template For Asking For the Capital of a `{place}`\n",
        "\n",
        "-   Define a string called `template` that asks for the capital of a\n",
        "    place. Use the template variable `{place}`"
      ],
      "id": "6e5e819b-053f-4923-a1f0-16be969ef85f"
    },
    {
      "cell_type": "code",
      "execution_count": null,
      "metadata": {},
      "outputs": [],
      "source": [
        "CODE"
      ],
      "id": "c9ef191c"
    },
    {
      "cell_type": "markdown",
      "metadata": {},
      "source": [
        "-   Evaluate it using `template.format` and passing `place=\"Texas\"` to\n",
        "    it"
      ],
      "id": "7b52c6e8-fb40-48c2-96ab-6ae3b40468b7"
    },
    {
      "cell_type": "code",
      "execution_count": null,
      "metadata": {},
      "outputs": [],
      "source": [
        "prompt=template.format(CODE)\n",
        "print(prompt)"
      ],
      "id": "78a42f63"
    },
    {
      "cell_type": "markdown",
      "metadata": {},
      "source": [
        "-   Evaluate the template using `place=\"France\"`"
      ],
      "id": "c2d4aa6f-def3-474a-bdc7-49f2c7727b39"
    },
    {
      "cell_type": "code",
      "execution_count": null,
      "metadata": {},
      "outputs": [],
      "source": [
        "prompt=template.format(CODE)\n",
        "print(prompt)"
      ],
      "id": "40eb8d1e"
    },
    {
      "cell_type": "markdown",
      "metadata": {},
      "source": [
        "## Add a Template Variable Called `{num}`\n",
        "\n",
        "-   Add the template variable called `{num}` to your template string.\n",
        "    Use it to ask for `{num}` facts about the capital of `{place}`. Your\n",
        "    template string `template` will contain both `{place}` and `{num}`\n",
        "    somewhere in it now."
      ],
      "id": "2a087720-bc41-4190-a455-392f106cc2fa"
    },
    {
      "cell_type": "code",
      "execution_count": null,
      "metadata": {},
      "outputs": [],
      "source": [
        "CODE"
      ],
      "id": "34c64666"
    },
    {
      "cell_type": "markdown",
      "metadata": {},
      "source": [
        "-   Evaluate the template when `place=\"Texas\"` and `num=3`"
      ],
      "id": "5c20b1c2-e24b-4d87-9ebb-445e235ff3b2"
    },
    {
      "cell_type": "code",
      "execution_count": null,
      "metadata": {},
      "outputs": [],
      "source": [
        "prompt=template.format(CODE)\n",
        "print(prompt)"
      ],
      "id": "8d421d1e"
    },
    {
      "cell_type": "markdown",
      "metadata": {},
      "source": [
        "## Add a Template Variable Called `{format}`\n",
        "\n",
        "Add a template variable so you can pass in the desired format for the\n",
        "facts you asked for.\n",
        "\n",
        "-   Add a template variable `{format}` to the template above"
      ],
      "id": "358405c1-89fd-40a1-bdf4-54d370f78639"
    },
    {
      "cell_type": "code",
      "execution_count": null,
      "metadata": {},
      "outputs": [],
      "source": [
        "CODE"
      ],
      "id": "ed2facd5"
    },
    {
      "cell_type": "markdown",
      "metadata": {},
      "source": [
        "-   Evaluate the template using `place=\"Texas\"` and `num=3` and\n",
        "    `format=\"upper case\"`"
      ],
      "id": "6b21f510-831f-490b-9a1a-d486910917e6"
    },
    {
      "cell_type": "code",
      "execution_count": null,
      "metadata": {},
      "outputs": [],
      "source": [
        "prompt=template.format(CODE)\n",
        "print(prompt)"
      ],
      "id": "96b7330a"
    }
  ],
  "nbformat": 4,
  "nbformat_minor": 5,
  "metadata": {
    "kernelspec": {
      "name": "python3",
      "display_name": "Python 3 (ipykernel)",
      "language": "python"
    }
  }
}
{
  "cells": [
    {
      "cell_type": "markdown",
      "metadata": {},
      "source": [
        "# More Prompts\n",
        "\n",
        "In this section we will create a template string to ask the LLM the\n",
        "capital of a place. Then we will ask it for some facts about the\n",
        "capital. Finally we will provide some formatting guidelines in our\n",
        "prompt.\n",
        "\n",
        "## Template For Asking For the Capital of a `{place}`\n",
        "\n",
        "**Problem**:\n",
        "\n",
        "Define a string called `template` that asks for the capital of a place.\n",
        "Use the template variable `{place}`"
      ],
      "id": "4437f8c7-1850-4c30-93b6-fd9fab9439a1"
    },
    {
      "cell_type": "code",
      "execution_count": null,
      "metadata": {},
      "outputs": [],
      "source": [
        "template=CODE"
      ],
      "id": "9af22e00"
    },
    {
      "cell_type": "markdown",
      "metadata": {},
      "source": [
        "**Problem**:\n",
        "\n",
        "Evaluate it using `template.format` and passing `place=\"Texas\"` to it"
      ],
      "id": "1a149d6b-04c9-479c-876f-15aaa9a50a51"
    },
    {
      "cell_type": "code",
      "execution_count": null,
      "metadata": {},
      "outputs": [],
      "source": [
        "prompt=template.format(CODE)\n",
        "print(prompt)"
      ],
      "id": "1ba04ffb"
    },
    {
      "cell_type": "markdown",
      "metadata": {},
      "source": [
        "**Problem**:\n",
        "\n",
        "Evaluate the template using `place=\"France\"`"
      ],
      "id": "5609212b-9a31-49b1-a96c-8f0663c8976e"
    },
    {
      "cell_type": "code",
      "execution_count": null,
      "metadata": {},
      "outputs": [],
      "source": [
        "prompt=template.format(CODE)\n",
        "print(prompt)"
      ],
      "id": "2592338e"
    },
    {
      "cell_type": "markdown",
      "metadata": {},
      "source": [
        "## Add a Template Variable Called `{num}`\n",
        "\n",
        "**Problem**:\n",
        "\n",
        "Add the template variable called `{num}` to your template string. Use it\n",
        "to ask for `{num}` facts about the capital of `{place}`. Your template\n",
        "string `template` will contain both `{place}` and `{num}` somewhere in\n",
        "it now."
      ],
      "id": "68719b2b-918f-48dd-8bf2-1ef4caa034b8"
    },
    {
      "cell_type": "code",
      "execution_count": null,
      "metadata": {},
      "outputs": [],
      "source": [
        "CODE"
      ],
      "id": "ff5a69dd"
    },
    {
      "cell_type": "markdown",
      "metadata": {},
      "source": [
        "**Problem**:\n",
        "\n",
        "Evaluate the template when `place=\"Texas\"` and `num=3`"
      ],
      "id": "3b7184a1-250a-411c-bee8-0b64c792580d"
    },
    {
      "cell_type": "code",
      "execution_count": null,
      "metadata": {},
      "outputs": [],
      "source": [
        "prompt=template.format(CODE)\n",
        "print(prompt)"
      ],
      "id": "06a46c21"
    },
    {
      "cell_type": "markdown",
      "metadata": {},
      "source": [
        "## Add a Template Variable Called `{format}`\n",
        "\n",
        "Add a template variable so you can pass in the desired format for the\n",
        "facts you asked for.\n",
        "\n",
        "**Problem**:\n",
        "\n",
        "Add a template variable `{format}` to the template above"
      ],
      "id": "b02690b0-81dd-4c1a-8433-4fb1a8d809be"
    },
    {
      "cell_type": "code",
      "execution_count": null,
      "metadata": {},
      "outputs": [],
      "source": [
        "CODE"
      ],
      "id": "60e29e98"
    },
    {
      "cell_type": "markdown",
      "metadata": {},
      "source": [
        "**Problem**:\n",
        "\n",
        "Evaluate the template using `place=\"Texas\"` and `num=3` and\n",
        "`format=\"upper case\"`"
      ],
      "id": "bbe0356d-49c7-4549-a376-4c8ffaa61d81"
    },
    {
      "cell_type": "code",
      "execution_count": null,
      "metadata": {},
      "outputs": [],
      "source": [
        "prompt=template.format(CODE)\n",
        "print(prompt)"
      ],
      "id": "0c1c4c2c"
    }
  ],
  "nbformat": 4,
  "nbformat_minor": 5,
  "metadata": {
    "kernelspec": {
      "name": "python3",
      "display_name": "Python 3 (ipykernel)",
      "language": "python"
    }
  }
}
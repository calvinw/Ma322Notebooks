{
  "cells": [
    {
      "cell_type": "markdown",
      "metadata": {},
      "source": [
        "# More Prompts\n",
        "\n",
        "In this section we will create a template string to ask the LLM the\n",
        "capital of a place. Then we will ask it for some facts about the\n",
        "capital. Finally we will provide some formatting guidelines in our\n",
        "prompt.\n",
        "\n",
        "## Template For Asking For the Capital of a `{place}`\n",
        "\n",
        "**Problem**:\n",
        "\n",
        "Define a string called `template` that asks for the capital of a place.\n",
        "Use the template variable `{place}`"
      ],
      "id": "9ce85c3f-bae1-42c9-affb-140fa4fed6bf"
    },
    {
      "cell_type": "code",
      "execution_count": null,
      "metadata": {},
      "outputs": [],
      "source": [
        "CODE"
      ],
      "id": "9b9a1235"
    },
    {
      "cell_type": "markdown",
      "metadata": {},
      "source": [
        "**Problem**:\n",
        "\n",
        "Evaluate it using `template.format` and passing `place=\"Texas\"` to it"
      ],
      "id": "09178df7-9eb6-4c43-99eb-6fd1f094bc2a"
    },
    {
      "cell_type": "code",
      "execution_count": null,
      "metadata": {},
      "outputs": [],
      "source": [
        "prompt=template.format(CODE)\n",
        "print(prompt)"
      ],
      "id": "c2f34cdc"
    },
    {
      "cell_type": "markdown",
      "metadata": {},
      "source": [
        "**Problem**:\n",
        "\n",
        "Evaluate the template using `place=\"France\"`"
      ],
      "id": "28d3e9eb-707e-4e2c-a6a4-fdbf23754c4b"
    },
    {
      "cell_type": "code",
      "execution_count": null,
      "metadata": {},
      "outputs": [],
      "source": [
        "prompt=template.format(CODE)\n",
        "print(prompt)"
      ],
      "id": "02fa9bd1"
    },
    {
      "cell_type": "markdown",
      "metadata": {},
      "source": [
        "## Add a Template Variable Called `{num}`\n",
        "\n",
        "**Problem**:\n",
        "\n",
        "Add the template variable called `{num}` to your template string. Use it\n",
        "to ask for `{num}` facts about the capital of `{place}`. Your template\n",
        "string `template` will contain both `{place}` and `{num}` somewhere in\n",
        "it now."
      ],
      "id": "47ad6848-5e81-47c6-a5f5-4f004cd37cd2"
    },
    {
      "cell_type": "code",
      "execution_count": null,
      "metadata": {},
      "outputs": [],
      "source": [
        "CODE"
      ],
      "id": "0950b436"
    },
    {
      "cell_type": "markdown",
      "metadata": {},
      "source": [
        "**Problem**:\n",
        "\n",
        "Evaluate the template when `place=\"Texas\"` and `num=3`"
      ],
      "id": "abadd29f-0f26-427f-95b2-c8acb03c1539"
    },
    {
      "cell_type": "code",
      "execution_count": null,
      "metadata": {},
      "outputs": [],
      "source": [
        "prompt=template.format(CODE)\n",
        "print(prompt)"
      ],
      "id": "b7348a0c"
    },
    {
      "cell_type": "markdown",
      "metadata": {},
      "source": [
        "## Add a Template Variable Called `{format}`\n",
        "\n",
        "Add a template variable so you can pass in the desired format for the\n",
        "facts you asked for.\n",
        "\n",
        "**Problem**:\n",
        "\n",
        "Add a template variable `{format}` to the template above"
      ],
      "id": "8181fdc3-410e-4585-8a78-2e8570157dbe"
    },
    {
      "cell_type": "code",
      "execution_count": null,
      "metadata": {},
      "outputs": [],
      "source": [
        "CODE"
      ],
      "id": "806d65c8"
    },
    {
      "cell_type": "markdown",
      "metadata": {},
      "source": [
        "**Problem**:\n",
        "\n",
        "Evaluate the template using `place=\"Texas\"` and `num=3` and\n",
        "`format=\"upper case\"`"
      ],
      "id": "592b8415-1bd2-4338-b11b-58d7a223b7a3"
    },
    {
      "cell_type": "code",
      "execution_count": null,
      "metadata": {},
      "outputs": [],
      "source": [
        "prompt=template.format(CODE)\n",
        "print(prompt)"
      ],
      "id": "36875154"
    }
  ],
  "nbformat": 4,
  "nbformat_minor": 5,
  "metadata": {
    "kernelspec": {
      "name": "python3",
      "display_name": "Python 3 (ipykernel)",
      "language": "python"
    }
  }
}
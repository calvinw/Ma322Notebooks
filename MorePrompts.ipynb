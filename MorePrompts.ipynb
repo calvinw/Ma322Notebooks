{
  "cells": [
    {
      "cell_type": "markdown",
      "metadata": {},
      "source": [
        "# More Prompts\n",
        "\n",
        "In this section we will create a template string to ask the LLM the\n",
        "capital of a place. Then we will ask it for some facts about the\n",
        "capital. Finally we will provide some formatting guidelines in our\n",
        "prompt.\n",
        "\n",
        "## Template For Asking For the Capital of a `{place}`\n",
        "\n",
        "**Problem**:\n",
        "\n",
        "Define a string called `template` that asks for the capital of a place.\n",
        "Use the template variable `{place}`"
      ],
      "id": "a38e020c-77ab-4acf-aede-6210bb311508"
    },
    {
      "cell_type": "code",
      "execution_count": null,
      "metadata": {},
      "outputs": [],
      "source": [
        "CODE"
      ],
      "id": "e3a42595"
    },
    {
      "cell_type": "markdown",
      "metadata": {},
      "source": [
        "**Problem**:\n",
        "\n",
        "Evaluate it using `template.format` and passing `place=\"Texas\"` to it"
      ],
      "id": "f9a0eda6-c92d-4a7d-b4c7-f387647bf202"
    },
    {
      "cell_type": "code",
      "execution_count": null,
      "metadata": {},
      "outputs": [],
      "source": [
        "prompt=template.format(CODE)\n",
        "print(prompt)"
      ],
      "id": "81dddbe5"
    },
    {
      "cell_type": "markdown",
      "metadata": {},
      "source": [
        "**Problem**:\n",
        "\n",
        "Evaluate the template using `place=\"France\"`"
      ],
      "id": "e2d6fd8b-75e3-43b2-aff2-3a54eebeca8b"
    },
    {
      "cell_type": "code",
      "execution_count": null,
      "metadata": {},
      "outputs": [],
      "source": [
        "prompt=template.format(CODE)\n",
        "print(prompt)"
      ],
      "id": "a888cc43"
    },
    {
      "cell_type": "markdown",
      "metadata": {},
      "source": [
        "## Add a Template Variable Called `{num}`\n",
        "\n",
        "**Problem**:\n",
        "\n",
        "Add the template variable called `{num}` to your template string. Use it\n",
        "to ask for `{num}` facts about the capital of `{place}`. Your template\n",
        "string `template` will contain both `{place}` and `{num}` somewhere in\n",
        "it now."
      ],
      "id": "04159e7a-6e6a-43cc-b80b-5f86dac2292a"
    },
    {
      "cell_type": "code",
      "execution_count": null,
      "metadata": {},
      "outputs": [],
      "source": [
        "CODE"
      ],
      "id": "dd4cbb57"
    },
    {
      "cell_type": "markdown",
      "metadata": {},
      "source": [
        "**Problem**:\n",
        "\n",
        "Evaluate the template when `place=\"Texas\"` and `num=3`"
      ],
      "id": "117aa182-8288-4a35-9f95-635d6e5e598d"
    },
    {
      "cell_type": "code",
      "execution_count": null,
      "metadata": {},
      "outputs": [],
      "source": [
        "prompt=template.format(CODE)\n",
        "print(prompt)"
      ],
      "id": "4983f8e3"
    },
    {
      "cell_type": "markdown",
      "metadata": {},
      "source": [
        "## Add a Template Variable Called `{format}`\n",
        "\n",
        "Add a template variable so you can pass in the desired format for the\n",
        "facts you asked for.\n",
        "\n",
        "**Problem**:\n",
        "\n",
        "Add a template variable `{format}` to the template above"
      ],
      "id": "ca4718bc-6d4d-45ff-aa69-7506afa87319"
    },
    {
      "cell_type": "code",
      "execution_count": null,
      "metadata": {},
      "outputs": [],
      "source": [
        "CODE"
      ],
      "id": "7ab73d5c"
    },
    {
      "cell_type": "markdown",
      "metadata": {},
      "source": [
        "**Problem**:\n",
        "\n",
        "Evaluate the template using `place=\"Texas\"` and `num=3` and\n",
        "`format=\"upper case\"`"
      ],
      "id": "2c91626b-102d-4cc6-8c1a-7408d1091709"
    },
    {
      "cell_type": "code",
      "execution_count": null,
      "metadata": {},
      "outputs": [],
      "source": [
        "prompt=template.format(CODE)\n",
        "print(prompt)"
      ],
      "id": "46462d01"
    }
  ],
  "nbformat": 4,
  "nbformat_minor": 5,
  "metadata": {
    "kernelspec": {
      "name": "python3",
      "display_name": "Python 3 (ipykernel)",
      "language": "python"
    }
  }
}
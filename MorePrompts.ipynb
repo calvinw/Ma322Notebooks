{
  "cells": [
    {
      "cell_type": "markdown",
      "metadata": {},
      "source": [
        "# More Prompts\n",
        "\n",
        "In this section we will create a template string to ask the LLM the\n",
        "capital of a place. Then we will ask it for some facts about the\n",
        "capital. Finally we will provide some formatting guidelines in our\n",
        "prompt.\n",
        "\n",
        "## Template For Asking For the Capital of a `{place}`\n",
        "\n",
        "**Problem**:\n",
        "\n",
        "Define a string called `template` that asks for the capital of a place.\n",
        "Use the template variable `{place}`"
      ],
      "id": "3221236d-a75d-49a1-9c6e-c4bc27e0988f"
    },
    {
      "cell_type": "code",
      "execution_count": null,
      "metadata": {},
      "outputs": [],
      "source": [
        "CODE"
      ],
      "id": "e0b546c8"
    },
    {
      "cell_type": "markdown",
      "metadata": {},
      "source": [
        "**Problem**:\n",
        "\n",
        "Evaluate it using `template.format` and passing `place=\"Texas\"` to it"
      ],
      "id": "356f42be-c85a-4d6f-b110-4d3722b9acd7"
    },
    {
      "cell_type": "code",
      "execution_count": null,
      "metadata": {},
      "outputs": [],
      "source": [
        "prompt=template.format(CODE)\n",
        "print(prompt)"
      ],
      "id": "04e69e52"
    },
    {
      "cell_type": "markdown",
      "metadata": {},
      "source": [
        "**Problem**:\n",
        "\n",
        "Evaluate the template using `place=\"France\"`"
      ],
      "id": "16f742c8-ba10-4c0a-8280-35d8f6ab7444"
    },
    {
      "cell_type": "code",
      "execution_count": null,
      "metadata": {},
      "outputs": [],
      "source": [
        "prompt=template.format(CODE)\n",
        "print(prompt)"
      ],
      "id": "bad7ce9d"
    },
    {
      "cell_type": "markdown",
      "metadata": {},
      "source": [
        "## Add a Template Variable Called `{num}`\n",
        "\n",
        "**Problem**:\n",
        "\n",
        "Add the template variable called `{num}` to your template string. Use it\n",
        "to ask for `{num}` facts about the capital of `{place}`. Your template\n",
        "string `template` will contain both `{place}` and `{num}` somewhere in\n",
        "it now."
      ],
      "id": "6c98e504-e4b4-46a8-bd6b-3e84747f60fb"
    },
    {
      "cell_type": "code",
      "execution_count": null,
      "metadata": {},
      "outputs": [],
      "source": [
        "CODE"
      ],
      "id": "b7a4b519"
    },
    {
      "cell_type": "markdown",
      "metadata": {},
      "source": [
        "**Problem**:\n",
        "\n",
        "Evaluate the template when `place=\"Texas\"` and `num=3`"
      ],
      "id": "53907419-562b-4f0a-ad53-f67ca5915a26"
    },
    {
      "cell_type": "code",
      "execution_count": null,
      "metadata": {},
      "outputs": [],
      "source": [
        "prompt=template.format(CODE)\n",
        "print(prompt)"
      ],
      "id": "29490e49"
    },
    {
      "cell_type": "markdown",
      "metadata": {},
      "source": [
        "## Add a Template Variable Called `{format}`\n",
        "\n",
        "Add a template variable so you can pass in the desired format for the\n",
        "facts you asked for.\n",
        "\n",
        "**Problem**:\n",
        "\n",
        "Add a template variable `{format}` to the template above"
      ],
      "id": "02069d31-bf5e-41fc-8e44-548cb70448fb"
    },
    {
      "cell_type": "code",
      "execution_count": null,
      "metadata": {},
      "outputs": [],
      "source": [
        "CODE"
      ],
      "id": "26313d15"
    },
    {
      "cell_type": "markdown",
      "metadata": {},
      "source": [
        "**Problem**:\n",
        "\n",
        "Evaluate the template using `place=\"Texas\"` and `num=3` and\n",
        "`format=\"upper case\"`"
      ],
      "id": "a1de09e2-df4d-45c5-827c-be5fd5ccbc4c"
    },
    {
      "cell_type": "code",
      "execution_count": null,
      "metadata": {},
      "outputs": [],
      "source": [
        "prompt=template.format(CODE)\n",
        "print(prompt)"
      ],
      "id": "0d628ad0"
    }
  ],
  "nbformat": 4,
  "nbformat_minor": 5,
  "metadata": {
    "kernelspec": {
      "name": "python3",
      "display_name": "Python 3 (ipykernel)",
      "language": "python"
    }
  }
}
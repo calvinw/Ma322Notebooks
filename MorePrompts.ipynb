{
  "cells": [
    {
      "cell_type": "markdown",
      "metadata": {},
      "source": [
        "# More Prompts\n",
        "\n",
        "In this section we will create a template string to ask the LLM the\n",
        "capital of a place. Then we will ask it for some facts about the\n",
        "capital. Finally we will provide some formatting guidelines in our\n",
        "prompt.\n",
        "\n",
        "## Template For Asking For the Capital of a `{place}`\n",
        "\n",
        "**Problem**:\n",
        "\n",
        "Define a string called `template` that asks for the capital of a place.\n",
        "Use the template variable `{place}`"
      ],
      "id": "9dee0fb8-503d-4113-b9ce-55cb3695b328"
    },
    {
      "cell_type": "code",
      "execution_count": null,
      "metadata": {},
      "outputs": [],
      "source": [
        "template=CODE"
      ],
      "id": "0ab0a1c8"
    },
    {
      "cell_type": "markdown",
      "metadata": {},
      "source": [
        "**Problem**:\n",
        "\n",
        "Evaluate it using `template.format` and passing `place=\"Texas\"` to it"
      ],
      "id": "26116b7e-873d-4811-9557-c8ad462ad760"
    },
    {
      "cell_type": "code",
      "execution_count": null,
      "metadata": {},
      "outputs": [],
      "source": [
        "prompt=template.format(CODE)\n",
        "print(prompt)"
      ],
      "id": "eb00815d"
    },
    {
      "cell_type": "markdown",
      "metadata": {},
      "source": [
        "**Problem**:\n",
        "\n",
        "Evaluate the template using `place=\"France\"`"
      ],
      "id": "94bcf38e-d814-4f39-9067-97ab9b6c64f3"
    },
    {
      "cell_type": "code",
      "execution_count": null,
      "metadata": {},
      "outputs": [],
      "source": [
        "prompt=template.format(CODE)\n",
        "print(prompt)"
      ],
      "id": "576cae69"
    },
    {
      "cell_type": "markdown",
      "metadata": {},
      "source": [
        "## Add a Template Variable Called `{num}`\n",
        "\n",
        "**Problem**:\n",
        "\n",
        "Add the template variable called `{num}` to your template string. Use it\n",
        "to ask for `{num}` facts about the capital of `{place}`. Your template\n",
        "string `template` will contain both `{place}` and `{num}` somewhere in\n",
        "it now."
      ],
      "id": "1e276f7e-513d-4738-aba0-4961e622ce59"
    },
    {
      "cell_type": "code",
      "execution_count": null,
      "metadata": {},
      "outputs": [],
      "source": [
        "CODE"
      ],
      "id": "43a9f5aa"
    },
    {
      "cell_type": "markdown",
      "metadata": {},
      "source": [
        "**Problem**:\n",
        "\n",
        "Evaluate the template when `place=\"Texas\"` and `num=3`"
      ],
      "id": "bc6aba93-e065-44c7-84d7-95b0bd1f4767"
    },
    {
      "cell_type": "code",
      "execution_count": null,
      "metadata": {},
      "outputs": [],
      "source": [
        "prompt=template.format(CODE)\n",
        "print(prompt)"
      ],
      "id": "3bede565"
    },
    {
      "cell_type": "markdown",
      "metadata": {},
      "source": [
        "## Add a Template Variable Called `{format}`\n",
        "\n",
        "Add a template variable so you can pass in the desired format for the\n",
        "facts you asked for.\n",
        "\n",
        "**Problem**:\n",
        "\n",
        "Add a template variable `{format}` to the template above"
      ],
      "id": "b69fa803-4dd6-4ef6-895c-a54c0caf8985"
    },
    {
      "cell_type": "code",
      "execution_count": null,
      "metadata": {},
      "outputs": [],
      "source": [
        "CODE"
      ],
      "id": "cb41e57f"
    },
    {
      "cell_type": "markdown",
      "metadata": {},
      "source": [
        "**Problem**:\n",
        "\n",
        "Evaluate the template using `place=\"Texas\"` and `num=3` and\n",
        "`format=\"upper case\"`"
      ],
      "id": "90f4d441-0055-4818-bc90-1729d2eefe3c"
    },
    {
      "cell_type": "code",
      "execution_count": null,
      "metadata": {},
      "outputs": [],
      "source": [
        "prompt=template.format(CODE)\n",
        "print(prompt)"
      ],
      "id": "27677f52"
    }
  ],
  "nbformat": 4,
  "nbformat_minor": 5,
  "metadata": {
    "kernelspec": {
      "name": "python3",
      "display_name": "Python 3 (ipykernel)",
      "language": "python"
    }
  }
}
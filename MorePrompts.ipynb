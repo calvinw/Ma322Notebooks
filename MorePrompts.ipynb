{
  "cells": [
    {
      "cell_type": "markdown",
      "metadata": {},
      "source": [
        "# More Prompts\n",
        "\n",
        "In this section we will create a template string to ask the LLM the\n",
        "capital of a place. Then we will ask it for some facts about the\n",
        "capital. Finally we will provide some formatting guidelines in our\n",
        "prompt.\n",
        "\n",
        "## Template For Asking For the Capital of a `{place}`\n",
        "\n",
        "-   Define a string called `template` that asks for the capital of a\n",
        "    place. Use the template variable `{place}`"
      ],
      "id": "37364799-d758-4c1a-870b-ca18f438bcd3"
    },
    {
      "cell_type": "code",
      "execution_count": null,
      "metadata": {},
      "outputs": [],
      "source": [
        "CODE"
      ],
      "id": "4ee9a7d3"
    },
    {
      "cell_type": "markdown",
      "metadata": {},
      "source": [
        "-   Evaluate it using `template.format` and passing `place=\"Texas\"` to\n",
        "    it"
      ],
      "id": "cad3cdf0-ee3e-43d5-9777-4658377e59cf"
    },
    {
      "cell_type": "code",
      "execution_count": null,
      "metadata": {},
      "outputs": [],
      "source": [
        "prompt=template.format(CODE)\n",
        "print(prompt)"
      ],
      "id": "7206df52"
    },
    {
      "cell_type": "markdown",
      "metadata": {},
      "source": [
        "-   Evaluate the template using `place=\"France\"`"
      ],
      "id": "134b0984-7043-4bd5-ad1f-63e97c8282ef"
    },
    {
      "cell_type": "code",
      "execution_count": null,
      "metadata": {},
      "outputs": [],
      "source": [
        "prompt=template.format(CODE)\n",
        "print(prompt)"
      ],
      "id": "9de447b5"
    },
    {
      "cell_type": "markdown",
      "metadata": {},
      "source": [
        "## Add a Template Variable Called `{num}`\n",
        "\n",
        "-   Add the template variable called `{num}` to your template string.\n",
        "    Use it to ask for `{num}` facts about the capital of `{place}`. Your\n",
        "    template string `template` will contain both `{place}` and `{num}`\n",
        "    somewhere in it now."
      ],
      "id": "f3843787-9c01-456e-af42-adf35175c937"
    },
    {
      "cell_type": "code",
      "execution_count": null,
      "metadata": {},
      "outputs": [],
      "source": [
        "CODE"
      ],
      "id": "9c937e5b"
    },
    {
      "cell_type": "markdown",
      "metadata": {},
      "source": [
        "-   Evaluate the template when `place=\"Texas\"` and `num=3`"
      ],
      "id": "c5a50f2c-7bf6-45ac-97b6-87657fd2c81e"
    },
    {
      "cell_type": "code",
      "execution_count": null,
      "metadata": {},
      "outputs": [],
      "source": [
        "prompt=template.format(CODE)\n",
        "print(prompt)"
      ],
      "id": "e143a9a7"
    },
    {
      "cell_type": "markdown",
      "metadata": {},
      "source": [
        "## Add a Template Variable Called `{format}`\n",
        "\n",
        "Add a template variable so you can pass in the desired format for the\n",
        "facts you asked for.\n",
        "\n",
        "-   Add a template variable `{format}` to the template above"
      ],
      "id": "aebc7a1d-845b-46bb-9a30-8d706349af01"
    },
    {
      "cell_type": "code",
      "execution_count": null,
      "metadata": {},
      "outputs": [],
      "source": [
        "CODE"
      ],
      "id": "a6b53c76"
    },
    {
      "cell_type": "markdown",
      "metadata": {},
      "source": [
        "-   Evaluate the template using `place=\"Texas\"` and `num=3` and\n",
        "    `format=\"upper case\"`"
      ],
      "id": "b7d7e678-7ade-411f-8f72-f36dabfb9215"
    },
    {
      "cell_type": "code",
      "execution_count": null,
      "metadata": {},
      "outputs": [],
      "source": [
        "prompt=template.format(CODE)\n",
        "print(prompt)"
      ],
      "id": "1e1627fc"
    }
  ],
  "nbformat": 4,
  "nbformat_minor": 5,
  "metadata": {
    "kernelspec": {
      "name": "python3",
      "display_name": "Python 3 (ipykernel)",
      "language": "python"
    }
  }
}
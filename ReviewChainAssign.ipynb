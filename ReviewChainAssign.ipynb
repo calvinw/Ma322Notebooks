{
  "cells": [
    {
      "cell_type": "markdown",
      "metadata": {},
      "source": [
        "# Review Chain Assignment\n",
        "\n",
        "### Description\n",
        "\n",
        "In this assignment, you will create an LLM Chain to analyze a customer\n",
        "review and generate a response. The process should follow these steps:\n",
        "\n",
        "1.  **Analyze the sentiment of the original review on a scale of 1 to\n",
        "    5**: Begin by asking the LLM to analyze the sentiment of the\n",
        "    provided review on a scale of 1 (very negative) to 5 (very\n",
        "    positive). This will be your first call to the LLM. Create an\n",
        "    appropriate prompt to do this.\n",
        "\n",
        "2.  **Categorize the Review Based On the Main Issue**: Next prompt the\n",
        "    LLM to categorize the main issue or concern raised in the review\n",
        "    into one of the following categories: Product Quality,\n",
        "    Shipping/Delivery, Customer Service, Pricing, or Other. This will be\n",
        "    your second call to the LLM. Create an appropriate prompt for this\n",
        "    part.\n",
        "\n",
        "3.  **Suggest Potential Improvements Based On the Review**: Next prompt\n",
        "    the LLM to suggest at least three potential improvements or changes\n",
        "    that could address the customer’s concerns This will be your third\n",
        "    call to the LLM. Create an appropriate prompt for this part.\n",
        "\n",
        "4.  **Write an individualized email response to the customer**: Next\n",
        "    prompt the LLM to draft a polite and professional email response to\n",
        "    the customer, addressing their concerns and offering a resolution or\n",
        "    next steps. This will be your fourth call to the LLM. Create an\n",
        "    appropriate prompt for this part.\n",
        "\n",
        "The final output of the script should be a report containing the\n",
        "following sections:\n",
        "\n",
        "-   Initial Review\n",
        "-   Sentiment Analysis (1 to 5 scale)\n",
        "-   Categorized Main Issue\n",
        "-   Potential Improvements\n",
        "-   Improvements Individualized Email Response\n",
        "\n",
        "You are free to structure your code and prompts as you see fit, but make\n",
        "sure to follow the outlined steps and include all the required sections\n",
        "in the final report.\n",
        "\n",
        "Use the template code below as your starter for this assignment."
      ],
      "id": "588bc3b9-930c-4a73-9fed-c147c400b0b3"
    }
  ],
  "nbformat": 4,
  "nbformat_minor": 5,
  "metadata": {
    "kernelspec": {
      "display_name": "Python 3",
      "language": "python",
      "name": "python3"
    }
  }
}
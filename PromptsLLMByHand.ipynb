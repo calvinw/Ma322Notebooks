{
  "cells": [
    {
      "cell_type": "markdown",
      "metadata": {},
      "source": [
        "# Prompts LLM By Hand\n",
        "\n",
        "In this section we will just copy and paste some of our prompts over to\n",
        "LLMs like ChatGPT and Claude, just to get an idea of how the LLMs work\n",
        "and to gain some intuition for how they are different.\n",
        "\n",
        "Although we will use an API to call the LLM later, for now this gives a\n",
        "first way to compare the outputs of different LLMs\n",
        "\n",
        "These are mostly the same prompts as before but now we get some\n",
        "responses by copy and pasting to the LLMs."
      ],
      "id": "f3b2e7c1-9d03-4fde-abad-b0f88c9261e6"
    },
    {
      "cell_type": "code",
      "execution_count": null,
      "metadata": {},
      "outputs": [],
      "source": [
        "template = \"Give a name for a company that makes {what}\"\n",
        "\n",
        "prompt=template.format(what=\"Cars\")\n",
        "print(prompt)"
      ],
      "id": "e5106e33"
    },
    {
      "cell_type": "markdown",
      "metadata": {},
      "source": [
        "Evaluate the template when `what=`“Books”\\`"
      ],
      "id": "54de84f1-8f56-4162-9d1f-3139943a441d"
    },
    {
      "cell_type": "code",
      "execution_count": null,
      "metadata": {},
      "outputs": [],
      "source": [
        "prompt=template.format(what=\"Books\")\n",
        "print(prompt)"
      ],
      "id": "ced3ad09"
    },
    {
      "cell_type": "markdown",
      "metadata": {},
      "source": [
        "Add another template variable for `num`\n",
        "\n",
        "Evaluate the template when `num=3` and `what=\"Cars\"`"
      ],
      "id": "16d9e92e-ee4d-494a-8c27-acb1a64ee4cf"
    },
    {
      "cell_type": "code",
      "execution_count": null,
      "metadata": {},
      "outputs": [],
      "source": [
        "template = \"Give {num} possible names for a company that makes {what}\"\n",
        "\n",
        "prompt=template.format(num=3, what=\"Cars\")\n",
        "print(prompt)"
      ],
      "id": "bf6c8667"
    },
    {
      "cell_type": "markdown",
      "metadata": {},
      "source": [
        "Evaluate the template when `num=5` and `what=\"Bikes\"`"
      ],
      "id": "e339f385-0d7a-4c92-90bf-24439a790bbb"
    },
    {
      "cell_type": "code",
      "execution_count": null,
      "metadata": {},
      "outputs": [],
      "source": [
        "prompt=template.format(num=5, what=\"Bikes\")\n",
        "print(prompt)"
      ],
      "id": "e2b69ace"
    },
    {
      "cell_type": "markdown",
      "metadata": {},
      "source": [
        "Add something so we can specify the format."
      ],
      "id": "f6b8b72d-a74e-4f38-bf72-8467a6f0e6e9"
    },
    {
      "cell_type": "code",
      "execution_count": null,
      "metadata": {},
      "outputs": [],
      "source": [
        "template = \"\"\"Give {num} possible names for a company that makes {what}. Give\n",
        "your answer in {format}\"\"\"\n",
        "prompt=template.format(num=3, what=\"Cars\", format=\"uppercase\")\n",
        "print(prompt)"
      ],
      "id": "0e963277"
    },
    {
      "cell_type": "markdown",
      "metadata": {},
      "source": [
        "Create a prompt that asks for a different format."
      ],
      "id": "33f6d369-2411-43f0-b9af-2e8683824666"
    },
    {
      "cell_type": "code",
      "execution_count": null,
      "metadata": {},
      "outputs": [],
      "source": [
        "#Evaluate the template\n",
        "prompt=template.format(num=3, what=\"Cars\", format=\"a markdown table\")\n",
        "print(prompt)"
      ],
      "id": "03d29e38"
    },
    {
      "cell_type": "markdown",
      "metadata": {},
      "source": [
        "We can use multi-line strings for the prompts."
      ],
      "id": "90b80a44-d221-44dc-bb38-368cf617eb0a"
    },
    {
      "cell_type": "code",
      "execution_count": null,
      "metadata": {},
      "outputs": [],
      "source": [
        "template =\"\"\"Give {num} possible names for a company that makes {what}.\n",
        "Give your answer in {format}\"\"\"\n",
        "\n",
        "#Evaluate the template\n",
        "prompt=template.format(num=3, what=\"Cars\", format=\"a bullet list\")\n",
        "print(prompt)"
      ],
      "id": "3e9d5725"
    }
  ],
  "nbformat": 4,
  "nbformat_minor": 5,
  "metadata": {
    "kernelspec": {
      "name": "python3",
      "display_name": "Python 3 (ipykernel)",
      "language": "python"
    }
  }
}
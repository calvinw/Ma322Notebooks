{
  "cells": [
    {
      "cell_type": "markdown",
      "metadata": {},
      "source": [
        "# Prompts LLM By Hand\n",
        "\n",
        "In this section we will just copy and paste some of our prompts over to\n",
        "LLMs like ChatGPT and Claude, just to get an idea of how the LLMs work\n",
        "and to gain some intuition for how they are different.\n",
        "\n",
        "Although we will use an API to call the LLM later, for now this gives a\n",
        "first way to compare the outputs of different LLMs\n",
        "\n",
        "These are mostly the same prompts as before but now we get some\n",
        "responses by copy and pasting to the LLMs."
      ],
      "id": "f2f35e43-64ea-4243-aebc-7c7b2bdbf9dd"
    },
    {
      "cell_type": "code",
      "execution_count": null,
      "metadata": {},
      "outputs": [],
      "source": [
        "template = \"Give a name for a company that makes {what}\"\n",
        "\n",
        "prompt=template.format(what=\"Cars\")\n",
        "print(prompt)"
      ],
      "id": "5942e060"
    },
    {
      "cell_type": "markdown",
      "metadata": {},
      "source": [
        "Evaluate the template when `what=`“Books”\\`"
      ],
      "id": "341218d8-29f6-46e5-9b75-1a129d636b2c"
    },
    {
      "cell_type": "code",
      "execution_count": null,
      "metadata": {},
      "outputs": [],
      "source": [
        "prompt=template.format(what=\"Books\")\n",
        "print(prompt)"
      ],
      "id": "db93707f"
    },
    {
      "cell_type": "markdown",
      "metadata": {},
      "source": [
        "Add another template variable for `num`\n",
        "\n",
        "Evaluate the template when `num=3` and `what=\"Cars\"`"
      ],
      "id": "378d4bac-d5f3-49d6-b2d5-17885c72406f"
    },
    {
      "cell_type": "code",
      "execution_count": null,
      "metadata": {},
      "outputs": [],
      "source": [
        "template = \"Give {num} possible names for a company that makes {what}\"\n",
        "\n",
        "prompt=template.format(num=3, what=\"Cars\")\n",
        "print(prompt)"
      ],
      "id": "eafa610b"
    },
    {
      "cell_type": "markdown",
      "metadata": {},
      "source": [
        "Evaluate the template when `num=5` and `what=\"Bikes\"`"
      ],
      "id": "53321c91-d802-46d0-a468-13452e90eaea"
    },
    {
      "cell_type": "code",
      "execution_count": null,
      "metadata": {},
      "outputs": [],
      "source": [
        "prompt=template.format(num=5, what=\"Bikes\")\n",
        "print(prompt)"
      ],
      "id": "39c2457c"
    },
    {
      "cell_type": "markdown",
      "metadata": {},
      "source": [
        "Add something so we can specify the format."
      ],
      "id": "48d7e0e8-ba5e-454d-9e75-7ceecd95373c"
    },
    {
      "cell_type": "code",
      "execution_count": null,
      "metadata": {},
      "outputs": [],
      "source": [
        "template = \"\"\"Give {num} possible names for a company that makes {what}. Give\n",
        "your answer in {format}\"\"\"\n",
        "prompt=template.format(num=3, what=\"Cars\", format=\"uppercase\")\n",
        "print(prompt)"
      ],
      "id": "88fcaaa3"
    },
    {
      "cell_type": "markdown",
      "metadata": {},
      "source": [
        "Create a prompt that asks for a different format."
      ],
      "id": "cc22f268-4d0c-4d03-bf10-71e48e15b66b"
    },
    {
      "cell_type": "code",
      "execution_count": null,
      "metadata": {},
      "outputs": [],
      "source": [
        "#Evaluate the template\n",
        "prompt=template.format(num=3, what=\"Cars\", format=\"a markdown table\")\n",
        "print(prompt)"
      ],
      "id": "20e489c0"
    },
    {
      "cell_type": "markdown",
      "metadata": {},
      "source": [
        "We can use multi-line strings for the prompts."
      ],
      "id": "12dbacda-7ea4-418c-8897-82668b737e2b"
    },
    {
      "cell_type": "code",
      "execution_count": null,
      "metadata": {},
      "outputs": [],
      "source": [
        "template =\"\"\"Give {num} possible names for a company that makes {what}.\n",
        "Give your answer in {format}\"\"\"\n",
        "\n",
        "#Evaluate the template\n",
        "prompt=template.format(num=3, what=\"Cars\", format=\"a bullet list\")\n",
        "print(prompt)"
      ],
      "id": "8f31b83a"
    }
  ],
  "nbformat": 4,
  "nbformat_minor": 5,
  "metadata": {
    "kernelspec": {
      "name": "python3",
      "display_name": "Python 3 (ipykernel)",
      "language": "python"
    }
  }
}
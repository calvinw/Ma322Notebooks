{
  "cells": [
    {
      "cell_type": "markdown",
      "metadata": {},
      "source": [
        "# Prompts LLM By Hand\n",
        "\n",
        "In this section we will just copy and paste some of our prompts over to\n",
        "LLMs like ChatGPT and Claude, just to get an idea of how the LLMs work\n",
        "and to gain some intuition for how they are different.\n",
        "\n",
        "Although we will use an API to call the LLM later, for now this gives a\n",
        "first way to compare the outputs of different LLMs\n",
        "\n",
        "These are mostly the same prompts as before but now we get some\n",
        "responses by copy and pasting to the LLMs."
      ],
      "id": "04a54b0d-5efc-4a88-a403-ac001bdaec81"
    },
    {
      "cell_type": "code",
      "execution_count": null,
      "metadata": {},
      "outputs": [],
      "source": [
        "template = \"Give a name for a company that makes {what}\"\n",
        "\n",
        "prompt=template.format(what=\"Cars\")\n",
        "print(prompt)"
      ],
      "id": "7da08ed4"
    },
    {
      "cell_type": "markdown",
      "metadata": {},
      "source": [
        "Evaluate the template when `what=`“Books”\\`"
      ],
      "id": "c0d30288-cfe0-4217-9f47-ff79387097ea"
    },
    {
      "cell_type": "code",
      "execution_count": null,
      "metadata": {},
      "outputs": [],
      "source": [
        "prompt=template.format(what=\"Books\")\n",
        "print(prompt)"
      ],
      "id": "04d166bb"
    },
    {
      "cell_type": "markdown",
      "metadata": {},
      "source": [
        "Add another template variable for `num`\n",
        "\n",
        "Evaluate the template when `num=3` and `what=\"Cars\"`"
      ],
      "id": "822be52e-c732-4cc5-b6c0-0b73354ad6d7"
    },
    {
      "cell_type": "code",
      "execution_count": null,
      "metadata": {},
      "outputs": [],
      "source": [
        "template = \"Give {num} possible names for a company that makes {what}\"\n",
        "\n",
        "prompt=template.format(num=3, what=\"Cars\")\n",
        "print(prompt)"
      ],
      "id": "3f23e976"
    },
    {
      "cell_type": "markdown",
      "metadata": {},
      "source": [
        "Evaluate the template when `num=5` and `what=\"Bikes\"`"
      ],
      "id": "46d901ab-8803-4924-ba8b-5208fee27310"
    },
    {
      "cell_type": "code",
      "execution_count": null,
      "metadata": {},
      "outputs": [],
      "source": [
        "prompt=template.format(num=5, what=\"Bikes\")\n",
        "print(prompt)"
      ],
      "id": "497c9111"
    },
    {
      "cell_type": "markdown",
      "metadata": {},
      "source": [
        "Add something so we can specify the format."
      ],
      "id": "7b41f605-8b41-403d-8c18-e643bcff275f"
    },
    {
      "cell_type": "code",
      "execution_count": null,
      "metadata": {},
      "outputs": [],
      "source": [
        "template = \"\"\"Give {num} possible names for a company that makes {what}. Give\n",
        "your answer in {format}\"\"\"\n",
        "prompt=template.format(num=3, what=\"Cars\", format=\"uppercase\")\n",
        "print(prompt)"
      ],
      "id": "1bd45df3"
    },
    {
      "cell_type": "markdown",
      "metadata": {},
      "source": [
        "Create a prompt that asks for a different format."
      ],
      "id": "6e40666f-b0f1-44d8-be27-30853df4749b"
    },
    {
      "cell_type": "code",
      "execution_count": null,
      "metadata": {},
      "outputs": [],
      "source": [
        "#Evaluate the template\n",
        "prompt=template.format(num=3, what=\"Cars\", format=\"a markdown table\")\n",
        "print(prompt)"
      ],
      "id": "e8093e03"
    },
    {
      "cell_type": "markdown",
      "metadata": {},
      "source": [
        "We can use multi-line strings for the prompts."
      ],
      "id": "5b87ad6b-1dc2-44ef-8a40-db2e2acaa99a"
    },
    {
      "cell_type": "code",
      "execution_count": null,
      "metadata": {},
      "outputs": [],
      "source": [
        "template =\"\"\"Give {num} possible names for a company that makes {what}.\n",
        "Give your answer in {format}\"\"\"\n",
        "\n",
        "#Evaluate the template\n",
        "prompt=template.format(num=3, what=\"Cars\", format=\"a bullet list\")\n",
        "print(prompt)"
      ],
      "id": "b2bd0188"
    }
  ],
  "nbformat": 4,
  "nbformat_minor": 5,
  "metadata": {
    "kernelspec": {
      "name": "python3",
      "display_name": "Python 3 (ipykernel)",
      "language": "python"
    }
  }
}
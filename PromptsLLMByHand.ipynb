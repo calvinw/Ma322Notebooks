{
  "cells": [
    {
      "cell_type": "markdown",
      "metadata": {},
      "source": [
        "# Prompts LLM By Hand\n",
        "\n",
        "In this section we will just copy and paste some of our prompts over to\n",
        "LLMs like ChatGPT and Claude, just to get an idea of how the LLMs work\n",
        "and to gain some intuition for how they are different.\n",
        "\n",
        "Although we will use an API to call the LLM later, for now this gives a\n",
        "first way to compare the outputs of different LLMs\n",
        "\n",
        "These are mostly the same prompts as before but now we get some\n",
        "responses by copy and pasting to the LLMs."
      ],
      "id": "138dc2c4-616e-4f56-8bb3-2af0ee9917b0"
    },
    {
      "cell_type": "code",
      "execution_count": null,
      "metadata": {},
      "outputs": [],
      "source": [
        "template = \"Give a name for a company that makes {what}\"\n",
        "\n",
        "prompt=template.format(what=\"Cars\")\n",
        "print(prompt)"
      ],
      "id": "5873515d"
    },
    {
      "cell_type": "markdown",
      "metadata": {},
      "source": [
        "Evaluate the template when `what=`“Books”\\`"
      ],
      "id": "363f886a-ff67-473e-9c15-76c84ed38ffa"
    },
    {
      "cell_type": "code",
      "execution_count": null,
      "metadata": {},
      "outputs": [],
      "source": [
        "prompt=template.format(what=\"Books\")\n",
        "print(prompt)"
      ],
      "id": "27239f3b"
    },
    {
      "cell_type": "markdown",
      "metadata": {},
      "source": [
        "Add another template variable for `num`\n",
        "\n",
        "Evaluate the template when `num=3` and `what=\"Cars\"`"
      ],
      "id": "681d15b6-1a49-4511-82d3-d04fb8b62960"
    },
    {
      "cell_type": "code",
      "execution_count": null,
      "metadata": {},
      "outputs": [],
      "source": [
        "template = \"Give {num} possible names for a company that makes {what}\"\n",
        "\n",
        "prompt=template.format(num=3, what=\"Cars\")\n",
        "print(prompt)"
      ],
      "id": "720bbb14"
    },
    {
      "cell_type": "markdown",
      "metadata": {},
      "source": [
        "Evaluate the template when `num=5` and `what=\"Bikes\"`"
      ],
      "id": "d8354344-c9bf-415e-8e72-d325a31ad7ee"
    },
    {
      "cell_type": "code",
      "execution_count": null,
      "metadata": {},
      "outputs": [],
      "source": [
        "prompt=template.format(num=5, what=\"Bikes\")\n",
        "print(prompt)"
      ],
      "id": "60a122b9"
    },
    {
      "cell_type": "markdown",
      "metadata": {},
      "source": [
        "Add something so we can specify the format."
      ],
      "id": "1dddd947-7506-4d44-a7ff-3d8e921701db"
    },
    {
      "cell_type": "code",
      "execution_count": null,
      "metadata": {},
      "outputs": [],
      "source": [
        "template = \"\"\"Give {num} possible names for a company that makes {what}. Give\n",
        "your answer in {format}\"\"\"\n",
        "prompt=template.format(num=3, what=\"Cars\", format=\"uppercase\")\n",
        "print(prompt)"
      ],
      "id": "f5f64c9f"
    },
    {
      "cell_type": "markdown",
      "metadata": {},
      "source": [
        "Create a prompt that asks for a different format."
      ],
      "id": "d20ee2cf-e20c-4313-b811-d65354b21a34"
    },
    {
      "cell_type": "code",
      "execution_count": null,
      "metadata": {},
      "outputs": [],
      "source": [
        "#Evaluate the template\n",
        "prompt=template.format(num=3, what=\"Cars\", format=\"a markdown table\")\n",
        "print(prompt)"
      ],
      "id": "ab4b41a7"
    },
    {
      "cell_type": "markdown",
      "metadata": {},
      "source": [
        "We can use multi-line strings for the prompts."
      ],
      "id": "09eb5bb7-bdfc-4cef-bd32-caca255fe496"
    },
    {
      "cell_type": "code",
      "execution_count": null,
      "metadata": {},
      "outputs": [],
      "source": [
        "template =\"\"\"Give {num} possible names for a company that makes {what}.\n",
        "Give your answer in {format}\"\"\"\n",
        "\n",
        "#Evaluate the template\n",
        "prompt=template.format(num=3, what=\"Cars\", format=\"a bullet list\")\n",
        "print(prompt)"
      ],
      "id": "c4a90ecd"
    }
  ],
  "nbformat": 4,
  "nbformat_minor": 5,
  "metadata": {
    "kernelspec": {
      "name": "python3",
      "display_name": "Python 3 (ipykernel)",
      "language": "python"
    }
  }
}